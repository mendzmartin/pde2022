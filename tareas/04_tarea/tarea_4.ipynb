{
 "cells": [
  {
   "cell_type": "markdown",
   "metadata": {},
   "source": [
    "## Fecha de Entrega: 10/01/2022"
   ]
  },
  {
   "cell_type": "code",
   "execution_count": 1,
   "metadata": {},
   "outputs": [],
   "source": [
    "using LaTeXStrings"
   ]
  },
  {
   "cell_type": "markdown",
   "metadata": {},
   "source": [
    "# Tarea 4\n",
    "\n",
    "### Importante 1: ###\n",
    "Este notebook está diseñado para ejecutar en Julia. Note que debe incluir (y por lo tanto tener en el mismo directorio) al archivo `choques_utils.jl`.\n",
    "\n",
    "### Importante 2: ###\n",
    "\n",
    "Renombre el archivo como: \n",
    "**nombre_grupo_tarea_5.ipynb**\n",
    "\n",
    "**Todo el código generado y la presentación deberá estar incluida en este notebook.**\n",
    "\n",
    "**El objetivo de la tarea es variado:**\n",
    "\n",
    "1. Familiarizarse con el fenómeno de la formación de choques.\n",
    "2. Familiarizarse con los métodos de captura de choques.\n",
    "3. Transitar por el proceso de implementar un nuevo código.\n",
    "\n",
    "\n",
    "**1)** En el directorio encontrará un notebook con distintos métodos de captura de choque. \n",
    "Uno de segundo orden *KT2* y otro de quinto orden, *MP5*. Ambos evolucionan tanto la ecuación de advección, ($u_t = c u_x$), como la de Burgers, $u_t = \\frac{1}{2}(u^2)_x$. Lo hacen en un círculo (condiciones de borde periódicas) de longitud L.\n",
    "\n",
    "Evolucione ambas (con el MP5): \n",
    "\n",
    "1. Para la primera verifique que la solución se mueve a velocidad constante.\n",
    "2. Para la segunda verifique que se forma un choque a un dado tiempo. \n",
    "    1. Discuta como encontrar cúando se forma el choque y donde.\n",
    "    2. Vea que el tiempo de formación del choque coincide con el tiempo teórico calculado. \n",
    "    3. Observe que el choque decae en el tiempo, encuentre experimentalmente cual es la ley de decaimiento.\n",
    "    \n",
    "**2)** Evolucione la ecuación de advección con ambos códigos: \n",
    "\n",
    "1. Compare los resultados y describa que sucede. Compare con distintos valores de $\\theta$\n",
    "2. Compare con lo que obtendría usando un método usual de diferencias finitas de 4to orden. \n",
    "\n",
    "Repita el primer punto con la ecuación de Burgers.\n",
    "\n",
    "**3)** Elija un sistema en D=1 que sea de tipo conservativo e implemente un código para evolucionarlo. \n",
    "Estos dos sistemas que siguen se dan como ejemplos, pero ustedes pueden elegir cualquier otro. \n",
    "Es mejor si tienen conocimiento del comportamiento del sistema que elijan.\n",
    "\n",
    "1. Euler: las variables son la densidad $\\rho$ y el momento $p^x$, $U=(\\rho, p^x)$.\n",
    "\n",
    "\\begin{align*}\n",
    "    \\dot{\\rho} &=& -\\partial_x(p^x) \\\\\n",
    "    \\dot{p^x} &=& -\\partial_x(\\frac{p^x p^x}{\\rho} + p_0 \\rho^{\\gamma})\n",
    "\\end{align*}\n",
    "\n",
    "(*) aquí p_0 es la presión y es una constante\n",
    "\n",
    "Con un valor recomendado de $\\gamma = 1.3$. Debe tomar un dato inicial donde $\\rho$ sea positiva y no cercana a cero. La velocidad de propagación del fluido es: $c^2 = \\frac{dp}{d\\rho} = \\gamma p/\\rho = \\gamma p_0 \\rho^{\\gamma-1}$\n",
    "    \n",
    "2. Force-Free: las variables son el campo magnético (componente y) y el vector de Poyting (componentes x e y), $U = (S^x, S^y, B^y)$\n",
    "\\begin{align*}\n",
    "    \\dot{S^x} &=& -\\partial_x(T^{xx}) = \\partial_x(-e + B_x^2) \\\\\n",
    "    \\dot{S^y} &=& -\\partial_x(T^{xy}) = \\partial_x(B_xB_y) \\\\\n",
    "    \\dot{B^y} &=& \\partial_x(v^x B^y + v^y B^x) \n",
    "\\end{align*}\n",
    "\n",
    "(*) Aquí T es el tensor energía-momento, S es el vector de Poyting y B es el campo magnético\n",
    "\n",
    "Donde, $e = \\frac{1}{2}(E_z^2 + B_x^2 + B_y^2) = \\frac{1}{2}(\\frac{S_x^2+S_y^2}{B_x^2+B_y^2}+B_x^2+B_y^2)$ y $v^i = \\frac{S^i}{B^2}$. Para esta ecuación $B^x$ es una constante *distinta de cero*. Además $S^i$ tiene que ser perpendicular $\\sum_i S^i B^i = 0$ con $\\sum_i (v^i) < 1$. Con i ={x,y}\n",
    "\n"
   ]
  },
  {
   "cell_type": "markdown",
   "metadata": {},
   "source": []
  },
  {
   "cell_type": "code",
   "execution_count": 4,
   "metadata": {},
   "outputs": [
    {
     "data": {
      "text/plain": [
       "push! (generic function with 26 methods)"
      ]
     },
     "metadata": {},
     "output_type": "display_data"
    }
   ],
   "source": [
    "https://en.wikipedia.org/wiki/Shallow_water_equations"
   ]
  },
  {
   "cell_type": "code",
   "execution_count": null,
   "metadata": {},
   "outputs": [],
   "source": []
  }
 ],
 "metadata": {
  "kernelspec": {
   "display_name": "Julia 1.8.0",
   "language": "julia",
   "name": "julia-1.8"
  },
  "language_info": {
   "file_extension": ".jl",
   "mimetype": "application/julia",
   "name": "julia",
   "version": "1.8.0"
  },
  "latex_envs": {
   "LaTeX_envs_menu_present": true,
   "autoclose": false,
   "autocomplete": true,
   "bibliofile": "biblio.bib",
   "cite_by": "apalike",
   "current_citInitial": 1,
   "eqLabelWithNumbers": true,
   "eqNumInitial": 1,
   "hotkeys": {
    "equation": "Ctrl-E",
    "itemize": "Ctrl-I"
   },
   "labels_anchors": false,
   "latex_user_defs": false,
   "report_style_numbering": false,
   "user_envs_cfg": false
  }
 },
 "nbformat": 4,
 "nbformat_minor": 4
}
