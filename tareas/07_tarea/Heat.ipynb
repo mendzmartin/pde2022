{
 "cells": [
  {
   "cell_type": "markdown",
   "id": "e5dc48c4-47c1-41cf-b0b3-3029c289527f",
   "metadata": {},
   "source": [
    "## Heat Equation ##"
   ]
  },
  {
   "cell_type": "markdown",
   "id": "c28df877-709f-497c-a4ec-bdcb5d1686cd",
   "metadata": {},
   "source": [
    "We are going to solve the heat equation on a domain $\\Omega_h$ with Dirichlet / Neumann boundary contitions."
   ]
  },
  {
   "cell_type": "markdown",
   "id": "b59d4ca5-8032-4e4d-a905-bf3544cce615",
   "metadata": {},
   "source": [
    "The equation to solve is:\n",
    "\n",
    "$$\n",
    "\\frac{\\partial u}{\\partial t} = \\Delta u \n",
    "$$\n",
    "\n",
    "Which we solve using,\n",
    "\n",
    "$$\n",
    "(u - u_n) = dt *  \\Delta (\\theta u + (1-\\theta)u_n)\n",
    "$$\n",
    "\n",
    "As time integrator, here $u = u_{n+1}$. Since the eigenvalues of $\\Delta$ are proportional to $\\Delta x^2$, $\\lambda = -c/\\Delta x^2$, $c > 0$, we must be carefull with the stability region of the method. We have, for each eigenfunction, \n",
    "\n",
    "$$\n",
    "(1 - \\theta \\lambda dt)u = (1 + (1-\\theta) \\lambda dt )u_n\n",
    "$$\n",
    "\n",
    "Thus, the amplification factor is: \n",
    "\n",
    "$$\n",
    "|\\frac{1 + (1-\\theta)\\lambda dt}{1 - \\theta \\lambda dt }| \n",
    "$$\n",
    "\n",
    "and the system is unconditionaly stable if $\\theta \\geq 0.5$.\n",
    "\n",
    "\n",
    "\n",
    "We shall use its weak form,\n",
    "\n",
    "$$\n",
    "\\int [2 v*u +  \\nabla v \\cdot \\nabla u ] \\; d\\Omega = \\int [2*v*u_n - \\nabla v \\cdot \\nabla u_n ] \\; d\\Omega\n",
    "$$\n",
    "\n"
   ]
  },
  {
   "cell_type": "code",
   "execution_count": 1,
   "id": "243cd6dc-15ba-4989-90c6-84e1317cc327",
   "metadata": {},
   "outputs": [
    {
     "name": "stderr",
     "output_type": "stream",
     "text": [
      "\u001b[32m\u001b[1m  Activating\u001b[22m\u001b[39m project at `~/Docencia/PDE/pde/2022/Numéricos/Tarea_7/gridap_makie`\n"
     ]
    }
   ],
   "source": [
    "import Pkg; Pkg.activate(\"gridap_makie\")\n",
    "using Gridap\n",
    "using GridapMakie\n",
    "using GLMakie; GLMakie.activate!() #WGLMakie\n",
    "using FileIO\n",
    "#using Plots\n",
    "#mkdir(\"models\")\n",
    "#mkdir(\"images\")\n",
    "using GridapGmsh\n",
    "using Gmsh\n",
    "#using GridapGeosciences\n",
    "using Gridap.Arrays\n",
    "#using Gridap.TensorValues\n",
    "using Gridap.ReferenceFEs\n",
    "#using Gridap.Geometry\n",
    "#using Gridap.Fields\n",
    "using Gridap.Algebra\n",
    "using SparseArrays\n",
    "using Gridap.FESpaces\n",
    "using Gridap.CellData"
   ]
  },
  {
   "cell_type": "code",
   "execution_count": 2,
   "id": "9ef33339-ad88-4232-844b-fc3b07bf5e26",
   "metadata": {},
   "outputs": [
    {
     "name": "stdout",
     "output_type": "stream",
     "text": [
      "dt = T / (num_steps - 1) = 0.0004\n",
      "dt / dx^2 = 1.4400000000000002   dt / dx = 0.024  dt^3 / dx^6 = 2.9859840000000006\n"
     ]
    }
   ],
   "source": [
    "n = 60\n",
    "domain = (0,1,0,1)\n",
    "partition = (n,n)\n",
    "model = CartesianDiscreteModel(domain, partition)\n",
    "\n",
    "\n",
    "#T = 0.2           # final time for test\n",
    "T = 0.8\n",
    "num_steps = 2001   # number of time steps for 128 T=3 \n",
    "#num_steps = 12000   # number of time steps for 128 T=6 \n",
    "#num_steps = 10000   # number of time steps for 64 T=3 \n",
    "#num_steps = 50000   # number of time steps for 64 T=6 \n",
    "@show dt = T / (num_steps-1) # time step size\n",
    "\n",
    "\n",
    "# Intervals where data is saved\n",
    "n_int = 40 # for 64\n",
    "#mod = 60 # for 128\n",
    "#mod = 120 # for 128 T=6\n",
    "#mod = 240 # for 256 T=3\n",
    "#mod = 480\n",
    "\n",
    "test_1 = false\n",
    "test_2 = false\n",
    "bump = false\n",
    "\n",
    "#test_1 = true\n",
    "test_2 = true # no funciona bien (Condiciones de Dirichlet no-homogéneas)\n",
    "#bump = true\n",
    "\n",
    "save_file = \"Results/Heat/\" #where to save things\n",
    "\n",
    "println(\"dt / dx^2 = $(dt * n^2)   dt / dx = $(dt * n)  dt^3 / dx^6 = $((dt * n^2)^3)\")"
   ]
  },
  {
   "cell_type": "markdown",
   "id": "1493e883-cb2b-48b3-9e5e-4c030a4dee55",
   "metadata": {},
   "source": [
    "The first number indicates what it would be the CFL condition for the explicit Euler method. The second a guide about taking time and space comparable steps. The third is proportinal to the error, obtained by expanding $\\frac{1 + i\\lambda dt /2}{1 - i\\lambda dt /2} - e^{i\\lambda dt}$"
   ]
  },
  {
   "cell_type": "code",
   "execution_count": 3,
   "id": "be7b49d7-3947-4440-93da-39ed7f8964e2",
   "metadata": {},
   "outputs": [],
   "source": [
    "labels = get_face_labeling(model)\n",
    "add_tag_from_tags!(labels,\"diri_all\",[1,2,3,4,5,6,7,8]);"
   ]
  },
  {
   "cell_type": "code",
   "execution_count": 4,
   "id": "41bb7a4b-747c-4088-b9f4-3ac6ab97bdc1",
   "metadata": {},
   "outputs": [
    {
     "data": {
      "text/plain": [
       "Measure()"
      ]
     },
     "execution_count": 4,
     "metadata": {},
     "output_type": "execute_result"
    }
   ],
   "source": [
    "order = 2\n",
    "degree = order\n",
    "Ωₕ = Triangulation(model)\n",
    "dΩₕ = Measure(Ωₕ,degree)"
   ]
  },
  {
   "cell_type": "code",
   "execution_count": null,
   "id": "dff10043-fc95-41bf-b15f-af4790342399",
   "metadata": {},
   "outputs": [],
   "source": [
    "#plot(Γ₁)\n",
    "ue(x) = x[1]\n",
    "Γ₁ = BoundaryTriangulation(model, tags=\"diri_all\")\n",
    "#Γ₁ = BoundaryTriangulation(model, tags=[5, 6, 7, 8])\n",
    "fig, ax, plt = plot(Γ₁, ue, colormap=:heat, linewidth=10)\n",
    "ax.aspect = AxisAspect(1)\n",
    "Colorbar(fig[1, 2], plt)\n",
    "#fig\n",
    "display(fig)"
   ]
  },
  {
   "cell_type": "code",
   "execution_count": null,
   "id": "b4704249-9c67-484a-8268-0e1c259183d5",
   "metadata": {},
   "outputs": [],
   "source": [
    "#scatter(BoundaryTriangulation(model,tags=[4]))\n"
   ]
  },
  {
   "cell_type": "markdown",
   "id": "d51d1d7a",
   "metadata": {},
   "source": [
    "We create the reference to the FE vector space."
   ]
  },
  {
   "cell_type": "code",
   "execution_count": 5,
   "id": "58407394-2cca-47b9-93fc-4b0655c9961c",
   "metadata": {},
   "outputs": [
    {
     "data": {
      "text/plain": [
       "(Lagrangian(), (Float64, 2), Base.Pairs{Symbol, Union{}, Tuple{}, NamedTuple{(), Tuple{}}}())"
      ]
     },
     "execution_count": 5,
     "metadata": {},
     "output_type": "execute_result"
    }
   ],
   "source": [
    "reffe = ReferenceFE(lagrangian, Float64, order)"
   ]
  },
  {
   "cell_type": "markdown",
   "id": "456a42ac",
   "metadata": {},
   "source": [
    "The test space has zero dirichlet data. \n",
    "The trial space can have a function as boundary value."
   ]
  },
  {
   "cell_type": "code",
   "execution_count": 6,
   "id": "aeb0c2c2-aabc-4a85-ab89-07633c6905f1",
   "metadata": {},
   "outputs": [
    {
     "data": {
      "text/plain": [
       "TrialFESpace()"
      ]
     },
     "execution_count": 6,
     "metadata": {},
     "output_type": "execute_result"
    }
   ],
   "source": [
    "V = TestFESpace(model,reffe,labels=labels,dirichlet_tags=[\"diri_all\"],conformity=:H1)\n",
    "\n",
    "if test_2 \n",
    "    u_b(x)= x[1] + 2*x[2]\n",
    "    U = TrialFESpace(V,u_b)\n",
    "else\n",
    "    U = TrialFESpace(V,0.0)\n",
    "end"
   ]
  },
  {
   "cell_type": "code",
   "execution_count": 7,
   "id": "6f7504d7-55b6-430b-adee-56d693e64253",
   "metadata": {},
   "outputs": [],
   "source": [
    "#=\n",
    "ls = LUSolver()\n",
    "solver = LinearFESolver(ls)\n",
    "=#"
   ]
  },
  {
   "cell_type": "markdown",
   "id": "569351a1",
   "metadata": {},
   "source": [
    "Next we set the initial data."
   ]
  },
  {
   "cell_type": "code",
   "execution_count": 8,
   "id": "72d31ef1-d5c9-462f-b736-368996c2f296",
   "metadata": {},
   "outputs": [
    {
     "data": {
      "text/plain": [
       "1.0"
      ]
     },
     "execution_count": 8,
     "metadata": {},
     "output_type": "execute_result"
    }
   ],
   "source": [
    "function u_0_bump(x,par) \n",
    "    r0, r1, p = par\n",
    "    r = sqrt((x[1]-0.5)^2 + (x[2]-0.5)^2)\n",
    "    if r >= r0 && r < r1\n",
    "        return (r+r1)^p*(r-r1)^p / (((r1-r0))^(2p))\n",
    "    else \n",
    "        return 0.0\n",
    "    end\n",
    "end\n",
    "\n",
    "function u_0_test_1(x,p)\n",
    "    n, m = p\n",
    "    return sin(π*x[1]*n)*sin(π*x[2]*m)\n",
    "end \n",
    "\n",
    "function u_0_test_2(x,p)\n",
    "    return u_b(x) + u_0_test_1(x,p) # we superpose two solutions \n",
    "end\n",
    "        \n",
    "function test_solution(x,t,p)\n",
    "    n, m = p\n",
    "    ω = -π^2*(n^2+m^2)\n",
    "    return u_0_test_1(x,p)*exp(ω*t) + (test_2)*u_b(x)\n",
    "end\n",
    "\n",
    "par_bump = (0.0, 0.25, 4)\n",
    "par_test = (2, 3)\n",
    "\n",
    "u_0_bump([0.5;0.5], par_bump)\n",
    "#u_0_test([0.5;0.5], par_test)    \n",
    "#u_0_particle([0.5;0.5], par_particle)\n"
   ]
  },
  {
   "cell_type": "code",
   "execution_count": 9,
   "id": "17621d2c-ee14-4917-82d1-a64d89c7d7c6",
   "metadata": {},
   "outputs": [
    {
     "data": {
      "text/plain": [
       "SingleFieldFEFunction():\n",
       " num_cells: 3600\n",
       " DomainStyle: ReferenceDomain()\n",
       " Triangulation: BodyFittedTriangulation()\n",
       " Triangulation id: 8570632251247264647"
      ]
     },
     "execution_count": 9,
     "metadata": {},
     "output_type": "execute_result"
    }
   ],
   "source": [
    "if test_1\n",
    "    u_0(x) = u_0_test_1(x,par_test)\n",
    "    save_file = save_file * \"test_1\"\n",
    "elseif test_2\n",
    "    u_0(x) = u_0_test_2(x,par_test)\n",
    "    save_file = save_file * \"test_2\"\n",
    "elseif bump\n",
    "    save_file = save_file * \"bump\"\n",
    "    u_0(x) = u_0_bump(x, par_bump)  \n",
    "end\n",
    "\n",
    "u_n = interpolate_everywhere(u_0,U)\n",
    "\n",
    "#plot(Ωₕ, u_n)"
   ]
  },
  {
   "cell_type": "code",
   "execution_count": 11,
   "id": "c780a78b-1974-466d-b656-9dd035c1bffe",
   "metadata": {},
   "outputs": [
    {
     "ename": "LoadError",
     "evalue": "Buffer vertices does not have the same length as the other buffers.\n\tvertex_color has length 14400\n\tvertices has length 21600",
     "output_type": "error",
     "traceback": [
      "Buffer vertices does not have the same length as the other buffers.\n\tvertex_color has length 14400\n\tvertices has length 21600",
      "",
      "Stacktrace:",
      "  [1] error(s::String)",
      "    @ Base ./error.jl:35",
      "  [2] GLMakie.GLAbstraction.GLVertexArray(bufferdict::Dict{Symbol, Any}, program::GLMakie.GLAbstraction.GLProgram)",
      "    @ GLMakie.GLAbstraction ~/.julia/packages/GLMakie/x68HK/src/GLAbstraction/GLTypes.jl:219",
      "  [3] GLMakie.GLAbstraction.RenderObject(data::Dict{Symbol, Any}, program::GLMakie.GLVisualizeShader, pre::GLMakie.GLAbstraction.StandardPrerender, post::GLFW.Window, context::GLFW.Window)",
      "    @ GLMakie.GLAbstraction ~/.julia/packages/GLMakie/x68HK/src/GLAbstraction/GLTypes.jl:365",
      "  [4] GLMakie.GLAbstraction.RenderObject(data::Dict{Symbol, Any}, program::GLMakie.GLVisualizeShader, pre::GLMakie.GLAbstraction.StandardPrerender, post::GLFW.Window)",
      "    @ GLMakie.GLAbstraction ~/.julia/packages/GLMakie/x68HK/src/GLAbstraction/GLTypes.jl:329",
      "  [5] assemble_shader(data::Dict{Symbol, Any})",
      "    @ GLMakie ~/.julia/packages/GLMakie/x68HK/src/glshaders/visualize_interface.jl:108",
      "  [6] draw_mesh(screen::GLMakie.Screen{GLFW.Window}, mesh::Any, data::Dict{Symbol, Any})",
      "    @ GLMakie ~/.julia/packages/GLMakie/x68HK/src/glshaders/mesh.jl:59",
      "  [7] mesh_inner(screen::GLMakie.Screen{GLFW.Window}, mesh::Observable{GeometryBasics.Mesh{2, Float32, GeometryBasics.Ngon{2, Float32, 3, GeometryBasics.Point{2, Float32}}, GeometryBasics.SimpleFaceView{2, Float32, 3, GeometryBasics.OffsetInteger{-1, UInt32}, GeometryBasics.Point{2, Float32}, GeometryBasics.NgonFace{3, GeometryBasics.OffsetInteger{-1, UInt32}}}}}, transfunc::Observable{Any}, gl_attributes::Dict{Symbol, Any})",
      "    @ GLMakie ~/.julia/packages/GLMakie/x68HK/src/drawing_primitives.jl:484",
      "  [8] (::GLMakie.var\"#233#234\"{GLMakie.Screen{GLFW.Window}, Scene, Mesh{Tuple{GeometryBasics.Mesh{2, Float32, GeometryBasics.Ngon{2, Float32, 3, GeometryBasics.Point{2, Float32}}, GeometryBasics.SimpleFaceView{2, Float32, 3, GeometryBasics.OffsetInteger{-1, UInt32}, GeometryBasics.Point{2, Float32}, GeometryBasics.NgonFace{3, GeometryBasics.OffsetInteger{-1, UInt32}}}}}}})(gl_attributes::Dict{Symbol, Any})",
      "    @ GLMakie ~/.julia/packages/GLMakie/x68HK/src/drawing_primitives.jl:491",
      "  [9] (::GLMakie.var\"#165#168\"{GLMakie.var\"#233#234\"{GLMakie.Screen{GLFW.Window}, Scene, Mesh{Tuple{GeometryBasics.Mesh{2, Float32, GeometryBasics.Ngon{2, Float32, 3, GeometryBasics.Point{2, Float32}}, GeometryBasics.SimpleFaceView{2, Float32, 3, GeometryBasics.OffsetInteger{-1, UInt32}, GeometryBasics.Point{2, Float32}, GeometryBasics.NgonFace{3, GeometryBasics.OffsetInteger{-1, UInt32}}}}}}}, GLMakie.Screen{GLFW.Window}, Scene, Mesh{Tuple{GeometryBasics.Mesh{2, Float32, GeometryBasics.Ngon{2, Float32, 3, GeometryBasics.Point{2, Float32}}, GeometryBasics.SimpleFaceView{2, Float32, 3, GeometryBasics.OffsetInteger{-1, UInt32}, GeometryBasics.Point{2, Float32}, GeometryBasics.NgonFace{3, GeometryBasics.OffsetInteger{-1, UInt32}}}}}}})()",
      "    @ GLMakie ~/.julia/packages/GLMakie/x68HK/src/drawing_primitives.jl:109",
      " [10] get!(default::GLMakie.var\"#165#168\"{GLMakie.var\"#233#234\"{GLMakie.Screen{GLFW.Window}, Scene, Mesh{Tuple{GeometryBasics.Mesh{2, Float32, GeometryBasics.Ngon{2, Float32, 3, GeometryBasics.Point{2, Float32}}, GeometryBasics.SimpleFaceView{2, Float32, 3, GeometryBasics.OffsetInteger{-1, UInt32}, GeometryBasics.Point{2, Float32}, GeometryBasics.NgonFace{3, GeometryBasics.OffsetInteger{-1, UInt32}}}}}}}, GLMakie.Screen{GLFW.Window}, Scene, Mesh{Tuple{GeometryBasics.Mesh{2, Float32, GeometryBasics.Ngon{2, Float32, 3, GeometryBasics.Point{2, Float32}}, GeometryBasics.SimpleFaceView{2, Float32, 3, GeometryBasics.OffsetInteger{-1, UInt32}, GeometryBasics.Point{2, Float32}, GeometryBasics.NgonFace{3, GeometryBasics.OffsetInteger{-1, UInt32}}}}}}}, h::Dict{UInt64, GLMakie.GLAbstraction.RenderObject}, key::UInt64)",
      "    @ Base ./dict.jl:481",
      " [11] cached_robj!(robj_func::GLMakie.var\"#233#234\"{GLMakie.Screen{GLFW.Window}, Scene, Mesh{Tuple{GeometryBasics.Mesh{2, Float32, GeometryBasics.Ngon{2, Float32, 3, GeometryBasics.Point{2, Float32}}, GeometryBasics.SimpleFaceView{2, Float32, 3, GeometryBasics.OffsetInteger{-1, UInt32}, GeometryBasics.Point{2, Float32}, GeometryBasics.NgonFace{3, GeometryBasics.OffsetInteger{-1, UInt32}}}}}}}, screen::GLMakie.Screen{GLFW.Window}, scene::Scene, x::Mesh{Tuple{GeometryBasics.Mesh{2, Float32, GeometryBasics.Ngon{2, Float32, 3, GeometryBasics.Point{2, Float32}}, GeometryBasics.SimpleFaceView{2, Float32, 3, GeometryBasics.OffsetInteger{-1, UInt32}, GeometryBasics.Point{2, Float32}, GeometryBasics.NgonFace{3, GeometryBasics.OffsetInteger{-1, UInt32}}}}}})",
      "    @ GLMakie ~/.julia/packages/GLMakie/x68HK/src/drawing_primitives.jl:83",
      " [12] draw_atomic",
      "    @ ~/.julia/packages/GLMakie/x68HK/src/drawing_primitives.jl:488 [inlined]",
      " [13] insert!(screen::GLMakie.Screen{GLFW.Window}, scene::Scene, x::Mesh{Tuple{GeometryBasics.Mesh{2, Float32, GeometryBasics.Ngon{2, Float32, 3, GeometryBasics.Point{2, Float32}}, GeometryBasics.SimpleFaceView{2, Float32, 3, GeometryBasics.OffsetInteger{-1, UInt32}, GeometryBasics.Point{2, Float32}, GeometryBasics.NgonFace{3, GeometryBasics.OffsetInteger{-1, UInt32}}}}}})",
      "    @ GLMakie ~/.julia/packages/GLMakie/x68HK/src/drawing_primitives.jl:124",
      " [14] (::GLMakie.var\"#171#172\"{GLMakie.Screen{GLFW.Window}, Scene})(x::Mesh{Tuple{GeometryBasics.Mesh{2, Float32, GeometryBasics.Ngon{2, Float32, 3, GeometryBasics.Point{2, Float32}}, GeometryBasics.SimpleFaceView{2, Float32, 3, GeometryBasics.OffsetInteger{-1, UInt32}, GeometryBasics.Point{2, Float32}, GeometryBasics.NgonFace{3, GeometryBasics.OffsetInteger{-1, UInt32}}}}}})",
      "    @ GLMakie ~/.julia/packages/GLMakie/x68HK/src/drawing_primitives.jl:129",
      " [15] foreach(f::GLMakie.var\"#171#172\"{GLMakie.Screen{GLFW.Window}, Scene}, itr::Vector{AbstractPlot})",
      "    @ Base ./abstractarray.jl:2774",
      " [16] insert!(screen::GLMakie.Screen{GLFW.Window}, scene::Scene, x::Mesh{Tuple{GridapMakie.PlotGrid{Gridap.Visualization.VisualizationGrid{2, 2}}}})",
      "    @ GLMakie ~/.julia/packages/GLMakie/x68HK/src/drawing_primitives.jl:126",
      " [17] (::GLMakie.var\"#171#172\"{GLMakie.Screen{GLFW.Window}, Scene})(x::Mesh{Tuple{GridapMakie.PlotGrid{Gridap.Visualization.VisualizationGrid{2, 2}}}})",
      "    @ GLMakie ~/.julia/packages/GLMakie/x68HK/src/drawing_primitives.jl:129",
      " [18] foreach(f::GLMakie.var\"#171#172\"{GLMakie.Screen{GLFW.Window}, Scene}, itr::Vector{AbstractPlot})",
      "    @ Base ./abstractarray.jl:2774",
      " [19] insert!(screen::GLMakie.Screen{GLFW.Window}, scene::Scene, x::Combined{GridapMakie.meshfield, Tuple{Gridap.Geometry.BodyFittedTriangulation{2, 2, CartesianDiscreteModel{2, Float64, typeof(identity)}, CartesianGrid{2, Float64, typeof(identity)}, IdentityVector{Int64}}, Gridap.CellData.OperationCellField{ReferenceDomain}}})",
      "    @ GLMakie ~/.julia/packages/GLMakie/x68HK/src/drawing_primitives.jl:126",
      " [20] insertplots!(screen::GLMakie.Screen{GLFW.Window}, scene::Scene)",
      "    @ GLMakie ~/.julia/packages/GLMakie/x68HK/src/screen.jl:306",
      " [21] (::GLMakie.var\"#44#46\"{GLMakie.Screen{GLFW.Window}})(s::Scene)",
      "    @ GLMakie ~/.julia/packages/GLMakie/x68HK/src/screen.jl:308",
      " [22] foreach(f::GLMakie.var\"#44#46\"{GLMakie.Screen{GLFW.Window}}, itr::Vector{Scene})",
      "    @ Base ./abstractarray.jl:2774",
      " [23] insertplots!(screen::GLMakie.Screen{GLFW.Window}, scene::Scene)",
      "    @ GLMakie ~/.julia/packages/GLMakie/x68HK/src/screen.jl:308",
      " [24] (::GLMakie.var\"#44#46\"{GLMakie.Screen{GLFW.Window}})(s::Scene)",
      "    @ GLMakie ~/.julia/packages/GLMakie/x68HK/src/screen.jl:308",
      " [25] foreach(f::GLMakie.var\"#44#46\"{GLMakie.Screen{GLFW.Window}}, itr::Vector{Scene})",
      "    @ Base ./abstractarray.jl:2774",
      " [26] insertplots!(screen::GLMakie.Screen{GLFW.Window}, scene::Scene)",
      "    @ GLMakie ~/.julia/packages/GLMakie/x68HK/src/screen.jl:308",
      " [27] display(screen::GLMakie.Screen{GLFW.Window}, scene::Scene; connect::Bool)",
      "    @ GLMakie ~/.julia/packages/GLMakie/x68HK/src/display.jl:12",
      " [28] display",
      "    @ ~/.julia/packages/GLMakie/x68HK/src/display.jl:1 [inlined]",
      " [29] #display#982",
      "    @ ~/.julia/packages/Makie/iY5BJ/src/display.jl:133 [inlined]",
      " [30] display(screen::GLMakie.Screen{GLFW.Window}, figlike::Figure)",
      "    @ Makie ~/.julia/packages/Makie/iY5BJ/src/display.jl:130",
      " [31] display(figlike::Figure; backend::Module, screen_config::Base.Pairs{Symbol, Union{}, Tuple{}, NamedTuple{(), Tuple{}}})",
      "    @ Makie ~/.julia/packages/Makie/iY5BJ/src/display.jl:123",
      " [32] display(figlike::Figure)",
      "    @ Makie ~/.julia/packages/Makie/iY5BJ/src/display.jl:109",
      " [33] top-level scope",
      "    @ In[11]:4",
      " [34] eval",
      "    @ ./boot.jl:368 [inlined]",
      " [35] include_string(mapexpr::typeof(REPL.softscope), mod::Module, code::String, filename::String)",
      "    @ Base ./loading.jl:1428"
     ]
    }
   ],
   "source": [
    "fig, ax, plt = plot(Ωₕ, real(u_n))\n",
    "ax.aspect = AxisAspect(1)\n",
    "Colorbar(fig[2,1], plt, vertical=false)\n",
    "display(fig)"
   ]
  },
  {
   "cell_type": "markdown",
   "id": "7ce1d218-bacf-4c29-860b-9d3c130f547e",
   "metadata": {},
   "source": [
    "To generate just once the matrix A we follow this example: https://github.com/gridap/Gridap.jl/blob/master/test/FESpacesTests/AssemblersTests.jl\n",
    "\n"
   ]
  },
  {
   "cell_type": "code",
   "execution_count": null,
   "id": "196c48e6",
   "metadata": {},
   "outputs": [],
   "source": [
    "norm_L2(u) = sqrt(real(sum(∫(u' * u) * dΩₕ)))"
   ]
  },
  {
   "cell_type": "code",
   "execution_count": null,
   "id": "a80110b2-e76d-4681-82a8-2adfca84dcfd",
   "metadata": {},
   "outputs": [],
   "source": [
    "assem = SparseMatrixAssembler(U,V)\n",
    "dv = get_fe_basis(V)\n",
    "du = get_trial_fe_basis(U)\n",
    "\n",
    "a(u,v) = ∫(∇(v) ⋅ ∇(u)*dt + 2*v*u)dΩₕ\n",
    "\n",
    "mat_contribs = a(du,dv)\n",
    "data = collect_cell_matrix(U,V,mat_contribs)\n",
    "A = assemble_matrix(assem,data)"
   ]
  },
  {
   "cell_type": "code",
   "execution_count": null,
   "id": "54d17d20-a131-483f-b92e-5263f63a5155",
   "metadata": {},
   "outputs": [],
   "source": [
    "t = 0\n",
    "u_n = interpolate_everywhere(u_0,U)\n",
    "writevtk(\n",
    "          Ωₕ,save_file * \"_$(lpad(0,3,'0'))\",\n",
    "          cellfields=[\"T\"=>u_n])\n",
    "\n",
    "if test_1 || test_2 \n",
    "    e = zeros(num_steps ÷ n_int)\n",
    "end\n",
    "    \n",
    "for istep in 1:num_steps\n",
    "\n",
    "    if (istep-1) % n_int == 0 && istep > 1\n",
    "        writevtk(\n",
    "          Ωₕ, save_file * \"_$(lpad(istep,3,'0'))\",\n",
    "          cellfields=[\"T\"=>u_n])\n",
    "        if test_1 || test_2\n",
    "            u_0(x) = test_solution(x,t,par_test)\n",
    "            u_s = interpolate_everywhere(u_0,U)\n",
    "            error = norm_L2(u_n - u_s)\n",
    "            e[(istep-1) ÷ n_int] = error\n",
    "            l2 = norm_L2(u_n)\n",
    "            println(\"time = $t, error = $(error), l2 = $(l2)\")\n",
    "            #println(\"\")\n",
    "        else\n",
    "        println(\"Solving in step $istep of $num_steps\")\n",
    "        end\n",
    "    end\n",
    "    \n",
    "    b(v) = ∫(∇(v) ⋅ ∇(-u_n)*dt + 2*v*u_n)dΩₕ\n",
    "    vec_contribs = b(dv)\n",
    "    data = collect_cell_vector(V,vec_contribs)\n",
    "    bv = assemble_vector(assem,data)\n",
    "    \n",
    "    #op = AffineFEOperator(a,b,U,V)\n",
    "    #uh = solve(solver,op)\n",
    "    x = A \\ bv\n",
    "    t = t+dt\n",
    "    uh = FEFunction(U,x)\n",
    "    u_n = uh\n",
    "    \n",
    "    \n",
    "        \n",
    "\n",
    "end"
   ]
  },
  {
   "cell_type": "markdown",
   "id": "4913cca6-a50c-4cbd-8425-88ed3eb15cf0",
   "metadata": {},
   "source": [
    "Vemos que para el `test_1` el error tiene un crecimiento lineal, tal como se espera. Mientras que para el `test_2` se ve que rápidamente satura con un error grande. En el gráfico se ve que llega a una solución interna distinta a la de los datos de contorno."
   ]
  },
  {
   "cell_type": "code",
   "execution_count": null,
   "id": "5b99bf2a-7571-4acf-9396-857e791dbcfd",
   "metadata": {},
   "outputs": [],
   "source": [
    "if test_1 || test_2\n",
    "    scatter(e)\n",
    "end"
   ]
  },
  {
   "cell_type": "code",
   "execution_count": null,
   "id": "9db2368d-9e59-47a8-90dd-5dc00df269b9",
   "metadata": {},
   "outputs": [],
   "source": []
  },
  {
   "cell_type": "code",
   "execution_count": null,
   "id": "4a77d871-8d63-410b-ac15-6d49f42c412e",
   "metadata": {},
   "outputs": [],
   "source": []
  }
 ],
 "metadata": {
  "kernelspec": {
   "display_name": "Julia 1.8.1",
   "language": "julia",
   "name": "julia-1.8"
  },
  "language_info": {
   "file_extension": ".jl",
   "mimetype": "application/julia",
   "name": "julia",
   "version": "1.8.1"
  }
 },
 "nbformat": 4,
 "nbformat_minor": 5
}
