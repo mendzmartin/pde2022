{
 "cells": [
  {
   "cell_type": "markdown",
   "id": "e5dc48c4-47c1-41cf-b0b3-3029c289527f",
   "metadata": {},
   "source": [
    "## Schrödinger Equation ##"
   ]
  },
  {
   "cell_type": "markdown",
   "id": "c28df877-709f-497c-a4ec-bdcb5d1686cd",
   "metadata": {},
   "source": [
    "We are going to solve the Schrodinger equation on a domain $\\Omega_h$ with Dirichlet boundary contitions."
   ]
  },
  {
   "cell_type": "markdown",
   "id": "b59d4ca5-8032-4e4d-a905-bf3544cce615",
   "metadata": {},
   "source": [
    "The equation to solve is:\n",
    "\n",
    "$$\n",
    "i \\frac{\\partial u}{\\partial t} = \\Delta u \n",
    "$$\n",
    "\n",
    "Which we solve using, (Implicit Euler Method)\n",
    "\n",
    "$$\n",
    "i (u - u_n) = dt *  \\Delta (u + u_n)/2\n",
    "$$\n",
    "\n",
    "As time integrator, here $u = u_{n+1}$. Since the eigenvalues of $\\Delta$ are proportional to $\\Delta x^2$, $\\lambda = -c/\\Delta x^2$, $c > 0$, we must be carefull with the stability region of the method. We have, for each eigenfunction, \n",
    "\n",
    "$$\n",
    "(i - \\lambda dt/2)u = (i + \\lambda dt /2 )u_n\n",
    "$$\n",
    "\n",
    "Thus, the amplification factor is: \n",
    "\n",
    "$$\n",
    "\\left\\|\\frac{1 + i\\lambda dt /2}{1 - i\\lambda dt /2}\\right\\| = 1\n",
    "$$\n",
    "\n",
    "and the system is unconditionaly stable.\n",
    "\n",
    "\n",
    "\n",
    "We shall use its weak form,\n",
    "\n",
    "$$\n",
    "\\int [2i v*u +  \\nabla v \\cdot \\nabla u ] \\; d\\Omega = \\int [2i*v*u_n - \\nabla v \\cdot \\nabla u_n ] \\; d\\Omega\n",
    "$$\n",
    "\n"
   ]
  },
  {
   "cell_type": "code",
   "execution_count": 72,
   "id": "243cd6dc-15ba-4989-90c6-84e1317cc327",
   "metadata": {},
   "outputs": [
    {
     "name": "stderr",
     "output_type": "stream",
     "text": [
      "\u001b[32m\u001b[1m  Activating\u001b[22m\u001b[39m project at `~/github_repositories/my_repositories/pde2022/tareas/07_tarea/gridap_makie`\n"
     ]
    }
   ],
   "source": [
    "import Pkg; Pkg.activate(\"./gridap_makie\"); # activamos el proyecto \"gridap_makie\" donde se intalarán todos los paquetes\n",
    "using Gridap;\n",
    "using GridapGmsh;\n",
    "# using Gmsh;\n",
    "\n",
    "# en caso de querer plotear dentro de Jupiter Notebook\n",
    "#  debemos usar algunos paquetes. (no funciona en VSCode)\n",
    "plot_s = false;\n",
    "if plot_s\n",
    "    using GridapMakie, GLMakie; #Para graficar \n",
    "    using FileIO;               #Gráficos y salidas\n",
    "end\n",
    "\n",
    "# crear directorios en caso de no haberlo hecho\n",
    "create_directories = false;\n",
    "if (create_directories==true)\n",
    "    mkdir(\"models\");\n",
    "    mkdir(\"images\");\n",
    "end"
   ]
  },
  {
   "cell_type": "code",
   "execution_count": 73,
   "id": "f8b9e02e",
   "metadata": {},
   "outputs": [],
   "source": [
    "#using GridapGeosciences\n",
    "using Gridap.Arrays\n",
    "#using Gridap.TensorValues\n",
    "using Gridap.ReferenceFEs\n",
    "#using Gridap.Geometry\n",
    "#using Gridap.Fields\n",
    "using Gridap.Algebra\n",
    "using SparseArrays\n",
    "using Gridap.FESpaces\n",
    "using Gridap.CellData"
   ]
  },
  {
   "cell_type": "code",
   "execution_count": 74,
   "id": "9ef33339-ad88-4232-844b-fc3b07bf5e26",
   "metadata": {},
   "outputs": [
    {
     "name": "stdout",
     "output_type": "stream",
     "text": [
      "dt / dx^2 = 12.0   dt / dx = 0.15  dt^3 / dx^6 = 1728.0\n"
     ]
    }
   ],
   "source": [
    "l = 80;                  # cantidad de elementos por dimensión\n",
    "domain = (0, 1, 0, 1);   # definimos el dominio dado por coordenadas\n",
    "partition = (l, l);      # definimos grilla\n",
    "model = CartesianDiscreteModel(domain, partition)\n",
    "# dynamic viscosity\n",
    "\n",
    "test = false;\n",
    "bump = false;\n",
    "particle = true;\n",
    "\n",
    "save_file::String = \"./results/QM/\"\n",
    "\n",
    "if test\n",
    "    T = 1 / π\n",
    "    num_steps = 1000\n",
    "    n_int = 100\n",
    "    save_file = save_file * \"test\" #where to save things\n",
    "elseif bump\n",
    "    save_file = save_file * \"bump\"\n",
    "    T = 4\n",
    "    num_steps = 1601\n",
    "    n_int = 160\n",
    "elseif particle\n",
    "    save_file = save_file * \"particle\"\n",
    "    T = 3           # final time for test\n",
    "\n",
    "    num_steps = 1601   # number of time steps for 128 T=3 \n",
    "    #num_steps = 12000   # number of time steps for 128 T=6 \n",
    "    #num_steps = 10000   # number of time steps for 64 T=3 \n",
    "    #num_steps = 50000   # number of time steps for 64 T=6 \n",
    "        # Intervals where data is saved\n",
    "    n_int = 160 # for 64\n",
    "    #mod = 60 # for 128\n",
    "    #mod = 120 # for 128 T=6\n",
    "    #mod = 240 # for 256 T=3\n",
    "    #mod = 480\n",
    "end"
   ]
  },
  {
   "cell_type": "code",
   "execution_count": null,
   "id": "00dceddb",
   "metadata": {},
   "outputs": [],
   "source": [
    "dt = T / (num_steps - 1)\n",
    "println(\"dt / dx^2 = $(dt * l^2)   dt / dx = $(dt * l)  dt^3 / dx^6 = $((dt * l^2)^3)\")"
   ]
  },
  {
   "cell_type": "markdown",
   "id": "4ff0e477",
   "metadata": {},
   "source": [
    "+ El factor $\\frac {dt}{dx^2}$ nos permite corroborar que, si es pequeño $ \\lt 1$, el método de Euler usual funcionaría.\n",
    "+ El factor $\\frac {dt}{dx}$ si es aproximadamente 1 y no usamos métodos implícitos el método sería intestable.\n",
    "+ EL factor $\\frac {dt^3}{dx^6}$ nos dice cómo escala el error del método"
   ]
  },
  {
   "cell_type": "markdown",
   "id": "1493e883-cb2b-48b3-9e5e-4c030a4dee55",
   "metadata": {},
   "source": [
    "The first number indicates what it would be the CFL condition for the explicit Euler method. The second a guide about taking time and space comparable steps. The third is proportinal to the error, obtained by expanding \n",
    "\n",
    "$$\n",
    "\\frac{1 + i\\lambda dt /2}{1 - i\\lambda dt /2} - e^{i\\lambda dt} = (1 + i\\lambda dt /2)(1 + i\\lambda dt /2 - \\frac{\\lambda^2 dt^2}{4})  - (1 + i\\lambda dt - \\frac{\\lambda^2 dt^2}{2}) = O(\\lambda dt)^3 \n",
    "$$"
   ]
  },
  {
   "cell_type": "code",
   "execution_count": 75,
   "id": "be7b49d7-3947-4440-93da-39ed7f8964e2",
   "metadata": {},
   "outputs": [],
   "source": [
    "labels = get_face_labeling(model)\n",
    "add_tag_from_tags!(labels, \"diri_all\", [1, 2, 3, 4, 5, 6, 7, 8]);"
   ]
  },
  {
   "cell_type": "code",
   "execution_count": 76,
   "id": "41bb7a4b-747c-4088-b9f4-3ac6ab97bdc1",
   "metadata": {},
   "outputs": [
    {
     "data": {
      "text/plain": [
       "Measure()"
      ]
     },
     "metadata": {},
     "output_type": "display_data"
    }
   ],
   "source": [
    "order = 2\n",
    "degree = order\n",
    "Ωₕ = Triangulation(model)\n",
    "dΩₕ = Measure(Ωₕ, degree)"
   ]
  },
  {
   "cell_type": "code",
   "execution_count": 77,
   "id": "38ef3ed2",
   "metadata": {},
   "outputs": [],
   "source": [
    "ue(x) = x[1];\n",
    "Γ₁ = BoundaryTriangulation(model, tags=[5, 6, 7, 8]);"
   ]
  },
  {
   "cell_type": "code",
   "execution_count": 78,
   "id": "dff10043-fc95-41bf-b15f-af4790342399",
   "metadata": {},
   "outputs": [],
   "source": [
    "if plot_s\n",
    "    fig, ax, plt = plot(Γ₁, ue, colormap=:heat, linewidth=10)\n",
    "    ax.aspect = AxisAspect(1)\n",
    "    Colorbar(fig[1, 2], plt)\n",
    "    fig\n",
    "end"
   ]
  },
  {
   "cell_type": "code",
   "execution_count": 79,
   "id": "b4704249-9c67-484a-8268-0e1c259183d5",
   "metadata": {},
   "outputs": [],
   "source": [
    "# scatter(BoundaryTriangulation(model,tags=[4]))"
   ]
  },
  {
   "cell_type": "code",
   "execution_count": 80,
   "id": "58407394-2cca-47b9-93fc-4b0655c9961c",
   "metadata": {},
   "outputs": [],
   "source": [
    "reffe = ReferenceFE(lagrangian, Float64, order);"
   ]
  },
  {
   "cell_type": "code",
   "execution_count": 81,
   "id": "aeb0c2c2-aabc-4a85-ab89-07633c6905f1",
   "metadata": {},
   "outputs": [],
   "source": [
    "V = TestFESpace(model, reffe, labels=labels, dirichlet_tags=[\"diri_all\"], conformity=:H1, vector_type=Vector{ComplexF64});\n",
    "U = TrialFESpace(V, 0.0);"
   ]
  },
  {
   "cell_type": "markdown",
   "id": "774f7355",
   "metadata": {},
   "source": [
    "Notemos que si bien el espacio de referencias (reffe) es de tipo Float64 el espacio de pruebas (V) es de tipo ComplexF64."
   ]
  },
  {
   "cell_type": "code",
   "execution_count": 82,
   "id": "6f7504d7-55b6-430b-adee-56d693e64253",
   "metadata": {},
   "outputs": [],
   "source": [
    "#ls = LUSolver()\n",
    "#solver = LinearFESolver(ls)"
   ]
  },
  {
   "cell_type": "code",
   "execution_count": 83,
   "id": "94b03f2b-7765-49c2-8005-6e358743545d",
   "metadata": {},
   "outputs": [
    {
     "data": {
      "text/plain": [
       "norm_L2 (generic function with 1 method)"
      ]
     },
     "metadata": {},
     "output_type": "display_data"
    }
   ],
   "source": [
    "norm_L2(u) = sqrt(real(sum(∫(u' * u) * dΩₕ)))"
   ]
  },
  {
   "cell_type": "code",
   "execution_count": 84,
   "id": "72d31ef1-d5c9-462f-b736-368996c2f296",
   "metadata": {},
   "outputs": [
    {
     "data": {
      "text/plain": [
       "0.9510565162951536"
      ]
     },
     "metadata": {},
     "output_type": "display_data"
    }
   ],
   "source": [
    "function u_0_bump(x, par)\n",
    "    r0, r1, p = par\n",
    "    r = sqrt((x[1] - 0.5)^2 + (x[2] - 0.5)^2)\n",
    "    if r > r0 && r < r1\n",
    "        return (r - r0)^p * (r - r1)^p * (4^(2p)) + 0.0 * im\n",
    "    else\n",
    "        return 0.0 + 0.0 * im\n",
    "    end\n",
    "end\n",
    "\n",
    "function u_0_particle(x, par)\n",
    "    r0, xi, k, p = par\n",
    "    r = sqrt((x[1] - xi[1])^2 + (x[2] - xi[2])^2)\n",
    "    kx = 2π * (k[1] * (x[1] - xi[1]) + k[2] * (x[2] - xi[2]))\n",
    "    if r < r0\n",
    "        return (r - r0)^p * (r - r0)^p * (4^(2p)) * exp(im * kx)\n",
    "    else\n",
    "        return 0.0 + 0.0 * im\n",
    "    end\n",
    "end\n",
    "\n",
    "function u_0_test(x, p)\n",
    "    n, m = p\n",
    "    return sin(π * x[1] * n) * sin(π * x[2] * m)\n",
    "end\n",
    "\n",
    "function test_solution(x, t, p)\n",
    "    n, m = p\n",
    "    ω = π^2 * (n^2 + m^2)\n",
    "    return sin(π * x[1] * n) * sin(π * x[2] * m) * exp(im * ω * t)\n",
    "end\n",
    "\n",
    "par_bump = (0.25, 0.75, 4)\n",
    "par_test = (2, 3)\n",
    "par_particle = (0.4, [0.25; 0.25], [-16; 16], 4)\n",
    "\n",
    "#u_0_bump([0.5;0.5], par_bump)\n",
    "u_0_test([0.8; 0.5], par_test)\n",
    "#u_0_particle([0.5;0.5], par_particle)\n"
   ]
  },
  {
   "cell_type": "code",
   "execution_count": 85,
   "id": "17621d2c-ee14-4917-82d1-a64d89c7d7c6",
   "metadata": {},
   "outputs": [
    {
     "data": {
      "text/plain": [
       "2.4389232812125434"
      ]
     },
     "metadata": {},
     "output_type": "display_data"
    }
   ],
   "source": [
    "# definimos funciones que serán las condiciones iniciales\n",
    "if test\n",
    "    u_0(x) = u_0_test(x, par_test)\n",
    "elseif bump\n",
    "    u_0(x) = u_0_bump(x, par_bump)\n",
    "elseif particle\n",
    "    u_0(x) = u_0_particle(x, par_particle)\n",
    "end\n",
    "\n",
    "u_n = interpolate_everywhere(u_0, V)\n",
    "writevtk( Ωₕ,\"./results/QM/ini_dat_$(lpad(0,3,'0'))\", cellfields=[\"uh_r\"=>real(u_n),\"uh_i\"=>imag(u_n)])\n",
    "\n",
    "norm_L2(u_n)"
   ]
  },
  {
   "cell_type": "code",
   "execution_count": 86,
   "id": "c780a78b-1974-466d-b656-9dd035c1bffe",
   "metadata": {},
   "outputs": [],
   "source": [
    "if plot_s\n",
    "    fig, axₕlt = plot(Ωₕ, real(u_n))\n",
    "    ax.aspect = AxisAspect(1)\n",
    "    Colorbar(fig[2, 1], plt, vertical=false)\n",
    "    current_figure()\n",
    "    #fig\n",
    "end"
   ]
  },
  {
   "cell_type": "markdown",
   "id": "7ce1d218-bacf-4c29-860b-9d3c130f547e",
   "metadata": {},
   "source": [
    "To generate just once the matrix A we follow this example: https://github.com/gridap/Gridap.jl/blob/master/test/FESpacesTests/AssemblersTests.jl\n",
    "\n"
   ]
  },
  {
   "cell_type": "code",
   "execution_count": null,
   "id": "22bc4d9e",
   "metadata": {},
   "outputs": [],
   "source": [
    "assem=SparseMatrixAssembler(U,V);           # ensamblamos una matriz sparse con U y V\n",
    "dv=get_fe_basis(V);                         # escribimos v en la base de FE de V            \n",
    "du=get_trial_fe_basis(U);                   # escribimos u en la base de FE de U\n",
    "\n",
    "a(u,v)=∫(∇(v)⋅∇(u)*dt+im*2.0*v*u)dΩₕ;       # definimos forma bilineal\n",
    "\n",
    "mat_contribs=a(du,dv);                      # creamos una matriz de bases (contribuciones)\n",
    "data=collect_cell_matrix(U,V,mat_contribs); # recolectamos una matriz (datos)\n",
    "A=assemble_matrix(assem,data);              # creamos matriz A con contribuciones y datos"
   ]
  },
  {
   "cell_type": "code",
   "execution_count": 87,
   "id": "fa56225a-f1fb-4f70-a056-67f0670d7afe",
   "metadata": {},
   "outputs": [],
   "source": [
    "t=0;  # inicializamos variable tiempo\n",
    "u_n = interpolate_everywhere(u_0, V)\n",
    "writevtk(\n",
    "  Ωₕ, save_file * \"_$(lpad(0,3,'0'))\",\n",
    "  cellfields=[\"uh_r\" => real(u_n), \"uh_i\" => imag(u_n)])\n",
    "\n",
    "\n",
    "if test\n",
    "  e = zeros(num_steps ÷ n_int)\n",
    "end\n",
    "\n",
    "for istep in 1:num_steps\n",
    "\n",
    "  #println(\"\\n+++ Solving in step $istep of $num_steps +++\\n\")\n",
    "  b(v) = ∫(∇(v) ⋅ ∇(-u_n) * dt + im * 2 * v * u_n)dΩₕ\n",
    "  vec_contribs = b(dv)\n",
    "  data = collect_cell_vector(V, vec_contribs)\n",
    "  b = assemble_vector(assem, data)\n",
    "\n",
    "  #op = AffineFEOperator(a,b,U,V)\n",
    "  #uh = solve(solver,op)\n",
    "  x = A \\ b\n",
    "  t = t + dt\n",
    "  uh = FEFunction(U, x)\n",
    "\n",
    "  u_n = uh\n",
    "\n",
    "  if (istep - 1) % n_int == 0 && istep > 1\n",
    "    writevtk(\n",
    "      Ωₕ, save_file * \"_$(lpad(istep,3,'0'))\",\n",
    "      cellfields=[\"uh_r\" => real(u_n), \"uh_i\" => imag(u_n)])\n",
    "    if test\n",
    "      u_0(x) = test_solution(x, t, par_test)\n",
    "      u_s = interpolate_everywhere(u_0, V)\n",
    "      writevtk(\n",
    "        Ωₕ, save_file * \"_error_$(lpad(istep,3,'0'))\",\n",
    "        cellfields=[\"error_r\" => real(u_n - u_s), \"error_i\" => imag(u_n - u_s)])\n",
    "      error = norm_L2(u_n - u_s)\n",
    "      e[(istep-1)÷n_int] = error\n",
    "      l2 = norm_L2(u_n)\n",
    "      println(\"time = $t, rel_error = $(error/l2),      l2 = $l2\")\n",
    "    end\n",
    "  end\n",
    "\n",
    "end\n"
   ]
  },
  {
   "cell_type": "markdown",
   "id": "4913cca6-a50c-4cbd-8425-88ed3eb15cf0",
   "metadata": {},
   "source": [
    "Vemos que el error tiene un crecimiento lineal, tal como se espera. "
   ]
  },
  {
   "cell_type": "code",
   "execution_count": 88,
   "id": "5b99bf2a-7571-4acf-9396-857e791dbcfd",
   "metadata": {},
   "outputs": [],
   "source": [
    "if test\n",
    "    scatter(e)\n",
    "end"
   ]
  },
  {
   "cell_type": "markdown",
   "id": "d66297b6",
   "metadata": {},
   "source": [
    "### Analizamos cómo se comporta el error"
   ]
  },
  {
   "cell_type": "code",
   "execution_count": 89,
   "id": "150e39b5",
   "metadata": {},
   "outputs": [
    {
     "data": {
      "text/plain": [
       "f (generic function with 1 method)"
      ]
     },
     "metadata": {},
     "output_type": "display_data"
    }
   ],
   "source": [
    "f(μ) = (1-μ/2)/(1+μ/2) - exp(-μ)"
   ]
  },
  {
   "cell_type": "code",
   "execution_count": 90,
   "id": "df351020",
   "metadata": {},
   "outputs": [
    {
     "data": {
      "image/png": "[encoded data removed]",
      "image/svg+xml": "<?xml version=\"1.0\" encoding=\"utf-8\"?>\n<svg xmlns=\"http://www.w3.org/2000/svg\" xmlns:xlink=\"http://www.w3.org/1999/xlink\" width=\"600\" height=\"400\" viewBox=\"0 0 2400 1600\">\n<defs>\n  <clipPath id=\"clip580\">\n    <rect x=\"0\" y=\"0\" width=\"2400\" height=\"1600\"/>\n  </clipPath>\n</defs>\n<path clip-path=\"url(#clip580)\" d=\"\nM0 1600 L2400 1600 L2400 0 L0 0  Z\n  \" fill=\"#ffffff\" fill-rule=\"evenodd\" fill-opacity=\"1\"/>\n<defs>\n  <clipPath id=\"clip581\">\n    <rect x=\"480\" y=\"0\" width=\"1681\" height=\"1600\"/>\n  </clipPath>\n</defs>\n<path clip-path=\"url(#clip580)\" d=\"\nM272.297 1423.18 L2352.76 1423.18 L2352.76 47.2441 L272.297 47.2441  Z\n  \" fill=\"#ffffff\" fill-rule=\"evenodd\" fill-opacity=\"1\"/>\n<defs>\n  <clipPath id=\"clip582\">\n    <rect x=\"272\" y=\"47\" width=\"2081\" height=\"1377\"/>\n  </clipPath>\n</defs>\n<polyline clip-path=\"url(#clip582)\" style=\"stroke:#000000; stroke-linecap:round; stroke-linejoin:round; stroke-width:2; stroke-opacity:0.1; fill:none\" points=\"\n  527.447,1423.18 527.447,47.2441 \n  \"/>\n<polyline clip-path=\"url(#clip582)\" style=\"stroke:#000000; stroke-linecap:round; stroke-linejoin:round; stroke-width:2; stroke-opacity:0.1; fill:none\" points=\"\n  919.987,1423.18 919.987,47.2441 \n  \"/>\n<polyline clip-path=\"url(#clip582)\" style=\"stroke:#000000; stroke-linecap:round; stroke-linejoin:round; stroke-width:2; stroke-opacity:0.1; fill:none\" points=\"\n  1312.53,1423.18 1312.53,47.2441 \n  \"/>\n<polyline clip-path=\"url(#clip582)\" style=\"stroke:#000000; stroke-linecap:round; stroke-linejoin:round; stroke-width:2; stroke-opacity:0.1; fill:none\" points=\"\n  1705.07,1423.18 1705.07,47.2441 \n  \"/>\n<polyline clip-path=\"url(#clip582)\" style=\"stroke:#000000; stroke-linecap:round; stroke-linejoin:round; stroke-width:2; stroke-opacity:0.1; fill:none\" points=\"\n  2097.61,1423.18 2097.61,47.2441 \n  \"/>\n<polyline clip-path=\"url(#clip580)\" style=\"stroke:#000000; stroke-linecap:round; stroke-linejoin:round; stroke-width:4; stroke-opacity:1; fill:none\" points=\"\n  272.297,1423.18 2352.76,1423.18 \n  \"/>\n<polyline clip-path=\"url(#clip580)\" style=\"stroke:#000000; stroke-linecap:round; stroke-linejoin:round; stroke-width:4; stroke-opacity:1; fill:none\" points=\"\n  527.447,1423.18 527.447,1404.28 \n  \"/>\n<polyline clip-path=\"url(#clip580)\" style=\"stroke:#000000; stroke-linecap:round; stroke-linejoin:round; stroke-width:4; stroke-opacity:1; fill:none\" points=\"\n  919.987,1423.18 919.987,1404.28 \n  \"/>\n<polyline clip-path=\"url(#clip580)\" style=\"stroke:#000000; stroke-linecap:round; stroke-linejoin:round; stroke-width:4; stroke-opacity:1; fill:none\" points=\"\n  1312.53,1423.18 1312.53,1404.28 \n  \"/>\n<polyline clip-path=\"url(#clip580)\" style=\"stroke:#000000; stroke-linecap:round; stroke-linejoin:round; stroke-width:4; stroke-opacity:1; fill:none\" points=\"\n  1705.07,1423.18 1705.07,1404.28 \n  \"/>\n<polyline clip-path=\"url(#clip580)\" style=\"stroke:#000000; stroke-linecap:round; stroke-linejoin:round; stroke-width:4; stroke-opacity:1; fill:none\" points=\"\n  2097.61,1423.18 2097.61,1404.28 \n  \"/>\n<path clip-path=\"url(#clip580)\" d=\"M496.348 1468.75 L526.024 1468.75 L526.024 1472.69 L496.348 1472.69 L496.348 1468.75 Z\" fill=\"#000000\" fill-rule=\"evenodd\" fill-opacity=\"1\" /><path clip-path=\"url(#clip580)\" d=\"M548.963 1455.09 L537.158 1473.54 L548.963 1473.54 L548.963 1455.09 M547.736 1451.02 L553.616 1451.02 L553.616 1473.54 L558.547 1473.54 L558.547 1477.43 L553.616 1477.43 L553.616 1485.58 L548.963 1485.58 L548.963 1477.43 L533.362 1477.43 L533.362 1472.92 L547.736 1451.02 Z\" fill=\"#000000\" fill-rule=\"evenodd\" fill-opacity=\"1\" /><path clip-path=\"url(#clip580)\" d=\"M889.929 1468.75 L919.605 1468.75 L919.605 1472.69 L889.929 1472.69 L889.929 1468.75 Z\" fill=\"#000000\" fill-rule=\"evenodd\" fill-opacity=\"1\" /><path clip-path=\"url(#clip580)\" d=\"M933.725 1481.64 L950.044 1481.64 L950.044 1485.58 L928.1 1485.58 L928.1 1481.64 Q930.762 1478.89 935.345 1474.26 Q939.952 1469.61 941.132 1468.27 Q943.378 1465.74 944.257 1464.01 Q945.16 1462.25 945.16 1460.56 Q945.16 1457.8 943.216 1456.07 Q941.294 1454.33 938.193 1454.33 Q935.994 1454.33 933.54 1455.09 Q931.109 1455.86 928.332 1457.41 L928.332 1452.69 Q931.156 1451.55 933.609 1450.97 Q936.063 1450.39 938.1 1450.39 Q943.47 1450.39 946.665 1453.08 Q949.859 1455.77 949.859 1460.26 Q949.859 1462.39 949.049 1464.31 Q948.262 1466.2 946.156 1468.8 Q945.577 1469.47 942.475 1472.69 Q939.373 1475.88 933.725 1481.64 Z\" fill=\"#000000\" fill-rule=\"evenodd\" fill-opacity=\"1\" /><path clip-path=\"url(#clip580)\" d=\"M1312.53 1454.1 Q1308.92 1454.1 1307.09 1457.66 Q1305.28 1461.2 1305.28 1468.33 Q1305.28 1475.44 1307.09 1479.01 Q1308.92 1482.55 1312.53 1482.55 Q1316.16 1482.55 1317.97 1479.01 Q1319.79 1475.44 1319.79 1468.33 Q1319.79 1461.2 1317.97 1457.66 Q1316.16 1454.1 1312.53 1454.1 M1312.53 1450.39 Q1318.34 1450.39 1321.39 1455 Q1324.47 1459.58 1324.47 1468.33 Q1324.47 1477.06 1321.39 1481.67 Q1318.34 1486.25 1312.53 1486.25 Q1306.72 1486.25 1303.64 1481.67 Q1300.58 1477.06 1300.58 1468.33 Q1300.58 1459.58 1303.64 1455 Q1306.72 1450.39 1312.53 1450.39 Z\" fill=\"#000000\" fill-rule=\"evenodd\" fill-opacity=\"1\" /><path clip-path=\"url(#clip580)\" d=\"M1699.72 1481.64 L1716.04 1481.64 L1716.04 1485.58 L1694.09 1485.58 L1694.09 1481.64 Q1696.76 1478.89 1701.34 1474.26 Q1705.95 1469.61 1707.13 1468.27 Q1709.37 1465.74 1710.25 1464.01 Q1711.15 1462.25 1711.15 1460.56 Q1711.15 1457.8 1709.21 1456.07 Q1707.29 1454.33 1704.19 1454.33 Q1701.99 1454.33 1699.53 1455.09 Q1697.1 1455.86 1694.33 1457.41 L1694.33 1452.69 Q1697.15 1451.55 1699.6 1450.97 Q1702.06 1450.39 1704.09 1450.39 Q1709.46 1450.39 1712.66 1453.08 Q1715.85 1455.77 1715.85 1460.26 Q1715.85 1462.39 1715.04 1464.31 Q1714.26 1466.2 1712.15 1468.8 Q1711.57 1469.47 1708.47 1472.69 Q1705.37 1475.88 1699.72 1481.64 Z\" fill=\"#000000\" fill-rule=\"evenodd\" fill-opacity=\"1\" /><path clip-path=\"url(#clip580)\" d=\"M2100.61 1455.09 L2088.81 1473.54 L2100.61 1473.54 L2100.61 1455.09 M2099.39 1451.02 L2105.27 1451.02 L2105.27 1473.54 L2110.2 1473.54 L2110.2 1477.43 L2105.27 1477.43 L2105.27 1485.58 L2100.61 1485.58 L2100.61 1477.43 L2085.01 1477.43 L2085.01 1472.92 L2099.39 1451.02 Z\" fill=\"#000000\" fill-rule=\"evenodd\" fill-opacity=\"1\" /><path clip-path=\"url(#clip580)\" d=\"M1295.35 1581.6 L1295.35 1532.4 L1301.21 1532.4 L1301.21 1554.55 Q1301.21 1559.16 1303.41 1561.52 Q1305.6 1563.87 1309.9 1563.87 Q1314.61 1563.87 1316.97 1561.2 Q1319.35 1558.53 1319.35 1553.18 L1319.35 1532.4 L1325.21 1532.4 L1325.21 1559.83 Q1325.21 1561.74 1325.75 1562.66 Q1326.32 1563.56 1327.5 1563.56 Q1327.79 1563.56 1328.3 1563.4 Q1328.81 1563.21 1329.7 1562.82 L1329.7 1567.53 Q1328.39 1568.27 1327.22 1568.62 Q1326.07 1568.97 1324.96 1568.97 Q1322.76 1568.97 1321.45 1567.73 Q1320.15 1566.48 1319.67 1563.94 Q1318.08 1566.45 1315.76 1567.73 Q1313.47 1568.97 1310.35 1568.97 Q1307.1 1568.97 1304.81 1567.73 Q1302.55 1566.48 1301.21 1564 L1301.21 1581.6 L1295.35 1581.6 Z\" fill=\"#000000\" fill-rule=\"evenodd\" fill-opacity=\"1\" /><polyline clip-path=\"url(#clip582)\" style=\"stroke:#000000; stroke-linecap:round; stroke-linejoin:round; stroke-width:2; stroke-opacity:0.1; fill:none\" points=\"\n  272.297,1423.18 2352.76,1423.18 \n  \"/>\n<polyline clip-path=\"url(#clip582)\" style=\"stroke:#000000; stroke-linecap:round; stroke-linejoin:round; stroke-width:2; stroke-opacity:0.1; fill:none\" points=\"\n  272.297,1193.86 2352.76,1193.86 \n  \"/>\n<polyline clip-path=\"url(#clip582)\" style=\"stroke:#000000; stroke-linecap:round; stroke-linejoin:round; stroke-width:2; stroke-opacity:0.1; fill:none\" points=\"\n  272.297,964.535 2352.76,964.535 \n  \"/>\n<polyline clip-path=\"url(#clip582)\" style=\"stroke:#000000; stroke-linecap:round; stroke-linejoin:round; stroke-width:2; stroke-opacity:0.1; fill:none\" points=\"\n  272.297,735.212 2352.76,735.212 \n  \"/>\n<polyline clip-path=\"url(#clip582)\" style=\"stroke:#000000; stroke-linecap:round; stroke-linejoin:round; stroke-width:2; stroke-opacity:0.1; fill:none\" points=\"\n  272.297,505.889 2352.76,505.889 \n  \"/>\n<polyline clip-path=\"url(#clip582)\" style=\"stroke:#000000; stroke-linecap:round; stroke-linejoin:round; stroke-width:2; stroke-opacity:0.1; fill:none\" points=\"\n  272.297,276.567 2352.76,276.567 \n  \"/>\n<polyline clip-path=\"url(#clip582)\" style=\"stroke:#000000; stroke-linecap:round; stroke-linejoin:round; stroke-width:2; stroke-opacity:0.1; fill:none\" points=\"\n  272.297,47.2441 2352.76,47.2441 \n  \"/>\n<polyline clip-path=\"url(#clip580)\" style=\"stroke:#000000; stroke-linecap:round; stroke-linejoin:round; stroke-width:4; stroke-opacity:1; fill:none\" points=\"\n  272.297,1423.18 272.297,47.2441 \n  \"/>\n<polyline clip-path=\"url(#clip580)\" style=\"stroke:#000000; stroke-linecap:round; stroke-linejoin:round; stroke-width:4; stroke-opacity:1; fill:none\" points=\"\n  272.297,1423.18 291.194,1423.18 \n  \"/>\n<polyline clip-path=\"url(#clip580)\" style=\"stroke:#000000; stroke-linecap:round; stroke-linejoin:round; stroke-width:4; stroke-opacity:1; fill:none\" points=\"\n  272.297,1193.86 291.194,1193.86 \n  \"/>\n<polyline clip-path=\"url(#clip580)\" style=\"stroke:#000000; stroke-linecap:round; stroke-linejoin:round; stroke-width:4; stroke-opacity:1; fill:none\" points=\"\n  272.297,964.535 291.194,964.535 \n  \"/>\n<polyline clip-path=\"url(#clip580)\" style=\"stroke:#000000; stroke-linecap:round; stroke-linejoin:round; stroke-width:4; stroke-opacity:1; fill:none\" points=\"\n  272.297,735.212 291.194,735.212 \n  \"/>\n<polyline clip-path=\"url(#clip580)\" style=\"stroke:#000000; stroke-linecap:round; stroke-linejoin:round; stroke-width:4; stroke-opacity:1; fill:none\" points=\"\n  272.297,505.889 291.194,505.889 \n  \"/>\n<polyline clip-path=\"url(#clip580)\" style=\"stroke:#000000; stroke-linecap:round; stroke-linejoin:round; stroke-width:4; stroke-opacity:1; fill:none\" points=\"\n  272.297,276.567 291.194,276.567 \n  \"/>\n<polyline clip-path=\"url(#clip580)\" style=\"stroke:#000000; stroke-linecap:round; stroke-linejoin:round; stroke-width:4; stroke-opacity:1; fill:none\" points=\"\n  272.297,47.2441 291.194,47.2441 \n  \"/>\n<path clip-path=\"url(#clip580)\" d=\"M114.26 1423.63 L143.936 1423.63 L143.936 1427.57 L114.26 1427.57 L114.26 1423.63 Z\" fill=\"#000000\" fill-rule=\"evenodd\" fill-opacity=\"1\" /><path clip-path=\"url(#clip580)\" d=\"M168.195 1421.83 Q171.552 1422.54 173.427 1424.81 Q175.325 1427.08 175.325 1430.41 Q175.325 1435.53 171.806 1438.33 Q168.288 1441.13 161.806 1441.13 Q159.63 1441.13 157.315 1440.69 Q155.024 1440.27 152.57 1439.42 L152.57 1434.9 Q154.515 1436.04 156.829 1436.62 Q159.144 1437.2 161.667 1437.2 Q166.065 1437.2 168.357 1435.46 Q170.672 1433.72 170.672 1430.41 Q170.672 1427.36 168.519 1425.65 Q166.39 1423.91 162.57 1423.91 L158.542 1423.91 L158.542 1420.07 L162.755 1420.07 Q166.204 1420.07 168.033 1418.7 Q169.862 1417.31 169.862 1414.72 Q169.862 1412.06 167.964 1410.65 Q166.089 1409.21 162.57 1409.21 Q160.649 1409.21 158.45 1409.63 Q156.251 1410.04 153.612 1410.92 L153.612 1406.76 Q156.274 1406.02 158.589 1405.65 Q160.927 1405.27 162.987 1405.27 Q168.311 1405.27 171.413 1407.71 Q174.514 1410.11 174.514 1414.23 Q174.514 1417.1 172.871 1419.09 Q171.227 1421.06 168.195 1421.83 Z\" fill=\"#000000\" fill-rule=\"evenodd\" fill-opacity=\"1\" /><path clip-path=\"url(#clip580)\" d=\"M194.19 1408.98 Q190.579 1408.98 188.75 1412.54 Q186.945 1416.08 186.945 1423.21 Q186.945 1430.32 188.75 1433.89 Q190.579 1437.43 194.19 1437.43 Q197.825 1437.43 199.63 1433.89 Q201.459 1430.32 201.459 1423.21 Q201.459 1416.08 199.63 1412.54 Q197.825 1408.98 194.19 1408.98 M194.19 1405.27 Q200 1405.27 203.056 1409.88 Q206.135 1414.46 206.135 1423.21 Q206.135 1431.94 203.056 1436.55 Q200 1441.13 194.19 1441.13 Q188.38 1441.13 185.301 1436.55 Q182.246 1431.94 182.246 1423.21 Q182.246 1414.46 185.301 1409.88 Q188.38 1405.27 194.19 1405.27 Z\" fill=\"#000000\" fill-rule=\"evenodd\" fill-opacity=\"1\" /><path clip-path=\"url(#clip580)\" d=\"M224.352 1408.98 Q220.741 1408.98 218.912 1412.54 Q217.107 1416.08 217.107 1423.21 Q217.107 1430.32 218.912 1433.89 Q220.741 1437.43 224.352 1437.43 Q227.986 1437.43 229.792 1433.89 Q231.621 1430.32 231.621 1423.21 Q231.621 1416.08 229.792 1412.54 Q227.986 1408.98 224.352 1408.98 M224.352 1405.27 Q230.162 1405.27 233.218 1409.88 Q236.297 1414.46 236.297 1423.21 Q236.297 1431.94 233.218 1436.55 Q230.162 1441.13 224.352 1441.13 Q218.542 1441.13 215.463 1436.55 Q212.408 1431.94 212.408 1423.21 Q212.408 1414.46 215.463 1409.88 Q218.542 1405.27 224.352 1405.27 Z\" fill=\"#000000\" fill-rule=\"evenodd\" fill-opacity=\"1\" /><path clip-path=\"url(#clip580)\" d=\"M114.26 1194.31 L143.936 1194.31 L143.936 1198.24 L114.26 1198.24 L114.26 1194.31 Z\" fill=\"#000000\" fill-rule=\"evenodd\" fill-opacity=\"1\" /><path clip-path=\"url(#clip580)\" d=\"M158.056 1207.2 L174.376 1207.2 L174.376 1211.14 L152.431 1211.14 L152.431 1207.2 Q155.093 1204.45 159.677 1199.82 Q164.283 1195.17 165.464 1193.82 Q167.709 1191.3 168.589 1189.56 Q169.491 1187.8 169.491 1186.11 Q169.491 1183.36 167.547 1181.62 Q165.626 1179.89 162.524 1179.89 Q160.325 1179.89 157.871 1180.65 Q155.44 1181.42 152.663 1182.97 L152.663 1178.24 Q155.487 1177.11 157.94 1176.53 Q160.394 1175.95 162.431 1175.95 Q167.802 1175.95 170.996 1178.64 Q174.19 1181.32 174.19 1185.81 Q174.19 1187.94 173.38 1189.86 Q172.593 1191.76 170.487 1194.35 Q169.908 1195.03 166.806 1198.24 Q163.704 1201.44 158.056 1207.2 Z\" fill=\"#000000\" fill-rule=\"evenodd\" fill-opacity=\"1\" /><path clip-path=\"url(#clip580)\" d=\"M194.19 1179.66 Q190.579 1179.66 188.75 1183.22 Q186.945 1186.76 186.945 1193.89 Q186.945 1201 188.75 1204.56 Q190.579 1208.1 194.19 1208.1 Q197.825 1208.1 199.63 1204.56 Q201.459 1201 201.459 1193.89 Q201.459 1186.76 199.63 1183.22 Q197.825 1179.66 194.19 1179.66 M194.19 1175.95 Q200 1175.95 203.056 1180.56 Q206.135 1185.14 206.135 1193.89 Q206.135 1202.62 203.056 1207.23 Q200 1211.81 194.19 1211.81 Q188.38 1211.81 185.301 1207.23 Q182.246 1202.62 182.246 1193.89 Q182.246 1185.14 185.301 1180.56 Q188.38 1175.95 194.19 1175.95 Z\" fill=\"#000000\" fill-rule=\"evenodd\" fill-opacity=\"1\" /><path clip-path=\"url(#clip580)\" d=\"M224.352 1179.66 Q220.741 1179.66 218.912 1183.22 Q217.107 1186.76 217.107 1193.89 Q217.107 1201 218.912 1204.56 Q220.741 1208.1 224.352 1208.1 Q227.986 1208.1 229.792 1204.56 Q231.621 1201 231.621 1193.89 Q231.621 1186.76 229.792 1183.22 Q227.986 1179.66 224.352 1179.66 M224.352 1175.95 Q230.162 1175.95 233.218 1180.56 Q236.297 1185.14 236.297 1193.89 Q236.297 1202.62 233.218 1207.23 Q230.162 1211.81 224.352 1211.81 Q218.542 1211.81 215.463 1207.23 Q212.408 1202.62 212.408 1193.89 Q212.408 1185.14 215.463 1180.56 Q218.542 1175.95 224.352 1175.95 Z\" fill=\"#000000\" fill-rule=\"evenodd\" fill-opacity=\"1\" /><path clip-path=\"url(#clip580)\" d=\"M114.26 964.986 L143.936 964.986 L143.936 968.921 L114.26 968.921 L114.26 964.986 Z\" fill=\"#000000\" fill-rule=\"evenodd\" fill-opacity=\"1\" /><path clip-path=\"url(#clip580)\" d=\"M154.839 977.879 L162.477 977.879 L162.477 951.514 L154.167 953.18 L154.167 948.921 L162.431 947.255 L167.107 947.255 L167.107 977.879 L174.746 977.879 L174.746 981.815 L154.839 981.815 L154.839 977.879 Z\" fill=\"#000000\" fill-rule=\"evenodd\" fill-opacity=\"1\" /><path clip-path=\"url(#clip580)\" d=\"M194.19 950.333 Q190.579 950.333 188.75 953.898 Q186.945 957.44 186.945 964.569 Q186.945 971.676 188.75 975.241 Q190.579 978.782 194.19 978.782 Q197.825 978.782 199.63 975.241 Q201.459 971.676 201.459 964.569 Q201.459 957.44 199.63 953.898 Q197.825 950.333 194.19 950.333 M194.19 946.63 Q200 946.63 203.056 951.236 Q206.135 955.819 206.135 964.569 Q206.135 973.296 203.056 977.903 Q200 982.486 194.19 982.486 Q188.38 982.486 185.301 977.903 Q182.246 973.296 182.246 964.569 Q182.246 955.819 185.301 951.236 Q188.38 946.63 194.19 946.63 Z\" fill=\"#000000\" fill-rule=\"evenodd\" fill-opacity=\"1\" /><path clip-path=\"url(#clip580)\" d=\"M224.352 950.333 Q220.741 950.333 218.912 953.898 Q217.107 957.44 217.107 964.569 Q217.107 971.676 218.912 975.241 Q220.741 978.782 224.352 978.782 Q227.986 978.782 229.792 975.241 Q231.621 971.676 231.621 964.569 Q231.621 957.44 229.792 953.898 Q227.986 950.333 224.352 950.333 M224.352 946.63 Q230.162 946.63 233.218 951.236 Q236.297 955.819 236.297 964.569 Q236.297 973.296 233.218 977.903 Q230.162 982.486 224.352 982.486 Q218.542 982.486 215.463 977.903 Q212.408 973.296 212.408 964.569 Q212.408 955.819 215.463 951.236 Q218.542 946.63 224.352 946.63 Z\" fill=\"#000000\" fill-rule=\"evenodd\" fill-opacity=\"1\" /><path clip-path=\"url(#clip580)\" d=\"M224.352 721.011 Q220.741 721.011 218.912 724.575 Q217.107 728.117 217.107 735.247 Q217.107 742.353 218.912 745.918 Q220.741 749.46 224.352 749.46 Q227.986 749.46 229.792 745.918 Q231.621 742.353 231.621 735.247 Q231.621 728.117 229.792 724.575 Q227.986 721.011 224.352 721.011 M224.352 717.307 Q230.162 717.307 233.218 721.913 Q236.297 726.497 236.297 735.247 Q236.297 743.973 233.218 748.58 Q230.162 753.163 224.352 753.163 Q218.542 753.163 215.463 748.58 Q212.408 743.973 212.408 735.247 Q212.408 726.497 215.463 721.913 Q218.542 717.307 224.352 717.307 Z\" fill=\"#000000\" fill-rule=\"evenodd\" fill-opacity=\"1\" /><path clip-path=\"url(#clip580)\" d=\"M154.839 519.234 L162.477 519.234 L162.477 492.869 L154.167 494.535 L154.167 490.276 L162.431 488.609 L167.107 488.609 L167.107 519.234 L174.746 519.234 L174.746 523.169 L154.839 523.169 L154.839 519.234 Z\" fill=\"#000000\" fill-rule=\"evenodd\" fill-opacity=\"1\" /><path clip-path=\"url(#clip580)\" d=\"M194.19 491.688 Q190.579 491.688 188.75 495.253 Q186.945 498.794 186.945 505.924 Q186.945 513.031 188.75 516.595 Q190.579 520.137 194.19 520.137 Q197.825 520.137 199.63 516.595 Q201.459 513.031 201.459 505.924 Q201.459 498.794 199.63 495.253 Q197.825 491.688 194.19 491.688 M194.19 487.984 Q200 487.984 203.056 492.591 Q206.135 497.174 206.135 505.924 Q206.135 514.651 203.056 519.257 Q200 523.841 194.19 523.841 Q188.38 523.841 185.301 519.257 Q182.246 514.651 182.246 505.924 Q182.246 497.174 185.301 492.591 Q188.38 487.984 194.19 487.984 Z\" fill=\"#000000\" fill-rule=\"evenodd\" fill-opacity=\"1\" /><path clip-path=\"url(#clip580)\" d=\"M224.352 491.688 Q220.741 491.688 218.912 495.253 Q217.107 498.794 217.107 505.924 Q217.107 513.031 218.912 516.595 Q220.741 520.137 224.352 520.137 Q227.986 520.137 229.792 516.595 Q231.621 513.031 231.621 505.924 Q231.621 498.794 229.792 495.253 Q227.986 491.688 224.352 491.688 M224.352 487.984 Q230.162 487.984 233.218 492.591 Q236.297 497.174 236.297 505.924 Q236.297 514.651 233.218 519.257 Q230.162 523.841 224.352 523.841 Q218.542 523.841 215.463 519.257 Q212.408 514.651 212.408 505.924 Q212.408 497.174 215.463 492.591 Q218.542 487.984 224.352 487.984 Z\" fill=\"#000000\" fill-rule=\"evenodd\" fill-opacity=\"1\" /><path clip-path=\"url(#clip580)\" d=\"M158.056 289.912 L174.376 289.912 L174.376 293.847 L152.431 293.847 L152.431 289.912 Q155.093 287.157 159.677 282.527 Q164.283 277.875 165.464 276.532 Q167.709 274.009 168.589 272.273 Q169.491 270.514 169.491 268.824 Q169.491 266.069 167.547 264.333 Q165.626 262.597 162.524 262.597 Q160.325 262.597 157.871 263.361 Q155.44 264.125 152.663 265.676 L152.663 260.953 Q155.487 259.819 157.94 259.24 Q160.394 258.662 162.431 258.662 Q167.802 258.662 170.996 261.347 Q174.19 264.032 174.19 268.523 Q174.19 270.652 173.38 272.574 Q172.593 274.472 170.487 277.064 Q169.908 277.736 166.806 280.953 Q163.704 284.148 158.056 289.912 Z\" fill=\"#000000\" fill-rule=\"evenodd\" fill-opacity=\"1\" /><path clip-path=\"url(#clip580)\" d=\"M194.19 262.365 Q190.579 262.365 188.75 265.93 Q186.945 269.472 186.945 276.601 Q186.945 283.708 188.75 287.273 Q190.579 290.814 194.19 290.814 Q197.825 290.814 199.63 287.273 Q201.459 283.708 201.459 276.601 Q201.459 269.472 199.63 265.93 Q197.825 262.365 194.19 262.365 M194.19 258.662 Q200 258.662 203.056 263.268 Q206.135 267.851 206.135 276.601 Q206.135 285.328 203.056 289.935 Q200 294.518 194.19 294.518 Q188.38 294.518 185.301 289.935 Q182.246 285.328 182.246 276.601 Q182.246 267.851 185.301 263.268 Q188.38 258.662 194.19 258.662 Z\" fill=\"#000000\" fill-rule=\"evenodd\" fill-opacity=\"1\" /><path clip-path=\"url(#clip580)\" d=\"M224.352 262.365 Q220.741 262.365 218.912 265.93 Q217.107 269.472 217.107 276.601 Q217.107 283.708 218.912 287.273 Q220.741 290.814 224.352 290.814 Q227.986 290.814 229.792 287.273 Q231.621 283.708 231.621 276.601 Q231.621 269.472 229.792 265.93 Q227.986 262.365 224.352 262.365 M224.352 258.662 Q230.162 258.662 233.218 263.268 Q236.297 267.851 236.297 276.601 Q236.297 285.328 233.218 289.935 Q230.162 294.518 224.352 294.518 Q218.542 294.518 215.463 289.935 Q212.408 285.328 212.408 276.601 Q212.408 267.851 215.463 263.268 Q218.542 258.662 224.352 258.662 Z\" fill=\"#000000\" fill-rule=\"evenodd\" fill-opacity=\"1\" /><path clip-path=\"url(#clip580)\" d=\"M168.195 45.8899 Q171.552 46.6075 173.427 48.876 Q175.325 51.1445 175.325 54.4779 Q175.325 59.5936 171.806 62.3945 Q168.288 65.1954 161.806 65.1954 Q159.63 65.1954 157.315 64.7556 Q155.024 64.3389 152.57 63.4824 L152.57 58.9686 Q154.515 60.1028 156.829 60.6815 Q159.144 61.2602 161.667 61.2602 Q166.065 61.2602 168.357 59.5241 Q170.672 57.788 170.672 54.4779 Q170.672 51.4223 168.519 49.7094 Q166.39 47.9733 162.57 47.9733 L158.542 47.9733 L158.542 44.1307 L162.755 44.1307 Q166.204 44.1307 168.033 42.765 Q169.862 41.3761 169.862 38.7835 Q169.862 36.1215 167.964 34.7094 Q166.089 33.2743 162.57 33.2743 Q160.649 33.2743 158.45 33.6909 Q156.251 34.1076 153.612 34.9872 L153.612 30.8206 Q156.274 30.0798 158.589 29.7095 Q160.927 29.3391 162.987 29.3391 Q168.311 29.3391 171.413 31.7696 Q174.514 34.177 174.514 38.2974 Q174.514 41.1677 172.871 43.1585 Q171.227 45.1261 168.195 45.8899 Z\" fill=\"#000000\" fill-rule=\"evenodd\" fill-opacity=\"1\" /><path clip-path=\"url(#clip580)\" d=\"M194.19 33.0428 Q190.579 33.0428 188.75 36.6076 Q186.945 40.1492 186.945 47.2788 Q186.945 54.3853 188.75 57.9501 Q190.579 61.4917 194.19 61.4917 Q197.825 61.4917 199.63 57.9501 Q201.459 54.3853 201.459 47.2788 Q201.459 40.1492 199.63 36.6076 Q197.825 33.0428 194.19 33.0428 M194.19 29.3391 Q200 29.3391 203.056 33.9456 Q206.135 38.5289 206.135 47.2788 Q206.135 56.0056 203.056 60.6121 Q200 65.1954 194.19 65.1954 Q188.38 65.1954 185.301 60.6121 Q182.246 56.0056 182.246 47.2788 Q182.246 38.5289 185.301 33.9456 Q188.38 29.3391 194.19 29.3391 Z\" fill=\"#000000\" fill-rule=\"evenodd\" fill-opacity=\"1\" /><path clip-path=\"url(#clip580)\" d=\"M224.352 33.0428 Q220.741 33.0428 218.912 36.6076 Q217.107 40.1492 217.107 47.2788 Q217.107 54.3853 218.912 57.9501 Q220.741 61.4917 224.352 61.4917 Q227.986 61.4917 229.792 57.9501 Q231.621 54.3853 231.621 47.2788 Q231.621 40.1492 229.792 36.6076 Q227.986 33.0428 224.352 33.0428 M224.352 29.3391 Q230.162 29.3391 233.218 33.9456 Q236.297 38.5289 236.297 47.2788 Q236.297 56.0056 233.218 60.6121 Q230.162 65.1954 224.352 65.1954 Q218.542 65.1954 215.463 60.6121 Q212.408 56.0056 212.408 47.2788 Q212.408 38.5289 215.463 33.9456 Q218.542 29.3391 224.352 29.3391 Z\" fill=\"#000000\" fill-rule=\"evenodd\" fill-opacity=\"1\" /><path clip-path=\"url(#clip580)\" d=\"M14.479 766.611 L19.3487 766.611 L19.3487 772.213 Q19.3487 775.364 20.6219 776.605 Q21.895 777.814 25.2052 777.814 L28.3562 777.814 L28.3562 768.17 L32.9077 768.17 L32.9077 777.814 L64.0042 777.814 L64.0042 783.703 L32.9077 783.703 L32.9077 789.305 L28.3562 789.305 L28.3562 783.703 L25.8736 783.703 Q19.9216 783.703 17.2162 780.934 Q14.479 778.165 14.479 772.149 L14.479 766.611 Z\" fill=\"#000000\" fill-rule=\"evenodd\" fill-opacity=\"1\" /><path clip-path=\"url(#clip580)\" d=\"M14.5426 747.641 Q21.8632 751.906 29.0246 753.975 Q36.186 756.044 43.5384 756.044 Q50.8908 756.044 58.1159 753.975 Q65.3091 751.874 72.5979 747.641 L72.5979 752.734 Q65.1182 757.508 57.8931 759.895 Q50.668 762.25 43.5384 762.25 Q36.4406 762.25 29.2474 759.895 Q22.0542 757.54 14.5426 752.734 L14.5426 747.641 Z\" fill=\"#000000\" fill-rule=\"evenodd\" fill-opacity=\"1\" /><path clip-path=\"url(#clip580)\" d=\"M77.5631 736.883 L28.3562 736.883 L28.3562 731.027 L50.5089 731.027 Q55.124 731.027 57.4793 728.83 Q59.8346 726.634 59.8346 722.337 Q59.8346 717.627 57.161 715.271 Q54.4874 712.884 49.1402 712.884 L28.3562 712.884 L28.3562 707.028 L55.7924 707.028 Q57.7021 707.028 58.6251 706.487 Q59.5163 705.914 59.5163 704.736 Q59.5163 704.45 59.3572 703.94 Q59.1662 703.431 58.7843 702.54 L63.4949 702.54 Q64.227 703.845 64.5771 705.023 Q64.9272 706.168 64.9272 707.282 Q64.9272 709.479 63.6859 710.784 Q62.4446 712.089 59.8983 712.566 Q62.4127 714.157 63.6859 716.481 Q64.9272 718.773 64.9272 721.892 Q64.9272 725.138 63.6859 727.43 Q62.4446 729.69 59.9619 731.027 L77.5631 731.027 L77.5631 736.883 Z\" fill=\"#000000\" fill-rule=\"evenodd\" fill-opacity=\"1\" /><path clip-path=\"url(#clip580)\" d=\"M14.5426 695.729 L14.5426 690.636 Q22.0542 685.862 29.2474 683.507 Q36.4406 681.119 43.5384 681.119 Q50.668 681.119 57.8931 683.507 Q65.1182 685.862 72.5979 690.636 L72.5979 695.729 Q65.3091 691.495 58.1159 689.427 Q50.8908 687.326 43.5384 687.326 Q36.186 687.326 29.0246 689.427 Q21.8632 691.495 14.5426 695.729 Z\" fill=\"#000000\" fill-rule=\"evenodd\" fill-opacity=\"1\" /><circle clip-path=\"url(#clip582)\" cx=\"331.177\" cy=\"1080.91\" r=\"14.4\" fill=\"#009af9\" fill-rule=\"evenodd\" fill-opacity=\"1\" stroke=\"#000000\" stroke-opacity=\"1\" stroke-width=\"3.2\"/>\n<circle clip-path=\"url(#clip582)\" cx=\"334.372\" cy=\"1075.43\" r=\"14.4\" fill=\"#009af9\" fill-rule=\"evenodd\" fill-opacity=\"1\" stroke=\"#000000\" stroke-opacity=\"1\" stroke-width=\"3.2\"/>\n<circle clip-path=\"url(#clip582)\" cx=\"337.567\" cy=\"1070.04\" r=\"14.4\" fill=\"#009af9\" fill-rule=\"evenodd\" fill-opacity=\"1\" stroke=\"#000000\" stroke-opacity=\"1\" stroke-width=\"3.2\"/>\n<circle clip-path=\"url(#clip582)\" cx=\"340.761\" cy=\"1064.74\" r=\"14.4\" fill=\"#009af9\" fill-rule=\"evenodd\" fill-opacity=\"1\" stroke=\"#000000\" stroke-opacity=\"1\" stroke-width=\"3.2\"/>\n<circle clip-path=\"url(#clip582)\" cx=\"343.956\" cy=\"1059.52\" r=\"14.4\" fill=\"#009af9\" fill-rule=\"evenodd\" fill-opacity=\"1\" stroke=\"#000000\" stroke-opacity=\"1\" stroke-width=\"3.2\"/>\n<circle clip-path=\"url(#clip582)\" cx=\"358.725\" cy=\"1036.49\" r=\"14.4\" fill=\"#009af9\" fill-rule=\"evenodd\" fill-opacity=\"1\" stroke=\"#000000\" stroke-opacity=\"1\" stroke-width=\"3.2\"/>\n<circle clip-path=\"url(#clip582)\" cx=\"373.494\" cy=\"1015.14\" r=\"14.4\" fill=\"#009af9\" fill-rule=\"evenodd\" fill-opacity=\"1\" stroke=\"#000000\" stroke-opacity=\"1\" stroke-width=\"3.2\"/>\n<circle clip-path=\"url(#clip582)\" cx=\"388.263\" cy=\"995.342\" r=\"14.4\" fill=\"#009af9\" fill-rule=\"evenodd\" fill-opacity=\"1\" stroke=\"#000000\" stroke-opacity=\"1\" stroke-width=\"3.2\"/>\n<circle clip-path=\"url(#clip582)\" cx=\"403.032\" cy=\"976.994\" r=\"14.4\" fill=\"#009af9\" fill-rule=\"evenodd\" fill-opacity=\"1\" stroke=\"#000000\" stroke-opacity=\"1\" stroke-width=\"3.2\"/>\n<circle clip-path=\"url(#clip582)\" cx=\"417.801\" cy=\"959.989\" r=\"14.4\" fill=\"#009af9\" fill-rule=\"evenodd\" fill-opacity=\"1\" stroke=\"#000000\" stroke-opacity=\"1\" stroke-width=\"3.2\"/>\n<circle clip-path=\"url(#clip582)\" cx=\"432.571\" cy=\"944.23\" r=\"14.4\" fill=\"#009af9\" fill-rule=\"evenodd\" fill-opacity=\"1\" stroke=\"#000000\" stroke-opacity=\"1\" stroke-width=\"3.2\"/>\n<circle clip-path=\"url(#clip582)\" cx=\"447.34\" cy=\"929.628\" r=\"14.4\" fill=\"#009af9\" fill-rule=\"evenodd\" fill-opacity=\"1\" stroke=\"#000000\" stroke-opacity=\"1\" stroke-width=\"3.2\"/>\n<circle clip-path=\"url(#clip582)\" cx=\"462.109\" cy=\"916.1\" r=\"14.4\" fill=\"#009af9\" fill-rule=\"evenodd\" fill-opacity=\"1\" stroke=\"#000000\" stroke-opacity=\"1\" stroke-width=\"3.2\"/>\n<circle clip-path=\"url(#clip582)\" cx=\"479.86\" cy=\"901.155\" r=\"14.4\" fill=\"#009af9\" fill-rule=\"evenodd\" fill-opacity=\"1\" stroke=\"#000000\" stroke-opacity=\"1\" stroke-width=\"3.2\"/>\n<circle clip-path=\"url(#clip582)\" cx=\"497.611\" cy=\"887.529\" r=\"14.4\" fill=\"#009af9\" fill-rule=\"evenodd\" fill-opacity=\"1\" stroke=\"#000000\" stroke-opacity=\"1\" stroke-width=\"3.2\"/>\n<circle clip-path=\"url(#clip582)\" cx=\"515.363\" cy=\"875.112\" r=\"14.4\" fill=\"#009af9\" fill-rule=\"evenodd\" fill-opacity=\"1\" stroke=\"#000000\" stroke-opacity=\"1\" stroke-width=\"3.2\"/>\n<circle clip-path=\"url(#clip582)\" cx=\"533.114\" cy=\"863.801\" r=\"14.4\" fill=\"#009af9\" fill-rule=\"evenodd\" fill-opacity=\"1\" stroke=\"#000000\" stroke-opacity=\"1\" stroke-width=\"3.2\"/>\n<circle clip-path=\"url(#clip582)\" cx=\"548.123\" cy=\"855.034\" r=\"14.4\" fill=\"#009af9\" fill-rule=\"evenodd\" fill-opacity=\"1\" stroke=\"#000000\" stroke-opacity=\"1\" stroke-width=\"3.2\"/>\n<circle clip-path=\"url(#clip582)\" cx=\"563.131\" cy=\"846.942\" r=\"14.4\" fill=\"#009af9\" fill-rule=\"evenodd\" fill-opacity=\"1\" stroke=\"#000000\" stroke-opacity=\"1\" stroke-width=\"3.2\"/>\n<circle clip-path=\"url(#clip582)\" cx=\"578.14\" cy=\"839.478\" r=\"14.4\" fill=\"#009af9\" fill-rule=\"evenodd\" fill-opacity=\"1\" stroke=\"#000000\" stroke-opacity=\"1\" stroke-width=\"3.2\"/>\n<circle clip-path=\"url(#clip582)\" cx=\"593.148\" cy=\"832.601\" r=\"14.4\" fill=\"#009af9\" fill-rule=\"evenodd\" fill-opacity=\"1\" stroke=\"#000000\" stroke-opacity=\"1\" stroke-width=\"3.2\"/>\n<circle clip-path=\"url(#clip582)\" cx=\"609.451\" cy=\"825.749\" r=\"14.4\" fill=\"#009af9\" fill-rule=\"evenodd\" fill-opacity=\"1\" stroke=\"#000000\" stroke-opacity=\"1\" stroke-width=\"3.2\"/>\n<circle clip-path=\"url(#clip582)\" cx=\"625.755\" cy=\"819.498\" r=\"14.4\" fill=\"#009af9\" fill-rule=\"evenodd\" fill-opacity=\"1\" stroke=\"#000000\" stroke-opacity=\"1\" stroke-width=\"3.2\"/>\n<circle clip-path=\"url(#clip582)\" cx=\"642.058\" cy=\"813.809\" r=\"14.4\" fill=\"#009af9\" fill-rule=\"evenodd\" fill-opacity=\"1\" stroke=\"#000000\" stroke-opacity=\"1\" stroke-width=\"3.2\"/>\n<circle clip-path=\"url(#clip582)\" cx=\"658.362\" cy=\"808.647\" r=\"14.4\" fill=\"#009af9\" fill-rule=\"evenodd\" fill-opacity=\"1\" stroke=\"#000000\" stroke-opacity=\"1\" stroke-width=\"3.2\"/>\n<circle clip-path=\"url(#clip582)\" cx=\"688.422\" cy=\"800.415\" r=\"14.4\" fill=\"#009af9\" fill-rule=\"evenodd\" fill-opacity=\"1\" stroke=\"#000000\" stroke-opacity=\"1\" stroke-width=\"3.2\"/>\n<circle clip-path=\"url(#clip582)\" cx=\"718.483\" cy=\"793.745\" r=\"14.4\" fill=\"#009af9\" fill-rule=\"evenodd\" fill-opacity=\"1\" stroke=\"#000000\" stroke-opacity=\"1\" stroke-width=\"3.2\"/>\n<circle clip-path=\"url(#clip582)\" cx=\"734.597\" cy=\"790.793\" r=\"14.4\" fill=\"#009af9\" fill-rule=\"evenodd\" fill-opacity=\"1\" stroke=\"#000000\" stroke-opacity=\"1\" stroke-width=\"3.2\"/>\n<circle clip-path=\"url(#clip582)\" cx=\"750.711\" cy=\"788.283\" r=\"14.4\" fill=\"#009af9\" fill-rule=\"evenodd\" fill-opacity=\"1\" stroke=\"#000000\" stroke-opacity=\"1\" stroke-width=\"3.2\"/>\n<circle clip-path=\"url(#clip582)\" cx=\"766.825\" cy=\"786.238\" r=\"14.4\" fill=\"#009af9\" fill-rule=\"evenodd\" fill-opacity=\"1\" stroke=\"#000000\" stroke-opacity=\"1\" stroke-width=\"3.2\"/>\n<circle clip-path=\"url(#clip582)\" cx=\"782.939\" cy=\"784.705\" r=\"14.4\" fill=\"#009af9\" fill-rule=\"evenodd\" fill-opacity=\"1\" stroke=\"#000000\" stroke-opacity=\"1\" stroke-width=\"3.2\"/>\n<circle clip-path=\"url(#clip582)\" cx=\"801.609\" cy=\"783.686\" r=\"14.4\" fill=\"#009af9\" fill-rule=\"evenodd\" fill-opacity=\"1\" stroke=\"#000000\" stroke-opacity=\"1\" stroke-width=\"3.2\"/>\n<circle clip-path=\"url(#clip582)\" cx=\"820.279\" cy=\"783.724\" r=\"14.4\" fill=\"#009af9\" fill-rule=\"evenodd\" fill-opacity=\"1\" stroke=\"#000000\" stroke-opacity=\"1\" stroke-width=\"3.2\"/>\n<circle clip-path=\"url(#clip582)\" cx=\"829.614\" cy=\"784.281\" r=\"14.4\" fill=\"#009af9\" fill-rule=\"evenodd\" fill-opacity=\"1\" stroke=\"#000000\" stroke-opacity=\"1\" stroke-width=\"3.2\"/>\n<circle clip-path=\"url(#clip582)\" cx=\"838.949\" cy=\"785.328\" r=\"14.4\" fill=\"#009af9\" fill-rule=\"evenodd\" fill-opacity=\"1\" stroke=\"#000000\" stroke-opacity=\"1\" stroke-width=\"3.2\"/>\n<circle clip-path=\"url(#clip582)\" cx=\"848.283\" cy=\"787.031\" r=\"14.4\" fill=\"#009af9\" fill-rule=\"evenodd\" fill-opacity=\"1\" stroke=\"#000000\" stroke-opacity=\"1\" stroke-width=\"3.2\"/>\n<circle clip-path=\"url(#clip582)\" cx=\"857.618\" cy=\"789.655\" r=\"14.4\" fill=\"#009af9\" fill-rule=\"evenodd\" fill-opacity=\"1\" stroke=\"#000000\" stroke-opacity=\"1\" stroke-width=\"3.2\"/>\n<circle clip-path=\"url(#clip582)\" cx=\"865.914\" cy=\"793.12\" r=\"14.4\" fill=\"#009af9\" fill-rule=\"evenodd\" fill-opacity=\"1\" stroke=\"#000000\" stroke-opacity=\"1\" stroke-width=\"3.2\"/>\n<circle clip-path=\"url(#clip582)\" cx=\"874.21\" cy=\"798.23\" r=\"14.4\" fill=\"#009af9\" fill-rule=\"evenodd\" fill-opacity=\"1\" stroke=\"#000000\" stroke-opacity=\"1\" stroke-width=\"3.2\"/>\n<circle clip-path=\"url(#clip582)\" cx=\"878.358\" cy=\"801.701\" r=\"14.4\" fill=\"#009af9\" fill-rule=\"evenodd\" fill-opacity=\"1\" stroke=\"#000000\" stroke-opacity=\"1\" stroke-width=\"3.2\"/>\n<circle clip-path=\"url(#clip582)\" cx=\"882.506\" cy=\"806.049\" r=\"14.4\" fill=\"#009af9\" fill-rule=\"evenodd\" fill-opacity=\"1\" stroke=\"#000000\" stroke-opacity=\"1\" stroke-width=\"3.2\"/>\n<circle clip-path=\"url(#clip582)\" cx=\"886.653\" cy=\"811.598\" r=\"14.4\" fill=\"#009af9\" fill-rule=\"evenodd\" fill-opacity=\"1\" stroke=\"#000000\" stroke-opacity=\"1\" stroke-width=\"3.2\"/>\n<circle clip-path=\"url(#clip582)\" cx=\"890.801\" cy=\"818.854\" r=\"14.4\" fill=\"#009af9\" fill-rule=\"evenodd\" fill-opacity=\"1\" stroke=\"#000000\" stroke-opacity=\"1\" stroke-width=\"3.2\"/>\n<circle clip-path=\"url(#clip582)\" cx=\"894.949\" cy=\"828.662\" r=\"14.4\" fill=\"#009af9\" fill-rule=\"evenodd\" fill-opacity=\"1\" stroke=\"#000000\" stroke-opacity=\"1\" stroke-width=\"3.2\"/>\n<circle clip-path=\"url(#clip582)\" cx=\"899.097\" cy=\"842.537\" r=\"14.4\" fill=\"#009af9\" fill-rule=\"evenodd\" fill-opacity=\"1\" stroke=\"#000000\" stroke-opacity=\"1\" stroke-width=\"3.2\"/>\n<circle clip-path=\"url(#clip582)\" cx=\"903.245\" cy=\"863.496\" r=\"14.4\" fill=\"#009af9\" fill-rule=\"evenodd\" fill-opacity=\"1\" stroke=\"#000000\" stroke-opacity=\"1\" stroke-width=\"3.2\"/>\n<circle clip-path=\"url(#clip582)\" cx=\"907.393\" cy=\"898.527\" r=\"14.4\" fill=\"#009af9\" fill-rule=\"evenodd\" fill-opacity=\"1\" stroke=\"#000000\" stroke-opacity=\"1\" stroke-width=\"3.2\"/>\n<circle clip-path=\"url(#clip582)\" cx=\"909.467\" cy=\"926.52\" r=\"14.4\" fill=\"#009af9\" fill-rule=\"evenodd\" fill-opacity=\"1\" stroke=\"#000000\" stroke-opacity=\"1\" stroke-width=\"3.2\"/>\n<circle clip-path=\"url(#clip582)\" cx=\"911.541\" cy=\"968.354\" r=\"14.4\" fill=\"#009af9\" fill-rule=\"evenodd\" fill-opacity=\"1\" stroke=\"#000000\" stroke-opacity=\"1\" stroke-width=\"3.2\"/>\n<circle clip-path=\"url(#clip582)\" cx=\"912.578\" cy=\"998.094\" r=\"14.4\" fill=\"#009af9\" fill-rule=\"evenodd\" fill-opacity=\"1\" stroke=\"#000000\" stroke-opacity=\"1\" stroke-width=\"3.2\"/>\n<circle clip-path=\"url(#clip582)\" cx=\"913.615\" cy=\"1037.54\" r=\"14.4\" fill=\"#009af9\" fill-rule=\"evenodd\" fill-opacity=\"1\" stroke=\"#000000\" stroke-opacity=\"1\" stroke-width=\"3.2\"/>\n<circle clip-path=\"url(#clip582)\" cx=\"914.652\" cy=\"1092.37\" r=\"14.4\" fill=\"#009af9\" fill-rule=\"evenodd\" fill-opacity=\"1\" stroke=\"#000000\" stroke-opacity=\"1\" stroke-width=\"3.2\"/>\n<circle clip-path=\"url(#clip582)\" cx=\"915.688\" cy=\"1173.69\" r=\"14.4\" fill=\"#009af9\" fill-rule=\"evenodd\" fill-opacity=\"1\" stroke=\"#000000\" stroke-opacity=\"1\" stroke-width=\"3.2\"/>\n<circle clip-path=\"url(#clip582)\" cx=\"916.207\" cy=\"1231.1\" r=\"14.4\" fill=\"#009af9\" fill-rule=\"evenodd\" fill-opacity=\"1\" stroke=\"#000000\" stroke-opacity=\"1\" stroke-width=\"3.2\"/>\n<circle clip-path=\"url(#clip582)\" cx=\"916.725\" cy=\"1306.78\" r=\"14.4\" fill=\"#009af9\" fill-rule=\"evenodd\" fill-opacity=\"1\" stroke=\"#000000\" stroke-opacity=\"1\" stroke-width=\"3.2\"/>\n<circle clip-path=\"url(#clip582)\" cx=\"917.244\" cy=\"1411.09\" r=\"14.4\" fill=\"#009af9\" fill-rule=\"evenodd\" fill-opacity=\"1\" stroke=\"#000000\" stroke-opacity=\"1\" stroke-width=\"3.2\"/>\n<circle clip-path=\"url(#clip582)\" cx=\"922.947\" cy=\"146.075\" r=\"14.4\" fill=\"#009af9\" fill-rule=\"evenodd\" fill-opacity=\"1\" stroke=\"#000000\" stroke-opacity=\"1\" stroke-width=\"3.2\"/>\n<circle clip-path=\"url(#clip582)\" cx=\"923.466\" cy=\"236.66\" r=\"14.4\" fill=\"#009af9\" fill-rule=\"evenodd\" fill-opacity=\"1\" stroke=\"#000000\" stroke-opacity=\"1\" stroke-width=\"3.2\"/>\n<circle clip-path=\"url(#clip582)\" cx=\"923.984\" cy=\"303.736\" r=\"14.4\" fill=\"#009af9\" fill-rule=\"evenodd\" fill-opacity=\"1\" stroke=\"#000000\" stroke-opacity=\"1\" stroke-width=\"3.2\"/>\n<circle clip-path=\"url(#clip582)\" cx=\"924.894\" cy=\"387.122\" r=\"14.4\" fill=\"#009af9\" fill-rule=\"evenodd\" fill-opacity=\"1\" stroke=\"#000000\" stroke-opacity=\"1\" stroke-width=\"3.2\"/>\n<circle clip-path=\"url(#clip582)\" cx=\"925.803\" cy=\"444.41\" r=\"14.4\" fill=\"#009af9\" fill-rule=\"evenodd\" fill-opacity=\"1\" stroke=\"#000000\" stroke-opacity=\"1\" stroke-width=\"3.2\"/>\n<circle clip-path=\"url(#clip582)\" cx=\"926.712\" cy=\"486.186\" r=\"14.4\" fill=\"#009af9\" fill-rule=\"evenodd\" fill-opacity=\"1\" stroke=\"#000000\" stroke-opacity=\"1\" stroke-width=\"3.2\"/>\n<circle clip-path=\"url(#clip582)\" cx=\"927.622\" cy=\"517.993\" r=\"14.4\" fill=\"#009af9\" fill-rule=\"evenodd\" fill-opacity=\"1\" stroke=\"#000000\" stroke-opacity=\"1\" stroke-width=\"3.2\"/>\n<circle clip-path=\"url(#clip582)\" cx=\"929.44\" cy=\"563.208\" r=\"14.4\" fill=\"#009af9\" fill-rule=\"evenodd\" fill-opacity=\"1\" stroke=\"#000000\" stroke-opacity=\"1\" stroke-width=\"3.2\"/>\n<circle clip-path=\"url(#clip582)\" cx=\"931.259\" cy=\"593.786\" r=\"14.4\" fill=\"#009af9\" fill-rule=\"evenodd\" fill-opacity=\"1\" stroke=\"#000000\" stroke-opacity=\"1\" stroke-width=\"3.2\"/>\n<circle clip-path=\"url(#clip582)\" cx=\"934.896\" cy=\"632.457\" r=\"14.4\" fill=\"#009af9\" fill-rule=\"evenodd\" fill-opacity=\"1\" stroke=\"#000000\" stroke-opacity=\"1\" stroke-width=\"3.2\"/>\n<circle clip-path=\"url(#clip582)\" cx=\"938.533\" cy=\"655.85\" r=\"14.4\" fill=\"#009af9\" fill-rule=\"evenodd\" fill-opacity=\"1\" stroke=\"#000000\" stroke-opacity=\"1\" stroke-width=\"3.2\"/>\n<circle clip-path=\"url(#clip582)\" cx=\"942.171\" cy=\"671.483\" r=\"14.4\" fill=\"#009af9\" fill-rule=\"evenodd\" fill-opacity=\"1\" stroke=\"#000000\" stroke-opacity=\"1\" stroke-width=\"3.2\"/>\n<circle clip-path=\"url(#clip582)\" cx=\"945.808\" cy=\"682.637\" r=\"14.4\" fill=\"#009af9\" fill-rule=\"evenodd\" fill-opacity=\"1\" stroke=\"#000000\" stroke-opacity=\"1\" stroke-width=\"3.2\"/>\n<circle clip-path=\"url(#clip582)\" cx=\"949.445\" cy=\"690.973\" r=\"14.4\" fill=\"#009af9\" fill-rule=\"evenodd\" fill-opacity=\"1\" stroke=\"#000000\" stroke-opacity=\"1\" stroke-width=\"3.2\"/>\n<circle clip-path=\"url(#clip582)\" cx=\"953.083\" cy=\"697.422\" r=\"14.4\" fill=\"#009af9\" fill-rule=\"evenodd\" fill-opacity=\"1\" stroke=\"#000000\" stroke-opacity=\"1\" stroke-width=\"3.2\"/>\n<circle clip-path=\"url(#clip582)\" cx=\"956.72\" cy=\"702.546\" r=\"14.4\" fill=\"#009af9\" fill-rule=\"evenodd\" fill-opacity=\"1\" stroke=\"#000000\" stroke-opacity=\"1\" stroke-width=\"3.2\"/>\n<circle clip-path=\"url(#clip582)\" cx=\"960.357\" cy=\"706.704\" r=\"14.4\" fill=\"#009af9\" fill-rule=\"evenodd\" fill-opacity=\"1\" stroke=\"#000000\" stroke-opacity=\"1\" stroke-width=\"3.2\"/>\n<circle clip-path=\"url(#clip582)\" cx=\"963.995\" cy=\"710.136\" r=\"14.4\" fill=\"#009af9\" fill-rule=\"evenodd\" fill-opacity=\"1\" stroke=\"#000000\" stroke-opacity=\"1\" stroke-width=\"3.2\"/>\n<circle clip-path=\"url(#clip582)\" cx=\"967.632\" cy=\"713.011\" r=\"14.4\" fill=\"#009af9\" fill-rule=\"evenodd\" fill-opacity=\"1\" stroke=\"#000000\" stroke-opacity=\"1\" stroke-width=\"3.2\"/>\n<circle clip-path=\"url(#clip582)\" cx=\"974.907\" cy=\"717.532\" r=\"14.4\" fill=\"#009af9\" fill-rule=\"evenodd\" fill-opacity=\"1\" stroke=\"#000000\" stroke-opacity=\"1\" stroke-width=\"3.2\"/>\n<circle clip-path=\"url(#clip582)\" cx=\"982.181\" cy=\"720.901\" r=\"14.4\" fill=\"#009af9\" fill-rule=\"evenodd\" fill-opacity=\"1\" stroke=\"#000000\" stroke-opacity=\"1\" stroke-width=\"3.2\"/>\n<circle clip-path=\"url(#clip582)\" cx=\"990.112\" cy=\"723.686\" r=\"14.4\" fill=\"#009af9\" fill-rule=\"evenodd\" fill-opacity=\"1\" stroke=\"#000000\" stroke-opacity=\"1\" stroke-width=\"3.2\"/>\n<circle clip-path=\"url(#clip582)\" cx=\"998.044\" cy=\"725.825\" r=\"14.4\" fill=\"#009af9\" fill-rule=\"evenodd\" fill-opacity=\"1\" stroke=\"#000000\" stroke-opacity=\"1\" stroke-width=\"3.2\"/>\n<circle clip-path=\"url(#clip582)\" cx=\"1005.97\" cy=\"727.502\" r=\"14.4\" fill=\"#009af9\" fill-rule=\"evenodd\" fill-opacity=\"1\" stroke=\"#000000\" stroke-opacity=\"1\" stroke-width=\"3.2\"/>\n<circle clip-path=\"url(#clip582)\" cx=\"1013.91\" cy=\"728.837\" r=\"14.4\" fill=\"#009af9\" fill-rule=\"evenodd\" fill-opacity=\"1\" stroke=\"#000000\" stroke-opacity=\"1\" stroke-width=\"3.2\"/>\n<circle clip-path=\"url(#clip582)\" cx=\"1029.77\" cy=\"730.791\" r=\"14.4\" fill=\"#009af9\" fill-rule=\"evenodd\" fill-opacity=\"1\" stroke=\"#000000\" stroke-opacity=\"1\" stroke-width=\"3.2\"/>\n<circle clip-path=\"url(#clip582)\" cx=\"1045.63\" cy=\"732.11\" r=\"14.4\" fill=\"#009af9\" fill-rule=\"evenodd\" fill-opacity=\"1\" stroke=\"#000000\" stroke-opacity=\"1\" stroke-width=\"3.2\"/>\n<circle clip-path=\"url(#clip582)\" cx=\"1077.55\" cy=\"733.671\" r=\"14.4\" fill=\"#009af9\" fill-rule=\"evenodd\" fill-opacity=\"1\" stroke=\"#000000\" stroke-opacity=\"1\" stroke-width=\"3.2\"/>\n<circle clip-path=\"url(#clip582)\" cx=\"1109.46\" cy=\"734.457\" r=\"14.4\" fill=\"#009af9\" fill-rule=\"evenodd\" fill-opacity=\"1\" stroke=\"#000000\" stroke-opacity=\"1\" stroke-width=\"3.2\"/>\n<circle clip-path=\"url(#clip582)\" cx=\"1180.03\" cy=\"735.086\" r=\"14.4\" fill=\"#009af9\" fill-rule=\"evenodd\" fill-opacity=\"1\" stroke=\"#000000\" stroke-opacity=\"1\" stroke-width=\"3.2\"/>\n<circle clip-path=\"url(#clip582)\" cx=\"1247.17\" cy=\"735.202\" r=\"14.4\" fill=\"#009af9\" fill-rule=\"evenodd\" fill-opacity=\"1\" stroke=\"#000000\" stroke-opacity=\"1\" stroke-width=\"3.2\"/>\n<circle clip-path=\"url(#clip582)\" cx=\"1316.99\" cy=\"735.212\" r=\"14.4\" fill=\"#009af9\" fill-rule=\"evenodd\" fill-opacity=\"1\" stroke=\"#000000\" stroke-opacity=\"1\" stroke-width=\"3.2\"/>\n<circle clip-path=\"url(#clip582)\" cx=\"1375.76\" cy=\"735.217\" r=\"14.4\" fill=\"#009af9\" fill-rule=\"evenodd\" fill-opacity=\"1\" stroke=\"#000000\" stroke-opacity=\"1\" stroke-width=\"3.2\"/>\n<circle clip-path=\"url(#clip582)\" cx=\"1447.51\" cy=\"735.245\" r=\"14.4\" fill=\"#009af9\" fill-rule=\"evenodd\" fill-opacity=\"1\" stroke=\"#000000\" stroke-opacity=\"1\" stroke-width=\"3.2\"/>\n<circle clip-path=\"url(#clip582)\" cx=\"1513.24\" cy=\"735.295\" r=\"14.4\" fill=\"#009af9\" fill-rule=\"evenodd\" fill-opacity=\"1\" stroke=\"#000000\" stroke-opacity=\"1\" stroke-width=\"3.2\"/>\n<circle clip-path=\"url(#clip582)\" cx=\"1573.94\" cy=\"735.357\" r=\"14.4\" fill=\"#009af9\" fill-rule=\"evenodd\" fill-opacity=\"1\" stroke=\"#000000\" stroke-opacity=\"1\" stroke-width=\"3.2\"/>\n<circle clip-path=\"url(#clip582)\" cx=\"1635.43\" cy=\"735.431\" r=\"14.4\" fill=\"#009af9\" fill-rule=\"evenodd\" fill-opacity=\"1\" stroke=\"#000000\" stroke-opacity=\"1\" stroke-width=\"3.2\"/>\n<circle clip-path=\"url(#clip582)\" cx=\"1704.35\" cy=\"735.521\" r=\"14.4\" fill=\"#009af9\" fill-rule=\"evenodd\" fill-opacity=\"1\" stroke=\"#000000\" stroke-opacity=\"1\" stroke-width=\"3.2\"/>\n<circle clip-path=\"url(#clip582)\" cx=\"1766.8\" cy=\"735.606\" r=\"14.4\" fill=\"#009af9\" fill-rule=\"evenodd\" fill-opacity=\"1\" stroke=\"#000000\" stroke-opacity=\"1\" stroke-width=\"3.2\"/>\n<circle clip-path=\"url(#clip582)\" cx=\"1838.3\" cy=\"735.702\" r=\"14.4\" fill=\"#009af9\" fill-rule=\"evenodd\" fill-opacity=\"1\" stroke=\"#000000\" stroke-opacity=\"1\" stroke-width=\"3.2\"/>\n<circle clip-path=\"url(#clip582)\" cx=\"1904.5\" cy=\"735.789\" r=\"14.4\" fill=\"#009af9\" fill-rule=\"evenodd\" fill-opacity=\"1\" stroke=\"#000000\" stroke-opacity=\"1\" stroke-width=\"3.2\"/>\n<circle clip-path=\"url(#clip582)\" cx=\"1969.77\" cy=\"735.871\" r=\"14.4\" fill=\"#009af9\" fill-rule=\"evenodd\" fill-opacity=\"1\" stroke=\"#000000\" stroke-opacity=\"1\" stroke-width=\"3.2\"/>\n<circle clip-path=\"url(#clip582)\" cx=\"2033.14\" cy=\"735.946\" r=\"14.4\" fill=\"#009af9\" fill-rule=\"evenodd\" fill-opacity=\"1\" stroke=\"#000000\" stroke-opacity=\"1\" stroke-width=\"3.2\"/>\n<circle clip-path=\"url(#clip582)\" cx=\"2098.1\" cy=\"736.019\" r=\"14.4\" fill=\"#009af9\" fill-rule=\"evenodd\" fill-opacity=\"1\" stroke=\"#000000\" stroke-opacity=\"1\" stroke-width=\"3.2\"/>\n<circle clip-path=\"url(#clip582)\" cx=\"2169.27\" cy=\"736.093\" r=\"14.4\" fill=\"#009af9\" fill-rule=\"evenodd\" fill-opacity=\"1\" stroke=\"#000000\" stroke-opacity=\"1\" stroke-width=\"3.2\"/>\n<circle clip-path=\"url(#clip582)\" cx=\"2272.66\" cy=\"736.191\" r=\"14.4\" fill=\"#009af9\" fill-rule=\"evenodd\" fill-opacity=\"1\" stroke=\"#000000\" stroke-opacity=\"1\" stroke-width=\"3.2\"/>\n<circle clip-path=\"url(#clip582)\" cx=\"2293.87\" cy=\"736.21\" r=\"14.4\" fill=\"#009af9\" fill-rule=\"evenodd\" fill-opacity=\"1\" stroke=\"#000000\" stroke-opacity=\"1\" stroke-width=\"3.2\"/>\n<path clip-path=\"url(#clip580)\" d=\"\nM1999.81 196.789 L2283.41 196.789 L2283.41 93.1086 L1999.81 93.1086  Z\n  \" fill=\"#ffffff\" fill-rule=\"evenodd\" fill-opacity=\"1\"/>\n<polyline clip-path=\"url(#clip580)\" style=\"stroke:#000000; stroke-linecap:round; stroke-linejoin:round; stroke-width:4; stroke-opacity:1; fill:none\" points=\"\n  1999.81,196.789 2283.41,196.789 2283.41,93.1086 1999.81,93.1086 1999.81,196.789 \n  \"/>\n<circle clip-path=\"url(#clip580)\" cx=\"2092.28\" cy=\"144.949\" r=\"23.04\" fill=\"#009af9\" fill-rule=\"evenodd\" fill-opacity=\"1\" stroke=\"#000000\" stroke-opacity=\"1\" stroke-width=\"5.12\"/>\n<path clip-path=\"url(#clip580)\" d=\"M2198.59 164.636 Q2196.78 169.266 2195.07 170.678 Q2193.36 172.09 2190.49 172.09 L2187.08 172.09 L2187.08 168.525 L2189.58 168.525 Q2191.34 168.525 2192.31 167.692 Q2193.29 166.858 2194.47 163.756 L2195.23 161.812 L2184.74 136.303 L2189.26 136.303 L2197.36 156.581 L2205.46 136.303 L2209.98 136.303 L2198.59 164.636 Z\" fill=\"#000000\" fill-rule=\"evenodd\" fill-opacity=\"1\" /><path clip-path=\"url(#clip580)\" d=\"M2217.27 158.293 L2224.91 158.293 L2224.91 131.928 L2216.6 133.595 L2216.6 129.335 L2224.86 127.669 L2229.54 127.669 L2229.54 158.293 L2237.17 158.293 L2237.17 162.229 L2217.27 162.229 L2217.27 158.293 Z\" fill=\"#000000\" fill-rule=\"evenodd\" fill-opacity=\"1\" /></svg>\n",
      "text/html": [
       "<?xml version=\"1.0\" encoding=\"utf-8\"?>\n",
       "<svg xmlns=\"http://www.w3.org/2000/svg\" xmlns:xlink=\"http://www.w3.org/1999/xlink\" width=\"600\" height=\"400\" viewBox=\"0 0 2400 1600\">\n",
       "<defs>\n",
       "  <clipPath id=\"clip630\">\n",
       "    <rect x=\"0\" y=\"0\" width=\"2400\" height=\"1600\"/>\n",
       "  </clipPath>\n",
       "</defs>\n",
       "<path clip-path=\"url(#clip630)\" d=\"\n",
       "M0 1600 L2400 1600 L2400 0 L0 0  Z\n",
       "  \" fill=\"#ffffff\" fill-rule=\"evenodd\" fill-opacity=\"1\"/>\n",
       "<defs>\n",
       "  <clipPath id=\"clip631\">\n",
       "    <rect x=\"480\" y=\"0\" width=\"1681\" height=\"1600\"/>\n",
       "  </clipPath>\n",
       "</defs>\n",
       "<path clip-path=\"url(#clip630)\" d=\"\n",
       "M272.297 1423.18 L2352.76 1423.18 L2352.76 47.2441 L272.297 47.2441  Z\n",
       "  \" fill=\"#ffffff\" fill-rule=\"evenodd\" fill-opacity=\"1\"/>\n",
       "<defs>\n",
       "  <clipPath id=\"clip632\">\n",
       "    <rect x=\"272\" y=\"47\" width=\"2081\" height=\"1377\"/>\n",
       "  </clipPath>\n",
       "</defs>\n",
       "<polyline clip-path=\"url(#clip632)\" style=\"stroke:#000000; stroke-linecap:round; stroke-linejoin:round; stroke-width:2; stroke-opacity:0.1; fill:none\" points=\"\n",
       "  527.447,1423.18 527.447,47.2441 \n",
       "  \"/>\n",
       "<polyline clip-path=\"url(#clip632)\" style=\"stroke:#000000; stroke-linecap:round; stroke-linejoin:round; stroke-width:2; stroke-opacity:0.1; fill:none\" points=\"\n",
       "  919.987,1423.18 919.987,47.2441 \n",
       "  \"/>\n",
       "<polyline clip-path=\"url(#clip632)\" style=\"stroke:#000000; stroke-linecap:round; stroke-linejoin:round; stroke-width:2; stroke-opacity:0.1; fill:none\" points=\"\n",
       "  1312.53,1423.18 1312.53,47.2441 \n",
       "  \"/>\n",
       "<polyline clip-path=\"url(#clip632)\" style=\"stroke:#000000; stroke-linecap:round; stroke-linejoin:round; stroke-width:2; stroke-opacity:0.1; fill:none\" points=\"\n",
       "  1705.07,1423.18 1705.07,47.2441 \n",
       "  \"/>\n",
       "<polyline clip-path=\"url(#clip632)\" style=\"stroke:#000000; stroke-linecap:round; stroke-linejoin:round; stroke-width:2; stroke-opacity:0.1; fill:none\" points=\"\n",
       "  2097.61,1423.18 2097.61,47.2441 \n",
       "  \"/>\n",
       "<polyline clip-path=\"url(#clip630)\" style=\"stroke:#000000; stroke-linecap:round; stroke-linejoin:round; stroke-width:4; stroke-opacity:1; fill:none\" points=\"\n",
       "  272.297,1423.18 2352.76,1423.18 \n",
       "  \"/>\n",
       "<polyline clip-path=\"url(#clip630)\" style=\"stroke:#000000; stroke-linecap:round; stroke-linejoin:round; stroke-width:4; stroke-opacity:1; fill:none\" points=\"\n",
       "  527.447,1423.18 527.447,1404.28 \n",
       "  \"/>\n",
       "<polyline clip-path=\"url(#clip630)\" style=\"stroke:#000000; stroke-linecap:round; stroke-linejoin:round; stroke-width:4; stroke-opacity:1; fill:none\" points=\"\n",
       "  919.987,1423.18 919.987,1404.28 \n",
       "  \"/>\n",
       "<polyline clip-path=\"url(#clip630)\" style=\"stroke:#000000; stroke-linecap:round; stroke-linejoin:round; stroke-width:4; stroke-opacity:1; fill:none\" points=\"\n",
       "  1312.53,1423.18 1312.53,1404.28 \n",
       "  \"/>\n",
       "<polyline clip-path=\"url(#clip630)\" style=\"stroke:#000000; stroke-linecap:round; stroke-linejoin:round; stroke-width:4; stroke-opacity:1; fill:none\" points=\"\n",
       "  1705.07,1423.18 1705.07,1404.28 \n",
       "  \"/>\n",
       "<polyline clip-path=\"url(#clip630)\" style=\"stroke:#000000; stroke-linecap:round; stroke-linejoin:round; stroke-width:4; stroke-opacity:1; fill:none\" points=\"\n",
       "  2097.61,1423.18 2097.61,1404.28 \n",
       "  \"/>\n",
       "<path clip-path=\"url(#clip630)\" d=\"M496.348 1468.75 L526.024 1468.75 L526.024 1472.69 L496.348 1472.69 L496.348 1468.75 Z\" fill=\"#000000\" fill-rule=\"evenodd\" fill-opacity=\"1\" /><path clip-path=\"url(#clip630)\" d=\"M548.963 1455.09 L537.158 1473.54 L548.963 1473.54 L548.963 1455.09 M547.736 1451.02 L553.616 1451.02 L553.616 1473.54 L558.547 1473.54 L558.547 1477.43 L553.616 1477.43 L553.616 1485.58 L548.963 1485.58 L548.963 1477.43 L533.362 1477.43 L533.362 1472.92 L547.736 1451.02 Z\" fill=\"#000000\" fill-rule=\"evenodd\" fill-opacity=\"1\" /><path clip-path=\"url(#clip630)\" d=\"M889.929 1468.75 L919.605 1468.75 L919.605 1472.69 L889.929 1472.69 L889.929 1468.75 Z\" fill=\"#000000\" fill-rule=\"evenodd\" fill-opacity=\"1\" /><path clip-path=\"url(#clip630)\" d=\"M933.725 1481.64 L950.044 1481.64 L950.044 1485.58 L928.1 1485.58 L928.1 1481.64 Q930.762 1478.89 935.345 1474.26 Q939.952 1469.61 941.132 1468.27 Q943.378 1465.74 944.257 1464.01 Q945.16 1462.25 945.16 1460.56 Q945.16 1457.8 943.216 1456.07 Q941.294 1454.33 938.193 1454.33 Q935.994 1454.33 933.54 1455.09 Q931.109 1455.86 928.332 1457.41 L928.332 1452.69 Q931.156 1451.55 933.609 1450.97 Q936.063 1450.39 938.1 1450.39 Q943.47 1450.39 946.665 1453.08 Q949.859 1455.77 949.859 1460.26 Q949.859 1462.39 949.049 1464.31 Q948.262 1466.2 946.156 1468.8 Q945.577 1469.47 942.475 1472.69 Q939.373 1475.88 933.725 1481.64 Z\" fill=\"#000000\" fill-rule=\"evenodd\" fill-opacity=\"1\" /><path clip-path=\"url(#clip630)\" d=\"M1312.53 1454.1 Q1308.92 1454.1 1307.09 1457.66 Q1305.28 1461.2 1305.28 1468.33 Q1305.28 1475.44 1307.09 1479.01 Q1308.92 1482.55 1312.53 1482.55 Q1316.16 1482.55 1317.97 1479.01 Q1319.79 1475.44 1319.79 1468.33 Q1319.79 1461.2 1317.97 1457.66 Q1316.16 1454.1 1312.53 1454.1 M1312.53 1450.39 Q1318.34 1450.39 1321.39 1455 Q1324.47 1459.58 1324.47 1468.33 Q1324.47 1477.06 1321.39 1481.67 Q1318.34 1486.25 1312.53 1486.25 Q1306.72 1486.25 1303.64 1481.67 Q1300.58 1477.06 1300.58 1468.33 Q1300.58 1459.58 1303.64 1455 Q1306.72 1450.39 1312.53 1450.39 Z\" fill=\"#000000\" fill-rule=\"evenodd\" fill-opacity=\"1\" /><path clip-path=\"url(#clip630)\" d=\"M1699.72 1481.64 L1716.04 1481.64 L1716.04 1485.58 L1694.09 1485.58 L1694.09 1481.64 Q1696.76 1478.89 1701.34 1474.26 Q1705.95 1469.61 1707.13 1468.27 Q1709.37 1465.74 1710.25 1464.01 Q1711.15 1462.25 1711.15 1460.56 Q1711.15 1457.8 1709.21 1456.07 Q1707.29 1454.33 1704.19 1454.33 Q1701.99 1454.33 1699.53 1455.09 Q1697.1 1455.86 1694.33 1457.41 L1694.33 1452.69 Q1697.15 1451.55 1699.6 1450.97 Q1702.06 1450.39 1704.09 1450.39 Q1709.46 1450.39 1712.66 1453.08 Q1715.85 1455.77 1715.85 1460.26 Q1715.85 1462.39 1715.04 1464.31 Q1714.26 1466.2 1712.15 1468.8 Q1711.57 1469.47 1708.47 1472.69 Q1705.37 1475.88 1699.72 1481.64 Z\" fill=\"#000000\" fill-rule=\"evenodd\" fill-opacity=\"1\" /><path clip-path=\"url(#clip630)\" d=\"M2100.61 1455.09 L2088.81 1473.54 L2100.61 1473.54 L2100.61 1455.09 M2099.39 1451.02 L2105.27 1451.02 L2105.27 1473.54 L2110.2 1473.54 L2110.2 1477.43 L2105.27 1477.43 L2105.27 1485.58 L2100.61 1485.58 L2100.61 1477.43 L2085.01 1477.43 L2085.01 1472.92 L2099.39 1451.02 Z\" fill=\"#000000\" fill-rule=\"evenodd\" fill-opacity=\"1\" /><path clip-path=\"url(#clip630)\" d=\"M1295.35 1581.6 L1295.35 1532.4 L1301.21 1532.4 L1301.21 1554.55 Q1301.21 1559.16 1303.41 1561.52 Q1305.6 1563.87 1309.9 1563.87 Q1314.61 1563.87 1316.97 1561.2 Q1319.35 1558.53 1319.35 1553.18 L1319.35 1532.4 L1325.21 1532.4 L1325.21 1559.83 Q1325.21 1561.74 1325.75 1562.66 Q1326.32 1563.56 1327.5 1563.56 Q1327.79 1563.56 1328.3 1563.4 Q1328.81 1563.21 1329.7 1562.82 L1329.7 1567.53 Q1328.39 1568.27 1327.22 1568.62 Q1326.07 1568.97 1324.96 1568.97 Q1322.76 1568.97 1321.45 1567.73 Q1320.15 1566.48 1319.67 1563.94 Q1318.08 1566.45 1315.76 1567.73 Q1313.47 1568.97 1310.35 1568.97 Q1307.1 1568.97 1304.81 1567.73 Q1302.55 1566.48 1301.21 1564 L1301.21 1581.6 L1295.35 1581.6 Z\" fill=\"#000000\" fill-rule=\"evenodd\" fill-opacity=\"1\" /><polyline clip-path=\"url(#clip632)\" style=\"stroke:#000000; stroke-linecap:round; stroke-linejoin:round; stroke-width:2; stroke-opacity:0.1; fill:none\" points=\"\n",
       "  272.297,1423.18 2352.76,1423.18 \n",
       "  \"/>\n",
       "<polyline clip-path=\"url(#clip632)\" style=\"stroke:#000000; stroke-linecap:round; stroke-linejoin:round; stroke-width:2; stroke-opacity:0.1; fill:none\" points=\"\n",
       "  272.297,1193.86 2352.76,1193.86 \n",
       "  \"/>\n",
       "<polyline clip-path=\"url(#clip632)\" style=\"stroke:#000000; stroke-linecap:round; stroke-linejoin:round; stroke-width:2; stroke-opacity:0.1; fill:none\" points=\"\n",
       "  272.297,964.535 2352.76,964.535 \n",
       "  \"/>\n",
       "<polyline clip-path=\"url(#clip632)\" style=\"stroke:#000000; stroke-linecap:round; stroke-linejoin:round; stroke-width:2; stroke-opacity:0.1; fill:none\" points=\"\n",
       "  272.297,735.212 2352.76,735.212 \n",
       "  \"/>\n",
       "<polyline clip-path=\"url(#clip632)\" style=\"stroke:#000000; stroke-linecap:round; stroke-linejoin:round; stroke-width:2; stroke-opacity:0.1; fill:none\" points=\"\n",
       "  272.297,505.889 2352.76,505.889 \n",
       "  \"/>\n",
       "<polyline clip-path=\"url(#clip632)\" style=\"stroke:#000000; stroke-linecap:round; stroke-linejoin:round; stroke-width:2; stroke-opacity:0.1; fill:none\" points=\"\n",
       "  272.297,276.567 2352.76,276.567 \n",
       "  \"/>\n",
       "<polyline clip-path=\"url(#clip632)\" style=\"stroke:#000000; stroke-linecap:round; stroke-linejoin:round; stroke-width:2; stroke-opacity:0.1; fill:none\" points=\"\n",
       "  272.297,47.2441 2352.76,47.2441 \n",
       "  \"/>\n",
       "<polyline clip-path=\"url(#clip630)\" style=\"stroke:#000000; stroke-linecap:round; stroke-linejoin:round; stroke-width:4; stroke-opacity:1; fill:none\" points=\"\n",
       "  272.297,1423.18 272.297,47.2441 \n",
       "  \"/>\n",
       "<polyline clip-path=\"url(#clip630)\" style=\"stroke:#000000; stroke-linecap:round; stroke-linejoin:round; stroke-width:4; stroke-opacity:1; fill:none\" points=\"\n",
       "  272.297,1423.18 291.194,1423.18 \n",
       "  \"/>\n",
       "<polyline clip-path=\"url(#clip630)\" style=\"stroke:#000000; stroke-linecap:round; stroke-linejoin:round; stroke-width:4; stroke-opacity:1; fill:none\" points=\"\n",
       "  272.297,1193.86 291.194,1193.86 \n",
       "  \"/>\n",
       "<polyline clip-path=\"url(#clip630)\" style=\"stroke:#000000; stroke-linecap:round; stroke-linejoin:round; stroke-width:4; stroke-opacity:1; fill:none\" points=\"\n",
       "  272.297,964.535 291.194,964.535 \n",
       "  \"/>\n",
       "<polyline clip-path=\"url(#clip630)\" style=\"stroke:#000000; stroke-linecap:round; stroke-linejoin:round; stroke-width:4; stroke-opacity:1; fill:none\" points=\"\n",
       "  272.297,735.212 291.194,735.212 \n",
       "  \"/>\n",
       "<polyline clip-path=\"url(#clip630)\" style=\"stroke:#000000; stroke-linecap:round; stroke-linejoin:round; stroke-width:4; stroke-opacity:1; fill:none\" points=\"\n",
       "  272.297,505.889 291.194,505.889 \n",
       "  \"/>\n",
       "<polyline clip-path=\"url(#clip630)\" style=\"stroke:#000000; stroke-linecap:round; stroke-linejoin:round; stroke-width:4; stroke-opacity:1; fill:none\" points=\"\n",
       "  272.297,276.567 291.194,276.567 \n",
       "  \"/>\n",
       "<polyline clip-path=\"url(#clip630)\" style=\"stroke:#000000; stroke-linecap:round; stroke-linejoin:round; stroke-width:4; stroke-opacity:1; fill:none\" points=\"\n",
       "  272.297,47.2441 291.194,47.2441 \n",
       "  \"/>\n",
       "<path clip-path=\"url(#clip630)\" d=\"M114.26 1423.63 L143.936 1423.63 L143.936 1427.57 L114.26 1427.57 L114.26 1423.63 Z\" fill=\"#000000\" fill-rule=\"evenodd\" fill-opacity=\"1\" /><path clip-path=\"url(#clip630)\" d=\"M168.195 1421.83 Q171.552 1422.54 173.427 1424.81 Q175.325 1427.08 175.325 1430.41 Q175.325 1435.53 171.806 1438.33 Q168.288 1441.13 161.806 1441.13 Q159.63 1441.13 157.315 1440.69 Q155.024 1440.27 152.57 1439.42 L152.57 1434.9 Q154.515 1436.04 156.829 1436.62 Q159.144 1437.2 161.667 1437.2 Q166.065 1437.2 168.357 1435.46 Q170.672 1433.72 170.672 1430.41 Q170.672 1427.36 168.519 1425.65 Q166.39 1423.91 162.57 1423.91 L158.542 1423.91 L158.542 1420.07 L162.755 1420.07 Q166.204 1420.07 168.033 1418.7 Q169.862 1417.31 169.862 1414.72 Q169.862 1412.06 167.964 1410.65 Q166.089 1409.21 162.57 1409.21 Q160.649 1409.21 158.45 1409.63 Q156.251 1410.04 153.612 1410.92 L153.612 1406.76 Q156.274 1406.02 158.589 1405.65 Q160.927 1405.27 162.987 1405.27 Q168.311 1405.27 171.413 1407.71 Q174.514 1410.11 174.514 1414.23 Q174.514 1417.1 172.871 1419.09 Q171.227 1421.06 168.195 1421.83 Z\" fill=\"#000000\" fill-rule=\"evenodd\" fill-opacity=\"1\" /><path clip-path=\"url(#clip630)\" d=\"M194.19 1408.98 Q190.579 1408.98 188.75 1412.54 Q186.945 1416.08 186.945 1423.21 Q186.945 1430.32 188.75 1433.89 Q190.579 1437.43 194.19 1437.43 Q197.825 1437.43 199.63 1433.89 Q201.459 1430.32 201.459 1423.21 Q201.459 1416.08 199.63 1412.54 Q197.825 1408.98 194.19 1408.98 M194.19 1405.27 Q200 1405.27 203.056 1409.88 Q206.135 1414.46 206.135 1423.21 Q206.135 1431.94 203.056 1436.55 Q200 1441.13 194.19 1441.13 Q188.38 1441.13 185.301 1436.55 Q182.246 1431.94 182.246 1423.21 Q182.246 1414.46 185.301 1409.88 Q188.38 1405.27 194.19 1405.27 Z\" fill=\"#000000\" fill-rule=\"evenodd\" fill-opacity=\"1\" /><path clip-path=\"url(#clip630)\" d=\"M224.352 1408.98 Q220.741 1408.98 218.912 1412.54 Q217.107 1416.08 217.107 1423.21 Q217.107 1430.32 218.912 1433.89 Q220.741 1437.43 224.352 1437.43 Q227.986 1437.43 229.792 1433.89 Q231.621 1430.32 231.621 1423.21 Q231.621 1416.08 229.792 1412.54 Q227.986 1408.98 224.352 1408.98 M224.352 1405.27 Q230.162 1405.27 233.218 1409.88 Q236.297 1414.46 236.297 1423.21 Q236.297 1431.94 233.218 1436.55 Q230.162 1441.13 224.352 1441.13 Q218.542 1441.13 215.463 1436.55 Q212.408 1431.94 212.408 1423.21 Q212.408 1414.46 215.463 1409.88 Q218.542 1405.27 224.352 1405.27 Z\" fill=\"#000000\" fill-rule=\"evenodd\" fill-opacity=\"1\" /><path clip-path=\"url(#clip630)\" d=\"M114.26 1194.31 L143.936 1194.31 L143.936 1198.24 L114.26 1198.24 L114.26 1194.31 Z\" fill=\"#000000\" fill-rule=\"evenodd\" fill-opacity=\"1\" /><path clip-path=\"url(#clip630)\" d=\"M158.056 1207.2 L174.376 1207.2 L174.376 1211.14 L152.431 1211.14 L152.431 1207.2 Q155.093 1204.45 159.677 1199.82 Q164.283 1195.17 165.464 1193.82 Q167.709 1191.3 168.589 1189.56 Q169.491 1187.8 169.491 1186.11 Q169.491 1183.36 167.547 1181.62 Q165.626 1179.89 162.524 1179.89 Q160.325 1179.89 157.871 1180.65 Q155.44 1181.42 152.663 1182.97 L152.663 1178.24 Q155.487 1177.11 157.94 1176.53 Q160.394 1175.95 162.431 1175.95 Q167.802 1175.95 170.996 1178.64 Q174.19 1181.32 174.19 1185.81 Q174.19 1187.94 173.38 1189.86 Q172.593 1191.76 170.487 1194.35 Q169.908 1195.03 166.806 1198.24 Q163.704 1201.44 158.056 1207.2 Z\" fill=\"#000000\" fill-rule=\"evenodd\" fill-opacity=\"1\" /><path clip-path=\"url(#clip630)\" d=\"M194.19 1179.66 Q190.579 1179.66 188.75 1183.22 Q186.945 1186.76 186.945 1193.89 Q186.945 1201 188.75 1204.56 Q190.579 1208.1 194.19 1208.1 Q197.825 1208.1 199.63 1204.56 Q201.459 1201 201.459 1193.89 Q201.459 1186.76 199.63 1183.22 Q197.825 1179.66 194.19 1179.66 M194.19 1175.95 Q200 1175.95 203.056 1180.56 Q206.135 1185.14 206.135 1193.89 Q206.135 1202.62 203.056 1207.23 Q200 1211.81 194.19 1211.81 Q188.38 1211.81 185.301 1207.23 Q182.246 1202.62 182.246 1193.89 Q182.246 1185.14 185.301 1180.56 Q188.38 1175.95 194.19 1175.95 Z\" fill=\"#000000\" fill-rule=\"evenodd\" fill-opacity=\"1\" /><path clip-path=\"url(#clip630)\" d=\"M224.352 1179.66 Q220.741 1179.66 218.912 1183.22 Q217.107 1186.76 217.107 1193.89 Q217.107 1201 218.912 1204.56 Q220.741 1208.1 224.352 1208.1 Q227.986 1208.1 229.792 1204.56 Q231.621 1201 231.621 1193.89 Q231.621 1186.76 229.792 1183.22 Q227.986 1179.66 224.352 1179.66 M224.352 1175.95 Q230.162 1175.95 233.218 1180.56 Q236.297 1185.14 236.297 1193.89 Q236.297 1202.62 233.218 1207.23 Q230.162 1211.81 224.352 1211.81 Q218.542 1211.81 215.463 1207.23 Q212.408 1202.62 212.408 1193.89 Q212.408 1185.14 215.463 1180.56 Q218.542 1175.95 224.352 1175.95 Z\" fill=\"#000000\" fill-rule=\"evenodd\" fill-opacity=\"1\" /><path clip-path=\"url(#clip630)\" d=\"M114.26 964.986 L143.936 964.986 L143.936 968.921 L114.26 968.921 L114.26 964.986 Z\" fill=\"#000000\" fill-rule=\"evenodd\" fill-opacity=\"1\" /><path clip-path=\"url(#clip630)\" d=\"M154.839 977.879 L162.477 977.879 L162.477 951.514 L154.167 953.18 L154.167 948.921 L162.431 947.255 L167.107 947.255 L167.107 977.879 L174.746 977.879 L174.746 981.815 L154.839 981.815 L154.839 977.879 Z\" fill=\"#000000\" fill-rule=\"evenodd\" fill-opacity=\"1\" /><path clip-path=\"url(#clip630)\" d=\"M194.19 950.333 Q190.579 950.333 188.75 953.898 Q186.945 957.44 186.945 964.569 Q186.945 971.676 188.75 975.241 Q190.579 978.782 194.19 978.782 Q197.825 978.782 199.63 975.241 Q201.459 971.676 201.459 964.569 Q201.459 957.44 199.63 953.898 Q197.825 950.333 194.19 950.333 M194.19 946.63 Q200 946.63 203.056 951.236 Q206.135 955.819 206.135 964.569 Q206.135 973.296 203.056 977.903 Q200 982.486 194.19 982.486 Q188.38 982.486 185.301 977.903 Q182.246 973.296 182.246 964.569 Q182.246 955.819 185.301 951.236 Q188.38 946.63 194.19 946.63 Z\" fill=\"#000000\" fill-rule=\"evenodd\" fill-opacity=\"1\" /><path clip-path=\"url(#clip630)\" d=\"M224.352 950.333 Q220.741 950.333 218.912 953.898 Q217.107 957.44 217.107 964.569 Q217.107 971.676 218.912 975.241 Q220.741 978.782 224.352 978.782 Q227.986 978.782 229.792 975.241 Q231.621 971.676 231.621 964.569 Q231.621 957.44 229.792 953.898 Q227.986 950.333 224.352 950.333 M224.352 946.63 Q230.162 946.63 233.218 951.236 Q236.297 955.819 236.297 964.569 Q236.297 973.296 233.218 977.903 Q230.162 982.486 224.352 982.486 Q218.542 982.486 215.463 977.903 Q212.408 973.296 212.408 964.569 Q212.408 955.819 215.463 951.236 Q218.542 946.63 224.352 946.63 Z\" fill=\"#000000\" fill-rule=\"evenodd\" fill-opacity=\"1\" /><path clip-path=\"url(#clip630)\" d=\"M224.352 721.011 Q220.741 721.011 218.912 724.575 Q217.107 728.117 217.107 735.247 Q217.107 742.353 218.912 745.918 Q220.741 749.46 224.352 749.46 Q227.986 749.46 229.792 745.918 Q231.621 742.353 231.621 735.247 Q231.621 728.117 229.792 724.575 Q227.986 721.011 224.352 721.011 M224.352 717.307 Q230.162 717.307 233.218 721.913 Q236.297 726.497 236.297 735.247 Q236.297 743.973 233.218 748.58 Q230.162 753.163 224.352 753.163 Q218.542 753.163 215.463 748.58 Q212.408 743.973 212.408 735.247 Q212.408 726.497 215.463 721.913 Q218.542 717.307 224.352 717.307 Z\" fill=\"#000000\" fill-rule=\"evenodd\" fill-opacity=\"1\" /><path clip-path=\"url(#clip630)\" d=\"M154.839 519.234 L162.477 519.234 L162.477 492.869 L154.167 494.535 L154.167 490.276 L162.431 488.609 L167.107 488.609 L167.107 519.234 L174.746 519.234 L174.746 523.169 L154.839 523.169 L154.839 519.234 Z\" fill=\"#000000\" fill-rule=\"evenodd\" fill-opacity=\"1\" /><path clip-path=\"url(#clip630)\" d=\"M194.19 491.688 Q190.579 491.688 188.75 495.253 Q186.945 498.794 186.945 505.924 Q186.945 513.031 188.75 516.595 Q190.579 520.137 194.19 520.137 Q197.825 520.137 199.63 516.595 Q201.459 513.031 201.459 505.924 Q201.459 498.794 199.63 495.253 Q197.825 491.688 194.19 491.688 M194.19 487.984 Q200 487.984 203.056 492.591 Q206.135 497.174 206.135 505.924 Q206.135 514.651 203.056 519.257 Q200 523.841 194.19 523.841 Q188.38 523.841 185.301 519.257 Q182.246 514.651 182.246 505.924 Q182.246 497.174 185.301 492.591 Q188.38 487.984 194.19 487.984 Z\" fill=\"#000000\" fill-rule=\"evenodd\" fill-opacity=\"1\" /><path clip-path=\"url(#clip630)\" d=\"M224.352 491.688 Q220.741 491.688 218.912 495.253 Q217.107 498.794 217.107 505.924 Q217.107 513.031 218.912 516.595 Q220.741 520.137 224.352 520.137 Q227.986 520.137 229.792 516.595 Q231.621 513.031 231.621 505.924 Q231.621 498.794 229.792 495.253 Q227.986 491.688 224.352 491.688 M224.352 487.984 Q230.162 487.984 233.218 492.591 Q236.297 497.174 236.297 505.924 Q236.297 514.651 233.218 519.257 Q230.162 523.841 224.352 523.841 Q218.542 523.841 215.463 519.257 Q212.408 514.651 212.408 505.924 Q212.408 497.174 215.463 492.591 Q218.542 487.984 224.352 487.984 Z\" fill=\"#000000\" fill-rule=\"evenodd\" fill-opacity=\"1\" /><path clip-path=\"url(#clip630)\" d=\"M158.056 289.912 L174.376 289.912 L174.376 293.847 L152.431 293.847 L152.431 289.912 Q155.093 287.157 159.677 282.527 Q164.283 277.875 165.464 276.532 Q167.709 274.009 168.589 272.273 Q169.491 270.514 169.491 268.824 Q169.491 266.069 167.547 264.333 Q165.626 262.597 162.524 262.597 Q160.325 262.597 157.871 263.361 Q155.44 264.125 152.663 265.676 L152.663 260.953 Q155.487 259.819 157.94 259.24 Q160.394 258.662 162.431 258.662 Q167.802 258.662 170.996 261.347 Q174.19 264.032 174.19 268.523 Q174.19 270.652 173.38 272.574 Q172.593 274.472 170.487 277.064 Q169.908 277.736 166.806 280.953 Q163.704 284.148 158.056 289.912 Z\" fill=\"#000000\" fill-rule=\"evenodd\" fill-opacity=\"1\" /><path clip-path=\"url(#clip630)\" d=\"M194.19 262.365 Q190.579 262.365 188.75 265.93 Q186.945 269.472 186.945 276.601 Q186.945 283.708 188.75 287.273 Q190.579 290.814 194.19 290.814 Q197.825 290.814 199.63 287.273 Q201.459 283.708 201.459 276.601 Q201.459 269.472 199.63 265.93 Q197.825 262.365 194.19 262.365 M194.19 258.662 Q200 258.662 203.056 263.268 Q206.135 267.851 206.135 276.601 Q206.135 285.328 203.056 289.935 Q200 294.518 194.19 294.518 Q188.38 294.518 185.301 289.935 Q182.246 285.328 182.246 276.601 Q182.246 267.851 185.301 263.268 Q188.38 258.662 194.19 258.662 Z\" fill=\"#000000\" fill-rule=\"evenodd\" fill-opacity=\"1\" /><path clip-path=\"url(#clip630)\" d=\"M224.352 262.365 Q220.741 262.365 218.912 265.93 Q217.107 269.472 217.107 276.601 Q217.107 283.708 218.912 287.273 Q220.741 290.814 224.352 290.814 Q227.986 290.814 229.792 287.273 Q231.621 283.708 231.621 276.601 Q231.621 269.472 229.792 265.93 Q227.986 262.365 224.352 262.365 M224.352 258.662 Q230.162 258.662 233.218 263.268 Q236.297 267.851 236.297 276.601 Q236.297 285.328 233.218 289.935 Q230.162 294.518 224.352 294.518 Q218.542 294.518 215.463 289.935 Q212.408 285.328 212.408 276.601 Q212.408 267.851 215.463 263.268 Q218.542 258.662 224.352 258.662 Z\" fill=\"#000000\" fill-rule=\"evenodd\" fill-opacity=\"1\" /><path clip-path=\"url(#clip630)\" d=\"M168.195 45.8899 Q171.552 46.6075 173.427 48.876 Q175.325 51.1445 175.325 54.4779 Q175.325 59.5936 171.806 62.3945 Q168.288 65.1954 161.806 65.1954 Q159.63 65.1954 157.315 64.7556 Q155.024 64.3389 152.57 63.4824 L152.57 58.9686 Q154.515 60.1028 156.829 60.6815 Q159.144 61.2602 161.667 61.2602 Q166.065 61.2602 168.357 59.5241 Q170.672 57.788 170.672 54.4779 Q170.672 51.4223 168.519 49.7094 Q166.39 47.9733 162.57 47.9733 L158.542 47.9733 L158.542 44.1307 L162.755 44.1307 Q166.204 44.1307 168.033 42.765 Q169.862 41.3761 169.862 38.7835 Q169.862 36.1215 167.964 34.7094 Q166.089 33.2743 162.57 33.2743 Q160.649 33.2743 158.45 33.6909 Q156.251 34.1076 153.612 34.9872 L153.612 30.8206 Q156.274 30.0798 158.589 29.7095 Q160.927 29.3391 162.987 29.3391 Q168.311 29.3391 171.413 31.7696 Q174.514 34.177 174.514 38.2974 Q174.514 41.1677 172.871 43.1585 Q171.227 45.1261 168.195 45.8899 Z\" fill=\"#000000\" fill-rule=\"evenodd\" fill-opacity=\"1\" /><path clip-path=\"url(#clip630)\" d=\"M194.19 33.0428 Q190.579 33.0428 188.75 36.6076 Q186.945 40.1492 186.945 47.2788 Q186.945 54.3853 188.75 57.9501 Q190.579 61.4917 194.19 61.4917 Q197.825 61.4917 199.63 57.9501 Q201.459 54.3853 201.459 47.2788 Q201.459 40.1492 199.63 36.6076 Q197.825 33.0428 194.19 33.0428 M194.19 29.3391 Q200 29.3391 203.056 33.9456 Q206.135 38.5289 206.135 47.2788 Q206.135 56.0056 203.056 60.6121 Q200 65.1954 194.19 65.1954 Q188.38 65.1954 185.301 60.6121 Q182.246 56.0056 182.246 47.2788 Q182.246 38.5289 185.301 33.9456 Q188.38 29.3391 194.19 29.3391 Z\" fill=\"#000000\" fill-rule=\"evenodd\" fill-opacity=\"1\" /><path clip-path=\"url(#clip630)\" d=\"M224.352 33.0428 Q220.741 33.0428 218.912 36.6076 Q217.107 40.1492 217.107 47.2788 Q217.107 54.3853 218.912 57.9501 Q220.741 61.4917 224.352 61.4917 Q227.986 61.4917 229.792 57.9501 Q231.621 54.3853 231.621 47.2788 Q231.621 40.1492 229.792 36.6076 Q227.986 33.0428 224.352 33.0428 M224.352 29.3391 Q230.162 29.3391 233.218 33.9456 Q236.297 38.5289 236.297 47.2788 Q236.297 56.0056 233.218 60.6121 Q230.162 65.1954 224.352 65.1954 Q218.542 65.1954 215.463 60.6121 Q212.408 56.0056 212.408 47.2788 Q212.408 38.5289 215.463 33.9456 Q218.542 29.3391 224.352 29.3391 Z\" fill=\"#000000\" fill-rule=\"evenodd\" fill-opacity=\"1\" /><path clip-path=\"url(#clip630)\" d=\"M14.479 766.611 L19.3487 766.611 L19.3487 772.213 Q19.3487 775.364 20.6219 776.605 Q21.895 777.814 25.2052 777.814 L28.3562 777.814 L28.3562 768.17 L32.9077 768.17 L32.9077 777.814 L64.0042 777.814 L64.0042 783.703 L32.9077 783.703 L32.9077 789.305 L28.3562 789.305 L28.3562 783.703 L25.8736 783.703 Q19.9216 783.703 17.2162 780.934 Q14.479 778.165 14.479 772.149 L14.479 766.611 Z\" fill=\"#000000\" fill-rule=\"evenodd\" fill-opacity=\"1\" /><path clip-path=\"url(#clip630)\" d=\"M14.5426 747.641 Q21.8632 751.906 29.0246 753.975 Q36.186 756.044 43.5384 756.044 Q50.8908 756.044 58.1159 753.975 Q65.3091 751.874 72.5979 747.641 L72.5979 752.734 Q65.1182 757.508 57.8931 759.895 Q50.668 762.25 43.5384 762.25 Q36.4406 762.25 29.2474 759.895 Q22.0542 757.54 14.5426 752.734 L14.5426 747.641 Z\" fill=\"#000000\" fill-rule=\"evenodd\" fill-opacity=\"1\" /><path clip-path=\"url(#clip630)\" d=\"M77.5631 736.883 L28.3562 736.883 L28.3562 731.027 L50.5089 731.027 Q55.124 731.027 57.4793 728.83 Q59.8346 726.634 59.8346 722.337 Q59.8346 717.627 57.161 715.271 Q54.4874 712.884 49.1402 712.884 L28.3562 712.884 L28.3562 707.028 L55.7924 707.028 Q57.7021 707.028 58.6251 706.487 Q59.5163 705.914 59.5163 704.736 Q59.5163 704.45 59.3572 703.94 Q59.1662 703.431 58.7843 702.54 L63.4949 702.54 Q64.227 703.845 64.5771 705.023 Q64.9272 706.168 64.9272 707.282 Q64.9272 709.479 63.6859 710.784 Q62.4446 712.089 59.8983 712.566 Q62.4127 714.157 63.6859 716.481 Q64.9272 718.773 64.9272 721.892 Q64.9272 725.138 63.6859 727.43 Q62.4446 729.69 59.9619 731.027 L77.5631 731.027 L77.5631 736.883 Z\" fill=\"#000000\" fill-rule=\"evenodd\" fill-opacity=\"1\" /><path clip-path=\"url(#clip630)\" d=\"M14.5426 695.729 L14.5426 690.636 Q22.0542 685.862 29.2474 683.507 Q36.4406 681.119 43.5384 681.119 Q50.668 681.119 57.8931 683.507 Q65.1182 685.862 72.5979 690.636 L72.5979 695.729 Q65.3091 691.495 58.1159 689.427 Q50.8908 687.326 43.5384 687.326 Q36.186 687.326 29.0246 689.427 Q21.8632 691.495 14.5426 695.729 Z\" fill=\"#000000\" fill-rule=\"evenodd\" fill-opacity=\"1\" /><circle clip-path=\"url(#clip632)\" cx=\"331.177\" cy=\"1080.91\" r=\"14.4\" fill=\"#009af9\" fill-rule=\"evenodd\" fill-opacity=\"1\" stroke=\"#000000\" stroke-opacity=\"1\" stroke-width=\"3.2\"/>\n",
       "<circle clip-path=\"url(#clip632)\" cx=\"334.372\" cy=\"1075.43\" r=\"14.4\" fill=\"#009af9\" fill-rule=\"evenodd\" fill-opacity=\"1\" stroke=\"#000000\" stroke-opacity=\"1\" stroke-width=\"3.2\"/>\n",
       "<circle clip-path=\"url(#clip632)\" cx=\"337.567\" cy=\"1070.04\" r=\"14.4\" fill=\"#009af9\" fill-rule=\"evenodd\" fill-opacity=\"1\" stroke=\"#000000\" stroke-opacity=\"1\" stroke-width=\"3.2\"/>\n",
       "<circle clip-path=\"url(#clip632)\" cx=\"340.761\" cy=\"1064.74\" r=\"14.4\" fill=\"#009af9\" fill-rule=\"evenodd\" fill-opacity=\"1\" stroke=\"#000000\" stroke-opacity=\"1\" stroke-width=\"3.2\"/>\n",
       "<circle clip-path=\"url(#clip632)\" cx=\"343.956\" cy=\"1059.52\" r=\"14.4\" fill=\"#009af9\" fill-rule=\"evenodd\" fill-opacity=\"1\" stroke=\"#000000\" stroke-opacity=\"1\" stroke-width=\"3.2\"/>\n",
       "<circle clip-path=\"url(#clip632)\" cx=\"358.725\" cy=\"1036.49\" r=\"14.4\" fill=\"#009af9\" fill-rule=\"evenodd\" fill-opacity=\"1\" stroke=\"#000000\" stroke-opacity=\"1\" stroke-width=\"3.2\"/>\n",
       "<circle clip-path=\"url(#clip632)\" cx=\"373.494\" cy=\"1015.14\" r=\"14.4\" fill=\"#009af9\" fill-rule=\"evenodd\" fill-opacity=\"1\" stroke=\"#000000\" stroke-opacity=\"1\" stroke-width=\"3.2\"/>\n",
       "<circle clip-path=\"url(#clip632)\" cx=\"388.263\" cy=\"995.342\" r=\"14.4\" fill=\"#009af9\" fill-rule=\"evenodd\" fill-opacity=\"1\" stroke=\"#000000\" stroke-opacity=\"1\" stroke-width=\"3.2\"/>\n",
       "<circle clip-path=\"url(#clip632)\" cx=\"403.032\" cy=\"976.994\" r=\"14.4\" fill=\"#009af9\" fill-rule=\"evenodd\" fill-opacity=\"1\" stroke=\"#000000\" stroke-opacity=\"1\" stroke-width=\"3.2\"/>\n",
       "<circle clip-path=\"url(#clip632)\" cx=\"417.801\" cy=\"959.989\" r=\"14.4\" fill=\"#009af9\" fill-rule=\"evenodd\" fill-opacity=\"1\" stroke=\"#000000\" stroke-opacity=\"1\" stroke-width=\"3.2\"/>\n",
       "<circle clip-path=\"url(#clip632)\" cx=\"432.571\" cy=\"944.23\" r=\"14.4\" fill=\"#009af9\" fill-rule=\"evenodd\" fill-opacity=\"1\" stroke=\"#000000\" stroke-opacity=\"1\" stroke-width=\"3.2\"/>\n",
       "<circle clip-path=\"url(#clip632)\" cx=\"447.34\" cy=\"929.628\" r=\"14.4\" fill=\"#009af9\" fill-rule=\"evenodd\" fill-opacity=\"1\" stroke=\"#000000\" stroke-opacity=\"1\" stroke-width=\"3.2\"/>\n",
       "<circle clip-path=\"url(#clip632)\" cx=\"462.109\" cy=\"916.1\" r=\"14.4\" fill=\"#009af9\" fill-rule=\"evenodd\" fill-opacity=\"1\" stroke=\"#000000\" stroke-opacity=\"1\" stroke-width=\"3.2\"/>\n",
       "<circle clip-path=\"url(#clip632)\" cx=\"479.86\" cy=\"901.155\" r=\"14.4\" fill=\"#009af9\" fill-rule=\"evenodd\" fill-opacity=\"1\" stroke=\"#000000\" stroke-opacity=\"1\" stroke-width=\"3.2\"/>\n",
       "<circle clip-path=\"url(#clip632)\" cx=\"497.611\" cy=\"887.529\" r=\"14.4\" fill=\"#009af9\" fill-rule=\"evenodd\" fill-opacity=\"1\" stroke=\"#000000\" stroke-opacity=\"1\" stroke-width=\"3.2\"/>\n",
       "<circle clip-path=\"url(#clip632)\" cx=\"515.363\" cy=\"875.112\" r=\"14.4\" fill=\"#009af9\" fill-rule=\"evenodd\" fill-opacity=\"1\" stroke=\"#000000\" stroke-opacity=\"1\" stroke-width=\"3.2\"/>\n",
       "<circle clip-path=\"url(#clip632)\" cx=\"533.114\" cy=\"863.801\" r=\"14.4\" fill=\"#009af9\" fill-rule=\"evenodd\" fill-opacity=\"1\" stroke=\"#000000\" stroke-opacity=\"1\" stroke-width=\"3.2\"/>\n",
       "<circle clip-path=\"url(#clip632)\" cx=\"548.123\" cy=\"855.034\" r=\"14.4\" fill=\"#009af9\" fill-rule=\"evenodd\" fill-opacity=\"1\" stroke=\"#000000\" stroke-opacity=\"1\" stroke-width=\"3.2\"/>\n",
       "<circle clip-path=\"url(#clip632)\" cx=\"563.131\" cy=\"846.942\" r=\"14.4\" fill=\"#009af9\" fill-rule=\"evenodd\" fill-opacity=\"1\" stroke=\"#000000\" stroke-opacity=\"1\" stroke-width=\"3.2\"/>\n",
       "<circle clip-path=\"url(#clip632)\" cx=\"578.14\" cy=\"839.478\" r=\"14.4\" fill=\"#009af9\" fill-rule=\"evenodd\" fill-opacity=\"1\" stroke=\"#000000\" stroke-opacity=\"1\" stroke-width=\"3.2\"/>\n",
       "<circle clip-path=\"url(#clip632)\" cx=\"593.148\" cy=\"832.601\" r=\"14.4\" fill=\"#009af9\" fill-rule=\"evenodd\" fill-opacity=\"1\" stroke=\"#000000\" stroke-opacity=\"1\" stroke-width=\"3.2\"/>\n",
       "<circle clip-path=\"url(#clip632)\" cx=\"609.451\" cy=\"825.749\" r=\"14.4\" fill=\"#009af9\" fill-rule=\"evenodd\" fill-opacity=\"1\" stroke=\"#000000\" stroke-opacity=\"1\" stroke-width=\"3.2\"/>\n",
       "<circle clip-path=\"url(#clip632)\" cx=\"625.755\" cy=\"819.498\" r=\"14.4\" fill=\"#009af9\" fill-rule=\"evenodd\" fill-opacity=\"1\" stroke=\"#000000\" stroke-opacity=\"1\" stroke-width=\"3.2\"/>\n",
       "<circle clip-path=\"url(#clip632)\" cx=\"642.058\" cy=\"813.809\" r=\"14.4\" fill=\"#009af9\" fill-rule=\"evenodd\" fill-opacity=\"1\" stroke=\"#000000\" stroke-opacity=\"1\" stroke-width=\"3.2\"/>\n",
       "<circle clip-path=\"url(#clip632)\" cx=\"658.362\" cy=\"808.647\" r=\"14.4\" fill=\"#009af9\" fill-rule=\"evenodd\" fill-opacity=\"1\" stroke=\"#000000\" stroke-opacity=\"1\" stroke-width=\"3.2\"/>\n",
       "<circle clip-path=\"url(#clip632)\" cx=\"688.422\" cy=\"800.415\" r=\"14.4\" fill=\"#009af9\" fill-rule=\"evenodd\" fill-opacity=\"1\" stroke=\"#000000\" stroke-opacity=\"1\" stroke-width=\"3.2\"/>\n",
       "<circle clip-path=\"url(#clip632)\" cx=\"718.483\" cy=\"793.745\" r=\"14.4\" fill=\"#009af9\" fill-rule=\"evenodd\" fill-opacity=\"1\" stroke=\"#000000\" stroke-opacity=\"1\" stroke-width=\"3.2\"/>\n",
       "<circle clip-path=\"url(#clip632)\" cx=\"734.597\" cy=\"790.793\" r=\"14.4\" fill=\"#009af9\" fill-rule=\"evenodd\" fill-opacity=\"1\" stroke=\"#000000\" stroke-opacity=\"1\" stroke-width=\"3.2\"/>\n",
       "<circle clip-path=\"url(#clip632)\" cx=\"750.711\" cy=\"788.283\" r=\"14.4\" fill=\"#009af9\" fill-rule=\"evenodd\" fill-opacity=\"1\" stroke=\"#000000\" stroke-opacity=\"1\" stroke-width=\"3.2\"/>\n",
       "<circle clip-path=\"url(#clip632)\" cx=\"766.825\" cy=\"786.238\" r=\"14.4\" fill=\"#009af9\" fill-rule=\"evenodd\" fill-opacity=\"1\" stroke=\"#000000\" stroke-opacity=\"1\" stroke-width=\"3.2\"/>\n",
       "<circle clip-path=\"url(#clip632)\" cx=\"782.939\" cy=\"784.705\" r=\"14.4\" fill=\"#009af9\" fill-rule=\"evenodd\" fill-opacity=\"1\" stroke=\"#000000\" stroke-opacity=\"1\" stroke-width=\"3.2\"/>\n",
       "<circle clip-path=\"url(#clip632)\" cx=\"801.609\" cy=\"783.686\" r=\"14.4\" fill=\"#009af9\" fill-rule=\"evenodd\" fill-opacity=\"1\" stroke=\"#000000\" stroke-opacity=\"1\" stroke-width=\"3.2\"/>\n",
       "<circle clip-path=\"url(#clip632)\" cx=\"820.279\" cy=\"783.724\" r=\"14.4\" fill=\"#009af9\" fill-rule=\"evenodd\" fill-opacity=\"1\" stroke=\"#000000\" stroke-opacity=\"1\" stroke-width=\"3.2\"/>\n",
       "<circle clip-path=\"url(#clip632)\" cx=\"829.614\" cy=\"784.281\" r=\"14.4\" fill=\"#009af9\" fill-rule=\"evenodd\" fill-opacity=\"1\" stroke=\"#000000\" stroke-opacity=\"1\" stroke-width=\"3.2\"/>\n",
       "<circle clip-path=\"url(#clip632)\" cx=\"838.949\" cy=\"785.328\" r=\"14.4\" fill=\"#009af9\" fill-rule=\"evenodd\" fill-opacity=\"1\" stroke=\"#000000\" stroke-opacity=\"1\" stroke-width=\"3.2\"/>\n",
       "<circle clip-path=\"url(#clip632)\" cx=\"848.283\" cy=\"787.031\" r=\"14.4\" fill=\"#009af9\" fill-rule=\"evenodd\" fill-opacity=\"1\" stroke=\"#000000\" stroke-opacity=\"1\" stroke-width=\"3.2\"/>\n",
       "<circle clip-path=\"url(#clip632)\" cx=\"857.618\" cy=\"789.655\" r=\"14.4\" fill=\"#009af9\" fill-rule=\"evenodd\" fill-opacity=\"1\" stroke=\"#000000\" stroke-opacity=\"1\" stroke-width=\"3.2\"/>\n",
       "<circle clip-path=\"url(#clip632)\" cx=\"865.914\" cy=\"793.12\" r=\"14.4\" fill=\"#009af9\" fill-rule=\"evenodd\" fill-opacity=\"1\" stroke=\"#000000\" stroke-opacity=\"1\" stroke-width=\"3.2\"/>\n",
       "<circle clip-path=\"url(#clip632)\" cx=\"874.21\" cy=\"798.23\" r=\"14.4\" fill=\"#009af9\" fill-rule=\"evenodd\" fill-opacity=\"1\" stroke=\"#000000\" stroke-opacity=\"1\" stroke-width=\"3.2\"/>\n",
       "<circle clip-path=\"url(#clip632)\" cx=\"878.358\" cy=\"801.701\" r=\"14.4\" fill=\"#009af9\" fill-rule=\"evenodd\" fill-opacity=\"1\" stroke=\"#000000\" stroke-opacity=\"1\" stroke-width=\"3.2\"/>\n",
       "<circle clip-path=\"url(#clip632)\" cx=\"882.506\" cy=\"806.049\" r=\"14.4\" fill=\"#009af9\" fill-rule=\"evenodd\" fill-opacity=\"1\" stroke=\"#000000\" stroke-opacity=\"1\" stroke-width=\"3.2\"/>\n",
       "<circle clip-path=\"url(#clip632)\" cx=\"886.653\" cy=\"811.598\" r=\"14.4\" fill=\"#009af9\" fill-rule=\"evenodd\" fill-opacity=\"1\" stroke=\"#000000\" stroke-opacity=\"1\" stroke-width=\"3.2\"/>\n",
       "<circle clip-path=\"url(#clip632)\" cx=\"890.801\" cy=\"818.854\" r=\"14.4\" fill=\"#009af9\" fill-rule=\"evenodd\" fill-opacity=\"1\" stroke=\"#000000\" stroke-opacity=\"1\" stroke-width=\"3.2\"/>\n",
       "<circle clip-path=\"url(#clip632)\" cx=\"894.949\" cy=\"828.662\" r=\"14.4\" fill=\"#009af9\" fill-rule=\"evenodd\" fill-opacity=\"1\" stroke=\"#000000\" stroke-opacity=\"1\" stroke-width=\"3.2\"/>\n",
       "<circle clip-path=\"url(#clip632)\" cx=\"899.097\" cy=\"842.537\" r=\"14.4\" fill=\"#009af9\" fill-rule=\"evenodd\" fill-opacity=\"1\" stroke=\"#000000\" stroke-opacity=\"1\" stroke-width=\"3.2\"/>\n",
       "<circle clip-path=\"url(#clip632)\" cx=\"903.245\" cy=\"863.496\" r=\"14.4\" fill=\"#009af9\" fill-rule=\"evenodd\" fill-opacity=\"1\" stroke=\"#000000\" stroke-opacity=\"1\" stroke-width=\"3.2\"/>\n",
       "<circle clip-path=\"url(#clip632)\" cx=\"907.393\" cy=\"898.527\" r=\"14.4\" fill=\"#009af9\" fill-rule=\"evenodd\" fill-opacity=\"1\" stroke=\"#000000\" stroke-opacity=\"1\" stroke-width=\"3.2\"/>\n",
       "<circle clip-path=\"url(#clip632)\" cx=\"909.467\" cy=\"926.52\" r=\"14.4\" fill=\"#009af9\" fill-rule=\"evenodd\" fill-opacity=\"1\" stroke=\"#000000\" stroke-opacity=\"1\" stroke-width=\"3.2\"/>\n",
       "<circle clip-path=\"url(#clip632)\" cx=\"911.541\" cy=\"968.354\" r=\"14.4\" fill=\"#009af9\" fill-rule=\"evenodd\" fill-opacity=\"1\" stroke=\"#000000\" stroke-opacity=\"1\" stroke-width=\"3.2\"/>\n",
       "<circle clip-path=\"url(#clip632)\" cx=\"912.578\" cy=\"998.094\" r=\"14.4\" fill=\"#009af9\" fill-rule=\"evenodd\" fill-opacity=\"1\" stroke=\"#000000\" stroke-opacity=\"1\" stroke-width=\"3.2\"/>\n",
       "<circle clip-path=\"url(#clip632)\" cx=\"913.615\" cy=\"1037.54\" r=\"14.4\" fill=\"#009af9\" fill-rule=\"evenodd\" fill-opacity=\"1\" stroke=\"#000000\" stroke-opacity=\"1\" stroke-width=\"3.2\"/>\n",
       "<circle clip-path=\"url(#clip632)\" cx=\"914.652\" cy=\"1092.37\" r=\"14.4\" fill=\"#009af9\" fill-rule=\"evenodd\" fill-opacity=\"1\" stroke=\"#000000\" stroke-opacity=\"1\" stroke-width=\"3.2\"/>\n",
       "<circle clip-path=\"url(#clip632)\" cx=\"915.688\" cy=\"1173.69\" r=\"14.4\" fill=\"#009af9\" fill-rule=\"evenodd\" fill-opacity=\"1\" stroke=\"#000000\" stroke-opacity=\"1\" stroke-width=\"3.2\"/>\n",
       "<circle clip-path=\"url(#clip632)\" cx=\"916.207\" cy=\"1231.1\" r=\"14.4\" fill=\"#009af9\" fill-rule=\"evenodd\" fill-opacity=\"1\" stroke=\"#000000\" stroke-opacity=\"1\" stroke-width=\"3.2\"/>\n",
       "<circle clip-path=\"url(#clip632)\" cx=\"916.725\" cy=\"1306.78\" r=\"14.4\" fill=\"#009af9\" fill-rule=\"evenodd\" fill-opacity=\"1\" stroke=\"#000000\" stroke-opacity=\"1\" stroke-width=\"3.2\"/>\n",
       "<circle clip-path=\"url(#clip632)\" cx=\"917.244\" cy=\"1411.09\" r=\"14.4\" fill=\"#009af9\" fill-rule=\"evenodd\" fill-opacity=\"1\" stroke=\"#000000\" stroke-opacity=\"1\" stroke-width=\"3.2\"/>\n",
       "<circle clip-path=\"url(#clip632)\" cx=\"922.947\" cy=\"146.075\" r=\"14.4\" fill=\"#009af9\" fill-rule=\"evenodd\" fill-opacity=\"1\" stroke=\"#000000\" stroke-opacity=\"1\" stroke-width=\"3.2\"/>\n",
       "<circle clip-path=\"url(#clip632)\" cx=\"923.466\" cy=\"236.66\" r=\"14.4\" fill=\"#009af9\" fill-rule=\"evenodd\" fill-opacity=\"1\" stroke=\"#000000\" stroke-opacity=\"1\" stroke-width=\"3.2\"/>\n",
       "<circle clip-path=\"url(#clip632)\" cx=\"923.984\" cy=\"303.736\" r=\"14.4\" fill=\"#009af9\" fill-rule=\"evenodd\" fill-opacity=\"1\" stroke=\"#000000\" stroke-opacity=\"1\" stroke-width=\"3.2\"/>\n",
       "<circle clip-path=\"url(#clip632)\" cx=\"924.894\" cy=\"387.122\" r=\"14.4\" fill=\"#009af9\" fill-rule=\"evenodd\" fill-opacity=\"1\" stroke=\"#000000\" stroke-opacity=\"1\" stroke-width=\"3.2\"/>\n",
       "<circle clip-path=\"url(#clip632)\" cx=\"925.803\" cy=\"444.41\" r=\"14.4\" fill=\"#009af9\" fill-rule=\"evenodd\" fill-opacity=\"1\" stroke=\"#000000\" stroke-opacity=\"1\" stroke-width=\"3.2\"/>\n",
       "<circle clip-path=\"url(#clip632)\" cx=\"926.712\" cy=\"486.186\" r=\"14.4\" fill=\"#009af9\" fill-rule=\"evenodd\" fill-opacity=\"1\" stroke=\"#000000\" stroke-opacity=\"1\" stroke-width=\"3.2\"/>\n",
       "<circle clip-path=\"url(#clip632)\" cx=\"927.622\" cy=\"517.993\" r=\"14.4\" fill=\"#009af9\" fill-rule=\"evenodd\" fill-opacity=\"1\" stroke=\"#000000\" stroke-opacity=\"1\" stroke-width=\"3.2\"/>\n",
       "<circle clip-path=\"url(#clip632)\" cx=\"929.44\" cy=\"563.208\" r=\"14.4\" fill=\"#009af9\" fill-rule=\"evenodd\" fill-opacity=\"1\" stroke=\"#000000\" stroke-opacity=\"1\" stroke-width=\"3.2\"/>\n",
       "<circle clip-path=\"url(#clip632)\" cx=\"931.259\" cy=\"593.786\" r=\"14.4\" fill=\"#009af9\" fill-rule=\"evenodd\" fill-opacity=\"1\" stroke=\"#000000\" stroke-opacity=\"1\" stroke-width=\"3.2\"/>\n",
       "<circle clip-path=\"url(#clip632)\" cx=\"934.896\" cy=\"632.457\" r=\"14.4\" fill=\"#009af9\" fill-rule=\"evenodd\" fill-opacity=\"1\" stroke=\"#000000\" stroke-opacity=\"1\" stroke-width=\"3.2\"/>\n",
       "<circle clip-path=\"url(#clip632)\" cx=\"938.533\" cy=\"655.85\" r=\"14.4\" fill=\"#009af9\" fill-rule=\"evenodd\" fill-opacity=\"1\" stroke=\"#000000\" stroke-opacity=\"1\" stroke-width=\"3.2\"/>\n",
       "<circle clip-path=\"url(#clip632)\" cx=\"942.171\" cy=\"671.483\" r=\"14.4\" fill=\"#009af9\" fill-rule=\"evenodd\" fill-opacity=\"1\" stroke=\"#000000\" stroke-opacity=\"1\" stroke-width=\"3.2\"/>\n",
       "<circle clip-path=\"url(#clip632)\" cx=\"945.808\" cy=\"682.637\" r=\"14.4\" fill=\"#009af9\" fill-rule=\"evenodd\" fill-opacity=\"1\" stroke=\"#000000\" stroke-opacity=\"1\" stroke-width=\"3.2\"/>\n",
       "<circle clip-path=\"url(#clip632)\" cx=\"949.445\" cy=\"690.973\" r=\"14.4\" fill=\"#009af9\" fill-rule=\"evenodd\" fill-opacity=\"1\" stroke=\"#000000\" stroke-opacity=\"1\" stroke-width=\"3.2\"/>\n",
       "<circle clip-path=\"url(#clip632)\" cx=\"953.083\" cy=\"697.422\" r=\"14.4\" fill=\"#009af9\" fill-rule=\"evenodd\" fill-opacity=\"1\" stroke=\"#000000\" stroke-opacity=\"1\" stroke-width=\"3.2\"/>\n",
       "<circle clip-path=\"url(#clip632)\" cx=\"956.72\" cy=\"702.546\" r=\"14.4\" fill=\"#009af9\" fill-rule=\"evenodd\" fill-opacity=\"1\" stroke=\"#000000\" stroke-opacity=\"1\" stroke-width=\"3.2\"/>\n",
       "<circle clip-path=\"url(#clip632)\" cx=\"960.357\" cy=\"706.704\" r=\"14.4\" fill=\"#009af9\" fill-rule=\"evenodd\" fill-opacity=\"1\" stroke=\"#000000\" stroke-opacity=\"1\" stroke-width=\"3.2\"/>\n",
       "<circle clip-path=\"url(#clip632)\" cx=\"963.995\" cy=\"710.136\" r=\"14.4\" fill=\"#009af9\" fill-rule=\"evenodd\" fill-opacity=\"1\" stroke=\"#000000\" stroke-opacity=\"1\" stroke-width=\"3.2\"/>\n",
       "<circle clip-path=\"url(#clip632)\" cx=\"967.632\" cy=\"713.011\" r=\"14.4\" fill=\"#009af9\" fill-rule=\"evenodd\" fill-opacity=\"1\" stroke=\"#000000\" stroke-opacity=\"1\" stroke-width=\"3.2\"/>\n",
       "<circle clip-path=\"url(#clip632)\" cx=\"974.907\" cy=\"717.532\" r=\"14.4\" fill=\"#009af9\" fill-rule=\"evenodd\" fill-opacity=\"1\" stroke=\"#000000\" stroke-opacity=\"1\" stroke-width=\"3.2\"/>\n",
       "<circle clip-path=\"url(#clip632)\" cx=\"982.181\" cy=\"720.901\" r=\"14.4\" fill=\"#009af9\" fill-rule=\"evenodd\" fill-opacity=\"1\" stroke=\"#000000\" stroke-opacity=\"1\" stroke-width=\"3.2\"/>\n",
       "<circle clip-path=\"url(#clip632)\" cx=\"990.112\" cy=\"723.686\" r=\"14.4\" fill=\"#009af9\" fill-rule=\"evenodd\" fill-opacity=\"1\" stroke=\"#000000\" stroke-opacity=\"1\" stroke-width=\"3.2\"/>\n",
       "<circle clip-path=\"url(#clip632)\" cx=\"998.044\" cy=\"725.825\" r=\"14.4\" fill=\"#009af9\" fill-rule=\"evenodd\" fill-opacity=\"1\" stroke=\"#000000\" stroke-opacity=\"1\" stroke-width=\"3.2\"/>\n",
       "<circle clip-path=\"url(#clip632)\" cx=\"1005.97\" cy=\"727.502\" r=\"14.4\" fill=\"#009af9\" fill-rule=\"evenodd\" fill-opacity=\"1\" stroke=\"#000000\" stroke-opacity=\"1\" stroke-width=\"3.2\"/>\n",
       "<circle clip-path=\"url(#clip632)\" cx=\"1013.91\" cy=\"728.837\" r=\"14.4\" fill=\"#009af9\" fill-rule=\"evenodd\" fill-opacity=\"1\" stroke=\"#000000\" stroke-opacity=\"1\" stroke-width=\"3.2\"/>\n",
       "<circle clip-path=\"url(#clip632)\" cx=\"1029.77\" cy=\"730.791\" r=\"14.4\" fill=\"#009af9\" fill-rule=\"evenodd\" fill-opacity=\"1\" stroke=\"#000000\" stroke-opacity=\"1\" stroke-width=\"3.2\"/>\n",
       "<circle clip-path=\"url(#clip632)\" cx=\"1045.63\" cy=\"732.11\" r=\"14.4\" fill=\"#009af9\" fill-rule=\"evenodd\" fill-opacity=\"1\" stroke=\"#000000\" stroke-opacity=\"1\" stroke-width=\"3.2\"/>\n",
       "<circle clip-path=\"url(#clip632)\" cx=\"1077.55\" cy=\"733.671\" r=\"14.4\" fill=\"#009af9\" fill-rule=\"evenodd\" fill-opacity=\"1\" stroke=\"#000000\" stroke-opacity=\"1\" stroke-width=\"3.2\"/>\n",
       "<circle clip-path=\"url(#clip632)\" cx=\"1109.46\" cy=\"734.457\" r=\"14.4\" fill=\"#009af9\" fill-rule=\"evenodd\" fill-opacity=\"1\" stroke=\"#000000\" stroke-opacity=\"1\" stroke-width=\"3.2\"/>\n",
       "<circle clip-path=\"url(#clip632)\" cx=\"1180.03\" cy=\"735.086\" r=\"14.4\" fill=\"#009af9\" fill-rule=\"evenodd\" fill-opacity=\"1\" stroke=\"#000000\" stroke-opacity=\"1\" stroke-width=\"3.2\"/>\n",
       "<circle clip-path=\"url(#clip632)\" cx=\"1247.17\" cy=\"735.202\" r=\"14.4\" fill=\"#009af9\" fill-rule=\"evenodd\" fill-opacity=\"1\" stroke=\"#000000\" stroke-opacity=\"1\" stroke-width=\"3.2\"/>\n",
       "<circle clip-path=\"url(#clip632)\" cx=\"1316.99\" cy=\"735.212\" r=\"14.4\" fill=\"#009af9\" fill-rule=\"evenodd\" fill-opacity=\"1\" stroke=\"#000000\" stroke-opacity=\"1\" stroke-width=\"3.2\"/>\n",
       "<circle clip-path=\"url(#clip632)\" cx=\"1375.76\" cy=\"735.217\" r=\"14.4\" fill=\"#009af9\" fill-rule=\"evenodd\" fill-opacity=\"1\" stroke=\"#000000\" stroke-opacity=\"1\" stroke-width=\"3.2\"/>\n",
       "<circle clip-path=\"url(#clip632)\" cx=\"1447.51\" cy=\"735.245\" r=\"14.4\" fill=\"#009af9\" fill-rule=\"evenodd\" fill-opacity=\"1\" stroke=\"#000000\" stroke-opacity=\"1\" stroke-width=\"3.2\"/>\n",
       "<circle clip-path=\"url(#clip632)\" cx=\"1513.24\" cy=\"735.295\" r=\"14.4\" fill=\"#009af9\" fill-rule=\"evenodd\" fill-opacity=\"1\" stroke=\"#000000\" stroke-opacity=\"1\" stroke-width=\"3.2\"/>\n",
       "<circle clip-path=\"url(#clip632)\" cx=\"1573.94\" cy=\"735.357\" r=\"14.4\" fill=\"#009af9\" fill-rule=\"evenodd\" fill-opacity=\"1\" stroke=\"#000000\" stroke-opacity=\"1\" stroke-width=\"3.2\"/>\n",
       "<circle clip-path=\"url(#clip632)\" cx=\"1635.43\" cy=\"735.431\" r=\"14.4\" fill=\"#009af9\" fill-rule=\"evenodd\" fill-opacity=\"1\" stroke=\"#000000\" stroke-opacity=\"1\" stroke-width=\"3.2\"/>\n",
       "<circle clip-path=\"url(#clip632)\" cx=\"1704.35\" cy=\"735.521\" r=\"14.4\" fill=\"#009af9\" fill-rule=\"evenodd\" fill-opacity=\"1\" stroke=\"#000000\" stroke-opacity=\"1\" stroke-width=\"3.2\"/>\n",
       "<circle clip-path=\"url(#clip632)\" cx=\"1766.8\" cy=\"735.606\" r=\"14.4\" fill=\"#009af9\" fill-rule=\"evenodd\" fill-opacity=\"1\" stroke=\"#000000\" stroke-opacity=\"1\" stroke-width=\"3.2\"/>\n",
       "<circle clip-path=\"url(#clip632)\" cx=\"1838.3\" cy=\"735.702\" r=\"14.4\" fill=\"#009af9\" fill-rule=\"evenodd\" fill-opacity=\"1\" stroke=\"#000000\" stroke-opacity=\"1\" stroke-width=\"3.2\"/>\n",
       "<circle clip-path=\"url(#clip632)\" cx=\"1904.5\" cy=\"735.789\" r=\"14.4\" fill=\"#009af9\" fill-rule=\"evenodd\" fill-opacity=\"1\" stroke=\"#000000\" stroke-opacity=\"1\" stroke-width=\"3.2\"/>\n",
       "<circle clip-path=\"url(#clip632)\" cx=\"1969.77\" cy=\"735.871\" r=\"14.4\" fill=\"#009af9\" fill-rule=\"evenodd\" fill-opacity=\"1\" stroke=\"#000000\" stroke-opacity=\"1\" stroke-width=\"3.2\"/>\n",
       "<circle clip-path=\"url(#clip632)\" cx=\"2033.14\" cy=\"735.946\" r=\"14.4\" fill=\"#009af9\" fill-rule=\"evenodd\" fill-opacity=\"1\" stroke=\"#000000\" stroke-opacity=\"1\" stroke-width=\"3.2\"/>\n",
       "<circle clip-path=\"url(#clip632)\" cx=\"2098.1\" cy=\"736.019\" r=\"14.4\" fill=\"#009af9\" fill-rule=\"evenodd\" fill-opacity=\"1\" stroke=\"#000000\" stroke-opacity=\"1\" stroke-width=\"3.2\"/>\n",
       "<circle clip-path=\"url(#clip632)\" cx=\"2169.27\" cy=\"736.093\" r=\"14.4\" fill=\"#009af9\" fill-rule=\"evenodd\" fill-opacity=\"1\" stroke=\"#000000\" stroke-opacity=\"1\" stroke-width=\"3.2\"/>\n",
       "<circle clip-path=\"url(#clip632)\" cx=\"2272.66\" cy=\"736.191\" r=\"14.4\" fill=\"#009af9\" fill-rule=\"evenodd\" fill-opacity=\"1\" stroke=\"#000000\" stroke-opacity=\"1\" stroke-width=\"3.2\"/>\n",
       "<circle clip-path=\"url(#clip632)\" cx=\"2293.87\" cy=\"736.21\" r=\"14.4\" fill=\"#009af9\" fill-rule=\"evenodd\" fill-opacity=\"1\" stroke=\"#000000\" stroke-opacity=\"1\" stroke-width=\"3.2\"/>\n",
       "<path clip-path=\"url(#clip630)\" d=\"\n",
       "M1999.81 196.789 L2283.41 196.789 L2283.41 93.1086 L1999.81 93.1086  Z\n",
       "  \" fill=\"#ffffff\" fill-rule=\"evenodd\" fill-opacity=\"1\"/>\n",
       "<polyline clip-path=\"url(#clip630)\" style=\"stroke:#000000; stroke-linecap:round; stroke-linejoin:round; stroke-width:4; stroke-opacity:1; fill:none\" points=\"\n",
       "  1999.81,196.789 2283.41,196.789 2283.41,93.1086 1999.81,93.1086 1999.81,196.789 \n",
       "  \"/>\n",
       "<circle clip-path=\"url(#clip630)\" cx=\"2092.28\" cy=\"144.949\" r=\"23.04\" fill=\"#009af9\" fill-rule=\"evenodd\" fill-opacity=\"1\" stroke=\"#000000\" stroke-opacity=\"1\" stroke-width=\"5.12\"/>\n",
       "<path clip-path=\"url(#clip630)\" d=\"M2198.59 164.636 Q2196.78 169.266 2195.07 170.678 Q2193.36 172.09 2190.49 172.09 L2187.08 172.09 L2187.08 168.525 L2189.58 168.525 Q2191.34 168.525 2192.31 167.692 Q2193.29 166.858 2194.47 163.756 L2195.23 161.812 L2184.74 136.303 L2189.26 136.303 L2197.36 156.581 L2205.46 136.303 L2209.98 136.303 L2198.59 164.636 Z\" fill=\"#000000\" fill-rule=\"evenodd\" fill-opacity=\"1\" /><path clip-path=\"url(#clip630)\" d=\"M2217.27 158.293 L2224.91 158.293 L2224.91 131.928 L2216.6 133.595 L2216.6 129.335 L2224.86 127.669 L2229.54 127.669 L2229.54 158.293 L2237.17 158.293 L2237.17 162.229 L2217.27 162.229 L2217.27 158.293 Z\" fill=\"#000000\" fill-rule=\"evenodd\" fill-opacity=\"1\" /></svg>\n"
      ]
     },
     "metadata": {},
     "output_type": "display_data"
    }
   ],
   "source": [
    "using Plots\n",
    "scatter(f, xlabel=\"μ\", ylabel=\"f(μ)\", ylims=(-300,300))"
   ]
  },
  {
   "cell_type": "markdown",
   "id": "a542d1fe",
   "metadata": {},
   "source": [
    "<!-- useful links: https://developer.mozilla.org/en-US/docs/Web/HTML/Element/video -->\n",
    "\n",
    "### Parte imaginaría función test\n",
    "<video controls width=\"500\">\n",
    "  <!-- <source src=\"./results/QM/movie.webm\" type=\"video/webm\" /> -->\n",
    "  <source src=\"./results/QM/test_imaginarypart_movie.mp4\" type=\"video/mp4\"/>\n",
    "  <!-- <p>\n",
    "    Your browser doesn't support HTML video. Here is a\n",
    "    <a href=\"./results/QM/movie.mp4\">link to the video</a> instead.\n",
    "  </p> -->\n",
    "</video>\n",
    "\n",
    "### Función densidad partícula\n",
    "<video controls width=\"500\">\n",
    "  <source src=\"./results/QM/particle_density_movie.mp4\" type=\"video/mp4\"/>\n",
    "</video>"
   ]
  },
  {
   "cell_type": "markdown",
   "id": "404924a5",
   "metadata": {},
   "source": []
  }
 ],
 "metadata": {
  "kernelspec": {
   "display_name": "Julia 1.8.0",
   "language": "julia",
   "name": "julia-1.8"
  },
  "language_info": {
   "file_extension": ".jl",
   "mimetype": "application/julia",
   "name": "julia",
   "version": "1.8.0"
  }
 },
 "nbformat": 4,
 "nbformat_minor": 5
}
