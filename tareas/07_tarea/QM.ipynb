{
 "cells": [
  {
   "cell_type": "markdown",
   "id": "e5dc48c4-47c1-41cf-b0b3-3029c289527f",
   "metadata": {},
   "source": [
    "## Schrodinger Equation ##"
   ]
  },
  {
   "cell_type": "markdown",
   "id": "c28df877-709f-497c-a4ec-bdcb5d1686cd",
   "metadata": {},
   "source": [
    "We are going to solve the Schrodinger equation on a domain $\\Omega_h$ with Dirichlet boundary contitions."
   ]
  },
  {
   "cell_type": "markdown",
   "id": "b59d4ca5-8032-4e4d-a905-bf3544cce615",
   "metadata": {},
   "source": [
    "The equation to solve is:\n",
    "\n",
    "$$\n",
    "i \\frac{\\partial u}{\\partial t} = \\Delta u \n",
    "$$\n",
    "\n",
    "Which we solve using,\n",
    "\n",
    "$$\n",
    "i (u - u_n) = dt *  \\Delta (u + u_n)/2\n",
    "$$\n",
    "\n",
    "As time integrator, here $u = u_{n+1}$. Since the eigenvalues of $\\Delta$ are proportional to $\\Delta x^2$, $\\lambda = -c/\\Delta x^2$, $c > 0$, we must be carefull with the stability region of the method. We have, for each eigenfunction, \n",
    "\n",
    "$$\n",
    "(i - \\lambda dt/2)u = (i + \\lambda dt /2 )u_n\n",
    "$$\n",
    "\n",
    "Thus, the amplification factor is: \n",
    "\n",
    "$$\n",
    "|\\frac{1 + i\\lambda dt /2}{1 - i\\lambda dt /2}| = 1\n",
    "$$\n",
    "\n",
    "and the system is unconditionaly stable.\n",
    "\n",
    "\n",
    "\n",
    "We shall use its weak form,\n",
    "\n",
    "$$\n",
    "\\int [2i v*u +  \\nabla v \\cdot \\nabla u ] \\; d\\Omega = \\int [2i*v*u_n - \\nabla v \\cdot \\nabla u_n ] \\; d\\Omega\n",
    "$$\n",
    "\n"
   ]
  },
  {
   "cell_type": "code",
   "execution_count": 2,
   "id": "243cd6dc-15ba-4989-90c6-84e1317cc327",
   "metadata": {},
   "outputs": [
    {
     "name": "stderr",
     "output_type": "stream",
     "text": [
      "\u001b[32m\u001b[1m  Activating\u001b[22m\u001b[39m project at `~/Docencia/PDE/pde/2022/Numéricos/Tarea_7/gridap_makie`\n"
     ]
    }
   ],
   "source": [
    "import Pkg;\n",
    "Pkg.activate(\"gridap_makie\");\n",
    "using Gridap\n",
    "using GridapMakie, GLMakie\n",
    "using FileIO\n",
    "#using Plots\n",
    "#mkdir(\"models\")\n",
    "#mkdir(\"images\")\n",
    "using GridapGmsh\n",
    "#using GridapGeosciences\n",
    "using Gridap.Arrays\n",
    "#using Gridap.TensorValues\n",
    "using Gridap.ReferenceFEs\n",
    "#using Gridap.Geometry\n",
    "#using Gridap.Fields\n",
    "using Gridap.Algebra\n",
    "using SparseArrays\n",
    "using Gridap.FESpaces\n",
    "using Gridap.CellData"
   ]
  },
  {
   "cell_type": "code",
   "execution_count": 52,
   "id": "9ef33339-ad88-4232-844b-fc3b07bf5e26",
   "metadata": {},
   "outputs": [
    {
     "name": "stdout",
     "output_type": "stream",
     "text": [
      "dt / dx^2 = 10.323563876231049   dt / dx = 0.057353132645728055  dt^3 / dx^6 = 1100.2438453905734\n"
     ]
    }
   ],
   "source": [
    "l = 180\n",
    "domain = (0, 1, 0, 1)\n",
    "partition = (l, l)\n",
    "model = CartesianDiscreteModel(domain, partition)\n",
    "# dynamic viscosity\n",
    "\n",
    "test = false\n",
    "bump = false\n",
    "particle = false\n",
    "\n",
    "#particle = true\n",
    "test = true\n",
    "\n",
    "save_file::String = \"Results/QM/\"\n",
    "\n",
    "if test\n",
    "    T = 1 / π\n",
    "    num_steps = 1000\n",
    "    n_int = 100\n",
    "    save_file = save_file * \"test\" #where to save things\n",
    "elseif bump\n",
    "    save_file = save_file * \"bump\"\n",
    "    T = 4\n",
    "    num_steps = 1601\n",
    "    n_int = 160\n",
    "elseif particle\n",
    "    save_file = save_file * \"particle\"\n",
    "    T = 3           # final time for test\n",
    "\n",
    "    num_steps = 1601   # number of time steps for 128 T=3 \n",
    "    #num_steps = 12000   # number of time steps for 128 T=6 \n",
    "    #num_steps = 10000   # number of time steps for 64 T=3 \n",
    "    #num_steps = 50000   # number of time steps for 64 T=6 \n",
    "        # Intervals where data is saved\n",
    "    n_int = 160 # for 64\n",
    "    #mod = 60 # for 128\n",
    "    #mod = 120 # for 128 T=6\n",
    "    #mod = 240 # for 256 T=3\n",
    "    #mod = 480\n",
    "end\n",
    "\n",
    "dt = T / (num_steps - 1)\n",
    "\n",
    "println(\"dt / dx^2 = $(dt * l^2)   dt / dx = $(dt * l)  dt^3 / dx^6 = $((dt * l^2)^3)\")"
   ]
  },
  {
   "cell_type": "markdown",
   "id": "1493e883-cb2b-48b3-9e5e-4c030a4dee55",
   "metadata": {},
   "source": [
    "The first number indicates what it would be the CFL condition for the explicit Euler method. The second a guide about taking time and space comparable steps. The third is proportinal to the error, obtained by expanding \n",
    "\n",
    "$$\n",
    "\\frac{1 + i\\lambda dt /2}{1 - i\\lambda dt /2} - e^{i\\lambda dt} = (1 + i\\lambda dt /2)(1 + i\\lambda dt /2 - \\frac{\\lambda^2 dt^2}{4})  - (1 + i\\lambda dt - \\frac{\\lambda^2 dt^2}{2}) = O(\\lambda dt)^3 \n",
    "$$"
   ]
  },
  {
   "cell_type": "code",
   "execution_count": 41,
   "id": "be7b49d7-3947-4440-93da-39ed7f8964e2",
   "metadata": {},
   "outputs": [],
   "source": [
    "labels = get_face_labeling(model)\n",
    "add_tag_from_tags!(labels, \"diri_all\", [1, 2, 3, 4, 5, 6, 7, 8]);"
   ]
  },
  {
   "cell_type": "code",
   "execution_count": 42,
   "id": "41bb7a4b-747c-4088-b9f4-3ac6ab97bdc1",
   "metadata": {},
   "outputs": [
    {
     "data": {
      "text/plain": [
       "Measure()"
      ]
     },
     "execution_count": 42,
     "metadata": {},
     "output_type": "execute_result"
    }
   ],
   "source": [
    "order = 2\n",
    "degree = order\n",
    "Ωₕ = Triangulation(model)\n",
    "dΩₕ = Measure(Ωₕ, degree)\n"
   ]
  },
  {
   "cell_type": "code",
   "execution_count": 43,
   "id": "dff10043-fc95-41bf-b15f-af4790342399",
   "metadata": {},
   "outputs": [
    {
     "data": {
      "image/png": "[encoded data removed]"
     },
     "execution_count": 43,
     "metadata": {},
     "output_type": "execute_result"
    }
   ],
   "source": [
    "ue(x) = x[1]\n",
    "Γ₁ = BoundaryTriangulation(model, tags=[5, 6, 7, 8])\n",
    "fig, ax, plt = plot(Γ₁, ue, colormap=:heat, linewidth=10)\n",
    "ax.aspect = AxisAspect(1)\n",
    "Colorbar(fig[1, 2], plt)\n",
    "fig\n",
    "\n",
    "#plot(Γ₁)"
   ]
  },
  {
   "cell_type": "code",
   "execution_count": null,
   "id": "b4704249-9c67-484a-8268-0e1c259183d5",
   "metadata": {},
   "outputs": [],
   "source": [
    "#scatter(BoundaryTriangulation(model,tags=[4]))\n"
   ]
  },
  {
   "cell_type": "code",
   "execution_count": 57,
   "id": "58407394-2cca-47b9-93fc-4b0655c9961c",
   "metadata": {},
   "outputs": [
    {
     "data": {
      "text/plain": [
       "(Lagrangian(), (Float64, 2), Base.Pairs{Symbol, Union{}, Tuple{}, NamedTuple{(), Tuple{}}}())"
      ]
     },
     "execution_count": 57,
     "metadata": {},
     "output_type": "execute_result"
    }
   ],
   "source": [
    "reffe = ReferenceFE(lagrangian, Float64, order)"
   ]
  },
  {
   "cell_type": "code",
   "execution_count": 58,
   "id": "aeb0c2c2-aabc-4a85-ab89-07633c6905f1",
   "metadata": {},
   "outputs": [
    {
     "data": {
      "text/plain": [
       "TrialFESpace()"
      ]
     },
     "execution_count": 58,
     "metadata": {},
     "output_type": "execute_result"
    }
   ],
   "source": [
    "V = TestFESpace(model, reffe, labels=labels, dirichlet_tags=[\"diri_all\"], conformity=:H1, vector_type=Vector{ComplexF64})\n",
    "U = TrialFESpace(V, 0.0)"
   ]
  },
  {
   "cell_type": "code",
   "execution_count": null,
   "id": "6f7504d7-55b6-430b-adee-56d693e64253",
   "metadata": {},
   "outputs": [],
   "source": [
    "#ls = LUSolver()\n",
    "#solver = LinearFESolver(ls)"
   ]
  },
  {
   "cell_type": "code",
   "execution_count": 46,
   "id": "94b03f2b-7765-49c2-8005-6e358743545d",
   "metadata": {},
   "outputs": [
    {
     "data": {
      "text/plain": [
       "norm_L2 (generic function with 1 method)"
      ]
     },
     "execution_count": 46,
     "metadata": {},
     "output_type": "execute_result"
    }
   ],
   "source": [
    "norm_L2(u) = sqrt(real(sum(∫(u' * u) * dΩₕ)))"
   ]
  },
  {
   "cell_type": "code",
   "execution_count": 47,
   "id": "72d31ef1-d5c9-462f-b736-368996c2f296",
   "metadata": {},
   "outputs": [
    {
     "data": {
      "text/plain": [
       "0.9510565162951536"
      ]
     },
     "execution_count": 47,
     "metadata": {},
     "output_type": "execute_result"
    }
   ],
   "source": [
    "function u_0_bump(x, par)\n",
    "    r0, r1, p = par\n",
    "    r = sqrt((x[1] - 0.5)^2 + (x[2] - 0.5)^2)\n",
    "    if r > r0 && r < r1\n",
    "        return (r - r0)^p * (r - r1)^p * (4^(2p)) + 0.0 * im\n",
    "    else\n",
    "        return 0.0 + 0.0 * im\n",
    "    end\n",
    "end\n",
    "\n",
    "function u_0_particle(x, par)\n",
    "    r0, xi, k, p = par\n",
    "    r = sqrt((x[1] - xi[1])^2 + (x[2] - xi[2])^2)\n",
    "    kx = 2π * (k[1] * (x[1] - xi[1]) + k[2] * (x[2] - xi[2]))\n",
    "    if r < r0\n",
    "        return (r - r0)^p * (r - r0)^p * (4^(2p)) * exp(im * kx)\n",
    "    else\n",
    "        return 0.0 + 0.0 * im\n",
    "    end\n",
    "end\n",
    "\n",
    "\n",
    "\n",
    "function u_0_test(x, p)\n",
    "    n, m = p\n",
    "    return sin(π * x[1] * n) * sin(π * x[2] * m)\n",
    "end\n",
    "\n",
    "function test_solution(x, t, p)\n",
    "    n, m = p\n",
    "    ω = π^2 * (n^2 + m^2)\n",
    "    return sin(π * x[1] * n) * sin(π * x[2] * m) * exp(im * ω * t)\n",
    "end\n",
    "\n",
    "par_bump = (0.25, 0.75, 4)\n",
    "par_test = (2, 3)\n",
    "par_particle = (0.4, [0.25; 0.25], [-16; 16], 4)\n",
    "\n",
    "#u_0_bump([0.5;0.5], par_bump)\n",
    "u_0_test([0.8; 0.5], par_test)\n",
    "#u_0_particle([0.5;0.5], par_particle)\n"
   ]
  },
  {
   "cell_type": "code",
   "execution_count": 48,
   "id": "17621d2c-ee14-4917-82d1-a64d89c7d7c6",
   "metadata": {},
   "outputs": [
    {
     "data": {
      "text/plain": [
       "0.49999999218761737"
      ]
     },
     "execution_count": 48,
     "metadata": {},
     "output_type": "execute_result"
    }
   ],
   "source": [
    "if test\n",
    "    u_0(x) = u_0_test(x, par_test)\n",
    "elseif bump\n",
    "    u_0(x) = u_0_bump(x, par_bump)\n",
    "elseif particle\n",
    "    u_0(x) = u_0_particle(x, par_particle)\n",
    "end\n",
    "\n",
    "u_n = interpolate_everywhere(u_0, V)\n",
    "writevtk( Ωₕ,\"Results/QM/ini_dat_$(lpad(0,3,'0'))\", cellfields=[\"uh_r\"=>real(u_n),\"uh_i\"=>imag(u_n)])\n",
    "\n",
    "norm_L2(u_n)\n",
    "#sum(∫(u_n'*u_n)*dΩₕ)"
   ]
  },
  {
   "cell_type": "code",
   "execution_count": 49,
   "id": "c780a78b-1974-466d-b656-9dd035c1bffe",
   "metadata": {},
   "outputs": [
    {
     "data": {},
     "execution_count": 49,
     "metadata": {},
     "output_type": "execute_result"
    }
   ],
   "source": [
    "fig, axₕlt = plot(Ωₕ, real(u_n))\n",
    "ax.aspect = AxisAspect(1)\n",
    "Colorbar(fig[2, 1], plt, vertical=false)\n",
    "current_figure()\n",
    "#fig"
   ]
  },
  {
   "cell_type": "markdown",
   "id": "7ce1d218-bacf-4c29-860b-9d3c130f547e",
   "metadata": {},
   "source": [
    "To generate just once the matrix A we follow this example: https://github.com/gridap/Gridap.jl/blob/master/test/FESpacesTests/AssemblersTests.jl\n",
    "\n"
   ]
  },
  {
   "cell_type": "code",
   "execution_count": 53,
   "id": "fa56225a-f1fb-4f70-a056-67f0670d7afe",
   "metadata": {},
   "outputs": [
    {
     "name": "stdout",
     "output_type": "stream",
     "text": [
      "time = 0.03218147998454746, rel_error = 0.0005748644589725703,      l2 = 0.4999999921876002\n",
      "time = 0.06404433145439616, rel_error = 0.0011440371439556567,      l2 = 0.49999999218759067\n",
      "time = 0.09590718292424551, rel_error = 0.0017132097363676943,      l2 = 0.4999999921875761\n",
      "time = 0.12777003439409484, rel_error = 0.002282382190027593,      l2 = 0.4999999921875695\n",
      "time = 0.1596328858639442, rel_error = 0.0028515544588407736,      l2 = 0.49999999218756014\n",
      "time = 0.19149573733379355, rel_error = 0.003420726496704695,      l2 = 0.49999999218754715\n",
      "time = 0.2233585888036429, rel_error = 0.003989898257529871,      l2 = 0.4999999921875405\n",
      "time = 0.25522144027349225, rel_error = 0.0045590696952189,      l2 = 0.49999999218752794\n",
      "time = 0.2870842917433416, rel_error = 0.005128240763664492,      l2 = 0.4999999921875176\n"
     ]
    }
   ],
   "source": [
    "assem = SparseMatrixAssembler(U, V)\n",
    "dv = get_fe_basis(V)\n",
    "du = get_trial_fe_basis(U)\n",
    "\n",
    "a(u, v) = ∫(∇(v) ⋅ ∇(u) * dt + im * 2 * v * u)dΩₕ\n",
    "\n",
    "mat_contribs = a(du, dv)\n",
    "data = collect_cell_matrix(U, V, mat_contribs)\n",
    "A = assemble_matrix(assem, data)\n",
    "\n",
    "t = 0\n",
    "u_n = interpolate_everywhere(u_0, V)\n",
    "writevtk(\n",
    "  Ωₕ, save_file * \"_$(lpad(0,3,'0'))\",\n",
    "  cellfields=[\"uh_r\" => real(u_n), \"uh_i\" => imag(u_n)])\n",
    "\n",
    "\n",
    "if test\n",
    "  e = zeros(num_steps ÷ n_int)\n",
    "  writevtk(\n",
    "        Ωₕ, save_file * \"_error_$(lpad(istep,3,'0'))\",\n",
    "        cellfields=[\"error_r\" => real(u_n - u_n), \"error_i\" => imag(u_n - u_s)]) #this is just 0\n",
    "end\n",
    "\n",
    "for istep in 1:num_steps\n",
    "\n",
    "  #println(\"\\n+++ Solving in step $istep of $num_steps +++\\n\")\n",
    "  t = t + dt\n",
    "  b(v) = ∫(∇(v) ⋅ ∇(-u_n) * dt + im * 2 * v * u_n)dΩₕ\n",
    "  vec_contribs = b(dv)\n",
    "  data = collect_cell_vector(V, vec_contribs)\n",
    "  b = assemble_vector(assem, data)\n",
    "\n",
    "  #op = AffineFEOperator(a,b,U,V)\n",
    "  #uh = solve(solver,op)\n",
    "  x = A \\ b\n",
    "  uh = FEFunction(U, x)\n",
    "\n",
    "  u_n = uh\n",
    "\n",
    "  if (istep - 1) % n_int == 0 && istep > 1\n",
    "    writevtk(\n",
    "      Ωₕ, save_file * \"_$(lpad(istep,3,'0'))\",\n",
    "      cellfields=[\"uh_r\" => real(u_n), \"uh_i\" => imag(u_n)])\n",
    "    if test\n",
    "      u_0(x) = test_solution(x, t, par_test)\n",
    "      u_s = interpolate_everywhere(u_0, V)\n",
    "      writevtk(\n",
    "        Ωₕ, save_file * \"_error_$(lpad(istep,3,'0'))\",\n",
    "        cellfields=[\"error_r\" => real(u_n - u_s), \"error_i\" => imag(u_n - u_s)])\n",
    "      error = norm_L2(u_n - u_s)\n",
    "      e[(istep-1)÷n_int] = error\n",
    "      l2 = norm_L2(u_n)\n",
    "      println(\"time = $t, rel_error = $(error/l2),      l2 = $l2\")\n",
    "    end\n",
    "  end\n",
    "\n",
    "\n",
    "end\n"
   ]
  },
  {
   "cell_type": "markdown",
   "id": "4913cca6-a50c-4cbd-8425-88ed3eb15cf0",
   "metadata": {},
   "source": [
    "Vemos que el error tiene un crecimiento lineal, tal como se espera. "
   ]
  },
  {
   "cell_type": "code",
   "execution_count": 54,
   "id": "5b99bf2a-7571-4acf-9396-857e791dbcfd",
   "metadata": {},
   "outputs": [
    {
     "data": {
      "image/png": "[encoded data removed]"
     },
     "execution_count": 54,
     "metadata": {},
     "output_type": "execute_result"
    }
   ],
   "source": [
    "if test\n",
    "    scatter(e)\n",
    "end"
   ]
  },
  {
   "cell_type": "markdown",
   "id": "d66297b6",
   "metadata": {},
   "source": []
  },
  {
   "cell_type": "code",
   "execution_count": 55,
   "id": "150e39b5",
   "metadata": {},
   "outputs": [
    {
     "data": {
      "text/plain": [
       "f (generic function with 1 method)"
      ]
     },
     "execution_count": 55,
     "metadata": {},
     "output_type": "execute_result"
    }
   ],
   "source": [
    "f(μ) = (1-μ/2)/(1+μ/2) - exp(-μ)"
   ]
  },
  {
   "cell_type": "code",
   "execution_count": 56,
   "id": "df351020",
   "metadata": {},
   "outputs": [
    {
     "ename": "LoadError",
     "evalue": "UndefVarError: line not defined",
     "output_type": "error",
     "traceback": [
      "UndefVarError: line not defined",
      "",
      "Stacktrace:",
      " [1] top-level scope",
      "   @ In[56]:1",
      " [2] eval",
      "   @ ./boot.jl:368 [inlined]",
      " [3] include_string(mapexpr::typeof(REPL.softscope), mod::Module, code::String, filename::String)",
      "   @ Base ./loading.jl:1428"
     ]
    }
   ],
   "source": [
    "lines(f)"
   ]
  },
  {
   "cell_type": "code",
   "execution_count": null,
   "id": "fc69757e",
   "metadata": {},
   "outputs": [],
   "source": []
  }
 ],
 "metadata": {
  "kernelspec": {
   "display_name": "Julia 1.8.1",
   "language": "julia",
   "name": "julia-1.8"
  },
  "language_info": {
   "file_extension": ".jl",
   "mimetype": "application/julia",
   "name": "julia",
   "version": "1.8.1"
  }
 },
 "nbformat": 4,
 "nbformat_minor": 5
}
