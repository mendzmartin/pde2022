{
 "cells": [
  {
   "cell_type": "markdown",
   "metadata": {},
   "source": [
    "# Tarea 6\n",
    "\n",
    "### Importante 1: ###\n",
    "Para esta tarea deberá tener instaladas las librerías Gridap y gmsh (este último no está en directamente registrado en Julia, así que hay que bajarlo con el comando ]add https://github.com/koehlerson/gmsh.jl.git) y alguno de los visualizadores compatibles: VisIt https://wci.llnl.gov/simulation/computer-codes/visit/ o Paraview https://www.paraview.org/\n",
    "\n",
    "\n",
    "\n",
    "### Importante 2: ###\n",
    "Renombre el archivo como: \n",
    "**nombre_del_grupo_tarea_6.ipynb**\n",
    "\n",
    "**Todo el código generado y la presentación deberá estar incluida en este notebook.**\n",
    "\n",
    "**El objetivo de la tarea es simple:**\n",
    "\n",
    "1. Familiarizarse con los algoritmos de búsqueda de autovalores/autovectores.\n",
    "\n",
    "\n",
    "\n",
    "\n",
    "\n",
    "**1)** En el directorio encontrará varios ejemplos de cálculo de autovalores/autovectores en 1 y 2 dimensiones:\n",
    "\n",
    "    eigenvals_1D_eqn.ipynb\n",
    "    Laplacian_Eigenvalues.ipynb\n",
    "    Cavity.ipynb\n",
    "    \n",
    "El último no tiene visualización todavía y es un poco experimental. Examine los 3 (principalmente los dos primeros). Elija uno de ellos y estudie la convergencia de los métodos usando distintas bases y distintas grillas. \n",
    "\n",
    "**2)** Busque un problema que le interese y modifique uno de los códigos para resolverlo.  \n",
    "Puede ser el agregado de un potencial, un cambio en el dominio de integración, o un cambio en las condiciones de contorno, o un cambio en la ecuación.\n",
    "\n",
    "\n",
    "\n",
    "\n"
   ]
  },
  {
   "cell_type": "code",
   "execution_count": null,
   "metadata": {},
   "outputs": [],
   "source": []
  }
 ],
 "metadata": {
  "kernelspec": {
   "display_name": "Julia 1.8.0",
   "language": "julia",
   "name": "julia-1.8"
  },
  "language_info": {
   "file_extension": ".jl",
   "mimetype": "application/julia",
   "name": "julia",
   "version": "1.8.0"
  },
  "latex_envs": {
   "LaTeX_envs_menu_present": true,
   "autoclose": false,
   "autocomplete": true,
   "bibliofile": "biblio.bib",
   "cite_by": "apalike",
   "current_citInitial": 1,
   "eqLabelWithNumbers": true,
   "eqNumInitial": 1,
   "hotkeys": {
    "equation": "Ctrl-E",
    "itemize": "Ctrl-I"
   },
   "labels_anchors": false,
   "latex_user_defs": false,
   "report_style_numbering": false,
   "user_envs_cfg": false
  }
 },
 "nbformat": 4,
 "nbformat_minor": 4
}
