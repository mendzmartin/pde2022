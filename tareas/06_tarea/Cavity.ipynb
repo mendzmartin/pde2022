{
 "cells": [
  {
   "cell_type": "markdown",
   "id": "49952432-e814-40b7-ac50-1e65bbeced4f",
   "metadata": {},
   "source": [
    "## En construcción (no puedo hacer andar los Nedelec) ##"
   ]
  },
  {
   "cell_type": "markdown",
   "id": "49382aad-3aba-4c80-815b-0a4fb4a330e9",
   "metadata": {},
   "source": [
    "# Capacity Project\n",
    "\n",
    "Writen by: Oscar Reula (oreula@gmail.com)\n",
    "\n",
    "This code is writen in Fenics/Python, it is used to compute the resonant frequencies and eigenvectors of a cavity. At the moment is 2-dimensional, that is it corresponds to infinite long structures in the  ẑ direction. \n",
    "This restriction is mainly due to have a code that can run in home computers in very short time.\n",
    "\n",
    "First the theory: we need to solve the following eigenfuntion problem for the electric field:\n",
    "\n",
    "$\\nabla \\wedge (\\nabla \\wedge \\vec{E})  = \\lambda \\vec{E} \\quad\\quad\\text{ in } \\Omega$\n",
    "\n",
    "$\\vec{E} \\wedge \\hat{n}= 0 \\text{ on } \\partial\\Omega$\n",
    "\n",
    "Where $\\Omega$ is some 2-dimensional region, we think for this problem as the electric field having zero $\\hat{z}$ component. Here $\\lambda = \\frac{\\omega^2}{c^2}$ with $\\omega$ the mode frequency and $c$ the speed of light.\n",
    "Notice that if the take the divergence of the right hand side of the equation we get identically zero, thus, all the modes must have zero divergence, but also implies that the operator at the right hand side has a big kernel.\n",
    "Thus, to solve the problem as a variational one we must restrict the space to that of vectors with zero divergence.\n",
    "It is only in this space that the operator is elliptic."
   ]
  },
  {
   "cell_type": "markdown",
   "id": "9735b580-a2c9-43dc-aab9-068a50cf7941",
   "metadata": {},
   "source": [
    "In order to use finite elements we need to express the problem as a weak one:\n",
    "\n",
    "$$\n",
    "\\int_{\\Omega} \\nabla \\wedge \\vec{E}\\,\\cdot \\nabla \\wedge \\vec{V}\\, {\\rm d} x\n",
    "= \\lambda \\int_{\\Omega} \\vec{E} \\cdot \\vec{V}\\, {\\rm d} x \\quad \\forall \\ \\vec{V}\\in H_0(\\nabla \\wedge),\n",
    "$$\n",
    "\n",
    "Where the space $H_0(\\nabla \\wedge)$ is the space of vectors which have zero divergence. "
   ]
  },
  {
   "cell_type": "markdown",
   "id": "dd4b8b9a-9430-40a1-9056-2a8565910baf",
   "metadata": {},
   "source": [
    "We shall have a test case, namely:\n",
    "\n",
    "\\begin{align}\n",
    "    \\nabla \\wedge (\\nabla \\wedge \\vec{E})  = \\lambda \\vec{E} \\quad\\quad\\text{ in } \\Omega \\quad\\quad\\quad\n",
    "    \\Omega = (0,\\pi)\\times(0,\\pi)\n",
    "\\end{align}\n",
    "\n",
    "For this case we know the solutions: (see for instance: http://www.famaf.unc.edu.ar/~reula/Docencia/Electromagnetismo/electrodynamics.pdf, Sec. 19.1)\n",
    "\n",
    "$\\vec{E}(x,y) = (m\\cos(n x)\\sin(m y), -n\\cos(m y)\\sin(n x)), \\quad \\lambda = m^2 + n^2,$ $\\quad \\lambda = 1, 1, 2, 4, 4, 5, 5, 8, 9, 9, 10, 10, 13, 13, \\dots$\n",
    "\n",
    "We use this case to check that what we are doing is correct. \n",
    "\n",
    "We are going to compute the eigenvectors for regions with several disconected boundaries. In that case there are an infinite set of zero mode solutions. The equations for the zero modes are just Laplace's equation for a potential,\n",
    "where the boundary condition is that in each boundary the potential is constant. That problem as a n-parameter family of solutions, where the parameters are the potential's value at the n boundaries. Taking out a normalization constant we see that there remain n-1 parameters in the continuum. If the potentials are not all equal we then have a non-zero electric field and so a zero-mode for each set of parameter values."
   ]
  },
  {
   "cell_type": "code",
   "execution_count": 1,
   "id": "e64b8b1a-f87c-405b-baf8-68b4bb930d9c",
   "metadata": {},
   "outputs": [
    {
     "name": "stderr",
     "output_type": "stream",
     "text": [
      "\u001b[32m\u001b[1m  Activating\u001b[22m\u001b[39m project at `~/Docencia/PDE/pde/2022/Numéricos/Tarea_5/gridap_makie`\n",
      "\u001b[32m\u001b[1m    Updating\u001b[22m\u001b[39m registry at `~/.julia/registries/General.toml`\n",
      "\u001b[32m\u001b[1m   Resolving\u001b[22m\u001b[39m package versions...\n",
      "\u001b[32m\u001b[1m  No Changes\u001b[22m\u001b[39m to `~/Docencia/PDE/pde/2022/Numéricos/Tarea_5/gridap_makie/Project.toml`\n",
      "\u001b[32m\u001b[1m  No Changes\u001b[22m\u001b[39m to `~/Docencia/PDE/pde/2022/Numéricos/Tarea_5/gridap_makie/Manifest.toml`\n"
     ]
    }
   ],
   "source": [
    "import Pkg; Pkg.activate(\"../Tarea_5/gridap_makie\")\n",
    "using Gridap\n",
    "using Gridap.FESpaces\n",
    "using GridapMakie, GLMakie\n",
    "#using CairoMakie\n",
    "import Pkg; Pkg.add(\"WGLMakie\")\n",
    "using WGLMakie\n",
    "using FileIO\n",
    "#using Plots\n",
    "#mkdir(\"models\")\n",
    "#mkdir(\"images\")\n",
    "using GridapGmsh\n",
    "using Gmsh\n",
    "using LinearAlgebra\n",
    "using SparseArrays\n",
    "using SuiteSparse\n",
    "\n",
    "#import Pkg; Pkg.add(\"Arpack\")\n",
    "using Arpack"
   ]
  },
  {
   "cell_type": "code",
   "execution_count": 23,
   "id": "4ce43bb4-a3fd-4ed5-883a-4e49aafad6e1",
   "metadata": {},
   "outputs": [
    {
     "data": {
      "text/plain": [
       "VectorValue{2, Float64}(0.0, 0.0)"
      ]
     },
     "execution_count": 23,
     "metadata": {},
     "output_type": "execute_result"
    }
   ],
   "source": [
    "D=2\n",
    "n = 20\n",
    "domain = (0,π,0,π)\n",
    "partition = (n,n)\n",
    "model = CartesianDiscreteModel(domain, partition)\n",
    "\n",
    "labels = get_face_labeling(model)\n",
    "add_tag_from_tags!(labels,\"diri_all\",[1,2,3,4,5,6,7,8]);\n",
    "dirichlet_tags=[\"diri_all\"]\n",
    "#dirichlet_values = [0.0,0.0]\n",
    "dirichlet_values = VectorValue(0.0,0.0)"
   ]
  },
  {
   "cell_type": "code",
   "execution_count": 24,
   "id": "c939c2a0-6c5f-4398-9400-10c30274fca1",
   "metadata": {},
   "outputs": [
    {
     "data": {
      "text/plain": [
       "Measure()"
      ]
     },
     "execution_count": 24,
     "metadata": {},
     "output_type": "execute_result"
    }
   ],
   "source": [
    "Ω = Triangulation(model)\n",
    "degree = 2\n",
    "dΩ = Measure(Ω,degree)"
   ]
  },
  {
   "cell_type": "code",
   "execution_count": 25,
   "id": "4063ed43-caf8-47db-a9f2-de7b2bf8d773",
   "metadata": {},
   "outputs": [
    {
     "data": {
      "text/html": [
       "<div data-jscall-id=\"99\"><script data-jscall-id=\"100\" type=\"text/javascript\">\n",
       "    function register_resize_handler(remote_origin) {\n",
       "        function resize_callback(event) {\n",
       "            if (event.origin !== remote_origin) {\n",
       "                return;\n",
       "            }\n",
       "            const uuid = event.data[0];\n",
       "            const width = event.data[1];\n",
       "            const height = event.data[2];\n",
       "            const iframe = document.getElementById('6db337a9-a62a-4793-b5fa-86582bc5478d');\n",
       "            if (iframe) {\n",
       "                iframe.style.width = width + \"px\";\n",
       "                iframe.style.height = height + \"px\";\n",
       "            }\n",
       "        }\n",
       "        if (window.addEventListener) {\n",
       "            window.addEventListener(\"message\", resize_callback, false);\n",
       "        } else if (window.attachEvent) {\n",
       "            window.attachEvent(\"onmessage\", resize_callback);\n",
       "        }\n",
       "    }\n",
       "    register_resize_handler('http://127.0.0.1:9284')\n",
       "\n",
       "</script><iframe scrolling=\"no\" id=\"6db337a9-a62a-4793-b5fa-86582bc5478d\" data-jscall-id=\"98\" src=\"http://127.0.0.1:9284/6db337a9-a62a-4793-b5fa-86582bc5478d\" style=\"position: relative; display: block; width: 100%; height: 100%; padding: 0; overflow: hidden; border: none\"></iframe></div>\n"
      ]
     },
     "execution_count": 25,
     "metadata": {},
     "output_type": "execute_result"
    }
   ],
   "source": [
    "fig, ax = plot(Ω)\n",
    "ax.aspect = AxisAspect(1) # this makes the region with fixed aspect, so it might not give the correct ratios\n",
    "wireframe!(Ω, color=:black, linewidth=1)\n",
    "scatter!(Ω, marker=:star8, markersize=4, color=:blue)\n",
    "fig"
   ]
  },
  {
   "cell_type": "code",
   "execution_count": 26,
   "id": "5ea2bf59-602a-42d5-b0a6-4aef20db7173",
   "metadata": {},
   "outputs": [
    {
     "data": {
      "text/plain": [
       "TrialFESpace()"
      ]
     },
     "execution_count": 26,
     "metadata": {},
     "output_type": "execute_result"
    }
   ],
   "source": [
    "D = 2\n",
    "order = 2\n",
    "reffeₑ = ReferenceFE(lagrangian, VectorValue{2,Float64}, order) #THIS WORKS\n",
    "#reffeₑ = ReferenceFE(lagrangian, VectorValue{2,Complex64}, order) #THIS DOES NOT WORKS\n",
    "#reffeₑ = ReferenceFE(raviart_thomas,Float64,order) #THIS WORKS\n",
    "#reffeₑ = ReferenceFE(nedelec,Float64,order) #DOES NOT WORK\n",
    "V = FESpace(model, reffeₑ,vector_type=Vector{ComplexF64}\n",
    "    , conformity=:H1\n",
    "    #, conformity=:Hdiv\n",
    "    #, conformity=:HCurl\n",
    "    , dirichlet_tags=dirichlet_tags)\n",
    "\n",
    "U = TrialFESpace(V,dirichlet_values)"
   ]
  },
  {
   "cell_type": "code",
   "execution_count": 27,
   "id": "7919d049-e86b-4806-b098-b74c569a0509",
   "metadata": {},
   "outputs": [
    {
     "data": {
      "text/plain": [
       "a (generic function with 1 method)"
      ]
     },
     "execution_count": 27,
     "metadata": {},
     "output_type": "execute_result"
    }
   ],
   "source": [
    "a(u,v) = ∫( (∇×v)⋅(∇×u) )*dΩ"
   ]
  },
  {
   "cell_type": "code",
   "execution_count": 28,
   "id": "6378b1e2-c705-4781-a5bd-5968472112fa",
   "metadata": {},
   "outputs": [
    {
     "data": {
      "text/plain": [
       "m (generic function with 1 method)"
      ]
     },
     "execution_count": 28,
     "metadata": {},
     "output_type": "execute_result"
    }
   ],
   "source": [
    "m(u,v) = ∫(u⋅v)dΩ"
   ]
  },
  {
   "cell_type": "code",
   "execution_count": 29,
   "id": "b702cef8-9c28-455f-8a97-ec081cd8cb78",
   "metadata": {},
   "outputs": [
    {
     "data": {
      "text/plain": [
       "solve (generic function with 1 method)"
      ]
     },
     "execution_count": 29,
     "metadata": {},
     "output_type": "execute_result"
    }
   ],
   "source": [
    "include(\"eigen.jl\")"
   ]
  },
  {
   "cell_type": "code",
   "execution_count": 30,
   "id": "5cf66862-e66e-47b2-b217-43187cff1348",
   "metadata": {},
   "outputs": [],
   "source": [
    "nev = 10 # number of eigenvalues asked to evaluate.\n",
    "prob = EigenProblem(a, m, U, V; nev=nev )\n",
    "#prob = EigenProblem(a, m, U, V; nev=nev, which=:LM, explicittransform=:auto, tol=10^(-6), maxiter=100, sigma=2.)\n",
    "ξ, uₕs = solve(prob);"
   ]
  },
  {
   "cell_type": "code",
   "execution_count": 31,
   "id": "01130fa1-380d-421c-a1cb-4fcde3445c23",
   "metadata": {},
   "outputs": [
    {
     "data": {
      "text/plain": [
       "10-element Vector{ComplexF64}:\n",
       " -8.748570722335883e-17 + 5.07330486630189e-30im\n",
       "  1.831384655974178e-16 - 1.0657961466159127e-29im\n",
       "  2.345904004973977e-16 + 1.2413129309407462e-28im\n",
       "  2.942650559294757e-16 + 2.40064160611875e-29im\n",
       " -3.419965452166116e-16 + 1.712150274579942e-28im\n",
       " 4.0364174567160937e-16 + 2.3672455120759076e-29im\n",
       "  5.715885360969915e-16 + 6.730570071505338e-29im\n",
       " -6.320600727065068e-16 - 7.949938600609733e-28im\n",
       " -6.819112247973592e-16 - 3.026682610536548e-28im\n",
       "  8.711906365820084e-16 + 5.943114926637237e-30im"
      ]
     },
     "execution_count": 31,
     "metadata": {},
     "output_type": "execute_result"
    }
   ],
   "source": [
    "ξ"
   ]
  },
  {
   "cell_type": "code",
   "execution_count": 32,
   "id": "826da502-0a26-4d25-92cc-1eba1943e1af",
   "metadata": {},
   "outputs": [
    {
     "data": {
      "text/html": [
       "<div data-jscall-id=\"116\"><script data-jscall-id=\"117\" type=\"text/javascript\">\n",
       "    function register_resize_handler(remote_origin) {\n",
       "        function resize_callback(event) {\n",
       "            if (event.origin !== remote_origin) {\n",
       "                return;\n",
       "            }\n",
       "            const uuid = event.data[0];\n",
       "            const width = event.data[1];\n",
       "            const height = event.data[2];\n",
       "            const iframe = document.getElementById('fdd92041-a84d-45a7-b869-4413da135bcc');\n",
       "            if (iframe) {\n",
       "                iframe.style.width = width + \"px\";\n",
       "                iframe.style.height = height + \"px\";\n",
       "            }\n",
       "        }\n",
       "        if (window.addEventListener) {\n",
       "            window.addEventListener(\"message\", resize_callback, false);\n",
       "        } else if (window.attachEvent) {\n",
       "            window.attachEvent(\"onmessage\", resize_callback);\n",
       "        }\n",
       "    }\n",
       "    register_resize_handler('http://127.0.0.1:9284')\n",
       "\n",
       "</script><iframe scrolling=\"no\" id=\"fdd92041-a84d-45a7-b869-4413da135bcc\" data-jscall-id=\"115\" src=\"http://127.0.0.1:9284/fdd92041-a84d-45a7-b869-4413da135bcc\" style=\"position: relative; display: block; width: 100%; height: 100%; padding: 0; overflow: hidden; border: none\"></iframe></div>\n"
      ]
     },
     "execution_count": 32,
     "metadata": {},
     "output_type": "execute_result"
    }
   ],
   "source": [
    "plot(sort(real(ξ)))"
   ]
  },
  {
   "cell_type": "code",
   "execution_count": 35,
   "id": "0078b598-4a05-41a6-9f13-e6dfbce22c67",
   "metadata": {},
   "outputs": [
    {
     "data": {
      "text/plain": [
       "SingleFieldFEFunction():\n",
       " num_cells: 400\n",
       " DomainStyle: ReferenceDomain()\n",
       " Triangulation: BodyFittedTriangulation()\n",
       " Triangulation id: 181019260283380811"
      ]
     },
     "execution_count": 35,
     "metadata": {},
     "output_type": "execute_result"
    }
   ],
   "source": [
    "uₕ = uₕs[3]"
   ]
  },
  {
   "cell_type": "code",
   "execution_count": 36,
   "id": "2465791a-eb89-418e-91f4-1c1c1a54e7e8",
   "metadata": {},
   "outputs": [
    {
     "data": {
      "text/html": [
       "<div data-jscall-id=\"136\"><script data-jscall-id=\"137\" type=\"text/javascript\">\n",
       "    function register_resize_handler(remote_origin) {\n",
       "        function resize_callback(event) {\n",
       "            if (event.origin !== remote_origin) {\n",
       "                return;\n",
       "            }\n",
       "            const uuid = event.data[0];\n",
       "            const width = event.data[1];\n",
       "            const height = event.data[2];\n",
       "            const iframe = document.getElementById('d326c8c9-862c-4e65-a5f7-ab4a74d2758f');\n",
       "            if (iframe) {\n",
       "                iframe.style.width = width + \"px\";\n",
       "                iframe.style.height = height + \"px\";\n",
       "            }\n",
       "        }\n",
       "        if (window.addEventListener) {\n",
       "            window.addEventListener(\"message\", resize_callback, false);\n",
       "        } else if (window.attachEvent) {\n",
       "            window.attachEvent(\"onmessage\", resize_callback);\n",
       "        }\n",
       "    }\n",
       "    register_resize_handler('http://127.0.0.1:9284')\n",
       "\n",
       "</script><iframe scrolling=\"no\" id=\"d326c8c9-862c-4e65-a5f7-ab4a74d2758f\" data-jscall-id=\"135\" src=\"http://127.0.0.1:9284/d326c8c9-862c-4e65-a5f7-ab4a74d2758f\" style=\"position: relative; display: block; width: 100%; height: 100%; padding: 0; overflow: hidden; border: none\"></iframe></div>\n"
      ]
     },
     "execution_count": 36,
     "metadata": {},
     "output_type": "execute_result"
    },
    {
     "name": "stderr",
     "output_type": "stream",
     "text": [
      "┌ Error: error handling request\n",
      "│   exception = (ErrorException(\"Metadata array needs to have same length as data.\\n                    Found 2400 data items, and 1600 metadata items\"), Base.StackTraces.StackFrame[error(s::String) at error.jl:35, meta(elements::Buffer{GeometryBasics.Point{2, Float32}, Vector{GeometryBasics.Point{2, Float32}}}; meta::Base.Pairs{Symbol, Buffer{Float32, Vector{Float32}}, Tuple{Symbol}, NamedTuple{(:color,), Tuple{Buffer{Float32, Vector{Float32}}}}}) at metadata.jl:125, (::GeometryBasics.var\"#meta##kw\")(::NamedTuple{(:color,), Tuple{Buffer{Float32, Vector{Float32}}}}, ::typeof(GeometryBasics.meta), elements::Buffer{GeometryBasics.Point{2, Float32}, Vector{GeometryBasics.Point{2, Float32}}}) at metadata.jl:118, create_shader(scene::Scene, plot::Mesh{Tuple{GeometryBasics.Mesh{2, Float32, GeometryBasics.Ngon{2, Float32, 3, GeometryBasics.Point{2, Float32}}, GeometryBasics.SimpleFaceView{2, Float32, 3, GeometryBasics.OffsetInteger{-1, UInt32}, GeometryBasics.Point{2, Float32}, GeometryBasics.NgonFace{3, GeometryBasics.OffsetInteger{-1, UInt32}}}}}}) at meshes.jl:99, serialize_three(scene::Scene, plot::Mesh{Tuple{GeometryBasics.Mesh{2, Float32, GeometryBasics.Ngon{2, Float32, 3, GeometryBasics.Point{2, Float32}}, GeometryBasics.SimpleFaceView{2, Float32, 3, GeometryBasics.OffsetInteger{-1, UInt32}, GeometryBasics.Point{2, Float32}, GeometryBasics.NgonFace{3, GeometryBasics.OffsetInteger{-1, UInt32}}}}}}) at serialization.jl:289, serialize_plots(scene::Scene, plots::Vector{AbstractPlot}, result::Vector{Any}) at serialization.jl:278, serialize_plots(scene::Scene, plots::Vector{AbstractPlot}, result::Vector{Any}) at serialization.jl:282, serialize_plots(scene::Scene, plots::Vector{AbstractPlot}, result::Vector{Any}) at serialization.jl:282, serialize_plots at serialization.jl:275 [inlined], serialize_scene(scene::Scene, serialized_scenes::Vector{Any}) at serialization.jl:259, (::WGLMakie.var\"#21#25\"{Vector{Any}})(child::Scene) at serialization.jl:269, foreach at abstractarray.jl:2774 [inlined], serialize_scene(scene::Scene, serialized_scenes::Vector{Any}) at serialization.jl:269, (::WGLMakie.var\"#21#25\"{Vector{Any}})(child::Scene) at serialization.jl:269, foreach at abstractarray.jl:2774 [inlined], serialize_scene(scene::Scene, serialized_scenes::Vector{Any}) at serialization.jl:269, serialize_scene at serialization.jl:249 [inlined], three_display(session::JSServe.Session, scene::Scene; screen_config::Base.Pairs{Symbol, Union{}, Tuple{}, NamedTuple{(), Tuple{}}}) at three_plot.jl:66, three_display at three_plot.jl:62 [inlined], (::WGLMakie.var\"#128#129\"{Scene})(session::JSServe.Session) at display.jl:48, (::JSServe.var\"#1#5\"{WGLMakie.var\"#128#129\"{Scene}})(session::JSServe.Session, request::HTTP.Messages.Request) at types.jl:15, #invokelatest#2 at essentials.jl:729 [inlined], invokelatest at essentials.jl:726 [inlined], (::JSServe.var\"#79#80\"{JSServe.App})(session::JSServe.Session, request::HTTP.Messages.Request) at display.jl:380, #invokelatest#2 at essentials.jl:729 [inlined], invokelatest at essentials.jl:726 [inlined], apply_handler(app::JSServe.App, context::NamedTuple{(:routes, :application, :request, :match), Tuple{JSServe.Routes, JSServe.Server, HTTP.Messages.Request, String}}) at server.jl:50, delegate(::JSServe.Routes, ::JSServe.Server, ::HTTP.Messages.Request) at server.jl:64, #15 at server.jl:184 [inlined], handle at Handlers.jl:254 [inlined], handle(::HTTP.Handlers.RequestHandlerFunction{JSServe.var\"#15#17\"{JSServe.Server}}, ::HTTP.Streams.Stream{HTTP.Messages.Request, HTTP.ConnectionPool.Transaction{Sockets.TCPSocket}}) at Handlers.jl:277, stream_handler(application::JSServe.Server, stream::HTTP.Streams.Stream{HTTP.Messages.Request, HTTP.ConnectionPool.Transaction{Sockets.TCPSocket}}) at server.jl:189, #invokelatest#2 at essentials.jl:729 [inlined], invokelatest at essentials.jl:726 [inlined], #26 at server.jl:302 [inlined], macro expansion at Servers.jl:415 [inlined], (::HTTP.Servers.var\"#13#14\"{JSServe.var\"#26#28\"{JSServe.Server}, HTTP.ConnectionPool.Transaction{Sockets.TCPSocket}, HTTP.Servers.Server{Nothing, Sockets.TCPServer}, HTTP.Streams.Stream{HTTP.Messages.Request, HTTP.ConnectionPool.Transaction{Sockets.TCPSocket}}})() at task.jl:484])\n",
      "└ @ HTTP.Servers /Users/reula/.julia/packages/HTTP/aTjcj/src/Servers.jl:429\n"
     ]
    }
   ],
   "source": [
    "fig, ax, plt = plot(Ω, ( u-> real(u[1])) ∘ uₕ)\n",
    "#fig, ax, plt = plot(Ω, real.(uₕ))\n",
    "ax.aspect = AxisAspect(1)\n",
    "Colorbar(fig[2,1], plt, vertical=false)\n",
    "fig"
   ]
  },
  {
   "cell_type": "code",
   "execution_count": 13,
   "id": "e8c7ac5f-f114-4186-ba6a-68bf91161c0a",
   "metadata": {},
   "outputs": [
    {
     "name": "stderr",
     "output_type": "stream",
     "text": [
      "┌ Error: error handling request\n",
      "│   exception = (ErrorException(\"Metadata array needs to have same length as data.\\n                    Found 2400 data items, and 1600 metadata items\"), Base.StackTraces.StackFrame[error(s::String) at error.jl:35, meta(elements::Buffer{GeometryBasics.Point{2, Float32}, Vector{GeometryBasics.Point{2, Float32}}}; meta::Base.Pairs{Symbol, Buffer{Float32, Vector{Float32}}, Tuple{Symbol}, NamedTuple{(:color,), Tuple{Buffer{Float32, Vector{Float32}}}}}) at metadata.jl:125, (::GeometryBasics.var\"#meta##kw\")(::NamedTuple{(:color,), Tuple{Buffer{Float32, Vector{Float32}}}}, ::typeof(GeometryBasics.meta), elements::Buffer{GeometryBasics.Point{2, Float32}, Vector{GeometryBasics.Point{2, Float32}}}) at metadata.jl:118, create_shader(scene::Scene, plot::Mesh{Tuple{GeometryBasics.Mesh{2, Float32, GeometryBasics.Ngon{2, Float32, 3, GeometryBasics.Point{2, Float32}}, GeometryBasics.SimpleFaceView{2, Float32, 3, GeometryBasics.OffsetInteger{-1, UInt32}, GeometryBasics.Point{2, Float32}, GeometryBasics.NgonFace{3, GeometryBasics.OffsetInteger{-1, UInt32}}}}}}) at meshes.jl:99, serialize_three(scene::Scene, plot::Mesh{Tuple{GeometryBasics.Mesh{2, Float32, GeometryBasics.Ngon{2, Float32, 3, GeometryBasics.Point{2, Float32}}, GeometryBasics.SimpleFaceView{2, Float32, 3, GeometryBasics.OffsetInteger{-1, UInt32}, GeometryBasics.Point{2, Float32}, GeometryBasics.NgonFace{3, GeometryBasics.OffsetInteger{-1, UInt32}}}}}}) at serialization.jl:289, serialize_plots(scene::Scene, plots::Vector{AbstractPlot}, result::Vector{Any}) at serialization.jl:278, serialize_plots(scene::Scene, plots::Vector{AbstractPlot}, result::Vector{Any}) at serialization.jl:282, serialize_plots(scene::Scene, plots::Vector{AbstractPlot}, result::Vector{Any}) at serialization.jl:282, serialize_plots at serialization.jl:275 [inlined], serialize_scene(scene::Scene, serialized_scenes::Vector{Any}) at serialization.jl:259, (::WGLMakie.var\"#21#25\"{Vector{Any}})(child::Scene) at serialization.jl:269, foreach at abstractarray.jl:2774 [inlined], serialize_scene(scene::Scene, serialized_scenes::Vector{Any}) at serialization.jl:269, (::WGLMakie.var\"#21#25\"{Vector{Any}})(child::Scene) at serialization.jl:269, foreach at abstractarray.jl:2774 [inlined], serialize_scene(scene::Scene, serialized_scenes::Vector{Any}) at serialization.jl:269, serialize_scene at serialization.jl:249 [inlined], three_display(session::JSServe.Session, scene::Scene; screen_config::Base.Pairs{Symbol, Union{}, Tuple{}, NamedTuple{(), Tuple{}}}) at three_plot.jl:66, three_display at three_plot.jl:62 [inlined], (::WGLMakie.var\"#128#129\"{Scene})(session::JSServe.Session) at display.jl:48, (::JSServe.var\"#1#5\"{WGLMakie.var\"#128#129\"{Scene}})(session::JSServe.Session, request::HTTP.Messages.Request) at types.jl:15, #invokelatest#2 at essentials.jl:729 [inlined], invokelatest at essentials.jl:726 [inlined], (::JSServe.var\"#79#80\"{JSServe.App})(session::JSServe.Session, request::HTTP.Messages.Request) at display.jl:380, #invokelatest#2 at essentials.jl:729 [inlined], invokelatest at essentials.jl:726 [inlined], apply_handler(app::JSServe.App, context::NamedTuple{(:routes, :application, :request, :match), Tuple{JSServe.Routes, JSServe.Server, HTTP.Messages.Request, String}}) at server.jl:50, delegate(::JSServe.Routes, ::JSServe.Server, ::HTTP.Messages.Request) at server.jl:64, #15 at server.jl:184 [inlined], handle at Handlers.jl:254 [inlined], handle(::HTTP.Handlers.RequestHandlerFunction{JSServe.var\"#15#17\"{JSServe.Server}}, ::HTTP.Streams.Stream{HTTP.Messages.Request, HTTP.ConnectionPool.Transaction{Sockets.TCPSocket}}) at Handlers.jl:277, stream_handler(application::JSServe.Server, stream::HTTP.Streams.Stream{HTTP.Messages.Request, HTTP.ConnectionPool.Transaction{Sockets.TCPSocket}}) at server.jl:189, #invokelatest#2 at essentials.jl:729 [inlined], invokelatest at essentials.jl:726 [inlined], #26 at server.jl:302 [inlined], macro expansion at Servers.jl:415 [inlined], (::HTTP.Servers.var\"#13#14\"{JSServe.var\"#26#28\"{JSServe.Server}, HTTP.ConnectionPool.Transaction{Sockets.TCPSocket}, HTTP.Servers.Server{Nothing, Sockets.TCPServer}, HTTP.Streams.Stream{HTTP.Messages.Request, HTTP.ConnectionPool.Transaction{Sockets.TCPSocket}}})() at task.jl:484])\n",
      "└ @ HTTP.Servers /Users/reula/.julia/packages/HTTP/aTjcj/src/Servers.jl:429\n",
      "┌ Error: error handling request\n",
      "│   exception = (ErrorException(\"Metadata array needs to have same length as data.\\n                    Found 2400 data items, and 1600 metadata items\"), Base.StackTraces.StackFrame[error(s::String) at error.jl:35, meta(elements::Buffer{GeometryBasics.Point{2, Float32}, Vector{GeometryBasics.Point{2, Float32}}}; meta::Base.Pairs{Symbol, Buffer{Float32, Vector{Float32}}, Tuple{Symbol}, NamedTuple{(:color,), Tuple{Buffer{Float32, Vector{Float32}}}}}) at metadata.jl:125, (::GeometryBasics.var\"#meta##kw\")(::NamedTuple{(:color,), Tuple{Buffer{Float32, Vector{Float32}}}}, ::typeof(GeometryBasics.meta), elements::Buffer{GeometryBasics.Point{2, Float32}, Vector{GeometryBasics.Point{2, Float32}}}) at metadata.jl:118, create_shader(scene::Scene, plot::Mesh{Tuple{GeometryBasics.Mesh{2, Float32, GeometryBasics.Ngon{2, Float32, 3, GeometryBasics.Point{2, Float32}}, GeometryBasics.SimpleFaceView{2, Float32, 3, GeometryBasics.OffsetInteger{-1, UInt32}, GeometryBasics.Point{2, Float32}, GeometryBasics.NgonFace{3, GeometryBasics.OffsetInteger{-1, UInt32}}}}}}) at meshes.jl:99, serialize_three(scene::Scene, plot::Mesh{Tuple{GeometryBasics.Mesh{2, Float32, GeometryBasics.Ngon{2, Float32, 3, GeometryBasics.Point{2, Float32}}, GeometryBasics.SimpleFaceView{2, Float32, 3, GeometryBasics.OffsetInteger{-1, UInt32}, GeometryBasics.Point{2, Float32}, GeometryBasics.NgonFace{3, GeometryBasics.OffsetInteger{-1, UInt32}}}}}}) at serialization.jl:289, serialize_plots(scene::Scene, plots::Vector{AbstractPlot}, result::Vector{Any}) at serialization.jl:278, serialize_plots(scene::Scene, plots::Vector{AbstractPlot}, result::Vector{Any}) at serialization.jl:282, serialize_plots(scene::Scene, plots::Vector{AbstractPlot}, result::Vector{Any}) at serialization.jl:282, serialize_plots at serialization.jl:275 [inlined], serialize_scene(scene::Scene, serialized_scenes::Vector{Any}) at serialization.jl:259, (::WGLMakie.var\"#21#25\"{Vector{Any}})(child::Scene) at serialization.jl:269, foreach at abstractarray.jl:2774 [inlined], serialize_scene(scene::Scene, serialized_scenes::Vector{Any}) at serialization.jl:269, (::WGLMakie.var\"#21#25\"{Vector{Any}})(child::Scene) at serialization.jl:269, foreach at abstractarray.jl:2774 [inlined], serialize_scene(scene::Scene, serialized_scenes::Vector{Any}) at serialization.jl:269, serialize_scene at serialization.jl:249 [inlined], three_display(session::JSServe.Session, scene::Scene; screen_config::Base.Pairs{Symbol, Union{}, Tuple{}, NamedTuple{(), Tuple{}}}) at three_plot.jl:66, three_display at three_plot.jl:62 [inlined], (::WGLMakie.var\"#128#129\"{Scene})(session::JSServe.Session) at display.jl:48, (::JSServe.var\"#1#5\"{WGLMakie.var\"#128#129\"{Scene}})(session::JSServe.Session, request::HTTP.Messages.Request) at types.jl:15, #invokelatest#2 at essentials.jl:729 [inlined], invokelatest at essentials.jl:726 [inlined], (::JSServe.var\"#79#80\"{JSServe.App})(session::JSServe.Session, request::HTTP.Messages.Request) at display.jl:380, #invokelatest#2 at essentials.jl:729 [inlined], invokelatest at essentials.jl:726 [inlined], apply_handler(app::JSServe.App, context::NamedTuple{(:routes, :application, :request, :match), Tuple{JSServe.Routes, JSServe.Server, HTTP.Messages.Request, String}}) at server.jl:50, delegate(::JSServe.Routes, ::JSServe.Server, ::HTTP.Messages.Request) at server.jl:64, #15 at server.jl:184 [inlined], handle at Handlers.jl:254 [inlined], handle(::HTTP.Handlers.RequestHandlerFunction{JSServe.var\"#15#17\"{JSServe.Server}}, ::HTTP.Streams.Stream{HTTP.Messages.Request, HTTP.ConnectionPool.Transaction{Sockets.TCPSocket}}) at Handlers.jl:277, stream_handler(application::JSServe.Server, stream::HTTP.Streams.Stream{HTTP.Messages.Request, HTTP.ConnectionPool.Transaction{Sockets.TCPSocket}}) at server.jl:189, #invokelatest#2 at essentials.jl:729 [inlined], invokelatest at essentials.jl:726 [inlined], #26 at server.jl:302 [inlined], macro expansion at Servers.jl:415 [inlined], (::HTTP.Servers.var\"#13#14\"{JSServe.var\"#26#28\"{JSServe.Server}, HTTP.ConnectionPool.Transaction{Sockets.TCPSocket}, HTTP.Servers.Server{Nothing, Sockets.TCPServer}, HTTP.Streams.Stream{HTTP.Messages.Request, HTTP.ConnectionPool.Transaction{Sockets.TCPSocket}}})() at task.jl:484])\n",
      "└ @ HTTP.Servers /Users/reula/.julia/packages/HTTP/aTjcj/src/Servers.jl:429\n"
     ]
    },
    {
     "data": {
      "text/plain": [
       "([\"eigenvector_5.vtu\"],)"
      ]
     },
     "execution_count": 13,
     "metadata": {},
     "output_type": "execute_result"
    },
    {
     "name": "stderr",
     "output_type": "stream",
     "text": [
      "┌ Error: error handling request\n",
      "│   exception = (ErrorException(\"Metadata array needs to have same length as data.\\n                    Found 2400 data items, and 1600 metadata items\"), Base.StackTraces.StackFrame[error(s::String) at error.jl:35, meta(elements::Buffer{GeometryBasics.Point{2, Float32}, Vector{GeometryBasics.Point{2, Float32}}}; meta::Base.Pairs{Symbol, Buffer{Float32, Vector{Float32}}, Tuple{Symbol}, NamedTuple{(:color,), Tuple{Buffer{Float32, Vector{Float32}}}}}) at metadata.jl:125, (::GeometryBasics.var\"#meta##kw\")(::NamedTuple{(:color,), Tuple{Buffer{Float32, Vector{Float32}}}}, ::typeof(GeometryBasics.meta), elements::Buffer{GeometryBasics.Point{2, Float32}, Vector{GeometryBasics.Point{2, Float32}}}) at metadata.jl:118, create_shader(scene::Scene, plot::Mesh{Tuple{GeometryBasics.Mesh{2, Float32, GeometryBasics.Ngon{2, Float32, 3, GeometryBasics.Point{2, Float32}}, GeometryBasics.SimpleFaceView{2, Float32, 3, GeometryBasics.OffsetInteger{-1, UInt32}, GeometryBasics.Point{2, Float32}, GeometryBasics.NgonFace{3, GeometryBasics.OffsetInteger{-1, UInt32}}}}}}) at meshes.jl:99, serialize_three(scene::Scene, plot::Mesh{Tuple{GeometryBasics.Mesh{2, Float32, GeometryBasics.Ngon{2, Float32, 3, GeometryBasics.Point{2, Float32}}, GeometryBasics.SimpleFaceView{2, Float32, 3, GeometryBasics.OffsetInteger{-1, UInt32}, GeometryBasics.Point{2, Float32}, GeometryBasics.NgonFace{3, GeometryBasics.OffsetInteger{-1, UInt32}}}}}}) at serialization.jl:289, serialize_plots(scene::Scene, plots::Vector{AbstractPlot}, result::Vector{Any}) at serialization.jl:278, serialize_plots(scene::Scene, plots::Vector{AbstractPlot}, result::Vector{Any}) at serialization.jl:282, serialize_plots(scene::Scene, plots::Vector{AbstractPlot}, result::Vector{Any}) at serialization.jl:282, serialize_plots at serialization.jl:275 [inlined], serialize_scene(scene::Scene, serialized_scenes::Vector{Any}) at serialization.jl:259, (::WGLMakie.var\"#21#25\"{Vector{Any}})(child::Scene) at serialization.jl:269, foreach at abstractarray.jl:2774 [inlined], serialize_scene(scene::Scene, serialized_scenes::Vector{Any}) at serialization.jl:269, (::WGLMakie.var\"#21#25\"{Vector{Any}})(child::Scene) at serialization.jl:269, foreach at abstractarray.jl:2774 [inlined], serialize_scene(scene::Scene, serialized_scenes::Vector{Any}) at serialization.jl:269, serialize_scene at serialization.jl:249 [inlined], three_display(session::JSServe.Session, scene::Scene; screen_config::Base.Pairs{Symbol, Union{}, Tuple{}, NamedTuple{(), Tuple{}}}) at three_plot.jl:66, three_display at three_plot.jl:62 [inlined], (::WGLMakie.var\"#128#129\"{Scene})(session::JSServe.Session) at display.jl:48, (::JSServe.var\"#1#5\"{WGLMakie.var\"#128#129\"{Scene}})(session::JSServe.Session, request::HTTP.Messages.Request) at types.jl:15, #invokelatest#2 at essentials.jl:729 [inlined], invokelatest at essentials.jl:726 [inlined], (::JSServe.var\"#79#80\"{JSServe.App})(session::JSServe.Session, request::HTTP.Messages.Request) at display.jl:380, #invokelatest#2 at essentials.jl:729 [inlined], invokelatest at essentials.jl:726 [inlined], apply_handler(app::JSServe.App, context::NamedTuple{(:routes, :application, :request, :match), Tuple{JSServe.Routes, JSServe.Server, HTTP.Messages.Request, String}}) at server.jl:50, delegate(::JSServe.Routes, ::JSServe.Server, ::HTTP.Messages.Request) at server.jl:64, #15 at server.jl:184 [inlined], handle at Handlers.jl:254 [inlined], handle(::HTTP.Handlers.RequestHandlerFunction{JSServe.var\"#15#17\"{JSServe.Server}}, ::HTTP.Streams.Stream{HTTP.Messages.Request, HTTP.ConnectionPool.Transaction{Sockets.TCPSocket}}) at Handlers.jl:277, stream_handler(application::JSServe.Server, stream::HTTP.Streams.Stream{HTTP.Messages.Request, HTTP.ConnectionPool.Transaction{Sockets.TCPSocket}}) at server.jl:189, #invokelatest#2 at essentials.jl:729 [inlined], invokelatest at essentials.jl:726 [inlined], #26 at server.jl:302 [inlined], macro expansion at Servers.jl:415 [inlined], (::HTTP.Servers.var\"#13#14\"{JSServe.var\"#26#28\"{JSServe.Server}, HTTP.ConnectionPool.Transaction{Sockets.TCPSocket}, HTTP.Servers.Server{Nothing, Sockets.TCPServer}, HTTP.Streams.Stream{HTTP.Messages.Request, HTTP.ConnectionPool.Transaction{Sockets.TCPSocket}}})() at task.jl:484])\n",
      "└ @ HTTP.Servers /Users/reula/.julia/packages/HTTP/aTjcj/src/Servers.jl:429\n"
     ]
    }
   ],
   "source": [
    "l = 5\n",
    "uₕ = uₕs[l]\n",
    "writevtk(Ω,\"eigenvector_$l\",order=1,cellfields=[\"e_1\"=>( u-> real(u[1])) ∘ uₕ, \"e_2\"=>( u-> real(u[2])) ∘ uₕ])"
   ]
  },
  {
   "cell_type": "code",
   "execution_count": null,
   "id": "57f72b59-5abb-42c5-8b0a-f1b6e2424807",
   "metadata": {},
   "outputs": [],
   "source": []
  }
 ],
 "metadata": {
  "kernelspec": {
   "display_name": "Julia 1.8.0",
   "language": "julia",
   "name": "julia-1.8"
  },
  "language_info": {
   "file_extension": ".jl",
   "mimetype": "application/julia",
   "name": "julia",
   "version": "1.8.0"
  }
 },
 "nbformat": 4,
 "nbformat_minor": 5
}
