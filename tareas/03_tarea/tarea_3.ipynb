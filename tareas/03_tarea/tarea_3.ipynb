{
 "cells": [
  {
   "cell_type": "markdown",
   "metadata": {},
   "source": [
    "# Tarea 3\n",
    "\n",
    "### Importante 1: ###\n",
    "Este notebook está diseñado para ejecutar en Julia 1.6-.\n",
    "\n",
    "### Importante 2: ###\n",
    "Renombre el archivo como: \n",
    "**nombredelgrupo_tarea_2.ipynb**\n",
    "\n",
    "**Todo el código generado y la presentación deberá estar incluida en este notebook.**\n",
    "\n",
    "**El objetivo de la tarea es variado:**\n",
    "\n",
    "1. Entender la propagación de ondas y relacionarla con la necesidad de imponer condiciones de contorno de acuerdo al sentido de la propagación.\n",
    "\n",
    "2. Comprender el esquema de imponer condiciones de contorno usando operadores de diferencia finita con la propiedad de suma por partes. \n",
    "\n",
    "\n",
    "\n",
    "\n",
    "**1)** En el directorio encontrará un notebook en Julia que permite evolucionar la ecuación de advección dando una condición de contorno en el extremo desde donde ingresa la solución en la región de integración.\n",
    "Pruebe con distintas condiciones iniciales y de contorno. ¿Qué pasa si cambia el signo de la velocidad?\n",
    "\n",
    "**2)** Vea que la convergencia del método, en norma $L^2$, es de segundo orden, pese a que la aproximación en el borde es de primer orden.\n",
    "\n",
    "**3)** El operador differencia finita con suma por partes de 4to orden tiene las siguientes entradas matriciales cerca de $[1,1]$ y $[N,N]$:"
   ]
  },
  {
   "cell_type": "code",
   "execution_count": null,
   "metadata": {},
   "outputs": [],
   "source": [
    "using LinearAlgebra"
   ]
  },
  {
   "cell_type": "code",
   "execution_count": null,
   "metadata": {},
   "outputs": [],
   "source": [
    "Head=[-1.4117647059 1.7352941176 -0.23529411765 -0.088235294118 0.0 0.0\n",
    "    -0.5 0.0 0.5 0.0 0.0 0.0\n",
    " 0.093023255814 -0.68604651163 0.0 0.68604651163 -0.093023255814 0.0\n",
    " 0.030612244898 0.0 -0.60204081633 0.0 0.65306122449 -0.081632653061]"
   ]
  },
  {
   "cell_type": "code",
   "execution_count": null,
   "metadata": {},
   "outputs": [],
   "source": []
  },
  {
   "cell_type": "markdown",
   "metadata": {},
   "source": [
    "Más una parte usual en bandas de ancho 5. Note que la parte de abajo de la matriz no es el Head sino una transposición apropiada y un cambio de signo de la misma. Es decir,\n",
    "`D[n-(i-1),n-(j-1)] = -D[i,j]`."
   ]
  },
  {
   "cell_type": "markdown",
   "metadata": {},
   "source": [
    "Por su parte, el producto escalar viene dado por:"
   ]
  },
  {
   "cell_type": "code",
   "execution_count": null,
   "metadata": {},
   "outputs": [],
   "source": [
    "function h4!(N) \n",
    "    h4 = Diagonal([1. for i in 1:N])\n",
    "    h4[1,1] = 17/48\n",
    "    h4[2,2] = 59/48\n",
    "    h4[3,3] = 43/48\n",
    "    h4[4,4] = 49/48\n",
    "    h4[end,end] = h4[1,1]\n",
    "    h4[end-1,end-1] = h4[2,2]\n",
    "    h4[end-2,end-2] = h4[3,3]\n",
    "    h4[end-3,end-3] = h4[4,4]\n",
    "    return h4\n",
    "end\n",
    "h4!(5)"
   ]
  },
  {
   "cell_type": "markdown",
   "metadata": {},
   "source": [
    "Contruya el operador de 4to orden y constate que converge, en norma $L^2$, en orden 4 (pese a que cerca del borde la convergencia baja a segundo orden). Constate que satisface suma por partes."
   ]
  },
  {
   "cell_type": "markdown",
   "metadata": {},
   "source": [
    "**4)** Considere ahora la ecuación de onda, $\\phi_{tt} = c^2 \\phi_{xx}$. Descompóngala en una ecuación ordinaria, un modo propagando hacia la izquierda y otro hacia la derecha. **Ayuda:** Vea que ecuación satisface la combinación $V_+ := \\phi_t - c\\phi_x$. Use esta descomposición para dar condiciones de contorno de forma que el problema quede completamente determinado (pero no sobredeterminado). Considere los siguientes casos: \n",
    "1. Condiciones de contorno nulas, nada entra, dato inicial no nulo.\n",
    "2. Condiciones de contorno reflejantes, lo que llega por un modo entra por el otro. Para dar esta condición elija la combinación de modos en el borde de forma tal que $\\phi$ se mantenga constante en el tiempo. "
   ]
  },
  {
   "cell_type": "markdown",
   "metadata": {},
   "source": [
    "**5)** **Para los intrépidos:** Considere dos regiones contiguas, $L_L$ y $L_R$ en ellas evolucionan una ecuación de onda pero con distintas velocidades $(c_L, c_R)$ (imagine que las regiones son cuerdas y están construidas con de distintos medios o densidades). Trate la interfase entre los medios como un lugar donde uno da condiciones de contorno de acuerdo a lo que proviene de la otra región. Elija estas condiciones de manera que $\\phi_t$ y $\\phi_x$ sean continuas a través de la interfase. Implemente el código reflejando la situación descripta. Implemente condiciones de contorno en la parte izquierda de $L_L$ de forma que ingrese una onda sinusoidal. Implemente condiciones de contorno en la parte derecha de $L_R$ de forma que la onda saliente rebote y se convierta en entrante. "
   ]
  },
  {
   "cell_type": "markdown",
   "metadata": {},
   "source": [
    "Un ejemplo a lo que debería llegar:\n",
    "![Cuerdas](ropes_anim_fps20.gif \"ejemplo\")"
   ]
  },
  {
   "cell_type": "code",
   "execution_count": null,
   "metadata": {},
   "outputs": [],
   "source": []
  }
 ],
 "metadata": {
  "celltoolbar": "Attachments",
  "kernelspec": {
   "display_name": "Julia 1.8.0",
   "language": "julia",
   "name": "julia-1.8"
  },
  "language_info": {
   "file_extension": ".jl",
   "mimetype": "application/julia",
   "name": "julia",
   "version": "1.8.0"
  },
  "latex_envs": {
   "LaTeX_envs_menu_present": true,
   "autoclose": false,
   "autocomplete": true,
   "bibliofile": "biblio.bib",
   "cite_by": "apalike",
   "current_citInitial": 1,
   "eqLabelWithNumbers": true,
   "eqNumInitial": 1,
   "hotkeys": {
    "equation": "Ctrl-E",
    "itemize": "Ctrl-I"
   },
   "labels_anchors": false,
   "latex_user_defs": false,
   "report_style_numbering": false,
   "user_envs_cfg": false
  }
 },
 "nbformat": 4,
 "nbformat_minor": 4
}
