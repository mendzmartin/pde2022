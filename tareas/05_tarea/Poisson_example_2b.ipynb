{
 "cells": [
  {
   "cell_type": "markdown",
   "id": "335374e8",
   "metadata": {},
   "source": [
    "Links útiles\n",
    "\n",
    "+ [Installing_VisIt.html](https://visit-sphinx-github-user-manual.readthedocs.io/en/develop/getting_started/Installing_VisIt.html)\n",
    "+ [manual_v3.3.1.pdf](https://visit-sphinx-github-user-manual.readthedocs.io/_/downloads/en/v3.3.1/pdf/)\n",
    "\n",
    "Pra instalar Visit realizamos el siguiente procedimiento\n",
    "\n",
    "Ingresamos a la siguiente página\n",
    "\n",
    "+ [releases-as-tables.html](https://visit-dav.github.io/visit-website/releases-as-tables/)\n",
    "\n",
    "Aquí descargamos la version de Visit 3.3.1 para ubuntu 20 (ya que esta puede correr en Ubuntu 22) y también descargamos el script de instalación `visit-install`. Estos dos archivos los ubicamos en una misma carpeta y damos permisos de ejecución al script de instalación de la siguiente manera,\n",
    "\n",
    "```bash\n",
    "    chmod +x visit-install3_3_1\n",
    "```\n",
    "\n",
    "Luego ejecutamos el script, seleccionando la versión a instalar y la arquitectura (este nombre debe coincidir con el nombre del directorio comprimido descargado *.tgz)\n",
    "\n",
    "```bash\n",
    "    ./visit-install3_3_1 3.3.1 linux-x86_64-ubuntu20 /usr/local/visit\n",
    "```\n",
    "\n",
    "Luego creamos un alias para ejecutar visit en background\n",
    "\n",
    "```bash\n",
    "    $ vi ~/.bash_aliases\n",
    "\n",
    "    #agregamos la siguiente linea para que el comando corra fuera de bash shell\n",
    "    alias visit='/usr/local/visit/bin/visit 2>/dev/null &'\n",
    "```"
   ]
  },
  {
   "cell_type": "markdown",
   "id": "fb0e317d",
   "metadata": {},
   "source": [
    "# Ejemplo de resolución del problema de Poisson con distintas condiciones de contorno y manipulación de la solución para el problema de cálculo de capacitancias #\n"
   ]
  },
  {
   "cell_type": "markdown",
   "id": "559e0f97",
   "metadata": {},
   "source": [
    "El problema a resolver es:\n",
    "\n",
    "\n",
    "\\begin{align}\n",
    "-\\Delta u &= f \\;\\;\\;\\;\\; \\text{in } \\Omega \\\\\n",
    "u &= g \\;\\;\\;\\;\\; \\text{in } \\partial \\Omega_{int} \\\\\n",
    "\\hat{n} \\cdot \\nabla u &= h \\;\\;\\;\\;\\; \\text{in } \\partial \\Omega_{ext} \\\\\n",
    "\\end{align}\n",
    "\n",
    "Para ello impondremos la versión débil del mismo:\n",
    "\n",
    "Encuentre $u$ en $H^1(\\Omega, f))$ (o sea con las condiciones de contorno de Dirichlet en $\\partial \\Omega_{int}$) tal que,\n",
    "\n",
    "$$\n",
    "\\int_{\\Omega} \\nabla v \\cdot \\nabla u \\; d\\Omega \n",
    "- \\int_{\\Omega} v \\; f \\; d\\Omega \n",
    "- \\oint_{\\partial \\Omega_{ext}} v \\; h \\; d\\Gamma \n",
    "= 0 \\;\\;\\;\\;\\; \\forall v \\;\\; \\in H^1_0(\\Omega)\n",
    "$$\n",
    "\n",
    "Si obtenemos un $u$ satisfaciendo esta ecuación, y es suficientemente suave, entonces podemos integrar por partes el primer término y obtener:\n",
    "\n",
    "$$\n",
    "\\int_{\\Omega}  v \\; (-\\Delta u - f) \\; d\\Omega \n",
    "+ \\oint_{\\partial \\Omega_{ext}} v \\; (\\hat{n} \\cdot \\nabla u - h) \\; d\\Gamma \n",
    "= 0 \\;\\;\\;\\;\\; \\forall v \\;\\; \\in H^1_0(\\Omega)\n",
    "$$\n",
    "\n",
    "Tomando $v$ arbitrario pero de soporte compacto vemos que $u$ debe satisfacer:\n",
    "\n",
    "$$\n",
    "-\\Delta u = f \\;\\;\\;\\;\\; \\text{in } \\Omega,\n",
    "$$\n",
    "y tomando $v$ arbitrario vemos que también se debe cumplir la condición de Neumann,\n",
    "\n",
    "$$\n",
    "\\hat{n} \\cdot \\nabla u = h \\;\\;\\;\\;\\; \\text{in } \\partial \\Omega_{ext}.\n",
    "$$\n",
    "\n",
    "La condición de Dirichlet es automática por la elección del espacio.\n",
    "\n",
    "Luego utilizaremos la solución encontrada para un problema de capacitancia.\n",
    "\n",
    "\n"
   ]
  },
  {
   "cell_type": "markdown",
   "id": "73f4dc37",
   "metadata": {},
   "source": [
    "Para resolver el problema utilizaremos la infraestructura del paquete `Gridap.jl` de Julia. Este ejemplo es una recopilación de varios ejemplos en el tutorial del paquete. "
   ]
  },
  {
   "cell_type": "code",
   "execution_count": 101,
   "id": "1fb1295a",
   "metadata": {},
   "outputs": [
    {
     "name": "stderr",
     "output_type": "stream",
     "text": [
      "\u001b[32m\u001b[1m  Activating\u001b[22m\u001b[39m project at `~/github_repositories/my_repositories/pde2022/tareas/05_tarea/gridap_makie`\n"
     ]
    }
   ],
   "source": [
    "import Pkg; Pkg.activate(\"gridap_makie\");\n",
    "\n",
    "create_directories = false;\n",
    "if create_directories\n",
    "    mkdir(\"models\");\n",
    "    mkdir(\"images\");\n",
    "end"
   ]
  },
  {
   "cell_type": "code",
   "execution_count": 102,
   "id": "fa0cbbdf",
   "metadata": {},
   "outputs": [],
   "source": [
    "# Pkg.instantiate();"
   ]
  },
  {
   "cell_type": "code",
   "execution_count": 103,
   "id": "e17ee0c1-c2e2-4097-9a0a-2413cc1c731e",
   "metadata": {
    "tags": []
   },
   "outputs": [],
   "source": [
    "using Gridap;\n",
    "using FileIO;       #Gráficos y salidas\n",
    "using GridapGmsh;\n",
    "#using gmsh #]add https://github.com/koehlerson/gmsh.jl.git\n",
    "using Gmsh;"
   ]
  },
  {
   "cell_type": "code",
   "execution_count": 104,
   "id": "248958bf",
   "metadata": {},
   "outputs": [],
   "source": [
    "# using Pkg\n",
    "# Pkg.status(\"Gridap\")\n",
    "# Pkg.update(\"Gridap\")"
   ]
  },
  {
   "cell_type": "code",
   "execution_count": 105,
   "id": "9bd86831",
   "metadata": {},
   "outputs": [],
   "source": [
    "plot_s = false\n",
    "if plot_s\n",
    "    # using Pkg; Pkg.activate(\"./gridap_makie\")\n",
    "    # Pkg.add(Pkg.PackageSpec(;name=\"Makie\", version=\"0.18.2\"));\n",
    "    # import Pkg; Pkg.add(\"GridapMakie\");\n",
    "    using Makie;\n",
    "    #import Pkg; Pkg.precompile()\n",
    "    using GridapMakie,GLMakie;  #Para graficar \n",
    "end"
   ]
  },
  {
   "cell_type": "markdown",
   "id": "d28aa671",
   "metadata": {},
   "source": [
    "Vamos a usar grillas construidas con la librería `gmsh`, a través del script ```mesh_generator.jl```. Notar que en el script se da nombre a las tres fronteras, la externa (rectangular), `\"ext\"` y las internas `\"inner_circle\"` y `\"inner_square\"`. En base al script, y siguiendo el tutorial de `gmsh`, podrán construir otras grillas. También se pueden usar otras librerías para construir grillas. Estas se importan a la infraestructura **Gridap** y con ellas se construye la triangulación a usar. "
   ]
  },
  {
   "cell_type": "code",
   "execution_count": 106,
   "id": "19039824",
   "metadata": {},
   "outputs": [
    {
     "data": {
      "text/plain": [
       "make_model (generic function with 1 method)"
      ]
     },
     "metadata": {},
     "output_type": "display_data"
    }
   ],
   "source": [
    "include(\"mesh_generator.jl\")"
   ]
  },
  {
   "cell_type": "code",
   "execution_count": 107,
   "id": "baa37467",
   "metadata": {},
   "outputs": [
    {
     "data": {
      "text/plain": [
       "\"test_crapodina\""
      ]
     },
     "metadata": {},
     "output_type": "display_data"
    }
   ],
   "source": [
    "# grid_type = \"rectangle_hole_square\"\n",
    "grid_type = \"test_crapodina\""
   ]
  },
  {
   "cell_type": "code",
   "execution_count": 108,
   "id": "861b7510",
   "metadata": {},
   "outputs": [
    {
     "data": {
      "text/plain": [
       "(name = \"test_crapodina_finner\", side_x = 2, side_y = 1, lc = 0.01, numNodesHE = (200, 100), quad_state = true, structured_mesh = false)"
      ]
     },
     "metadata": {},
     "output_type": "display_data"
    }
   ],
   "source": [
    "#Resoluciones:\n",
    "res = 3\n",
    "\n",
    "if res == 1\n",
    "    lc = 1e-1\n",
    "    name = grid_type * \"_coarse\"\n",
    "elseif res == 2 \n",
    "    lc = 5e-2\n",
    "    name = grid_type * \"_intermediate\"\n",
    "elseif res == 3\n",
    "    lc = 1e-2\n",
    "    name = grid_type * \"_finner\"\n",
    "end\n",
    "\n",
    "#Lados exteriores de la grilla rectangular\n",
    "side_x = 2\n",
    "side_y = 1\n",
    "\n",
    "if (grid_type == \"test_crapodina\")\n",
    "    # Definimos número de nodos en los bordes\n",
    "    numNodesHE=(Int64(side_x/lc),Int64(side_y/lc))\n",
    "\n",
    "    p = (name, side_x, side_y, lc, numNodesHE=numNodesHE , quad_state=true, structured_mesh=false)\n",
    "elseif (grid_type == \"rectangle_hole_square\")\n",
    "    #Rectangulo interior\n",
    "    rec_base = 0.25  #Coordenada y de la base\n",
    "    rec_top = 0.75   #Coordenada y del lado superior\n",
    "    rec_left = 1.25  #Coordenada x del lado izquierdo\n",
    "    rec_right = 1.75 #Coordenada x del lado derecho\n",
    "\n",
    "    #Circulo interior\n",
    "    circ_center_x = 0.5  #Coordenada x del centro\n",
    "    circ_center_y = 0.5  #Coordenada y del centro\n",
    "    circ_radius = 0.25   #Radio\n",
    "\n",
    "    p = (name, side_x, side_y, circ_center_x, circ_center_y, circ_radius, rec_base, rec_top, rec_left, rec_right, lc, lc_f)\n",
    "end"
   ]
  },
  {
   "cell_type": "code",
   "execution_count": 109,
   "id": "8619b867",
   "metadata": {},
   "outputs": [
    {
     "name": "stdout",
     "output_type": "stream",
     "text": [
      "Choose test crapodina 😃\n"
     ]
    },
    {
     "name": "stdout",
     "output_type": "stream",
     "text": [
      "Info    : Meshing 1D...\n",
      "Info    : [  0%] Meshing curve 1 (Line)\n",
      "Info    : [ 30%] Meshing curve 2 (Line)\n",
      "Info    : [ 50%] Meshing curve 3 (Line)\n",
      "Info    : [ 80%] Meshing curve 4 (Line)\n",
      "Info    : Done meshing 1D (Wall 0.00599654s, CPU 0.005998s)\n",
      "Info    : Meshing 2D...\n",
      "Info    : Meshing surface 100 (Plane, Delaunay)\n",
      "Info    : Blossom: 158659 internal 880 closed\n",
      "Info    : Blossom recombination completed (Wall 14.6232s, CPU 14.5999s): 51403 quads, 0 triangles, 0 invalid quads, 0 quads with Q < 0.1, avg Q = 0.784358, min Q = 0.455518\n",
      "Info    : Done meshing 2D (Wall 17.0392s, CPU 17.0111s)\n",
      "Info    : 51844 nodes 52287 elements\n",
      "Info    : Writing 'models/test_crapodina_finner.msh'...\n",
      "Info    : Done writing 'models/test_crapodina_finner.msh'\n",
      "Info    : Reading 'models/test_crapodina_finner.msh'...\n",
      "Info    : 9 entities\n",
      "Info    : 51844 nodes\n",
      "Info    : 52283 elements\n",
      "Info    : Done reading 'models/test_crapodina_finner.msh'\n"
     ]
    },
    {
     "data": {
      "text/plain": [
       "UnstructuredDiscreteModel()"
      ]
     },
     "metadata": {},
     "output_type": "display_data"
    }
   ],
   "source": [
    "model = make_model(grid_type, p)"
   ]
  },
  {
   "cell_type": "code",
   "execution_count": 110,
   "id": "b335dc5b",
   "metadata": {},
   "outputs": [
    {
     "data": {
      "text/plain": [
       "BodyFittedTriangulation()"
      ]
     },
     "metadata": {},
     "output_type": "display_data"
    }
   ],
   "source": [
    "Ω = Triangulation(model)"
   ]
  },
  {
   "cell_type": "code",
   "execution_count": 111,
   "id": "6ab522b2",
   "metadata": {},
   "outputs": [
    {
     "data": {
      "text/plain": [
       "Measure()"
      ]
     },
     "metadata": {},
     "output_type": "display_data"
    }
   ],
   "source": [
    "degree = 3\n",
    "dΩ = Measure(Ω,degree)"
   ]
  },
  {
   "cell_type": "code",
   "execution_count": 112,
   "id": "8ef4815c",
   "metadata": {},
   "outputs": [],
   "source": [
    "if plot_s\n",
    "    fig, ax = plot(Ω)\n",
    "    ax.aspect = AxisAspect(2)\n",
    "    wireframe!(Ω, color=:black, linewidth=1)\n",
    "    scatter!(Ω, marker=:star8, markersize=4, color=:blue)\n",
    "    fig\n",
    "end"
   ]
  },
  {
   "cell_type": "markdown",
   "id": "8d2dc1fe",
   "metadata": {},
   "source": [
    "Tambén podemos graficar los contornos:"
   ]
  },
  {
   "cell_type": "code",
   "execution_count": 113,
   "id": "8c372953",
   "metadata": {},
   "outputs": [
    {
     "data": {
      "text/plain": [
       "Measure()"
      ]
     },
     "metadata": {},
     "output_type": "display_data"
    }
   ],
   "source": [
    "if (grid_type == \"test_crapodina\")\n",
    "    boundary_tags = [\"ext\"]\n",
    "elseif (grid_type == \"rectangle_hole_square\")\n",
    "    boundary_tags = [\"inner_circle\", \"inner_square\", \"ext\"]\n",
    "end\n",
    "\n",
    "Γ = BoundaryTriangulation(model,tags=boundary_tags)\n",
    "dΓ = Measure(Γ,degree)"
   ]
  },
  {
   "cell_type": "code",
   "execution_count": 114,
   "id": "d5a84f51",
   "metadata": {},
   "outputs": [],
   "source": [
    "if plot_s\n",
    "    fig, ax = plot(Γ, linewidth=8)\n",
    "    ax.aspect = AxisAspect(2)\n",
    "    wireframe!(Γ, color=:black, linewidth=1)\n",
    "    fig\n",
    "end"
   ]
  },
  {
   "cell_type": "markdown",
   "id": "ea86927b",
   "metadata": {},
   "source": [
    "Vamos a elegir dos problemas simples para calcular la matríz de capacitancia de un conjunto de conductores. Tomaremos a los conductores como los dos cuerpos: el círculo y el cuadrado y pondremos condiciones de potencial constante. El borde externo se tomará como *infinito* y pondremos allí siempre potencial cero."
   ]
  },
  {
   "cell_type": "code",
   "execution_count": 115,
   "id": "7f71523f",
   "metadata": {},
   "outputs": [
    {
     "data": {
      "text/plain": [
       "false"
      ]
     },
     "metadata": {},
     "output_type": "display_data"
    }
   ],
   "source": [
    "capacity_cs = true # potencial 1 en el círculo y potencial 0 en el cuadrado.\n",
    "capacity_sc = false # potencial 0 en el círculo y potencial 1 en el cuadrado. "
   ]
  },
  {
   "cell_type": "markdown",
   "id": "317e3693",
   "metadata": {},
   "source": [
    "Una vez que tenemos el grillado comenzamos a definir los elementos finitos que utilizaremos. En este caso usaremos elementos lagrangiano de **orden 1** que cumplirán una condición de Dirichlet en la región $\\partial \\Omega_{int}$. Al construirse la grilla esta región ha sido marcada como la frontera interior del rectángulo con el `tag` `\"int\"`. "
   ]
  },
  {
   "cell_type": "code",
   "execution_count": 116,
   "id": "7cefed30",
   "metadata": {},
   "outputs": [
    {
     "data": {
      "text/plain": [
       "UnconstrainedFESpace()"
      ]
     },
     "metadata": {},
     "output_type": "display_data"
    }
   ],
   "source": [
    "order = 1\n",
    "reffe = ReferenceFE(lagrangian,Float64,order)\n",
    "\n",
    "if (grid_type == \"test_crapodina\")\n",
    "    dirichlet_tags= [\"ext\"] \n",
    "elseif (grid_type == \"rectangle_hole_square\")\n",
    "    dirichlet_tags= [\"inner_circle\", \"inner_square\",\"ext\"] \n",
    "end\n",
    "\n",
    "V = TestFESpace(model,reffe;conformity=:H1,dirichlet_tags = dirichlet_tags)\n",
    "#V = TestFESpace(model,reffe;conformity=:L2,dirichlet_tags = dirichlet_tags) #no funciona la inversión. "
   ]
  },
  {
   "cell_type": "markdown",
   "id": "69bb0ad1",
   "metadata": {},
   "source": [
    "Asignamos los valores de contorno para los potenciales. "
   ]
  },
  {
   "cell_type": "code",
   "execution_count": 117,
   "id": "5a153fbe",
   "metadata": {},
   "outputs": [
    {
     "data": {
      "text/plain": [
       "TrialFESpace()"
      ]
     },
     "metadata": {},
     "output_type": "display_data"
    }
   ],
   "source": [
    "# internal Dirichlet boundary condition\n",
    "g(x) = 1.0 # esta puede ser una función de x (vector posición)\n",
    "if capacity_cs\n",
    "    if (grid_type == \"test_crapodina\")\n",
    "        U = TrialFESpace(V,[g])\n",
    "    elseif (grid_type == \"rectangle_hole_square\")\n",
    "        U = TrialFESpace(V,[g 0.0 0.0])\n",
    "    end\n",
    "elseif capacity_sc\n",
    "    if (grid_type == \"test_crapodina\")\n",
    "        U = TrialFESpace(V,[0.0])\n",
    "    elseif (grid_type == \"rectangle_hole_square\")\n",
    "        U = TrialFESpace(V,[0.0 g 0.0])\n",
    "    end\n",
    "end"
   ]
  },
  {
   "cell_type": "markdown",
   "id": "21b021a4",
   "metadata": {},
   "source": [
    "A continuación definimos el problema débil en forma abstracta:"
   ]
  },
  {
   "cell_type": "code",
   "execution_count": 118,
   "id": "ab215665",
   "metadata": {},
   "outputs": [
    {
     "data": {
      "text/plain": [
       "b (generic function with 1 method)"
      ]
     },
     "metadata": {},
     "output_type": "display_data"
    }
   ],
   "source": [
    "f(x) = 0 # en este caso la fuente es cero, pero se puede poner una distribución de carga.\n",
    "\n",
    "a(u,v) = ∫( ∇(v)⋅∇(u) )*dΩ  # en a(u,v) va toda la dependencia con u que es la incógnita. \n",
    "\n",
    "b(v) = ∫(v*f )*dΩ # aquí todo lo que es fuente. \n"
   ]
  },
  {
   "cell_type": "markdown",
   "id": "9c96ff2e",
   "metadata": {},
   "source": [
    "A partir de este punto el paquete **Gridap.jl** genera un sistema del tipo $Ax=b$ y lo resuelve para la versión elementos finitos de u."
   ]
  },
  {
   "cell_type": "code",
   "execution_count": 119,
   "id": "d83efca9",
   "metadata": {},
   "outputs": [
    {
     "data": {
      "text/plain": [
       "AffineFEOperator()"
      ]
     },
     "metadata": {},
     "output_type": "display_data"
    }
   ],
   "source": [
    "op = AffineFEOperator(a,b,U,V)"
   ]
  },
  {
   "cell_type": "code",
   "execution_count": 120,
   "id": "3129c5d6",
   "metadata": {},
   "outputs": [
    {
     "data": {
      "text/plain": [
       "LinearFESolver()"
      ]
     },
     "metadata": {},
     "output_type": "display_data"
    }
   ],
   "source": [
    "ls = LUSolver()\n",
    "lb = BackslashSolver() # x = A \\ b\n",
    "solver = LinearFESolver(lb)"
   ]
  },
  {
   "cell_type": "code",
   "execution_count": 121,
   "id": "fd7993b6",
   "metadata": {},
   "outputs": [
    {
     "data": {
      "text/plain": [
       "SingleFieldFEFunction():\n",
       " num_cells: 51403\n",
       " DomainStyle: ReferenceDomain()\n",
       " Triangulation: BodyFittedTriangulation()\n",
       " Triangulation id: 217301420444356846"
      ]
     },
     "metadata": {},
     "output_type": "display_data"
    }
   ],
   "source": [
    "uh = solve(solver,op)\n",
    "#uh = solve(op)"
   ]
  },
  {
   "cell_type": "markdown",
   "id": "8bdb872a",
   "metadata": {},
   "source": [
    "Ahora podemos graficar la solución encontrada y guardarla además en un archivo que se puede leer con paraview o visit."
   ]
  },
  {
   "cell_type": "code",
   "execution_count": 122,
   "id": "08d27bd2",
   "metadata": {},
   "outputs": [],
   "source": [
    "if plot_s \n",
    "    fig, ax, plt = plot(Ω, uh)\n",
    "    ax.aspect = AxisAspect(2)\n",
    "    Colorbar(fig[2,1], plt, vertical=false)\n",
    "    fig\n",
    "end"
   ]
  },
  {
   "cell_type": "code",
   "execution_count": 123,
   "id": "3c800cbe",
   "metadata": {},
   "outputs": [
    {
     "data": {
      "text/plain": [
       "([\"images/grad_cs_test_crapodina_3.vtu\"],)"
      ]
     },
     "metadata": {},
     "output_type": "display_data"
    }
   ],
   "source": [
    "if capacity_cs\n",
    "    writevtk(Ω,\"images/solucion_cs_$(grid_type)_$(res)\",cellfields=[\"uh_cs_$res\" => uh])\n",
    "    writevtk(Ω,\"images/grad_cs_$(grid_type)_$(res)\",cellfields=[\"grad_uh_cs_$res\" => ∇(uh)])\n",
    "elseif capacity_sc\n",
    "    writevtk(Ω,\"images/solucion_sc_$(grid_type)_$(res)\",cellfields=[\"uh_sc_$res\" => uh])\n",
    "    writevtk(Ω,\"images/grad_sc_$(grid_type)_$(res)\",cellfields=[\"grad_uh_cs_$res\" => ∇(uh)])\n",
    "end"
   ]
  },
  {
   "cell_type": "markdown",
   "id": "e24ae704",
   "metadata": {},
   "source": [
    "Una vez obtenida la solución se pueden calcular algunas cantidades físicamente interesantes, por ejemplo la carga contenida en una región. Aquí calculamos la carga en la región exterior y en la interior. Note el cambio de signo para la interior ya que la normal siempre es toma saliente.\n",
    "\n",
    "Recordemos que la carga se define como: \n",
    "\\begin{equation}\n",
    "Q_i = \\int_{\\partial \\Omega_i} \\sigma dS =  \\frac{1}{4\\pi}\\int_{\\partial \\Omega_i} E \\cdot \\; dS\n",
    "\\end{equation}\n",
    "\n",
    "Mientras que la  **matriz de capacidades** como: \n",
    "\n",
    "\\begin{equation}\n",
    "Q_i = C_{ij}V^j\n",
    "\\end{equation}"
   ]
  },
  {
   "cell_type": "code",
   "execution_count": 124,
   "id": "6b4c9539",
   "metadata": {},
   "outputs": [
    {
     "data": {
      "text/plain": [
       "9.363262412647555e-15"
      ]
     },
     "metadata": {},
     "output_type": "display_data"
    }
   ],
   "source": [
    "if (grid_type == \"test_crapodina\")\n",
    "    Γ_ext = BoundaryTriangulation(model,tags=\"ext\")\n",
    "    dΓ_ext = Measure(Γ_ext,degree)\n",
    "    nb_ext = get_normal_vector(Γ_ext)\n",
    "    Q_ext = -sum(∫((nb_ext ⋅ ∇(uh)))*dΓ_ext)/4/π\n",
    "elseif (grid_type == \"rectangle_hole_square\")\n",
    "    Γ_ext = BoundaryTriangulation(model,tags=\"ext\")\n",
    "    dΓ_ext = Measure(Γ_ext,degree)\n",
    "    nb_ext = get_normal_vector(Γ_ext)\n",
    "    Q_ext = -sum(∫((nb_ext ⋅ ∇(uh)))*dΓ_ext)/4/π\n",
    "\n",
    "    Γ_square = BoundaryTriangulation(model,tags=\"inner_square\")\n",
    "    dΓ_square = Measure(Γ_square,degree)\n",
    "    nb_square = get_normal_vector(Γ_square)\n",
    "    Q_square = sum(∫((nb_square ⋅ ∇(uh)))*dΓ_square)/4/π\n",
    "\n",
    "    Γ_circle = BoundaryTriangulation(model,tags=\"inner_circle\")\n",
    "    dΓ_circle = Measure(Γ_circle,degree)\n",
    "    nb_circle = get_normal_vector(Γ_circle)\n",
    "    Q_circle = sum(∫((nb_circle ⋅ ∇(uh)))*dΓ_circle)/4/π\n",
    "end"
   ]
  },
  {
   "cell_type": "code",
   "execution_count": 125,
   "id": "490e0d16",
   "metadata": {},
   "outputs": [
    {
     "name": "stdout",
     "output_type": "stream",
     "text": [
      "Q_ext=9.363262412647555e-15\n"
     ]
    }
   ],
   "source": [
    "if (grid_type == \"test_crapodina\")\n",
    "    println(\"Q_ext=\",Q_ext);\n",
    "elseif (grid_type == \"rectangle_hole_square\")\n",
    "     # esto debería dar cero si no hay fuentes (cargas).\n",
    "    println(\"Q_ext-Q_circle-Q_square=\",Q_ext - Q_circle - Q_square);\n",
    "end"
   ]
  },
  {
   "cell_type": "markdown",
   "id": "fe7ed6d3",
   "metadata": {},
   "source": [
    "![Una imagen con visIt](images/grad_cs_1_mesh0000.jpeg)\n",
    "![Una imagen con visIt](images/grad_cs_1_pseudocolor0000.jpeg)\n",
    "![Una imagen con visIt](images/solucion_cs_1_mesh0000.jpeg)\n",
    "![Una imagen con visIt](images/solucion_cs_1_pseudocolor0000.jpeg)"
   ]
  },
  {
   "cell_type": "markdown",
   "id": "c86b49a8",
   "metadata": {},
   "source": []
  }
 ],
 "metadata": {
  "kernelspec": {
   "display_name": "Julia 1.8.0",
   "language": "julia",
   "name": "julia-1.8"
  },
  "language_info": {
   "file_extension": ".jl",
   "mimetype": "application/julia",
   "name": "julia",
   "version": "1.8.0"
  },
  "toc-autonumbering": false,
  "toc-showtags": false
 },
 "nbformat": 4,
 "nbformat_minor": 5
}
