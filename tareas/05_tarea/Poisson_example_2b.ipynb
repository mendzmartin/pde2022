{
 "cells": [
  {
   "cell_type": "markdown",
   "id": "fb0e317d",
   "metadata": {},
   "source": [
    "# Ejemplo de resolución del problema de Poisson con distintas condiciones de contorno y manipulación de la solución para el problema de cálculo de capacitancias #\n"
   ]
  },
  {
   "cell_type": "markdown",
   "id": "559e0f97",
   "metadata": {},
   "source": [
    "El problema a resolver es:\n",
    "\n",
    "\n",
    "\\begin{align}\n",
    "-\\Delta u &= f \\;\\;\\;\\;\\; \\text{in } \\Omega \\\\\n",
    "u &= g \\;\\;\\;\\;\\; \\text{in } \\partial \\Omega_{int} \\\\\n",
    "\\hat{n} \\cdot \\nabla u &= h \\;\\;\\;\\;\\; \\text{in } \\partial \\Omega_{ext} \\\\\n",
    "\\end{align}\n",
    "\n",
    "Para ello impondremos la versión débil del mismo:\n",
    "\n",
    "Encuentre $u$ en $H^1(\\Omega, f))$ (o sea con las condiciones de contorno de Dirichlet en $\\partial \\Omega_{int}$) tal que,\n",
    "\n",
    "$$\n",
    "\\int_{\\Omega} \\nabla v \\cdot \\nabla u \\; d\\Omega \n",
    "- \\int_{\\Omega} v \\; f \\; d\\Omega \n",
    "- \\oint_{\\Omega_{ext}} v \\; h \\; d\\Gamma \n",
    "= 0 \\;\\;\\;\\;\\; \\forall v \\;\\; \\in H^1_0(\\Omega)\n",
    "$$\n",
    "\n",
    "Si obtenemos un $u$ satisfaciendo esta ecuación, y es suficientemente suave, entonces podemos integrar por partes el primer término y obtener:\n",
    "\n",
    "$$\n",
    "\\int_{\\Omega}  v \\; (-\\Delta u - f) \\; d\\Omega \n",
    "+ \\oint_{\\Omega_{ext}} v \\; (\\hat{n} \\cdot u - h) \\; d\\Gamma \n",
    "= 0 \\;\\;\\;\\;\\; \\forall v \\;\\; \\in H^1_0(\\Omega)\n",
    "$$\n",
    "\n",
    "Tomando $v$ arbitrario pero de soporte compacto vemos que $u$ debe satisfacer:\n",
    "\n",
    "$$\n",
    "-\\Delta u = f \\;\\;\\;\\;\\; \\text{in } \\Omega,\n",
    "$$\n",
    "y tomando $v$ arbitrario vemos que también se debe cumplir la condición de Neumann,\n",
    "\n",
    "$$\n",
    "\\hat{n} \\cdot \\nabla u = h \\;\\;\\;\\;\\; \\text{in } \\partial \\Omega_{ext}.\n",
    "$$\n",
    "\n",
    "La condición de Dirichlet es automática por la elección del espacio.\n",
    "\n",
    "Luego utilizaremos la solución encontrada para un problema de capacitancia.\n",
    "\n",
    "\n"
   ]
  },
  {
   "cell_type": "markdown",
   "id": "73f4dc37",
   "metadata": {},
   "source": [
    "Para resolver el problema utilizaremos la infraestructura del paquete `Gridap.jl` de Julia. Este ejemplo es una recopilación de varios ejemplos en el tutorial del paquete. "
   ]
  },
  {
   "cell_type": "code",
   "execution_count": 9,
   "id": "e17ee0c1-c2e2-4097-9a0a-2413cc1c731e",
   "metadata": {
    "tags": []
   },
   "outputs": [],
   "source": [
    "using Gridap\n",
    "using FileIO #Gráficos y salidas\n",
    "#mkdir(\"models\")\n",
    "#mkdir(\"images\")\n",
    "using GridapGmsh\n",
    "#using gmsh #]add https://github.com/koehlerson/gmsh.jl.git\n",
    "using Gmsh"
   ]
  },
  {
   "cell_type": "code",
   "execution_count": 24,
   "id": "9bd86831",
   "metadata": {},
   "outputs": [],
   "source": [
    "plot_s = false\n",
    "if plot_s\n",
    "    using Pkg; Pkg.activate(\"./gridap_makie\")\n",
    "    Pkg.add(Pkg.PackageSpec(;name=\"Makie\", version=\"0.12\"))\n",
    "    using Makie\n",
    "    using GridapMakie, GLMakie #Para graficar \n",
    "end"
   ]
  },
  {
   "cell_type": "markdown",
   "id": "d28aa671",
   "metadata": {},
   "source": [
    "Vamos a usar grillas construidas con la librería `gmsh`, a través del script ```mesh_generator.jl```. Notar que en el script se da nombre a las tres fronteras, la externa (rectangular), `\"ext\"` y las internas `\"inner_circle\"` y `\"inner_square\"`. En base al script, y siguiendo el tutorial de `gmsh`, podrán construir otras grillas. También se pueden usar otras librerías para construir grillas. Estas se importan a la infraestructura **Gridap** y con ellas se construye la triangulación a usar. "
   ]
  },
  {
   "cell_type": "code",
   "execution_count": 25,
   "id": "19039824",
   "metadata": {},
   "outputs": [
    {
     "data": {
      "text/plain": [
       "make_model (generic function with 1 method)"
      ]
     },
     "execution_count": 25,
     "metadata": {},
     "output_type": "execute_result"
    }
   ],
   "source": [
    "include(\"mesh_generator.jl\")"
   ]
  },
  {
   "cell_type": "code",
   "execution_count": 97,
   "id": "f4d0eb45",
   "metadata": {},
   "outputs": [
    {
     "data": {
      "text/plain": [
       "(\"rectangle_hole_square_coarse\", 2, 1, 0.5, 0.5, 0.25, 0.25, 0.75, 1.25, 1.75, 0.1, 0.025)"
      ]
     },
     "execution_count": 97,
     "metadata": {},
     "output_type": "execute_result"
    }
   ],
   "source": [
    "grid_type = \"rectangle_hole_square\"\n",
    "\n",
    "#Resoluciones:\n",
    "res = 1\n",
    "\n",
    "if res == 1\n",
    "    lc = 1e-1\n",
    "    lc_f = 0.25e-1\n",
    "    name = grid_type * \"_coarse\"\n",
    "elseif res == 2 \n",
    "    lc = 5e-2\n",
    "    lc_f = 2.5e-2\n",
    "    name = grid_type * \"_intermediate\"\n",
    "elseif res == 3\n",
    "    lc = 1e-2\n",
    "    lc_f = 0.25e-2\n",
    "    name = grid_type * \"_finner\"\n",
    "end\n",
    "    \n",
    "#Lados exteriores de la grilla rectangular\n",
    "side_x = 2\n",
    "side_y = 1\n",
    "\n",
    "#Rectangulo interior\n",
    "rec_base = 0.25  #Coordenada y de la base\n",
    "rec_top = 0.75   #Coordenada y del lado superior\n",
    "rec_left = 1.25  #Coordenada x del lado izquierdo\n",
    "rec_right = 1.75 #Coordenada x del lado derecho\n",
    "\n",
    "#Circulo interior\n",
    "circ_center_x = 0.5  #Coordenada x del centro\n",
    "circ_center_y = 0.5  #Coordenada y del centro\n",
    "circ_radius = 0.25   #Radio\n",
    "\n",
    "\n",
    "\n",
    "p = (name, side_x, side_y, circ_center_x, circ_center_y, circ_radius, rec_base, rec_top, rec_left, rec_right, lc, lc_f)"
   ]
  },
  {
   "cell_type": "code",
   "execution_count": 98,
   "id": "8619b867",
   "metadata": {},
   "outputs": [
    {
     "name": "stdout",
     "output_type": "stream",
     "text": [
      "Info    : Meshing 1D...\n",
      "Info    : [  0%] Meshing curve 1 (Line)\n",
      "Info    : [ 10%] Meshing curve 2 (Line)\n",
      "Info    : [ 20%] Meshing curve 3 (Line)\n",
      "Info    : [ 30%] Meshing curve 4 (Line)\n",
      "Info    : [ 40%] Meshing curve 5 (Circle)\n",
      "Info    : [ 50%] Meshing curve 6 (Circle)\n",
      "Info    : [ 50%] Meshing curve 7 (Circle)\n",
      "Info    : [ 60%] Meshing curve 8 (Circle)\n",
      "Info    : [ 70%] Meshing curve 10 (Line)\n",
      "Info    : [ 80%] Meshing curve 11 (Line)\n",
      "Info    : [ 90%] Meshing curve 12 (Line)\n",
      "Info    : [100%] Meshing curve 13 (Line)\n",
      "Info    : Done meshing 1D (Wall 0.00163162s, CPU 0.001315s)\n",
      "Info    : Meshing 2D...\n",
      "Info    : Meshing surface 1000 (Plane, Frontal-Delaunay)\n",
      "Info    : Done meshing 2D (Wall 0.0486105s, CPU 0.033954s)\n",
      "Info    : 967 nodes 1947 elements\n",
      "Info    : Writing 'models/rectangle_hole_square_coarse.msh'...\n",
      "Info    : Done writing 'models/rectangle_hole_square_coarse.msh'\n",
      "Info    : Reading 'models/rectangle_hole_square_coarse.msh'...\n",
      "Info    : 26 entities\n",
      "Info    : 966 nodes\n",
      "Info    : 1934 elements\n",
      "Info    : Done reading 'models/rectangle_hole_square_coarse.msh'\n"
     ]
    },
    {
     "data": {
      "text/plain": [
       "UnstructuredDiscreteModel()"
      ]
     },
     "execution_count": 98,
     "metadata": {},
     "output_type": "execute_result"
    }
   ],
   "source": [
    "model = make_model(grid_type, p)"
   ]
  },
  {
   "cell_type": "code",
   "execution_count": 99,
   "id": "b335dc5b",
   "metadata": {},
   "outputs": [
    {
     "data": {
      "text/plain": [
       "BodyFittedTriangulation()"
      ]
     },
     "execution_count": 99,
     "metadata": {},
     "output_type": "execute_result"
    }
   ],
   "source": [
    "Ω = Triangulation(model)"
   ]
  },
  {
   "cell_type": "code",
   "execution_count": 100,
   "id": "6ab522b2",
   "metadata": {},
   "outputs": [
    {
     "data": {
      "text/plain": [
       "Measure()"
      ]
     },
     "execution_count": 100,
     "metadata": {},
     "output_type": "execute_result"
    }
   ],
   "source": [
    "degree = 3\n",
    "dΩ = Measure(Ω,degree)"
   ]
  },
  {
   "cell_type": "code",
   "execution_count": 101,
   "id": "8ef4815c",
   "metadata": {},
   "outputs": [],
   "source": [
    "if plot_s\n",
    "    fig, ax = plot(Ω)\n",
    "    ax.aspect = AxisAspect(2)\n",
    "    wireframe!(Ω, color=:black, linewidth=1)\n",
    "    scatter!(Ω, marker=:star8, markersize=4, color=:blue)\n",
    "    fig\n",
    "end"
   ]
  },
  {
   "cell_type": "markdown",
   "id": "8d2dc1fe",
   "metadata": {},
   "source": [
    "Tambén podemos graficar los contornos:"
   ]
  },
  {
   "cell_type": "code",
   "execution_count": 102,
   "id": "8c372953",
   "metadata": {},
   "outputs": [],
   "source": [
    "boundary_tags = [\"inner_circle\", \"inner_square\", \"ext\"]\n",
    "\n",
    "Γ = BoundaryTriangulation(model,tags=boundary_tags)\n",
    "dΓ = Measure(Γ,degree)\n",
    "\n",
    "if plot_s\n",
    "    fig, ax = plot(Γ, linewidth=8)\n",
    "    ax.aspect = AxisAspect(2)\n",
    "    wireframe!(Γ, color=:black, linewidth=1)\n",
    "    fig\n",
    "end"
   ]
  },
  {
   "cell_type": "markdown",
   "id": "ea86927b",
   "metadata": {},
   "source": [
    "Vamos a elegir dos problemas simples para calcular la matríz de capacitancia de un conjunto de conductores. Tomaremos a los conductores como los dos cuerpos: el círculo y el cuadrado y pondremos condiciones de potencial constante. El borde externo se tomará como *infinito* y pondremos allí siempre potencial cero."
   ]
  },
  {
   "cell_type": "code",
   "execution_count": 103,
   "id": "7f71523f",
   "metadata": {},
   "outputs": [
    {
     "data": {
      "text/plain": [
       "true"
      ]
     },
     "execution_count": 103,
     "metadata": {},
     "output_type": "execute_result"
    }
   ],
   "source": [
    "capacity_cs = false # potencial 1 en el círculo y potencial 0 en el cuadrado.\n",
    "capacity_sc = false # potencial 0 en el círculo y potencial 1 en el cuadrado.\n",
    "capacity_cs = true\n",
    "#capacity_sc = true "
   ]
  },
  {
   "cell_type": "markdown",
   "id": "317e3693",
   "metadata": {},
   "source": [
    "Una vez que tenemos el grillado comenzamos a definir los elementos finitos que utilizaremos. En este caso usaremos elementos lagrangiano de **orden 1** que cumplirán una condición de Dirichlet en la región $\\partial \\Omega_{int}$. Al construirse la grilla esta región ha sido marcada como la frontera interior del rectángulo con el `tag` `\"int\"`. "
   ]
  },
  {
   "cell_type": "code",
   "execution_count": 104,
   "id": "7cefed30",
   "metadata": {},
   "outputs": [
    {
     "data": {
      "text/plain": [
       "UnconstrainedFESpace()"
      ]
     },
     "execution_count": 104,
     "metadata": {},
     "output_type": "execute_result"
    }
   ],
   "source": [
    "order = 2\n",
    "reffe = ReferenceFE(lagrangian,Float64,order)\n",
    "\n",
    "dirichlet_tags= [\"inner_circle\", \"inner_square\",\"ext\"] \n",
    "\n",
    "V = TestFESpace(model,reffe;conformity=:H1,dirichlet_tags = dirichlet_tags)\n",
    "#V = TestFESpace(model,reffe;conformity=:L2,dirichlet_tags = dirichlet_tags) #no funciona la inversión. "
   ]
  },
  {
   "cell_type": "markdown",
   "id": "69bb0ad1",
   "metadata": {},
   "source": [
    "Asignamos los valores de contorno para los potenciales. "
   ]
  },
  {
   "cell_type": "code",
   "execution_count": 105,
   "id": "5a153fbe",
   "metadata": {},
   "outputs": [
    {
     "data": {
      "text/plain": [
       "TrialFESpace()"
      ]
     },
     "execution_count": 105,
     "metadata": {},
     "output_type": "execute_result"
    }
   ],
   "source": [
    "# internal Dirichlet boundary condition\n",
    "g(x) = 1.0 # esta puede ser una función de x (vector posición)\n",
    "if capacity_cs\n",
    "    U = TrialFESpace(V,[g 0.0 0.0])\n",
    "elseif capacity_sc\n",
    "    U = TrialFESpace(V,[0.0 g 0.0])\n",
    "end"
   ]
  },
  {
   "cell_type": "markdown",
   "id": "21b021a4",
   "metadata": {},
   "source": [
    "A continuación definimos el problema débil en forma abstracta:"
   ]
  },
  {
   "cell_type": "code",
   "execution_count": 106,
   "id": "ab215665",
   "metadata": {},
   "outputs": [
    {
     "data": {
      "text/plain": [
       "b (generic function with 1 method)"
      ]
     },
     "execution_count": 106,
     "metadata": {},
     "output_type": "execute_result"
    }
   ],
   "source": [
    "f(x) = 0 # en este caso la fuente es cero, pero se puede poner una distribución de carga.\n",
    "\n",
    "a(u,v) = ∫( ∇(v)⋅∇(u) )*dΩ  # en a(u,v) va toda la dependencia con u que es la incógnita. \n",
    "\n",
    "b(v) = ∫(v*f )*dΩ # aquí todo lo que es fuente. \n"
   ]
  },
  {
   "cell_type": "markdown",
   "id": "9c96ff2e",
   "metadata": {},
   "source": [
    "A partir de este punto el paquete **Gridap.jl** genera un sistema del tipo $Ax=b$ y lo resuelve para la versión elementos finitos de u."
   ]
  },
  {
   "cell_type": "code",
   "execution_count": 107,
   "id": "d83efca9",
   "metadata": {},
   "outputs": [
    {
     "data": {
      "text/plain": [
       "AffineFEOperator()"
      ]
     },
     "execution_count": 107,
     "metadata": {},
     "output_type": "execute_result"
    }
   ],
   "source": [
    "op = AffineFEOperator(a,b,U,V)"
   ]
  },
  {
   "cell_type": "code",
   "execution_count": 108,
   "id": "3129c5d6",
   "metadata": {},
   "outputs": [
    {
     "data": {
      "text/plain": [
       "LinearFESolver()"
      ]
     },
     "execution_count": 108,
     "metadata": {},
     "output_type": "execute_result"
    }
   ],
   "source": [
    "ls = LUSolver()\n",
    "lb = BackslashSolver()\n",
    "solver = LinearFESolver(lb)"
   ]
  },
  {
   "cell_type": "code",
   "execution_count": 109,
   "id": "fd7993b6",
   "metadata": {},
   "outputs": [
    {
     "data": {
      "text/plain": [
       "SingleFieldFEFunction():\n",
       " num_cells: 1730\n",
       " DomainStyle: ReferenceDomain()\n",
       " Triangulation: BodyFittedTriangulation()\n",
       " Triangulation id: 18024034035077823043"
      ]
     },
     "execution_count": 109,
     "metadata": {},
     "output_type": "execute_result"
    }
   ],
   "source": [
    "uh = solve(solver,op)\n",
    "#uh = solve(op)"
   ]
  },
  {
   "cell_type": "markdown",
   "id": "8bdb872a",
   "metadata": {},
   "source": [
    "Ahora podemos graficar la solución encontrada y guardarla además en un archivo que se puede leer con paraview o visit."
   ]
  },
  {
   "cell_type": "code",
   "execution_count": 110,
   "id": "08d27bd2",
   "metadata": {},
   "outputs": [],
   "source": [
    "if plot_s \n",
    "    fig, ax, plt = plot(Ω, uh)\n",
    "    ax.aspect = AxisAspect(2)\n",
    "    Colorbar(fig[2,1], plt, vertical=false)\n",
    "    fig\n",
    "end"
   ]
  },
  {
   "cell_type": "code",
   "execution_count": 111,
   "id": "6ca33215",
   "metadata": {},
   "outputs": [
    {
     "data": {
      "text/plain": [
       "([\"images/grad_cs_1.vtu\"],)"
      ]
     },
     "execution_count": 111,
     "metadata": {},
     "output_type": "execute_result"
    }
   ],
   "source": [
    "if capacity_cs\n",
    "    writevtk(Ω,\"images/solucion_cs_$res\",cellfields=[\"uh_cs_$res\" => uh])\n",
    "    writevtk(Ω,\"images/grad_cs_$res\",cellfields=[\"grad_uh_cs_$res\" => ∇(uh)])\n",
    "elseif capacity_sc\n",
    "    writevtk(Ω,\"images/solucion_sc_$res\",cellfields=[\"uh_sc_$res\" => uh])\n",
    "    writevtk(Ω,\"images/grad_cs_$res\",cellfields=[\"grad_uh_cs_$res\" => ∇(uh)])\n",
    "end"
   ]
  },
  {
   "cell_type": "markdown",
   "id": "e24ae704",
   "metadata": {},
   "source": [
    "Una vez obtenida la solución se pueden calcular algunas cantidades físicamente interesantes, por ejemplo la carga contenida en una región. Aquí calculamos la carga en la región exterior y en la interior. Note el cambio de signo para la interior ya que la normal siempre es toma saliente.\n",
    "\n",
    "Recordemos que la carga se define como: \n",
    "\\begin{equation}\n",
    "Q_i = \\int_{\\partial \\Omega_i} \\sigma dS =  \\frac{1}{4\\pi}\\int_{\\partial \\Omega_i} E \\cdot \\; dS\n",
    "\\end{equation}\n",
    "\n",
    "Mientras que la  **matriz de capacidades** como: \n",
    "\n",
    "\\begin{equation}\n",
    "Q_i = C_{ij}V^j\n",
    "\\end{equation}"
   ]
  },
  {
   "cell_type": "code",
   "execution_count": 93,
   "id": "6b4c9539",
   "metadata": {},
   "outputs": [
    {
     "data": {
      "text/plain": [
       "0.5469049063868987"
      ]
     },
     "execution_count": 93,
     "metadata": {},
     "output_type": "execute_result"
    }
   ],
   "source": [
    "Γ_ext = BoundaryTriangulation(model,tags=\"ext\")\n",
    "dΓ_ext = Measure(Γ_ext,degree)\n",
    "nb_ext = get_normal_vector(Γ_ext)\n",
    "Q_ext = -sum(∫((nb_ext ⋅ ∇(uh)))*dΓ_ext)/4/π"
   ]
  },
  {
   "cell_type": "code",
   "execution_count": 94,
   "id": "42cbfcd0",
   "metadata": {},
   "outputs": [
    {
     "data": {
      "text/plain": [
       "-0.05707864127141627"
      ]
     },
     "execution_count": 94,
     "metadata": {},
     "output_type": "execute_result"
    }
   ],
   "source": [
    "Γ_square = BoundaryTriangulation(model,tags=\"inner_square\")\n",
    "dΓ_square = Measure(Γ_square,degree)\n",
    "nb_square = get_normal_vector(Γ_square)\n",
    "Q_square = sum(∫((nb_square ⋅ ∇(uh)))*dΓ_square)/4/π"
   ]
  },
  {
   "cell_type": "code",
   "execution_count": 95,
   "id": "1092e3b5",
   "metadata": {},
   "outputs": [
    {
     "data": {
      "text/plain": [
       "0.6039773903818324"
      ]
     },
     "execution_count": 95,
     "metadata": {},
     "output_type": "execute_result"
    }
   ],
   "source": [
    "Γ_circle = BoundaryTriangulation(model,tags=\"inner_circle\")\n",
    "dΓ_circle = Measure(Γ_circle,degree)\n",
    "nb_circle = get_normal_vector(Γ_circle)\n",
    "Q_circle = sum(∫((nb_circle ⋅ ∇(uh)))*dΓ_circle)/4/π"
   ]
  },
  {
   "cell_type": "code",
   "execution_count": 96,
   "id": "490e0d16",
   "metadata": {},
   "outputs": [
    {
     "data": {
      "text/plain": [
       "6.157276482572638e-6"
      ]
     },
     "execution_count": 96,
     "metadata": {},
     "output_type": "execute_result"
    }
   ],
   "source": [
    "Q_ext - Q_circle - Q_square # esto debería dar cero si no hay fuentes (cargas)."
   ]
  },
  {
   "cell_type": "markdown",
   "id": "fe7ed6d3",
   "metadata": {},
   "source": [
    "![Una imagen con visIt](images/visit0004.png)"
   ]
  },
  {
   "cell_type": "code",
   "execution_count": null,
   "id": "fa7d2a8f",
   "metadata": {},
   "outputs": [],
   "source": []
  },
  {
   "cell_type": "code",
   "execution_count": null,
   "id": "03fa8a23-cda5-4f5d-888f-cbe58feb429f",
   "metadata": {},
   "outputs": [],
   "source": []
  },
  {
   "cell_type": "code",
   "execution_count": null,
   "id": "56acedb8-ee8c-4a09-85ba-74d42b2be3fc",
   "metadata": {},
   "outputs": [],
   "source": []
  }
 ],
 "metadata": {
  "kernelspec": {
   "display_name": "Julia 1.8.1",
   "language": "julia",
   "name": "julia-1.8"
  },
  "language_info": {
   "file_extension": ".jl",
   "mimetype": "application/julia",
   "name": "julia",
   "version": "1.8.1"
  },
  "toc-autonumbering": false,
  "toc-showtags": false
 },
 "nbformat": 4,
 "nbformat_minor": 5
}
