{
 "cells": [
  {
   "cell_type": "code",
   "execution_count": 1,
   "id": "07166d2e-246a-4961-888a-46294c322af5",
   "metadata": {},
   "outputs": [],
   "source": [
    "using Gridap\n",
    "using GridapMakie, GLMakie\n",
    "using FileIO\n",
    "#mkdir(\"models\")\n",
    "#mkdir(\"images\")\n",
    "using GridapGmsh"
   ]
  },
  {
   "cell_type": "code",
   "execution_count": 2,
   "id": "34a4e722-f9aa-4457-9112-c6385035ceda",
   "metadata": {},
   "outputs": [],
   "source": [
    "using gmsh"
   ]
  },
  {
   "cell_type": "markdown",
   "id": "08d62a41-55bf-4cc9-9910-5e958d7eb14b",
   "metadata": {},
   "source": [
    "## Esto no está funcionando! ##"
   ]
  },
  {
   "cell_type": "code",
   "execution_count": 10,
   "id": "15ccf4f1-d6a1-41ab-9838-e2806827a9f7",
   "metadata": {},
   "outputs": [
    {
     "name": "stdout",
     "output_type": "stream",
     "text": [
      "Info    : Meshing 1D...\n",
      "Info    : [  0%] Meshing curve 1 (Line)\n",
      "Info    : [ 20%] Meshing curve 2 (Line)\n",
      "Info    : [ 30%] Meshing curve 3 (Line)\n",
      "Info    : [ 40%] Meshing curve 4 (Line)\n",
      "Info    : [ 50%] Meshing curve 5 (Circle)\n",
      "Info    : [ 70%] Meshing curve 6 (Circle)\n",
      "Info    : [ 80%] Meshing curve 7 (Circle)\n",
      "Info    : [ 90%] Meshing curve 8 (Circle)\n",
      "Info    : Done meshing 1D (Wall 0.000643433s, CPU 0.000593s)\n",
      "Info    : Meshing 2D...\n",
      "Info    : Done meshing 2D (Wall 2.90014e-06s, CPU 3e-06s)\n",
      "Info    : 93 nodes 101 elements\n",
      "Info    : Writing 'rectangle_hole.msh'...\n",
      "Info    : Done writing 'rectangle_hole.msh'\n"
     ]
    },
    {
     "name": "stderr",
     "output_type": "stream",
     "text": [
      "Warning : Unknown entity of dimension 1 and tag 12 in physical group 13\n"
     ]
    }
   ],
   "source": [
    "#first we build the rectangular boundary: \n",
    "gmsh.initialize()\n",
    "gmsh.option.setNumber(\"General.Terminal\", 1)\n",
    "gmsh.model.add(\"rectangle_hole\")\n",
    "#lc = 1e-2\n",
    "lc = 1e-1\n",
    "gmsh.model.geo.addPoint(0, 0, 0, lc, 1)\n",
    "gmsh.model.geo.addPoint(2.0, 0,  0, lc, 2)\n",
    "gmsh.model.geo.addPoint(2.0, 1.0, 0, lc, 3)\n",
    "gmsh.model.geo.addPoint(0, 1.0, 0, lc, 4)\n",
    "# now points for a circle\n",
    "lc_f = 1e-1/2\n",
    "gmsh.model.geo.addPoint(0.50, 0.25, 0, lc_f, 5)\n",
    "gmsh.model.geo.addPoint(0.75, 0.50, 0, lc_f, 6)\n",
    "gmsh.model.geo.addPoint(0.50, 0.75, 0, lc_f, 7)\n",
    "gmsh.model.geo.addPoint(0.25, 0.50, 0, lc_f, 8)\n",
    "gmsh.model.geo.addPoint(0.50, 0.50, 0, lc_f, 9)\n",
    "\n",
    "# make the square boundary\n",
    "gmsh.model.geo.addLine(1, 2, 1)\n",
    "gmsh.model.geo.addLine(2, 3, 2)\n",
    "gmsh.model.geo.addLine(3, 4, 3)\n",
    "gmsh.model.geo.addLine(4, 1, 4)\n",
    "\n",
    "# make the circle\n",
    "gmsh.model.geo.addCircleArc(5,9,6,5)\n",
    "gmsh.model.geo.addCircleArc(6,9,7,6)\n",
    "gmsh.model.geo.addCircleArc(7,9,8,7)\n",
    "gmsh.model.geo.addCircleArc(8,9,5,8)\n",
    "\n",
    "gmsh.model.geo.addCurveLoop([1, 2, 3, 4], 10) #the rectangle\n",
    "#gmsh.model.geo.synchronize()\n",
    "\n",
    "gmsh.model.geo.addCurveLoop([5, 6, 7, 8], 12) #the inner circle\n",
    "\n",
    "#gmsh.model.geo.addPlaneSurface([10,12], 100) #the surface\n",
    "\n",
    "#gmsh.model.geo.synchronize()\n",
    "\n",
    "gmsh.model.geo.addPhysicalGroup(1,[10],11 )\n",
    "gmsh.model.setPhysicalName(1, 11, \"ext\")\n",
    "\n",
    "gmsh.model.addPhysicalGroup(1, [12], 13)\n",
    "gmsh.model.setPhysicalName(1, 13, \"int\")\n",
    "# make the surface\n",
    "#gmsh.model.geo.addPlaneSurface([10,12], 100) #the surface\n",
    "#gmsh.model.addPhysicalGroup(2, [100], 101)\n",
    "#gmsh.model.setPhysicalName(2, 101, \"surface\")\n",
    "gmsh.model.geo.synchronize()\n",
    "gmsh.model.mesh.generate(2)\n",
    "gmsh.write(\"rectangle_hole.msh\")\n",
    "gmsh.finalize()\n"
   ]
  },
  {
   "cell_type": "code",
   "execution_count": 4,
   "id": "63455a15-e97e-4f94-8aba-3411c14d3b26",
   "metadata": {},
   "outputs": [
    {
     "name": "stdout",
     "output_type": "stream",
     "text": [
      "Info    : Reading 'rectangle_hole.msh'...\n",
      "Info    : 17 entities\n",
      "Info    : 93 nodes\n",
      "Info    : 101 elements\n",
      "Info    : Done reading 'rectangle_hole.msh'\n"
     ]
    },
    {
     "data": {
      "text/plain": [
       "UnstructuredDiscreteModel()"
      ]
     },
     "execution_count": 4,
     "metadata": {},
     "output_type": "execute_result"
    }
   ],
   "source": [
    "model = GmshDiscreteModel(\"rectangle_hole.msh\")"
   ]
  },
  {
   "cell_type": "code",
   "execution_count": 5,
   "id": "664ffb86-67c9-4727-805f-8dde4e88f0fc",
   "metadata": {},
   "outputs": [
    {
     "data": {
      "text/plain": [
       "UnstructuredGrid()"
      ]
     },
     "execution_count": 5,
     "metadata": {},
     "output_type": "execute_result"
    }
   ],
   "source": [
    "Ω = Triangulation(model)"
   ]
  },
  {
   "cell_type": "code",
   "execution_count": 8,
   "id": "ee03b7e7-1d8f-4255-a8e3-0bbdd4f9b883",
   "metadata": {},
   "outputs": [
    {
     "data": {
      "text/plain": [
       "FigureAxisPlot()"
      ]
     },
     "execution_count": 8,
     "metadata": {},
     "output_type": "execute_result"
    }
   ],
   "source": [
    "fig = plot(Ω\n",
    "        , shading=true\n",
    "        #, aspect_ratio=:equal\n",
    "        #, aspect_ratio=2.\n",
    "    )\n",
    "wireframe!(Ω, color=:black, linewidth=1)\n",
    "scatter!(Ω, marker=:star8, markersize=4, color=:blue)\n",
    "fig"
   ]
  },
  {
   "cell_type": "code",
   "execution_count": null,
   "id": "d7c6738f-d0ee-4a4d-ab2f-57d56e6ea872",
   "metadata": {},
   "outputs": [],
   "source": []
  },
  {
   "cell_type": "code",
   "execution_count": null,
   "id": "29c5a07e-b0b7-477c-9489-9a6267505e47",
   "metadata": {},
   "outputs": [],
   "source": []
  }
 ],
 "metadata": {
  "kernelspec": {
   "display_name": "Julia 1.6.1",
   "language": "julia",
   "name": "julia-1.6"
  },
  "language_info": {
   "file_extension": ".jl",
   "mimetype": "application/julia",
   "name": "julia",
   "version": "1.6.1"
  }
 },
 "nbformat": 4,
 "nbformat_minor": 5
}
