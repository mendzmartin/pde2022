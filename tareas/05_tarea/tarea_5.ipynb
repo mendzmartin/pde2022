{
 "cells": [
  {
   "cell_type": "markdown",
   "metadata": {},
   "source": [
    "# Tarea 5\n",
    "\n",
    "### Importante 1: ###\n",
    "Para esta tarea deberá tener instaladas las librerías `Gridap` y `Gmsh` y alguno de los visualizadores compatibles: **VisIt** https://wci.llnl.gov/simulation/computer-codes/visit/ o **Paraview** https://www.paraview.org/\n",
    "\n",
    "### Importante 2: ###\n",
    "Renombre el archivo como: \n",
    "**nombre_del_grupo_tarea_5.ipynb**\n",
    "\n",
    "**Todo el código generado y la presentación deberá estar incluida en este notebook.**\n",
    "\n",
    "**El objetivo de la tarea es variado:**\n",
    "\n",
    "1. Familiarizarse con el paquete ```Gridap``` y la resolución de problemas usando **Elementos Finitos**.\n",
    "2. Resolver problemas de Dirichlet para la ecuación de Laplace o Poisson. \n",
    "3. Familiarizarse con visualizadores modernos.\n",
    "4. Procesar los datos obtenidos"
   ]
  },
  {
   "cell_type": "markdown",
   "metadata": {},
   "source": [
    "**1)** Ejecute el notebook **Poisson_example.ipynb** es su opción test y compruebe que funciona correctamente. Experimente con distintas funciones \"solución\" y sus \"fuentes\". Visualize los resultados en el visualizador elegido (VisIt o Paraview).\n",
    "\n",
    "**2)** Experimente con distintas configuraciones del solver (distintos métodos, distinto número de iteraciones, toleracias). Experimente con distintos tipos de Elementos Finitos y con distintos órdenes de los mismos."
   ]
  },
  {
   "cell_type": "markdown",
   "metadata": {},
   "source": [
    "**3)** Ejecute el notebook **Poisson_example_b2.ipynb** con opciones de cómputo de las capacidades de las distintas configuraciones de conductores. Experimente con distintas configuraciones de conductores o cambiando sus distancias relativas, tamaños, formas, etc.\n",
    "\n",
    "**4)** Use distintas resoluciones y vea como afecta a las capacidades calculadas. "
   ]
  },
  {
   "cell_type": "markdown",
   "metadata": {},
   "source": [
    "**5)** Para los intrépidos: Cambie las condiciones de contorno a Neumann o Mixtas, piense en algún problema específico (físico o ingenieril) y aplíquelas. Condiciones asintóticas: Para problemas de sistemas aislados se usan condiciones de contorno tipo \"Robin\". Las mismas imponen un decaimiento del tipo (en 3 dimensiones) $u = \\frac{C}{r}$ sin especificar $C$, por ejemplo imponiendo (en 3 dimensiones) $\\partial_r u + \\frac{u}{r} = 0$ en una esfera de radio $R$ lo suficientemente grande. Implemente esta condición para este sistema (en 2 dimensiones)."
   ]
  },
  {
   "cell_type": "markdown",
   "metadata": {},
   "source": []
  }
 ],
 "metadata": {
  "kernelspec": {
   "display_name": "Julia 1.8.0",
   "language": "julia",
   "name": "julia-1.8"
  },
  "language_info": {
   "file_extension": ".jl",
   "mimetype": "application/julia",
   "name": "julia",
   "version": "1.8.0"
  },
  "latex_envs": {
   "LaTeX_envs_menu_present": true,
   "autoclose": false,
   "autocomplete": true,
   "bibliofile": "biblio.bib",
   "cite_by": "apalike",
   "current_citInitial": 1,
   "eqLabelWithNumbers": true,
   "eqNumInitial": 1,
   "hotkeys": {
    "equation": "Ctrl-E",
    "itemize": "Ctrl-I"
   },
   "labels_anchors": false,
   "latex_user_defs": false,
   "report_style_numbering": false,
   "user_envs_cfg": false
  },
  "vscode": {
   "interpreter": {
    "hash": "916dbcbb3f70747c44a77c7bcd40155683ae19c65e1c03b4aa3499c5328201f1"
   }
  }
 },
 "nbformat": 4,
 "nbformat_minor": 4
}
