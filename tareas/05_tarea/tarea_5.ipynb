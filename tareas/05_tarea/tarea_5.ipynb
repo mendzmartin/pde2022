{
 "cells": [
  {
   "cell_type": "markdown",
   "metadata": {},
   "source": [
    "# Tarea 5\n",
    "\n",
    "### Importante 1: ###\n",
    "Para esta tarea deberá tener instaladas las librerías `Gridap` y `Gmsh` y alguno de los visualizadores compatibles: **VisIt** https://wci.llnl.gov/simulation/computer-codes/visit/ o **Paraview** https://www.paraview.org/\n",
    "\n",
    "### Importante 2: ###\n",
    "Renombre el archivo como: \n",
    "**nombre_del_grupo_tarea_5.ipynb**\n",
    "\n",
    "**Todo el código generado y la presentación deberá estar incluida en este notebook.**\n",
    "\n",
    "**El objetivo de la tarea es variado:**\n",
    "\n",
    "1. Familiarizarse con el paquete ```Gridap``` y la resolución de problemas usando **Elementos Finitos**.\n",
    "2. Resolver problemas de Dirichlet para la ecuación de Laplace o Poisson. \n",
    "3. Familiarizarse con visualizadores modernos.\n",
    "4. Procesar los datos obtenidos"
   ]
  },
  {
   "cell_type": "markdown",
   "metadata": {},
   "source": [
    "**1)** Ejecute el notebook **Poisson_example.ipynb** es su opción test y compruebe que funciona correctamente. Experimente con distintas funciones \"solución\" y sus \"fuentes\". Visualize los resultados en el visualizador elegido (VisIt o Paraview).\n",
    "\n",
    "**2)** Experimente con distintas configuraciones del solver (distintos métodos, distinto número de iteraciones, toleracias). Experimente con distintos tipos de Elementos Finitos y con distintos órdenes de los mismos."
   ]
  },
  {
   "cell_type": "code",
   "execution_count": 10,
   "metadata": {},
   "outputs": [
    {
     "name": "stderr",
     "output_type": "stream",
     "text": [
      "\u001b[32m\u001b[1m  Activating\u001b[22m\u001b[39m project at `~/github_repositories/my_repositories/pde2022/tareas/05_tarea/gridap_makie`\n"
     ]
    }
   ],
   "source": [
    "include(\"../../modules/module_poisson_example_01.jl\");"
   ]
  },
  {
   "cell_type": "markdown",
   "metadata": {},
   "source": [
    "> Probamos con distintas funciones de prueba y fuentes."
   ]
  },
  {
   "cell_type": "code",
   "execution_count": 2,
   "metadata": {},
   "outputs": [],
   "source": [
    "# parámetros comúnes\n",
    "MeasureDegree=2;BC=\"full_dirichlet\";OrderIntFunct=2;\n",
    "TypeMesh=\"fine\";"
   ]
  },
  {
   "cell_type": "code",
   "execution_count": 3,
   "metadata": {},
   "outputs": [
    {
     "name": "stdout",
     "output_type": "stream",
     "text": [
      "Info    : Reading 'models/rectangle_hole_fine.msh'...\n",
      "Info    : 18 entities\n",
      "Info    : 5100 nodes\n",
      "Info    : 10200 elements\n",
      "Info    : Done reading 'models/rectangle_hole_fine.msh'\n",
      "l2 error = 0.00046884185294502234\n",
      "h1 error = 0.009237194200786695\n"
     ]
    }
   ],
   "source": [
    "TypeConf=\"00\";\n",
    "TSSfunction=solution_and_source_01;TSSfparams=(0.5,0.5);\n",
    "poisson_solver(TypeConf,MeasureDegree,BC,OrderIntFunct,TSSfunction,TSSfparams;TypeMesh=TypeMesh);"
   ]
  },
  {
   "cell_type": "markdown",
   "metadata": {},
   "source": [
    "### Solución numérica: mesh y pseudocolor\n",
    "<div>\n",
    "    <img src=\"images/P01_conf01_solucion_dir_mesh.jpeg\" width=\"500\"/>\n",
    "    <img src=\"images/P01_conf01_solucion_dir_pseudocolor.jpeg\" width=\"500\"/>\n",
    "</div>\n",
    "\n",
    "### Error: pseudocolor\n",
    "<div>\n",
    "    <img src=\"images/P01_conf00_error_dir_pseudocolor_01.jpeg\" width=\"500\"/>\n",
    "    <img src=\"images/P01_conf00_error_dir_pseudocolor_02.jpeg\" width=\"500\"/>\n",
    "</div>"
   ]
  },
  {
   "cell_type": "code",
   "execution_count": null,
   "metadata": {},
   "outputs": [],
   "source": [
    "TypeConf=\"01\";\n",
    "TSSfunction=solution_and_source_02;TSSfparams=(0.5,0.5);\n",
    "poisson_solver(TypeConf,MeasureDegree,BC,OrderIntFunct,TSSfunction,TSSfparams;TypeMesh=TypeMesh);"
   ]
  },
  {
   "cell_type": "markdown",
   "metadata": {},
   "source": [
    "### Solución numérica: mesh y pseudocolor\n",
    "<div>\n",
    "    <img src=\"images/P01_conf01_solucion_dir_mesh.jpeg\" width=\"500\"/>\n",
    "    <img src=\"images/P01_conf01_solucion_dir_pseudocolor.jpeg\" width=\"500\"/>\n",
    "</div>\n",
    "\n",
    "### Error: pseudocolor\n",
    "<div>\n",
    "    <img src=\"images/P01_conf01_error_dir_pseudocolor_01.jpeg\" width=\"500\"/>\n",
    "    <img src=\"images/P01_conf01_error_dir_pseudocolor_02.jpeg\" width=\"500\"/>\n",
    "</div>"
   ]
  },
  {
   "cell_type": "markdown",
   "metadata": {},
   "source": [
    "> Probamos con distintas configuraciones de solver"
   ]
  },
  {
   "cell_type": "code",
   "execution_count": 5,
   "metadata": {},
   "outputs": [],
   "source": [
    "MeasureDegree=2;BC=\"full_dirichlet\";OrderIntFunct=2;\n",
    "TSSfunction=solution_and_source_01;TSSfparams=(0.5,0.5);\n",
    "TypeMesh=\"fine\";"
   ]
  },
  {
   "cell_type": "code",
   "execution_count": 11,
   "metadata": {},
   "outputs": [
    {
     "name": "stdout",
     "output_type": "stream",
     "text": [
      "Info    : Reading 'models/rectangle_hole_fine.msh'...\n",
      "Info    : 18 entities\n",
      "Info    : 5100 nodes\n",
      "Info    : 10200 elements\n",
      "Info    : Done reading 'models/rectangle_hole_fine.msh'\n",
      "Iter     f(x) inf-norm    Step 2-norm \n",
      "------   --------------   --------------\n"
     ]
    },
    {
     "name": "stdout",
     "output_type": "stream",
     "text": [
      "     0     2.499906e+01              NaN\n",
      "     1     2.537033e-14     1.669984e+05\n"
     ]
    },
    {
     "name": "stdout",
     "output_type": "stream",
     "text": [
      "l2 error = 0.0004688418529450688\n",
      "h1 error = 0.009237194200786772\n"
     ]
    }
   ],
   "source": [
    "TypeConf=\"02\";\n",
    "SolvFunction=NL_solver; SolvFuncPar=(:newton,1e-4,3); # (method,tol,iter)\n",
    "poisson_solver(TypeConf,MeasureDegree,BC,OrderIntFunct,TSSfunction,TSSfparams;TypeMesh=TypeMesh,SolvFunction=SolvFunction,SolvFuncPar=SolvFuncPar);"
   ]
  },
  {
   "cell_type": "markdown",
   "metadata": {},
   "source": [
    "### Solución numérica: mesh y pseudocolor\n",
    "<div>\n",
    "    <img src=\"images/P01_conf02_solucion_dir_mesh.jpeg\" width=\"500\"/>\n",
    "    <img src=\"images/P01_conf02_solucion_dir_pseudocolor.jpeg\" width=\"500\"/>\n",
    "</div>\n",
    "\n",
    "### Error: pseudocolor\n",
    "<div>\n",
    "    <img src=\"images/P01_conf02_error_dir_pseudocolor_01.jpeg\" width=\"500\"/>\n",
    "    <img src=\"images/P01_conf02_error_dir_pseudocolor_02.jpeg\" width=\"500\"/>\n",
    "    <img src=\"images/P01_conf02_error_dir_pseudocolor_03.jpeg\" width=\"500\"/>\n",
    "</div>"
   ]
  },
  {
   "cell_type": "code",
   "execution_count": 13,
   "metadata": {},
   "outputs": [
    {
     "name": "stdout",
     "output_type": "stream",
     "text": [
      "Info    : Reading 'models/rectangle_hole_fine.msh'...\n",
      "Info    : 18 entities\n",
      "Info    : 5100 nodes\n",
      "Info    : 10200 elements\n",
      "Info    : Done reading 'models/rectangle_hole_fine.msh'\n",
      "Iter     f(x) inf-norm    Step 2-norm \n",
      "------   --------------   --------------\n",
      "     0     2.499906e+01              NaN\n",
      "     1     2.537033e-14     1.669984e+05\n"
     ]
    },
    {
     "name": "stdout",
     "output_type": "stream",
     "text": [
      "     2     1.421085e-14     5.050970e-24\n",
      "     3     1.665458e-14     7.862040e-25\n"
     ]
    },
    {
     "name": "stdout",
     "output_type": "stream",
     "text": [
      "     4     1.415120e-14     1.719665e-25\n",
      "     5     1.380546e-14     4.118275e-25\n"
     ]
    },
    {
     "name": "stdout",
     "output_type": "stream",
     "text": [
      "l2 error = 0.0004688418529451842\n",
      "h1 error = 0.009237194200786692\n"
     ]
    }
   ],
   "source": [
    "TypeConf=\"03\";\n",
    "SolvFunction=NL_solver; SolvFuncPar=(:newton,1e-16,5); # (method,tol,iter)\n",
    "poisson_solver(TypeConf,MeasureDegree,BC,OrderIntFunct,TSSfunction,TSSfparams;TypeMesh=TypeMesh,SolvFunction=SolvFunction,SolvFuncPar=SolvFuncPar);"
   ]
  },
  {
   "cell_type": "markdown",
   "metadata": {},
   "source": [
    "### Solución numérica: pseudocolor\n",
    "<div>\n",
    "    <img src=\"images/P01_conf03_solucion_dir_pseudocolor.jpeg\" width=\"500\"/>\n",
    "</div>\n",
    "\n",
    "### Error: pseudocolor\n",
    "<div>\n",
    "    <img src=\"images/P01_conf03_error_dir_pseudocolor.jpeg\" width=\"500\"/>\n",
    "</div>"
   ]
  },
  {
   "cell_type": "markdown",
   "metadata": {},
   "source": [
    "**3)** Ejecute el notebook **Poisson_example_b2.ipynb** con opciones de cómputo de las capacidades de las distintas configuraciones de conductores. Experimente con distintas configuraciones de conductores o cambiando sus distancias relativas, tamaños, formas, etc.\n",
    "\n",
    "**4)** Use distintas resoluciones y vea como afecta a las capacidades calculadas. "
   ]
  },
  {
   "cell_type": "markdown",
   "metadata": {},
   "source": [
    "**5)** Para los intrépidos: Cambie las condiciones de contorno a Neumann o Mixtas, piense en algún problema específico (físico o ingenieril) y aplíquelas. Condiciones asintóticas: Para problemas de sistemas aislados se usan condiciones de contorno tipo \"Robin\". Las mismas imponen un decaimiento del tipo (en 3 dimensiones) $u = \\frac{C}{r}$ sin especificar $C$, por ejemplo imponiendo (en 3 dimensiones) $\\partial_r u + \\frac{u}{r} = 0$ en una esfera de radio $R$ lo suficientemente grande. Implemente esta condición para este sistema (en 2 dimensiones)."
   ]
  },
  {
   "cell_type": "markdown",
   "metadata": {},
   "source": [
    "Para resolver este problema nos apoyamos con *Gridap tutorials*, donde hay 2 ejemplos donde se resuelven la ecuación de Navier Stokes (específicamente consultamos el ejemplo [*Tutorial 8: Incompressible Navier-Stokes*](https://gridap.github.io/Tutorials/dev/pages/t008_inc_navier_stokes/#Tutorial-8:-Incompressible-Navier-Stokes-1) y el ejemplo [*Tutorial 9: Stokes equation*](https://gridap.github.io/Tutorials/dev/pages/t009_stokes/#Tutorial-9:-Stokes-equation-1))\n",
    "\n",
    "\n",
    "**Condiciones de Dirichlet**\n",
    "Inflow:\n",
    "\\begin{align}\n",
    "    \\left\\{ x=-1,-1 \\lt y \\lt 1 \\right\\} && u_x=1-y^2 \\\\\n",
    "    \\left\\{ -1 \\lt x \\lt +1, y=\\pm 1 \\right\\} && u_x = u_y=0\n",
    "\\end{align}\n",
    "\n",
    "**Condiciones de Neumann**\n",
    "\\begin{align}\n",
    "    \\frac{\\partial u_x}{\\partial x} -p &= 0, &&(p = 0)\\\\\n",
    "    \\frac{\\partial u_y}{\\partial x} & = 0\n",
    "\\end{align}"
   ]
  },
  {
   "cell_type": "code",
   "execution_count": 1,
   "metadata": {},
   "outputs": [],
   "source": [
    "include(\"../../modules/module_SquareDomain_NavierStokes_SteadyStateIncomp.jl\");"
   ]
  },
  {
   "cell_type": "markdown",
   "metadata": {},
   "source": [
    "### info de lineas y puntos para crear la malla\n",
    "<div>\n",
    "    <img src=\"images/navierstokes_nodes.png\" width=\"500\"/>\n",
    "</div>"
   ]
  },
  {
   "cell_type": "code",
   "execution_count": 27,
   "metadata": {},
   "outputs": [
    {
     "name": "stdout",
     "output_type": "stream",
     "text": [
      "BCtype = original\n",
      "Iter     f(x) inf-norm    Step 2-norm \n"
     ]
    },
    {
     "name": "stdout",
     "output_type": "stream",
     "text": [
      "------   --------------   --------------\n",
      "     0     1.777778e+00              NaN\n"
     ]
    },
    {
     "name": "stdout",
     "output_type": "stream",
     "text": [
      "     1     2.158992e-02     4.514895e+07\n",
      "     2     5.560763e-05     1.180164e+05\n"
     ]
    },
    {
     "name": "stdout",
     "output_type": "stream",
     "text": [
      "     3     8.360251e-10     1.377209e+00\n"
     ]
    }
   ],
   "source": [
    "n=50;dom=(-1,1,-1,1);BCtype=\"original\";Re=10;iter=10;\n",
    "\n",
    "run_NavierStokes(n,dom,BCtype,Re,iter);"
   ]
  },
  {
   "cell_type": "markdown",
   "metadata": {},
   "source": [
    "### Solución numérica: pseudocolor, contour and velocity-field\n",
    "<div>\n",
    "    <img src=\"images/P05_IncompNavierStokesRe10_original_results_pseudocolor.jpeg\" width=\"500\"/>\n",
    "    <img src=\"images/P05_IncompNavierStokesRe10_original_results_contour.jpeg\" width=\"500\"/>\n",
    "    <img src=\"images/P05_IncompNavierStokesRe10_original_results_field.jpeg\" width=\"500\"/>\n",
    "</div>"
   ]
  },
  {
   "cell_type": "code",
   "execution_count": 29,
   "metadata": {},
   "outputs": [
    {
     "name": "stdout",
     "output_type": "stream",
     "text": [
      "BCtype = original\n",
      "Iter     f(x) inf-norm    Step 2-norm \n"
     ]
    },
    {
     "name": "stdout",
     "output_type": "stream",
     "text": [
      "------   --------------   --------------\n",
      "     0     1.777778e+00              NaN\n"
     ]
    },
    {
     "name": "stdout",
     "output_type": "stream",
     "text": [
      "     1     2.211236e-01     4.406484e+07\n",
      "     2     3.581714e-02     1.796758e+07\n"
     ]
    },
    {
     "name": "stdout",
     "output_type": "stream",
     "text": [
      "     3     2.280686e-03     2.722143e+05\n",
      "     4     1.197157e-04     1.318339e+03\n"
     ]
    },
    {
     "name": "stdout",
     "output_type": "stream",
     "text": [
      "     5     2.280993e-08     3.156252e-01\n",
      "     6     3.903128e-15     5.506465e-09\n"
     ]
    }
   ],
   "source": [
    "n=50;dom=(-1,1,-1,1);BCtype=\"original\";Re=100;iter=10;\n",
    "\n",
    "run_NavierStokes(n,dom,BCtype,Re,iter);"
   ]
  },
  {
   "cell_type": "markdown",
   "metadata": {},
   "source": [
    "### Solución numérica: pseudocolor, contour and velocity-field\n",
    "<div>\n",
    "    <img src=\"images/P05_IncompNavierStokesRe100_original_results_pseudocolor.jpeg\" width=\"500\"/>\n",
    "    <img src=\"images/P05_IncompNavierStokesRe100_original_results_contour.jpeg\" width=\"500\"/>\n",
    "    <img src=\"images/P05_IncompNavierStokesRe100_original_results_field.jpeg\" width=\"500\"/>\n",
    "</div>"
   ]
  },
  {
   "cell_type": "code",
   "execution_count": 6,
   "metadata": {},
   "outputs": [
    {
     "name": "stdout",
     "output_type": "stream",
     "text": [
      "BCtype = original\n",
      "Iter     f(x) inf-norm    Step 2-norm \n"
     ]
    },
    {
     "name": "stdout",
     "output_type": "stream",
     "text": [
      "------   --------------   --------------\n",
      "     0     3.654321e+00              NaN\n"
     ]
    },
    {
     "name": "stdout",
     "output_type": "stream",
     "text": [
      "     1     3.528124e+00     9.189117e+05\n",
      "     2     3.714732e+00     1.580441e+06\n"
     ]
    },
    {
     "name": "stdout",
     "output_type": "stream",
     "text": [
      "     3     3.639628e+00     7.782753e+05\n",
      "     4     3.397391e+00     1.643785e+07\n"
     ]
    },
    {
     "name": "stdout",
     "output_type": "stream",
     "text": [
      "     5     3.067736e+00     2.864429e+07\n",
      "     6     2.993635e+00     2.051419e+06\n"
     ]
    },
    {
     "name": "stdout",
     "output_type": "stream",
     "text": [
      "     7     2.698613e+00     2.234395e+07\n",
      "     8     2.431555e+00     2.024625e+07\n"
     ]
    },
    {
     "name": "stdout",
     "output_type": "stream",
     "text": [
      "     9     2.407449e+00     4.295612e+05\n",
      "    10     2.396722e+00     1.032252e+05\n"
     ]
    },
    {
     "name": "stdout",
     "output_type": "stream",
     "text": [
      "    11     2.394636e+00     1.361206e+04\n",
      "    12     2.394093e+00     4.418591e+03\n"
     ]
    },
    {
     "name": "stdout",
     "output_type": "stream",
     "text": [
      "    13     2.393593e+00     3.150583e+03\n",
      "    14     2.393455e+00     7.007233e+02\n"
     ]
    },
    {
     "name": "stdout",
     "output_type": "stream",
     "text": [
      "    15     2.393442e+00     5.549958e+01\n",
      "    16     2.393442e+00     8.837750e-01\n"
     ]
    },
    {
     "name": "stdout",
     "output_type": "stream",
     "text": [
      "    17     2.393442e+00     1.215900e-02\n",
      "    18     2.393442e+00     1.655009e-04\n"
     ]
    },
    {
     "name": "stdout",
     "output_type": "stream",
     "text": [
      "    19     2.393442e+00     2.257896e-06\n",
      "    20     2.393442e+00     3.809909e-08\n"
     ]
    },
    {
     "name": "stdout",
     "output_type": "stream",
     "text": [
      "    21     2.393442e+00     7.654672e-17\n",
      "    22     2.393442e+00     5.320545e-21\n"
     ]
    },
    {
     "name": "stdout",
     "output_type": "stream",
     "text": [
      "    23     2.393442e+00     2.673810e-25\n",
      "    24     2.393442e+00     1.279284e-09\n"
     ]
    },
    {
     "name": "stdout",
     "output_type": "stream",
     "text": [
      "    25     2.393442e+00     4.006130e-35\n",
      "    26     2.393442e+00     4.006130e-35\n"
     ]
    },
    {
     "name": "stdout",
     "output_type": "stream",
     "text": [
      "    27     2.393442e+00     4.006130e-35\n",
      "    28     2.393442e+00     4.006130e-35\n"
     ]
    },
    {
     "name": "stdout",
     "output_type": "stream",
     "text": [
      "    29     2.393442e+00     4.006130e-35\n",
      "    30     2.393442e+00     4.006130e-35\n"
     ]
    },
    {
     "name": "stdout",
     "output_type": "stream",
     "text": [
      "    31     2.393442e+00     4.006130e-35\n",
      "    32     2.393442e+00     4.071542e-38\n"
     ]
    },
    {
     "name": "stdout",
     "output_type": "stream",
     "text": [
      "    33     2.393442e+00     4.071542e-38\n",
      "    34     2.393442e+00     4.071542e-38\n"
     ]
    },
    {
     "name": "stdout",
     "output_type": "stream",
     "text": [
      "    35     2.393442e+00     4.071542e-38\n",
      "    36     2.393442e+00     4.071542e-38\n"
     ]
    },
    {
     "name": "stdout",
     "output_type": "stream",
     "text": [
      "    37     2.393442e+00     4.071542e-38\n",
      "    38     2.393442e+00     4.071542e-38\n"
     ]
    },
    {
     "name": "stdout",
     "output_type": "stream",
     "text": [
      "    39     2.393442e+00     4.071542e-38\n",
      "    40     2.393442e+00     4.071542e-38\n"
     ]
    },
    {
     "name": "stdout",
     "output_type": "stream",
     "text": [
      "    41     2.393442e+00     4.071542e-38\n",
      "    42     2.393442e+00     4.071542e-38\n"
     ]
    },
    {
     "name": "stdout",
     "output_type": "stream",
     "text": [
      "    43     2.393442e+00     4.071542e-38\n",
      "    44     2.393442e+00     4.071542e-38\n"
     ]
    },
    {
     "name": "stdout",
     "output_type": "stream",
     "text": [
      "    45     2.393442e+00     4.071542e-38\n",
      "    46     2.393442e+00     4.071542e-38\n"
     ]
    },
    {
     "name": "stdout",
     "output_type": "stream",
     "text": [
      "    47     2.393442e+00     4.071542e-38\n",
      "    48     2.393442e+00     4.071542e-38\n"
     ]
    },
    {
     "name": "stdout",
     "output_type": "stream",
     "text": [
      "    49     2.393442e+00     4.071542e-38\n",
      "    50     2.393442e+00     4.071542e-38\n"
     ]
    },
    {
     "name": "stdout",
     "output_type": "stream",
     "text": [
      "    51     2.393442e+00     4.071542e-38\n",
      "    52     2.393442e+00     4.071542e-38\n"
     ]
    },
    {
     "name": "stdout",
     "output_type": "stream",
     "text": [
      "    53     2.393442e+00     4.071542e-38\n",
      "    54     2.393442e+00     4.071542e-38\n"
     ]
    },
    {
     "name": "stdout",
     "output_type": "stream",
     "text": [
      "    55     2.393442e+00     4.071542e-38\n",
      "    56     2.393442e+00     4.071542e-38\n"
     ]
    },
    {
     "name": "stdout",
     "output_type": "stream",
     "text": [
      "    57     2.393442e+00     4.071542e-38\n",
      "    58     2.393442e+00     4.071542e-38\n"
     ]
    },
    {
     "name": "stdout",
     "output_type": "stream",
     "text": [
      "    59     2.393442e+00     4.071542e-38\n",
      "    60     2.393442e+00     4.071542e-38\n"
     ]
    },
    {
     "name": "stdout",
     "output_type": "stream",
     "text": [
      "    61     2.393442e+00     4.071542e-38\n",
      "    62     2.393442e+00     4.071542e-38\n"
     ]
    },
    {
     "name": "stdout",
     "output_type": "stream",
     "text": [
      "    63     2.393442e+00     4.071542e-38\n",
      "    64     2.393442e+00     4.071542e-38\n"
     ]
    },
    {
     "name": "stdout",
     "output_type": "stream",
     "text": [
      "    65     2.393442e+00     4.071542e-38\n",
      "    66     2.393442e+00     4.071542e-38\n"
     ]
    },
    {
     "name": "stdout",
     "output_type": "stream",
     "text": [
      "    67     2.393442e+00     4.071542e-38\n",
      "    68     2.393442e+00     4.071542e-38\n"
     ]
    },
    {
     "name": "stdout",
     "output_type": "stream",
     "text": [
      "    69     2.393442e+00     4.071542e-38\n",
      "    70     2.393442e+00     4.071542e-38\n"
     ]
    },
    {
     "name": "stdout",
     "output_type": "stream",
     "text": [
      "    71     2.393442e+00     4.071542e-38\n",
      "    72     2.393442e+00     4.071542e-38\n"
     ]
    },
    {
     "name": "stdout",
     "output_type": "stream",
     "text": [
      "    73     2.393442e+00     4.071542e-38\n",
      "    74     2.393442e+00     4.071542e-38\n"
     ]
    },
    {
     "name": "stdout",
     "output_type": "stream",
     "text": [
      "    75     2.393442e+00     4.071542e-38\n",
      "    76     2.393442e+00     4.071542e-38\n"
     ]
    },
    {
     "name": "stdout",
     "output_type": "stream",
     "text": [
      "    77     2.393442e+00     4.071542e-38\n",
      "    78     2.393442e+00     4.071542e-38\n"
     ]
    },
    {
     "name": "stdout",
     "output_type": "stream",
     "text": [
      "    79     2.393442e+00     4.071542e-38\n",
      "    80     2.393442e+00     4.071542e-38\n"
     ]
    },
    {
     "name": "stdout",
     "output_type": "stream",
     "text": [
      "    81     2.393442e+00     4.071542e-38\n",
      "    82     2.393442e+00     4.071542e-38\n"
     ]
    },
    {
     "name": "stdout",
     "output_type": "stream",
     "text": [
      "    83     2.393442e+00     4.071542e-38\n",
      "    84     2.393442e+00     4.071542e-38\n"
     ]
    },
    {
     "name": "stdout",
     "output_type": "stream",
     "text": [
      "    85     2.393442e+00     4.071542e-38\n",
      "    86     2.393442e+00     4.071542e-38\n"
     ]
    },
    {
     "name": "stdout",
     "output_type": "stream",
     "text": [
      "    87     2.393442e+00     4.071542e-38\n",
      "    88     2.393442e+00     4.071542e-38\n"
     ]
    },
    {
     "name": "stdout",
     "output_type": "stream",
     "text": [
      "    89     2.393442e+00     4.071542e-38\n",
      "    90     2.393442e+00     4.071542e-38\n"
     ]
    },
    {
     "name": "stdout",
     "output_type": "stream",
     "text": [
      "    91     2.393442e+00     4.071542e-38\n",
      "    92     2.393442e+00     4.071542e-38\n"
     ]
    },
    {
     "name": "stdout",
     "output_type": "stream",
     "text": [
      "    93     2.393442e+00     4.071542e-38\n",
      "    94     2.393442e+00     4.071542e-38\n"
     ]
    },
    {
     "name": "stdout",
     "output_type": "stream",
     "text": [
      "    95     2.393442e+00     4.071542e-38\n",
      "    96     2.393442e+00     4.071542e-38\n"
     ]
    },
    {
     "name": "stdout",
     "output_type": "stream",
     "text": [
      "    97     2.393442e+00     4.071542e-38\n",
      "    98     2.393442e+00     4.071542e-38\n"
     ]
    },
    {
     "name": "stdout",
     "output_type": "stream",
     "text": [
      "    99     2.393442e+00     4.071542e-38\n",
      "   100     2.393442e+00     4.071542e-38\n"
     ]
    }
   ],
   "source": [
    "n=50;dom=(-1,1,-1,1);BCtype=\"original\";Re=2500;iter=100;\n",
    "\n",
    "run_NavierStokes(n,dom,BCtype,Re,iter);"
   ]
  },
  {
   "cell_type": "markdown",
   "metadata": {},
   "source": [
    "### Solución numérica: pseudocolor, contour and velocity-field\n",
    "<div>\n",
    "    <img src=\"images/P05_IncompNavierStokesRe2500_original_results_pseudocolor.jpeg\" width=\"500\"/>\n",
    "    <img src=\"images/P05_IncompNavierStokesRe2500_original_results_contour.jpeg\" width=\"500\"/>\n",
    "    <img src=\"images/P05_IncompNavierStokesRe2500_original_results_field.jpeg\" width=\"500\"/>\n",
    "</div>"
   ]
  },
  {
   "cell_type": "code",
   "execution_count": 2,
   "metadata": {},
   "outputs": [
    {
     "name": "stdout",
     "output_type": "stream",
     "text": [
      "BCtype = fulldirichlet\n",
      "Iter     f(x) inf-norm    Step 2-norm \n"
     ]
    },
    {
     "name": "stdout",
     "output_type": "stream",
     "text": [
      "------   --------------   --------------\n",
      "     0     1.865387e+00              NaN\n"
     ]
    },
    {
     "name": "stdout",
     "output_type": "stream",
     "text": [
      "     1     8.879437e-02     4.292181e+04\n",
      "     2     1.676533e-09     8.023035e+02\n"
     ]
    }
   ],
   "source": [
    "n=50;dom=(-1,1,-1,1);BCtype=\"fulldirichlet\";Re=10;iter=10;\n",
    "\n",
    "run_NavierStokes(n,dom,BCtype,Re,iter);"
   ]
  },
  {
   "cell_type": "markdown",
   "metadata": {},
   "source": [
    "### Solución numérica: pseudocolor, velocity-profile (in and middle)\n",
    "<div>\n",
    "    <img src=\"images/P05_IncompNavierStokesRe10_fulldirichlet_results_pseudocolor.jpeg\" width=\"500\"/>\n",
    "    <img src=\"images/P05_IncompNavierStokesRe10_fulldirichlet_results_velocitymiddle.jpeg\" width=\"500\"/>\n",
    "    <img src=\"images/P05_IncompNavierStokesRe10_fulldirichlet_results_velocitymiddle.jpeg\" width=\"500\"/>\n",
    "</div>"
   ]
  },
  {
   "cell_type": "code",
   "execution_count": 3,
   "metadata": {},
   "outputs": [
    {
     "name": "stdout",
     "output_type": "stream",
     "text": [
      "BCtype = NeumannAndDirichlet\n",
      "Iter     f(x) inf-norm    Step 2-norm \n"
     ]
    },
    {
     "name": "stdout",
     "output_type": "stream",
     "text": [
      "------   --------------   --------------\n",
      "     0     1.865387e+00              NaN\n"
     ]
    },
    {
     "name": "stdout",
     "output_type": "stream",
     "text": [
      "     1     8.879357e-02     4.529060e+04\n",
      "     2     1.675283e-09     4.555219e+02\n"
     ]
    }
   ],
   "source": [
    "n=50;dom=(-1,1,-1,1);BCtype=\"NeumannAndDirichlet\";Re=10;iter=10;\n",
    "\n",
    "run_NavierStokes(n,dom,BCtype,Re,iter);"
   ]
  },
  {
   "cell_type": "markdown",
   "metadata": {},
   "source": [
    "### Solución numérica: pseudocolor, velocity-profile (in)\n",
    "<div>\n",
    "    <img src=\"images/P05_IncompNavierStokesRe10_NeumannAndDirichlet_results_pseudocolor.jpeg\" width=\"500\"/>\n",
    "    <img src=\"images/P05_IncompNavierStokesRe10_NeumannAndDirichlet_results_velocityin.jpeg\" width=\"500\"/>\n",
    "</div>\n",
    "\n",
    "### Malla\n",
    "<div>\n",
    "    <img src=\"images/P05_IncompNavierStokesRe10_NeumannAndDirichlet_results_mesh.jpeg\" width=\"500\"/>\n",
    "</div>"
   ]
  },
  {
   "cell_type": "code",
   "execution_count": 4,
   "metadata": {},
   "outputs": [
    {
     "name": "stdout",
     "output_type": "stream",
     "text": [
      "BCtype = NeumannAndDirichlet\n",
      "Iter     f(x) inf-norm    Step 2-norm \n"
     ]
    },
    {
     "name": "stdout",
     "output_type": "stream",
     "text": [
      "------   --------------   --------------\n",
      "     0     2.664534e+00              NaN\n"
     ]
    },
    {
     "name": "stdout",
     "output_type": "stream",
     "text": [
      "     1     8.877824e-01     8.243113e+04\n",
      "     2     1.742101e-06     4.556068e+04\n"
     ]
    },
    {
     "name": "stdout",
     "output_type": "stream",
     "text": [
      "     3     1.103230e-12     1.283044e-05\n"
     ]
    }
   ],
   "source": [
    "n=50;dom=(-1,1,-1,1);BCtype=\"NeumannAndDirichlet\";Re=100;iter=10;\n",
    "\n",
    "run_NavierStokes(n,dom,BCtype,Re,iter);"
   ]
  },
  {
   "cell_type": "markdown",
   "metadata": {},
   "source": [
    "### Solución numérica: pseudocolor, velocity-profile (in)\n",
    "<div>\n",
    "    <img src=\"images/P05_IncompNavierStokesRe100_NeumannAndDirichlet_results_pseudocolor.jpeg\" width=\"500\"/>\n",
    "</div>"
   ]
  },
  {
   "cell_type": "markdown",
   "metadata": {},
   "source": []
  }
 ],
 "metadata": {
  "kernelspec": {
   "display_name": "Julia 1.8.0",
   "language": "julia",
   "name": "julia-1.8"
  },
  "language_info": {
   "file_extension": ".jl",
   "mimetype": "application/julia",
   "name": "julia",
   "version": "1.8.0"
  },
  "latex_envs": {
   "LaTeX_envs_menu_present": true,
   "autoclose": false,
   "autocomplete": true,
   "bibliofile": "biblio.bib",
   "cite_by": "apalike",
   "current_citInitial": 1,
   "eqLabelWithNumbers": true,
   "eqNumInitial": 1,
   "hotkeys": {
    "equation": "Ctrl-E",
    "itemize": "Ctrl-I"
   },
   "labels_anchors": false,
   "latex_user_defs": false,
   "report_style_numbering": false,
   "user_envs_cfg": false
  },
  "vscode": {
   "interpreter": {
    "hash": "916dbcbb3f70747c44a77c7bcd40155683ae19c65e1c03b4aa3499c5328201f1"
   }
  }
 },
 "nbformat": 4,
 "nbformat_minor": 4
}
