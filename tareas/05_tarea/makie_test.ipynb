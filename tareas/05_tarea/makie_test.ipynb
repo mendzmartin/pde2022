{
 "cells": [
  {
   "cell_type": "code",
   "execution_count": 1,
   "id": "8bf73f2b-205e-4a72-aaae-d7b840c86251",
   "metadata": {},
   "outputs": [
    {
     "name": "stderr",
     "output_type": "stream",
     "text": [
      "┌ Info: Precompiling GridapMakie [41f30b06-6382-4b60-a5f7-79d86b35bf5d]\n",
      "└ @ Base loading.jl:1662\n",
      "\u001b[91m\u001b[1mERROR: \u001b[22m\u001b[39mLoadError: UndefVarError: point_iterator not defined\n",
      "Stacktrace:\n",
      " [1] \u001b[0m\u001b[1mgetproperty\u001b[22m\u001b[0m\u001b[1m(\u001b[22m\u001b[90mx\u001b[39m::\u001b[0mModule, \u001b[90mf\u001b[39m::\u001b[0mSymbol\u001b[0m\u001b[1m)\u001b[22m\n",
      "\u001b[90m   @ \u001b[39m\u001b[90mBase\u001b[39m \u001b[90m./\u001b[39m\u001b[90m\u001b[4mBase.jl:31\u001b[24m\u001b[39m\n",
      " [2] top-level scope\n",
      "\u001b[90m   @ \u001b[39m\u001b[90m~/.julia/packages/GridapMakie/oS6vj/src/\u001b[39m\u001b[90m\u001b[4mrecipes.jl:158\u001b[24m\u001b[39m\n",
      " [3] \u001b[0m\u001b[1minclude\u001b[22m\u001b[0m\u001b[1m(\u001b[22m\u001b[90mmod\u001b[39m::\u001b[0mModule, \u001b[90m_path\u001b[39m::\u001b[0mString\u001b[0m\u001b[1m)\u001b[22m\n",
      "\u001b[90m   @ \u001b[39m\u001b[90mBase\u001b[39m \u001b[90m./\u001b[39m\u001b[90m\u001b[4mBase.jl:419\u001b[24m\u001b[39m\n",
      " [4] \u001b[0m\u001b[1minclude\u001b[22m\u001b[0m\u001b[1m(\u001b[22m\u001b[90mx\u001b[39m::\u001b[0mString\u001b[0m\u001b[1m)\u001b[22m\n",
      "\u001b[90m   @ \u001b[39m\u001b[35mGridapMakie\u001b[39m \u001b[90m~/.julia/packages/GridapMakie/oS6vj/src/\u001b[39m\u001b[90m\u001b[4mGridapMakie.jl:1\u001b[24m\u001b[39m\n",
      " [5] top-level scope\n",
      "\u001b[90m   @ \u001b[39m\u001b[90m~/.julia/packages/GridapMakie/oS6vj/src/\u001b[39m\u001b[90m\u001b[4mGridapMakie.jl:17\u001b[24m\u001b[39m\n",
      " [6] \u001b[0m\u001b[1minclude\u001b[22m\n",
      "\u001b[90m   @ \u001b[39m\u001b[90m./\u001b[39m\u001b[90m\u001b[4mBase.jl:419\u001b[24m\u001b[39m\u001b[90m [inlined]\u001b[39m\n",
      " [7] \u001b[0m\u001b[1minclude_package_for_output\u001b[22m\u001b[0m\u001b[1m(\u001b[22m\u001b[90mpkg\u001b[39m::\u001b[0mBase.PkgId, \u001b[90minput\u001b[39m::\u001b[0mString, \u001b[90mdepot_path\u001b[39m::\u001b[0mVector\u001b[90m{String}\u001b[39m, \u001b[90mdl_load_path\u001b[39m::\u001b[0mVector\u001b[90m{String}\u001b[39m, \u001b[90mload_path\u001b[39m::\u001b[0mVector\u001b[90m{String}\u001b[39m, \u001b[90mconcrete_deps\u001b[39m::\u001b[0mVector\u001b[90m{Pair{Base.PkgId, UInt64}}\u001b[39m, \u001b[90msource\u001b[39m::\u001b[0mNothing\u001b[0m\u001b[1m)\u001b[22m\n",
      "\u001b[90m   @ \u001b[39m\u001b[90mBase\u001b[39m \u001b[90m./\u001b[39m\u001b[90m\u001b[4mloading.jl:1554\u001b[24m\u001b[39m\n",
      " [8] top-level scope\n",
      "\u001b[90m   @ \u001b[39m\u001b[90m\u001b[4mstdin:1\u001b[24m\u001b[39m\n",
      "in expression starting at /Users/reula/.julia/packages/GridapMakie/oS6vj/src/recipes.jl:158\n",
      "in expression starting at /Users/reula/.julia/packages/GridapMakie/oS6vj/src/GridapMakie.jl:1\n",
      "in expression starting at stdin:1\n"
     ]
    },
    {
     "ename": "LoadError",
     "evalue": "Failed to precompile GridapMakie [41f30b06-6382-4b60-a5f7-79d86b35bf5d] to /Users/reula/.julia/compiled/v1.8/GridapMakie/jl_OxU8Bu.",
     "output_type": "error",
     "traceback": [
      "Failed to precompile GridapMakie [41f30b06-6382-4b60-a5f7-79d86b35bf5d] to /Users/reula/.julia/compiled/v1.8/GridapMakie/jl_OxU8Bu.",
      "",
      "Stacktrace:",
      "  [1] error(s::String)",
      "    @ Base ./error.jl:35",
      "  [2] compilecache(pkg::Base.PkgId, path::String, internal_stderr::IO, internal_stdout::IO, keep_loaded_modules::Bool)",
      "    @ Base ./loading.jl:1705",
      "  [3] compilecache",
      "    @ ./loading.jl:1649 [inlined]",
      "  [4] _require(pkg::Base.PkgId)",
      "    @ Base ./loading.jl:1337",
      "  [5] _require_prelocked(uuidkey::Base.PkgId)",
      "    @ Base ./loading.jl:1200",
      "  [6] macro expansion",
      "    @ ./loading.jl:1180 [inlined]",
      "  [7] macro expansion",
      "    @ ./lock.jl:223 [inlined]",
      "  [8] require(into::Module, mod::Symbol)",
      "    @ Base ./loading.jl:1144",
      "  [9] eval",
      "    @ ./boot.jl:368 [inlined]",
      " [10] include_string(mapexpr::typeof(REPL.softscope), mod::Module, code::String, filename::String)",
      "    @ Base ./loading.jl:1428"
     ]
    }
   ],
   "source": [
    "import Pkg; Pkg.activate(\"gridap_makie\")\n",
    "using Gridap, GridapMakie\n",
    "using GLMakie\n",
    "#using WGLMakie\n",
    "using FileIO\n",
    "#mkdir(\"models\")\n",
    "#mkdir(\"images\")"
   ]
  },
  {
   "cell_type": "code",
   "execution_count": 2,
   "id": "1cdae618-d70d-4e0d-aad4-4068177c531b",
   "metadata": {},
   "outputs": [
    {
     "data": {
      "text/plain": [
       "BodyFittedTriangulation()"
      ]
     },
     "execution_count": 2,
     "metadata": {},
     "output_type": "execute_result"
    }
   ],
   "source": [
    "domain = (0, 1, 0, 1)\n",
    "cell_nums = (10, 10)\n",
    "model = CartesianDiscreteModel(domain, cell_nums) |> simplexify\n",
    "Ω = Triangulation(model)"
   ]
  },
  {
   "cell_type": "code",
   "execution_count": 3,
   "id": "b67bc992-dfdd-4556-b958-938e4918d0bc",
   "metadata": {},
   "outputs": [
    {
     "ename": "LoadError",
     "evalue": "UndefVarError: plot not defined",
     "output_type": "error",
     "traceback": [
      "UndefVarError: plot not defined",
      "",
      "Stacktrace:",
      " [1] top-level scope",
      "   @ In[3]:1",
      " [2] eval",
      "   @ ./boot.jl:368 [inlined]",
      " [3] include_string(mapexpr::typeof(REPL.softscope), mod::Module, code::String, filename::String)",
      "   @ Base ./loading.jl:1428"
     ]
    }
   ],
   "source": [
    "fig = plot(Ω)\n",
    "wireframe!(Ω, color=:black, linewidth=2)\n",
    "scatter!(Ω, marker=:star8, markersize=20, color=:blue)\n",
    "save(\"images/2d_Fig1.png\", fig)\n",
    "fig"
   ]
  },
  {
   "cell_type": "code",
   "execution_count": 4,
   "id": "f7509177-ca99-436c-9e2f-c461a1040a2d",
   "metadata": {},
   "outputs": [
    {
     "data": {
      "text/plain": [
       "SingleFieldFEFunction():\n",
       " num_cells: 200\n",
       " DomainStyle: ReferenceDomain()\n",
       " Triangulation: BodyFittedTriangulation()\n",
       " Triangulation id: 1276729470758297400"
      ]
     },
     "execution_count": 4,
     "metadata": {},
     "output_type": "execute_result"
    }
   ],
   "source": [
    "reffe = ReferenceFE(lagrangian, Float64, 1)\n",
    "V = FESpace(model, reffe)\n",
    "uh = interpolate(x->sin(π*(x[1]+x[2])), V)\n"
   ]
  },
  {
   "cell_type": "code",
   "execution_count": 5,
   "id": "2efbe6c8-1d8e-4047-8c47-a0d3cbb26644",
   "metadata": {},
   "outputs": [
    {
     "ename": "LoadError",
     "evalue": "UndefVarError: plot not defined",
     "output_type": "error",
     "traceback": [
      "UndefVarError: plot not defined",
      "",
      "Stacktrace:",
      " [1] top-level scope",
      "   @ In[5]:1",
      " [2] eval",
      "   @ ./boot.jl:368 [inlined]",
      " [3] include_string(mapexpr::typeof(REPL.softscope), mod::Module, code::String, filename::String)",
      "   @ Base ./loading.jl:1428"
     ]
    }
   ],
   "source": [
    "fig, _ , plt = plot(Ω, uh)\n",
    "Colorbar(fig[1,2], plt)\n",
    "save(\"images/2d_Fig11.png\", fig)\n",
    "fig"
   ]
  },
  {
   "cell_type": "code",
   "execution_count": 6,
   "id": "66a56823-864b-4073-ad48-11b202530058",
   "metadata": {},
   "outputs": [
    {
     "ename": "LoadError",
     "evalue": "UndefVarError: plot not defined",
     "output_type": "error",
     "traceback": [
      "UndefVarError: plot not defined",
      "",
      "Stacktrace:",
      " [1] top-level scope",
      "   @ In[6]:2",
      " [2] eval",
      "   @ ./boot.jl:368 [inlined]",
      " [3] include_string(mapexpr::typeof(REPL.softscope), mod::Module, code::String, filename::String)",
      "   @ Base ./loading.jl:1428"
     ]
    }
   ],
   "source": [
    "celldata = π*rand(num_cells(Ω)) .-1\n",
    "fig, _ , plt = plot(Ω, color=celldata, colormap=:heat)\n",
    "Colorbar(fig[2,1], plt, vertical=false)\n",
    "save(\"images/2d_Fig13.png\", fig)\n",
    "fig"
   ]
  },
  {
   "cell_type": "code",
   "execution_count": 7,
   "id": "0abe318f-84e3-4ad2-8ee6-525388b40ff8",
   "metadata": {},
   "outputs": [
    {
     "ename": "LoadError",
     "evalue": "UndefVarError: plot not defined",
     "output_type": "error",
     "traceback": [
      "UndefVarError: plot not defined",
      "",
      "Stacktrace:",
      " [1] top-level scope",
      "   @ In[7]:2",
      " [2] eval",
      "   @ ./boot.jl:368 [inlined]",
      " [3] include_string(mapexpr::typeof(REPL.softscope), mod::Module, code::String, filename::String)",
      "   @ Base ./loading.jl:1428"
     ]
    }
   ],
   "source": [
    "Γ = BoundaryTriangulation(model)\n",
    "fig, _ , plt = plot(Γ, uh, colormap=:algae, linewidth=10)\n",
    "Colorbar(fig[1,2], plt)\n",
    "save(\"images/2d_Fig111.png\", fig)\n",
    "display(fig)"
   ]
  },
  {
   "cell_type": "code",
   "execution_count": 8,
   "id": "13333fe0-1860-4264-9066-4d99f78bf93c",
   "metadata": {},
   "outputs": [
    {
     "ename": "LoadError",
     "evalue": "Could not resolve host: github.com while requesting https://github.com/gridap/GridapMakie.jl/raw/d5d74190e68bd310483fead8a4154235a61815c5/_readme/model.json",
     "output_type": "error",
     "traceback": [
      "Could not resolve host: github.com while requesting https://github.com/gridap/GridapMakie.jl/raw/d5d74190e68bd310483fead8a4154235a61815c5/_readme/model.json",
      "",
      "Stacktrace:",
      "  [1] (::Downloads.var\"#9#18\"{IOStream, Base.DevNull, Nothing, Vector{Pair{String, String}}, Float64, Nothing, Bool, Nothing, Bool, String, Bool, Bool})(easy::Downloads.Curl.Easy)",
      "    @ Downloads /Applications/Julia-1.8.1.app/Contents/Resources/julia/share/julia/stdlib/v1.8/Downloads/src/Downloads.jl:387",
      "  [2] with_handle(f::Downloads.var\"#9#18\"{IOStream, Base.DevNull, Nothing, Vector{Pair{String, String}}, Float64, Nothing, Bool, Nothing, Bool, String, Bool, Bool}, handle::Downloads.Curl.Easy)",
      "    @ Downloads.Curl /Applications/Julia-1.8.1.app/Contents/Resources/julia/share/julia/stdlib/v1.8/Downloads/src/Curl/Curl.jl:88",
      "  [3] #8",
      "    @ /Applications/Julia-1.8.1.app/Contents/Resources/julia/share/julia/stdlib/v1.8/Downloads/src/Downloads.jl:328 [inlined]",
      "  [4] arg_write(f::Downloads.var\"#8#17\"{Base.DevNull, Nothing, Vector{Pair{String, String}}, Float64, Nothing, Bool, Nothing, Bool, String, Bool, Bool}, arg::IOStream)",
      "    @ ArgTools /Applications/Julia-1.8.1.app/Contents/Resources/julia/share/julia/stdlib/v1.8/ArgTools/src/ArgTools.jl:134",
      "  [5] #7",
      "    @ /Applications/Julia-1.8.1.app/Contents/Resources/julia/share/julia/stdlib/v1.8/Downloads/src/Downloads.jl:327 [inlined]",
      "  [6] arg_read",
      "    @ /Applications/Julia-1.8.1.app/Contents/Resources/julia/share/julia/stdlib/v1.8/ArgTools/src/ArgTools.jl:76 [inlined]",
      "  [7] request(url::String; input::Nothing, output::IOStream, method::Nothing, headers::Vector{Pair{String, String}}, timeout::Float64, progress::Nothing, verbose::Bool, debug::Nothing, throw::Bool, downloader::Nothing)",
      "    @ Downloads /Applications/Julia-1.8.1.app/Contents/Resources/julia/share/julia/stdlib/v1.8/Downloads/src/Downloads.jl:326",
      "  [8] #3",
      "    @ /Applications/Julia-1.8.1.app/Contents/Resources/julia/share/julia/stdlib/v1.8/Downloads/src/Downloads.jl:231 [inlined]",
      "  [9] open(f::Downloads.var\"#3#4\"{Nothing, Vector{Pair{String, String}}, Float64, Nothing, Bool, Nothing, Nothing, String}, args::String; kwargs::Base.Pairs{Symbol, Bool, Tuple{Symbol, Symbol}, NamedTuple{(:write, :lock), Tuple{Bool, Bool}}})",
      "    @ Base ./io.jl:384",
      " [10] #open_nolock#1",
      "    @ /Applications/Julia-1.8.1.app/Contents/Resources/julia/share/julia/stdlib/v1.8/ArgTools/src/ArgTools.jl:35 [inlined]",
      " [11] arg_write(f::Function, arg::String)",
      "    @ ArgTools /Applications/Julia-1.8.1.app/Contents/Resources/julia/share/julia/stdlib/v1.8/ArgTools/src/ArgTools.jl:103",
      " [12] #download#2",
      "    @ /Applications/Julia-1.8.1.app/Contents/Resources/julia/share/julia/stdlib/v1.8/Downloads/src/Downloads.jl:230 [inlined]",
      " [13] download(url::String, output::String)",
      "    @ Downloads /Applications/Julia-1.8.1.app/Contents/Resources/julia/share/julia/stdlib/v1.8/Downloads/src/Downloads.jl:219",
      " [14] #invokelatest#2",
      "    @ ./essentials.jl:729 [inlined]",
      " [15] invokelatest",
      "    @ ./essentials.jl:726 [inlined]",
      " [16] do_download(url::String, path::String)",
      "    @ Base ./download.jl:24",
      " [17] download(url::String, path::String)",
      "    @ Base ./download.jl:19",
      " [18] top-level scope",
      "    @ In[8]:2",
      " [19] eval",
      "    @ ./boot.jl:368 [inlined]",
      " [20] include_string(mapexpr::typeof(REPL.softscope), mod::Module, code::String, filename::String)",
      "    @ Base ./loading.jl:1428"
     ]
    }
   ],
   "source": [
    "url = \"https://github.com/gridap/GridapMakie.jl/raw/d5d74190e68bd310483fead8a4154235a61815c5/_readme/model.json\"\n",
    "download(url,\"models/model.json\")"
   ]
  },
  {
   "cell_type": "code",
   "execution_count": 9,
   "id": "d6c678a1-58ea-491d-84aa-68234a8c98a2",
   "metadata": {},
   "outputs": [
    {
     "ename": "LoadError",
     "evalue": "SystemError: opening file \"models/model.json\": No such file or directory",
     "output_type": "error",
     "traceback": [
      "SystemError: opening file \"models/model.json\": No such file or directory",
      "",
      "Stacktrace:",
      "  [1] systemerror(p::String, errno::Int32; extrainfo::Nothing)",
      "    @ Base ./error.jl:176",
      "  [2] #systemerror#80",
      "    @ ./error.jl:175 [inlined]",
      "  [3] systemerror",
      "    @ ./error.jl:175 [inlined]",
      "  [4] open(fname::String; lock::Bool, read::Nothing, write::Nothing, create::Nothing, truncate::Nothing, append::Nothing)",
      "    @ Base ./iostream.jl:293",
      "  [5] open",
      "    @ ./iostream.jl:275 [inlined]",
      "  [6] open(f::JSON.Parser.var\"#4#5\"{DataType, DataType, Nothing, Bool, Bool, Int64}, args::String; kwargs::Base.Pairs{Symbol, Union{}, Tuple{}, NamedTuple{(), Tuple{}}})",
      "    @ Base ./io.jl:382",
      "  [7] open(f::Function, args::String)",
      "    @ Base ./io.jl:381",
      "  [8] #parsefile#3",
      "    @ ~/.julia/packages/JSON/NeJ9k/src/Parser.jl:509 [inlined]",
      "  [9] from_json_file(#unused#::Type{DiscreteModel}, s::String)",
      "    @ Gridap.Io ~/.julia/packages/Gridap/TyUsh/src/Io/Json.jl:15",
      " [10] DiscreteModelFromFile",
      "    @ ~/.julia/packages/Gridap/TyUsh/src/Geometry/DiscreteModels.jl:422 [inlined]",
      " [11] DiscreteModelFromFile(filename::String)",
      "    @ Gridap.Geometry ~/.julia/packages/Gridap/TyUsh/src/Geometry/DiscreteModels.jl:414",
      " [12] top-level scope",
      "    @ In[9]:1",
      " [13] eval",
      "    @ ./boot.jl:368 [inlined]",
      " [14] include_string(mapexpr::typeof(REPL.softscope), mod::Module, code::String, filename::String)",
      "    @ Base ./loading.jl:1428"
     ]
    }
   ],
   "source": [
    "model = DiscreteModelFromFile(\"models/model.json\")\n",
    "Ω = Triangulation(model)\n",
    "∂Ω = BoundaryTriangulation(model)\n",
    "fig = plot(Ω, shading=true)\n",
    "wireframe!(∂Ω, color=:black)\n",
    "save(\"images/3d_Fig1.png\", fig)\n",
    "display(fig)"
   ]
  },
  {
   "cell_type": "code",
   "execution_count": 10,
   "id": "e3a93b3d-991d-4e52-8c30-99c71c5f3597",
   "metadata": {},
   "outputs": [
    {
     "ename": "LoadError",
     "evalue": "UndefVarError: plot not defined",
     "output_type": "error",
     "traceback": [
      "UndefVarError: plot not defined",
      "",
      "Stacktrace:",
      " [1] top-level scope",
      "   @ In[10]:2",
      " [2] eval",
      "   @ ./boot.jl:368 [inlined]",
      " [3] include_string(mapexpr::typeof(REPL.softscope), mod::Module, code::String, filename::String)",
      "   @ Base ./loading.jl:1428"
     ]
    }
   ],
   "source": [
    "v(x) = sin(π*(x[1]+x[2]+x[3]))\n",
    "fig, ax, plt = plot(Ω, v, shading=true)\n",
    "Colorbar(fig[1,2], plt)\n",
    "save(\"images/3d_Fig2.png\", fig)\n",
    "fig"
   ]
  },
  {
   "cell_type": "code",
   "execution_count": 11,
   "id": "fae54ed8-46f3-4fde-b61d-f5f9354fe96b",
   "metadata": {},
   "outputs": [
    {
     "ename": "LoadError",
     "evalue": "Unknown tag name square",
     "output_type": "error",
     "traceback": [
      "Unknown tag name square",
      "",
      "Stacktrace:",
      "  [1] error(s::String)",
      "    @ Base ./error.jl:35",
      "  [2] macro expansion",
      "    @ ~/.julia/packages/Gridap/TyUsh/src/Helpers/Macros.jl:47 [inlined]",
      "  [3] get_tag_from_name",
      "    @ ~/.julia/packages/Gridap/TyUsh/src/Geometry/FaceLabelings.jl:190 [inlined]",
      "  [4] #76",
      "    @ ~/.julia/packages/Gridap/TyUsh/src/Geometry/FaceLabelings.jl:198 [inlined]",
      "  [5] iterate",
      "    @ ./generator.jl:47 [inlined]",
      "  [6] _collect(c::Vector{String}, itr::Base.Generator{Vector{String}, Gridap.Geometry.var\"#76#77\"{Gridap.Geometry.FaceLabeling}}, #unused#::Base.EltypeUnknown, isz::Base.HasShape{1})",
      "    @ Base ./array.jl:807",
      "  [7] collect_similar",
      "    @ ./array.jl:716 [inlined]",
      "  [8] map",
      "    @ ./abstractarray.jl:2933 [inlined]",
      "  [9] get_tags_from_names",
      "    @ ~/.julia/packages/Gridap/TyUsh/src/Geometry/FaceLabelings.jl:199 [inlined]",
      " [10] _prepare_tags",
      "    @ ~/.julia/packages/Gridap/TyUsh/src/Geometry/FaceLabelings.jl:343 [inlined]",
      " [11] get_face_mask(labeling::Gridap.Geometry.FaceLabeling, tags::Vector{String}, d::Int64)",
      "    @ Gridap.Geometry ~/.julia/packages/Gridap/TyUsh/src/Geometry/FaceLabelings.jl:262",
      " [12] #BoundaryTriangulation#152",
      "    @ ~/.julia/packages/Gridap/TyUsh/src/Geometry/BoundaryTriangulations.jl:161 [inlined]",
      " [13] #BoundaryTriangulation#153",
      "    @ ~/.julia/packages/Gridap/TyUsh/src/Geometry/BoundaryTriangulations.jl:174 [inlined]",
      " [14] top-level scope",
      "    @ In[11]:1",
      " [15] eval",
      "    @ ./boot.jl:368 [inlined]",
      " [16] include_string(mapexpr::typeof(REPL.softscope), mod::Module, code::String, filename::String)",
      "    @ Base ./loading.jl:1428"
     ]
    }
   ],
   "source": [
    "Γ = BoundaryTriangulation(model, tags=[\"square\", \"triangle\", \"circle\"])\n",
    "fig = plot(Γ, v, colormap=:rainbow, shading=true)\n",
    "wireframe!(∂Ω, linewidth=0.5, color=:gray)\n",
    "save(\"images/3d_Fig3.png\", fig)\n",
    "fig"
   ]
  },
  {
   "cell_type": "code",
   "execution_count": 12,
   "id": "2d59a116-445f-477f-8803-b06683d3cab9",
   "metadata": {},
   "outputs": [
    {
     "ename": "LoadError",
     "evalue": "UndefVarError: Observable not defined",
     "output_type": "error",
     "traceback": [
      "UndefVarError: Observable not defined",
      "",
      "Stacktrace:",
      " [1] top-level scope",
      "   @ In[12]:1",
      " [2] eval",
      "   @ ./boot.jl:368 [inlined]",
      " [3] include_string(mapexpr::typeof(REPL.softscope), mod::Module, code::String, filename::String)",
      "   @ Base ./loading.jl:1428"
     ]
    }
   ],
   "source": [
    "t = Observable(0.0)\n",
    "u = lift(t) do t\n",
    "    x->sin(π*(x[1]+x[2]+x[3]))*cos(π*t)\n",
    "end\n",
    "fig = plot(Ω, u, colormap=:rainbow, shading=true, colorrange=(-1,1))\n",
    "wireframe!(∂Ω, color=:black, linewidth=0.5)\n",
    "framerate = 30\n",
    "timestamps = range(0, 2, step=1/framerate)\n",
    "record(fig, \"images/animation.gif\", timestamps; framerate=framerate) do this_t\n",
    "    t[] = this_t\n",
    "end\n",
    "display(fig)"
   ]
  },
  {
   "cell_type": "code",
   "execution_count": null,
   "id": "18a9b81e-3afb-4db8-b554-f8eeae67a48f",
   "metadata": {},
   "outputs": [],
   "source": []
  }
 ],
 "metadata": {
  "kernelspec": {
   "display_name": "Julia 1.8.1",
   "language": "julia",
   "name": "julia-1.8"
  },
  "language_info": {
   "file_extension": ".jl",
   "mimetype": "application/julia",
   "name": "julia",
   "version": "1.8.1"
  }
 },
 "nbformat": 4,
 "nbformat_minor": 5
}
