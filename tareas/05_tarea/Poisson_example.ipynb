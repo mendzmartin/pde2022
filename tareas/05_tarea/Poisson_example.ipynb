{
 "cells": [
  {
   "cell_type": "markdown",
   "id": "5b5e1010-8b32-4758-a472-91effeba98b5",
   "metadata": {},
   "source": [
    "## Ejemplo de resolución del problema de Poisson con distintas condiciones de contorno ##\n"
   ]
  },
  {
   "cell_type": "markdown",
   "id": "8fccee28-a006-4c3f-b8f7-a85e95074b4e",
   "metadata": {},
   "source": [
    "El problema a resolver es:\n",
    "\n",
    "\n",
    "\\begin{align}\n",
    "-\\Delta u &= f \\;\\;\\;\\;\\; \\text{in } \\Omega \\\\\n",
    "u &= g \\;\\;\\;\\;\\; \\text{in } \\partial \\Omega_{int} \\\\\n",
    "\\hat{n} \\cdot \\nabla u &= h \\;\\;\\;\\;\\; \\text{in } \\partial \\Omega_{ext} \\\\\n",
    "\\end{align}\n",
    "\n",
    "Para ello impondremos la versión débil del mismo:\n",
    "\n",
    "Encuentre $u$ en $H^1(\\Omega, f))$ (o sea con las condiciones de contorno de Dirichlet en $\\partial \\Omega_{int}$) tal que,\n",
    "\n",
    "$$\n",
    "\\int_{\\Omega} \\nabla v \\cdot \\nabla u \\; d\\Omega \n",
    "- \\int_{\\Omega} v \\; f \\; d\\Omega \n",
    "- \\oint_{\\partial \\Omega_{ext}} v \\; h \\; d\\Gamma \n",
    "= 0 \\;\\;\\;\\;\\; \\forall v \\;\\; \\in H^1_0(\\Omega)\n",
    "$$\n",
    "\n",
    "Si obtenemos un $u$ satisfaciendo esta ecuación, y es suficientemente suave, entonces podemos integrar por partes el primer término y obtener:\n",
    "\n",
    "$$\n",
    "\\int_{\\Omega}  v \\; (-\\Delta u - f) \\; d\\Omega \n",
    "+ \\oint_{\\partial \\Omega_{ext}} v \\; (\\hat{n} \\cdot \\nabla u - h) \\; d\\Gamma \n",
    "= 0 \\;\\;\\;\\;\\; \\forall v \\;\\; \\in H^1_0(\\Omega)\n",
    "$$\n",
    "\n",
    "Tomando $v$ arbitrario pero de soporte compacto vemos que $u$ debe satisfacer:\n",
    "\n",
    "$$\n",
    "-\\Delta u = f \\;\\;\\;\\;\\; \\text{in } \\Omega,\n",
    "$$\n",
    "y tomando $v$ arbitrario vemos que también se debe cumplir la condición de Neumann,\n",
    "\n",
    "$$\n",
    "\\hat{n} \\cdot \\nabla u = h \\;\\;\\;\\;\\; \\text{in } \\partial \\Omega_{ext}.\n",
    "$$\n",
    "\n",
    "La condición de Dirichlet es automática por la elección del espacio.\n",
    "\n",
    "\n"
   ]
  },
  {
   "cell_type": "markdown",
   "id": "6b0514f0-e0f9-47c4-bbb1-12e1a26ee8d3",
   "metadata": {},
   "source": [
    "Para resolver el problema utilizaremos la infraestructura del paquete `Gridap.jl` de Julia. Este ejemplo es una recopilación de varios ejemplos en el tutorial del paquete. "
   ]
  },
  {
   "cell_type": "code",
   "execution_count": 2,
   "id": "57ac00c7-7999-4cf5-a548-a0f159c252b2",
   "metadata": {},
   "outputs": [
    {
     "name": "stderr",
     "output_type": "stream",
     "text": [
      "\u001b[32m\u001b[1m  Activating\u001b[22m\u001b[39m project at `~/github_repositories/my_repositories/pde2022/tareas/05_tarea/gridap_makie`\n"
     ]
    }
   ],
   "source": [
    "import Pkg; Pkg.activate(\"gridap_makie\")\n",
    "using Gridap\n",
    "using GridapGmsh\n",
    "#mkdir(\"models\")\n",
    "#mkdir(\"images\")"
   ]
  },
  {
   "cell_type": "code",
   "execution_count": 2,
   "id": "0dede969-2655-4ce3-90a6-642c4208b3cb",
   "metadata": {},
   "outputs": [],
   "source": [
    "plot_s = false\n",
    "if plot_s\n",
    "    using GridapMakie, GLMakie #Para graficar \n",
    "    using FileIO #Gráficos y salidas\n",
    "end"
   ]
  },
  {
   "cell_type": "markdown",
   "id": "31349a95-c1ac-41c7-b7d2-8e68c53e5661",
   "metadata": {},
   "source": [
    "Vamos a usar una grilla previamente construida con la librería `gmsh`. En el directorio `models` encontrarán un *script* con terminación `.geo` (rectangle_hole.geo) que es el que se usó para construir el ejemplo. En base al mismo, y siguiendo el tutorial de `gmsh` podrán construir distintas grillas. También se pueden usar otras librerías para construir grillas. Estas se importan a la infraestructura **Gridap** y con ellas se construye la triangulación a usar. Notar que en el sript se dan nombres a las dos fronteras, la externa (rectangular), `\"ext\"` y le interna (círculo), `\"int\"`"
   ]
  },
  {
   "cell_type": "code",
   "execution_count": 3,
   "id": "082f8fe7-219d-4997-a98d-5e38a999b1da",
   "metadata": {},
   "outputs": [
    {
     "name": "stdout",
     "output_type": "stream",
     "text": [
      "Info    : Reading 'models/rectangle_hole_finer.msh'...\n",
      "Info    : 18 entities\n",
      "Info    : 79392 nodes\n",
      "Info    : 158784 elements\n",
      "Info    : [ 10%] Reading elements                                          \rInfo    : [ 20%] Reading elements                                          \rInfo    : [ 30%] Reading elements                                          \rInfo    : [ 40%] Reading elements                                          \rInfo    : [ 50%] Reading elements                                          \rInfo    : [ 50%] Reading elements                                          \rInfo    : [ 60%] Reading elements                                          \rInfo    : [ 70%] Reading elements                                          \rInfo    : [ 80%] Reading elements                                          \rInfo    : [ 90%] Reading elements                                          \rInfo    : [100%] Reading elements                                          \r                                          \rInfo    : Done reading 'models/rectangle_hole_finer.msh'\n"
     ]
    },
    {
     "data": {
      "text/plain": [
       "UnstructuredDiscreteModel()"
      ]
     },
     "metadata": {},
     "output_type": "display_data"
    }
   ],
   "source": [
    "#model = GmshDiscreteModel(\"models/rectangle_hole_fine.msh\")\n",
    "#model = GmshDiscreteModel(\"models/rectangle_hole_coarse.msh\")\n",
    "model = GmshDiscreteModel(\"models/rectangle_hole_finer.msh\")\n"
   ]
  },
  {
   "cell_type": "code",
   "execution_count": 4,
   "id": "f70b8133-2acc-4657-9aba-8beefb4aa966",
   "metadata": {},
   "outputs": [
    {
     "data": {
      "text/plain": [
       "BodyFittedTriangulation()"
      ]
     },
     "metadata": {},
     "output_type": "display_data"
    }
   ],
   "source": [
    "Ω = Triangulation(model)"
   ]
  },
  {
   "cell_type": "code",
   "execution_count": 5,
   "id": "e8d94615-e070-4997-a055-57b9d22c92af",
   "metadata": {},
   "outputs": [
    {
     "data": {
      "text/plain": [
       "Measure()"
      ]
     },
     "metadata": {},
     "output_type": "display_data"
    }
   ],
   "source": [
    "degree = 2\n",
    "dΩ = Measure(Ω,degree)"
   ]
  },
  {
   "cell_type": "code",
   "execution_count": 6,
   "id": "ddbb784a-96d8-441c-8cc3-8abe093b1d8f",
   "metadata": {},
   "outputs": [],
   "source": [
    "if plot_s\n",
    "    fig, ax = plot(Ω)\n",
    "    ax.aspect = AxisAspect(2)\n",
    "    wireframe!(Ω, color=:black, linewidth=1)\n",
    "    scatter!(Ω, marker=:star8, markersize=4, color=:blue)\n",
    "    fig\n",
    "end"
   ]
  },
  {
   "cell_type": "markdown",
   "id": "726ab803",
   "metadata": {},
   "source": [
    "### seleccionamos la condición de contorno a cumplir"
   ]
  },
  {
   "cell_type": "code",
   "execution_count": 6,
   "id": "911b7de3-f83e-4485-a18a-7cbd9096e73f",
   "metadata": {},
   "outputs": [
    {
     "data": {
      "text/plain": [
       "false"
      ]
     },
     "metadata": {},
     "output_type": "display_data"
    }
   ],
   "source": [
    "full_dirichlet  = true\n",
    "int_dirichlet   = false"
   ]
  },
  {
   "cell_type": "markdown",
   "id": "b6c4caaa-e9d2-4ec8-87ca-48d2f32cf1d5",
   "metadata": {},
   "source": [
    "Una vez que tenemos el grillado comenzamos a definir los elementos finitos que utilizaremos. En este caso usaremos elementos lagrangiano de **orden 1** que cumplirán una condición de Dirichlet en la región $\\partial \\Omega_{int}$. Al construirse la grilla esta región ha sido marcada como la frontera interior del rectángulo con el `tag` `\"int\"`. "
   ]
  },
  {
   "cell_type": "code",
   "execution_count": 7,
   "id": "5457f52c-9d07-4737-a299-94f83b35f0ac",
   "metadata": {},
   "outputs": [
    {
     "data": {
      "text/plain": [
       "UnconstrainedFESpace()"
      ]
     },
     "metadata": {},
     "output_type": "display_data"
    }
   ],
   "source": [
    "order = 2\n",
    "reffe = ReferenceFE(lagrangian,Float64,order)\n",
    "if int_dirichlet\n",
    "    dirichlet_tags=\"int\" \n",
    "elseif full_dirichlet\n",
    "    dirichlet_tags=[\"int\",\"ext\"]\n",
    "end\n",
    "V = TestFESpace(model,reffe;conformity=:H1,dirichlet_tags = dirichlet_tags)"
   ]
  },
  {
   "cell_type": "markdown",
   "id": "0f3f8545-ccec-48be-a048-5b532426b3a7",
   "metadata": {},
   "source": [
    "En este ejemplo vamos a testear nuestro código utilizando una *solution*\n",
    "que tomaremos como la función $u_e(x,y) =  4((x-x_0)^2 - (y-y_0)^3) - 5y$.\n",
    "\n",
    "Así $\\Delta u_e = -f = 8 - 24(y-y_0)$ y la condición de Neumann estará dada por $h = \\hat{n} \\cdot \\nabla u_e$."
   ]
  },
  {
   "cell_type": "markdown",
   "id": "417be066",
   "metadata": {},
   "source": [
    "Sacamos ideas de solución exácta y fuente de la pagina oficial de Gridap [https://gridap.github.io/Tutorials/dev/pages/t002_validation/#Tutorial-2:-Code-validation-1](https://gridap.github.io/Tutorials/dev/pages/t002_validation/#Tutorial-2:-Code-validation-1)"
   ]
  },
  {
   "cell_type": "code",
   "execution_count": 23,
   "id": "104f13ec",
   "metadata": {},
   "outputs": [
    {
     "data": {
      "text/plain": [
       "solution_and_source_02 (generic function with 1 method)"
      ]
     },
     "metadata": {},
     "output_type": "display_data"
    }
   ],
   "source": [
    "function solution_and_source_01(param)\n",
    "    x₀,y₀=param;\n",
    "    ue(x) = 4*((x[1]-x₀)^2 - (x[2]-y₀)^3) - 5.0*x[2] # \"exact solution\"\n",
    "    f(x) = -8.0 + 24*(x[2] - y₀)                     # source\n",
    "    return ue,f\n",
    "end\n",
    "\n",
    "function solution_and_source_02()\n",
    "    ue(x) = x[1]+x[2] # \"exact solution\"\n",
    "    f(x) = 0.0   # source\n",
    "    return ue,f\n",
    "end"
   ]
  },
  {
   "cell_type": "code",
   "execution_count": 9,
   "id": "af8ba46e-3095-487b-9357-1c99b3c4ad1e",
   "metadata": {},
   "outputs": [],
   "source": [
    "if plot_s\n",
    "    fig, ax, plt = plot(Ω, ue, shading=false)\n",
    "    ax.aspect = AxisAspect(2)\n",
    "    Colorbar(fig[1,2], plt)\n",
    "    fig\n",
    "end"
   ]
  },
  {
   "cell_type": "code",
   "execution_count": 24,
   "id": "97889c3d",
   "metadata": {},
   "outputs": [
    {
     "data": {
      "text/plain": [
       "GenericCellField():\n",
       " num_cells: 1472\n",
       " DomainStyle: ReferenceDomain()\n",
       " Triangulation: BoundaryTriangulation()\n",
       " Triangulation id: 15565181124651048714"
      ]
     },
     "metadata": {},
     "output_type": "display_data"
    }
   ],
   "source": [
    "ue,f=solution_and_source_02()\n",
    "# internal Dirichlet boundary condition\n",
    "U = TrialFESpace(V,ue)\n",
    "Γ₁ = BoundaryTriangulation(model,tags=dirichlet_tags)\n",
    "n₁ = get_normal_vector(Γ₁)"
   ]
  },
  {
   "cell_type": "code",
   "execution_count": 25,
   "id": "d3022a96-59c5-401a-8eb5-4f5c6c66b0fb",
   "metadata": {},
   "outputs": [],
   "source": [
    "if int_dirichlet\n",
    "    neumann_tags = \"ext\"\n",
    "    #neumanntags = \"int\"\n",
    "    Γ = BoundaryTriangulation(model,tags=neumann_tags)\n",
    "    dΓ = Measure(Γ,degree)\n",
    "    nb = get_normal_vector(Γ)\n",
    "end"
   ]
  },
  {
   "cell_type": "markdown",
   "id": "a96e7207-9afe-4356-a00d-d26bc44ca3b0",
   "metadata": {},
   "source": [
    "Para chequeo graficamos los valores de $\\hat{n}\\cdot \\nabla u_e$ en el borde exterior."
   ]
  },
  {
   "cell_type": "code",
   "execution_count": 12,
   "id": "c7edeac8-b578-404d-981f-89bb56fefeb0",
   "metadata": {},
   "outputs": [],
   "source": [
    "if int_dirichlet && plot_s\n",
    "    fig, ax , plt = plot(Γ, (nb ⋅ ∇(ue)), colormap=:algae, linewidth=10)\n",
    "    ax.aspect = AxisAspect(2)\n",
    "    Colorbar(fig[1,2], plt)\n",
    "    fig\n",
    "end"
   ]
  },
  {
   "cell_type": "markdown",
   "id": "b84442dc-7365-465c-908b-77a91fcc5a5e",
   "metadata": {},
   "source": [
    "A continuación definimos el problema débil en forma abstracta:"
   ]
  },
  {
   "cell_type": "code",
   "execution_count": 26,
   "id": "fb2b5f0e-c0b0-4434-8760-dda7aae5d4be",
   "metadata": {},
   "outputs": [
    {
     "data": {
      "text/plain": [
       "b (generic function with 1 method)"
      ]
     },
     "metadata": {},
     "output_type": "display_data"
    }
   ],
   "source": [
    "#h(x) =  #external Neumann bc.\n",
    "a(u,v) = ∫( ∇(v)⋅∇(u) )*dΩ  # en a(u,v) va toda la dependencia con u que es la incógnita. \n",
    "if full_dirichlet\n",
    "    b(v) = ∫(v*f )*dΩ # aquí todo lo que es fuente. \n",
    "elseif int_dirichlet\n",
    "    b(v) = ∫(v*f )*dΩ + ∫(v*(nb ⋅ ∇(ue)))*dΓ # aquí todo lo que es fuente. \n",
    "end"
   ]
  },
  {
   "cell_type": "markdown",
   "id": "2c7a4008-e5fc-4622-bad3-b20c37d93bb3",
   "metadata": {},
   "source": [
    "A partir de este punto el paquete **Gridap.jl** genera un sistema del tipo $Ax=b$ y lo resuelve para la versión elementos finitos de u."
   ]
  },
  {
   "cell_type": "code",
   "execution_count": 27,
   "id": "456103ca-055e-4521-ba1c-0b680e87df9a",
   "metadata": {},
   "outputs": [
    {
     "data": {
      "text/plain": [
       "AffineFEOperator()"
      ]
     },
     "metadata": {},
     "output_type": "display_data"
    }
   ],
   "source": [
    "op = AffineFEOperator(a,b,U,V)\n"
   ]
  },
  {
   "cell_type": "code",
   "execution_count": 28,
   "id": "e53c8386-a9ab-47b8-b81a-10010ceb53f4",
   "metadata": {},
   "outputs": [
    {
     "data": {
      "text/plain": [
       "LinearFESolver()"
      ]
     },
     "metadata": {},
     "output_type": "display_data"
    }
   ],
   "source": [
    "ls = LUSolver()\n",
    "solver = LinearFESolver(ls)"
   ]
  },
  {
   "cell_type": "code",
   "execution_count": 29,
   "id": "04ceff32-1787-47a0-94d4-929e44784b66",
   "metadata": {},
   "outputs": [
    {
     "data": {
      "text/plain": [
       "SingleFieldFEFunction():\n",
       " num_cells: 157312\n",
       " DomainStyle: ReferenceDomain()\n",
       " Triangulation: BodyFittedTriangulation()\n",
       " Triangulation id: 12931436991585569690"
      ]
     },
     "metadata": {},
     "output_type": "display_data"
    }
   ],
   "source": [
    "uh = solve(solver,op)\n"
   ]
  },
  {
   "cell_type": "code",
   "execution_count": 21,
   "id": "e87d34ce-5382-47b0-9da4-ec68f3312085",
   "metadata": {},
   "outputs": [],
   "source": [
    "if plot_s\n",
    "    fig, ax, plt = plot(Ω, uh, shading=false)\n",
    "    ax.aspect = AxisAspect(2)\n",
    "    Colorbar(fig[1,2], plt)\n",
    "    fig\n",
    "end"
   ]
  },
  {
   "cell_type": "code",
   "execution_count": 30,
   "id": "68e1a84c-73cd-41f2-95a5-839671f02382",
   "metadata": {},
   "outputs": [
    {
     "data": {
      "text/plain": [
       "([\"images/solución_dir.vtu\"],)"
      ]
     },
     "metadata": {},
     "output_type": "display_data"
    }
   ],
   "source": [
    "if full_dirichlet\n",
    "    writevtk(Ω,\"images/solución_dir\",cellfields=[\"uh_dir\" => uh])\n",
    "elseif int_dirichlet\n",
    "    writevtk(Ω,\"images/solución_newmann\",cellfields=[\"uh_neu\" => uh])\n",
    "end"
   ]
  },
  {
   "cell_type": "markdown",
   "id": "a2c8b5c4-4a71-4aee-be76-3212bdf4046f",
   "metadata": {},
   "source": [
    "Ahora vamos a validar la solución encontrada comparándola con la exacta, para ello introduciremos varias herramientas."
   ]
  },
  {
   "cell_type": "code",
   "execution_count": 31,
   "id": "255259f0-daf2-4bbf-bf98-e2a98747c294",
   "metadata": {},
   "outputs": [
    {
     "data": {
      "text/plain": [
       "OperationCellField():\n",
       " num_cells: 157312\n",
       " DomainStyle: ReferenceDomain()\n",
       " Triangulation: BodyFittedTriangulation()\n",
       " Triangulation id: 12931436991585569690"
      ]
     },
     "metadata": {},
     "output_type": "display_data"
    }
   ],
   "source": [
    "e = ue - uh"
   ]
  },
  {
   "cell_type": "code",
   "execution_count": 24,
   "id": "36bccd03-a6b4-4de8-8028-4dc9eb4bb981",
   "metadata": {},
   "outputs": [],
   "source": [
    "if plot_s\n",
    "    fig, ax, plt = plot(Ω, e\n",
    "        , shading=false\n",
    "        )\n",
    "    ax.aspect = AxisAspect(2)\n",
    "    Colorbar(fig[1,2], plt)\n",
    "    fig\n",
    "end"
   ]
  },
  {
   "cell_type": "code",
   "execution_count": 32,
   "id": "0f097aa8-0142-4be5-956d-7ff841fbbec0",
   "metadata": {},
   "outputs": [
    {
     "data": {
      "text/plain": [
       "([\"images/error_dir.vtu\"],)"
      ]
     },
     "metadata": {},
     "output_type": "display_data"
    }
   ],
   "source": [
    "if full_dirichlet\n",
    "    writevtk(Ω,\"images/error_dir\",cellfields=[\"e_dir\" => e])\n",
    "elseif int_dirichlet\n",
    "    writevtk(Ω,\"images/error_newmann\",cellfields=[\"e_neu\" => e])\n",
    "end"
   ]
  },
  {
   "cell_type": "markdown",
   "id": "0833dd5e-91f9-4f29-b4bc-0244daad62cb",
   "metadata": {},
   "source": [
    "A continuación calculamos la norma $L^2$ y $H^1$ del error. "
   ]
  },
  {
   "cell_type": "code",
   "execution_count": 33,
   "id": "719a1d23-5e6e-4dda-ab81-15ebedf155a3",
   "metadata": {},
   "outputs": [
    {
     "name": "stdout",
     "output_type": "stream",
     "text": [
      "l2 error = 3.8029978946909316e-6\n",
      "h1 error = "
     ]
    },
    {
     "name": "stdout",
     "output_type": "stream",
     "text": [
      "0.001271578985145854\n"
     ]
    }
   ],
   "source": [
    "el2 = sqrt(sum( ∫( e*e )*dΩ ))\n",
    "println(\"l2 error = \",el2)\n",
    "eh1 = sqrt(sum( ∫( e*e + ∇(e)⋅∇(e) )*dΩ ))\n",
    "uh1 = sqrt(sum( ∫( uh*uh + ∇(uh)⋅∇(uh) )*dΩ ))\n",
    "println(\"h1 error = \",eh1/uh1)"
   ]
  },
  {
   "cell_type": "code",
   "execution_count": 27,
   "id": "92412877-cf74-4dd9-9296-4c34cac7b613",
   "metadata": {},
   "outputs": [],
   "source": [
    "if plot_s\n",
    "    fig, ax, plt = plot(Ω, ∇(e)⋅∇(e), shading=false)\n",
    "    ax.aspect = AxisAspect(2)\n",
    "    Colorbar(fig[1,2], plt)\n",
    "    fig\n",
    "end"
   ]
  },
  {
   "cell_type": "markdown",
   "id": "6f371665",
   "metadata": {},
   "source": [
    "# Mesh y Pseudocolor\n",
    "![Una imagen con visIt](images/solucion_dir_mesh0000.jpeg)\n",
    "![Una imagen con visIt](images/solucion_dir_pseudocolor0000.jpeg)"
   ]
  },
  {
   "cell_type": "markdown",
   "id": "530eb7e1",
   "metadata": {},
   "source": [
    "# Eror (pseudocolor)\n",
    "![Una imagen con visIt](images/error_dir_pseudocolor0000.jpeg)"
   ]
  },
  {
   "cell_type": "markdown",
   "id": "3d800de6",
   "metadata": {},
   "source": []
  }
 ],
 "metadata": {
  "kernelspec": {
   "display_name": "Julia 1.8.0",
   "language": "julia",
   "name": "julia-1.8"
  },
  "language_info": {
   "file_extension": ".jl",
   "mimetype": "application/julia",
   "name": "julia",
   "version": "1.8.0"
  }
 },
 "nbformat": 4,
 "nbformat_minor": 5
}
