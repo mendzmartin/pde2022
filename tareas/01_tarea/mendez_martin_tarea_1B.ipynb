{
 "cells": [
  {
   "cell_type": "markdown",
   "id": "92e72286-223f-451f-a312-9a31bd4751ef",
   "metadata": {},
   "source": [
    "# Tarea 1B\n",
    "***Autores:** Pablo Montes, Joaquín Pelle y Oscar Reula*\n",
    "### Importante 1: ###\n",
    "Este notebook está diseñado para ejecutar en Julia.\n",
    "\n",
    "### Importante 2: ###\n",
    "Renombre el archivo como (según corresponda): \n",
    "**apellido_nombre_tarea_1.ipynb** o **grupo_tarea_1.ipynb**\n",
    "\n",
    "**Todo el código generado y la presentación deberá estar incluida en este notebook.**\n",
    "\n",
    "**Antes de entregar, serciorese que todas las variables estén bien definidas, para ello interrumpa el kernel y corra todo desde cero.**\n",
    "\n",
    "**El objetivo de las primeras tareas (A y B) es variado:**\n",
    "\n",
    "1. Construir algunos integradores simples y aplicarlos a problemas en 1 y 2 dimensiones.\n",
    "2. Estudiar convergencia y determinar el factor Q del método.\n",
    "3. Estudia la región de convergencia de los métodos.\n",
    "4. Comprobar cualitativa y cuantitativamente los errores de la aproximación.\n",
    "5. Familiarizarse con las librerías de integradores de ODEs.\n",
    "6. Familiarizarse con el manejo y estudio de soluciones para casos de complejidad media.\n",
    "7. Estudiar el caso stiff y los métodos IMEX."
   ]
  },
  {
   "cell_type": "markdown",
   "id": "efa50868-e6be-4ce3-aec6-3918b198681b",
   "metadata": {},
   "source": [
    "### Nota importante\n",
    "A partir de ahora utilizaremos el paquete `DifferentialEquations`, que tiene ya implementados los integradores de Euler, Runge-Kutta, y otros. Haga todos los ejercicios utilizando este paquete."
   ]
  },
  {
   "cell_type": "code",
   "execution_count": 1,
   "id": "9cfe9682",
   "metadata": {},
   "outputs": [
    {
     "name": "stderr",
     "output_type": "stream",
     "text": [
      "\u001b[32m\u001b[1m    Updating\u001b[22m\u001b[39m registry at `~/.julia/registries/General.toml`\n"
     ]
    },
    {
     "name": "stderr",
     "output_type": "stream",
     "text": [
      "\u001b[32m\u001b[1m   Resolving\u001b[22m\u001b[39m package versions...\n"
     ]
    },
    {
     "name": "stderr",
     "output_type": "stream",
     "text": [
      "\u001b[32m\u001b[1m  No Changes\u001b[22m\u001b[39m to `~/.julia/environments/v1.8/Project.toml`\n",
      "\u001b[32m\u001b[1m  No Changes\u001b[22m\u001b[39m to `~/.julia/environments/v1.8/Manifest.toml`\n"
     ]
    }
   ],
   "source": [
    "import Pkg; Pkg.add(\"DifferentialEquations\")"
   ]
  },
  {
   "cell_type": "code",
   "execution_count": null,
   "id": "ae801e80-3f19-4d9e-b5eb-ad99e0e243f1",
   "metadata": {},
   "outputs": [],
   "source": [
    "# Librerías utilizadas\n",
    "using DifferentialEquations\n",
    "using Plots\n",
    "using LinearAlgebra\n",
    "using LaTeXStrings"
   ]
  },
  {
   "cell_type": "markdown",
   "id": "d6ea976c-9ca7-4863-8360-f6468aa781dc",
   "metadata": {},
   "source": [
    "## Problema 1\n",
    "En el directorio `Dipolo_mag_3d` encontrará un notebook de Julia que realiza una integración de una partícula cargada en presencia de un dipolo magnético. Este notebook utiliza `DifferentialEquations` para resolver dicho problema. Juegue con las soluciones y la librería, y trate de entender cómo funciona. Ejecute distintas condiciones initiales, cambie las tolerancias, cambie los métodos, etc. La idea es únicamente que se familiarize con el paquete, no hace falta que presente nada respecto a este ejercicio.\n",
    "\n",
    "\n",
    "*Nota: si quiere probar otros métodos además de Euler y Runge Kutta, puede consultar los métodos disponibles en el paquete en \n",
    "https://diffeq.sciml.ai/stable/solvers/ode_solve/*\n",
    "\n",
    "*Puede consultar también https://diffeq.sciml.ai/stable/tutorials/ode_example/ para un pequeño tutorial del paquete.*"
   ]
  },
  {
   "cell_type": "code",
   "execution_count": null,
   "id": "67925cd3-913c-4665-b5f4-b926850b85b3",
   "metadata": {},
   "outputs": [],
   "source": [
    "#=\n",
    "Revisamos y estudiamos el notebook \"Motion_in_magnetic_dipole_field_julia\" (dudas?)\n",
    "=#"
   ]
  },
  {
   "cell_type": "markdown",
   "id": "3ad9d538-c043-47dd-a6e2-5f54ced5b35a",
   "metadata": {},
   "source": [
    "## Problema 2\n",
    "**Estabilidad numérica**\n",
    "\n",
    "***2a)***\n",
    "Volvamos nuevamente la ecuación del notebook anterior\n",
    "\n",
    "$$\n",
    "\\frac{dy}{dt} = \\lambda y\n",
    "$$\n",
    "\n",
    "Resuelva la ecuación con $\\lambda = -1$ en el intervalo temporal $[0,20]$, con $N = 100, 50, 30, 20, 10, 5$ (es decir, para $\\Delta t$ creciente). Experimente nuevamente con Euler y Runge-Kutta y grafique. ¿Qué observa?\n",
    "\n",
    "*Nota: utilice en la función `solve` los argumentos opcionales `saveat = dt` y `adaptive = false`.\n",
    "Ejemplo:*\n",
    "```julia\n",
    "sol = solve(prob, RK4(), dt = dt, saveat = dt, adaptive = false)\n",
    "```\n",
    "*Puede averiguar más sobre estas opciones en https://diffeq.sciml.ai/stable/basics/common_solver_opts/ o preguntar en clases o en el aula virtual.*"
   ]
  },
  {
   "cell_type": "code",
   "execution_count": null,
   "id": "6c50ad39-c1a8-4237-b581-840bc63f4f50",
   "metadata": {},
   "outputs": [],
   "source": [
    "λ=-1.\n",
    "f(y,λ,t) = λ*y                                         # definimos función (término derecho de la ODE)\n",
    "y0 = 1.                                                # condición inicial\n",
    "tspan = (0.,20.)                                       # intervalo de solución (tupla)\n",
    "N=100;dt=(tspan[2]-tspan[1])/(N-1.)                    # definimos time step\n",
    "prob = ODEProblem(f,y0,tspan,λ)                        # definimos el problema\n",
    "\n",
    "sol_Euler = solve(prob,Euler(),dt=dt,saveat=dt,adaptive=false)   # resolvemos la ODE con Euler method\n",
    "sol_RK2 = solve(prob,DP5(),dt=dt,saveat=dt,adaptive=false)       # resolvemos la ODE con RK4 method\n",
    "sol_RK4 = solve(prob,RK4(),dt=dt,saveat=dt,adaptive=false)       # resolvemos la ODE con RK4 method\n",
    "\n",
    "# ploteamos resultados\n",
    "plt = plot()\n",
    "plot!(plt,title=\"Solution to the linear ODE \\n with \\\"DifferentialEquations\\\" library\",xaxis=\"Time (t)\",yaxis=\"y(t)\")\n",
    "plot!(plt,sol_Euler.t,sol_Euler,lw=2,label=\"Euler\")\n",
    "scatter!(plt,sol_Euler.t,sol_Euler,lw=2,label=\"\")\n",
    "plot!(plt,sol_RK2.t,sol_RK2,lw=2,label=\"RK2\")\n",
    "scatter!(plt,sol_RK2.t,sol_RK2,lw=2,label=\"\")\n",
    "plot!(plt,sol_RK4.t,sol_RK4,lw=2,label=\"RK4\")\n",
    "scatter!(plt,sol_RK4.t,sol_RK4,lw=2,label=\"\")\n",
    "plot!(sol_Euler.t, t->y0*exp(λ*t),lw=3,ls=:dash,label=\"Exact\")"
   ]
  },
  {
   "cell_type": "markdown",
   "id": "331525ff-9e99-44e2-be58-1558763ff28e",
   "metadata": {},
   "source": [
    "***2b)*** Use el notebook *region_de_estabilidad* para investigar la región de convergencia de varios métodos de las librerías. Simplemente lea el notebook, entiéndalo, y corra los ejemplos, no hace falta que agregue nada. Pregunte en clase todas sus dudas."
   ]
  },
  {
   "cell_type": "code",
   "execution_count": null,
   "id": "3c2049a0",
   "metadata": {},
   "outputs": [],
   "source": [
    "#=\n",
    "Revisamos y estudiamos el notebook \"región de estabilidad\" (dudas?)\n",
    "=#"
   ]
  },
  {
   "cell_type": "markdown",
   "id": "c0d2087f-7f5b-4b29-b0c9-822e79bf1a96",
   "metadata": {},
   "source": [
    "## Problema 3\n",
    "Construya su propio código para su ecuación favorita (alguna que no sea muy complicada, en la página del paquete DifferentialEquations de Julia hay varios ejemplos, o puede usar el dipolo 2D (orbitas coplanares)). Evolucione con distintas tolerancias, con paso fijo (vea como se hace esto en cada caso, use métodos fijos o adaptativos). Grafique diferencias de soluciones con distinta resolución o tolerancia y/o con distintos datos iniciales muy próximos.\n",
    "Estudie convergencia, encuentre soluciones con distintos pasos (fijos), haga los cocientes y grafique el factor $Q$."
   ]
  },
  {
   "cell_type": "code",
   "execution_count": null,
   "id": "7920d541-625f-48da-ad4e-dd91ff88fd98",
   "metadata": {},
   "outputs": [],
   "source": [
    "#Función auxiliar para calcular el factor Q.\n",
    "#Simplemente calcule tres soluciones con distintos dt\n",
    "#Si sol_1 usa N+1 puntos, sol_2 debe usar 2N+1 y sol4 usar 4N+1.\n",
    "#No olvide utilizar `adaptive = false` y `saveat = dt` \n",
    "function Q(t,sol_1,sol_2,sol_4)\n",
    "    return norm(sol_1(t)[:] - sol_2(t)[1:2:end],2)/norm(sol_2(t)[1:2:end]-sol_4(t)[1:4:end],2)\n",
    "end"
   ]
  },
  {
   "cell_type": "code",
   "execution_count": null,
   "id": "dd2d3060-61be-4678-8233-44d69f205579",
   "metadata": {},
   "outputs": [],
   "source": [
    "#Ejemplo simple\n",
    "λ = -im\n",
    "T = (0.0,20.0)\n",
    "N = 51\n",
    "dt = (T[2]-T[1])/(N-1)\n",
    "function CrecimientoExponencial!(du, u, par, t)\n",
    "    λ = par\n",
    "    du .= λ*u\n",
    "end\n",
    "y0 = [1.0+ 1.0im]\n",
    "prob = ODEProblem(CrecimientoExponencial!,y0,T,λ);\n",
    "#t = T[1]:dt:T[2]\n",
    "\n",
    "sol_1 = solve(prob, RK4(), dt = dt  , saveat = dt,   adaptive = false);\n",
    "sol_2 = solve(prob, RK4(), dt = dt/2, saveat = dt/2, adaptive = false);\n",
    "sol_4 = solve(prob, RK4(), dt = dt/4, saveat = dt/4, adaptive = false);\n",
    "plot(sol_1.t,map(t -> Q(t,sol_1,sol_2,sol_4),sol_1.t), yaxis=(\"Q\",(0.,20)), label=\"Q\")"
   ]
  },
  {
   "cell_type": "markdown",
   "id": "2b48d216",
   "metadata": {},
   "source": [
    "### Péndulo Doble\n",
    "El péndulo doble consiste enun péndulo simple cuyo extremo pende un segundo péndulo. Para más información se pueden consultar los siguientes links:\n",
    "\n",
    "+ [Wiki page](https://upload.wikimedia.org/wikipedia/commons/7/78/Double-Pendulum.svg)\n",
    "+ [Double pendulum simulation](https://www.myphysicslab.com/pendulum/double-pendulum-en.html)\n",
    "\n",
    "las ecuaciones de movimiento para el méndulo doble se derivan en forma directa del Lagrangiano del sistema\n",
    "\n",
    "\\begin{equation}\n",
    "    \\mathscr{L}=\\frac{1}{2}(m_1+m_2)(l_1)^2\\left( \\dot{\\theta_1}\\right)^2+\\frac{1}{2}m_2(l_2)^2\\left( \\dot{\\theta_2}\\right)^2+\\\\\n",
    "    +\\frac{1}{2}m_2l_1l_2\\dot{\\theta_1}\\dot{\\theta_2}cos(\\theta_1-\\theta_2)+\n",
    "    (m_1+m_2)gl_2cos(\\theta_1)+m_2gl_2cos(\\theta_2)\\\\\n",
    "\\end{equation}\n",
    "\n",
    "Las ecuaciones acopladas resultantes para $\\theta_1$ y $\\theta_2$ son la siguientes:\n",
    "\n",
    "\\begin{align*}\n",
    "    (m_1+m_2)l_1\\ddot{\\theta_1}+m_2l_2\\ddot{\\theta_2}cos(\\theta_1-\\theta_2)+m_2l_2\\left( \\dot{\\theta_2}\\right)^2sin(\\theta_1-\\theta_2)+g(m_1+m_2)sin(\\theta_1)=0 \\\\\n",
    "    m_1l_1\\ddot{\\theta_2}+m_2l_1\\ddot{\\theta_1}cos(\\theta_1-\\theta_2)-m_2l_1\\left( \\dot{\\theta_1}\\right)^2sin(\\theta_1-\\theta_2)+gm_2sin(\\theta_2)=0 \\\\\n",
    "\\end{align*}\n",
    "\n",
    "De las cuales se puede despejar:\n",
    "\n",
    "\\begin{align*}\n",
    "    \\ddot{\\theta_1}=\\frac{\\left\\{ -(1+\\alpha)\\gamma sin(\\theta_1)-\\alpha\\beta\\left( \\dot{\\theta_2}\\right)^2sin(\\Delta\\theta)-\\alpha\\cos(\\Delta\\theta)\\left[ \\left( \\dot{\\theta_1}\\right)^2sin(\\Delta\\theta)-\\gamma sin(\\theta_2) \\right] \\right\\}}{\\left\\{ 1+\\alpha \\left[ sin(\\Delta\\theta) \\right]^2 \\right\\}}=f_1(\\theta_1,\\theta_2,\\dot{\\theta_1},\\dot{\\theta_2})\\\\\n",
    "\n",
    "    \\ddot{\\theta_2}=\\frac{(1+\\alpha)\\left[\\left(\\dot{\\theta_1}\\right)^2 sin(\\Delta\\theta)-\\gamma sin(\\theta_2)\\right]+cos(\\Delta\\theta)\\left[ (1+\\alpha)\\gamma sin(\\theta_1)+\\alpha\\beta\\left(\\dot{\\theta_2} \\right)^2 sin(\\Delta\\theta)\\right]}{\\left\\{ 1+\\alpha \\left[ sin(\\Delta\\theta) \\right]^2 \\right\\}}=f_2(\\theta_1,\\theta_2,\\dot{\\theta_1},\\dot{\\theta_2})\\\\\n",
    "\\end{align*}\n",
    "\n",
    "Donde hemos introducido los parámetros adimensionales $\\alpha={m_1}/{m_2};\\beta={l_2}/{l_1}$ y las cantidades $\\gamma={g}/{l_1}$ (que tiene unidades de $[\\gamma]\\equiv [s]^{-2}$) y la diferencia de fases $\\Delta\\theta=(\\theta_1-\\theta_2)$.\n",
    "\n",
    "Entonces, llevamos este sistema de dos ecuaciones de 2do orden a uno de cuatro ecuaciones de primer orden de la forma:\n",
    "\n",
    "<!-- ESTA PARTE NO FUNCIONA -->\n",
    "<!-- \\begin{equation}\n",
    "    \\frac{d \\overrightarrow{y}}{dt}=\\overrightarrow{f}\\\\\n",
    "    \\overrightarrow{y}=\\mqty(\\theta_1 \\\\ \\theta_2 \\\\ \\omega_1 \\\\ \\omega_2);\n",
    "    \\overrightarrow{f}=\\mqty(\\omega_1 \\\\ \\omega_2 \\\\ f_1 \\\\ f_2)\n",
    "end{equation} -->\n",
    "\n",
    "\\begin{align*}\n",
    "    \\dot{\\theta_1}=\\omega_1\\\\\n",
    "    \\dot{\\theta_2}=\\omega_2\\\\\n",
    "    \\dot{\\omega_1}=f_1\\\\\n",
    "    \\dot{\\omega_2}=f_2\\\\\n",
    "\\end{align*}"
   ]
  },
  {
   "cell_type": "code",
   "execution_count": null,
   "id": "ec5c7be7",
   "metadata": {},
   "outputs": [],
   "source": [
    "m1=1.0;m2=3.0*m1;   # masas\n",
    "g=9.81;             # aceleración de la gravedad\n",
    "l1=2.0*g;l2=g;      # longitudes de los péndulos\n",
    "\n",
    "α=m2*(1.0/m1);β=l2*(1.0/l1);γ=g*(1.0/l1); # parámetros adimensionales"
   ]
  },
  {
   "cell_type": "code",
   "execution_count": null,
   "id": "33963ec7",
   "metadata": {},
   "outputs": [],
   "source": [
    "# Definimos el término derecho de la ODE\n",
    "function double_pendulum!(du,u,param,t)\n",
    "    ∂θ1_pow2 = u[1]*u[1]\n",
    "    ∂θ2_pow2 = u[2]*u[2]\n",
    "    Δθ = (u[1]-u[2])\n",
    "    α=param[1];β=param[2];γ=param[3];\n",
    "    denom = (1.0+α*sin(Δθ)*sin(Δθ))\n",
    "    num1 = (-(1.0+α)*γ*sin(u[1])-α*β*∂θ2_pow2*sin(Δθ)-α*cos(Δθ)*(∂θ1_pow2*sin(Δθ)-γ*sin(u[2])))\n",
    "    num2 = ((1.0+α)*(∂θ1_pow2*sin(Δθ)-γ*sin(u[2]))+cos(Δθ)*((1.0+α)*γ*sin(u[1])+α*β*∂θ2_pow2*sin(Δθ)))\n",
    "\n",
    "    du[1]=u[3]\n",
    "    du[2]=u[4]\n",
    "    du[3]=num1*(1.0/denom)\n",
    "    du[4]=num2*(1.0/(β*denom))\n",
    "end"
   ]
  },
  {
   "cell_type": "code",
   "execution_count": null,
   "id": "dc8369c8-4fc4-4277-85d5-8175b6969247",
   "metadata": {},
   "outputs": [],
   "source": [
    "θ1_init=0.0;θ2_init=0.0                 # initial angular deflection\n",
    "ω1_init=0.332;ω2_init=0.845             # initial angular velocity\n",
    "u0=[θ1_init,θ2_init,ω1_init,ω2_init]    # initial state vector\n",
    "t_interval=(0.0,100.0)                  # time interval tuple\n",
    "param=(α,β,γ)                           # external parameters\n",
    "\n",
    "N=512;dt=(t_interval[2]-t_interval[1])/(N-1.)   # definimos time step\n",
    "\n",
    "prob = ODEProblem(double_pendulum!,u0,t_interval,param)\n",
    "sol_RK4 = solve(prob,RK4(),dt=dt,saveat=dt,adaptive=false)       # resolvemos la ODE con RK4 method\n",
    "\n",
    "plt1=plot()\n",
    "plot1=plot!(plt1,title=\"Solution double pendulum \\$(α,β,γ)=(1/3,1/2,1/2)\\$ \\n with \\\"DifferentialEquations\\\" library\",xaxis=\"Time (t)\")\n",
    "plot1=plot!(plt1,sol_RK4.t,sol_RK4[1,:],lw=2,label=\"θ1 [rad] (θ1(t0)=0)\")\n",
    "plot1=plot!(plt1,sol_RK4.t,sol_RK4[3,:],lw=2,label=\"ω1 [rad/s] (ω1(t0)=0.332)\")\n",
    "\n",
    "plt2=plot()\n",
    "plot2=plot!(plt2,xaxis=\"Time (t)\")\n",
    "plot2=plot!(plt2,sol_RK4.t,sol_RK4[2,:],lw=2,label=\"θ2 [rad] (θ2(t0)=0)\")\n",
    "plot2=plot!(plt2,sol_RK4.t,sol_RK4[4,:],lw=2,label=\"ω2 [rad/s] (ω2(t0)=0.845)\")\n",
    "\n",
    "plot!(plot1,plot2,layout=(2,1))"
   ]
  },
  {
   "cell_type": "markdown",
   "id": "2ca9b389",
   "metadata": {},
   "source": [
    "## Probamos con otras condiciones iniciales"
   ]
  },
  {
   "cell_type": "code",
   "execution_count": null,
   "id": "1418813e",
   "metadata": {},
   "outputs": [],
   "source": [
    "θ1_init=0.5;θ2_init=-0.5                 # initial angular deflection\n",
    "ω1_init=0.0;ω2_init=0.0                  # initial angular velocity\n",
    "u0=[θ1_init,θ2_init,ω1_init,ω2_init]    # initial state vector\n",
    "t_interval=(0.0,100.0)                  # time interval tuple\n",
    "param=(α,β,γ)                           # external parameters\n",
    "\n",
    "N=512;dt=(t_interval[2]-t_interval[1])/(N-1.)   # definimos time step\n",
    "\n",
    "prob = ODEProblem(double_pendulum!,u0,t_interval,param)\n",
    "sol_RK4 = solve(prob,RK4(),dt=dt,saveat=dt,adaptive=false)       # resolvemos la ODE con RK4 method\n",
    "\n",
    "plt1=plot()\n",
    "plot1=plot!(plt1,title=\"Solution double pendulum \\$(α,β,γ)=(1/3,1/2,1/2)\\$ \\n with \\\"DifferentialEquations\\\" library\",xaxis=\"Time (t)\")\n",
    "plot1=plot!(plt1,sol_RK4.t,sol_RK4[1,:],lw=2,label=\"θ1 [rad] (θ1(t0)=0.5)\")\n",
    "plot1=plot!(plt1,sol_RK4.t,sol_RK4[3,:],lw=2,label=\"ω1 [rad/s] (ω1(t0)=0)\")\n",
    "\n",
    "plt2=plot()\n",
    "plot2=plot!(plt2,xaxis=\"Time (t)\")\n",
    "plot2=plot!(plt2,sol_RK4.t,sol_RK4[2,:],lw=2,label=\"θ2 [rad] (θ2(t0)=-0.5)\")\n",
    "plot2=plot!(plt2,sol_RK4.t,sol_RK4[4,:],lw=2,label=\"ω2 [rad/s] (ω2(t0)=0)\")\n",
    "\n",
    "plot!(plot1,plot2,layout=(2,1))"
   ]
  },
  {
   "cell_type": "markdown",
   "id": "6e7c39ef",
   "metadata": {},
   "source": [
    "Ahora calculamos el factor $Q$"
   ]
  },
  {
   "cell_type": "code",
   "execution_count": null,
   "id": "96aad246",
   "metadata": {},
   "outputs": [],
   "source": [
    "# Función auxiliar para calcular función Q las cuatro soluciones\n",
    "\n",
    "function double_pendulum_Qfactor(N,u0,t_interval,param,method)\n",
    "    prob = ODEProblem(double_pendulum!,u0,t_interval,param)     # definimos el problema\n",
    "\n",
    "    # consideramos N1=N pasos (Δt(N1)=Δt)\n",
    "    dt1=(t_interval[2]-t_interval[1])/(N-1.0)                      # definimos time step\n",
    "    sol_N1 = solve(prob,method(),dt=dt1,saveat=dt1,adaptive=false)  # resolvemos ODE\n",
    "    \n",
    "    # consideramos N2=(2N1-1) pasos (Δt(N2)=Δt/2)\n",
    "    sol_N2 = solve(prob,method(),dt=dt1*0.5,saveat=dt1*0.5,adaptive=false)  # resolvemos ODE\n",
    "\n",
    "    # consideramos N3=(4N1-3) pasos (Δt(N3)=Δt/4)\n",
    "    sol_N3 = solve(prob,method(),dt=dt1*0.25,saveat=dt1*0.25,adaptive=false)  # resolvemos ODE\n",
    "\n",
    "    return Q(sol_N1.t,sol_N1,sol_N2,sol_N3)\n",
    "end\n",
    "\n",
    "#Función auxiliar para calcular el factor Q.\n",
    "#Simplemente calcule tres soluciones con distintos dt\n",
    "#Si sol_1 usa N+1 puntos, sol_2 debe usar 2N+1 y sol4 usar 4N+1.\n",
    "#No olvide utilizar `adaptive = false` y `saveat = dt` \n",
    "function Q(t,sol_1,sol_2,sol_4,DOF)\n",
    "    return norm(sol_1(t)[DOF,:] - sol_2(t)[DOF,1:2:end],2)/norm(sol_2(t)[DOF,1:2:end]-sol_4(t)[DOF,1:4:end],2)\n",
    "end\n"
   ]
  },
  {
   "cell_type": "code",
   "execution_count": null,
   "id": "53b9d691",
   "metadata": {},
   "outputs": [],
   "source": [
    "θ1_init=π/2.0;θ2_init=0.0;                 # initial angular deflection\n",
    "ω1_init=0.0;ω2_init=0.0;             # initial angular velocity\n",
    "u0=[θ1_init,θ2_init,ω1_init,ω2_init];    # initial state vector\n",
    "t_interval=(0.0,10.);                  # time interval tuple\n",
    "param=(α,β,γ);                           # external parameters\n",
    "\n",
    "N=10000;dt=(t_interval[2]-t_interval[1])/(N-1.);   # definimos time step\n",
    "\n",
    "prob = ODEProblem(double_pendulum!,u0,t_interval,param);\n",
    "\n",
    "sol_RK4_N1 = solve(prob, RK4(), dt = dt  , saveat = dt,   adaptive = false);\n",
    "println(\"size(sol_RK4_N1)=\",size(sol_RK4_N1));\n",
    "sol_RK4_N2 = solve(prob, RK4(), dt = dt/2, saveat = dt/2, adaptive = false);\n",
    "println(\"size(sol_RK4_N1)=\",size(sol_RK4_N2));\n",
    "sol_RK4_N3 = solve(prob, RK4(), dt = dt/4, saveat = dt/4, adaptive = false);\n",
    "println(\"size(sol_RK4_N3)=\",size(sol_RK4_N3));\n",
    "\n",
    "plt1=plot();\n",
    "plt1=plot!(plt1,sol_RK4_N1.t,map(t -> Q(t,sol_RK4_N1,sol_RK4_N2,sol_RK4_N3,1),sol_RK4_N1.t),xaxis=(\"t\"),yaxis=(\"Q(t)\",(0.,50)), label=\"θ1\");\n",
    "\n",
    "plt2=plot();\n",
    "plt2=plot!(plt2,sol_RK4_N1.t,map(t -> Q(t,sol_RK4_N1,sol_RK4_N2,sol_RK4_N3,3),sol_RK4_N1.t),xaxis=(\"t\"),yaxis=(\"Q(t)\",(0.,50)), label=\"ω1\");\n",
    "\n",
    "plot!(plt1,plt2,layout=(2,1))\n"
   ]
  },
  {
   "cell_type": "markdown",
   "id": "928866f6",
   "metadata": {},
   "source": [
    "Como vemos, la función Q no es una función suave de la variable temporal y por lo tanto estamos frente a un sistema de ecuaciones inestable.\n",
    "Y como la  la convergencia aumenta exponencialmente"
   ]
  },
  {
   "cell_type": "markdown",
   "id": "81089c29-e05a-4a3d-8bde-6d1ff66883d6",
   "metadata": {},
   "source": [
    "## Problema 4\n",
    "**Opcional para personas ambiciosas** \n",
    "Busque una ecuación que sea stiff y evolucione con un método apropiado. Un caso simple es la ecuación: \n",
    "\n",
    "$$\n",
    "\\begin{array}{ll}\n",
    "u_t &= v \\\\\n",
    "v_t &= \\frac{1}{\\epsilon}(u - v)\n",
    "\\end{array}\n",
    "$$\n",
    "con $\\epsilon > 0$ muy pequeño. Este permite usar métodos IMEX."
   ]
  },
  {
   "cell_type": "code",
   "execution_count": null,
   "id": "1092abfe-2815-458d-aafc-7f91cbf6793b",
   "metadata": {},
   "outputs": [],
   "source": []
  }
 ],
 "metadata": {
  "kernelspec": {
   "display_name": "Julia 1.8.0",
   "language": "julia",
   "name": "julia-1.8"
  },
  "language_info": {
   "file_extension": ".jl",
   "mimetype": "application/julia",
   "name": "julia",
   "version": "1.8.0"
  }
 },
 "nbformat": 4,
 "nbformat_minor": 5
}
