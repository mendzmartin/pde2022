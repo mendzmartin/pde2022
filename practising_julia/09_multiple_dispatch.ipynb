{
 "cells": [
  {
   "cell_type": "markdown",
   "metadata": {},
   "source": [
    "# Despacho Múltiple (Multiple dispatch)"
   ]
  },
  {
   "cell_type": "markdown",
   "metadata": {},
   "source": [
    "En este notebook exploraremos **multiple dispatch**, que es una característica de Julia.\n",
    "\n",
    "Multiple dispatch ayuda a hacer código genérico y rápido\n",
    "\n",
    "#### Empezando con lo conocido\n",
    "\n",
    "Ya hemos visto que podemos declarar funciones en Julia sin dar información sobre los tipos de los argumentos que recibe la función. Por ejemplo, podemos definir"
   ]
  },
  {
   "cell_type": "code",
   "execution_count": null,
   "metadata": {},
   "outputs": [],
   "source": [
    "f(x) = x.^2"
   ]
  },
  {
   "cell_type": "markdown",
   "metadata": {},
   "source": [
    "y Julia determinará solo qué clase de argumentos tienen sentido y que clase no"
   ]
  },
  {
   "cell_type": "code",
   "execution_count": null,
   "metadata": {},
   "outputs": [],
   "source": [
    "f(10)"
   ]
  },
  {
   "cell_type": "code",
   "execution_count": null,
   "metadata": {},
   "outputs": [],
   "source": [
    "f([1, 2, 3])"
   ]
  },
  {
   "cell_type": "markdown",
   "metadata": {},
   "source": [
    "#### Especificar los tipos de variable de los argumentos\n",
    "\n",
    "Sin embargo, también tenemos la *opción* de definir el tipo de variable que recibe una función de Julia.\n",
    "Por ejemplo, escribamos una función `foo` que solo tome `String`s como argumentos."
   ]
  },
  {
   "cell_type": "code",
   "execution_count": null,
   "metadata": {},
   "outputs": [],
   "source": [
    "foo(x::String, y::String) = println(\"¡Tanto x como y son strings!\")"
   ]
  },
  {
   "cell_type": "markdown",
   "metadata": {},
   "source": [
    "Vemos que para restringir el tipo de `x` e `y` a `String`, simplemente escribimos inmediatamente después del argumento dos doble puntos seguidos de la palabra `String`.\n",
    "\n",
    "En los ejemplos siguientes veremos que `foo` solo funciona si tanto `x` como `y` son `String`s."
   ]
  },
  {
   "cell_type": "code",
   "execution_count": null,
   "metadata": {},
   "outputs": [],
   "source": [
    "foo(\"hola\", \"mundo\")"
   ]
  },
  {
   "cell_type": "code",
   "execution_count": null,
   "metadata": {},
   "outputs": [],
   "source": [
    "foo(3, 4)"
   ]
  },
  {
   "cell_type": "markdown",
   "metadata": {},
   "source": [
    "Para que `foo` funcione con argumentos de tipo `Int` (enteros), declaremos `foo` agregando `::Int` a los argumentos."
   ]
  },
  {
   "cell_type": "code",
   "execution_count": null,
   "metadata": {},
   "outputs": [],
   "source": [
    "foo(x::Int, y::Int) = println(\"¡Tanto x como y son enteros!\")"
   ]
  },
  {
   "cell_type": "code",
   "execution_count": null,
   "metadata": {},
   "outputs": [],
   "source": [
    "foo(3, 4)"
   ]
  },
  {
   "cell_type": "markdown",
   "metadata": {},
   "source": [
    "¡Ahora `foo` funciona con enteros! Pero no solo eso, ¡`foo` también sigue funcionando cuando `x` e `y` son strings!"
   ]
  },
  {
   "cell_type": "code",
   "execution_count": null,
   "metadata": {},
   "outputs": [],
   "source": [
    "foo(\"hola\", \"aloha\")"
   ]
  },
  {
   "cell_type": "markdown",
   "metadata": {},
   "source": [
    "Esto comienza a acercarse a la idea central de **multiple dispatch**. Cuando declaramos\n",
    "\n",
    "```julia\n",
    "foo(x::Int, y::Int) = println(\"¡Tanto x como y son enteros!\")\n",
    "```\n",
    "no reescribimos o reemplazamos\n",
    "```julia\n",
    "foo(x::String, y::String)\n",
    "```\n",
    "Sino que simplemente agregamos un ***método (method)*** a la ***función genérica (generic function)*** llamada `foo`.\n",
    "\n",
    "Una ***función genérica*** es un concepto abstracto asociado a una operación particular.\n",
    "\n",
    "Por ejemplo, la función genérica `+` representa el concepto de adición.\n",
    "\n",
    "Un ***método*** es una implementación específica de una función genérica para *tipos de argumentos particulares*.\n",
    "\n",
    "Por ejemplo, `+` tiene métodos que aceptan números de punto flotante, enteros, matrices, etc.\n",
    "\n",
    "Podemos usar la función `methods` para ver cuantos métodos tiene `foo`."
   ]
  },
  {
   "cell_type": "code",
   "execution_count": null,
   "metadata": {},
   "outputs": [],
   "source": [
    "methods(foo)"
   ]
  },
  {
   "cell_type": "markdown",
   "metadata": {},
   "source": [
    "Nota: ¿cuántos métodos cree que tiene `+`?"
   ]
  },
  {
   "cell_type": "code",
   "execution_count": null,
   "metadata": {},
   "outputs": [],
   "source": [
    "methods(+)"
   ]
  },
  {
   "cell_type": "markdown",
   "metadata": {},
   "source": [
    "Entonces, podemos llamar a `foo` con enteros o strings. Cuando uno llama a `foo` con un conjunto particular de argumentos, Julia inferirá los tipos de argumentos y hará un ***dispatch*** del método apropiado. *Eso* es multiple dispatch.\n",
    "\n",
    "Multiple dispatch permite tener código genérico y flexible, y a su vez rápido, ya que Julia es capaz de llamar a métodos eficientes para los tipos de argumentos que le demos a las funciones.\n",
    "\n",
    "Para ver qué métodos usará Julia para ciertos argumentos, podemos usar el macro @which:"
   ]
  },
  {
   "cell_type": "code",
   "execution_count": null,
   "metadata": {},
   "outputs": [],
   "source": [
    "@which foo(3, 4)"
   ]
  },
  {
   "cell_type": "markdown",
   "metadata": {},
   "source": [
    "¡Veamos que pasa si usamos `@which` con el operador de suma!"
   ]
  },
  {
   "cell_type": "code",
   "execution_count": null,
   "metadata": {},
   "outputs": [],
   "source": [
    "@which 3.0 + 3.0"
   ]
  },
  {
   "cell_type": "markdown",
   "metadata": {},
   "source": [
    "Y podemos seguir agregando métodos a  `foo`. Agreguemos uno que tome como argumento un ***tipo abstracto (abstract type)*** `Number`, que incluye subtipos tales como `Int`, `Float64`, y otros objetos que usualmente pensaríamos cono números:"
   ]
  },
  {
   "cell_type": "code",
   "execution_count": null,
   "metadata": {},
   "outputs": [],
   "source": [
    "foo(x::Number, y::Number) = println(\"¡Mis inputos x e y son números!\")"
   ]
  },
  {
   "cell_type": "markdown",
   "metadata": {},
   "source": [
    "Este método de `foo` funcionará, por ejemplo, en números de punto flotante"
   ]
  },
  {
   "cell_type": "code",
   "execution_count": null,
   "metadata": {},
   "outputs": [],
   "source": [
    "foo(3.0, 4.0)"
   ]
  },
  {
   "cell_type": "markdown",
   "metadata": {},
   "source": [
    "También podemos agregar un método de respaldo que tome argumentos de cualquier tipo"
   ]
  },
  {
   "cell_type": "code",
   "execution_count": null,
   "metadata": {},
   "outputs": [],
   "source": [
    "foo(x, y) = println(\"¡Ahora funciono con cualquier argumento para x o y!\")"
   ]
  },
  {
   "cell_type": "code",
   "execution_count": null,
   "metadata": {},
   "outputs": [],
   "source": [
    "v = rand(3)\n",
    "w = \"hipopótamo\"\n",
    "\n",
    "foo(v,w)"
   ]
  },
  {
   "cell_type": "markdown",
   "metadata": {},
   "source": [
    "### Ejercicios\n",
    "\n",
    "#### 9.1\n",
    "\n",
    "Extienda la función `foo`, agregando un método que acepte un único argumento, y que este argumento sea de tipo `Bool`. Haga que este método retorne \"foo con un booleano!\""
   ]
  },
  {
   "cell_type": "code",
   "execution_count": null,
   "metadata": {},
   "outputs": [],
   "source": [
    "foo(x::Bool) = \"foo con un booleano!\""
   ]
  },
  {
   "cell_type": "markdown",
   "metadata": {},
   "source": [
    "#### 9.2\n",
    "\n",
    "Chequee que el método \n",
    "```julia\n",
    "foo(true)\n",
    "```\n",
    "sea el que escribió usted"
   ]
  },
  {
   "cell_type": "code",
   "execution_count": null,
   "metadata": {},
   "outputs": [],
   "source": [
    "typeof(foo(true))\n"
   ]
  },
  {
   "cell_type": "code",
   "execution_count": null,
   "metadata": {},
   "outputs": [],
   "source": [
    "@which foo(true)"
   ]
  },
  {
   "cell_type": "code",
   "execution_count": null,
   "metadata": {
    "hide_input": true,
    "nbgrader": {
     "checksum": "af0db7a08de56491e57f4c882296a00f",
     "grade": true,
     "grade_id": "cell-14072e60ae07c1a2",
     "locked": true,
     "points": 1,
     "schema_version": 1,
     "solution": false
    }
   },
   "outputs": [],
   "source": [
    "@assert (foo(true) == \"foo con un booleano!\")"
   ]
  },
  {
   "cell_type": "markdown",
   "metadata": {},
   "source": [
    "\n"
   ]
  }
 ],
 "metadata": {
  "anaconda-cloud": {},
  "celltoolbar": "Edit Metadata",
  "kernelspec": {
   "display_name": "Julia 1.8.0",
   "language": "julia",
   "name": "julia-1.8"
  },
  "language": "Julia",
  "language_info": {
   "file_extension": ".jl",
   "mimetype": "application/julia",
   "name": "julia",
   "version": "1.8.0"
  },
  "toc": {
   "nav_menu": {
    "height": "119px",
    "width": "251px"
   },
   "navigate_menu": true,
   "number_sections": true,
   "sideBar": true,
   "threshold": "2",
   "toc_cell": false,
   "toc_section_display": "block",
   "toc_window_display": false
  }
 },
 "nbformat": 4,
 "nbformat_minor": 4
}
