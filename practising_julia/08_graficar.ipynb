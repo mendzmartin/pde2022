{
 "cells": [
  {
   "cell_type": "markdown",
   "metadata": {},
   "source": [
    "# Gráficos\n",
    "\n",
    "## Librería Plots\n",
    "\n",
    "La librería Plots permite realizar gráficos y animaciones en Julia. Para importarla corremos `using Plots`"
   ]
  },
  {
   "cell_type": "code",
   "execution_count": null,
   "metadata": {},
   "outputs": [],
   "source": [
    "using Plots"
   ]
  },
  {
   "cell_type": "markdown",
   "metadata": {},
   "source": [
    "La función más importante es la función `plot`. La sintaxis básica para obtener gráficos es `plot(x,y)`, donde, al igual que en otros lenguajes, `x` e `y` son series de datos. Este es un ejemplo sencillo:"
   ]
  },
  {
   "cell_type": "code",
   "execution_count": null,
   "metadata": {},
   "outputs": [],
   "source": [
    "x = range(-1,1,length=50)   #El rango (-1,1) con 50 puntos equiespaciados\n",
    "\n",
    "y = x.^3                    #Aplicamos la función cubo a cada elemento de x\n",
    "\n",
    "plot(x, y)"
   ]
  },
  {
   "cell_type": "markdown",
   "metadata": {},
   "source": [
    "Para disponer varias curvas en el mismo gráfico, `y` puede ser un arreglo cuyas columnas sean las distintas series de datos a visualizar:"
   ]
  },
  {
   "cell_type": "code",
   "execution_count": null,
   "metadata": {},
   "outputs": [],
   "source": [
    "y = zeros(50,2)  # Creamos un arreglo de dos columnas lleno de ceros\n",
    "\n",
    "y[:,1] = x.^3\n",
    "y[:,2] = sin.(3*x)\n",
    "\n",
    "plot(x,y)"
   ]
  },
  {
   "cell_type": "markdown",
   "metadata": {},
   "source": [
    "También podemos utilizar la función modificatoria `plot!`, que, de acuerdo a la convención de Julia sobre el símbolo `!`, agregará la curva sobre el gráfico activo. "
   ]
  },
  {
   "cell_type": "code",
   "execution_count": null,
   "metadata": {},
   "outputs": [],
   "source": [
    "z = cos.(2*x)\n",
    "\n",
    "plot!(x,z)"
   ]
  },
  {
   "cell_type": "markdown",
   "metadata": {},
   "source": [
    "Podemos cambiar el estilo de gráfico de líneas a puntos usando el comando `scatter` en vez de `plot`."
   ]
  },
  {
   "cell_type": "code",
   "execution_count": null,
   "metadata": {},
   "outputs": [],
   "source": [
    "#scatter(x,y)\n",
    "plot(x,y,seriestype = :scatter)"
   ]
  },
  {
   "cell_type": "markdown",
   "metadata": {},
   "source": [
    "Esto es equivalente a `plot(x,y,seriestype = :scatter)`"
   ]
  },
  {
   "cell_type": "markdown",
   "metadata": {},
   "source": [
    "### Atributos\n",
    "\n",
    "Los gráficos tienen varios atributos que permiten estilizarlos, como el título, las etiquetas de los ejes, las leyendas, el ancho de la línea, etc. Los atributos ingresan a la función como argumentos de tipo keyword, es decir, de la forma `plot(x,y,atributo=valor)`. La lista completa de los atributos puede encontarse en la documentación del paquete.\n",
    "\n",
    "Por ejemplo, aquí modificamos el título, las leyendas y el ancho de línea:"
   ]
  },
  {
   "cell_type": "code",
   "execution_count": null,
   "metadata": {},
   "outputs": [],
   "source": [
    "plot(x, y, title = \"Dos curvas\", label = [\"Cubo\" \"Seno\"], lw = 2)"
   ]
  },
  {
   "cell_type": "markdown",
   "metadata": {},
   "source": [
    "Equivalentemente, cada atributo puede cambiarse con una función modificatoria correspondiente que actúa sobre el gráfico activo. Por ejemplo, así podemos cambiar el título y agregar etiquetas a los ejes:"
   ]
  },
  {
   "cell_type": "code",
   "execution_count": null,
   "metadata": {},
   "outputs": [],
   "source": [
    "title!(\"Nuevo título\")\n",
    "xlabel!(\"x\")\n",
    "ylabel!(\"y\")"
   ]
  },
  {
   "cell_type": "markdown",
   "metadata": {},
   "source": [
    "Y así podemos ajustar los límites de los ejes:"
   ]
  },
  {
   "cell_type": "code",
   "execution_count": null,
   "metadata": {},
   "outputs": [],
   "source": [
    "xlims!(-0.5,0.5)\n",
    "ylims!(-0.3,0.7)"
   ]
  },
  {
   "cell_type": "markdown",
   "metadata": {},
   "source": [
    "### Subgráficos\n",
    "\n",
    "Por otro lado, podemos organizar los datos en subgráficos a través del atributo `layout=(M,N)`, que genera una grilla $M \\times N$ de subgráficos y asigna las series de datos en forma automática a cada uno. Por ejemplo:"
   ]
  },
  {
   "cell_type": "code",
   "execution_count": null,
   "metadata": {},
   "outputs": [],
   "source": [
    "plot(x,y,layout=(2,1),label=false)"
   ]
  },
  {
   "cell_type": "markdown",
   "metadata": {},
   "source": [
    "Distintos tipos de gráficos pueden combinarse en forma más compleja de la siguiente manera:"
   ]
  },
  {
   "cell_type": "code",
   "execution_count": null,
   "metadata": {},
   "outputs": [],
   "source": [
    "#Creamos los gráficos y los asignamos a distintas variables\n",
    "\n",
    "p1 = plot(x,y, ylabel=\"Una etiqueta\")\n",
    "p2 = scatter(x,y,title=\"Puntos\")\n",
    "p3 = plot(x,y,xlabel=\"Otra etiqueta\")\n",
    "p4 = plot(x,y[:,1]+y[:,2],title=\"Suma de ambas curvas\")\n",
    "\n",
    "plot(p1,p2,p3,p4,layout=(2,2),legend=false)"
   ]
  },
  {
   "cell_type": "markdown",
   "metadata": {},
   "source": [
    "### Strings en LaTex"
   ]
  },
  {
   "cell_type": "markdown",
   "metadata": {},
   "source": [
    "El paquete `LaTeXStrings` permite crear fórmulas en LaTeX como strings. Esto nos sirve para utilizar símbolos matemáticos en nuestras etiquetas y títulos. El uso es sencillo, simplemente escribimos la fórmula en Latex entre signos `$` dentro de un string precedido por una `L`. Por ejemplo, `L\"$x^2$\"` devuelve un string con el símbolo $x^2$."
   ]
  },
  {
   "cell_type": "code",
   "execution_count": null,
   "metadata": {},
   "outputs": [],
   "source": [
    "import Pkg; Pkg.add(\"LaTeXStrings\")"
   ]
  },
  {
   "cell_type": "code",
   "execution_count": null,
   "metadata": {},
   "outputs": [],
   "source": [
    "using LaTeXStrings\n",
    "\n",
    "plot(x,-y,label=[L\"$-x^3$\" L\"$-\\sin (x)$\"])\n",
    "xlabel!(L\"$x$\")\n",
    "ylabel!(L\"$y$\")"
   ]
  },
  {
   "cell_type": "markdown",
   "metadata": {},
   "source": [
    "## Animaciones"
   ]
  },
  {
   "cell_type": "markdown",
   "metadata": {},
   "source": [
    "Podemos crear animaciones fácilmente con el macro `@animate` que devuelve un objeto Animación. Creamos los frames con una iteración y asignamos el objeto a una variable."
   ]
  },
  {
   "cell_type": "code",
   "execution_count": null,
   "metadata": {},
   "outputs": [],
   "source": [
    "#Asignamos el macro a una variable\n",
    "\n",
    "x = range(-π,π,length=100)\n",
    "\n",
    "anim = @animate for t in range(0,2π,length=100)\n",
    "    y = sin.(x.-t)\n",
    "    plot(x,y,label=L\"$\\sin(x-t)$\",ylim=(-1.1,1.1),xlabel=L\"$x$\")\n",
    "    end"
   ]
  },
  {
   "cell_type": "markdown",
   "metadata": {},
   "source": [
    "Finalmente, vemos la animación con el comando `gif`. El atributo `fps` permite modificar la cantidad de frames por segundo."
   ]
  },
  {
   "cell_type": "code",
   "execution_count": null,
   "metadata": {},
   "outputs": [],
   "source": [
    "gif(anim,fps=30)"
   ]
  },
  {
   "cell_type": "markdown",
   "metadata": {},
   "source": [
    "Opcionalmente podemos guardar la animación en un archivo como"
   ]
  },
  {
   "cell_type": "code",
   "execution_count": null,
   "metadata": {},
   "outputs": [],
   "source": [
    "gif(anim,\"./outputs/wave.gif\",fps=30)"
   ]
  }
 ],
 "metadata": {
  "kernelspec": {
   "display_name": "Julia 1.8.0",
   "language": "julia",
   "name": "julia-1.8"
  },
  "language_info": {
   "file_extension": ".jl",
   "mimetype": "application/julia",
   "name": "julia",
   "version": "1.8.0"
  }
 },
 "nbformat": 4,
 "nbformat_minor": 4
}
