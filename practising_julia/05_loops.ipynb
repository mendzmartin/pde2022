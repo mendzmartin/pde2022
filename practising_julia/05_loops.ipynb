{
 "cells": [
  {
   "cell_type": "markdown",
   "metadata": {},
   "source": [
    "# Loops\n",
    "\n",
    "Temas:\n",
    "1. loops `while` \n",
    "2. loops `for` \n",
    "<br>\n",
    "\n",
    "## loops while\n",
    "\n",
    "La sintaxis de un loop `while` es\n",
    "\n",
    "```julia\n",
    "while *condicion*\n",
    "    *cuerpo del loop*\n",
    "end\n",
    "```\n",
    "\n",
    "Por ejemplo, podríamos utilizar un loop while para contar números"
   ]
  },
  {
   "cell_type": "code",
   "execution_count": null,
   "metadata": {},
   "outputs": [],
   "source": [
    "n = 0\n",
    "while n < 10               #mientras n < 10\n",
    "    n += 1                 #n = n+1\n",
    "    println(n)\n",
    "end\n"
   ]
  },
  {
   "cell_type": "code",
   "execution_count": null,
   "metadata": {},
   "outputs": [],
   "source": [
    "misamistades = [\"Angelica\", \"Benjamín\", \"Carla\", \"Dora\", \"Eugenio\"]\n",
    "\n",
    "i = 1\n",
    "while i <= length(misamistades)        #length() retorna la cantidad de elementos de un objeto\n",
    "    nombre = misamistades[i]\n",
    "    println(\"¡Hola $(nombre), que bueno verte!\")\n",
    "    i += 1\n",
    "end"
   ]
  },
  {
   "cell_type": "markdown",
   "metadata": {},
   "source": [
    "## loops for\n",
    "\n",
    "La sintaxis de un loop `for` es\n",
    "\n",
    "```julia\n",
    "for *var* in *objeto iterable*\n",
    "    *cuerpo del loop*\n",
    "end\n",
    "```\n",
    "\n",
    "Podemos usar loops for para obtener los mismos resultados que tuvimos recién"
   ]
  },
  {
   "cell_type": "code",
   "execution_count": null,
   "metadata": {},
   "outputs": [],
   "source": [
    "for n in 1:10\n",
    "    println(n)\n",
    "end"
   ]
  },
  {
   "cell_type": "code",
   "execution_count": null,
   "metadata": {},
   "outputs": [],
   "source": [
    "misamistades = [\"Angelica\", \"Benjamín\", \"Carla\", \"Dora\", \"Eugenio\"]\n",
    "\n",
    "for nombre in misamistades\n",
    "    println(\"¡Hola $nombre, que bueno verte!\")\n",
    "end"
   ]
  },
  {
   "cell_type": "markdown",
   "metadata": {},
   "source": [
    "Ahora veamos un ejemplo en el que usamos un loop `for` para crear una tabla de adición.\n",
    "\n",
    "Note que iteramos sobre el array en loops \"columna-mayor\" para tener la mejor performance en el acceso a memoria. Para más información sobre indexado rápido de arreglos multidimensionales puede visitar https://docs.julialang.org/en/v1/manual/performance-tips/#Access-arrays-in-memory-order,-along-columns-1.\n",
    "\n",
    "Primero, inicializamos un arreglo con ceros"
   ]
  },
  {
   "cell_type": "code",
   "execution_count": null,
   "metadata": {},
   "outputs": [],
   "source": [
    "m, n = 4, 5\n",
    "A = fill(0, (m, n))   #creamos una matriz m filas y n columnas llena de ceros"
   ]
  },
  {
   "cell_type": "markdown",
   "metadata": {},
   "source": [
    "Hacemos que cada entrada `[i, j]` de la matriz sea `i+j`"
   ]
  },
  {
   "cell_type": "code",
   "execution_count": null,
   "metadata": {},
   "outputs": [],
   "source": [
    "for j in 1:n               #barrido en columnas\n",
    "    for i in 1:m           #barrido en filas\n",
    "        A[i, j] = i + j\n",
    "    end\n",
    "end\n",
    "A"
   ]
  },
  {
   "cell_type": "markdown",
   "metadata": {},
   "source": [
    "También podemos abreviar un poco ese loop `for` anidado"
   ]
  },
  {
   "cell_type": "code",
   "execution_count": null,
   "metadata": {},
   "outputs": [],
   "source": [
    "B = fill(0, (m, n))"
   ]
  },
  {
   "cell_type": "code",
   "execution_count": null,
   "metadata": {},
   "outputs": [],
   "source": [
    "for j in 1:n, i in 1:m  #primero iteramos en j (columnas) y luego en i (filas)\n",
    "    B[i, j] = i + j\n",
    "end\n",
    "B"
   ]
  },
  {
   "cell_type": "markdown",
   "metadata": {},
   "source": [
    "La forma más \"Julia\" de crear esta tabla en realidad habría sido usando *comprensión de arreglo* *(array comprehension)*."
   ]
  },
  {
   "cell_type": "code",
   "execution_count": null,
   "metadata": {},
   "outputs": [],
   "source": [
    "C = [i + j for i in 1:m, j in 1:n]"
   ]
  },
  {
   "cell_type": "markdown",
   "metadata": {},
   "source": [
    "### Ejercicio\n",
    "\n",
    "#### 5.1 \n",
    "Haga un loop sobre todos los enteros del 1 al 100 e imprima sus cuadrados"
   ]
  },
  {
   "cell_type": "code",
   "execution_count": null,
   "metadata": {},
   "outputs": [],
   "source": [
    "n=100;x=0\n",
    "for j in 1:n  #primero iteramos en j (columnas) y luego en i (filas)\n",
    "    @show x=j^2\n",
    "end"
   ]
  },
  {
   "cell_type": "markdown",
   "metadata": {},
   "source": [
    "#### 5.2 \n",
    "Modifique el código anterior para crear un diccionario llamado `cuadrados` que guarde los enteros y cuadrados como pares \"key value\", de forma tal que\n",
    "\n",
    "```julia\n",
    "cuadrados[10] == 100\n",
    "```"
   ]
  },
  {
   "cell_type": "code",
   "execution_count": null,
   "metadata": {},
   "outputs": [],
   "source": [
    "cuadrados = Dict(1 => 1)\n",
    "\n",
    "n=100\n",
    "for j in 1:n\n",
    "    cuadrados[j] = j*j\n",
    "end"
   ]
  },
  {
   "cell_type": "code",
   "execution_count": null,
   "metadata": {},
   "outputs": [],
   "source": [
    "@assert cuadrados[10] == 100\n",
    "@assert cuadrados[11] == 121"
   ]
  },
  {
   "cell_type": "markdown",
   "metadata": {},
   "source": [
    "#### 5.3\n",
    "Use *comprensión de arreglos* para crear un arreglo `cuadrados_arr` que tenga todos los cuadrados de los enteros 1 al 100 ordenados."
   ]
  },
  {
   "cell_type": "code",
   "execution_count": null,
   "metadata": {},
   "outputs": [],
   "source": [
    "n=100\n",
    "cuadrados_arr = [j*j for j in 1:n];\n"
   ]
  },
  {
   "cell_type": "code",
   "execution_count": null,
   "metadata": {},
   "outputs": [],
   "source": [
    "@assert length(cuadrados_arr) == 100\n",
    "@assert sum(cuadrados_arr) == 338350"
   ]
  }
 ],
 "metadata": {
  "kernelspec": {
   "display_name": "Julia 1.8.0",
   "language": "julia",
   "name": "julia-1.8"
  },
  "language_info": {
   "file_extension": ".jl",
   "mimetype": "application/julia",
   "name": "julia",
   "version": "1.8.0"
  }
 },
 "nbformat": 4,
 "nbformat_minor": 4
}
