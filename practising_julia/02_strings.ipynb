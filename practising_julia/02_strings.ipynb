{
 "cells": [
  {
   "cell_type": "markdown",
   "metadata": {},
   "source": [
    "# Strings (cadenas de caracteres)\n",
    "\n",
    "Temas:\n",
    "1. Cómo obtener un string\n",
    "2. Interpolación de strings\n",
    "3. Concatenación de strings"
   ]
  },
  {
   "cell_type": "markdown",
   "metadata": {},
   "source": [
    "## Cómo obtener un string\n",
    "\n",
    "Escriba algo entre comillas dobles \" \" o tres comillas dobles \"\"\" \"\"\"."
   ]
  },
  {
   "cell_type": "code",
   "execution_count": null,
   "metadata": {},
   "outputs": [],
   "source": [
    "s1 = \"Soy un string.\""
   ]
  },
  {
   "cell_type": "code",
   "execution_count": null,
   "metadata": {},
   "outputs": [],
   "source": [
    "s2 = \"\"\"Y yo también. \"\"\""
   ]
  },
  {
   "cell_type": "markdown",
   "metadata": {},
   "source": [
    "Hay diferencias sutiles entre utilizar comillas dobles simples o triples.\n",
    "Una diferencia es que en el segundo caso puede utilizar comillas dentro del string"
   ]
  },
  {
   "cell_type": "code",
   "execution_count": null,
   "metadata": {},
   "outputs": [],
   "source": [
    "\"En este caso, tenemos un \"error\" porque Julia no sabe donde termina el string\""
   ]
  },
  {
   "cell_type": "markdown",
   "metadata": {},
   "source": [
    "Las comillas triples solucionan este problema"
   ]
  },
  {
   "cell_type": "code",
   "execution_count": null,
   "metadata": {},
   "outputs": [],
   "source": [
    "s3 = \"\"\"Mira mamá, estoy escribiendo sin \"errores\"!\"\"\""
   ]
  },
  {
   "cell_type": "markdown",
   "metadata": {},
   "source": [
    "Equivalentemente, podemos usar `\\\"` para escribir comillas sin problemas."
   ]
  },
  {
   "cell_type": "code",
   "execution_count": null,
   "metadata": {},
   "outputs": [],
   "source": [
    "s4 = \"Mira mamá, estoy escribiendo sin 'errores'!\""
   ]
  },
  {
   "cell_type": "code",
   "execution_count": null,
   "metadata": {},
   "outputs": [],
   "source": [
    "s4 = \"Mira mamá, estoy escribiendo sin \\\"errores\\\"!\""
   ]
  },
  {
   "cell_type": "code",
   "execution_count": null,
   "metadata": {},
   "outputs": [],
   "source": [
    "println(s3)\n",
    "println(s4)"
   ]
  },
  {
   "cell_type": "code",
   "execution_count": null,
   "metadata": {},
   "outputs": [],
   "source": [
    "@assert(s3 == s4) #Esto muestra que la sintaxis de s3 es equivalente a la de s4"
   ]
  },
  {
   "cell_type": "markdown",
   "metadata": {},
   "source": [
    "¡Cuidado con usar comillas simples!, en julia están reservadas para caracteres individuales, no strings."
   ]
  },
  {
   "cell_type": "code",
   "execution_count": null,
   "metadata": {},
   "outputs": [],
   "source": [
    "typeof('a')     #el tipo de 'a' es Char (de character)"
   ]
  },
  {
   "cell_type": "code",
   "execution_count": null,
   "metadata": {},
   "outputs": [],
   "source": [
    "typeof(\"a\")     #el tipo de \"a\" es String"
   ]
  },
  {
   "cell_type": "code",
   "execution_count": null,
   "metadata": {},
   "outputs": [],
   "source": [
    "'Esta línea por lo tanto debería dar error'"
   ]
  },
  {
   "cell_type": "code",
   "execution_count": null,
   "metadata": {},
   "outputs": [],
   "source": [
    "\"Pero al menos esta 'línea' no va a tener problemas\""
   ]
  },
  {
   "cell_type": "markdown",
   "metadata": {},
   "source": [
    "**Caracteres especiales:**\n",
    "Algunos caracteres especiales son `\\n`, `\\t`, los cuales indican nueva línea y tabulación."
   ]
  },
  {
   "cell_type": "code",
   "execution_count": null,
   "metadata": {},
   "outputs": [],
   "source": [
    "print(\"Por ejemplo, en lugar de usar println puede usar \\\\n \\n\")\n",
    "println(\"Ó puede agregar espaciado \\t usando \\\\t.\")\n",
    "#Note como usar \\\\n y \\\\t nos permite escribir \"\\t\" y \"\\n\""
   ]
  },
  {
   "cell_type": "markdown",
   "metadata": {},
   "source": [
    "## Interpolación de strings\n",
    "\n",
    "El signo $ nos permite interpolar variables dentro de un string. Juege con los siguientes ejemplos para familiarizarse."
   ]
  },
  {
   "cell_type": "code",
   "execution_count": null,
   "metadata": {},
   "outputs": [],
   "source": [
    "nombre = \"Josefina\"\n",
    "hora = \"08:00h\"\n",
    "a = 1\n",
    "b = 2\n",
    "println(\"Hola, mi nombre es $(nombre)\")\n",
    "println(\"Hoy me levanté a las $(hora) de la mañana\")\n",
    "println(\"Hoy aprendí que puedo interpolar expresiones. Por ejemplo, ¿sabías que $(a) + $(b) = $(a+b)?\")\n",
    "println(\"¿O que cos(pi) = $(cos(pi))?\")\n",
    "println(\"También aprendí que si quiero escribir un signo de \\$ solo, tengo que agregarle previamente una barra invertida así \\\\\\$\")\n"
   ]
  },
  {
   "cell_type": "markdown",
   "metadata": {},
   "source": [
    "Esta interpolción es un tanto limitante, al no tener una forma de darle formato a la variable que queremos interpolar"
   ]
  },
  {
   "cell_type": "code",
   "execution_count": null,
   "metadata": {},
   "outputs": [],
   "source": [
    "x = 1.0000000000002\n",
    "println(\"x = $(x)\")  "
   ]
  },
  {
   "cell_type": "markdown",
   "metadata": {},
   "source": [
    "En este caso, probablemente preferiríamos redondear x a 1, pero en Julia no hay aún una forma directa de hacerlo. Una solución que puede investigar es el uso del macro `@sprintf`, incluido en la librería Printf. Este macro crea strings, y se usa de manera similar a la función `sprintf` de C. "
   ]
  },
  {
   "cell_type": "code",
   "execution_count": null,
   "metadata": {},
   "outputs": [],
   "source": [
    "#Correr estas dos líneas si no tiene el paquete Printf\n",
    "using Pkg\n",
    "Pkg.add(\"Printf\")\n",
    "using Printf\n",
    "\n",
    "xsmall = @sprintf(\"%.2f\", x) #@sprintf crea strings.\n",
    "#=\n",
    "%f le indica al macro que queremos ingresar un número de punto flotante.\n",
    "%.2f  indica que queremos ingresar un número de punto flotante con 2 dígitos después de la coma.\n",
    "=#\n",
    "println(\"xsmall = $xsmall, typeof(xsmall) = $(typeof(xsmall))\")\n",
    "println(\"x = $(@sprintf(\"%.2f\", x))\")"
   ]
  },
  {
   "cell_type": "markdown",
   "metadata": {},
   "source": [
    "## Concatenación de strings\n",
    "Hay varias formas de concatenar strings.\n",
    "Una forma fácil es usar la función `string()`.\n",
    "`string()` también permite convertir números y otros tipos de variable a string.\n"
   ]
  },
  {
   "cell_type": "code",
   "execution_count": null,
   "metadata": {},
   "outputs": [],
   "source": [
    "s3 = \"¿Cuántos gatos son \";\n",
    "s4 = \"demasiados gatos?\";\n",
    "😺 = 10\n",
    "# los \";\" son para que la línea de código no arroje ninguna salida, igual a \"C-language\""
   ]
  },
  {
   "cell_type": "code",
   "execution_count": null,
   "metadata": {},
   "outputs": [],
   "source": [
    "string(s3, s4)"
   ]
  },
  {
   "cell_type": "code",
   "execution_count": null,
   "metadata": {},
   "outputs": [],
   "source": [
    "string(\"No sé, solo sé que \", 😺, \" son demasiado pocos.\")"
   ]
  },
  {
   "cell_type": "markdown",
   "metadata": {},
   "source": [
    "También podemos usar `*` para concatenar"
   ]
  },
  {
   "cell_type": "code",
   "execution_count": null,
   "metadata": {},
   "outputs": [],
   "source": [
    "s3*s4"
   ]
  },
  {
   "cell_type": "markdown",
   "metadata": {},
   "source": [
    "Y, por su puesto, podemos usar el signo `$`, esto es muy parecido a cuando hacemos un script en `BASH`"
   ]
  },
  {
   "cell_type": "code",
   "execution_count": null,
   "metadata": {},
   "outputs": [],
   "source": [
    "\"$(s3)$(s4)\""
   ]
  },
  {
   "cell_type": "markdown",
   "metadata": {},
   "source": [
    "Todas estas opciones son equivalentes. Siéntase en libertad de usar la que más le guste o la que le sienta más cómoda."
   ]
  },
  {
   "cell_type": "markdown",
   "metadata": {},
   "source": [
    "### Ejercicios:\n",
    "\n",
    "#### 2.1\n",
    "Cree un string que diga \"hola \" 100 veces y asígnelo a una variable llamada `saludo`. Hágalo utilizando la función `repeat()` o el operador de potenciación `^`."
   ]
  },
  {
   "cell_type": "code",
   "execution_count": null,
   "metadata": {},
   "outputs": [],
   "source": [
    "#repeat(string, num_repeticiones)\n",
    "\n",
    "saludo = repeat(\"hola\", 100) # opción 1\n",
    "\n",
    "# cadena = \"hola\"; saludo = cadena^100 # opción 2"
   ]
  },
  {
   "cell_type": "code",
   "execution_count": null,
   "metadata": {},
   "outputs": [],
   "source": [
    "@assert saludo == \"holaholaholaholaholaholaholaholaholaholaholaholaholaholaholaholaholaholaholaholaholaholaholaholaholaholaholaholaholaholaholaholaholaholaholaholaholaholaholaholaholaholaholaholaholaholaholaholaholaholaholaholaholaholaholaholaholaholaholaholaholaholaholaholaholaholaholaholaholaholaholaholaholaholaholaholaholaholaholaholaholaholaholaholaholaholaholaholaholaholaholaholaholaholaholaholaholaholaholahola\"\n",
    "#Si esta línea no da ningún error, ha hecho las cosas bien"
   ]
  },
  {
   "cell_type": "markdown",
   "metadata": {},
   "source": [
    "#### 2.2\n",
    "Declare dos variables\n",
    "\n",
    "```julia\n",
    "a = 3\n",
    "b = 4\n",
    "```\n",
    "Y úselas para crear dos strings:\n",
    "```julia\n",
    "\"3 + 4\"\n",
    "\"7\"\n",
    "```\n",
    "Guarde los resultados en `c` y `d` respectively"
   ]
  },
  {
   "cell_type": "code",
   "execution_count": null,
   "metadata": {},
   "outputs": [],
   "source": [
    "a = 3\n",
    "b = 4\n",
    "c = \"$(a) + $(b)\"; println(\"c = \",c,\"\\ttypeof(c) = \",typeof(c))\n",
    "d = \"$(a+b)\"; println(\"d = \",d,\"\\t\\ttypeof(d) = \",typeof(d))\n",
    "\n"
   ]
  },
  {
   "cell_type": "code",
   "execution_count": null,
   "metadata": {},
   "outputs": [],
   "source": [
    "@assert c == \"3 + 4\"\n",
    "@assert d == \"7\""
   ]
  },
  {
   "cell_type": "markdown",
   "metadata": {},
   "source": [
    "+ `@assert` cond [text]\n",
    "+ Throw an AssertionError if cond is false. Preferred syntax for writing assertions.\n",
    "Message text is optionally displayed upon assertion failure.\n",
    "\n",
    "+ !!! warning An assert might be disabled at various optimization levels.\n",
    "Assert should therefore only be used as a debugging tool and not used for authentication verification (e.g., verifying passwords), nor should side effects needed for the function to work correctly be used inside of asserts.\n",
    "\n"
   ]
  },
  {
   "cell_type": "markdown",
   "metadata": {},
   "source": []
  }
 ],
 "metadata": {
  "kernelspec": {
   "display_name": "Julia 1.7.2",
   "language": "julia",
   "name": "julia-1.7"
  },
  "language_info": {
   "file_extension": ".jl",
   "mimetype": "application/julia",
   "name": "julia",
   "version": "1.7.2"
  }
 },
 "nbformat": 4,
 "nbformat_minor": 4
}
