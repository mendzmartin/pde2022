{
 "cells": [
  {
   "cell_type": "markdown",
   "metadata": {},
   "source": [
    "# Empezando de cero en Julia\n",
    "Temas:\n",
    "1. Imprimir en pantalla\n",
    "2. Asignar variables\n",
    "3. Comentar líneas\n",
    "4. Sintaxis para matemática básica\n",
    "\n",
    "**Nota: tanto este notebook como los siguientes del tutorial son traducciones y adaptaciones del tutorial de [Julia Academy](https://juliaacademy.com/) que puede encontrar en https://github.com/JuliaAcademy/Introduction-to-Julia**"
   ]
  },
  {
   "cell_type": "markdown",
   "metadata": {},
   "source": [
    "## Como imprimir\n",
    "\n",
    "En Julia usualmente se utiliza `println()` para imprimir"
   ]
  },
  {
   "cell_type": "code",
   "execution_count": null,
   "metadata": {},
   "outputs": [],
   "source": [
    "using IJulia"
   ]
  },
  {
   "cell_type": "code",
   "execution_count": null,
   "metadata": {},
   "outputs": [],
   "source": [
    "println(\"Mi primer print en Julia!\")\n",
    "println(\"Mi segundo print en Julia!\")"
   ]
  },
  {
   "cell_type": "markdown",
   "metadata": {},
   "source": [
    "La función `print()` hace lo mismo pero sin agregar un salto de línea."
   ]
  },
  {
   "cell_type": "code",
   "execution_count": null,
   "metadata": {},
   "outputs": [],
   "source": [
    "print(\"Hola\")\n",
    "print(\" Mundo\")"
   ]
  },
  {
   "cell_type": "markdown",
   "metadata": {},
   "source": [
    "`print` y `println` pueden recibir varios argumentos de distintos tipos separados por comas, por ejemplo"
   ]
  },
  {
   "cell_type": "code",
   "execution_count": null,
   "metadata": {},
   "outputs": [],
   "source": [
    "println(\"El número \", 2, \" es par\")"
   ]
  },
  {
   "cell_type": "markdown",
   "metadata": {},
   "source": [
    "## Cómo asignar variables\n",
    "\n",
    "Simplemente escribimos el nombre de la variable, el símbolo igual, y el valor. Julia determina automáticamente el tipo de variable."
   ]
  },
  {
   "cell_type": "code",
   "execution_count": null,
   "metadata": {},
   "outputs": [],
   "source": [
    "a = 42\n",
    "typeof(a)             #typeof(a) retorna el tipo de variable de a"
   ]
  },
  {
   "cell_type": "code",
   "execution_count": null,
   "metadata": {},
   "outputs": [],
   "source": [
    "b = \"hola\"\n",
    "typeof(b)"
   ]
  },
  {
   "cell_type": "code",
   "execution_count": null,
   "metadata": {},
   "outputs": [],
   "source": [
    "mi_pi = 3.14159\n",
    "typeof(mi_pi)"
   ]
  },
  {
   "cell_type": "markdown",
   "metadata": {},
   "source": [
    "Note que por defecto los números de punto flotante son de 64 bits."
   ]
  },
  {
   "cell_type": "code",
   "execution_count": null,
   "metadata": {},
   "outputs": [],
   "source": [
    "😺 = \"gato sonriente!\"\n",
    "typeof(😺)"
   ]
  },
  {
   "cell_type": "markdown",
   "metadata": {},
   "source": [
    "Para escribir este emoji puede utilizar la función autocompletar con tab. Simplemente escriba\n",
    "`\\:smi` y presione la tecla `tab` hasta que le aparezca un menú de selección"
   ]
  },
  {
   "cell_type": "code",
   "execution_count": null,
   "metadata": {},
   "outputs": [],
   "source": [
    "# \\:smi + <tab> --> seleccione con las flechas + <enter> ---> <tab> + <enter> para completar\n",
    "🧗= \"person climbing\"\n",
    "typeof(🧗)\n"
   ]
  },
  {
   "cell_type": "markdown",
   "metadata": {},
   "source": [
    "Después de asignarle un valor a una variable, puede cambiarlo por otro de otro tipo sin ningún problema"
   ]
  },
  {
   "cell_type": "code",
   "execution_count": null,
   "metadata": {},
   "outputs": [],
   "source": [
    "😺 = 1"
   ]
  },
  {
   "cell_type": "code",
   "execution_count": null,
   "metadata": {},
   "outputs": [],
   "source": [
    "typeof(😺)"
   ]
  },
  {
   "cell_type": "markdown",
   "metadata": {},
   "source": [
    "Escribir con emojis no es particularmente útil, pero escribir caracteres griegos sí puede serlo. Por ejemplo, podemos escribir la letra λ tipeando `\\lambda` y presionando tab"
   ]
  },
  {
   "cell_type": "code",
   "execution_count": null,
   "metadata": {},
   "outputs": [],
   "source": [
    "λ = 1"
   ]
  },
  {
   "cell_type": "code",
   "execution_count": null,
   "metadata": {},
   "outputs": [],
   "source": [
    "println(λ+😺)"
   ]
  },
  {
   "cell_type": "markdown",
   "metadata": {},
   "source": [
    "## Como comentar"
   ]
  },
  {
   "cell_type": "code",
   "execution_count": null,
   "metadata": {},
   "outputs": [],
   "source": [
    "# Para escribir un comentario en una línea use el símbolo numeral (#)\n",
    "println(\"Note que esto solo comenta una línea\") #y no la siguiente"
   ]
  },
  {
   "cell_type": "code",
   "execution_count": null,
   "metadata": {},
   "outputs": [],
   "source": [
    "#=\n",
    "\n",
    "Si quiere escribir comentarios multilínea, utilice la secuencia '#= =#'.\n",
    "\n",
    "=#"
   ]
  },
  {
   "cell_type": "markdown",
   "metadata": {},
   "source": [
    "## Sintaxis de matemática básica"
   ]
  },
  {
   "cell_type": "code",
   "execution_count": null,
   "metadata": {},
   "outputs": [],
   "source": [
    "suma = 3 + 7"
   ]
  },
  {
   "cell_type": "code",
   "execution_count": null,
   "metadata": {},
   "outputs": [],
   "source": [
    "diferencia = 10 - 3"
   ]
  },
  {
   "cell_type": "code",
   "execution_count": null,
   "metadata": {},
   "outputs": [],
   "source": [
    "producto = 20 * 5"
   ]
  },
  {
   "cell_type": "code",
   "execution_count": null,
   "metadata": {},
   "outputs": [],
   "source": [
    "potencia = 10 ^ 2   #note que la potenciación se realiza con el símbolo ^ y no con **"
   ]
  },
  {
   "cell_type": "code",
   "execution_count": null,
   "metadata": {},
   "outputs": [],
   "source": [
    "cociente = 100 / 10   #note que la división entre números enteros retorna un número de punto flotante"
   ]
  },
  {
   "cell_type": "code",
   "execution_count": null,
   "metadata": {},
   "outputs": [],
   "source": [
    "#para la división entera utilice el símbolo ÷, que puede escribir con \\div + <tab>\n",
    "cociente_entero = 101 ÷ 10  "
   ]
  },
  {
   "cell_type": "code",
   "execution_count": null,
   "metadata": {},
   "outputs": [],
   "source": [
    "modulo = 101 % 10 # es equivalente a mod(101,10) en FORTRAN"
   ]
  },
  {
   "cell_type": "markdown",
   "metadata": {},
   "source": [
    "### Ejercicios para jugar\n",
    "\n",
    "#### 1.1 \n",
    "Busque en la documentación de julia la función `convert()` y pruebe utilizarla"
   ]
  },
  {
   "cell_type": "code",
   "execution_count": null,
   "metadata": {},
   "outputs": [],
   "source": [
    "x=12;typeof(x)"
   ]
  },
  {
   "cell_type": "code",
   "execution_count": null,
   "metadata": {},
   "outputs": [],
   "source": [
    "convert(UInt8,x)"
   ]
  },
  {
   "cell_type": "code",
   "execution_count": null,
   "metadata": {},
   "outputs": [],
   "source": [
    "typeof(x) # también se puede correr con typeof(ans)"
   ]
  },
  {
   "cell_type": "markdown",
   "metadata": {},
   "source": [
    "#### 1.2\n",
    "Cree una variable llamada `dias` y asígnele el valor `365`. Use `convert()` para convertir `dias` a `Float64` y guarde el resultado en una variable llamada `dias_doble`."
   ]
  },
  {
   "cell_type": "code",
   "execution_count": null,
   "metadata": {},
   "outputs": [],
   "source": [
    "dias=365\n",
    "println(\"dias\",dias)\n",
    "println(\"typeof(dias)=\",typeof(dias))"
   ]
  },
  {
   "cell_type": "code",
   "execution_count": null,
   "metadata": {},
   "outputs": [],
   "source": [
    "dias_doble=convert(Float64,dias)\n",
    "println(\"dias_doble=\",dias_doble)\n",
    "println(\"typeof(dias_doble)=\",typeof(dias_doble))"
   ]
  },
  {
   "cell_type": "code",
   "execution_count": null,
   "metadata": {},
   "outputs": [],
   "source": [
    "@assert dias == 365\n",
    "@assert dias_doble == 365.0\n",
    "\n",
    "#Nota: El @assert es un MACRO de Julia. Los veremos más adelante, pero por ahora basta saber que los\n",
    "#macro empiezan con @ y que son parecidos a las funciones."
   ]
  },
  {
   "cell_type": "markdown",
   "metadata": {},
   "source": [
    "#### 1.3 \n",
    "Vea que sucede cuando ejecuta\n",
    "```julia\n",
    "convert(Int64, \"1\")\n",
    "```\n",
    "y\n",
    "\n",
    "```julia\n",
    "parse(Int64, \"1\")\n",
    "```"
   ]
  },
  {
   "cell_type": "code",
   "execution_count": null,
   "metadata": {},
   "outputs": [],
   "source": [
    "convert(Int64, \"1\")"
   ]
  },
  {
   "cell_type": "code",
   "execution_count": null,
   "metadata": {},
   "outputs": [],
   "source": []
  }
 ],
 "metadata": {
  "kernelspec": {
   "display_name": "Julia 1.7.2",
   "language": "julia",
   "name": "julia-1.7"
  },
  "language_info": {
   "file_extension": ".jl",
   "mimetype": "application/julia",
   "name": "julia",
   "version": "1.7.2"
  }
 },
 "nbformat": 4,
 "nbformat_minor": 4
}
