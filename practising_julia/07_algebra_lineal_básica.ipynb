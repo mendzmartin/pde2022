{
 "cells": [
  {
   "cell_type": "markdown",
   "metadata": {},
   "source": [
    "# Álgebra lineal en Julia"
   ]
  },
  {
   "cell_type": "markdown",
   "metadata": {},
   "source": [
    "Comencemos definiendo una matriz cualquiera"
   ]
  },
  {
   "cell_type": "code",
   "execution_count": null,
   "metadata": {},
   "outputs": [],
   "source": [
    "A = [2 3 3; 3 2 4; 4 1 1]"
   ]
  },
  {
   "cell_type": "markdown",
   "metadata": {},
   "source": [
    "Y un vector"
   ]
  },
  {
   "cell_type": "code",
   "execution_count": null,
   "metadata": {},
   "outputs": [],
   "source": [
    "x = [1,2,3]"
   ]
  },
  {
   "cell_type": "code",
   "execution_count": null,
   "metadata": {},
   "outputs": [],
   "source": [
    "typeof(A)"
   ]
  },
  {
   "cell_type": "code",
   "execution_count": null,
   "metadata": {},
   "outputs": [],
   "source": [
    "typeof(x)"
   ]
  },
  {
   "cell_type": "markdown",
   "metadata": {},
   "source": [
    "Notar que Julia define los alias Vector{Type}=Array{Type,1} y Matrix{Type}=Array{Type,2}. \n",
    "\n",
    "#### **Multiplicación**\n",
    "\n",
    "La multiplicación se obtiene con el símbolo `*` al igual que en otros lenguajes"
   ]
  },
  {
   "cell_type": "code",
   "execution_count": null,
   "metadata": {},
   "outputs": [],
   "source": [
    "b = A*x"
   ]
  },
  {
   "cell_type": "markdown",
   "metadata": {},
   "source": [
    "También es válida entre matrices"
   ]
  },
  {
   "cell_type": "code",
   "execution_count": null,
   "metadata": {},
   "outputs": [],
   "source": [
    "B = [2 3 ; 1 4; 1 1]"
   ]
  },
  {
   "cell_type": "code",
   "execution_count": null,
   "metadata": {},
   "outputs": [],
   "source": [
    "A*B"
   ]
  },
  {
   "cell_type": "markdown",
   "metadata": {},
   "source": [
    "#### **Adjunta**\n",
    "También como en otros lenguajes, `A'` es la adjunta o transpuesta conjugada"
   ]
  },
  {
   "cell_type": "code",
   "execution_count": null,
   "metadata": {},
   "outputs": [],
   "source": [
    "A'"
   ]
  },
  {
   "cell_type": "markdown",
   "metadata": {},
   "source": [
    "#### **Transpuesta**\n",
    "\n",
    "La transpuesta puede obtenerse como"
   ]
  },
  {
   "cell_type": "code",
   "execution_count": null,
   "metadata": {},
   "outputs": [],
   "source": [
    "transpose(A)"
   ]
  },
  {
   "cell_type": "markdown",
   "metadata": {},
   "source": [
    "#### **Multiplicación transpuesta**\n",
    "Julia permite escribir este producto prescindiendo del símbolo `*`"
   ]
  },
  {
   "cell_type": "code",
   "execution_count": null,
   "metadata": {},
   "outputs": [],
   "source": [
    "A'A"
   ]
  },
  {
   "cell_type": "markdown",
   "metadata": {},
   "source": [
    "#### **Sistemas de ecuaciones lineales** \n",
    "La solución al problema $Ax=b$ para una matriz cuadrada $A$ se obtiene con la función `\\`"
   ]
  },
  {
   "cell_type": "code",
   "execution_count": null,
   "metadata": {},
   "outputs": [],
   "source": [
    "A\\b"
   ]
  },
  {
   "cell_type": "markdown",
   "metadata": {},
   "source": [
    "# La librería LinearAlgebra\n",
    "\n",
    "Existe una librería estándar llamada \"LinearAlgebra\" que contiene muchas funciones adicionales a las que se encuentran disponibles en Julia por defecto. La librería puede importarse como:"
   ]
  },
  {
   "cell_type": "code",
   "execution_count": null,
   "metadata": {},
   "outputs": [],
   "source": [
    "using LinearAlgebra"
   ]
  },
  {
   "cell_type": "markdown",
   "metadata": {},
   "source": [
    "### **Operaciones entre vectores**\n",
    "\n",
    "Las operaciones básicas entre vectores se pueden realizar fácilmente con la librería LinearAlgebra\n",
    "\n",
    "Definimos dos vectores"
   ]
  },
  {
   "cell_type": "code",
   "execution_count": null,
   "metadata": {},
   "outputs": [],
   "source": [
    "x = [1,2,3]"
   ]
  },
  {
   "cell_type": "code",
   "execution_count": null,
   "metadata": {},
   "outputs": [],
   "source": [
    "y = [-1,4,2]"
   ]
  },
  {
   "cell_type": "markdown",
   "metadata": {},
   "source": [
    "#### **Producto escalar**\n"
   ]
  },
  {
   "cell_type": "code",
   "execution_count": null,
   "metadata": {},
   "outputs": [],
   "source": [
    "dot(x,y)"
   ]
  },
  {
   "cell_type": "code",
   "execution_count": null,
   "metadata": {},
   "outputs": [],
   "source": [
    "x⋅y   #también podemos escribirlo de esta forma. Para obtener ese punto escriba \\cdot + <tab>"
   ]
  },
  {
   "cell_type": "markdown",
   "metadata": {},
   "source": [
    "#### **Producto vectorial**"
   ]
  },
  {
   "cell_type": "code",
   "execution_count": null,
   "metadata": {},
   "outputs": [],
   "source": [
    "cross(x,y)"
   ]
  },
  {
   "cell_type": "code",
   "execution_count": null,
   "metadata": {},
   "outputs": [],
   "source": [
    "x × y   #De manera similar al producto escalar, podemos usar una × para el producto vectorial. Para esto\n",
    "      #escriba \\times + <tab>"
   ]
  },
  {
   "cell_type": "markdown",
   "metadata": {},
   "source": [
    "#### **Norma de un vector**"
   ]
  },
  {
   "cell_type": "code",
   "execution_count": null,
   "metadata": {},
   "outputs": [],
   "source": [
    "println(norm(x))         #Por defecto esta es la norma L2 (|x| = sqrt(x[1]^2 + x[2]^2 + x[3]^2))\n",
    "println(norm(x,1))       #Norma L1: |x| = |x[1]| + |x[2]| + |x[3]|\n",
    "println(norm(x, Inf))    #Norma ∞: |x| = max(|x[1]|, |x[2]|, |x[3]|)\n",
    "println(opnorm(A, Inf))  #opnorm calcula la norma inducida en matrices"
   ]
  },
  {
   "cell_type": "markdown",
   "metadata": {},
   "source": [
    "### Ejercicios\n",
    "\n",
    "1) A partir de la fórmula \n",
    "\\begin{equation}\n",
    "x \\cdot y = | x | | y | \\cos(\\theta)\n",
    "\\end{equation}\n",
    "calcule el coseno del ángulo entre los vectores\n",
    "\\begin{align*}\n",
    "x &= (2,1,0) \\\\ y &= (0,-1,1)\n",
    "\\end{align*}"
   ]
  },
  {
   "cell_type": "code",
   "execution_count": null,
   "metadata": {},
   "outputs": [],
   "source": [
    "function cosine(x_vector,y_vector)\n",
    "    #using LinearAlgebra\n",
    "    return (dot(x_vector,y_vector)/sqrt((dot(x_vector,x_vector)*dot(y_vector,y_vector))))\n",
    "end\n",
    "#Resultado : cos(θ) ≈ -0.31623"
   ]
  },
  {
   "cell_type": "code",
   "execution_count": null,
   "metadata": {},
   "outputs": [],
   "source": [
    "x_vector=[2,1,0];y_vector=[0,-1,1];\n",
    "println(\"cos(θ)=\",cosine(x_vector,y_vector))"
   ]
  },
  {
   "cell_type": "markdown",
   "metadata": {},
   "source": [
    "2) A partir de la fórmula \n",
    "\\begin{equation}\n",
    "| x \\times y | = | x | | y | \\sin(\\theta)\n",
    "\\end{equation}\n",
    "calcule el seno del ángulo entre los vectores\n",
    "\\begin{align*}\n",
    "x &= (1,3,2) \\\\ y &= (1,0,1)\n",
    "\\end{align*}"
   ]
  },
  {
   "cell_type": "code",
   "execution_count": null,
   "metadata": {},
   "outputs": [],
   "source": [
    "function sine(x_vector,y_vector)\n",
    "    #using LinearAlgebra\n",
    "    new_vector = cross(x_vector,y_vector)\n",
    "    module_new_vector = sqrt(dot(new_vector,new_vector))\n",
    "    module_x_vector = sqrt(dot(x_vector,x_vector))\n",
    "    module_y_vector = sqrt(dot(y_vector,y_vector))  \n",
    "    return (module_new_vector/(module_x_vector*module_y_vector))\n",
    "end\n",
    "#Resultado : sin(θ) ≈ 0.82375"
   ]
  },
  {
   "cell_type": "code",
   "execution_count": null,
   "metadata": {},
   "outputs": [],
   "source": [
    "x_vector=[1,3,2];y_vector=[1,0,1];\n",
    "println(\"sin(θ)=\",sine(x_vector,y_vector))"
   ]
  },
  {
   "cell_type": "markdown",
   "metadata": {},
   "source": [
    "### **Cantidades algebraicas**\n",
    "\n",
    "También podemos calcular fácilmente los invariantes algebraicos asociados a una matriz: la traza, el determinante, el rango, los autovalores y los autovectores.\n",
    "\n",
    "Definimos una matriz aleatoria"
   ]
  },
  {
   "cell_type": "code",
   "execution_count": null,
   "metadata": {},
   "outputs": [],
   "source": [
    "A = rand(1:5,4,4)"
   ]
  },
  {
   "cell_type": "markdown",
   "metadata": {},
   "source": [
    "Y construimos otra matiz de menor rango "
   ]
  },
  {
   "cell_type": "code",
   "execution_count": null,
   "metadata": {},
   "outputs": [],
   "source": [
    "B = copy(A)\n",
    "#Construimos una matriz de rango 2 haciendo que la tercera y cuarta fila sean combinaciones lineales de la primera\n",
    "#y segunda.\n",
    "B[3,:] .= 2*B[1,:]-B[2,:]  #fila_3 = 2* fila_1 - fila_2\n",
    "B[4,:] .= B[1,:]+2*B[2,:]  #fila_4 = fila_1 + 2*fila_2\n",
    "B"
   ]
  },
  {
   "cell_type": "markdown",
   "metadata": {},
   "source": [
    "#### **Traza**"
   ]
  },
  {
   "cell_type": "code",
   "execution_count": null,
   "metadata": {},
   "outputs": [],
   "source": [
    "tr(A)"
   ]
  },
  {
   "cell_type": "markdown",
   "metadata": {},
   "source": [
    "#### **Determinante**"
   ]
  },
  {
   "cell_type": "code",
   "execution_count": null,
   "metadata": {},
   "outputs": [],
   "source": [
    "det(A)"
   ]
  },
  {
   "cell_type": "code",
   "execution_count": null,
   "metadata": {},
   "outputs": [],
   "source": [
    "det(B)"
   ]
  },
  {
   "cell_type": "markdown",
   "metadata": {},
   "source": [
    "#### **Rango**"
   ]
  },
  {
   "cell_type": "code",
   "execution_count": null,
   "metadata": {},
   "outputs": [],
   "source": [
    "rank(A)"
   ]
  },
  {
   "cell_type": "code",
   "execution_count": null,
   "metadata": {},
   "outputs": [],
   "source": [
    "rank(B)"
   ]
  },
  {
   "cell_type": "markdown",
   "metadata": {},
   "source": [
    "#### **Autovalores y autovectores**\n",
    "\n",
    "Definimos una matriz sencilla"
   ]
  },
  {
   "cell_type": "code",
   "execution_count": null,
   "metadata": {},
   "outputs": [],
   "source": [
    "C = [1 -1 ; 2 4]"
   ]
  },
  {
   "cell_type": "markdown",
   "metadata": {},
   "source": [
    "La siguiente función devuelve los autovalores de la matriz (en general pueden ser complejos)"
   ]
  },
  {
   "cell_type": "code",
   "execution_count": null,
   "metadata": {},
   "outputs": [],
   "source": [
    "eigvals(C)"
   ]
  },
  {
   "cell_type": "markdown",
   "metadata": {},
   "source": [
    "Análogamente se pueden calcular los autovectores (los devuelve como columnas)"
   ]
  },
  {
   "cell_type": "code",
   "execution_count": null,
   "metadata": {},
   "outputs": [],
   "source": [
    "eigvecs(C)"
   ]
  },
  {
   "cell_type": "markdown",
   "metadata": {},
   "source": [
    "### Ejercicios\n",
    "\n",
    "3) Calcule el rango de la matriz $$A = \\begin{pmatrix} 1 & 3 & 1\\\\ 2 & 0 & 1\\\\ 4 & 1 & -1 \\end{pmatrix}$$ y halle sus autovalores y autovectores."
   ]
  },
  {
   "cell_type": "code",
   "execution_count": null,
   "metadata": {},
   "outputs": [],
   "source": [
    "# definimos la matriz A\n",
    "A = [1 3 1 ; 2 0 1 ; 4 1 -1]"
   ]
  },
  {
   "cell_type": "code",
   "execution_count": null,
   "metadata": {},
   "outputs": [],
   "source": [
    "@show rank(A);"
   ]
  },
  {
   "cell_type": "code",
   "execution_count": null,
   "metadata": {},
   "outputs": [],
   "source": [
    "eigvals(A)"
   ]
  },
  {
   "cell_type": "code",
   "execution_count": null,
   "metadata": {},
   "outputs": [],
   "source": [
    "eigvecs(A)"
   ]
  },
  {
   "cell_type": "code",
   "execution_count": null,
   "metadata": {},
   "outputs": [],
   "source": [
    "# verificamos con ecuación de autovalores\n",
    "eigenvals_vector = copy(eigvals(A)); # hacemos un vector con los autovalores\n",
    "eigenvectors_matrix = copy(eigvecs(A)); # hacemos una matriz con los autovectores\n",
    "Id = 1*Matrix{ComplexF64}(I,3,3); # definimos una matriz identidad 3x3\n",
    "eigenvals_matrix = copy(Id); # hacemos una compia de dicha matriz para poder modificarla\n",
    "\n",
    "for i=1:length(eigenvals_vector)\n",
    "    # creamos la matriz Id*λ\n",
    "    eigenvals_matrix[1,1] = eigenvals_vector[i];\n",
    "    eigenvals_matrix[2,2] = eigenvals_vector[i];\n",
    "    eigenvals_matrix[3,3] = eigenvals_vector[i];\n",
    "\n",
    "    # creamos el vector con un dado autovalor asociado a λ\n",
    "    eigenvecs_vector = eigenvectors_matrix[:,i]\n",
    "\n",
    "    # computamos y mostramos en pantalla\n",
    "    println(\"λ=\",eigenvals_vector[i])\n",
    "    println(\"(A-Id*λ)eigenvecs=\",((A - eigenvals_matrix) * eigenvecs_vector))\n",
    "    println()\n",
    "end\n",
    "\n",
    "# si son correctos, el resultado debería ser muy cercano a cero. (en el orden de precisión de la máquina)\n"
   ]
  },
  {
   "cell_type": "markdown",
   "metadata": {},
   "source": [
    "### **Operaciones sobre matrices**"
   ]
  },
  {
   "cell_type": "markdown",
   "metadata": {},
   "source": [
    "#### **Matriz inversa**\n",
    "\n",
    "La siguiente función devuelve la inversa de una matriz cuadrada no singular"
   ]
  },
  {
   "cell_type": "code",
   "execution_count": null,
   "metadata": {},
   "outputs": [],
   "source": [
    "inv(C)"
   ]
  },
  {
   "cell_type": "markdown",
   "metadata": {},
   "source": [
    "#### **Potencias**"
   ]
  },
  {
   "cell_type": "code",
   "execution_count": null,
   "metadata": {},
   "outputs": [],
   "source": [
    "C^5"
   ]
  },
  {
   "cell_type": "markdown",
   "metadata": {},
   "source": [
    "#### **Exponencial**"
   ]
  },
  {
   "cell_type": "code",
   "execution_count": null,
   "metadata": {},
   "outputs": [],
   "source": [
    "exp(C)"
   ]
  },
  {
   "cell_type": "markdown",
   "metadata": {},
   "source": [
    "Pueden encontrarse varias funciones más, definidas a través de su serie, como `sqrt`,`log`, `cos`, `sin`, `cosh`, `asin`, etc. "
   ]
  },
  {
   "cell_type": "markdown",
   "metadata": {},
   "source": [
    "### Ejercicios\n",
    "\n",
    "4) Calcule la inversa de la matriz del ejercicio (3) y verifique que $\\det(A)\\det(A^{-1})=1$"
   ]
  },
  {
   "cell_type": "code",
   "execution_count": null,
   "metadata": {},
   "outputs": [],
   "source": [
    "A = [1 3 1 ; 2 0 1 ; 4 1 -1];\n",
    "inv_A = copy(inv(A))"
   ]
  },
  {
   "cell_type": "code",
   "execution_count": null,
   "metadata": {},
   "outputs": [],
   "source": [
    "# verificamos $\\det(A)\\det(A^{-1})=1$\n",
    "@assert (det(A)*det(inv_A) == 1)"
   ]
  },
  {
   "cell_type": "markdown",
   "metadata": {},
   "source": [
    "5) Verifique la famosa identidad $\\det(\\exp(A))= \\exp(\\operatorname{tr}(A))$ para la matriz del ejercicio (3)"
   ]
  },
  {
   "cell_type": "code",
   "execution_count": null,
   "metadata": {},
   "outputs": [],
   "source": [
    "# verificamos\n",
    "A = [1 3 1 ; 2 0 1 ; 4 1 -1];\n",
    "(det(exp(A)) == exp(tr(A))) ? println(\"verificado!\") : println(\"no-verificado\")\n",
    "\n",
    "println(\"det(exp(A))=\",det(exp(A)));\n",
    "println(\"exp(tr(A))=\",exp(tr(A)));"
   ]
  },
  {
   "cell_type": "markdown",
   "metadata": {},
   "source": [
    "### **Tipos especiales de matrices**\n",
    "\n",
    "Existen funciones que declaran tipos especiales de matrices, como matrices simétricas, hermíticas, triangulares, diagonales, tridiagonales, etc. En muchos casos estos tipos tienen métodos especiales para realizar ciertas operaciones en forma más eficiente, aprovechando las propiedades de la matriz. Aquí mostramos dos ejemplos que serán frecuentes:"
   ]
  },
  {
   "cell_type": "markdown",
   "metadata": {},
   "source": [
    "#### **Diagonal**"
   ]
  },
  {
   "cell_type": "code",
   "execution_count": null,
   "metadata": {},
   "outputs": [],
   "source": [
    "d = [1,2,3]\n",
    "D = Diagonal(d)"
   ]
  },
  {
   "cell_type": "markdown",
   "metadata": {},
   "source": [
    "#### **Tridiagonal**"
   ]
  },
  {
   "cell_type": "code",
   "execution_count": null,
   "metadata": {},
   "outputs": [],
   "source": [
    "dl = [4,5,6]\n",
    "du = [2,3,4]\n",
    "d = [1,2,3,4]\n",
    "\n",
    "T = Tridiagonal(dl,d,du)"
   ]
  },
  {
   "cell_type": "markdown",
   "metadata": {},
   "source": [
    "### Ejercicios\n",
    "\n",
    "6) Declare la matriz $$A = \\begin{pmatrix} 3 & 0 & 0\\\\ 0 & 1 & 0\\\\ 0 & 0 & 5 \\end{pmatrix}$$ usando la función `Diagonal` y verifique que `eigvals` devuelve los autovalores correctos. También verifique que `eigvecs` devuelve los vectores de la base canónica."
   ]
  },
  {
   "cell_type": "code",
   "execution_count": null,
   "metadata": {},
   "outputs": [],
   "source": [
    "# calculos con matriz completa\n",
    "A = Matrix{Int64}(undef, 3, 3);\n",
    "A[1,1]=3;A[2,2]=1;A[3,3]=5;\n",
    "A"
   ]
  },
  {
   "cell_type": "code",
   "execution_count": null,
   "metadata": {},
   "outputs": [],
   "source": [
    "eigvals(A)"
   ]
  },
  {
   "cell_type": "code",
   "execution_count": null,
   "metadata": {},
   "outputs": [],
   "source": [
    "eigvecs(A)"
   ]
  },
  {
   "cell_type": "code",
   "execution_count": null,
   "metadata": {},
   "outputs": [],
   "source": [
    "# calculos con matriz diagonal\n",
    "A = Diagonal([3,1,5])"
   ]
  },
  {
   "cell_type": "code",
   "execution_count": null,
   "metadata": {},
   "outputs": [],
   "source": [
    "eigvals(A)"
   ]
  },
  {
   "cell_type": "code",
   "execution_count": null,
   "metadata": {},
   "outputs": [],
   "source": [
    "eigvecs(A)"
   ]
  },
  {
   "cell_type": "markdown",
   "metadata": {},
   "source": [
    "### **Multiplicación eficiente de matrices (opcional)**\n",
    "\n",
    "Existen funciones de nivel bajo que permiten calcular operaciones entre matrices y vectores haciendo un uso eficiente de memoria. Estas funciones podrán serles de utilidad en la resolución numérica de ecuaciones diferenciales, que involucran una gran cantidad de operaciones matriciales, para ahorrar tiempo de cómputo en forma notable."
   ]
  },
  {
   "cell_type": "markdown",
   "metadata": {},
   "source": [
    "Definamos una nueva matriz $A$ y un vector $x$"
   ]
  },
  {
   "cell_type": "code",
   "execution_count": null,
   "metadata": {},
   "outputs": [],
   "source": [
    "A = rand(1:4,3,3)"
   ]
  },
  {
   "cell_type": "code",
   "execution_count": null,
   "metadata": {},
   "outputs": [],
   "source": [
    "x = [1, 2, 3]"
   ]
  },
  {
   "cell_type": "markdown",
   "metadata": {},
   "source": [
    "Y creamos un vector $C$ con la misma forma que $x$"
   ]
  },
  {
   "cell_type": "code",
   "execution_count": null,
   "metadata": {},
   "outputs": [],
   "source": [
    "C = [2,0,1]"
   ]
  },
  {
   "cell_type": "markdown",
   "metadata": {},
   "source": [
    "La siguiente función calcula en forma eficiente el producto $\\alpha Ax + \\beta C$ y lo almacena en $C$ sobreescribiéndolo ($\\alpha$ y $\\beta$ son números arbitrarios)."
   ]
  },
  {
   "cell_type": "code",
   "execution_count": null,
   "metadata": {},
   "outputs": [],
   "source": [
    "α = 2\n",
    "β = -3\n",
    "\n",
    "mul!(C,A,x,α,β)"
   ]
  },
  {
   "cell_type": "markdown",
   "metadata": {},
   "source": [
    "Puesto que es el caso más común, tomamos $x$ como un vector, pero también podría ser una matriz:"
   ]
  },
  {
   "cell_type": "code",
   "execution_count": null,
   "metadata": {},
   "outputs": [],
   "source": [
    "B = rand(1:4,3,3)\n",
    "C = rand(1:4,3,3)\n",
    "\n",
    "mul!(C,A,B,α,β)"
   ]
  }
 ],
 "metadata": {
  "kernelspec": {
   "display_name": "Julia 1.8.0",
   "language": "julia",
   "name": "julia-1.8"
  },
  "language_info": {
   "file_extension": ".jl",
   "mimetype": "application/julia",
   "name": "julia",
   "version": "1.8.0"
  }
 },
 "nbformat": 4,
 "nbformat_minor": 4
}
