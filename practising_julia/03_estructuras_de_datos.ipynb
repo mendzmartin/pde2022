{
 "cells": [
  {
   "cell_type": "markdown",
   "metadata": {},
   "source": [
    "# Estructuras de datos\n",
    "\n",
    "Cuando tengamos que trabajar con muchos datos simultáneamente, será conveniente guardarlos en estructuras de datos. <br>\n",
    "\n",
    "En este notebook cubriremos:\n",
    "1. Tuplas (Tuples)\n",
    "2. Diccionarios (Dictionarys)\n",
    "3. Arreglos (Arrays)\n",
    "\n",
    "<br>\n",
    "A grandes rasgos, las tuplas y los arreglos son ordenados (por lo cual podemos usar índices con ellos), y los diccionarios y areglos son mutables.\n",
    "¡Explicaremos más más abajo!"
   ]
  },
  {
   "cell_type": "markdown",
   "metadata": {},
   "source": [
    "## Tuplas\n",
    "\n",
    "Podemos crear una tupla encerrando una colección de elementos entre paréntesis `( )`.\n",
    "\n",
    "Sintaxis: <br>\n",
    "```julia\n",
    "(item1, item2, ...)\n",
    "```\n"
   ]
  },
  {
   "cell_type": "code",
   "execution_count": 16,
   "metadata": {},
   "outputs": [
    {
     "data": {
      "text/plain": [
       "Tuple{String, String, String}"
      ]
     },
     "execution_count": 16,
     "metadata": {},
     "output_type": "execute_result"
    }
   ],
   "source": [
    "misanimalesfavoritos = (\"pingüinos\", \"gatos\", \"hipopótamos\")"
   ]
  },
  {
   "cell_type": "code",
   "execution_count": 17,
   "metadata": {},
   "outputs": [
    {
     "data": {
      "text/plain": [
       "Tuple{String, String, String}"
      ]
     },
     "execution_count": 17,
     "metadata": {},
     "output_type": "execute_result"
    }
   ],
   "source": [
    "typeof(misanimalesfavoritos)"
   ]
  },
  {
   "cell_type": "markdown",
   "metadata": {},
   "source": [
    "Podemos usar un índice para leer elementos de la tupla."
   ]
  },
  {
   "cell_type": "code",
   "execution_count": 2,
   "metadata": {},
   "outputs": [
    {
     "data": {
      "text/plain": [
       "\"pingüinos\""
      ]
     },
     "execution_count": 2,
     "metadata": {},
     "output_type": "execute_result"
    }
   ],
   "source": [
    "misanimalesfavoritos[1]"
   ]
  },
  {
   "cell_type": "markdown",
   "metadata": {},
   "source": [
    "Las tuplas son inmutables, es decir, una vez creadas no podemos cambiar sus elementos:"
   ]
  },
  {
   "cell_type": "code",
   "execution_count": 3,
   "metadata": {},
   "outputs": [
    {
     "ename": "LoadError",
     "evalue": "MethodError: no method matching setindex!(::Tuple{String, String, String}, ::String, ::Int64)",
     "output_type": "error",
     "traceback": [
      "MethodError: no method matching setindex!(::Tuple{String, String, String}, ::String, ::Int64)",
      "",
      "Stacktrace:",
      " [1] top-level scope",
      "   @ In[3]:1",
      " [2] eval",
      "   @ ./boot.jl:373 [inlined]",
      " [3] include_string(mapexpr::typeof(REPL.softscope), mod::Module, code::String, filename::String)",
      "   @ Base ./loading.jl:1196"
     ]
    }
   ],
   "source": [
    "misanimalesfavoritos[1] = \"marmota\""
   ]
  },
  {
   "cell_type": "markdown",
   "metadata": {},
   "source": [
    "**ACLARACIÓN IMPORTANTE:** Note que utilizamos el índice `1` para referirnos al primer elemento. En otros lenguajes de programación (por ejemplo Python), una tupla o arreglo de `N` elementos se indexa con los números del `0` al `N-1`. En Julia los índices van de `1` a `N`, independientemente de las preferencias personales del escritor de esta aclaración."
   ]
  },
  {
   "cell_type": "markdown",
   "metadata": {},
   "source": [
    "## TuplasNombradas (NamedTuples): ¡Desde Julia 1.6 en adelante!\n",
    "\n",
    "Las tuplas nombradas son iguales a las tuplas, solo que podemos agregarle un nombre a los elementos.\n",
    "```julia\n",
    "(nombre1 = item1, nombre2 = item2, ...)\n",
    "```\n",
    "Note que en una tupla nombrada todos los elementos deben tener nombre."
   ]
  },
  {
   "cell_type": "code",
   "execution_count": 4,
   "metadata": {},
   "outputs": [
    {
     "data": {
      "text/plain": [
       "(aves = \"pingüino\", felinos = \"gato\", anfibios = \"hipopótamos\")"
      ]
     },
     "execution_count": 4,
     "metadata": {},
     "output_type": "execute_result"
    }
   ],
   "source": [
    "misanimalesfavoritos = (aves = \"pingüino\", felinos = \"gato\", anfibios = \"hipopótamos\")"
   ]
  },
  {
   "cell_type": "markdown",
   "metadata": {},
   "source": [
    "Podemos acceder a sus elementos usando índices"
   ]
  },
  {
   "cell_type": "code",
   "execution_count": 5,
   "metadata": {},
   "outputs": [
    {
     "data": {
      "text/plain": [
       "\"pingüino\""
      ]
     },
     "execution_count": 5,
     "metadata": {},
     "output_type": "execute_result"
    }
   ],
   "source": [
    "misanimalesfavoritos[1]"
   ]
  },
  {
   "cell_type": "markdown",
   "metadata": {},
   "source": [
    "Pero también podemos usar sus nombres"
   ]
  },
  {
   "cell_type": "code",
   "execution_count": 6,
   "metadata": {},
   "outputs": [
    {
     "data": {
      "text/plain": [
       "\"hipopótamos\""
      ]
     },
     "execution_count": 6,
     "metadata": {},
     "output_type": "execute_result"
    }
   ],
   "source": [
    "misanimalesfavoritos.anfibios"
   ]
  },
  {
   "cell_type": "markdown",
   "metadata": {},
   "source": [
    "## Diccionarios\n",
    "\n",
    "Si tenemos varios sets de datos relacionados entre sí, podemos elegir guardarlos en un diccionario. Podemos crear diccionarios utilizando la función `Dict()`, la cual nos permite inicializar diccionarios vacíos o con pares `key` (clave) `value` (valor).\n",
    "\n",
    "Sintaxis:\n",
    "```julia\n",
    "Dict(key1 => value1, key2 => value2, ...)\n",
    "```\n",
    "Podríamos por ejemplo crear un diccionario para guardar una lista de contáctos"
   ]
  },
  {
   "cell_type": "code",
   "execution_count": 7,
   "metadata": {},
   "outputs": [
    {
     "data": {
      "text/plain": [
       "Dict{String, String} with 2 entries:\n",
       "  \"Angélica\" => \"867-5309\"\n",
       "  \"Eliza\"    => \"555-2368\""
      ]
     },
     "execution_count": 7,
     "metadata": {},
     "output_type": "execute_result"
    }
   ],
   "source": [
    "miscontactos = Dict(\"Angélica\" => \"867-5309\", \"Eliza\" => \"555-2368\")"
   ]
  },
  {
   "cell_type": "markdown",
   "metadata": {},
   "source": [
    "En este ejemplo, cada nombre y número es un par \"key\" \"valor\". Podemos leer el número de teléfono de Angélica (valor) usando la \"key\" asociada:"
   ]
  },
  {
   "cell_type": "code",
   "execution_count": 8,
   "metadata": {},
   "outputs": [
    {
     "data": {
      "text/plain": [
       "\"867-5309\""
      ]
     },
     "execution_count": 8,
     "metadata": {},
     "output_type": "execute_result"
    }
   ],
   "source": [
    "miscontactos[\"Angélica\"]"
   ]
  },
  {
   "cell_type": "markdown",
   "metadata": {},
   "source": [
    "Podemos agregar más elementos al diccionario de manera sencilla"
   ]
  },
  {
   "cell_type": "code",
   "execution_count": 9,
   "metadata": {},
   "outputs": [
    {
     "data": {
      "text/plain": [
       "\"555-0234\""
      ]
     },
     "execution_count": 9,
     "metadata": {},
     "output_type": "execute_result"
    }
   ],
   "source": [
    "miscontactos[\"Peggy\"] = \"555-0234\""
   ]
  },
  {
   "cell_type": "markdown",
   "metadata": {},
   "source": [
    "O modificar entradas existentes"
   ]
  },
  {
   "cell_type": "code",
   "execution_count": 10,
   "metadata": {},
   "outputs": [
    {
     "data": {
      "text/plain": [
       "\"999-1245\""
      ]
     },
     "execution_count": 10,
     "metadata": {},
     "output_type": "execute_result"
    }
   ],
   "source": [
    "miscontactos[\"Angélica\"] = \"999-1245\""
   ]
  },
  {
   "cell_type": "markdown",
   "metadata": {},
   "source": [
    "Veamos cómo se ve el diccionario ahora"
   ]
  },
  {
   "cell_type": "code",
   "execution_count": 11,
   "metadata": {},
   "outputs": [
    {
     "data": {
      "text/plain": [
       "Dict{String, String} with 3 entries:\n",
       "  \"Peggy\"    => \"555-0234\"\n",
       "  \"Angélica\" => \"999-1245\"\n",
       "  \"Eliza\"    => \"555-2368\""
      ]
     },
     "execution_count": 11,
     "metadata": {},
     "output_type": "execute_result"
    }
   ],
   "source": [
    "miscontactos"
   ]
  },
  {
   "cell_type": "markdown",
   "metadata": {},
   "source": [
    "Podemos quitar un elemento del diccionario usando `pop!`"
   ]
  },
  {
   "cell_type": "code",
   "execution_count": 12,
   "metadata": {},
   "outputs": [
    {
     "data": {
      "text/plain": [
       "\"555-0234\""
      ]
     },
     "execution_count": 12,
     "metadata": {},
     "output_type": "execute_result"
    }
   ],
   "source": [
    "pop!(miscontactos, \"Peggy\")"
   ]
  },
  {
   "cell_type": "code",
   "execution_count": 13,
   "metadata": {},
   "outputs": [
    {
     "data": {
      "text/plain": [
       "Dict{String, String} with 2 entries:\n",
       "  \"Angélica\" => \"999-1245\"\n",
       "  \"Eliza\"    => \"555-2368\""
      ]
     },
     "execution_count": 13,
     "metadata": {},
     "output_type": "execute_result"
    }
   ],
   "source": [
    "miscontactos"
   ]
  },
  {
   "cell_type": "markdown",
   "metadata": {},
   "source": [
    "A diferencia de los arrays y las tuplas, los diccionarios no están ordenados. Fíjese que las veces que verificamos los contenidos del diccionario escribiendo `miscontactos`, el orden en que aparecieron las entradas fue aleatorio. Por esta razón no podemos usar índices con los diccionarios."
   ]
  },
  {
   "cell_type": "code",
   "execution_count": 14,
   "metadata": {},
   "outputs": [
    {
     "ename": "LoadError",
     "evalue": "KeyError: key 1 not found",
     "output_type": "error",
     "traceback": [
      "KeyError: key 1 not found",
      "",
      "Stacktrace:",
      " [1] getindex(h::Dict{String, String}, key::Int64)",
      "   @ Base ./dict.jl:481",
      " [2] top-level scope",
      "   @ In[14]:1",
      " [3] eval",
      "   @ ./boot.jl:373 [inlined]",
      " [4] include_string(mapexpr::typeof(REPL.softscope), mod::Module, code::String, filename::String)",
      "   @ Base ./loading.jl:1196"
     ]
    }
   ],
   "source": [
    "miscontactos[1]"
   ]
  },
  {
   "cell_type": "markdown",
   "metadata": {},
   "source": [
    "En este ejemplo, `julia` cree que estás buscando el valor asociado con el key `1`, que no existe."
   ]
  },
  {
   "cell_type": "markdown",
   "metadata": {},
   "source": [
    "## Arreglos\n",
    "\n",
    "Los arreglos son muy similares a las tuplas, pero sus elementos sí se pueden modificar.\n",
    "\n",
    "Sintaxis: <br>\n",
    "```julia\n",
    "[item1, item2, ...]\n",
    "```\n",
    "\n",
    "Por ejemplo, puedo crear un arreglo de mis gemas favoritas"
   ]
  },
  {
   "cell_type": "code",
   "execution_count": 15,
   "metadata": {},
   "outputs": [
    {
     "data": {
      "text/plain": [
       "7-element Vector{String}:\n",
       " \"Lapislázuli\"\n",
       " \"Perla\"\n",
       " \"Cuarzo Rosa\"\n",
       " \"Ametista\"\n",
       " \"Rubí\"\n",
       " \"Zafiro\"\n",
       " \"Granate\""
      ]
     },
     "execution_count": 15,
     "metadata": {},
     "output_type": "execute_result"
    }
   ],
   "source": [
    "gemas = [\"Lapislázuli\", \"Perla\", \"Cuarzo Rosa\", \"Ametista\", \"Rubí\", \"Zafiro\", \"Granate\"]"
   ]
  },
  {
   "cell_type": "code",
   "execution_count": 18,
   "metadata": {},
   "outputs": [
    {
     "data": {
      "text/plain": [
       "Vector{String} (alias for Array{String, 1})"
      ]
     },
     "execution_count": 18,
     "metadata": {},
     "output_type": "execute_result"
    }
   ],
   "source": [
    "typeof(gemas)"
   ]
  },
  {
   "cell_type": "markdown",
   "metadata": {},
   "source": [
    "El `1` de `Array{String,1}` significa que es un Array de una dimensión.  Un `Array{String,2}` sería de dos dimensiones (una matriz), etc. `String` is el tipo de cada elemento."
   ]
  },
  {
   "cell_type": "markdown",
   "metadata": {},
   "source": [
    "También podemos guardar números"
   ]
  },
  {
   "cell_type": "code",
   "execution_count": 19,
   "metadata": {},
   "outputs": [
    {
     "data": {
      "text/plain": [
       "7-element Vector{Int64}:\n",
       "  1\n",
       "  1\n",
       "  2\n",
       "  3\n",
       "  5\n",
       "  8\n",
       " 13"
      ]
     },
     "execution_count": 19,
     "metadata": {},
     "output_type": "execute_result"
    }
   ],
   "source": [
    "fibonacci = [1, 1, 2, 3, 5, 8, 13]"
   ]
  },
  {
   "cell_type": "markdown",
   "metadata": {},
   "source": [
    "¡O combinar!"
   ]
  },
  {
   "cell_type": "code",
   "execution_count": 20,
   "metadata": {},
   "outputs": [
    {
     "data": {
      "text/plain": [
       "6-element Vector{Any}:\n",
       " 1\n",
       " 1\n",
       " 2\n",
       " 3\n",
       "  \"Zafiro\"\n",
       "  \"Rubí\""
      ]
     },
     "execution_count": 20,
     "metadata": {},
     "output_type": "execute_result"
    }
   ],
   "source": [
    "mezcla = [1, 1, 2, 3, \"Zafiro\", \"Rubí\"]"
   ]
  },
  {
   "cell_type": "markdown",
   "metadata": {},
   "source": [
    "Una vez que tenemos un arreglo, podemos acceder a sus elementos usando índice. Por ejemplo, si queremos ver cual es la tercera gema en la lista `gemas` escribimos"
   ]
  },
  {
   "cell_type": "code",
   "execution_count": 21,
   "metadata": {},
   "outputs": [
    {
     "data": {
      "text/plain": [
       "\"Cuarzo Rosa\""
      ]
     },
     "execution_count": 21,
     "metadata": {},
     "output_type": "execute_result"
    }
   ],
   "source": [
    "gemas[3]"
   ]
  },
  {
   "cell_type": "markdown",
   "metadata": {},
   "source": [
    "Podemos usar el índice para cambiar un elemento"
   ]
  },
  {
   "cell_type": "code",
   "execution_count": 22,
   "metadata": {},
   "outputs": [
    {
     "data": {
      "text/plain": [
       "\"Steven\""
      ]
     },
     "execution_count": 22,
     "metadata": {},
     "output_type": "execute_result"
    }
   ],
   "source": [
    "gemas[3] = \"Steven\""
   ]
  },
  {
   "cell_type": "code",
   "execution_count": 23,
   "metadata": {},
   "outputs": [
    {
     "data": {
      "text/plain": [
       "7-element Vector{String}:\n",
       " \"Lapislázuli\"\n",
       " \"Perla\"\n",
       " \"Steven\"\n",
       " \"Ametista\"\n",
       " \"Rubí\"\n",
       " \"Zafiro\"\n",
       " \"Granate\""
      ]
     },
     "execution_count": 23,
     "metadata": {},
     "output_type": "execute_result"
    }
   ],
   "source": [
    "gemas"
   ]
  },
  {
   "cell_type": "markdown",
   "metadata": {},
   "source": [
    "También podemos editar arrays usando las funciones `push!` y `pop!`. `push!` agrega un elemento al final del array y `pop!` elimina el último elemento de un array.\n",
    "\n",
    "Podemos agregar un número a la secuencia de fibonacci"
   ]
  },
  {
   "cell_type": "code",
   "execution_count": 24,
   "metadata": {},
   "outputs": [
    {
     "data": {
      "text/plain": [
       "8-element Vector{Int64}:\n",
       "  1\n",
       "  1\n",
       "  2\n",
       "  3\n",
       "  5\n",
       "  8\n",
       " 13\n",
       " 21"
      ]
     },
     "execution_count": 24,
     "metadata": {},
     "output_type": "execute_result"
    }
   ],
   "source": [
    "push!(fibonacci, 21)"
   ]
  },
  {
   "cell_type": "markdown",
   "metadata": {},
   "source": [
    "Y luego eliminarlo"
   ]
  },
  {
   "cell_type": "code",
   "execution_count": 25,
   "metadata": {},
   "outputs": [
    {
     "data": {
      "text/plain": [
       "21"
      ]
     },
     "execution_count": 25,
     "metadata": {},
     "output_type": "execute_result"
    }
   ],
   "source": [
    "pop!(fibonacci)"
   ]
  },
  {
   "cell_type": "code",
   "execution_count": 26,
   "metadata": {},
   "outputs": [
    {
     "data": {
      "text/plain": [
       "7-element Vector{Int64}:\n",
       "  1\n",
       "  1\n",
       "  2\n",
       "  3\n",
       "  5\n",
       "  8\n",
       " 13"
      ]
     },
     "execution_count": 26,
     "metadata": {},
     "output_type": "execute_result"
    }
   ],
   "source": [
    "fibonacci"
   ]
  },
  {
   "cell_type": "markdown",
   "metadata": {},
   "source": [
    "Hasta ahora hemos utilizado arreglos de una dimensión, pero estos pueden tener dimensión arbitraria.\n",
    "<br><br>\n",
    "Por ejemplo, los siguientes son arrays de arrays"
   ]
  },
  {
   "cell_type": "code",
   "execution_count": 27,
   "metadata": {},
   "outputs": [
    {
     "data": {
      "text/plain": [
       "\"Berenjena\""
      ]
     },
     "execution_count": 27,
     "metadata": {},
     "output_type": "execute_result"
    }
   ],
   "source": [
    "favoritos = [[\"Brócoli\", \"Berenjena\", \"Espinaca\"],[\"Pingüinos\", \"Gatos\", \"Hipopótamos\"]]\n",
    "favoritos[1][2]  #forma de acceder a los elementos de un arreglo de arreglos"
   ]
  },
  {
   "cell_type": "code",
   "execution_count": 28,
   "metadata": {},
   "outputs": [
    {
     "data": {
      "text/plain": [
       "3-element Vector{Vector{Int64}}:\n",
       " [1, 2, 3]\n",
       " [4, 5]\n",
       " [6, 7, 8, 9]"
      ]
     },
     "execution_count": 28,
     "metadata": {},
     "output_type": "execute_result"
    }
   ],
   "source": [
    "numeros = [[1, 2, 3], [4, 5], [6, 7, 8, 9]]"
   ]
  },
  {
   "cell_type": "markdown",
   "metadata": {},
   "source": [
    "Los siguientes dos son ejemplos de arrays bidimensionales y tridimensionales de números aleatorios entre 0 y 1."
   ]
  },
  {
   "cell_type": "code",
   "execution_count": 29,
   "metadata": {},
   "outputs": [
    {
     "data": {
      "text/plain": [
       "4×3 Matrix{Float64}:\n",
       " 0.157214   0.894853  0.375661\n",
       " 0.178866   0.975147  0.754258\n",
       " 0.0932494  0.924416  0.182343\n",
       " 0.453078   0.358664  0.867225"
      ]
     },
     "execution_count": 29,
     "metadata": {},
     "output_type": "execute_result"
    }
   ],
   "source": [
    "A = rand(4, 3) #matriz 4x3"
   ]
  },
  {
   "cell_type": "code",
   "execution_count": 32,
   "metadata": {},
   "outputs": [
    {
     "data": {
      "text/plain": [
       "0.8948534152129032"
      ]
     },
     "execution_count": 32,
     "metadata": {},
     "output_type": "execute_result"
    }
   ],
   "source": [
    "A[1,2]     #forma de acceder a los elementos de una matriz A[1][2] dará error\n",
    "           #note que el primer número indica fila y el segundo indica columna"
   ]
  },
  {
   "cell_type": "code",
   "execution_count": 33,
   "metadata": {},
   "outputs": [
    {
     "data": {
      "text/plain": [
       "4×3×2 Array{Float64, 3}:\n",
       "[:, :, 1] =\n",
       " 0.629816  0.549706  0.614519\n",
       " 0.904671  0.890294  0.561678\n",
       " 0.755543  0.926331  0.590984\n",
       " 0.100227  0.702597  0.660997\n",
       "\n",
       "[:, :, 2] =\n",
       " 0.404188  0.83967    0.220091\n",
       " 0.598368  0.161274   0.824898\n",
       " 0.413578  0.0236151  0.979353\n",
       " 0.264105  0.914657   0.974979"
      ]
     },
     "execution_count": 33,
     "metadata": {},
     "output_type": "execute_result"
    }
   ],
   "source": [
    "rand(4, 3, 2) #matrix 4x3x2"
   ]
  },
  {
   "cell_type": "markdown",
   "metadata": {},
   "source": [
    "**¡Cuidado a la hora de copiar arreglos!**\n",
    "Supongamos que quiero hacer una copia del arreglo `fibonacci`.\n",
    "Probemos hacerlo escribiendo `otrosnumeros = fibonacci`."
   ]
  },
  {
   "cell_type": "code",
   "execution_count": 34,
   "metadata": {},
   "outputs": [
    {
     "data": {
      "text/plain": [
       "7-element Vector{Int64}:\n",
       "  1\n",
       "  1\n",
       "  2\n",
       "  3\n",
       "  5\n",
       "  8\n",
       " 13"
      ]
     },
     "execution_count": 34,
     "metadata": {},
     "output_type": "execute_result"
    }
   ],
   "source": [
    "fibonacci"
   ]
  },
  {
   "cell_type": "code",
   "execution_count": 35,
   "metadata": {},
   "outputs": [
    {
     "data": {
      "text/plain": [
       "7-element Vector{Int64}:\n",
       "  1\n",
       "  1\n",
       "  2\n",
       "  3\n",
       "  5\n",
       "  8\n",
       " 13"
      ]
     },
     "execution_count": 35,
     "metadata": {},
     "output_type": "execute_result"
    }
   ],
   "source": [
    "otrosnumeros = fibonacci"
   ]
  },
  {
   "cell_type": "markdown",
   "metadata": {},
   "source": [
    "Por ahora todo parece andar bien. Tenemos aparentemente dos arreglos idénticos. Sin embargo, vea qué sucede con `fibonacci` si modificamos `otrosnumeros`:"
   ]
  },
  {
   "cell_type": "code",
   "execution_count": 36,
   "metadata": {},
   "outputs": [
    {
     "data": {
      "text/plain": [
       "404"
      ]
     },
     "execution_count": 36,
     "metadata": {},
     "output_type": "execute_result"
    }
   ],
   "source": [
    "otrosnumeros[1] = 404"
   ]
  },
  {
   "cell_type": "code",
   "execution_count": 37,
   "metadata": {},
   "outputs": [
    {
     "data": {
      "text/plain": [
       "7-element Vector{Int64}:\n",
       " 404\n",
       "   1\n",
       "   2\n",
       "   3\n",
       "   5\n",
       "   8\n",
       "  13"
      ]
     },
     "execution_count": 37,
     "metadata": {},
     "output_type": "execute_result"
    }
   ],
   "source": [
    "fibonacci"
   ]
  },
  {
   "cell_type": "markdown",
   "metadata": {},
   "source": [
    "¡Editar `otrosnumeros` también cambió `fibonacci`!.\n",
    "\n",
    "En el ejemplo anterior no creamos una copia de `fibonacci`. Solo creamos otra forma de acceder al arreglo `fibonacci`. Es decir, para Julia, `otrosnumeros` y `fibonacci` son dos nombres distintos para un mismo objeto.\n",
    "\n",
    "Si queremos hacer una copia independiente de `fibonacci` podemos hacerlo con la función `copy`"
   ]
  },
  {
   "cell_type": "code",
   "execution_count": 38,
   "metadata": {},
   "outputs": [
    {
     "data": {
      "text/plain": [
       "7-element Vector{Int64}:\n",
       "  1\n",
       "  1\n",
       "  2\n",
       "  3\n",
       "  5\n",
       "  8\n",
       " 13"
      ]
     },
     "execution_count": 38,
     "metadata": {},
     "output_type": "execute_result"
    }
   ],
   "source": [
    "# Primero, restauramos fibonacci\n",
    "fibonacci[1] = 1\n",
    "fibonacci"
   ]
  },
  {
   "cell_type": "code",
   "execution_count": 39,
   "metadata": {},
   "outputs": [
    {
     "data": {
      "text/plain": [
       "7-element Vector{Int64}:\n",
       "  1\n",
       "  1\n",
       "  2\n",
       "  3\n",
       "  5\n",
       "  8\n",
       " 13"
      ]
     },
     "execution_count": 39,
     "metadata": {},
     "output_type": "execute_result"
    }
   ],
   "source": [
    "otrosnumeros = copy(fibonacci)"
   ]
  },
  {
   "cell_type": "code",
   "execution_count": 40,
   "metadata": {},
   "outputs": [
    {
     "data": {
      "text/plain": [
       "404"
      ]
     },
     "execution_count": 40,
     "metadata": {},
     "output_type": "execute_result"
    }
   ],
   "source": [
    "otrosnumeros[1] = 404"
   ]
  },
  {
   "cell_type": "code",
   "execution_count": 41,
   "metadata": {},
   "outputs": [
    {
     "data": {
      "text/plain": [
       "7-element Vector{Int64}:\n",
       "  1\n",
       "  1\n",
       "  2\n",
       "  3\n",
       "  5\n",
       "  8\n",
       " 13"
      ]
     },
     "execution_count": 41,
     "metadata": {},
     "output_type": "execute_result"
    }
   ],
   "source": [
    "fibonacci"
   ]
  },
  {
   "cell_type": "markdown",
   "metadata": {},
   "source": [
    "En este ejemplo, `fibonacci` no cambió cuando modificamos `otrosnumeros`. Por lo tanto ambos arreglos son distintos."
   ]
  },
  {
   "cell_type": "markdown",
   "metadata": {},
   "source": [
    "### Algunos trucos"
   ]
  },
  {
   "cell_type": "code",
   "execution_count": 42,
   "metadata": {},
   "outputs": [
    {
     "data": {
      "text/plain": [
       "9-element Vector{String}:\n",
       " \"a\"\n",
       " \"b\"\n",
       " \"c\"\n",
       " \"d\"\n",
       " \"e\"\n",
       " \"f\"\n",
       " \"g\"\n",
       " \"h\"\n",
       " \"i\""
      ]
     },
     "execution_count": 42,
     "metadata": {},
     "output_type": "execute_result"
    }
   ],
   "source": [
    "miarray = [\"a\", \"b\", \"c\", \"d\", \"e\", \"f\", \"g\", \"h\", \"i\"]"
   ]
  },
  {
   "cell_type": "code",
   "execution_count": 43,
   "metadata": {},
   "outputs": [
    {
     "data": {
      "text/plain": [
       "\"i\""
      ]
     },
     "execution_count": 43,
     "metadata": {},
     "output_type": "execute_result"
    }
   ],
   "source": [
    "#Cómo acceder al último elemento\n",
    "miarray[end]"
   ]
  },
  {
   "cell_type": "code",
   "execution_count": 44,
   "metadata": {},
   "outputs": [
    {
     "data": {
      "text/plain": [
       "\"h\""
      ]
     },
     "execution_count": 44,
     "metadata": {},
     "output_type": "execute_result"
    }
   ],
   "source": [
    "#Cómo acceder al penúltimo elemento\n",
    "miarray[end-1]"
   ]
  },
  {
   "cell_type": "code",
   "execution_count": 45,
   "metadata": {},
   "outputs": [
    {
     "data": {
      "text/plain": [
       "3-element Vector{String}:\n",
       " \"a\"\n",
       " \"c\"\n",
       " \"e\""
      ]
     },
     "execution_count": 45,
     "metadata": {},
     "output_type": "execute_result"
    }
   ],
   "source": [
    "#Cómo leer un array desde el índice `inicio` hasta `fin` saltando de a `salto` elementos\n",
    "salto = 2\n",
    "inicio = 1\n",
    "fin = 6\n",
    "\n",
    "miarray[inicio:salto:fin]"
   ]
  },
  {
   "cell_type": "code",
   "execution_count": null,
   "metadata": {},
   "outputs": [],
   "source": []
  },
  {
   "cell_type": "markdown",
   "metadata": {},
   "source": [
    "### Ejercicio\n",
    "\n",
    "#### 3.1 \n",
    "Cre un arreglo, `a_ray`, con el siguiente código:\n",
    "\n",
    "```julia\n",
    "a_ray = [1, 2, 3]\n",
    "```\n",
    "\n",
    "Agregue el número 4 al array y luego elimínelo"
   ]
  },
  {
   "cell_type": "code",
   "execution_count": 47,
   "metadata": {},
   "outputs": [
    {
     "data": {
      "text/plain": [
       "4-element Vector{Int64}:\n",
       " 1\n",
       " 2\n",
       " 3\n",
       " 4"
      ]
     },
     "execution_count": 47,
     "metadata": {},
     "output_type": "execute_result"
    }
   ],
   "source": [
    "#Cree el array\n",
    "#Agregue el número 4\n",
    "a_ray = [1,2,3]\n",
    "push!(a_ray, 4)"
   ]
  },
  {
   "cell_type": "code",
   "execution_count": 48,
   "metadata": {},
   "outputs": [],
   "source": [
    "@assert a_ray == [1, 2, 3, 4]"
   ]
  },
  {
   "cell_type": "code",
   "execution_count": 50,
   "metadata": {},
   "outputs": [
    {
     "data": {
      "text/plain": [
       "4"
      ]
     },
     "execution_count": 50,
     "metadata": {},
     "output_type": "execute_result"
    }
   ],
   "source": [
    "#Elimine el último número\n",
    "\n",
    "pop!(a_ray)"
   ]
  },
  {
   "cell_type": "code",
   "execution_count": 51,
   "metadata": {
    "deletable": true,
    "editable": true,
    "hide_input": true,
    "nbgrader": {
     "checksum": "8dde7e020bc07c5762194abf5c72285c",
     "grade": true,
     "grade_id": "cell-a6b20b78fbfeb449",
     "locked": true,
     "points": 1,
     "schema_version": 1,
     "solution": false
    }
   },
   "outputs": [],
   "source": [
    "@assert a_ray == [1, 2, 3]"
   ]
  },
  {
   "cell_type": "markdown",
   "metadata": {},
   "source": [
    "#### 3.2 \n",
    "Trate de agregar el número \"Emergencias\" a `miscontactos` con el valor `string(911)` usando el siguiente código\n",
    "```julia\n",
    "miscontactos[\"Emergencias\"] = 911\n",
    "```\n",
    "\n",
    "¿Por qué esto no funciona?"
   ]
  },
  {
   "cell_type": "code",
   "execution_count": 56,
   "metadata": {},
   "outputs": [
    {
     "data": {
      "text/plain": [
       "Dict{String, String} with 3 entries:\n",
       "  \"Emergencias\" => \"911\"\n",
       "  \"Angélica\"    => \"999-1245\"\n",
       "  \"Eliza\"       => \"555-2368\""
      ]
     },
     "execution_count": 56,
     "metadata": {},
     "output_type": "execute_result"
    }
   ],
   "source": [
    "miscontactos"
   ]
  },
  {
   "cell_type": "code",
   "execution_count": 57,
   "metadata": {},
   "outputs": [
    {
     "data": {
      "text/plain": [
       "\"911\""
      ]
     },
     "execution_count": 57,
     "metadata": {},
     "output_type": "execute_result"
    }
   ],
   "source": [
    "miscontactos[\"Emergencias\"] = \"911\""
   ]
  },
  {
   "cell_type": "code",
   "execution_count": 58,
   "metadata": {},
   "outputs": [
    {
     "data": {
      "text/plain": [
       "Dict{String, String} with 3 entries:\n",
       "  \"Emergencias\" => \"911\"\n",
       "  \"Angélica\"    => \"999-1245\"\n",
       "  \"Eliza\"       => \"555-2368\""
      ]
     },
     "execution_count": 58,
     "metadata": {},
     "output_type": "execute_result"
    }
   ],
   "source": [
    "miscontactos"
   ]
  },
  {
   "cell_type": "markdown",
   "metadata": {},
   "source": [
    "#### 3.3 \n",
    "Cree un nuevo diccionario llamado `miscontactos_flexible` que tenga el número de Angélica guardado como un número entero y el de Eliza como un string, usando el código\n",
    "```julia\n",
    "miscontactos_flexible = Dict(\"Angélica\" => 867-5309, \"Eliza\" => \"555-2368\")\n",
    "```"
   ]
  },
  {
   "cell_type": "code",
   "execution_count": 61,
   "metadata": {},
   "outputs": [
    {
     "data": {
      "text/plain": [
       "Dict{String, Any} with 2 entries:\n",
       "  \"Angélica\" => -4442\n",
       "  \"Eliza\"    => \"555-2368\""
      ]
     },
     "execution_count": 61,
     "metadata": {},
     "output_type": "execute_result"
    }
   ],
   "source": [
    "miscontactos_flexible = Dict(\"Angélica\" => 867-5309, \"Eliza\" => \"555-2368\")"
   ]
  },
  {
   "cell_type": "code",
   "execution_count": 62,
   "metadata": {},
   "outputs": [],
   "source": [
    "@assert miscontactos_flexible == Dict(\"Angélica\" => 867-5309, \"Eliza\" => \"555-2368\")"
   ]
  },
  {
   "cell_type": "markdown",
   "metadata": {},
   "source": [
    "#### 3.4 \n",
    "Ahora pruebe nuevamente agregar \"Emergencias\" con el valor `911` (como entero) a `miscontactos_flexible`."
   ]
  },
  {
   "cell_type": "code",
   "execution_count": 75,
   "metadata": {},
   "outputs": [
    {
     "data": {
      "text/plain": [
       "911"
      ]
     },
     "execution_count": 75,
     "metadata": {},
     "output_type": "execute_result"
    }
   ],
   "source": [
    "miscontactos_flexible[\"Emergencias\"] = Int64(911)"
   ]
  },
  {
   "cell_type": "code",
   "execution_count": 76,
   "metadata": {},
   "outputs": [],
   "source": [
    "@assert haskey(miscontactos_flexible, \"Emergencias\")\n",
    "#haskey(diccionario, key) retorna verdadero si el diccionario tiene una entrada \"key\" y falso si no la tiene."
   ]
  },
  {
   "cell_type": "code",
   "execution_count": 77,
   "metadata": {},
   "outputs": [],
   "source": [
    "@assert miscontactos_flexible[\"Emergencias\"] == Int64(911)"
   ]
  },
  {
   "cell_type": "markdown",
   "metadata": {},
   "source": [
    "#### 3.5 \n",
    "¿Por qué podemos agregar un entero a `miscontactos_flexible` pero no a `miscontactos`?, ¿Cómo podríamos haber inicializado `miscontactos` para que acepte enteros como valores? (pista: intente usar [la documentación de Julia sobre diccionarios](https://docs.julialang.org/en/v1/base/collections/#Dictionaries))."
   ]
  },
  {
   "cell_type": "code",
   "execution_count": null,
   "metadata": {},
   "outputs": [],
   "source": []
  }
 ],
 "metadata": {
  "kernelspec": {
   "display_name": "Julia 1.7.2",
   "language": "julia",
   "name": "julia-1.7"
  },
  "language_info": {
   "file_extension": ".jl",
   "mimetype": "application/julia",
   "name": "julia",
   "version": "1.7.2"
  }
 },
 "nbformat": 4,
 "nbformat_minor": 4
}
