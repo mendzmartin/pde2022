{
 "cells": [
  {
   "cell_type": "markdown",
   "metadata": {
    "tags": []
   },
   "source": [
    "# Empezando de cero en Julia\n",
    "Temas:\n",
    "1. Imprimir en pantalla\n",
    "2. Asignar variables\n",
    "3. Comentar líneas\n",
    "4. Sintaxis para matemática básica\n",
    "\n",
    "**Nota: tanto este notebook como los siguientes del tutorial son traducciones y adaptaciones del tutorial de [Julia Academy](https://juliaacademy.com/) que puede encontrar en https://github.com/JuliaAcademy/Introduction-to-Julia**"
   ]
  },
  {
   "cell_type": "markdown",
   "metadata": {},
   "source": [
    "## Como imprimir\n",
    "\n",
    "En Julia usualmente se utiliza `println()` para imprimir"
   ]
  },
  {
   "cell_type": "code",
   "execution_count": 1,
   "metadata": {},
   "outputs": [
    {
     "name": "stdout",
     "output_type": "stream",
     "text": [
      "Mi primer print en Julia!\n",
      "Mi segundo print en Julia!\n"
     ]
    }
   ],
   "source": [
    "println(\"Mi primer print en Julia!\")\n",
    "println(\"Mi segundo print en Julia!\")"
   ]
  },
  {
   "cell_type": "markdown",
   "metadata": {},
   "source": [
    "La función `print()` hace lo mismo pero sin agregar un salto de línea."
   ]
  },
  {
   "cell_type": "code",
   "execution_count": 2,
   "metadata": {},
   "outputs": [
    {
     "name": "stdout",
     "output_type": "stream",
     "text": [
      "Hola Mundo"
     ]
    }
   ],
   "source": [
    "print(\"Hola\")\n",
    "print(\" Mundo\")"
   ]
  },
  {
   "cell_type": "markdown",
   "metadata": {},
   "source": [
    "`print` y `println` pueden recibir varios argumentos de distintos tipos separados por comas, por ejemplo"
   ]
  },
  {
   "cell_type": "code",
   "execution_count": 3,
   "metadata": {},
   "outputs": [
    {
     "name": "stdout",
     "output_type": "stream",
     "text": [
      "El número 2 es par\n"
     ]
    }
   ],
   "source": [
    "println(\"El número \", 2, \" es par\")"
   ]
  },
  {
   "cell_type": "markdown",
   "metadata": {},
   "source": [
    "## Cómo asignar variables\n",
    "\n",
    "Simplemente escribimos el nombre de la variable, el símbolo igual, y el valor. Julia determina automáticamente el tipo de variable."
   ]
  },
  {
   "cell_type": "code",
   "execution_count": 7,
   "metadata": {},
   "outputs": [
    {
     "data": {
      "text/plain": [
       "Int64"
      ]
     },
     "execution_count": 7,
     "metadata": {},
     "output_type": "execute_result"
    }
   ],
   "source": [
    "a = 42\n",
    "typeof(a)             #typeof(a) retorna el tipo de variable de a"
   ]
  },
  {
   "cell_type": "code",
   "execution_count": 6,
   "metadata": {},
   "outputs": [
    {
     "data": {
      "text/plain": [
       "String"
      ]
     },
     "execution_count": 6,
     "metadata": {},
     "output_type": "execute_result"
    }
   ],
   "source": [
    "b = \"hola\"\n",
    "typeof(b)"
   ]
  },
  {
   "cell_type": "code",
   "execution_count": 8,
   "metadata": {},
   "outputs": [
    {
     "data": {
      "text/plain": [
       "Float64"
      ]
     },
     "execution_count": 8,
     "metadata": {},
     "output_type": "execute_result"
    }
   ],
   "source": [
    "mi_pi = 3.14159\n",
    "typeof(mi_pi)"
   ]
  },
  {
   "cell_type": "markdown",
   "metadata": {},
   "source": [
    "Note que por defecto los números de punto flotante son de 64 bits."
   ]
  },
  {
   "cell_type": "code",
   "execution_count": 9,
   "metadata": {},
   "outputs": [
    {
     "data": {
      "text/plain": [
       "String"
      ]
     },
     "execution_count": 9,
     "metadata": {},
     "output_type": "execute_result"
    }
   ],
   "source": [
    "😺 = \"gato sonriente!\"\n",
    "typeof(😺)"
   ]
  },
  {
   "cell_type": "markdown",
   "metadata": {},
   "source": [
    "Para escribir este emoji puede utilizar la función autocompletar con tab. Simplemente escriba\n",
    "`\\:smi` y presione la tecla `tab` hasta que le aparezca un menú de selección"
   ]
  },
  {
   "cell_type": "code",
   "execution_count": 11,
   "metadata": {},
   "outputs": [
    {
     "data": {
      "text/plain": [
       "String"
      ]
     },
     "execution_count": 11,
     "metadata": {},
     "output_type": "execute_result"
    }
   ],
   "source": [
    "# \\:smi + <tab> --> seleccione con las flechas + <enter> ---> <tab> + <enter> para completar\n",
    "🧗= \"person climbing\"\n",
    "typeof(🧗)\n"
   ]
  },
  {
   "cell_type": "markdown",
   "metadata": {},
   "source": [
    "Después de asignarle un valor a una variable, puede cambiarlo por otro de otro tipo sin ningún problema"
   ]
  },
  {
   "cell_type": "code",
   "execution_count": 12,
   "metadata": {},
   "outputs": [
    {
     "data": {
      "text/plain": [
       "1"
      ]
     },
     "execution_count": 12,
     "metadata": {},
     "output_type": "execute_result"
    }
   ],
   "source": [
    "😺 = 1"
   ]
  },
  {
   "cell_type": "code",
   "execution_count": 13,
   "metadata": {},
   "outputs": [
    {
     "data": {
      "text/plain": [
       "Int64"
      ]
     },
     "execution_count": 13,
     "metadata": {},
     "output_type": "execute_result"
    }
   ],
   "source": [
    "typeof(😺)"
   ]
  },
  {
   "cell_type": "markdown",
   "metadata": {},
   "source": [
    "Escribir con emojis no es particularmente útil, pero escribir caracteres griegos sí puede serlo. Por ejemplo, podemos escribir la letra λ tipeando `\\lambda` y presionando tab"
   ]
  },
  {
   "cell_type": "code",
   "execution_count": 14,
   "metadata": {},
   "outputs": [
    {
     "data": {
      "text/plain": [
       "1"
      ]
     },
     "execution_count": 14,
     "metadata": {},
     "output_type": "execute_result"
    }
   ],
   "source": [
    "λ = 1"
   ]
  },
  {
   "cell_type": "code",
   "execution_count": 15,
   "metadata": {},
   "outputs": [
    {
     "name": "stdout",
     "output_type": "stream",
     "text": [
      "2\n"
     ]
    }
   ],
   "source": [
    "println(λ+😺)"
   ]
  },
  {
   "cell_type": "markdown",
   "metadata": {},
   "source": [
    "## Como comentar"
   ]
  },
  {
   "cell_type": "code",
   "execution_count": 16,
   "metadata": {},
   "outputs": [
    {
     "name": "stdout",
     "output_type": "stream",
     "text": [
      "Note que esto solo comenta una línea\n"
     ]
    }
   ],
   "source": [
    "# Para escribir un comentario en una línea use el símbolo numeral (#)\n",
    "println(\"Note que esto solo comenta una línea\") #y no la siguiente"
   ]
  },
  {
   "cell_type": "code",
   "execution_count": 17,
   "metadata": {},
   "outputs": [],
   "source": [
    "#=\n",
    "\n",
    "Si quiere escribir comentarios multilínea, utilice la secuencia '#= =#'.\n",
    "\n",
    "=#"
   ]
  },
  {
   "cell_type": "markdown",
   "metadata": {},
   "source": [
    "## Sintaxis de matemática básica"
   ]
  },
  {
   "cell_type": "code",
   "execution_count": 18,
   "metadata": {},
   "outputs": [
    {
     "data": {
      "text/plain": [
       "10"
      ]
     },
     "execution_count": 18,
     "metadata": {},
     "output_type": "execute_result"
    }
   ],
   "source": [
    "suma = 3 + 7"
   ]
  },
  {
   "cell_type": "code",
   "execution_count": 19,
   "metadata": {},
   "outputs": [
    {
     "data": {
      "text/plain": [
       "7"
      ]
     },
     "execution_count": 19,
     "metadata": {},
     "output_type": "execute_result"
    }
   ],
   "source": [
    "diferencia = 10 - 3"
   ]
  },
  {
   "cell_type": "code",
   "execution_count": 20,
   "metadata": {},
   "outputs": [
    {
     "data": {
      "text/plain": [
       "100"
      ]
     },
     "execution_count": 20,
     "metadata": {},
     "output_type": "execute_result"
    }
   ],
   "source": [
    "producto = 20 * 5"
   ]
  },
  {
   "cell_type": "code",
   "execution_count": 21,
   "metadata": {},
   "outputs": [
    {
     "data": {
      "text/plain": [
       "100"
      ]
     },
     "execution_count": 21,
     "metadata": {},
     "output_type": "execute_result"
    }
   ],
   "source": [
    "potencia = 10 ^ 2   #note que la potenciación se realiza con el símbolo ^ y no con **"
   ]
  },
  {
   "cell_type": "code",
   "execution_count": 22,
   "metadata": {},
   "outputs": [
    {
     "data": {
      "text/plain": [
       "10.0"
      ]
     },
     "execution_count": 22,
     "metadata": {},
     "output_type": "execute_result"
    }
   ],
   "source": [
    "cociente = 100 / 10   #note que la división entre números enteros retorna un número de punto flotante"
   ]
  },
  {
   "cell_type": "code",
   "execution_count": 23,
   "metadata": {},
   "outputs": [
    {
     "data": {
      "text/plain": [
       "10"
      ]
     },
     "execution_count": 23,
     "metadata": {},
     "output_type": "execute_result"
    }
   ],
   "source": [
    "#para la división entera utilice el símbolo ÷, que puede escribir con \\div + <tab>\n",
    "cociente_entero = 101 ÷ 10  "
   ]
  },
  {
   "cell_type": "code",
   "execution_count": 25,
   "metadata": {},
   "outputs": [
    {
     "data": {
      "text/plain": [
       "1"
      ]
     },
     "execution_count": 25,
     "metadata": {},
     "output_type": "execute_result"
    }
   ],
   "source": [
    "modulo = 101 % 10 # es equivalente a mod(101,10) en FORTRAN"
   ]
  },
  {
   "cell_type": "markdown",
   "metadata": {},
   "source": [
    "### Ejercicios para jugar\n",
    "\n",
    "#### 1.1 \n",
    "Busque en la documentación de julia la función `convert()` y pruebe utilizarla"
   ]
  },
  {
   "cell_type": "code",
   "execution_count": 26,
   "metadata": {},
   "outputs": [
    {
     "data": {
      "text/plain": [
       "Int64"
      ]
     },
     "execution_count": 26,
     "metadata": {},
     "output_type": "execute_result"
    }
   ],
   "source": [
    "x=12;typeof(x)"
   ]
  },
  {
   "cell_type": "code",
   "execution_count": 27,
   "metadata": {},
   "outputs": [
    {
     "data": {
      "text/plain": [
       "0x0c"
      ]
     },
     "execution_count": 27,
     "metadata": {},
     "output_type": "execute_result"
    }
   ],
   "source": [
    "convert(UInt8,x)"
   ]
  },
  {
   "cell_type": "code",
   "execution_count": 29,
   "metadata": {},
   "outputs": [
    {
     "data": {
      "text/plain": [
       "Int64"
      ]
     },
     "execution_count": 29,
     "metadata": {},
     "output_type": "execute_result"
    }
   ],
   "source": [
    "typeof(x) # también se puede correr con typeof(ans)"
   ]
  },
  {
   "cell_type": "markdown",
   "metadata": {},
   "source": [
    "#### 1.2\n",
    "Cree una variable llamada `dias` y asígnele el valor `365`. Use `convert()` para convertir `dias` a `Float64` y guarde el resultado en una variable llamada `dias_doble`."
   ]
  },
  {
   "cell_type": "code",
   "execution_count": 2,
   "metadata": {},
   "outputs": [
    {
     "name": "stdout",
     "output_type": "stream",
     "text": [
      "dias365\n",
      "typeof(dias)=Int64\n"
     ]
    }
   ],
   "source": [
    "dias=365\n",
    "println(\"dias\",dias)\n",
    "println(\"typeof(dias)=\",typeof(dias))"
   ]
  },
  {
   "cell_type": "code",
   "execution_count": 3,
   "metadata": {},
   "outputs": [
    {
     "name": "stdout",
     "output_type": "stream",
     "text": [
      "dias_doble=365.0\n",
      "typeof(dias_doble)=Float64\n"
     ]
    }
   ],
   "source": [
    "dias_doble=convert(Float64,dias)\n",
    "println(\"dias_doble=\",dias_doble)\n",
    "println(\"typeof(dias_doble)=\",typeof(dias_doble))"
   ]
  },
  {
   "cell_type": "code",
   "execution_count": 4,
   "metadata": {},
   "outputs": [],
   "source": [
    "@assert dias == 365\n",
    "@assert dias_doble == 365.0\n",
    "\n",
    "#Nota: El @assert es un MACRO de Julia. Los veremos más adelante, pero por ahora basta saber que los\n",
    "#macro empiezan con @ y que son parecidos a las funciones."
   ]
  },
  {
   "cell_type": "markdown",
   "metadata": {},
   "source": [
    "#### 1.3 \n",
    "Vea que sucede cuando ejecuta\n",
    "```julia\n",
    "convert(Int64, \"1\")\n",
    "```\n",
    "y\n",
    "\n",
    "```julia\n",
    "parse(Int64, \"1\")\n",
    "```"
   ]
  },
  {
   "cell_type": "code",
   "execution_count": 5,
   "metadata": {},
   "outputs": [
    {
     "ename": "LoadError",
     "evalue": "MethodError: \u001b[0mCannot `convert` an object of type \u001b[92mString\u001b[39m\u001b[0m to an object of type \u001b[91mInt64\u001b[39m\n\u001b[0mClosest candidates are:\n\u001b[0m  convert(::Type{T}, \u001b[91m::T\u001b[39m) where T<:Number at ~/julia-1.7.2/share/julia/base/number.jl:6\n\u001b[0m  convert(::Type{T}, \u001b[91m::Number\u001b[39m) where T<:Number at ~/julia-1.7.2/share/julia/base/number.jl:7\n\u001b[0m  convert(::Type{T}, \u001b[91m::Base.TwicePrecision\u001b[39m) where T<:Number at ~/julia-1.7.2/share/julia/base/twiceprecision.jl:262\n\u001b[0m  ...",
     "output_type": "error",
     "traceback": [
      "MethodError: \u001b[0mCannot `convert` an object of type \u001b[92mString\u001b[39m\u001b[0m to an object of type \u001b[91mInt64\u001b[39m\n\u001b[0mClosest candidates are:\n\u001b[0m  convert(::Type{T}, \u001b[91m::T\u001b[39m) where T<:Number at ~/julia-1.7.2/share/julia/base/number.jl:6\n\u001b[0m  convert(::Type{T}, \u001b[91m::Number\u001b[39m) where T<:Number at ~/julia-1.7.2/share/julia/base/number.jl:7\n\u001b[0m  convert(::Type{T}, \u001b[91m::Base.TwicePrecision\u001b[39m) where T<:Number at ~/julia-1.7.2/share/julia/base/twiceprecision.jl:262\n\u001b[0m  ...",
      "",
      "Stacktrace:",
      " [1] top-level scope",
      "   @ In[5]:1",
      " [2] eval",
      "   @ ./boot.jl:373 [inlined]",
      " [3] include_string(mapexpr::typeof(REPL.softscope), mod::Module, code::String, filename::String)",
      "   @ Base ./loading.jl:1196"
     ]
    }
   ],
   "source": [
    "convert(Int64, \"1\")"
   ]
  },
  {
   "cell_type": "code",
   "execution_count": 6,
   "metadata": {},
   "outputs": [
    {
     "data": {
      "text/plain": [
       "1"
      ]
     },
     "execution_count": 6,
     "metadata": {},
     "output_type": "execute_result"
    }
   ],
   "source": [
    "parse(Int64, \"1\")"
   ]
  }
 ],
 "metadata": {
  "kernelspec": {
   "display_name": "Julia 1.7.2",
   "language": "julia",
   "name": "julia-1.7"
  },
  "language_info": {
   "file_extension": ".jl",
   "mimetype": "application/julia",
   "name": "julia",
   "version": "1.7.2"
  }
 },
 "nbformat": 4,
 "nbformat_minor": 4
}
