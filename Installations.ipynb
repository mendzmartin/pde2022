{
 "cells": [
  {
   "cell_type": "markdown",
   "id": "93d4ad6c-cd06-4923-9639-cdb51141778b",
   "metadata": {},
   "source": [
    "# Ayuda para instalación de nueva version de Julia\n",
    "\n",
    "Primeramente iremos a la página oficial de Julia [https://julialang.org/downloads/platform/](https://julialang.org/downloads/platform/) y para sistema operativo Linux and FreeBSD descargamos el binario e instalamos desde consola de la siguiente manera\n",
    "\n",
    "```\n",
    "@propt$ cd\n",
    "@propt$ wget https://julialang-s3.julialang.org/bin/linux/x64/1.8/julia-1.8.0-linux-x86_64.tar.gz\n",
    "@propt$ tar zxvf julia-1.8.0-linux-x86_64.tar.gz\n",
    "```\n",
    "\n",
    "Luego, borramos enlaces simbólicos existentes, que apuntan a versiones viejas, y generamos un enlace simbólico nuevo, ingresando desde consola lo siguiente\n",
    "\n",
    "```\n",
    "@propt$ cd\n",
    "@propt$ sudo rm /usr/bin/julia\n",
    "@propt$ sudo ln -s ~/julia-1.8.0/bin/julia /usr/bin/julia\n",
    "@propt$ julia --version\n",
    "```\n",
    "\n",
    "De lo anterior debería mostrarnos la última versión de julia instalada.\n",
    "\n",
    "Luego, nos dirigimos al directorio donde queremos usar julia y seteamos el kernel de la nueva versión de la siguiente manera\n",
    "\n",
    "```\n",
    "@propt$ cd my_directory\n",
    "@propt$ julia\n",
    "@propt$ using Pkg\n",
    "@propt$ Pkg.add IJulia\n",
    "@propt$ using IJulia\n",
    "@propt$ installkernel(\"Julia\")\n",
    "```\n",
    "\n",
    "Luego podremos empezar a programar en julia usando jupyter notebook o jupyterlab."
   ]
  },
  {
   "cell_type": "markdown",
   "id": "a7d309d4-7f15-4f97-b87d-9d2127a80fbc",
   "metadata": {},
   "source": [
    "## Links útiles\n",
    "\n",
    "[Julia in Jupyter Notebook](https://www.analyticslane.com/2019/09/20/julia-en-jupyter-notebook/)\n",
    "\n",
    "[Julia 1.8 Documentation](https://docs.julialang.org/en/v1/)\n",
    "\n",
    "[Install Julia in Debian/Ubuntu](http://carina.fcaglp.unlp.edu.ar/senales/tutorials/instalar-Julia_Debian.html)"
   ]
  }
 ],
 "metadata": {
  "kernelspec": {
   "display_name": "Julia 1.7.2",
   "language": "julia",
   "name": "julia-1.7"
  },
  "language_info": {
   "file_extension": ".jl",
   "mimetype": "application/julia",
   "name": "julia",
   "version": "1.7.2"
  }
 },
 "nbformat": 4,
 "nbformat_minor": 5
}
