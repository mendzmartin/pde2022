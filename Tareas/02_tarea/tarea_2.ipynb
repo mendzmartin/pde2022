{
 "cells": [
  {
   "cell_type": "markdown",
   "metadata": {},
   "source": [
    "# Tarea 2"
   ]
  },
  {
   "cell_type": "markdown",
   "metadata": {},
   "source": [
    "### Importante 1:\n",
    "Este notebook está diseñado para ejecutar en Julia, si está trabajando en Python, genere un nuevo archivo ipynb para ejecutar Python y copie allí este archivo."
   ]
  },
  {
   "cell_type": "markdown",
   "metadata": {},
   "source": [
    "### Importante 2: ###\n",
    "Renombre el archivo como: \n",
    "**nombredelgrupo_tarea_2.ipynb**\n",
    "\n",
    "**Todo el código generado y la presentación deberá estar incluida en este notebook.**"
   ]
  },
  {
   "cell_type": "markdown",
   "metadata": {},
   "source": [
    "**El objetivo de la tarea es variado:**\n",
    "\n",
    "1. Familiarizarse con la ecuación de ondas o ecuaciones hiperbólicas en general.\n",
    "2. Familiarizarse con los operadores diferencias finitas de distinto orden.\n",
    "3. Ver la importancia en la elección del integrador temporal.\n",
    "4. Comprobar cualitativa y cuantitativamente los errores de la aproximación. \n",
    "5. Estudiar convergencia de los métodos.  \n",
    "6. Ver las limitaciones del método cuando se generan ondas de choque.\n"
   ]
  },
  {
   "cell_type": "markdown",
   "metadata": {},
   "source": [
    "**1)**\n",
    "Juegue con el código adjunto (Wave_equation): a) Cambie condiciones iniciales; b) evoluciones a distintos tiempos; c) grafique distintas variables o funciones de las mismas; d) intente graficar una animación de la solución; e) pruebe distintas resoluciones espaciales y temporales (que sucede si toma dt muy grande?) Explique. Calcule la energía de la solución y vea qué tan bien se conserva."
   ]
  },
  {
   "cell_type": "markdown",
   "metadata": {},
   "source": [
    "**2)** Cree operadores differencia finita de orden 6 y 8. Aplíquelos a la ecuación de onda. Juntos con los ya presentes (orden 2 y 4), evolucione las ecuaciones hasta T=100 y compare los resultados con la solución exacta\n",
    "(al cabo de períodos enteros la solución exacta coincide con el dato inicial).\n",
    "Haga un plot de las distintas aproximaciones. \n",
    "\n",
    "\n",
    "\n",
    "\n"
   ]
  },
  {
   "cell_type": "markdown",
   "metadata": {},
   "source": [
    "**3)** Cambie el integrador temporal. ¿Qué sucede si usa Euler? Explique."
   ]
  },
  {
   "cell_type": "markdown",
   "metadata": {},
   "source": [
    "**4)** Grafique los errores con distintas resoluciones y diferencias finitas. "
   ]
  },
  {
   "cell_type": "markdown",
   "metadata": {},
   "source": [
    "**5)** Haciendo diferencias de aproximaciones con distintas resoluciones y tomando normas apropiadas, vea cual es el orden de convergencia del método."
   ]
  },
  {
   "cell_type": "code",
   "execution_count": null,
   "metadata": {},
   "outputs": [],
   "source": [
    "#Función de ayuda:\n",
    "function Q(sol1, sol2, sol4, t, i)\n",
    "    return norm(sol1(t)[1:end,i] - sol2(t)[1:2:end,i])/norm(sol2(t)[1:2:end,i] - sol4(t)[1:4:end,i])\n",
    "end\n",
    "#= Modo de uso:\n",
    "Q(sol1,sol2,sol4,dt,1)\n",
    "plot(sol1.t,map(x -> Q(sol1,sol2,sol4,x,1), sol1.t))\n",
    "=#"
   ]
  },
  {
   "cell_type": "markdown",
   "metadata": {},
   "source": [
    "**6)** Codifique la ecuación de burgers, $\\frac{\\partial u}{\\partial t} = - u \\frac{\\partial u}{\\partial x}$ y evolucione. Describa que sucede y explique."
   ]
  },
  {
   "cell_type": "markdown",
   "metadata": {},
   "source": [
    "**7)** **Para los ambiciosos:** a) codifique otras ecuaciones; b) implemente disipación de Kreiss-Oliger; c) incorpore fuentes; d) vea sistemas con distintas escalas temporales; e) para este último caso implemente métodos IMEX de integración temporal; f) trate de optimizar el método numérico para hacerlo más eficiente.\n",
    "Un ejemplo de un sistema con distintas escalas temporales es:\n",
    "$$\n",
    "\\begin{align}\n",
    "u_t &= v_x \\\\\n",
    "v_t &= u_x + \\frac{1}{\\epsilon} (u_x - v)\n",
    "\\end{align}\n",
    "$$\n",
    "with $\\epsilon > 0$ muy pequeño."
   ]
  },
  {
   "cell_type": "code",
   "execution_count": null,
   "metadata": {},
   "outputs": [],
   "source": []
  }
 ],
 "metadata": {
  "kernelspec": {
   "display_name": "Julia 1.6.3",
   "language": "julia",
   "name": "julia-1.6"
  },
  "language_info": {
   "file_extension": ".jl",
   "mimetype": "application/julia",
   "name": "julia",
   "version": "1.6.3"
  }
 },
 "nbformat": 4,
 "nbformat_minor": 4
}
