{
 "cells": [
  {
   "cell_type": "markdown",
   "id": "92e72286-223f-451f-a312-9a31bd4751ef",
   "metadata": {},
   "source": [
    "# Tarea 1B\n",
    "***Autores:** Pablo Montes, Joaquín Pelle y Oscar Reula*\n",
    "### Importante 1: ###\n",
    "Este notebook está diseñado para ejecutar en Julia.\n",
    "\n",
    "### Importante 2: ###\n",
    "Renombre el archivo como (según corresponda): \n",
    "**apellido_nombre_tarea_1.ipynb** o **grupo_tarea_1.ipynb**\n",
    "\n",
    "**Todo el código generado y la presentación deberá estar incluida en este notebook.**\n",
    "\n",
    "**Antes de entregar, serciorese que todas las variables estén bien definidas, para ello interrumpa el kernel y corra todo desde cero.**\n",
    "\n",
    "**El objetivo de las primeras tareas (A y B) es variado:**\n",
    "\n",
    "1. Construir algunos integradores simples y aplicarlos a problemas en 1 y 2 dimensiones.\n",
    "2. Estudiar convergencia y determinar el factor Q del método.\n",
    "3. Estudia la región de convergencia de los métodos.\n",
    "4. Comprobar cualitativa y cuantitativamente los errores de la aproximación.\n",
    "5. Familiarizarse con las librerías de integradores de ODEs.\n",
    "6. Familiarizarse con el manejo y estudio de soluciones para casos de complejidad media.\n",
    "7. Estudiar el caso stiff y los métodos IMEX."
   ]
  },
  {
   "cell_type": "markdown",
   "id": "efa50868-e6be-4ce3-aec6-3918b198681b",
   "metadata": {},
   "source": [
    "### Nota importante\n",
    "A partir de ahora utilizaremos el paquete `DifferentialEquations`, que tiene ya implementados los integradores de Euler, Runge-Kutta, y otros. Haga todos los ejercicios utilizando este paquete."
   ]
  },
  {
   "cell_type": "code",
   "execution_count": 1,
   "id": "9cfe9682",
   "metadata": {},
   "outputs": [
    {
     "name": "stderr",
     "output_type": "stream",
     "text": [
      "\u001b[32m\u001b[1m    Updating\u001b[22m\u001b[39m registry at `~/.julia/registries/General.toml`\n"
     ]
    },
    {
     "name": "stderr",
     "output_type": "stream",
     "text": [
      "\u001b[32m\u001b[1m   Resolving\u001b[22m\u001b[39m package versions...\n"
     ]
    },
    {
     "name": "stderr",
     "output_type": "stream",
     "text": [
      "\u001b[32m\u001b[1m  No Changes\u001b[22m\u001b[39m to `~/.julia/environments/v1.8/Project.toml`\n",
      "\u001b[32m\u001b[1m  No Changes\u001b[22m\u001b[39m to `~/.julia/environments/v1.8/Manifest.toml`\n"
     ]
    }
   ],
   "source": [
    "import Pkg; Pkg.add(\"DifferentialEquations\")"
   ]
  },
  {
   "cell_type": "code",
   "execution_count": 2,
   "id": "ae801e80-3f19-4d9e-b5eb-ad99e0e243f1",
   "metadata": {},
   "outputs": [],
   "source": [
    "#=\n",
    "using Pkg\n",
    "Pkg.add(\"DifferentialEquations\")\n",
    "=#\n",
    "\n",
    "using DifferentialEquations"
   ]
  },
  {
   "cell_type": "markdown",
   "id": "d6ea976c-9ca7-4863-8360-f6468aa781dc",
   "metadata": {},
   "source": [
    "## Problema 1\n",
    "En el directorio `Dipolo_mag_3d` encontrará un notebook de Julia que realiza una integración de una partícula cargada en presencia de un dipolo magnético. Este notebook utiliza `DifferentialEquations` para resolver dicho problema. Juegue con las soluciones y la librería, y trate de entender cómo funciona. Ejecute distintas condiciones initiales, cambie las tolerancias, cambie los métodos, etc. La idea es únicamente que se familiarize con el paquete, no hace falta que presente nada respecto a este ejercicio.\n",
    "\n",
    "\n",
    "*Nota: si quiere probar otros métodos además de Euler y Runge Kutta, puede consultar los métodos disponibles en el paquete en \n",
    "https://diffeq.sciml.ai/stable/solvers/ode_solve/*\n",
    "\n",
    "*Puede consultar también https://diffeq.sciml.ai/stable/tutorials/ode_example/ para un pequeño tutorial del paquete.*"
   ]
  },
  {
   "cell_type": "code",
   "execution_count": null,
   "id": "67925cd3-913c-4665-b5f4-b926850b85b3",
   "metadata": {},
   "outputs": [],
   "source": []
  },
  {
   "cell_type": "markdown",
   "id": "3ad9d538-c043-47dd-a6e2-5f54ced5b35a",
   "metadata": {},
   "source": [
    "## Problema 2\n",
    "**Estabilidad numérica**\n",
    "\n",
    "***2a)***\n",
    "Volvamos nuevamente la ecuación del notebook anterior\n",
    "\n",
    "$$\n",
    "\\frac{dy}{dt} = \\lambda y\n",
    "$$\n",
    "\n",
    "Resuelva la ecuación con $\\lambda = -1$ en el intervalo temporal $[0,20]$, con $N = 100, 50, 30, 20, 10, 5$ (es decir, para $\\Delta t$ creciente). Experimente nuevamente con Euler y Runge-Kutta y grafique. ¿Qué observa?\n",
    "\n",
    "*Nota: utilice en la función `solve` los argumentos opcionales `saveat = dt` y `adaptive = false`.\n",
    "Ejemplo:*\n",
    "```julia\n",
    "sol = solve(prob, RK4(), dt = dt, saveat = dt, adaptive = false)\n",
    "```\n",
    "*Puede averiguar más sobre estas opciones en https://diffeq.sciml.ai/stable/basics/common_solver_opts/ o preguntar en clases o en el aula virtual.*"
   ]
  },
  {
   "cell_type": "code",
   "execution_count": null,
   "id": "6c50ad39-c1a8-4237-b581-840bc63f4f50",
   "metadata": {},
   "outputs": [],
   "source": []
  },
  {
   "cell_type": "markdown",
   "id": "331525ff-9e99-44e2-be58-1558763ff28e",
   "metadata": {},
   "source": [
    "***2b)*** Use el notebook *region_de_estabilidad* para investigar la región de convergencia de varios métodos de las librerías. Simplemente lea el notebook, entiéndalo, y corra los ejemplos, no hace falta que agregue nada. Pregunte en clase todas sus dudas."
   ]
  },
  {
   "cell_type": "markdown",
   "id": "c0d2087f-7f5b-4b29-b0c9-822e79bf1a96",
   "metadata": {},
   "source": [
    "## Problema 3\n",
    "Construya su propio código para su ecuación favorita (alguna que no sea muy complicada, en la página del paquete DifferentialEquations de Julia hay varios ejemplos, o puede usar el dipolo 2D (orbitas coplanares)). Evolucione con distintas tolerancias, con paso fijo (vea como se hace esto en cada caso, use métodos fijos o adaptativos). Grafique diferencias de soluciones con distinta resolución o tolerancia y/o con distintos datos iniciales muy próximos.\n",
    "Estudie convergencia, encuentre soluciones con distintos pasos (fijos), haga los cocientes y grafique el factor $Q$."
   ]
  },
  {
   "cell_type": "code",
   "execution_count": null,
   "id": "7920d541-625f-48da-ad4e-dd91ff88fd98",
   "metadata": {},
   "outputs": [],
   "source": [
    "#Función auxiliar para calcular el factor Q.\n",
    "#Simplemente calcule tres soluciones con distintos dt\n",
    "#Si sol_1 usa N+1 puntos, sol_2 debe usar 2N+1 y sol4 usar 4N+1.\n",
    "#No olvide utilizar `adaptive = false` y `saveat = dt` \n",
    "using LinearAlgebra\n",
    "\n",
    "function Q(t,sol_1,sol_2,sol_4)\n",
    "    return norm(sol_1(t)[:] - sol_2(t)[1:2:end],2)/norm(sol_2(t)[1:2:end]-sol_4(t)[1:4:end],2)\n",
    "end"
   ]
  },
  {
   "cell_type": "code",
   "execution_count": null,
   "id": "dd2d3060-61be-4678-8233-44d69f205579",
   "metadata": {},
   "outputs": [],
   "source": [
    "#Ejemplo simple\n",
    "using Plots\n",
    "λ = -im\n",
    "T = (0.0,20.0)\n",
    "N = 51\n",
    "dt = (T[2]-T[1])/(N-1)\n",
    "function CrecimientoExponencial!(du, u, par, t)\n",
    "    λ = par\n",
    "    du .= λ*u\n",
    "end\n",
    "y0 = [1.0+ 1.0im]\n",
    "prob = ODEProblem(CrecimientoExponencial!,y0,T,λ);\n",
    "#t = T[1]:dt:T[2]\n",
    "\n",
    "sol_1 = solve(prob, RK4(), dt = dt  , saveat = dt,   adaptive = false);\n",
    "sol_2 = solve(prob, RK4(), dt = dt/2, saveat = dt/2, adaptive = false);\n",
    "sol_4 = solve(prob, RK4(), dt = dt/4, saveat = dt/4, adaptive = false);\n",
    "plot(sol_1.t,map(t -> Q(t,sol_1,sol_2,sol_4),sol_1.t), yaxis=(\"Q\",(0.,20)), label=\"Q\")"
   ]
  },
  {
   "cell_type": "code",
   "execution_count": null,
   "id": "dc8369c8-4fc4-4277-85d5-8175b6969247",
   "metadata": {},
   "outputs": [],
   "source": []
  },
  {
   "cell_type": "markdown",
   "id": "81089c29-e05a-4a3d-8bde-6d1ff66883d6",
   "metadata": {},
   "source": [
    "## Problema 4\n",
    "**Opcional para personas ambiciosas** \n",
    "Busque una ecuación que sea stiff y evolucione con un método apropiado. Un caso simple es la ecuación: \n",
    "\n",
    "$$\n",
    "\\begin{array}{ll}\n",
    "u_t &= v \\\\\n",
    "v_t &= \\frac{1}{\\epsilon}(u - v)\n",
    "\\end{array}\n",
    "$$\n",
    "con $\\epsilon > 0$ muy pequeño. Este permite usar métodos IMEX."
   ]
  },
  {
   "cell_type": "code",
   "execution_count": null,
   "id": "1092abfe-2815-458d-aafc-7f91cbf6793b",
   "metadata": {},
   "outputs": [],
   "source": []
  }
 ],
 "metadata": {
  "kernelspec": {
   "display_name": "Julia 1.8.0",
   "language": "julia",
   "name": "julia-1.8"
  },
  "language_info": {
   "file_extension": ".jl",
   "mimetype": "application/julia",
   "name": "julia",
   "version": "1.8.0"
  }
 },
 "nbformat": 4,
 "nbformat_minor": 5
}
