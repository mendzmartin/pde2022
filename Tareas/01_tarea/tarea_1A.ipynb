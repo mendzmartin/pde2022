{
 "cells": [
  {
   "cell_type": "markdown",
   "id": "45f9478c-ec04-4f1f-95bf-9a279cd6889a",
   "metadata": {},
   "source": [
    "# Tarea 1A\n",
    "***Autores:** Pablo Montes, Joaquín Pelle y Oscar Reula*\n",
    "### Importante 1: ###\n",
    "Este notebook está diseñado para ejecutar en Julia.\n",
    "\n",
    "### Importante 2: ###\n",
    "Renombre el archivo como (según corresponda): \n",
    "**apellido_nombre_tarea_1.ipynb** o **grupo_tarea_1.ipynb**\n",
    "\n",
    "**Todo el código generado y la presentación deberá estar incluida en este notebook.**\n",
    "\n",
    "**Antes de entregar, serciorese que todas las variables estén bien definidas, para ello interrumpa el kernel y corra todo desde cero.**\n",
    "\n",
    "**El objetivo de las primeras tareas (A y B) es variado:**\n",
    "\n",
    "1. Construir algunos integradores simples y aplicarlos a problemas en 1 y 2 dimensiones.\n",
    "2. Estudiar convergencia y determinar el factor Q del método.\n",
    "3. Estudia la región de convergencia de los métodos.\n",
    "4. Comprobar cualitativa y cuantitativamente los errores de la aproximación.\n",
    "5. Familiarizarse con las librerías de integradores de ODEs.\n",
    "6. Familiarizarse con el manejo y estudio de soluciones para casos de complejidad media.\n",
    "7. Estudiar el caso stiff y los métodos IMEX."
   ]
  },
  {
   "cell_type": "markdown",
   "id": "aed709d6-6813-4d2d-ba0e-c0881fc2e4e1",
   "metadata": {},
   "source": [
    "**1)** La ecuación diferencial\n",
    "\n",
    "$$\n",
    "\\frac{dy}{dt} = \\lambda y\n",
    "$$\n",
    "\n",
    "tiene como solución la función \n",
    "$$ y(t) = y_0e^{\\lambda t}, $$\n",
    "donde $y_0$ es una constante que depende del dato inicial, es el valor de $y(t)$ en $t=0$.\n",
    "\n",
    "Buscamos una aproximación numérica utilizando el *método de Euler*,\n",
    "$$y(t+\\Delta t) \\approx y(t) + \\Delta t \\dfrac{dy}{dt}(t) = y(t) + \\Delta t \\lambda y(t)$$\n",
    "tomando $\\lambda = 2$ y dato inicial $y(0) = 1$ en el intervalo de tiempo $[0,2]$.\n"
   ]
  },
  {
   "cell_type": "markdown",
   "id": "f7042d49-b9b8-4448-9993-1e14228d5515",
   "metadata": {},
   "source": [
    "**Implementación del método:**\n",
    "\n",
    "Una forma simple de implementar el método de Euler sería la siguiente\n",
    "```julia\n",
    "#Datos iniciales\n",
    "λ = 2\n",
    "y0 = 1\n",
    "#Cantidad de pasos temporales y dt\n",
    "Tfin = 2.0\n",
    "N = 201\n",
    "dt = Tfin/(N-1)\n",
    "\n",
    "#Vectores donde guardamos la solución\n",
    "tiempos = zeros(N)\n",
    "y = zeros(N)\n",
    "#Asignamos el dato inicial\n",
    "y[1] = y0\n",
    "#Evolución temporal usando el método de Euler\n",
    "for i in 2:N\n",
    "    tiempos[i] = dt*(i-1)      #Actualizamos el valor de t\n",
    "    y[i] = y[i-1] + dt*λ*y[i-1]  #Hacemos un paso de Euler\n",
    "end\n",
    "```\n"
   ]
  },
  {
   "cell_type": "markdown",
   "id": "08e23c9e-eebb-4389-82b0-9b74545fdf74",
   "metadata": {},
   "source": [
    "Lo que haremos es partir este procedimiento en algunas funciones pequeñas, de manera que cuando en el futuro queramos cambiar de método numérico, o resolver otra ecuación diferencial, esto se pueda hacer de manera directa. Las funciones que usaremos están en el archivo ``myODEfunctions.jl``"
   ]
  },
  {
   "cell_type": "code",
   "execution_count": null,
   "id": "4c238af0-5456-4721-a9b0-9103f31c5c1e",
   "metadata": {},
   "outputs": [],
   "source": [
    "include(\"myODEfunctions.jl\")"
   ]
  },
  {
   "cell_type": "markdown",
   "id": "76de6ff1-c4f5-4c9d-b9b8-e62b1e3bb1f3",
   "metadata": {},
   "source": [
    "Nuestra implementación del método de Euler entonces será la siguiente: (esto será similar a la librería `DifferentialEquations.jl` que usaremos más adelante)"
   ]
  },
  {
   "cell_type": "code",
   "execution_count": null,
   "id": "e173f23a-4387-444a-8ee6-54239dd27a31",
   "metadata": {},
   "outputs": [],
   "source": [
    "#1) Datos del problema:\n",
    "\n",
    "CrecimientoExponencial(y, t, λ) = λ*(y) # Definimos el término derecho de la ODE\n",
    "y0 = 1.0                                # Datos iniciales\n",
    "T = (0.0, 4.0)                          # Intervalo temporal\n",
    "λ = 2.;par = (λ)                        # Parámetros del problema (dentro de una tupla)\n",
    "\n",
    "#Guardamos los datos en la variable \"prob\"\n",
    "prob = myODEproblem(CrecimientoExponencial, y0, T, par)"
   ]
  },
  {
   "cell_type": "markdown",
   "id": "f8ba683c-405b-455a-995b-2a2a12e9b29e",
   "metadata": {},
   "source": [
    "Elegimos una cantidad de pasos temporales apropiados y resolvemos:"
   ]
  },
  {
   "cell_type": "code",
   "execution_count": null,
   "id": "2a2a639d-b7f5-4c04-8689-c89a2ff13fc6",
   "metadata": {},
   "outputs": [],
   "source": [
    "N = 101 # Cantidad de pasos temporales\n",
    "# Resolvemos el problema \"prob\" usando el método \"EulerStep\" \n",
    "dt = (T[2]-T[1])/(N-1) # discretizando con N pasos (dt = (Tfin-Tini)/(N-1))\n",
    "t, y = myODEsolver(prob, EulerStep, dt = dt)"
   ]
  },
  {
   "cell_type": "markdown",
   "id": "af4abda9-e373-47b8-a5ce-2a941ca17ef9",
   "metadata": {},
   "source": [
    "Una vez obtenida la solución la graficamos."
   ]
  },
  {
   "cell_type": "code",
   "execution_count": null,
   "id": "9685fc9c-0c17-4a2b-af46-5a6e73dc0226",
   "metadata": {},
   "outputs": [],
   "source": [
    "using Plots\n",
    "gr()\n",
    "plt = plot()\n",
    "plot!(plt, t, y, color = :red, label = \"Solución Numérica\")\n",
    "scatter!(plt, t, y, color = :red, label = \"\")\n",
    "plot!(plt, t, y0*exp.(λ*t), label = \"Solución Exacta\")\n",
    "plot!(ylabel = \"\\$y(t)\\$\", xlabel = \"\\$t\\$\")\n",
    "plot!(plt, legend = :topleft)"
   ]
  },
  {
   "cell_type": "markdown",
   "id": "8fe4060b-45e1-4792-b088-e50f65815210",
   "metadata": {},
   "source": [
    "### Problema 1: ###"
   ]
  },
  {
   "cell_type": "markdown",
   "id": "5e5b7b43-48bc-474d-8c83-19e15ffd81cb",
   "metadata": {},
   "source": [
    "***1a)*** Juegue con distintos valores de `dt` (`N`) y datos iniciales. Vea qué sucede a medida que aumenta o disminuye `dt`. "
   ]
  },
  {
   "cell_type": "code",
   "execution_count": null,
   "id": "f222905f",
   "metadata": {},
   "outputs": [],
   "source": [
    "CrecimientoExponencial(y,t,λ)=λ*(y) # Definimos el término derecho de la ODE\n",
    "T = (0.0, 5.0)                    # Intervalo temporal\n",
    "N=2^10;                             # number of time intervals 2^10=1024\n",
    "dt=(T[2]-T[1])/(N-1);               # time step"
   ]
  },
  {
   "cell_type": "markdown",
   "id": "99337213",
   "metadata": {},
   "source": [
    "Para $\\Delta {t}$ fijo, tomamos distintos datos inicales $(y_{0},\\lambda)$"
   ]
  },
  {
   "cell_type": "code",
   "execution_count": null,
   "id": "0b08dbe2",
   "metadata": {},
   "outputs": [],
   "source": [
    "### ++++++++++++++++++++++++++++++++++++++++++++++++++++++++++++++++++\n",
    "### VARIANDO solo y0\n",
    "### ++++++++++++++++++++++++++++++++++++++++++++++++++++++++++++++++++\n",
    "λ =1.0;par=(λ);\n",
    "\n",
    "y0=1.0;                                            # Parámetros del problema (dentro de una tupla)\n",
    "prob=myODEproblem(CrecimientoExponencial,y0,T,par) # Definimos el problema\n",
    "t,y_01=myODEsolver(prob,EulerStep,dt=dt);          # Integramos la solución\n",
    "y_exact_01=y0*exp.(λ*t);                           # Solución exacta\n",
    "\n",
    "y0=2.0;                                            # Parámetros del problema (dentro de una tupla)\n",
    "prob=myODEproblem(CrecimientoExponencial,y0,T,par) # Definimos el problema\n",
    "t,y_02=myODEsolver(prob,EulerStep,dt=dt);          # Integramos la solución\n",
    "y_exact_02=y0*exp.(λ*t);                           # Solución exacta\n",
    "\n",
    "y0=3.0;                                            # Parámetros del problema (dentro de una tupla)\n",
    "prob=myODEproblem(CrecimientoExponencial,y0,T,par) # Definimos el problema\n",
    "t,y_03=myODEsolver(prob,EulerStep,dt=dt);          # Integramos la solución\n",
    "y_exact_03=y0*exp.(λ*t);                           # Solución exacta"
   ]
  },
  {
   "cell_type": "code",
   "execution_count": null,
   "id": "385f2805",
   "metadata": {},
   "outputs": [],
   "source": [
    "### ++++++++++++++++++++++++++++++++++++++++++++++++++++++++++++++++++\n",
    "### VARIANDO solo λ\n",
    "### ++++++++++++++++++++++++++++++++++++++++++++++++++++++++++++++++++\n",
    "y0=1.0;\n",
    "\n",
    "λ =2.0;par=(λ);                                    # Parámetros del problema (dentro de una tupla)\n",
    "prob=myODEproblem(CrecimientoExponencial,y0,T,par) # Definimos el problema\n",
    "t,y_04=myODEsolver(prob,EulerStep,dt=dt);          # Integramos la solución\n",
    "y_exact_04=y0*exp.(λ*t);                           # Solución exacta\n",
    "\n",
    "λ =3.0;par=(λ);                                    # Parámetros del problema (dentro de una tupla)\n",
    "prob=myODEproblem(CrecimientoExponencial,y0,T,par) # Definimos el problema\n",
    "t,y_05=myODEsolver(prob,EulerStep,dt=dt);          # Integramos la solución\n",
    "y_exact_05=y0*exp.(λ*t);                           # Solución exacta"
   ]
  },
  {
   "cell_type": "code",
   "execution_count": null,
   "id": "376e7c6f",
   "metadata": {},
   "outputs": [],
   "source": [
    "### ++++++++++++++++++++++++++++++++++++++++++++++++++++++++++++++++++\n",
    "### PLOTEAMOS LOS RESULTADOS\n",
    "### ++++++++++++++++++++++++++++++++++++++++++++++++++++++++++++++++++\n",
    "plt = plot(yaxis=:log)\n",
    "plot!(plt,t,y_01,label=\"(y0,λ)=(1,1)\",lw=3)\n",
    "plot!(plt,t,y_exact_01,label=\"exact\",line=(:dot,2),color=\"black\")\n",
    "plot!(plt,t,y_02,label=\"(y0,λ)=(2,1)\",lw=3)\n",
    "plot!(plt,t,y_exact_02,label=\"exact\",line=(:dot,2),color=\"black\")\n",
    "plot!(plt,t,y_03,label=\"(y0,λ)=(3,1)\",lw=3)\n",
    "plot!(plt,t,y_exact_03,label=\"exact\",line=(:dot,2),color=\"black\")\n",
    "plot!(plt,t,y_04,label=\"(y0,λ)=(1,2)\",lw=3)\n",
    "plot!(plt,t,y_exact_04,label=\"exact\",line=(:dot,2),color=\"black\")\n",
    "plot!(plt,t,y_05,label=\"(y0,λ)=(1,3)\",lw=3)\n",
    "plot!(plt,t,y_exact_05,label=\"exact\",line=(:dot,2),color=\"black\")\n",
    "plot!(ylabel=\"\\$y(t)\\$ \\$log\\$ \\$scale\\$\",xlabel=\"\\$t\\$\",title=\"Euler method: Different initial conditions \\n N=1024 \")\n",
    "plot!(plt,legend=:topleft)"
   ]
  },
  {
   "cell_type": "markdown",
   "id": "bdf20cdb",
   "metadata": {},
   "source": [
    " Ahora para unos datos inicales $(y_{0},\\lambda)$ fijos, tomamos distintos valores de $\\Delta {t}$"
   ]
  },
  {
   "cell_type": "code",
   "execution_count": null,
   "id": "5d397c7c",
   "metadata": {},
   "outputs": [],
   "source": [
    "T = (0.0, 100.0)                                    # Intervalo temporal\n",
    "y0=5.0;λ =2.0;par=(λ);                              # condiciones iniciales\n",
    "prob=myODEproblem(CrecimientoExponencial,y0,T,par); # Definimos el problema"
   ]
  },
  {
   "cell_type": "code",
   "execution_count": null,
   "id": "f8daa720",
   "metadata": {},
   "outputs": [],
   "source": [
    "### ++++++++++++++++++++++++++++++++++++++++++++++++++++++++++++++++++\n",
    "### VARIANDO dt (ó N)\n",
    "### ++++++++++++++++++++++++++++++++++++++++++++++++++++++++++++++++++\n",
    "N=2^9;dt=(T[2]-T[1])/(N-1);                  # number of time intervals and time step\n",
    "t_01,y_01=myODEsolver(prob,EulerStep,dt=dt); # Integramos la solución\n",
    "\n",
    "N=2^10;dt=(T[2]-T[1])/(N-1);                 # number of time intervals and time step\n",
    "t_02,y_02=myODEsolver(prob,EulerStep,dt=dt); # Integramos la solución\n",
    "\n",
    "N=2^11;dt=(T[2]-T[1])/(N-1);                 # number of time intervals and time step\n",
    "t_03,y_03=myODEsolver(prob,EulerStep,dt=dt); # Integramos la solución"
   ]
  },
  {
   "cell_type": "code",
   "execution_count": null,
   "id": "eb9e30da",
   "metadata": {},
   "outputs": [],
   "source": [
    "### ++++++++++++++++++++++++++++++++++++++++++++++++++++++++++++++++++\n",
    "### PLOTEAMOS LOS RESULTADOS\n",
    "### ++++++++++++++++++++++++++++++++++++++++++++++++++++++++++++++++++\n",
    "plt = plot(yaxis=:log)\n",
    "plot!(plt,t_01,y_01,label=\"N=512\")\n",
    "plot!(plt,t_02,y_02,label=\"N=1024\",lw=3)\n",
    "plot!(plt,t_03,y_03,label=\"N=2048\",lw=3)\n",
    "plot!(plt,t_01,y0*exp.(λ*t_01),label=\"exact\",line=(:dot,2),color=\"black\")\n",
    "plot!(ylabel=\"\\$y(t)\\$ \\$log\\$ \\$scale\\$\",xlabel=\"\\$t\\$\",title=\"Euler method: Different time steps \\n (y0,λ)=(5,2) \")\n",
    "plot!(plt,legend=:topleft)"
   ]
  },
  {
   "cell_type": "markdown",
   "id": "0a3ed44a-a92b-4776-af64-03665528fb80",
   "metadata": {},
   "source": [
    "***1b)*** ¿Cómo se comporta el sistema si $\\lambda$ y/o $y_0$ son números complejos?. Pruebe con $\\lambda$ imaginario. Grafique. \n",
    "\n",
    "*Pista 1: Un número complejo $c = a + bi$ se define en julia como como `c = a + bim`. Las funciones `real(c)` e `imag(c)` retornan `a` y `b` respectivamente.*\n",
    "\n",
    "*Pista 2: Si toma $\\lambda$ complejo, también debe tomar el dato inicial como número complejo, aunque sea real, por ejemplo $y_0 = 1.0 + 0.0im$*"
   ]
  },
  {
   "cell_type": "code",
   "execution_count": null,
   "id": "678a216b-4fc9-4dc0-ba29-3c0e3aadeddf",
   "metadata": {},
   "outputs": [],
   "source": [
    "y0=ComplexF64(1.0+0.0*im);                          # Datos iniciales\n",
    "T=(0.0,10.0);                                        # Intervalo temporal\n",
    "λ=ComplexF64(1.0+1.0*im);par=(λ);                   # Parámetros del problema (dentro de una tupla)\n",
    "prob=myODEproblem(CrecimientoExponencial,y0,T,par); # definimos el problema"
   ]
  },
  {
   "cell_type": "code",
   "execution_count": null,
   "id": "103fd31f",
   "metadata": {},
   "outputs": [],
   "source": [
    "N=101;                                 # Cantidad de pasos temporales\n",
    "dt=(T[2]-T[1])/(N-1);                  # discretizando con N pasos (dt = (Tfin-Tini)/(N-1))\n",
    "t,y=myODEsolver(prob,EulerStep,dt=dt); # resolvemos usando método de Euler"
   ]
  },
  {
   "cell_type": "code",
   "execution_count": null,
   "id": "98d2313f",
   "metadata": {},
   "outputs": [],
   "source": [
    "### ++++++++++++++++++++++++++++++++++++++++++++++++++++++++++++++++++\n",
    "### PLOTEAMOS PARTE REAL DE LA SOLUCIÓN\n",
    "### ++++++++++++++++++++++++++++++++++++++++++++++++++++++++++++++++++\n",
    "plt=plot()\n",
    "plot!(plt,t,real(y),label=\"Euler\")\n",
    "scatter!(plt,t,real(y),label=\"\")\n",
    "plot!(plt,t,real(y0*exp.(λ*t)), label = \"exact\")\n",
    "plot!(ylabel=\"\\$ Re \\\\{ y(t) \\\\} \\$\",xlabel=\"\\$time (t)\\$\")\n",
    "plot!(plt,legend=:bottomleft,title=\"Euler Method: Real solution\")"
   ]
  },
  {
   "cell_type": "code",
   "execution_count": null,
   "id": "73995706",
   "metadata": {},
   "outputs": [],
   "source": [
    "### ++++++++++++++++++++++++++++++++++++++++++++++++++++++++++++++++++\n",
    "### PLOTEAMOS PARTE IMAGINARIA DE LA SOLUCIÓN\n",
    "### ++++++++++++++++++++++++++++++++++++++++++++++++++++++++++++++++++\n",
    "plt = plot()\n",
    "plot!(plt,t,imag(y),label=\"Euler\")\n",
    "scatter!(plt,t,imag(y),label=\"\")\n",
    "plot!(plt,t,imag(y0*exp.(λ*t)),label=\"exact\")\n",
    "plot!(ylabel=\"\\$ Im \\\\{ y(t) \\\\} \\$\",xlabel=\"\\$time (t)\\$\")\n",
    "plot!(plt,legend=:topleft,title=\"Euler Method: Imaginary solution\")"
   ]
  },
  {
   "cell_type": "markdown",
   "id": "d73ee4fc-9451-46cd-84bd-5b1c06df362d",
   "metadata": {},
   "source": [
    "***1c)*** Utilice varios N para calcular el factor $Q$ del método de Euler."
   ]
  },
  {
   "cell_type": "code",
   "execution_count": null,
   "id": "49499afa",
   "metadata": {},
   "outputs": [],
   "source": [
    "### ++++++++++++++++++++++++++++++++++++++++++++++++++++++++++++++++++\n",
    "### DEFINIMOS PARÁMETROS INICALES\n",
    "### ++++++++++++++++++++++++++++++++++++++++++++++++++++++++++++++++++\n",
    "#y0=Float64(1.0);        # Datos iniciales\n",
    "T=(0.0,10.0);           # Intervalo temporal\n",
    "#λ=Float64(2.0);par=(λ); # Parámetros del problema (dentro de una tupla)"
   ]
  },
  {
   "cell_type": "code",
   "execution_count": null,
   "id": "b9f9f2f1",
   "metadata": {},
   "outputs": [],
   "source": [
    "prob=myODEproblem(CrecimientoExponencial,y0,T,par); # definimos el problema\n",
    "\n",
    "### ++++++++++++++++++++++++++++++++++++++++++++++++++++++++++++++++++\n",
    "### CALCULAMOS SOLUCIÓN PARA N=101 PASOS\n",
    "### ++++++++++++++++++++++++++++++++++++++++++++++++++++++++++++++++++\n",
    "N=512;dt=(T[2]-T[1])/(N-1);                  # cantidad de pasos temporales (para N pasos)\n",
    "t_N1,y_N1=myODEsolver(prob,EulerStep,dt=dt); # integramos la solución con método de Euler (para N pasos)\n",
    "N=2*N;dt=(T[2]-T[1])/(N-1);                  # cantidad de pasos temporales (para 2N pasos)\n",
    "t_N2,y_N2=myODEsolver(prob,EulerStep,dt=dt); # integramos la solución con método de Euler (para 2N pasos)\n",
    "N=2*N;dt=(T[2]-T[1])/(N-1);                  # cantidad de pasos temporales (para 4N pasos)\n",
    "t_N3,y_N3=myODEsolver(prob,EulerStep,dt=dt); # integramos la solución con método de Euler (para 4N pasos)\n",
    "\n",
    "### ++++++++++++++++++++++++++++++++++++++++++++++++++++++++++++++++++\n",
    "### CALCULAMOS SOLUCIÓN PARA N=1024 PASOS\n",
    "### ++++++++++++++++++++++++++++++++++++++++++++++++++++++++++++++++++\n",
    "N=1024;dt=(T[2]-T[1])/(N-1);                 # cantidad de pasos temporales (para N pasos)\n",
    "t_N4,y_N4=myODEsolver(prob,EulerStep,dt=dt); # integramos la solución con método de Euler (para N pasos)\n",
    "N=2*N;dt=(T[2]-T[1])/(N-1);                  # cantidad de pasos temporales (para 2N pasos)\n",
    "t_N5,y_N5=myODEsolver(prob,EulerStep,dt=dt); # integramos la solución con método de Euler (para 2N pasos)\n",
    "N=2*N;dt=(T[2]-T[1])/(N-1);                  # cantidad de pasos temporales (para 4N pasos)\n",
    "t_N6,y_N6=myODEsolver(prob,EulerStep,dt=dt); # integramos la solución con método de Euler (para 4N pasos)\n",
    "\n",
    "### ++++++++++++++++++++++++++++++++++++++++++++++++++++++++++++++++++\n",
    "### CALCULAMOS SOLUCIÓN PARA N=2048 PASOS\n",
    "### ++++++++++++++++++++++++++++++++++++++++++++++++++++++++++++++++++\n",
    "N=2048;dt=(T[2]-T[1])/(N-1);                 # cantidad de pasos temporales (para N pasos)\n",
    "t_N7,y_N7=myODEsolver(prob,EulerStep,dt=dt); # integramos la solución con método de Euler (para N pasos)\n",
    "N=2*N;dt=(T[2]-T[1])/(N-1);                  # cantidad de pasos temporales (para 2N pasos)\n",
    "t_N8,y_N8=myODEsolver(prob,EulerStep,dt=dt); # integramos la solución con método de Euler (para 2N pasos)\n",
    "N=2*N;dt=(T[2]-T[1])/(N-1);                  # cantidad de pasos temporales (para 4N pasos)\n",
    "t_N9,y_N9=myODEsolver(prob,EulerStep,dt=dt); # integramos la solución con método de Euler (para 4N pasos)\n"
   ]
  },
  {
   "cell_type": "code",
   "execution_count": null,
   "id": "a6f5eeed-e08a-41a3-9451-241ac993c524",
   "metadata": {},
   "outputs": [],
   "source": [
    "### ++++++++++++++++++++++++++++++++++++++++++++++++++++++++++++++++++\n",
    "### FUNCIÓN PARA CALCULAR EL FACTOR Q\n",
    "### ++++++++++++++++++++++++++++++++++++++++++++++++++++++++++++++++++\n",
    "function Q_factor(sol_n,sol_2n,sol_4n)\n",
    "    num=zero(copy(sol_n))                       # numerador inicializado a cero\n",
    "    den=zero(copy(sol_n))                       # denominador inicializado a cero\n",
    "    Q=zero(Array{Float64}(undef,length(sol_n))) # factor Q inicializado a cero\n",
    "    for i in 1:length(sol_n)\n",
    "        num[i]=abs(sol_n[i])-abs(sol_2n[2*i])\n",
    "        den[i]=abs(sol_2n[2*i])-abs(sol_4n[4*i])\n",
    "        Q[i]=real(num[i])/real(den[i])\n",
    "    end\n",
    "    return Q\n",
    "end"
   ]
  },
  {
   "cell_type": "code",
   "execution_count": null,
   "id": "01f49655",
   "metadata": {},
   "outputs": [],
   "source": [
    "### ++++++++++++++++++++++++++++++++++++++++++++++++++++++++++++++++++\n",
    "### PLOTEAMOS LOS RESULTADOS PARA DISTINTOS N\n",
    "### ++++++++++++++++++++++++++++++++++++++++++++++++++++++++++++++++++\n",
    "plt=plot()\n",
    "plot!(plt,t_N1,Q_factor(y_N1,y_N2,y_N3),label=\"N=512\")\n",
    "plot!(plt,t_N4,Q_factor(y_N4,y_N5,y_N6),label=\"N=1024\")\n",
    "plot!(plt,t_N7,Q_factor(y_N7,y_N8,y_N9),label=\"N=2048\")\n",
    "plot!(ylabel=\"\\$Q\\$\",xlabel=\"\\$time (t)\\$\")\n",
    "plot!(plt, legend = :topleft, title = \"Euler method: Q factor \\n  \\$Q_{Euler}=2^{2}=4 \\$\")"
   ]
  },
  {
   "cell_type": "markdown",
   "id": "ad8250d5-5e28-4277-b928-291d100f0022",
   "metadata": {},
   "source": [
    "***1d)***\n",
    "Usando $\\lambda = 1, y_0 = 1$, implemente los métodos de Runge-Kutta de orden 2 y 4 creando dos funciones llamadas `RK2step` y `RK4step`, similares a `EulerStep`. Vuelva a graficar para distintos $N$ y calcule el factor $Q$ para estos métodos. Nota: para RK2 puede usar el que se llama *método de Heum* o el que se denomina *método de Euler Mejorado*, o ambos (con nombres distintos).\n",
    "\n",
    "***Ayuda:** Primero defina las funciones en una celda y pruébelas hasta estar seguro que están funcionando correctamente. Sólo cuando esté seguro cópielas a el archivo  ``myODEfunctions.jl``. Es más eficiente y cómodo trabajar en el notebook!*"
   ]
  },
  {
   "cell_type": "code",
   "execution_count": null,
   "id": "8072904c",
   "metadata": {},
   "outputs": [],
   "source": [
    "### ++++++++++++++++++++++++++++++++++++++++++++++++++++++++++++++++++\n",
    "### DEFINIMOS PARÁMETROS INICALES\n",
    "### ++++++++++++++++++++++++++++++++++++++++++++++++++++++++++++++++++\n",
    "y0=1.0;        # Datos iniciales\n",
    "T=(0.0,10.0);  # Intervalo temporal\n",
    "λ=1.0;par=(λ); # Parámetros del problema (dentro de una tupla)\n",
    "prob=myODEproblem(CrecimientoExponencial,y0,T,par); # definimos el problema"
   ]
  },
  {
   "cell_type": "code",
   "execution_count": null,
   "id": "aad3d4ac",
   "metadata": {},
   "outputs": [],
   "source": [
    "### ++++++++++++++++++++++++++++++++++++++++++++++++++++++++++++++++++\n",
    "### USAMOS METODO DE RK2 MÉTODO DE HEUN\n",
    "### ++++++++++++++++++++++++++++++++++++++++++++++++++++++++++++++++++\n",
    "\n",
    "### ++++++++++++++++++++++++++++++++++++++++++++++++++++++++++++++++++\n",
    "### CALCULAMOS SOLUCIÓN PARA N=101 PASOS\n",
    "### ++++++++++++++++++++++++++++++++++++++++++++++++++++++++++++++++++\n",
    "N=512;dt=(T[2]-T[1])/(N-1);                  # cantidad de pasos temporales (para N pasos)\n",
    "t_N1,y_N1=myODEsolver(prob,RK2step_Heun,dt=dt); # integramos la solución con método de Euler (para N pasos)\n",
    "N=2*N;dt=(T[2]-T[1])/(N-1);                  # cantidad de pasos temporales (para 2N pasos)\n",
    "t_N2,y_N2=myODEsolver(prob,RK2step_Heun,dt=dt); # integramos la solución con método de Euler (para 2N pasos)\n",
    "N=2*N;dt=(T[2]-T[1])/(N-1);                  # cantidad de pasos temporales (para 4N pasos)\n",
    "t_N3,y_N3=myODEsolver(prob,RK2step_Heun,dt=dt); # integramos la solución con método de Euler (para 4N pasos)\n",
    "\n",
    "### ++++++++++++++++++++++++++++++++++++++++++++++++++++++++++++++++++\n",
    "### CALCULAMOS SOLUCIÓN PARA N=1024 PASOS\n",
    "### ++++++++++++++++++++++++++++++++++++++++++++++++++++++++++++++++++\n",
    "N=1024;dt=(T[2]-T[1])/(N-1);                 # cantidad de pasos temporales (para N pasos)\n",
    "t_N4,y_N4=myODEsolver(prob,RK2step_Heun,dt=dt); # integramos la solución con método de Euler (para N pasos)\n",
    "N=2*N;dt=(T[2]-T[1])/(N-1);                  # cantidad de pasos temporales (para 2N pasos)\n",
    "t_N5,y_N5=myODEsolver(prob,RK2step_Heun,dt=dt); # integramos la solución con método de Euler (para 2N pasos)\n",
    "N=2*N;dt=(T[2]-T[1])/(N-1);                  # cantidad de pasos temporales (para 4N pasos)\n",
    "t_N6,y_N6=myODEsolver(prob,RK2step_Heun,dt=dt); # integramos la solución con método de Euler (para 4N pasos)\n",
    "\n",
    "### ++++++++++++++++++++++++++++++++++++++++++++++++++++++++++++++++++\n",
    "### CALCULAMOS SOLUCIÓN PARA N=2048 PASOS\n",
    "### ++++++++++++++++++++++++++++++++++++++++++++++++++++++++++++++++++\n",
    "N=2048;dt=(T[2]-T[1])/(N-1);                 # cantidad de pasos temporales (para N pasos)\n",
    "t_N7,y_N7=myODEsolver(prob,RK2step_Heun,dt=dt); # integramos la solución con método de Euler (para N pasos)\n",
    "N=2*N;dt=(T[2]-T[1])/(N-1);                  # cantidad de pasos temporales (para 2N pasos)\n",
    "t_N8,y_N8=myODEsolver(prob,RK2step_Heun,dt=dt); # integramos la solución con método de Euler (para 2N pasos)\n",
    "N=2*N;dt=(T[2]-T[1])/(N-1);                  # cantidad de pasos temporales (para 4N pasos)\n",
    "t_N9,y_N9=myODEsolver(prob,RK2step_Heun,dt=dt); # integramos la solución con método de Euler (para 4N pasos)"
   ]
  },
  {
   "cell_type": "code",
   "execution_count": null,
   "id": "bcdc0486",
   "metadata": {},
   "outputs": [],
   "source": [
    "### ++++++++++++++++++++++++++++++++++++++++++++++++++++++++++++++++++\n",
    "### PLOTEAMOS LOS RESULTADOS PARA DISTINTOS N\n",
    "### ++++++++++++++++++++++++++++++++++++++++++++++++++++++++++++++++++\n",
    "plt=plot()\n",
    "plot!(plt,t_N1,Q_factor(y_N1,y_N2,y_N3),label=\"N=512\")\n",
    "plot!(plt,t_N4,Q_factor(y_N4,y_N5,y_N6),label=\"N=1024\")\n",
    "plot!(plt,t_N7,Q_factor(y_N7,y_N8,y_N9),label=\"N=2048\")\n",
    "plot!(ylabel=\"\\$Q\\$\",xlabel=\"\\$time (t)\\$\")\n",
    "plot!(plt, legend = :topleft, title = \"RK2 Heun method: Q factor \\n  \\$Q_{RK2}=2^{3}=8 \\$\")"
   ]
  },
  {
   "cell_type": "code",
   "execution_count": null,
   "id": "db55f858",
   "metadata": {},
   "outputs": [],
   "source": [
    "### ++++++++++++++++++++++++++++++++++++++++++++++++++++++++++++++++++\n",
    "### USAMOS METODO DE RK4\n",
    "### ++++++++++++++++++++++++++++++++++++++++++++++++++++++++++++++++++\n",
    "\n",
    "### ++++++++++++++++++++++++++++++++++++++++++++++++++++++++++++++++++\n",
    "### CALCULAMOS SOLUCIÓN PARA N=101 PASOS\n",
    "### ++++++++++++++++++++++++++++++++++++++++++++++++++++++++++++++++++\n",
    "N=512;dt=(T[2]-T[1])/(N-1);                  # cantidad de pasos temporales (para N pasos)\n",
    "t_N1,y_N1=myODEsolver(prob,RK4step,dt=dt); # integramos la solución con método de Euler (para N pasos)\n",
    "N=2*N;dt=(T[2]-T[1])/(N-1);                  # cantidad de pasos temporales (para 2N pasos)\n",
    "t_N2,y_N2=myODEsolver(prob,RK4step,dt=dt); # integramos la solución con método de Euler (para 2N pasos)\n",
    "N=2*N;dt=(T[2]-T[1])/(N-1);                  # cantidad de pasos temporales (para 4N pasos)\n",
    "t_N3,y_N3=myODEsolver(prob,RK4step,dt=dt); # integramos la solución con método de Euler (para 4N pasos)\n",
    "\n",
    "### ++++++++++++++++++++++++++++++++++++++++++++++++++++++++++++++++++\n",
    "### CALCULAMOS SOLUCIÓN PARA N=1024 PASOS\n",
    "### ++++++++++++++++++++++++++++++++++++++++++++++++++++++++++++++++++\n",
    "N=1024;dt=(T[2]-T[1])/(N-1);                 # cantidad de pasos temporales (para N pasos)\n",
    "t_N4,y_N4=myODEsolver(prob,RK4step,dt=dt); # integramos la solución con método de Euler (para N pasos)\n",
    "N=2*N;dt=(T[2]-T[1])/(N-1);                  # cantidad de pasos temporales (para 2N pasos)\n",
    "t_N5,y_N5=myODEsolver(prob,RK4step,dt=dt); # integramos la solución con método de Euler (para 2N pasos)\n",
    "N=2*N;dt=(T[2]-T[1])/(N-1);                  # cantidad de pasos temporales (para 4N pasos)\n",
    "t_N6,y_N6=myODEsolver(prob,RK4step,dt=dt); # integramos la solución con método de Euler (para 4N pasos)\n",
    "\n",
    "### ++++++++++++++++++++++++++++++++++++++++++++++++++++++++++++++++++\n",
    "### CALCULAMOS SOLUCIÓN PARA N=2048 PASOS\n",
    "### ++++++++++++++++++++++++++++++++++++++++++++++++++++++++++++++++++\n",
    "N=2048;dt=(T[2]-T[1])/(N-1);                 # cantidad de pasos temporales (para N pasos)\n",
    "t_N7,y_N7=myODEsolver(prob,RK4step,dt=dt); # integramos la solución con método de Euler (para N pasos)\n",
    "N=2*N;dt=(T[2]-T[1])/(N-1);                  # cantidad de pasos temporales (para 2N pasos)\n",
    "t_N8,y_N8=myODEsolver(prob,RK4step,dt=dt); # integramos la solución con método de Euler (para 2N pasos)\n",
    "N=2*N;dt=(T[2]-T[1])/(N-1);                  # cantidad de pasos temporales (para 4N pasos)\n",
    "t_N9,y_N9=myODEsolver(prob,RK4step,dt=dt); # integramos la solución con método de Euler (para 4N pasos)"
   ]
  },
  {
   "cell_type": "code",
   "execution_count": null,
   "id": "ec45009f",
   "metadata": {},
   "outputs": [],
   "source": [
    "### ++++++++++++++++++++++++++++++++++++++++++++++++++++++++++++++++++\n",
    "### PLOTEAMOS LOS RESULTADOS PARA DISTINTOS N\n",
    "### ++++++++++++++++++++++++++++++++++++++++++++++++++++++++++++++++++\n",
    "plt=plot()\n",
    "plot!(plt,t_N1,Q_factor(y_N1,y_N2,y_N3),label=\"N=512\")\n",
    "plot!(plt,t_N4,Q_factor(y_N4,y_N5,y_N6),label=\"N=1024\")\n",
    "plot!(plt,t_N7,Q_factor(y_N7,y_N8,y_N9),label=\"N=2048\")\n",
    "plot!(ylabel=\"\\$Q\\$\",xlabel=\"\\$time (t)\\$\")\n",
    "plot!(plt, legend = :topleft, title = \"RK4 classic method: Q factor \\n  \\$Q_{RK4}=2^{4}=16 \\$\")"
   ]
  },
  {
   "cell_type": "markdown",
   "id": "6fddf44d-3344-422c-9cc4-014b8bfcd476",
   "metadata": {},
   "source": [
    "***1e)*** Repita el punto anterior para $\\lambda = i$ y $y_0 = 1$. ¿Qué diferencia ve entre los métodos? "
   ]
  },
  {
   "cell_type": "code",
   "execution_count": null,
   "id": "d2375cb3-6b9a-4da5-b4e1-020e3785faf4",
   "metadata": {},
   "outputs": [],
   "source": [
    "### ++++++++++++++++++++++++++++++++++++++++++++++++++++++++++++++++++\n",
    "### DEFINIMOS PARÁMETROS INICALES\n",
    "### ++++++++++++++++++++++++++++++++++++++++++++++++++++++++++++++++++\n",
    "y0=1.0+0.0*im;        # Datos iniciales\n",
    "T=(0.0,10.0);         # Intervalo temporal\n",
    "λ=0.0+1.0*im;par=(λ); # Parámetros del problema (dentro de una tupla)\n",
    "prob=myODEproblem(CrecimientoExponencial,y0,T,par); # definimos el problema"
   ]
  },
  {
   "cell_type": "code",
   "execution_count": null,
   "id": "448d77e4",
   "metadata": {},
   "outputs": [],
   "source": [
    "### ++++++++++++++++++++++++++++++++++++++++++++++++++++++++++++++++++\n",
    "### USAMOS METODO DE RK2 MÉTODO DE HEUN\n",
    "### ++++++++++++++++++++++++++++++++++++++++++++++++++++++++++++++++++\n",
    "\n",
    "### ++++++++++++++++++++++++++++++++++++++++++++++++++++++++++++++++++\n",
    "### CALCULAMOS SOLUCIÓN PARA N=101 PASOS\n",
    "### ++++++++++++++++++++++++++++++++++++++++++++++++++++++++++++++++++\n",
    "N=512;dt=(T[2]-T[1])/(N-1);                  # cantidad de pasos temporales (para N pasos)\n",
    "t_N1,y_N1=myODEsolver(prob,RK2step_Heun,dt=dt); # integramos la solución con método de Euler (para N pasos)\n",
    "N=2*N;dt=(T[2]-T[1])/(N-1);                  # cantidad de pasos temporales (para 2N pasos)\n",
    "t_N2,y_N2=myODEsolver(prob,RK2step_Heun,dt=dt); # integramos la solución con método de Euler (para 2N pasos)\n",
    "N=2*N;dt=(T[2]-T[1])/(N-1);                  # cantidad de pasos temporales (para 4N pasos)\n",
    "t_N3,y_N3=myODEsolver(prob,RK2step_Heun,dt=dt); # integramos la solución con método de Euler (para 4N pasos)\n",
    "\n",
    "### ++++++++++++++++++++++++++++++++++++++++++++++++++++++++++++++++++\n",
    "### CALCULAMOS SOLUCIÓN PARA N=1024 PASOS\n",
    "### ++++++++++++++++++++++++++++++++++++++++++++++++++++++++++++++++++\n",
    "N=1024;dt=(T[2]-T[1])/(N-1);                 # cantidad de pasos temporales (para N pasos)\n",
    "t_N4,y_N4=myODEsolver(prob,RK2step_Heun,dt=dt); # integramos la solución con método de Euler (para N pasos)\n",
    "N=2*N;dt=(T[2]-T[1])/(N-1);                  # cantidad de pasos temporales (para 2N pasos)\n",
    "t_N5,y_N5=myODEsolver(prob,RK2step_Heun,dt=dt); # integramos la solución con método de Euler (para 2N pasos)\n",
    "N=2*N;dt=(T[2]-T[1])/(N-1);                  # cantidad de pasos temporales (para 4N pasos)\n",
    "t_N6,y_N6=myODEsolver(prob,RK2step_Heun,dt=dt); # integramos la solución con método de Euler (para 4N pasos)\n",
    "\n",
    "### ++++++++++++++++++++++++++++++++++++++++++++++++++++++++++++++++++\n",
    "### CALCULAMOS SOLUCIÓN PARA N=2048 PASOS\n",
    "### ++++++++++++++++++++++++++++++++++++++++++++++++++++++++++++++++++\n",
    "N=2048;dt=(T[2]-T[1])/(N-1);                 # cantidad de pasos temporales (para N pasos)\n",
    "t_N7,y_N7=myODEsolver(prob,RK2step_Heun,dt=dt); # integramos la solución con método de Euler (para N pasos)\n",
    "N=2*N;dt=(T[2]-T[1])/(N-1);                  # cantidad de pasos temporales (para 2N pasos)\n",
    "t_N8,y_N8=myODEsolver(prob,RK2step_Heun,dt=dt); # integramos la solución con método de Euler (para 2N pasos)\n",
    "N=2*N;dt=(T[2]-T[1])/(N-1);                  # cantidad de pasos temporales (para 4N pasos)\n",
    "t_N9,y_N9=myODEsolver(prob,RK2step_Heun,dt=dt); # integramos la solución con método de Euler (para 4N pasos)"
   ]
  },
  {
   "cell_type": "code",
   "execution_count": null,
   "id": "0441ecee",
   "metadata": {},
   "outputs": [],
   "source": [
    "### ++++++++++++++++++++++++++++++++++++++++++++++++++++++++++++++++++\n",
    "### PLOTEAMOS LOS RESULTADOS PARA DISTINTOS N\n",
    "### ++++++++++++++++++++++++++++++++++++++++++++++++++++++++++++++++++\n",
    "plt=plot()\n",
    "plot!(plt,t_N1,Q_factor(y_N1,y_N2,y_N3),label=\"N=512\")\n",
    "plot!(plt,t_N4,Q_factor(y_N4,y_N5,y_N6),label=\"N=1024\")\n",
    "plot!(plt,t_N7,Q_factor(y_N7,y_N8,y_N9),label=\"N=2048\")\n",
    "plot!(ylabel=\"\\$Q\\$\",xlabel=\"\\$time (t)\\$\")\n",
    "plot!(plt,legend=:bottomright,title=\"RK2 Heun method: Q factor \\n  \\$Q_{RK2}=2^{3}=8 \\$\")"
   ]
  },
  {
   "cell_type": "code",
   "execution_count": null,
   "id": "6e4b1ba2",
   "metadata": {},
   "outputs": [],
   "source": [
    "### ++++++++++++++++++++++++++++++++++++++++++++++++++++++++++++++++++\n",
    "### USAMOS METODO DE RK4\n",
    "### ++++++++++++++++++++++++++++++++++++++++++++++++++++++++++++++++++\n",
    "\n",
    "### ++++++++++++++++++++++++++++++++++++++++++++++++++++++++++++++++++\n",
    "### CALCULAMOS SOLUCIÓN PARA N=101 PASOS\n",
    "### ++++++++++++++++++++++++++++++++++++++++++++++++++++++++++++++++++\n",
    "N=512;dt=(T[2]-T[1])/(N-1);                  # cantidad de pasos temporales (para N pasos)\n",
    "t_N1,y_N1=myODEsolver(prob,RK4step,dt=dt); # integramos la solución con método de Euler (para N pasos)\n",
    "N=2*N;dt=(T[2]-T[1])/(N-1);                  # cantidad de pasos temporales (para 2N pasos)\n",
    "t_N2,y_N2=myODEsolver(prob,RK4step,dt=dt); # integramos la solución con método de Euler (para 2N pasos)\n",
    "N=2*N;dt=(T[2]-T[1])/(N-1);                  # cantidad de pasos temporales (para 4N pasos)\n",
    "t_N3,y_N3=myODEsolver(prob,RK4step,dt=dt); # integramos la solución con método de Euler (para 4N pasos)\n",
    "\n",
    "### ++++++++++++++++++++++++++++++++++++++++++++++++++++++++++++++++++\n",
    "### CALCULAMOS SOLUCIÓN PARA N=1024 PASOS\n",
    "### ++++++++++++++++++++++++++++++++++++++++++++++++++++++++++++++++++\n",
    "N=1024;dt=(T[2]-T[1])/(N-1);                 # cantidad de pasos temporales (para N pasos)\n",
    "t_N4,y_N4=myODEsolver(prob,RK4step,dt=dt); # integramos la solución con método de Euler (para N pasos)\n",
    "N=2*N;dt=(T[2]-T[1])/(N-1);                  # cantidad de pasos temporales (para 2N pasos)\n",
    "t_N5,y_N5=myODEsolver(prob,RK4step,dt=dt); # integramos la solución con método de Euler (para 2N pasos)\n",
    "N=2*N;dt=(T[2]-T[1])/(N-1);                  # cantidad de pasos temporales (para 4N pasos)\n",
    "t_N6,y_N6=myODEsolver(prob,RK4step,dt=dt); # integramos la solución con método de Euler (para 4N pasos)\n",
    "\n",
    "### ++++++++++++++++++++++++++++++++++++++++++++++++++++++++++++++++++\n",
    "### CALCULAMOS SOLUCIÓN PARA N=2048 PASOS\n",
    "### ++++++++++++++++++++++++++++++++++++++++++++++++++++++++++++++++++\n",
    "N=2048;dt=(T[2]-T[1])/(N-1);                 # cantidad de pasos temporales (para N pasos)\n",
    "t_N7,y_N7=myODEsolver(prob,RK4step,dt=dt); # integramos la solución con método de Euler (para N pasos)\n",
    "N=2*N;dt=(T[2]-T[1])/(N-1);                  # cantidad de pasos temporales (para 2N pasos)\n",
    "t_N8,y_N8=myODEsolver(prob,RK4step,dt=dt); # integramos la solución con método de Euler (para 2N pasos)\n",
    "N=2*N;dt=(T[2]-T[1])/(N-1);                  # cantidad de pasos temporales (para 4N pasos)\n",
    "t_N9,y_N9=myODEsolver(prob,RK4step,dt=dt); # integramos la solución con método de Euler (para 4N pasos)"
   ]
  },
  {
   "cell_type": "code",
   "execution_count": null,
   "id": "4eb9655a",
   "metadata": {},
   "outputs": [],
   "source": [
    "### ++++++++++++++++++++++++++++++++++++++++++++++++++++++++++++++++++\n",
    "### PLOTEAMOS LOS RESULTADOS PARA DISTINTOS N\n",
    "### ++++++++++++++++++++++++++++++++++++++++++++++++++++++++++++++++++\n",
    "plt=plot()\n",
    "plot!(plt,t_N1,Q_factor(y_N1,y_N2,y_N3),label=\"N=512\")\n",
    "plot!(plt,t_N4,Q_factor(y_N4,y_N5,y_N6),label=\"N=1024\")\n",
    "plot!(plt,t_N7,Q_factor(y_N7,y_N8,y_N9),label=\"N=2048\")\n",
    "plot!(ylabel=\"\\$Q\\$\",xlabel=\"\\$time (t)\\$\")\n",
    "plot!(plt, legend = :bottomright, title = \"RK4 classic method: Q factor \\n  \\$Q_{RK4}=2^{4}=16 \\$\")"
   ]
  },
  {
   "cell_type": "markdown",
   "id": "35ab6c65-f721-4c85-b86f-0d1e14723880",
   "metadata": {},
   "source": [
    "### Problema 2: ###\n",
    "**Estabilidad de la solución**\n",
    "\n",
    "Considere la ecuación\n",
    "$\\frac{dy}{dt} = y - y^2$\n",
    "\n",
    "Esta ecuación tiene dos puntos estacionarios: $y(t) = 1$ e $y (t) = 0$. Evolucione numéricamente con `y0 = 0:0.1:2` (es decir, con datos iniciales $y_0 = 0, y_0 = 0.1,...,y_0 = 2$). Considere para esto el intervalo temporal $[0, 10]$. Grafique con distintos métodos y valores de N y trate de comprender el comportamiento de la solución.\n",
    "\n",
    "*Opcional:* Para ver el comportamiento para $y_0$ negativo pruebe con `y0 = (0:-0.1:-0.5)` en el intervalo temporal [0,1]."
   ]
  },
  {
   "cell_type": "markdown",
   "id": "67a334cb",
   "metadata": {},
   "source": [
    "Consideramos la siguiente ecuación diferencial lineal general\n",
    "\n",
    "$\\frac{dy}{dt} = f(y,t,\\lambda_{1,2}) \\Rightarrow f(y,t,\\lambda_{1,2})=\\left( \\lambda_{1}y^{2}+\\lambda_{2}y \\right)=\\lambda_{1}y\\left( y+\\frac{\\lambda_{2}}{\\lambda_{1}} \\right)$"
   ]
  },
  {
   "cell_type": "code",
   "execution_count": null,
   "id": "0e30d813",
   "metadata": {},
   "outputs": [],
   "source": [
    "# Definimos el término derecho de la ODE\n",
    "function f_vector(y,t,λ)\n",
    "    fvector = zero(Array{typeof(y[1])}(undef, length(y)))\n",
    "    for i in 1:length(y)\n",
    "        fvector[i] = λ[1]*y[i]*(y[i]+λ[2]/λ[1])\n",
    "    end\n",
    "    return fvector\n",
    "end"
   ]
  },
  {
   "cell_type": "code",
   "execution_count": null,
   "id": "fee2e41f-6cbf-4145-9ee5-e44791874666",
   "metadata": {},
   "outputs": [],
   "source": [
    "### ++++++++++++++++++++++++++++++++++++++++++++++++++++++++++++++++++\n",
    "### DEFINIMOS PARÁMETROS INICALES\n",
    "### ++++++++++++++++++++++++++++++++++++++++++++++++++++++++++++++++++\n",
    "y0_data=(0.0,2.0,10)    # Intervalo de condiciones inicales y num. de valores diferentes\n",
    "T=(0.0,10.0);           # Intervalo temporal\n",
    "λ1=-1;λ2=1;par=(λ1,λ2); # Parámetros del problema (dentro de una tupla)"
   ]
  },
  {
   "cell_type": "code",
   "execution_count": null,
   "id": "0920d486",
   "metadata": {},
   "outputs": [],
   "source": [
    "### ++++++++++++++++++++++++++++++++++++++++++++++++++++++++++++++++++\n",
    "### RESOLVEMOS PARA DISTINTAS CONDICIONES INICIALES Y CON MÉTODO DE EULER\n",
    "### ++++++++++++++++++++++++++++++++++++++++++++++++++++++++++++++++++\n",
    "plt = plot()\n",
    "for i in 1:y0_data[3]\n",
    "    Δy0=abs(y0_data[2]-y0_data[1])/(y0_data[3]-1);\n",
    "    y0=y0_data[1]+Δy0*(i-1); # y0={0,~0.1,~0.2,...,2}\n",
    "    prob_euler=myODEproblem(f_vector,y0,T,par); # definimos el problema\n",
    "    N=16 # Cantidad de pasos temporales\n",
    "    dt=(T[2]-T[1])/(N-1); # discretizando con N pasos (dt = |Tfin-Tini|/(N-1))\n",
    "    # Resolvemos EDO usando el método de Euler\n",
    "    t,y_euler=myODEsolver(prob_euler,EulerStep,dt=dt);\n",
    "    plot!(plt,t,y_euler[:,1],label=\"y0=$(Float16(y0))\",lw=2)\n",
    "    scatter!(plt,t, y_euler[:,1],label =\"\")\n",
    "end\n",
    "plot!(ylabel=\"\\$y(t)\\$\",xlabel=\"\\$time (t)\\$\")\n",
    "plot!(plt,legend=:topright,title=\"Euler method: N=16\")"
   ]
  },
  {
   "cell_type": "code",
   "execution_count": null,
   "id": "9dacfa33",
   "metadata": {},
   "outputs": [],
   "source": [
    "### ++++++++++++++++++++++++++++++++++++++++++++++++++++++++++++++++++\n",
    "### RESOLVEMOS PARA DISTINTAS CONDICIONES INICIALES Y CON MÉTODO DE EULER\n",
    "### ++++++++++++++++++++++++++++++++++++++++++++++++++++++++++++++++++\n",
    "plt = plot()\n",
    "for i in 1:y0_data[3]\n",
    "    Δy0=abs(y0_data[2]-y0_data[1])/(y0_data[3]-1);\n",
    "    y0=y0_data[1]+Δy0*(i-1); # y0={0,~0.1,~0.2,...,2}\n",
    "    prob_euler=myODEproblem(f_vector,y0,T,par); # definimos el problema\n",
    "    N=512 # Cantidad de pasos temporales\n",
    "    dt=(T[2]-T[1])/(N-1); # discretizando con N pasos (dt = |Tfin-Tini|/(N-1))\n",
    "    # Resolvemos EDO usando el método de Euler\n",
    "    t,y_euler=myODEsolver(prob_euler,EulerStep,dt=dt);\n",
    "    plot!(plt,t,y_euler[:,1],label=\"y0=$(Float16(y0))\",lw=2)\n",
    "    #scatter!(plt,t, y_euler[:,1],label =\"\")\n",
    "end\n",
    "plot!(ylabel=\"\\$y(t)\\$\",xlabel=\"\\$time (t)\\$\")\n",
    "plot!(plt,legend=:topright,title=\"Euler method: N=512\")"
   ]
  },
  {
   "cell_type": "code",
   "execution_count": null,
   "id": "2ef25e98",
   "metadata": {},
   "outputs": [],
   "source": [
    "### ++++++++++++++++++++++++++++++++++++++++++++++++++++++++++++++++++\n",
    "### RESOLVEMOS PARA DISTINTAS CONDICIONES INICIALES Y CON MÉTODO RK2 Heun\n",
    "### ++++++++++++++++++++++++++++++++++++++++++++++++++++++++++++++++++\n",
    "plt = plot()\n",
    "for i in 1:y0_data[3]\n",
    "    Δy0=abs(y0_data[2]-y0_data[1])/(y0_data[3]-1);\n",
    "    y0=y0_data[1]+Δy0*(i-1); # y0={0,~0.1,~0.2,...,2}\n",
    "    prob_euler=myODEproblem(f_vector,y0,T,par); # definimos el problema\n",
    "    N=16 # Cantidad de pasos temporales\n",
    "    dt=(T[2]-T[1])/(N-1); # discretizando con N pasos (dt = |Tfin-Tini|/(N-1))\n",
    "    t,y_RK2_Heun=myODEsolver(prob_euler,RK2step_Heun,dt=dt);\n",
    "    plot!(plt,t,y_RK2_Heun[:,1],label=\"y0=$(Float16(y0))\",lw=2)\n",
    "    scatter!(plt,t, y_RK2_Heun[:,1],label =\"\")\n",
    "end\n",
    "plot!(ylabel=\"\\$y(t)\\$\",xlabel=\"\\$time (t)\\$\")\n",
    "plot!(plt,legend=:topright,title=\"RK2 Heun method: N=16\")"
   ]
  },
  {
   "cell_type": "code",
   "execution_count": null,
   "id": "b0729094",
   "metadata": {},
   "outputs": [],
   "source": [
    "### ++++++++++++++++++++++++++++++++++++++++++++++++++++++++++++++++++\n",
    "### RESOLVEMOS PARA DISTINTAS CONDICIONES INICIALES Y CON MÉTODO DE RK4 CLASSIC\n",
    "### ++++++++++++++++++++++++++++++++++++++++++++++++++++++++++++++++++\n",
    "plt = plot()\n",
    "for i in 1:y0_data[3]\n",
    "    Δy0=abs(y0_data[2]-y0_data[1])/(y0_data[3]-1);\n",
    "    y0=y0_data[1]+Δy0*(i-1); # y0={0,~0.1,~0.2,...,2}\n",
    "    prob_euler=myODEproblem(f_vector,y0,T,par); # definimos el problema\n",
    "    N=16 # Cantidad de pasos temporales\n",
    "    dt=(T[2]-T[1])/(N-1); # discretizando con N pasos (dt = |Tfin-Tini|/(N-1))\n",
    "    t,y_RK4=myODEsolver(prob_euler,RK4step,dt=dt);\n",
    "    plot!(plt,t,y_RK4[:,1],label=\"y0=$(Float16(y0))\",lw=2)\n",
    "    scatter!(plt,t,y_RK4[:,1],label =\"\")\n",
    "end\n",
    "plot!(ylabel=\"\\$y(t)\\$\",xlabel=\"\\$time (t)\\$\")\n",
    "plot!(plt,legend=:topright,title=\"RK4 classic method: N=16\")"
   ]
  },
  {
   "cell_type": "markdown",
   "id": "1cbb7981-74e6-4e10-aa3c-647df05b7d1b",
   "metadata": {},
   "source": [
    "### Problema 3: ###\n",
    "**Sistemas de ecuaciones**\n",
    "\n",
    "La ecuación diferencial ordinaria de segundo orden\n",
    "$$\n",
    "\\dfrac{d^{2}u(t)}{dt^2} = -\\alpha^{2} u(t), \\quad \\alpha > 0\n",
    "$$\n",
    "\n",
    "tiene como solución general $u = A\\textrm{cos}(\\alpha t) +  B\\textrm{sen}(\\alpha t)$.\n",
    "\n",
    "Para resolverla numéricamente, podemos convertirla en un sistema de ecuaciones se ordinarias de primer orden definiendo $v = \\dfrac{du}{dt}$.\n",
    "\n",
    "$$\n",
    "    \\begin{array}{c}\n",
    "    \\dfrac{du}{dt} &= &  v \\\\\n",
    "    \\dfrac{dv}{dt} &= &-\\alpha^{2} u\n",
    "    \\end{array}\n",
    "$$\n",
    "\n",
    "***3a)*** Considere $$\\alpha = 1, \\quad u(0) = 1,\\quad  v(0) = 0.$$ \n",
    "Grafique y compare el desempéño de los distintos métodos con la solución exacta.\n",
    "\n",
    "\n",
    "*Pista: defina `y0 = [u0, v0]`*"
   ]
  },
  {
   "cell_type": "code",
   "execution_count": null,
   "id": "f486882b",
   "metadata": {},
   "outputs": [],
   "source": [
    "α=1.0;                        # factor\n",
    "u0=1.0;v0=0.0;y0=[u0;v0];     # condiciones iniciales\n",
    "λ1=1.0;λ2=-(α*α);par=(λ1,λ2); # Parámetros del problema (dentro de una tupla)"
   ]
  },
  {
   "cell_type": "code",
   "execution_count": null,
   "id": "2c9afa70",
   "metadata": {},
   "outputs": [],
   "source": [
    "# Definimos el término derecho de la ODE\n",
    "function f_vector(y,t,λ)\n",
    "    fvector = zero(Array{typeof(y[1])}(undef, length(y)))\n",
    "    for i in 1:length(y)\n",
    "        fvector[i] = λ[i]*y[length(y)+1-i]\n",
    "    end\n",
    "    return fvector\n",
    "end"
   ]
  },
  {
   "cell_type": "code",
   "execution_count": null,
   "id": "e0b17f97",
   "metadata": {},
   "outputs": [],
   "source": [
    "time_tuple = (0.0, 10.0); # Intervalo temporal (tupla)\n",
    "\n",
    "#Guardamos los datos en la variable \"prob\"\n",
    "prob_euler = myODEproblem(f_vector, y0, time_tuple, par)\n",
    "\n",
    "prob_RK2Heun = myODEproblem(f_vector, y0, time_tuple, par)\n",
    "prob_RK2midpoint = myODEproblem(f_vector, y0, time_tuple, par)\n",
    "prob_RK2Ralston = myODEproblem(f_vector, y0, time_tuple, par)\n",
    "\n",
    "prob_RK4step = myODEproblem(f_vector, y0, time_tuple, par)"
   ]
  },
  {
   "cell_type": "code",
   "execution_count": null,
   "id": "e0438d68",
   "metadata": {},
   "outputs": [],
   "source": [
    "N = 100 # Cantidad de pasos temporales\n",
    "dt = (time_tuple[2]-time_tuple[1])/(N-1) # discretizando con N pasos (dt = |Tfin-Tini|/(N-1))\n",
    "\n",
    "# Resolvemos EDO usando el método de Euler \n",
    "t, y_euler = myODEsolver(prob_euler, EulerStep, dt = dt)\n",
    "\n",
    "# Resolvemos EDO usando métodos de Runge Kutta de 2do orden \n",
    "t, y_RK2Heun = myODEsolver(prob_RK2Heun, RK2step_Heun, dt = dt)             # Heun\n",
    "t, y_RK2midpoint = myODEsolver(prob_RK2midpoint, RK2step_midpoint, dt = dt) # Midpoint\n",
    "t, y_RK2Ralston = myODEsolver(prob_RK2Ralston, RK2step_Ralston, dt = dt)    # Ralston\n",
    "\n",
    "# Resolvemos EDO usando métodos de Runge Kutta de 4to orden  \n",
    "t, y_RK4step = myODEsolver(prob_RK4step, RK4step, dt = dt)                  # Clásico\n"
   ]
  },
  {
   "cell_type": "code",
   "execution_count": null,
   "id": "804e7371",
   "metadata": {},
   "outputs": [],
   "source": [
    "plt = plot()\n",
    "\n",
    "plot!(ylabel = \"\\$u(t)\\$\", xlabel = \"\\$time (t)\\$\")\n",
    "plot!(plt, legend = :topleft)\n",
    "\n",
    "plot!(plt, t, y_euler[:,1], label = \"Euler\")\n",
    "scatter!(plt, t, y_euler[:,1], label = \"\")\n",
    "\n",
    "plot!(plt, t, y_RK2Heun[:,1], label = \"RK2-Heun\")\n",
    "scatter!(plt, t, y_RK2Heun[:,1], label = \"\")\n",
    "plot!(plt, t, y_RK2midpoint[:,1], label = \"RK2-midpoint\")\n",
    "scatter!(plt, t, y_RK2midpoint[:,1], label = \"\")\n",
    "plot!(plt, t, y_RK2Ralston[:,1], label = \"RK2-Ralston\")\n",
    "scatter!(plt, t, y_RK2Ralston[:,1], label = \"\")\n",
    "\n",
    "plot!(plt, t, y_RK4step[:,1], label = \"RK4-classic\")\n",
    "scatter!(plt, t, y_RK4step[:,1], label = \"\")\n",
    "\n",
    "plot!(plt, t, cos.(t), label = \"Exact\",lw=2)\n"
   ]
  },
  {
   "cell_type": "code",
   "execution_count": null,
   "id": "c4577c27",
   "metadata": {},
   "outputs": [],
   "source": [
    "plt = plot()\n",
    "\n",
    "plot!(ylabel = \"\\$v(t)\\$\", xlabel = \"\\$time (t)\\$\")\n",
    "plot!(plt, legend = :topleft)\n",
    "\n",
    "plot!(plt, t, y_euler[:,2], label = \"Euler\")\n",
    "scatter!(plt, t, y_euler[:,2], label = \"\")\n",
    "\n",
    "plot!(plt, t, y_RK2Heun[:,2], label = \"RK2-Heun\")\n",
    "scatter!(plt, t, y_RK2Heun[:,2], label = \"\")\n",
    "plot!(plt, t, y_RK2midpoint[:,2], label = \"RK2-midpoint\")\n",
    "scatter!(plt, t, y_RK2midpoint[:,2], label = \"\")\n",
    "plot!(plt, t, y_RK2Ralston[:,2], label = \"RK2-Ralston\")\n",
    "scatter!(plt, t, y_RK2Ralston[:,2], label = \"\")\n",
    "\n",
    "plot!(plt, t, y_RK4step[:,2], label = \"RK4-classic\")\n",
    "scatter!(plt, t, y_RK4step[:,2], label = \"\")\n",
    "\n",
    "plot!(plt, t, -sin.(t), label = \"Exact\",lw=2)"
   ]
  },
  {
   "cell_type": "markdown",
   "id": "3c16abd1-36ce-40f9-9486-6c7241df014b",
   "metadata": {},
   "source": [
    "***3b)***\n",
    "\n",
    "Resuelva ahora el sistema del péndulo físico: \n",
    "\n",
    "$$\n",
    "\\frac{d}{dt}\\left(\n",
    "    \\begin{array}{c}\n",
    "    y_1 \\\\\n",
    "    y_2\n",
    "    \\end{array}\n",
    "    \\right)\n",
    "    = \n",
    "    \\left(\n",
    "    \\begin{array}{c}\n",
    "    y_2 \\\\\n",
    "    -sin(y_1)\n",
    "    \\end{array}\n",
    "    \\right)\n",
    "$$\n",
    "\n",
    "con con $y_0 = (0.1,0)$ en el intervalo $t=[0,10]$. \n",
    "\n",
    "Grafique las soluciones obtenidas. Use varios métodos y modifique el tamaño del paso temporal. Use otros datos iniciales. \n",
    "\n",
    "Vea que la función $E(y) = \\frac{1}{2} y_2^2 + (1-cos(y_1))$ es constante a lo largo de la evolución (una *constante del movimiento*) y vea que sucede numericamente. "
   ]
  },
  {
   "cell_type": "code",
   "execution_count": null,
   "id": "3157acc7",
   "metadata": {},
   "outputs": [],
   "source": [
    "# Definimos el término derecho de la ODE\n",
    "function f_vector(y,t,λ)\n",
    "    fvector = zero(Array{typeof(y[1])}(undef, length(y)))\n",
    "    for i in 1:length(y)\n",
    "        fvector[i] = λ[i]*y[length(y)+1-i]\n",
    "        if ((length(y)+1-i)==1) fvector[i]=λ[i]*sin(y[length(y)+1-i]) end;\n",
    "    end\n",
    "    return fvector\n",
    "end"
   ]
  },
  {
   "cell_type": "code",
   "execution_count": null,
   "id": "1192c6a0-5e25-40e9-9a95-6014b9bddef9",
   "metadata": {},
   "outputs": [],
   "source": [
    "u0=0.1;v0=0.0;y0=[u0;v0];   # condiciones iniciales\n",
    "λ1=1.0;λ2=-1.0;par=(λ1,λ2); # Parámetros del problema (dentro de una tupla)"
   ]
  },
  {
   "cell_type": "code",
   "execution_count": null,
   "id": "88fb77cf",
   "metadata": {},
   "outputs": [],
   "source": [
    "time_tuple = (0.0, 10.0); # Intervalo temporal (tupla)\n",
    "\n",
    "#Guardamos los datos en la variable \"prob\"\n",
    "prob_euler = myODEproblem(f_vector, y0, time_tuple, par)\n",
    "\n",
    "prob_RK2Heun = myODEproblem(f_vector, y0, time_tuple, par)\n",
    "prob_RK2midpoint = myODEproblem(f_vector, y0, time_tuple, par)\n",
    "prob_RK2Ralston = myODEproblem(f_vector, y0, time_tuple, par)\n",
    "\n",
    "prob_RK4step = myODEproblem(f_vector, y0, time_tuple, par)"
   ]
  },
  {
   "cell_type": "code",
   "execution_count": null,
   "id": "ba5eb3b5",
   "metadata": {},
   "outputs": [],
   "source": [
    "N = 32 # Cantidad de pasos temporales\n",
    "dt = (time_tuple[2]-time_tuple[1])/(N-1) # discretizando con N pasos (dt = |Tfin-Tini|/(N-1))\n",
    "\n",
    "# Resolvemos EDO usando el método de Euler \n",
    "t, y_euler = myODEsolver(prob_euler, EulerStep, dt = dt)\n",
    "\n",
    "# Resolvemos EDO usando métodos de Runge Kutta de 2do orden \n",
    "t, y_RK2Heun = myODEsolver(prob_RK2Heun, RK2step_Heun, dt = dt)             # Heun\n",
    "t, y_RK2midpoint = myODEsolver(prob_RK2midpoint, RK2step_midpoint, dt = dt) # Midpoint\n",
    "t, y_RK2Ralston = myODEsolver(prob_RK2Ralston, RK2step_Ralston, dt = dt)    # Ralston\n",
    "\n",
    "# Resolvemos EDO usando métodos de Runge Kutta de 4to orden  \n",
    "t, y_RK4step = myODEsolver(prob_RK4step, RK4step, dt = dt)                  # Clásico\n"
   ]
  },
  {
   "cell_type": "code",
   "execution_count": null,
   "id": "f26198ea",
   "metadata": {},
   "outputs": [],
   "source": [
    "plt = plot()\n",
    "\n",
    "plot!(ylabel = \"\\$y_{1}(t)\\$\", xlabel = \"\\$time (t)\\$\")\n",
    "plot!(plt, legend = :bottomleft,title=\"Physical pendulum: N=32\")\n",
    "\n",
    "plot!(plt, t, y_euler[:,1], label = \"Euler\")\n",
    "scatter!(plt, t, y_euler[:,1], label = \"\")\n",
    "\n",
    "plot!(plt, t, y_RK2Heun[:,1], label = \"RK2-Heun\")\n",
    "scatter!(plt, t, y_RK2Heun[:,1], label = \"\")\n",
    "plot!(plt, t, y_RK2midpoint[:,1], label = \"RK2-midpoint\")\n",
    "scatter!(plt, t, y_RK2midpoint[:,1], label = \"\")\n",
    "plot!(plt, t, y_RK2Ralston[:,1], label = \"RK2-Ralston\")\n",
    "scatter!(plt, t, y_RK2Ralston[:,1], label = \"\")\n",
    "\n",
    "plot!(plt, t, y_RK4step[:,1], label = \"RK4-classic\")\n",
    "scatter!(plt, t, y_RK4step[:,1], label = \"\")"
   ]
  },
  {
   "cell_type": "code",
   "execution_count": null,
   "id": "6c0d1be1",
   "metadata": {},
   "outputs": [],
   "source": [
    "plt = plot()\n",
    "\n",
    "plot!(ylabel = \"\\$y_{2}(t)\\$\", xlabel = \"\\$time (t)\\$\")\n",
    "plot!(plt, legend = :topleft,title=\"Physical pendulum: N=32\")\n",
    "\n",
    "plot!(plt, t, y_euler[:,2], label = \"Euler\")\n",
    "scatter!(plt, t, y_euler[:,2], label = \"\")\n",
    "\n",
    "plot!(plt, t, y_RK2Heun[:,2], label = \"RK2-Heun\")\n",
    "scatter!(plt, t, y_RK2Heun[:,2], label = \"\")\n",
    "plot!(plt, t, y_RK2midpoint[:,2], label = \"RK2-midpoint\")\n",
    "scatter!(plt, t, y_RK2midpoint[:,2], label = \"\")\n",
    "plot!(plt, t, y_RK2Ralston[:,2], label = \"RK2-Ralston\")\n",
    "scatter!(plt, t, y_RK2Ralston[:,2], label = \"\")\n",
    "\n",
    "plot!(plt, t, y_RK4step[:,2], label = \"RK4-classic\")\n",
    "scatter!(plt, t, y_RK4step[:,2], label = \"\")"
   ]
  },
  {
   "cell_type": "markdown",
   "id": "1a9ee0e2",
   "metadata": {},
   "source": [
    "### Calculamos la energía\n",
    "$E(y) = \\frac{1}{2} y_2^2 + (1-cos(y_1))$"
   ]
  },
  {
   "cell_type": "code",
   "execution_count": null,
   "id": "68d045c2",
   "metadata": {},
   "outputs": [],
   "source": [
    "function energy_physical_pendulum(y_matrix)\n",
    "    # y_matrix[:,1]≡y1_vector;y_matrix[:,2]≡y2_vector\n",
    "    E_vector=zero(Array{typeof(y_matrix[1,1])}(undef, length(y_matrix[:,1])))\n",
    "    for i in 1:length(y_matrix[:,1])\n",
    "        E_vector[i]=0.5*(y_matrix[i,2]*y_matrix[i,2])+(1.0-cos(y_matrix[i,1]))\n",
    "    end\n",
    "    return E_vector\n",
    "end"
   ]
  },
  {
   "cell_type": "code",
   "execution_count": null,
   "id": "e6ccd694",
   "metadata": {},
   "outputs": [],
   "source": [
    "plt = plot();\n",
    "plot!(ylabel = \"\\$E(y)\\$\", xlabel = \"\\$time (t)\\$\");\n",
    "plot!(plt, legend = :topleft,title=\"Physical pendulum: N=32 \\n Mechanical Energy\");\n",
    "\n",
    "plot!(plt, t, energy_physical_pendulum(y_euler), label = \"Euler\");\n",
    "scatter!(plt, t, energy_physical_pendulum(y_euler), label = \"\");\n",
    "\n",
    "plot!(plt, t, energy_physical_pendulum(y_RK2Heun), label = \"RK2-Heun\")\n",
    "scatter!(plt, t, energy_physical_pendulum(y_RK2Heun), label = \"\")\n",
    "plot!(plt, t, energy_physical_pendulum(y_RK2midpoint), label = \"RK2-midpoint\")\n",
    "scatter!(plt, t, energy_physical_pendulum(y_RK2midpoint), label = \"\")\n",
    "plot!(plt, t, energy_physical_pendulum(y_RK2Ralston), label = \"RK2-Ralston\")\n",
    "scatter!(plt, t, energy_physical_pendulum(y_RK2Ralston), label = \"\")\n",
    "\n",
    "plot!(plt, t, energy_physical_pendulum(y_RK4step), label = \"RK4-classic\")\n",
    "scatter!(plt, t, energy_physical_pendulum(y_RK4step), label = \"\")"
   ]
  }
 ],
 "metadata": {
  "kernelspec": {
   "display_name": "Julia 1.8.0",
   "language": "julia",
   "name": "julia-1.8"
  },
  "language_info": {
   "file_extension": ".jl",
   "mimetype": "application/julia",
   "name": "julia",
   "version": "1.8.0"
  }
 },
 "nbformat": 4,
 "nbformat_minor": 5
}
