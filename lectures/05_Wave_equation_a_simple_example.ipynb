{
 "cells": [
  {
   "cell_type": "markdown",
   "metadata": {},
   "source": [
    "## Wave equation using finite differences and method of lines. \n",
    "\n",
    "### Oscar Reula"
   ]
  },
  {
   "cell_type": "code",
   "execution_count": null,
   "metadata": {},
   "outputs": [],
   "source": [
    "using Plots\n",
    "using OrdinaryDiffEq  #Esta es solo una parte del paquete DifferentialEquations\n",
    "#using DifferentialEquations\n",
    "using Plots\n",
    "using LinearAlgebra\n",
    "#import Pkg; Pkg.add(\"BandedMatrices\")\n",
    "using BandedMatrices\n",
    "using SparseArrays\n",
    "using LaTeXStrings"
   ]
  },
  {
   "cell_type": "markdown",
   "metadata": {},
   "source": [
    "We shall be solving the simplest hyperbolic equation,\n",
    "\n",
    "$$\n",
    "u_t = u_x,\n",
    "$$\n",
    "\n",
    "representing a wave moving to the left with speed 1.\n",
    "\n",
    "If we know the value of $u(t,x)$ at $t=t_0$, $u_0(x)$, then we know the value of $u(t,x)$ for all $t$. It is given by:\n",
    "\n",
    "$$\n",
    "u(t,x) = u_0(x+(t-t_0))\n",
    "$$\n",
    "\n",
    "**Exercise:** Check that the above function satisface the equation. \n",
    "\n",
    "\n",
    "In the example that follows, we shall use as initial data the following function:\n",
    "\n",
    "$$\n",
    "u_0(x) = \\left\\{ \n",
    "            \\begin{array}{l}\n",
    "            (x-x_l)^p*(x-x_r)^p/(\\frac{x_r-x_l}{2})^{2p} & x_l < x < x_r \\\\\n",
    "            0 & x<x_l \\; \\text{or} \\; x_r < x\n",
    "            \\end{array}\n",
    "            \\right.\n",
    "$$ \n",
    "\n",
    "And we shall solve the equations in the interval $[0,L]$, with $L=1$. There we shall impose periodic boundary conditions, that is $u(L) = u(0)$."
   ]
  },
  {
   "cell_type": "code",
   "execution_count": null,
   "metadata": {},
   "outputs": [],
   "source": [
    "function u0(x,(xl, xr, p))\n",
    "    if x > xl && x < xr\n",
    "        return (x-xl)^p * (xr-x)^p / (xr-xl)^(2p) * 2^(2p)\n",
    "    else\n",
    "        return 0\n",
    "    end\n",
    "end\n",
    "p=8\n",
    "plot(x->u0(x,(0.4,0.6,p)), xlim=(0,1), label=\"u0\", title=\"initial data with p=$p\")"
   ]
  },
  {
   "cell_type": "markdown",
   "metadata": {},
   "source": [
    "The plot of this function (solving for the interval $[0,1]$ **with periodic boundary conditions**) is:"
   ]
  },
  {
   "cell_type": "code",
   "execution_count": null,
   "metadata": {},
   "outputs": [],
   "source": [
    "N = 20\n",
    "dt = 1/N\n",
    "α = 0.1\n",
    "plt = plot(title=\"evolution of L(u_0)\", legend=false)\n",
    "for i in 0:N\n",
    "    plot!(x-> u0(mod(x + i*dt,1),(0.4,0.6,8)).+ α*i)\n",
    "end\n",
    "plt"
   ]
  },
  {
   "cell_type": "markdown",
   "metadata": {},
   "source": [
    "\n",
    "We shall use **the method of lines** and **finite-differences** approximations. This means that shall first (conceptually) \n",
    "discretize only the space at evenly spaced points, $x_i = x_0 + dx*(i-1), \\; i=1..N$. For simplicity we shall take de domain to be periodic with period $L$, so that $dx = L/N$. \n",
    "Thus we shall consider a vector $v=v(t)$ of length $N$ representing the values of some approximate solution $\\tilde{v}(t,x)$ at whose points. That is, \n",
    "\n",
    "$$\n",
    "\\tilde{v}(t,x_i) = v_i(t)\n",
    "$$\n",
    "\n",
    "We shall also approximate the equation by a finite-difference operator, $D_x$, on the space direction, so as to consider the following system:\n",
    "\n",
    "\\begin{equation}\n",
    "v_t = D_x\\; v.\n",
    "\\end{equation}\n",
    "\n",
    "This way we get a system of ordinary differential equations of dimension $N$. We then proceed to approximate this system using an appropriate ODE integrator. This way we end up with a discretization in space and time.\n"
   ]
  },
  {
   "cell_type": "code",
   "execution_count": null,
   "metadata": {},
   "outputs": [],
   "source": [
    "N = 8 # space points\n",
    "M = 5 # time points\n",
    "L = 2\n",
    "T = 1\n",
    "\n",
    "function plot_grid(X,Y,Nx::Int,Ny::Int,xaxis::String,yaxis::String)\n",
    "dx = X/N\n",
    "dy = Y/(M-1)\n",
    "x = [dx*(i-1) for i in 1:N]\n",
    "#s = [[(dx*(i-1),dt*(j-1)) for i in 1:N] for j in 1:M]\n",
    "y = [[(dy*(j-1)) for i in 1:N] for j in 1:M]\n",
    "plt = plot(legend=false, xlabel=xaxis, ylabel=yaxis, xlim=(-0.1,2), aspectratio=1, ylim=(-0.02,1.1))\n",
    "for j in 1:M\n",
    "    scatter!(x,y[j])\n",
    "    plot!([x; 2],[y[j]; dy*(j-1)], lc=:red)\n",
    "end\n",
    "for i in 1:N\n",
    "    plot!([x[i];x[i]],[0.0;Y+0.1], lc=:blue)\n",
    "end\n",
    "return plt\n",
    "end\n",
    "\n",
    "plot_grid(L,T,N,M,\"x\",\"t\")"
   ]
  },
  {
   "cell_type": "markdown",
   "metadata": {},
   "source": [
    "Grid for $L=2$, $N=8$, $T=1$, $M=5$"
   ]
  },
  {
   "cell_type": "markdown",
   "metadata": {},
   "source": [
    "Now we add some parameters for the simulation. Some are set to arbitrary values, just to indicate that you can add them if needed. $N$ is the number of point of our space discretization. We are going to be solving a *periodic* problem, so we start with point 1 and finish with point $N$, the point $N+1$ is identified with the point $1$ and so on. "
   ]
  },
  {
   "cell_type": "code",
   "execution_count": null,
   "metadata": {},
   "outputs": [],
   "source": [
    "#N = 8 # number of space-points for the space discretization\n",
    "N = 200\n",
    "L = 1. # the space interval #\n",
    "dx = L/N\n",
    "T = 1. # final time integratios\n",
    "dT = 1. *dx # we take a dt around the size of dx/speed_max, \n",
    "            # so that the algorith is stable, the CFL condition.\n",
    "a = 1.\n",
    "α = 1.\n",
    "p = (a,1.0,dx) # some parameters a,dx\n",
    "\n",
    "v0 = zeros(N,1) #the field discretizations, $u(t,(i-1)*dx)$ and $v(t,i))$\n",
    "x = zeros(N); # the x coordinate at those points, needed to prescribe initial data."
   ]
  },
  {
   "cell_type": "markdown",
   "metadata": {},
   "source": [
    "The restriction to the grid points of the initial data becomes:"
   ]
  },
  {
   "cell_type": "code",
   "execution_count": null,
   "metadata": {},
   "outputs": [],
   "source": [
    "x = [dx*(i-1) for i in 1:N]\n",
    "u00(x) = u0(x,(0.4,0.6,8))\n",
    "v0[:,1] = u00.(x)\n",
    "plot(x,u00.(x), xlim=(0,1), label=\"u0\", title=\"initial data with p=$p\")\n",
    "scatter!(x,v0, label=\"v0\", ms=2)"
   ]
  },
  {
   "cell_type": "markdown",
   "metadata": {},
   "source": [
    "We now define the finite-difference schemes. They are implemented as matrices multiplyting the vector solution components. The first two cases are for the second order scheme. They differ in the use of sparce matrices. This is important for efficient, and large systems, here, for the small systems (1D) we are implementing, it does not seems to be of importance. "
   ]
  },
  {
   "cell_type": "markdown",
   "metadata": {},
   "source": [
    "Here we use a veri simple finite difference operator:\n",
    "\n",
    "**D_2_per** is centered FD of second order which is adapted to the periodic case, \n",
    "\n",
    "$$\n",
    "Dv_i = \\frac{v_{i+1} - v_{i-1}}{2\\Delta x}\n",
    "$$ \n",
    "as we shall see this is not very accurate, only second order (in $\\Delta x)$, that is \n",
    "\n",
    "$$\n",
    "\\frac{du}{dx} - Du = \\mathcal{O}(\\Delta x^2)\n",
    "$$\n",
    "\n",
    "Its expression is: (for simplicity we do not divide by $\\Delta x$)"
   ]
  },
  {
   "cell_type": "code",
   "execution_count": null,
   "metadata": {},
   "outputs": [],
   "source": [
    "D_2_per = Array(Tridiagonal([-0.5 for i in 1:N-1],[0.0 for i in 1:N],[0.5 for i in 1:N-1]))\n",
    "D_2_per[1,end] = -0.5\n",
    "D_2_per[end,1] = 0.5"
   ]
  },
  {
   "cell_type": "code",
   "execution_count": null,
   "metadata": {},
   "outputs": [],
   "source": [
    "D_2_per"
   ]
  },
  {
   "cell_type": "markdown",
   "metadata": {},
   "source": [
    "We define now the rhs of the equations in the method of lines, that is, the space discretization. These versions are for efficiency, and for further modifications. "
   ]
  },
  {
   "cell_type": "code",
   "execution_count": null,
   "metadata": {},
   "outputs": [],
   "source": [
    "function F2!(dr,r,p,t)\n",
    "    # second order version\n",
    "    a,α,dx = p\n",
    "    h = 1. /dx\n",
    "    u = @view r[:,1]\n",
    "    du = @view dr[:,1]\n",
    "    Du = h * D_2_per * u\n",
    "    @. du = Du\n",
    "end\n"
   ]
  },
  {
   "cell_type": "markdown",
   "metadata": {},
   "source": [
    "We define now ODE problem,  "
   ]
  },
  {
   "cell_type": "code",
   "execution_count": null,
   "metadata": {},
   "outputs": [],
   "source": [
    "prob2 = ODEProblem(F2!,v0,(0.0,T),p);"
   ]
  },
  {
   "cell_type": "markdown",
   "metadata": {},
   "source": [
    "We now solve them:"
   ]
  },
  {
   "cell_type": "code",
   "execution_count": null,
   "metadata": {},
   "outputs": [],
   "source": [
    "sol2 = solve(prob2,RK4(),dt=dT,adaptive=false);"
   ]
  },
  {
   "cell_type": "markdown",
   "metadata": {},
   "source": [
    "Finally we plot the solutions at different times"
   ]
  },
  {
   "cell_type": "code",
   "execution_count": null,
   "metadata": {},
   "outputs": [],
   "source": [
    "plot([v0[:,1],sol2(T*0.0)[:,1],sol2(T*0.2)[:,1],sol2(T*0.3)[:,1],sol2(T*1)[:,1]])"
   ]
  },
  {
   "cell_type": "code",
   "execution_count": null,
   "metadata": {},
   "outputs": [],
   "source": [
    "anim = @animate for i ∈ 1:20\n",
    "    plot(x,sol2(T*0.05*i)[:,1])\n",
    "end\n",
    "\n",
    "gif(anim, \"wave_anim_fps10.gif\", fps = 10)\n",
    "    "
   ]
  },
  {
   "cell_type": "code",
   "execution_count": null,
   "metadata": {},
   "outputs": [],
   "source": [
    "plot(x,v0[:,1])\n",
    "plot!(x,sol2(T)[:,1])\n",
    "#plot(x,sol.u)"
   ]
  },
  {
   "cell_type": "markdown",
   "metadata": {},
   "source": [
    "### Alternatives (run with N=2000)"
   ]
  },
  {
   "cell_type": "markdown",
   "metadata": {},
   "source": [
    "#### Other time-Integrators\n",
    "\n",
    "What happens if we try with Euler?"
   ]
  },
  {
   "cell_type": "code",
   "execution_count": null,
   "metadata": {},
   "outputs": [],
   "source": [
    "sol2_E = solve(prob2,Euler(),dt=dT,adaptive=false);"
   ]
  },
  {
   "cell_type": "code",
   "execution_count": null,
   "metadata": {},
   "outputs": [],
   "source": [
    "sol2_E = solve(prob2,Euler(),dt=dT/10,adaptive=false);"
   ]
  },
  {
   "cell_type": "code",
   "execution_count": null,
   "metadata": {},
   "outputs": [],
   "source": [
    "plot([v0[:,1],sol2_E(T*0.0)[:,1],sol2_E(T*0.2)[:,1],sol2_E(T*0.3)[:,1],sol2_E(T*1)[:,1]])"
   ]
  },
  {
   "cell_type": "code",
   "execution_count": null,
   "metadata": {},
   "outputs": [],
   "source": [
    "anim = @animate for i ∈ 1:20\n",
    "    plot(x,sol2_E(T*0.02*i)[:,1])\n",
    "end\n",
    "\n",
    "gif(anim, \"wave_anim_E_fps5.gif\", fps = 5)"
   ]
  },
  {
   "cell_type": "code",
   "execution_count": null,
   "metadata": {},
   "outputs": [],
   "source": [
    "plot([v0[:,1],sol2_E(T*0.3)[:,1],sol2_E(T*0.32)[:,1],sol2_E(T*0.34)[:,1]])"
   ]
  },
  {
   "cell_type": "markdown",
   "metadata": {},
   "source": [
    "Since Euler is not stable the simulation quickly becomes inaccurate."
   ]
  },
  {
   "cell_type": "markdown",
   "metadata": {},
   "source": [
    "#### Big time step\n",
    "\n",
    "Another way to get instabilities is to get out of the stability region by taking a too big time step. We go back to RK4 and try with a bigger time step."
   ]
  },
  {
   "cell_type": "code",
   "execution_count": null,
   "metadata": {},
   "outputs": [],
   "source": [
    "sol2_B = solve(prob2,RK4(),dt=dT*2.9,adaptive=false);\n",
    "plot([v0[:,1],sol2_B(T*0.3)[:,1],sol2_B(T*0.7)[:,1],sol2_B(T*1.0)[:,1]])"
   ]
  },
  {
   "cell_type": "markdown",
   "metadata": {},
   "source": [
    "#### Other finite differences\n",
    "\n",
    "We shall use other finite difference operators, one taking a forward difference, namely, \n",
    "\n",
    "$$\n",
    "D_+(v)_i = \\frac{v_{i+1} - v_i}{\\Delta x}\n",
    "$$\n",
    "\n",
    "and another taking a backward difference:\n",
    "\n",
    "$$\n",
    "D_-(v)_i = \\frac{v_{i} - v_{i-1}}{\\Delta x}\n",
    "$$"
   ]
  },
  {
   "cell_type": "markdown",
   "metadata": {},
   "source": []
  },
  {
   "cell_type": "code",
   "execution_count": null,
   "metadata": {},
   "outputs": [],
   "source": [
    "D_p_per = Array(Bidiagonal([-1.0 for i in 1:N],[1 for i in 1:N-1],:U))\n",
    "D_p_per[end,1] = 1.0\n",
    "\n",
    "\n",
    "D_m_per = Array(Bidiagonal([1.0 for i in 1:N],[-1 for i in 1:N-1],:L))\n",
    "D_m_per[1,end] = -1.0\n",
    "\n",
    "#D_p_per\n",
    "#D_m_per"
   ]
  },
  {
   "cell_type": "code",
   "execution_count": null,
   "metadata": {},
   "outputs": [],
   "source": [
    "function Fp!(dr,r,p,t)\n",
    "    # forward first order version\n",
    "    a,α,dx = p\n",
    "    h = 1. /dx\n",
    "    u = @view r[:,1]\n",
    "    du = @view dr[:,1]\n",
    "    Du = h * D_p_per * u\n",
    "    @. du = Du\n",
    "end\n",
    "\n",
    "function Fm!(dr,r,p,t)\n",
    "    # forward first order version\n",
    "    a,α,dx = p\n",
    "    h = 1. /dx\n",
    "    u = @view r[:,1]\n",
    "    du = @view dr[:,1]\n",
    "    Du = h * D_m_per * u\n",
    "    @. du = Du\n",
    "end"
   ]
  },
  {
   "cell_type": "code",
   "execution_count": null,
   "metadata": {},
   "outputs": [],
   "source": [
    "prob_p = ODEProblem(Fp!,v0,(0.0,T),p);\n",
    "prob_m = ODEProblem(Fm!,v0,(0.0,T),p);"
   ]
  },
  {
   "cell_type": "markdown",
   "metadata": {},
   "source": []
  },
  {
   "cell_type": "code",
   "execution_count": null,
   "metadata": {},
   "outputs": [],
   "source": [
    "sol_p = solve(prob_p,RK4(),dt=dT,adaptive=false);\n",
    "plot([v0[:,1],sol_p(T*0.3)[:,1],sol_p(T*0.7)[:,1],sol_p(T*1.0)[:,1]])"
   ]
  },
  {
   "cell_type": "code",
   "execution_count": null,
   "metadata": {},
   "outputs": [],
   "source": [
    "sol_m = solve(prob_m,RK4(),dt=dT,adaptive=false);\n",
    "plot([v0[:,1],sol_m(T*0.3)[:,1],sol_m(T*0.7)[:,1],sol_m(T*1.0)[:,1]])"
   ]
  }
 ],
 "metadata": {
  "kernelspec": {
   "display_name": "Julia 1.8.1",
   "language": "julia",
   "name": "julia-1.8"
  },
  "language_info": {
   "file_extension": ".jl",
   "mimetype": "application/julia",
   "name": "julia",
   "version": "1.8.1"
  }
 },
 "nbformat": 4,
 "nbformat_minor": 4
}
