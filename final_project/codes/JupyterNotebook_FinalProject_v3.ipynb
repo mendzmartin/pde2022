{
 "cells": [
  {
   "attachments": {},
   "cell_type": "markdown",
   "metadata": {},
   "source": [
    "### Activamos multi-threading en VSCode con JupyterNotebook\n",
    "\n",
    "+ [https://docs.julialang.org/en/v1/manual/multi-threading/](https://docs.julialang.org/en/v1/manual/multi-threading/)\n",
    "+ [https://enccs.github.io/Julia-for-HPC/multithreading/](https://enccs.github.io/Julia-for-HPC/multithreading/)\n",
    "+ [https://stackoverflow.com/questions/71596187/changing-threads-in-settings-json-of-vs-code-for-julias-jupyter-notebooks](https://stackoverflow.com/questions/71596187/changing-threads-in-settings-json-of-vs-code-for-julias-jupyter-notebooks)"
   ]
  },
  {
   "attachments": {},
   "cell_type": "markdown",
   "metadata": {},
   "source": [
    "Con el siguiente comando podemos consultar los número de threads disponibles para multithreads, para ello, fue necesario configurar directamente desde VSCode los parámetros de threads para Julia desde JupyterNotebook."
   ]
  },
  {
   "cell_type": "code",
   "execution_count": 1,
   "metadata": {},
   "outputs": [
    {
     "name": "stdout",
     "output_type": "stream",
     "text": [
      "Number of threads = 4\n"
     ]
    }
   ],
   "source": [
    "println(\"Number of threads = \", Threads.nthreads());"
   ]
  },
  {
   "attachments": {},
   "cell_type": "markdown",
   "metadata": {},
   "source": [
    "# Desarrollo numérico para resolver la ecuación de Schrödinger dependiente del tiempo mediante el método implícito"
   ]
  },
  {
   "attachments": {},
   "cell_type": "markdown",
   "metadata": {},
   "source": [
    "## 1. Importamos módulo con funciones, parámetros y algorítmos útiles"
   ]
  },
  {
   "cell_type": "code",
   "execution_count": 1,
   "metadata": {},
   "outputs": [
    {
     "name": "stderr",
     "output_type": "stream",
     "text": [
      "\u001b[32m\u001b[1m  Activating\u001b[22m\u001b[39m project at `~/github_repositories/my_repositories/pde2022/final_project/gridap_makie`\n"
     ]
    },
    {
     "name": "stdout",
     "output_type": "stream",
     "text": [
      "VARIABLES GLOBALES:\n",
      "m=1.0000 (mass)\n",
      "ω=1.0000 (frecuency)\n",
      "ħ=1.0000 (Planck constant)\n",
      "γ=0.1000 (coupling)\n"
     ]
    },
    {
     "name": "stdout",
     "output_type": "stream",
     "text": [
      "x₁=0.0000 x₂=2.0000 y₁=0.0000 y₂=2.0000 (QHO origin position)\n"
     ]
    }
   ],
   "source": [
    "include(\"../modules/module_schrodinger_equation_01.jl\"); # módulo para construir grilla (1D)"
   ]
  },
  {
   "attachments": {},
   "cell_type": "markdown",
   "metadata": {},
   "source": [
    "## 2. Definimos propiedades de la grilla y resolvemos problema de autovalores"
   ]
  },
  {
   "attachments": {},
   "cell_type": "markdown",
   "metadata": {},
   "source": [
    "Acá la idea es crear la grilla 1D con propiedades de tamaño de elementos finitos y condiciones de borde (de tipo Dirichlet homogeneas). Además, resolvemos el problema de autovalores para el hamiltoniano del oscilador armónico $\\hat {h}_{x_0=0}(x)$ y calculamos las autoenergías y autoestados útiles para contruir la condición inicial en el problema de evolución."
   ]
  },
  {
   "cell_type": "code",
   "execution_count": 71,
   "metadata": {},
   "outputs": [
    {
     "name": "stdout",
     "output_type": "stream",
     "text": [
      "Info    : Meshing 1D...\n",
      "Info    : Meshing curve 1 (Line)\n",
      "Info    : Done meshing 1D (Wall 0.0306672s, CPU 0.025196s)\n",
      "Info    : 40001 nodes 40002 elements\n",
      "Info    : Writing '../models/simple_line_01.msh'...\n",
      "Info    : Done writing '../models/simple_line_01.msh'\n",
      "Info    : Reading '../models/simple_line_01.msh'...\n",
      "Info    : 3 entities\n",
      "Info    : 40001 nodes\n",
      "Info    : 40002 elements\n",
      "Info    : Done reading '../models/simple_line_01.msh'\n"
     ]
    }
   ],
   "source": [
    "grid_type=\"simple_line\";                            # tipo de grilla\n",
    "Δxₕ=1.0/800.0;                                      # tamaño del elento 1D\n",
    "\n",
    "dom_1D=(-25.0,25.0);\n",
    "\n",
    "par_1D=(path_models,grid_type*\"_01\",dom_1D,Δxₕ);    # (path,name,dom,MeshSize)\n",
    "\n",
    "model_1D=make_model(grid_type,par_1D);              # creamos modelo\n",
    "write_data=false\n",
    "if write_data\n",
    "    writevtk(model_1D,path_images*\"model_1D\");      # escribimos el modelo para visualizar con Visit\n",
    "end\n",
    "\n",
    "# condiciones de contorno\n",
    "dirichlet_tags_1D=[\"left_point\",\"right_point\"];\n",
    "dirichlet_values_1D=[(0.0+im*0.0),(0.0+im*0.0)]; # tipo Dirichlet homogeneas en los bordes\n",
    "\n",
    "Ω_1D,dΩ_1D,Γ_1D,dΓ_1D=measures(model_1D,3,dirichlet_tags_1D);\n",
    "\n",
    "reffe_1D=reference_FEspaces(lagrangian,Float64,2);\n",
    "\n",
    "Vₕ_1D=TestFESpace(model_1D,reffe_1D;vector_type=Vector{ComplexF64},conformity=:H1,dirichlet_tags=dirichlet_tags_1D);\n",
    "Uₕ_1D=TrialFESpace(Vₕ_1D,dirichlet_values_1D);\n",
    "\n",
    "aₕ_1D,bₕ_1D=bilineal_forms(pₕ,qₕ,rₕ,dΩ_1D);\n",
    "\n",
    "nevₕ=20 # number of eigenvalues asked to evaluate.\n",
    "probₕ_1D=EigenProblem(aₕ_1D,bₕ_1D,Uₕ_1D,Vₕ_1D;nev=nevₕ,tol=10^(-9),maxiter=500,explicittransform=:none,sigma=-1.0)\n",
    "ϵₕ_1D,ϕₕ_1D=solve(probₕ_1D);"
   ]
  },
  {
   "cell_type": "code",
   "execution_count": 3,
   "metadata": {},
   "outputs": [],
   "source": [
    "# Escribimos autovectores para visualizar externamente\n",
    "write_data=false;\n",
    "if write_data\n",
    "    for i in 1:nevₕ\n",
    "        ϕₕi_1D = ϕₕ_1D[i]; # autovector asociado al autovalor 6\n",
    "        writevtk(Ω_1D,path_images*\"eigenprob_1D_01_num$(i)\",cellfields=[\"phi_real\" => real(ϕₕi_1D), \"phi_imag\" => real(ϕₕi_1D)]);\n",
    "    end\n",
    "end"
   ]
  },
  {
   "attachments": {},
   "cell_type": "markdown",
   "metadata": {},
   "source": [
    "> useful links to embeded mp4 inside Markdown Julia\n",
    " + [https://developer.mozilla.org/en-US/docs/Web/HTML/Element/video](https://developer.mozilla.org/en-US/docs/Web/HTML/Element/video)\n",
    " + [https://www.freeconvert.com/mpeg-to-mp4](https://www.freeconvert.com/mpeg-to-mp4)"
   ]
  },
  {
   "attachments": {},
   "cell_type": "markdown",
   "metadata": {},
   "source": [
    "## 3. Resolvemos la ecuación de evolución (ecuación de Schrödinger dependiente del tiempo) con método de Euler implícito"
   ]
  },
  {
   "attachments": {},
   "cell_type": "markdown",
   "metadata": {},
   "source": [
    "### 3.1. Definimos variables temporales"
   ]
  },
  {
   "cell_type": "code",
   "execution_count": 136,
   "metadata": {},
   "outputs": [
    {
     "data": {
      "text/plain": [
       "1.0e-6"
      ]
     },
     "metadata": {},
     "output_type": "display_data"
    }
   ],
   "source": [
    "t₀=0.0;t₁=0.001;                    # final time for test\n",
    "num_steps=1001;                     # number of time steps   \n",
    "n_int=50;                           # Intervals where data is saved n_int=(num_steps-1)/20\n",
    "Δt=abs(t₁-t₀)*(1.0/(num_steps-1))   # time step"
   ]
  },
  {
   "attachments": {},
   "cell_type": "markdown",
   "metadata": {},
   "source": [
    "Aquí mostramos factores de interes, como ser:\n",
    "+ El factor $\\frac {\\Delta t}{\\Delta x^2}$ nos permite corroborar que, si es pequeño $( \\lt 1)$, el método de Euler usual funcionaría.\n",
    "+ El factor $\\frac {\\Delta t}{\\Delta x}$ si es aproximadamente igual a 1, y no usamos métodos implícitos, el método explícito sería intestable.\n",
    "+ El factor $\\left ( \\frac {\\Delta t}{\\Delta x^2} \\right)^3$ nos dice cómo escala el error del método implícito."
   ]
  },
  {
   "cell_type": "code",
   "execution_count": 137,
   "metadata": {},
   "outputs": [
    {
     "name": "stdout",
     "output_type": "stream",
     "text": [
      "Δt/Δx²=0.640000\n",
      "Δt/Δx=0.000800\n",
      "Δt³/Δx⁶=0.262144"
     ]
    }
   ],
   "source": [
    "@printf(\"Δt/Δx²=%.6f\\nΔt/Δx=%.6f\\nΔt³/Δx⁶=%.6f\",Δt/(Δxₕ^2),(Δt/Δxₕ),(Δt/(Δxₕ^2))^3)"
   ]
  },
  {
   "attachments": {},
   "cell_type": "markdown",
   "metadata": {},
   "source": [
    "### 3.2. Construimos espacios Trial y Test\n",
    "Como resolvemos la evolución en componentes de la función de onda, tendremos que construir espacios Test y Trial de tipo `MultiFieldFESpace()`."
   ]
  },
  {
   "cell_type": "code",
   "execution_count": 138,
   "metadata": {},
   "outputs": [],
   "source": [
    "# espacio de pruebas y de soluciones para ψ₁\n",
    "V₁H_1D=TestFESpace(model_1D,reffe_1D;vector_type=Vector{ComplexF64},conformity=:H1,dirichlet_tags=dirichlet_tags_1D);\n",
    "U₁H_1D=TrialFESpace(V₁H_1D,dirichlet_values_1D);\n",
    "# espacio de pruebas y de soluciones para ψ₂\n",
    "V₂H_1D=TestFESpace(model_1D,reffe_1D;vector_type=Vector{ComplexF64},conformity=:H1,dirichlet_tags=dirichlet_tags_1D);\n",
    "U₂H_1D=TrialFESpace(V₂H_1D,dirichlet_values_1D);\n",
    "# creamos un campo de espacios\n",
    "UH_1D = MultiFieldFESpace([U₁H_1D, U₂H_1D]);\n",
    "VH_1D = MultiFieldFESpace([V₁H_1D, V₂H_1D]);"
   ]
  },
  {
   "attachments": {},
   "cell_type": "markdown",
   "metadata": {},
   "source": [
    "### 3.3. Construimos la condición inicial\n",
    "\n",
    "Para construir la condición inicial utilizamos la función de interpolación para crear objetos en un dominio específico, es decir, en el dominio del hamiltoniano $\\hat {h}_{x_0=0}(x)$, e interpolamos en otro domino específico, es decir, en el dominio del hamiltoniano del sistema $\\hat {H}(x)$. De esta forma creamos una condición inicial donde una de las componentes sea la autofunción del hamiltoniano individual $\\hat {h}_{x_0=0}(x)$."
   ]
  },
  {
   "cell_type": "code",
   "execution_count": 139,
   "metadata": {},
   "outputs": [],
   "source": [
    "u₀ₕ_1D=interpolate_everywhere(ϕₕ_1D[1],Uₕ_1D);\n",
    "interp_u₀ₕ_1D=Interpolable(u₀ₕ_1D);"
   ]
  },
  {
   "cell_type": "code",
   "execution_count": 140,
   "metadata": {},
   "outputs": [
    {
     "data": {
      "text/plain": [
       "MultiFieldFEFunction():\n",
       " num_cells: 40000\n",
       " DomainStyle: ReferenceDomain()\n",
       " Triangulation: BodyFittedTriangulation()\n",
       " Triangulation id: 15999489304712499017"
      ]
     },
     "metadata": {},
     "output_type": "display_data"
    }
   ],
   "source": [
    "type_BC=1;\n",
    "if (type_BC==1)\n",
    "    u₁0H_1D_v₁(x)=0.0;\n",
    "    u₂0H_1D_v₁=interpolate_everywhere(interp_u₀ₕ_1D,U₂H_1D);\n",
    "    u₀H_1D=interpolate_everywhere([u₁0H_1D_v₁,u₂0H_1D_v₁],UH_1D);\n",
    "elseif (type_BC==2)\n",
    "    u₁0H_1D_v₂=interpolate_everywhere(interp_u₀ₕ_1D,U₁H_1D);\n",
    "    u₂0H_1D_v₂(x)=0.0;\n",
    "    u₀H_1D=interpolate_everywhere([u₁0H_1D_v₂,u₂0H_1D_v₂],UH_1D);\n",
    "end"
   ]
  },
  {
   "attachments": {},
   "cell_type": "markdown",
   "metadata": {},
   "source": [
    "Si es requerido podemos escribir datos en formato vtk para visualizar externamente."
   ]
  },
  {
   "cell_type": "code",
   "execution_count": 9,
   "metadata": {},
   "outputs": [],
   "source": [
    "write_data=false\n",
    "if write_data\n",
    "    writevtk(Ω_2D,path_images*\"evol_ini_dat_$(lpad(0,3,'0'))\", cellfields=[\"u₁0H_2D_re\"=>real(u₀H_2D[1]),\"u₁0H_2D_im\"=>imag(u₀H_2D[1])])\n",
    "end"
   ]
  },
  {
   "attachments": {},
   "cell_type": "markdown",
   "metadata": {},
   "source": [
    "Mostramos norma $L_2$ de las coordenadas de la condición inicial para asegurarnos sus propiedades."
   ]
  },
  {
   "cell_type": "code",
   "execution_count": 141,
   "metadata": {},
   "outputs": [
    {
     "name": "stdout",
     "output_type": "stream",
     "text": [
      "norm L₂u₁=0.000000,norm L₂u₂=1.000000"
     ]
    }
   ],
   "source": [
    "@printf(\"norm L₂u₁=%.6f,norm L₂u₂=%.6f\",norm_L2(u₀H_1D[1],dΩ_1D),norm_L2(u₀H_1D[2],dΩ_1D))"
   ]
  },
  {
   "attachments": {},
   "cell_type": "markdown",
   "metadata": {},
   "source": [
    "### 3.4. Definimos forma bilineal $a((u_1,u_2),(v_1,v_2))$ y matriz principal A"
   ]
  },
  {
   "cell_type": "code",
   "execution_count": 142,
   "metadata": {},
   "outputs": [],
   "source": [
    "a_H_1D=a_bilineal_forms_2D(α₁,α₂,Δt,dΩ_1D);\n",
    "\n",
    "assem_H=SparseMatrixAssembler(UH_1D,VH_1D);       # ensamblamos una matriz sparse con U y V\n",
    "dv_H=get_fe_basis(VH_1D);                         # escribimos v en la base de FE de V            \n",
    "du_H=get_trial_fe_basis(UH_1D);                   # escribimos u en la base de FE de U\n",
    "mat_contribs_H=a_H_1D(du_H,dv_H);                       # creamos una matriz de bases (contribuciones)\n",
    "data_H=collect_cell_matrix(UH_1D,VH_1D,mat_contribs_H); # recolectamos una matriz (datos)\n",
    "A_H=assemble_matrix(assem_H,data_H);                    # creamos matriz A con contribuciones y datos"
   ]
  },
  {
   "cell_type": "markdown",
   "metadata": {},
   "source": [
    "Creamos una función para obtener los puntos discretos de la grilla (valuados) y un vector de dichos puntos, lo cual será útil para graficar los resultados o realizar cálculos específicos"
   ]
  },
  {
   "cell_type": "code",
   "execution_count": 143,
   "metadata": {},
   "outputs": [
    {
     "data": {
      "text/plain": [
       "normalization_eigenstates_2D (generic function with 1 method)"
      ]
     },
     "metadata": {},
     "output_type": "display_data"
    }
   ],
   "source": [
    "function space_coord(dom,Δx)\n",
    "    x=[dom[1]+abs(dom[2]-dom[1])*Δx*i for i in 1:convert(Int,1.0/Δx)];\n",
    "    pts=[Point(x[i]) for i in 1:convert(Int,1.0/Δx)];\n",
    "    return x,pts;\n",
    "end\n",
    "\n",
    "function normalization_eigenstates_2D(ϕ,TrialSpace,dΩ)\n",
    "    nom_vec₁₂=zeros(Float64,length(ϕ))\n",
    "    for i in 1:length(ϕ)\n",
    "        ϕᵢ=interpolate_everywhere(ϕ[i],TrialSpace);\n",
    "        ϕ¹ᵢ,ϕ²ᵢ=ϕᵢ\n",
    "        norm_ϕ¹ᵢ=norm_L2(ϕ¹ᵢ,dΩ)\n",
    "        norm_ϕ²ᵢ=norm_L2(ϕ²ᵢ,dΩ)\n",
    "        nom_vec₁₂[i]=norm_ϕ¹ᵢ+norm_ϕ²ᵢ\n",
    "    end\n",
    "    return nom_vec₁₂;\n",
    "end"
   ]
  },
  {
   "cell_type": "code",
   "execution_count": 144,
   "metadata": {},
   "outputs": [],
   "source": [
    "x,pts=space_coord(dom_1D,Δxₕ);"
   ]
  },
  {
   "attachments": {},
   "cell_type": "markdown",
   "metadata": {},
   "source": [
    "Realizamos la evolución, definiendo en cada paso el funcional b(v) y haciendo uso del operador backslash `\\` para diagonalizar"
   ]
  },
  {
   "cell_type": "code",
   "execution_count": 145,
   "metadata": {},
   "outputs": [],
   "source": [
    "time_vec=[t₀+Δt*(i-1) for i in 1:n_int:(num_steps-1)];    # vector de tiempos"
   ]
  },
  {
   "cell_type": "code",
   "execution_count": 146,
   "metadata": {},
   "outputs": [],
   "source": [
    "𝛹ₓₜ=Vector{CellField}(undef,length(time_vec));  # función de onda"
   ]
  },
  {
   "cell_type": "code",
   "execution_count": 147,
   "metadata": {},
   "outputs": [],
   "source": [
    "# inicializamos en cero el vector de onda\n",
    "uₓₜ=interpolate_everywhere(u₀H_1D,UH_1D);\n",
    "u¹ₓₜ,u²ₓₜ=uₓₜ;\n",
    "for i in 1:length(time_vec)\n",
    "    𝛹ₓₜ[i]=interpolate_everywhere([0.0*u¹ₓₜ,0.0*u²ₓₜ],UH_1D)\n",
    "end"
   ]
  },
  {
   "cell_type": "code",
   "execution_count": 148,
   "metadata": {},
   "outputs": [
    {
     "data": {
      "text/plain": [
       "MultiFieldFEFunction():\n",
       " num_cells: 40000\n",
       " DomainStyle: ReferenceDomain()\n",
       " Triangulation: BodyFittedTriangulation()\n",
       " Triangulation id: 15999489304712499017"
      ]
     },
     "metadata": {},
     "output_type": "display_data"
    }
   ],
   "source": [
    "index=1;\n",
    "# paso inicial (t=0)\n",
    "t=time_vec[index];\n",
    "# escribimos datos vtk para visualizar externamente\n",
    "write_data=false;\n",
    "if write_data\n",
    "  writevtk(Ω_1D,path_images*\"evol_1D_02_$(lpad(0,3,'0'))\",\n",
    "  cellfields=[\"u₁H_1D_re\" => real(u₀H_1D[1]), \"u₁H_1D_im\" => imag(u₀H_1D[1]),\"u₂H_1D_re\" => real(u₀H_1D[2]), \"u₂H_1D_im\" => imag(u₀H_1D[2])])\n",
    "  @printf(\"t=%.6f,norm L₂u₁=%.6f,norm L₂u₂=%.6f\\n\",t,norm_L2(u₀H_1D[1],dΩ_1D),norm_L2(u₀H_1D[2],dΩ_1D))\n",
    "end\n",
    "\n",
    "# guardamos función de onda\n",
    "uₓₜ=interpolate_everywhere(u₀H_1D,UH_1D);\n",
    "u¹ₓₜ,u²ₓₜ=uₓₜ;\n",
    "𝛹ₓₜ[index]=interpolate_everywhere([u¹ₓₜ,u²ₓₜ],UH_1D)\n",
    "\n",
    "norm_switch=true\n",
    "if norm_switch\n",
    "    Norm𝛹ₓₜ=normalization_eigenstates_2D(𝛹ₓₜ,UH_1D,dΩ_1D)\n",
    "    𝛹ₓₜ¹=interpolate_everywhere(𝛹ₓₜ[index],UH_1D)\n",
    "    𝛹¹ₓₜ¹,𝛹²ₓₜ¹=𝛹ₓₜ¹\n",
    "    𝛹ₓₜ[index]=interpolate_everywhere([𝛹¹ₓₜ¹/Norm𝛹ₓₜ[index],𝛹²ₓₜ¹/Norm𝛹ₓₜ[index]],UH_1D)\n",
    "end"
   ]
  },
  {
   "cell_type": "code",
   "execution_count": 149,
   "metadata": {},
   "outputs": [],
   "source": [
    "# evolucionamos para t>0\n",
    "for i in 1:(num_steps-2)\n",
    "  # construimos forma bilineal b(v₁,v₂)\n",
    "  b_H_1D=b_bilineal_form_2D(α₁,α₂,u₀H_1D[1],u₀H_1D[2],Δt,dΩ_1D)\n",
    "\n",
    "  # descomentar si queremos resolver de forma usual\n",
    "  # vec_contribs_H=b_H_1D(dv_H[1],dv_H[2])\n",
    "  vec_contribs_H=b_H_1D(dv_H)\n",
    "  data_H=collect_cell_vector(VH_1D,vec_contribs_H)\n",
    "  b_H=assemble_vector(assem_H,data_H)\n",
    "  x_H = A_H \\ b_H\n",
    "  uH_1D = FEFunction(UH_1D,x_H)\n",
    "\n",
    "  # descomentar si queremos resolver con solver (NO FUNCIONA)\n",
    "  # op = Affineassem_HFEOperator(a_H_1D,b_H_1D,UH_1D,VH_1D)\n",
    "  # ls=LUSolver();solver=LinearFESolver(ls)\n",
    "  # uH_1D = solve(solver,op)\n",
    "\n",
    "  # actualizamos condición inicial\n",
    "  u₀H_1D = uH_1D\n",
    "\n",
    "  if (i % n_int == 0)\n",
    "    index+=1;\n",
    "    t = time_vec[index];\n",
    "    # escribimos datos vtk para visualizar externamente\n",
    "    if (write_data)\n",
    "      writevtk(Ω_1D,path_images*\"evol_1D_02_$(lpad(i,3,'0'))\",\n",
    "      cellfields=[ \"u₁H_1D_re\" => real(u₀H_1D[1]), \"u₁H_1D_im\" => imag(u₀H_1D[1]),\"u₂H_1D_re\" => real(u₀H_1D[2]), \"u₂H_1D_im\" => imag(u₀H_1D[2])])\n",
    "      @printf(\"t=%.6f,norm L₂u₁=%.6f,norm L₂u₂=%.6f\\n\",t,norm_L2(u₀H_1D[1],dΩ_1D),norm_L2(u₀H_1D[2],dΩ_1D))\n",
    "    end\n",
    "    \n",
    "    # guardamos función de onda\n",
    "    uₓₜ=interpolate_everywhere(u₀H_1D,UH_1D);\n",
    "    u¹ₓₜ,u²ₓₜ=uₓₜ;\n",
    "    𝛹ₓₜ[index]=interpolate_everywhere([u¹ₓₜ,u²ₓₜ],UH_1D)\n",
    "\n",
    "    # normalizamos la función de onda luego de cada evolución\n",
    "    if norm_switch\n",
    "        Norm𝛹ₓₜ=normalization_eigenstates_2D(𝛹ₓₜ,UH_1D,dΩ_1D)\n",
    "        𝛹ₓₜⁱ=interpolate_everywhere(𝛹ₓₜ[index],UH_1D)\n",
    "        𝛹¹ₓₜⁱ,𝛹²ₓₜⁱ=𝛹ₓₜⁱ\n",
    "        𝛹ₓₜ[index]=interpolate_everywhere([𝛹¹ₓₜⁱ/Norm𝛹ₓₜ[index],𝛹²ₓₜⁱ/Norm𝛹ₓₜ[index]],UH_1D)\n",
    "    end\n",
    "  end\n",
    "end"
   ]
  },
  {
   "cell_type": "code",
   "execution_count": 150,
   "metadata": {},
   "outputs": [
    {
     "data": {
      "image/png": "[encoded data removed]",
      "image/svg+xml": "<?xml version=\"1.0\" encoding=\"utf-8\"?>\n<svg xmlns=\"http://www.w3.org/2000/svg\" xmlns:xlink=\"http://www.w3.org/1999/xlink\" width=\"600\" height=\"400\" viewBox=\"0 0 2400 1600\">\n<defs>\n  <clipPath id=\"clip480\">\n    <rect x=\"0\" y=\"0\" width=\"2400\" height=\"1600\"/>\n  </clipPath>\n</defs>\n<path clip-path=\"url(#clip480)\" d=\"\nM0 1600 L2400 1600 L2400 0 L0 0  Z\n  \" fill=\"#ffffff\" fill-rule=\"evenodd\" fill-opacity=\"1\"/>\n<defs>\n  <clipPath id=\"clip481\">\n    <rect x=\"480\" y=\"0\" width=\"1681\" height=\"1600\"/>\n  </clipPath>\n</defs>\n<path clip-path=\"url(#clip480)\" d=\"\nM273.484 1486.45 L2352.76 1486.45 L2352.76 47.2441 L273.484 47.2441  Z\n  \" fill=\"#ffffff\" fill-rule=\"evenodd\" fill-opacity=\"1\"/>\n<defs>\n  <clipPath id=\"clip482\">\n    <rect x=\"273\" y=\"47\" width=\"2080\" height=\"1440\"/>\n  </clipPath>\n</defs>\n<polyline clip-path=\"url(#clip482)\" style=\"stroke:#000000; stroke-linecap:round; stroke-linejoin:round; stroke-width:2; stroke-opacity:0.1; fill:none\" points=\"\n  745.295,1487.5 745.295,62.5 \n  \"/>\n<polyline clip-path=\"url(#clip482)\" style=\"stroke:#000000; stroke-linecap:round; stroke-linejoin:round; stroke-width:2; stroke-opacity:0.1; fill:none\" points=\"\n  1261.5,1487.5 1261.5,62.5 \n  \"/>\n<polyline clip-path=\"url(#clip482)\" style=\"stroke:#000000; stroke-linecap:round; stroke-linejoin:round; stroke-width:2; stroke-opacity:0.1; fill:none\" points=\"\n  1777.7,1487.5 1777.7,62.5 \n  \"/>\n<polyline clip-path=\"url(#clip482)\" style=\"stroke:#000000; stroke-linecap:round; stroke-linejoin:round; stroke-width:2; stroke-opacity:0.1; fill:none\" points=\"\n  2293.91,1487.5 2293.91,62.5 \n  \"/>\n<polyline clip-path=\"url(#clip480)\" style=\"stroke:#000000; stroke-linecap:round; stroke-linejoin:round; stroke-width:4; stroke-opacity:1; fill:none\" points=\"\n  273.484,1487.5 2352.76,1487.5 \n  \"/>\n<polyline clip-path=\"url(#clip480)\" style=\"stroke:#000000; stroke-linecap:round; stroke-linejoin:round; stroke-width:4; stroke-opacity:1; fill:none\" points=\"\n  745.295,1487.5 745.295,1487.5 \n  \"/>\n<polyline clip-path=\"url(#clip480)\" style=\"stroke:#000000; stroke-linecap:round; stroke-linejoin:round; stroke-width:4; stroke-opacity:1; fill:none\" points=\"\n  1261.5,1487.5 1261.5,1487.5 \n  \"/>\n<polyline clip-path=\"url(#clip480)\" style=\"stroke:#000000; stroke-linecap:round; stroke-linejoin:round; stroke-width:4; stroke-opacity:1; fill:none\" points=\"\n  1777.7,1487.5 1777.7,1487.5 \n  \"/>\n<polyline clip-path=\"url(#clip480)\" style=\"stroke:#000000; stroke-linecap:round; stroke-linejoin:round; stroke-width:4; stroke-opacity:1; fill:none\" points=\"\n  2293.91,1487.5 2293.91,1487.5 \n  \"/>\n<path clip-path=\"url(#clip480)\" d=\"M735.573 1515.34 L753.929 1515.34 L753.929 1519.28 L739.855 1519.28 L739.855 1527.75 Q740.874 1527.4 741.892 1527.24 Q742.911 1527.05 743.929 1527.05 Q749.716 1527.05 753.096 1530.22 Q756.476 1533.4 756.476 1538.81 Q756.476 1544.39 753.003 1547.49 Q749.531 1550.57 743.212 1550.57 Q741.036 1550.57 738.767 1550.2 Q736.522 1549.83 734.115 1549.09 L734.115 1544.39 Q736.198 1545.53 738.42 1546.08 Q740.642 1546.64 743.119 1546.64 Q747.124 1546.64 749.462 1544.53 Q751.8 1542.42 751.8 1538.81 Q751.8 1535.2 749.462 1533.09 Q747.124 1530.99 743.119 1530.99 Q741.244 1530.99 739.369 1531.4 Q737.517 1531.82 735.573 1532.7 L735.573 1515.34 Z\" fill=\"#000000\" fill-rule=\"evenodd\" fill-opacity=\"1\" /><path clip-path=\"url(#clip480)\" d=\"M1236.19 1545.96 L1243.83 1545.96 L1243.83 1519.6 L1235.52 1521.27 L1235.52 1517.01 L1243.78 1515.34 L1248.46 1515.34 L1248.46 1545.96 L1256.09 1545.96 L1256.09 1549.9 L1236.19 1549.9 L1236.19 1545.96 Z\" fill=\"#000000\" fill-rule=\"evenodd\" fill-opacity=\"1\" /><path clip-path=\"url(#clip480)\" d=\"M1275.54 1518.42 Q1271.93 1518.42 1270.1 1521.98 Q1268.29 1525.53 1268.29 1532.65 Q1268.29 1539.76 1270.1 1543.33 Q1271.93 1546.87 1275.54 1546.87 Q1279.17 1546.87 1280.98 1543.33 Q1282.81 1539.76 1282.81 1532.65 Q1282.81 1525.53 1280.98 1521.98 Q1279.17 1518.42 1275.54 1518.42 M1275.54 1514.72 Q1281.35 1514.72 1284.4 1519.32 Q1287.48 1523.9 1287.48 1532.65 Q1287.48 1541.38 1284.4 1545.99 Q1281.35 1550.57 1275.54 1550.57 Q1269.73 1550.57 1266.65 1545.99 Q1263.59 1541.38 1263.59 1532.65 Q1263.59 1523.9 1266.65 1519.32 Q1269.73 1514.72 1275.54 1514.72 Z\" fill=\"#000000\" fill-rule=\"evenodd\" fill-opacity=\"1\" /><path clip-path=\"url(#clip480)\" d=\"M1752.89 1545.96 L1760.53 1545.96 L1760.53 1519.6 L1752.22 1521.27 L1752.22 1517.01 L1760.48 1515.34 L1765.16 1515.34 L1765.16 1545.96 L1772.8 1545.96 L1772.8 1549.9 L1752.89 1549.9 L1752.89 1545.96 Z\" fill=\"#000000\" fill-rule=\"evenodd\" fill-opacity=\"1\" /><path clip-path=\"url(#clip480)\" d=\"M1782.29 1515.34 L1800.64 1515.34 L1800.64 1519.28 L1786.57 1519.28 L1786.57 1527.75 Q1787.59 1527.4 1788.61 1527.24 Q1789.63 1527.05 1790.64 1527.05 Q1796.43 1527.05 1799.81 1530.22 Q1803.19 1533.4 1803.19 1538.81 Q1803.19 1544.39 1799.72 1547.49 Q1796.25 1550.57 1789.93 1550.57 Q1787.75 1550.57 1785.48 1550.2 Q1783.24 1549.83 1780.83 1549.09 L1780.83 1544.39 Q1782.91 1545.53 1785.13 1546.08 Q1787.36 1546.64 1789.83 1546.64 Q1793.84 1546.64 1796.18 1544.53 Q1798.51 1542.42 1798.51 1538.81 Q1798.51 1535.2 1796.18 1533.09 Q1793.84 1530.99 1789.83 1530.99 Q1787.96 1530.99 1786.08 1531.4 Q1784.23 1531.82 1782.29 1532.7 L1782.29 1515.34 Z\" fill=\"#000000\" fill-rule=\"evenodd\" fill-opacity=\"1\" /><path clip-path=\"url(#clip480)\" d=\"M2272.68 1545.96 L2289 1545.96 L2289 1549.9 L2267.06 1549.9 L2267.06 1545.96 Q2269.72 1543.21 2274.3 1538.58 Q2278.91 1533.93 2280.09 1532.59 Q2282.33 1530.06 2283.21 1528.33 Q2284.12 1526.57 2284.12 1524.88 Q2284.12 1522.12 2282.17 1520.39 Q2280.25 1518.65 2277.15 1518.65 Q2274.95 1518.65 2272.5 1519.41 Q2270.07 1520.18 2267.29 1521.73 L2267.29 1517.01 Q2270.11 1515.87 2272.57 1515.29 Q2275.02 1514.72 2277.06 1514.72 Q2282.43 1514.72 2285.62 1517.4 Q2288.82 1520.09 2288.82 1524.58 Q2288.82 1526.71 2288.01 1528.63 Q2287.22 1530.53 2285.11 1533.12 Q2284.53 1533.79 2281.43 1537.01 Q2278.33 1540.2 2272.68 1545.96 Z\" fill=\"#000000\" fill-rule=\"evenodd\" fill-opacity=\"1\" /><path clip-path=\"url(#clip480)\" d=\"M2308.82 1518.42 Q2305.2 1518.42 2303.38 1521.98 Q2301.57 1525.53 2301.57 1532.65 Q2301.57 1539.76 2303.38 1543.33 Q2305.2 1546.87 2308.82 1546.87 Q2312.45 1546.87 2314.26 1543.33 Q2316.08 1539.76 2316.08 1532.65 Q2316.08 1525.53 2314.26 1521.98 Q2312.45 1518.42 2308.82 1518.42 M2308.82 1514.72 Q2314.63 1514.72 2317.68 1519.32 Q2320.76 1523.9 2320.76 1532.65 Q2320.76 1541.38 2317.68 1545.99 Q2314.63 1550.57 2308.82 1550.57 Q2303.01 1550.57 2299.93 1545.99 Q2296.87 1541.38 2296.87 1532.65 Q2296.87 1523.9 2299.93 1519.32 Q2303.01 1514.72 2308.82 1514.72 Z\" fill=\"#000000\" fill-rule=\"evenodd\" fill-opacity=\"1\" /><polyline clip-path=\"url(#clip482)\" style=\"stroke:#000000; stroke-linecap:round; stroke-linejoin:round; stroke-width:2; stroke-opacity:0.1; fill:none\" points=\"\n  273.484,1412.5 2352.76,1412.5 \n  \"/>\n<polyline clip-path=\"url(#clip482)\" style=\"stroke:#000000; stroke-linecap:round; stroke-linejoin:round; stroke-width:2; stroke-opacity:0.1; fill:none\" points=\"\n  273.484,1187.5 2352.76,1187.5 \n  \"/>\n<polyline clip-path=\"url(#clip482)\" style=\"stroke:#000000; stroke-linecap:round; stroke-linejoin:round; stroke-width:2; stroke-opacity:0.1; fill:none\" points=\"\n  273.484,962.5 2352.76,962.5 \n  \"/>\n<polyline clip-path=\"url(#clip482)\" style=\"stroke:#000000; stroke-linecap:round; stroke-linejoin:round; stroke-width:2; stroke-opacity:0.1; fill:none\" points=\"\n  273.484,775 2352.76,775 \n  \"/>\n<polyline clip-path=\"url(#clip482)\" style=\"stroke:#000000; stroke-linecap:round; stroke-linejoin:round; stroke-width:2; stroke-opacity:0.1; fill:none\" points=\"\n  273.484,550 2352.76,550 \n  \"/>\n<polyline clip-path=\"url(#clip482)\" style=\"stroke:#000000; stroke-linecap:round; stroke-linejoin:round; stroke-width:2; stroke-opacity:0.1; fill:none\" points=\"\n  273.484,325 2352.76,325 \n  \"/>\n<polyline clip-path=\"url(#clip482)\" style=\"stroke:#000000; stroke-linecap:round; stroke-linejoin:round; stroke-width:2; stroke-opacity:0.1; fill:none\" points=\"\n  273.484,100 2352.76,100 \n  \"/>\n<polyline clip-path=\"url(#clip480)\" style=\"stroke:#000000; stroke-linecap:round; stroke-linejoin:round; stroke-width:4; stroke-opacity:1; fill:none\" points=\"\n  273.484,1487.5 273.484,62.5 \n  \"/>\n<polyline clip-path=\"url(#clip480)\" style=\"stroke:#000000; stroke-linecap:round; stroke-linejoin:round; stroke-width:4; stroke-opacity:1; fill:none\" points=\"\n  273.484,1412.5 292.382,1412.5 \n  \"/>\n<polyline clip-path=\"url(#clip480)\" style=\"stroke:#000000; stroke-linecap:round; stroke-linejoin:round; stroke-width:4; stroke-opacity:1; fill:none\" points=\"\n  273.484,1187.5 292.382,1187.5 \n  \"/>\n<polyline clip-path=\"url(#clip480)\" style=\"stroke:#000000; stroke-linecap:round; stroke-linejoin:round; stroke-width:4; stroke-opacity:1; fill:none\" points=\"\n  273.484,962.5 292.382,962.5 \n  \"/>\n<polyline clip-path=\"url(#clip480)\" style=\"stroke:#000000; stroke-linecap:round; stroke-linejoin:round; stroke-width:4; stroke-opacity:1; fill:none\" points=\"\n  273.484,775 292.382,775 \n  \"/>\n<polyline clip-path=\"url(#clip480)\" style=\"stroke:#000000; stroke-linecap:round; stroke-linejoin:round; stroke-width:4; stroke-opacity:1; fill:none\" points=\"\n  273.484,550 292.382,550 \n  \"/>\n<polyline clip-path=\"url(#clip480)\" style=\"stroke:#000000; stroke-linecap:round; stroke-linejoin:round; stroke-width:4; stroke-opacity:1; fill:none\" points=\"\n  273.484,325 292.382,325 \n  \"/>\n<polyline clip-path=\"url(#clip480)\" style=\"stroke:#000000; stroke-linecap:round; stroke-linejoin:round; stroke-width:4; stroke-opacity:1; fill:none\" points=\"\n  273.484,100 292.382,100 \n  \"/>\n<path clip-path=\"url(#clip480)\" d=\"M51.6634 1432.29 L59.3023 1432.29 L59.3023 1405.93 L50.9921 1407.59 L50.9921 1403.33 L59.256 1401.67 L63.9319 1401.67 L63.9319 1432.29 L71.5707 1432.29 L71.5707 1436.23 L51.6634 1436.23 L51.6634 1432.29 Z\" fill=\"#000000\" fill-rule=\"evenodd\" fill-opacity=\"1\" /><path clip-path=\"url(#clip480)\" d=\"M81.0151 1430.35 L85.8993 1430.35 L85.8993 1436.23 L81.0151 1436.23 L81.0151 1430.35 Z\" fill=\"#000000\" fill-rule=\"evenodd\" fill-opacity=\"1\" /><path clip-path=\"url(#clip480)\" d=\"M106.084 1404.75 Q102.473 1404.75 100.645 1408.31 Q98.8391 1411.85 98.8391 1418.98 Q98.8391 1426.09 100.645 1429.65 Q102.473 1433.2 106.084 1433.2 Q109.719 1433.2 111.524 1429.65 Q113.353 1426.09 113.353 1418.98 Q113.353 1411.85 111.524 1408.31 Q109.719 1404.75 106.084 1404.75 M106.084 1401.04 Q111.895 1401.04 114.95 1405.65 Q118.029 1410.23 118.029 1418.98 Q118.029 1427.71 114.95 1432.32 Q111.895 1436.9 106.084 1436.9 Q100.274 1436.9 97.1956 1432.32 Q94.14 1427.71 94.14 1418.98 Q94.14 1410.23 97.1956 1405.65 Q100.274 1401.04 106.084 1401.04 Z\" fill=\"#000000\" fill-rule=\"evenodd\" fill-opacity=\"1\" /><path clip-path=\"url(#clip480)\" d=\"M154.417 1410.76 L143.839 1421.39 L154.417 1431.97 L151.663 1434.77 L141.038 1424.14 L130.413 1434.77 L127.682 1431.97 L138.237 1421.39 L127.682 1410.76 L130.413 1407.96 L141.038 1418.59 L151.663 1407.96 L154.417 1410.76 Z\" fill=\"#000000\" fill-rule=\"evenodd\" fill-opacity=\"1\" /><path clip-path=\"url(#clip480)\" d=\"M166.779 1432.29 L174.417 1432.29 L174.417 1405.93 L166.107 1407.59 L166.107 1403.33 L174.371 1401.67 L179.047 1401.67 L179.047 1432.29 L186.686 1432.29 L186.686 1436.23 L166.779 1436.23 L166.779 1432.29 Z\" fill=\"#000000\" fill-rule=\"evenodd\" fill-opacity=\"1\" /><path clip-path=\"url(#clip480)\" d=\"M206.13 1404.75 Q202.519 1404.75 200.69 1408.31 Q198.885 1411.85 198.885 1418.98 Q198.885 1426.09 200.69 1429.65 Q202.519 1433.2 206.13 1433.2 Q209.764 1433.2 211.57 1429.65 Q213.399 1426.09 213.399 1418.98 Q213.399 1411.85 211.57 1408.31 Q209.764 1404.75 206.13 1404.75 M206.13 1401.04 Q211.94 1401.04 214.996 1405.65 Q218.075 1410.23 218.075 1418.98 Q218.075 1427.71 214.996 1432.32 Q211.94 1436.9 206.13 1436.9 Q200.32 1436.9 197.241 1432.32 Q194.186 1427.71 194.186 1418.98 Q194.186 1410.23 197.241 1405.65 Q200.32 1401.04 206.13 1401.04 Z\" fill=\"#000000\" fill-rule=\"evenodd\" fill-opacity=\"1\" /><path clip-path=\"url(#clip480)\" d=\"M227.779 1383.24 Q224.845 1383.24 223.36 1386.14 Q221.893 1389.01 221.893 1394.81 Q221.893 1400.58 223.36 1403.48 Q224.845 1406.35 227.779 1406.35 Q230.732 1406.35 232.199 1403.48 Q233.685 1400.58 233.685 1394.81 Q233.685 1389.01 232.199 1386.14 Q230.732 1383.24 227.779 1383.24 M227.779 1380.23 Q232.5 1380.23 234.983 1383.97 Q237.484 1387.7 237.484 1394.81 Q237.484 1401.9 234.983 1405.64 Q232.5 1409.36 227.779 1409.36 Q223.059 1409.36 220.557 1405.64 Q218.075 1401.9 218.075 1394.81 Q218.075 1387.7 220.557 1383.97 Q223.059 1380.23 227.779 1380.23 Z\" fill=\"#000000\" fill-rule=\"evenodd\" fill-opacity=\"1\" /><path clip-path=\"url(#clip480)\" d=\"M51.6634 1207.29 L59.3023 1207.29 L59.3023 1180.93 L50.9921 1182.59 L50.9921 1178.33 L59.256 1176.67 L63.9319 1176.67 L63.9319 1207.29 L71.5707 1207.29 L71.5707 1211.23 L51.6634 1211.23 L51.6634 1207.29 Z\" fill=\"#000000\" fill-rule=\"evenodd\" fill-opacity=\"1\" /><path clip-path=\"url(#clip480)\" d=\"M81.0151 1205.35 L85.8993 1205.35 L85.8993 1211.23 L81.0151 1211.23 L81.0151 1205.35 Z\" fill=\"#000000\" fill-rule=\"evenodd\" fill-opacity=\"1\" /><path clip-path=\"url(#clip480)\" d=\"M106.084 1179.75 Q102.473 1179.75 100.645 1183.31 Q98.8391 1186.85 98.8391 1193.98 Q98.8391 1201.09 100.645 1204.65 Q102.473 1208.2 106.084 1208.2 Q109.719 1208.2 111.524 1204.65 Q113.353 1201.09 113.353 1193.98 Q113.353 1186.85 111.524 1183.31 Q109.719 1179.75 106.084 1179.75 M106.084 1176.04 Q111.895 1176.04 114.95 1180.65 Q118.029 1185.23 118.029 1193.98 Q118.029 1202.71 114.95 1207.32 Q111.895 1211.9 106.084 1211.9 Q100.274 1211.9 97.1956 1207.32 Q94.14 1202.71 94.14 1193.98 Q94.14 1185.23 97.1956 1180.65 Q100.274 1176.04 106.084 1176.04 Z\" fill=\"#000000\" fill-rule=\"evenodd\" fill-opacity=\"1\" /><path clip-path=\"url(#clip480)\" d=\"M154.417 1185.76 L143.839 1196.39 L154.417 1206.97 L151.663 1209.77 L141.038 1199.14 L130.413 1209.77 L127.682 1206.97 L138.237 1196.39 L127.682 1185.76 L130.413 1182.96 L141.038 1193.59 L151.663 1182.96 L154.417 1185.76 Z\" fill=\"#000000\" fill-rule=\"evenodd\" fill-opacity=\"1\" /><path clip-path=\"url(#clip480)\" d=\"M166.779 1207.29 L174.417 1207.29 L174.417 1180.93 L166.107 1182.59 L166.107 1178.33 L174.371 1176.67 L179.047 1176.67 L179.047 1207.29 L186.686 1207.29 L186.686 1211.23 L166.779 1211.23 L166.779 1207.29 Z\" fill=\"#000000\" fill-rule=\"evenodd\" fill-opacity=\"1\" /><path clip-path=\"url(#clip480)\" d=\"M206.13 1179.75 Q202.519 1179.75 200.69 1183.31 Q198.885 1186.85 198.885 1193.98 Q198.885 1201.09 200.69 1204.65 Q202.519 1208.2 206.13 1208.2 Q209.764 1208.2 211.57 1204.65 Q213.399 1201.09 213.399 1193.98 Q213.399 1186.85 211.57 1183.31 Q209.764 1179.75 206.13 1179.75 M206.13 1176.04 Q211.94 1176.04 214.996 1180.65 Q218.075 1185.23 218.075 1193.98 Q218.075 1202.71 214.996 1207.32 Q211.94 1211.9 206.13 1211.9 Q200.32 1211.9 197.241 1207.32 Q194.186 1202.71 194.186 1193.98 Q194.186 1185.23 197.241 1180.65 Q200.32 1176.04 206.13 1176.04 Z\" fill=\"#000000\" fill-rule=\"evenodd\" fill-opacity=\"1\" /><path clip-path=\"url(#clip480)\" d=\"M227.779 1158.24 Q224.845 1158.24 223.36 1161.14 Q221.893 1164.01 221.893 1169.81 Q221.893 1175.58 223.36 1178.48 Q224.845 1181.35 227.779 1181.35 Q230.732 1181.35 232.199 1178.48 Q233.685 1175.58 233.685 1169.81 Q233.685 1164.01 232.199 1161.14 Q230.732 1158.24 227.779 1158.24 M227.779 1155.23 Q232.5 1155.23 234.983 1158.97 Q237.484 1162.7 237.484 1169.81 Q237.484 1176.9 234.983 1180.64 Q232.5 1184.36 227.779 1184.36 Q223.059 1184.36 220.557 1180.64 Q218.075 1176.9 218.075 1169.81 Q218.075 1162.7 220.557 1158.97 Q223.059 1155.23 227.779 1155.23 Z\" fill=\"#000000\" fill-rule=\"evenodd\" fill-opacity=\"1\" /><path clip-path=\"url(#clip480)\" d=\"M51.6634 982.292 L59.3023 982.292 L59.3023 955.927 L50.9921 957.593 L50.9921 953.334 L59.256 951.668 L63.9319 951.668 L63.9319 982.292 L71.5707 982.292 L71.5707 986.228 L51.6634 986.228 L51.6634 982.292 Z\" fill=\"#000000\" fill-rule=\"evenodd\" fill-opacity=\"1\" /><path clip-path=\"url(#clip480)\" d=\"M81.0151 980.348 L85.8993 980.348 L85.8993 986.228 L81.0151 986.228 L81.0151 980.348 Z\" fill=\"#000000\" fill-rule=\"evenodd\" fill-opacity=\"1\" /><path clip-path=\"url(#clip480)\" d=\"M106.084 954.746 Q102.473 954.746 100.645 958.311 Q98.8391 961.853 98.8391 968.982 Q98.8391 976.089 100.645 979.654 Q102.473 983.195 106.084 983.195 Q109.719 983.195 111.524 979.654 Q113.353 976.089 113.353 968.982 Q113.353 961.853 111.524 958.311 Q109.719 954.746 106.084 954.746 M106.084 951.043 Q111.895 951.043 114.95 955.649 Q118.029 960.232 118.029 968.982 Q118.029 977.709 114.95 982.316 Q111.895 986.899 106.084 986.899 Q100.274 986.899 97.1956 982.316 Q94.14 977.709 94.14 968.982 Q94.14 960.232 97.1956 955.649 Q100.274 951.043 106.084 951.043 Z\" fill=\"#000000\" fill-rule=\"evenodd\" fill-opacity=\"1\" /><path clip-path=\"url(#clip480)\" d=\"M154.417 960.765 L143.839 971.39 L154.417 981.968 L151.663 984.769 L141.038 974.144 L130.413 984.769 L127.682 981.968 L138.237 971.39 L127.682 960.765 L130.413 957.964 L141.038 968.589 L151.663 957.964 L154.417 960.765 Z\" fill=\"#000000\" fill-rule=\"evenodd\" fill-opacity=\"1\" /><path clip-path=\"url(#clip480)\" d=\"M166.779 982.292 L174.417 982.292 L174.417 955.927 L166.107 957.593 L166.107 953.334 L174.371 951.668 L179.047 951.668 L179.047 982.292 L186.686 982.292 L186.686 986.228 L166.779 986.228 L166.779 982.292 Z\" fill=\"#000000\" fill-rule=\"evenodd\" fill-opacity=\"1\" /><path clip-path=\"url(#clip480)\" d=\"M206.13 954.746 Q202.519 954.746 200.69 958.311 Q198.885 961.853 198.885 968.982 Q198.885 976.089 200.69 979.654 Q202.519 983.195 206.13 983.195 Q209.764 983.195 211.57 979.654 Q213.399 976.089 213.399 968.982 Q213.399 961.853 211.57 958.311 Q209.764 954.746 206.13 954.746 M206.13 951.043 Q211.94 951.043 214.996 955.649 Q218.075 960.232 218.075 968.982 Q218.075 977.709 214.996 982.316 Q211.94 986.899 206.13 986.899 Q200.32 986.899 197.241 982.316 Q194.186 977.709 194.186 968.982 Q194.186 960.232 197.241 955.649 Q200.32 951.043 206.13 951.043 Z\" fill=\"#000000\" fill-rule=\"evenodd\" fill-opacity=\"1\" /><path clip-path=\"url(#clip480)\" d=\"M227.779 933.239 Q224.845 933.239 223.36 936.135 Q221.893 939.013 221.893 944.805 Q221.893 950.579 223.36 953.476 Q224.845 956.353 227.779 956.353 Q230.732 956.353 232.199 953.476 Q233.685 950.579 233.685 944.805 Q233.685 939.013 232.199 936.135 Q230.732 933.239 227.779 933.239 M227.779 930.229 Q232.5 930.229 234.983 933.972 Q237.484 937.696 237.484 944.805 Q237.484 951.896 234.983 955.639 Q232.5 959.363 227.779 959.363 Q223.059 959.363 220.557 955.639 Q218.075 951.896 218.075 944.805 Q218.075 937.696 220.557 933.972 Q223.059 930.229 227.779 930.229 Z\" fill=\"#000000\" fill-rule=\"evenodd\" fill-opacity=\"1\" /><path clip-path=\"url(#clip480)\" d=\"M51.6634 794.792 L59.3023 794.792 L59.3023 768.427 L50.9921 770.093 L50.9921 765.834 L59.256 764.168 L63.9319 764.168 L63.9319 794.792 L71.5707 794.792 L71.5707 798.728 L51.6634 798.728 L51.6634 794.792 Z\" fill=\"#000000\" fill-rule=\"evenodd\" fill-opacity=\"1\" /><path clip-path=\"url(#clip480)\" d=\"M81.0151 792.848 L85.8993 792.848 L85.8993 798.728 L81.0151 798.728 L81.0151 792.848 Z\" fill=\"#000000\" fill-rule=\"evenodd\" fill-opacity=\"1\" /><path clip-path=\"url(#clip480)\" d=\"M106.084 767.246 Q102.473 767.246 100.645 770.811 Q98.8391 774.353 98.8391 781.482 Q98.8391 788.589 100.645 792.154 Q102.473 795.695 106.084 795.695 Q109.719 795.695 111.524 792.154 Q113.353 788.589 113.353 781.482 Q113.353 774.353 111.524 770.811 Q109.719 767.246 106.084 767.246 M106.084 763.543 Q111.895 763.543 114.95 768.149 Q118.029 772.732 118.029 781.482 Q118.029 790.209 114.95 794.816 Q111.895 799.399 106.084 799.399 Q100.274 799.399 97.1956 794.816 Q94.14 790.209 94.14 781.482 Q94.14 772.732 97.1956 768.149 Q100.274 763.543 106.084 763.543 Z\" fill=\"#000000\" fill-rule=\"evenodd\" fill-opacity=\"1\" /><path clip-path=\"url(#clip480)\" d=\"M154.417 773.265 L143.839 783.89 L154.417 794.468 L151.663 797.269 L141.038 786.644 L130.413 797.269 L127.682 794.468 L138.237 783.89 L127.682 773.265 L130.413 770.464 L141.038 781.089 L151.663 770.464 L154.417 773.265 Z\" fill=\"#000000\" fill-rule=\"evenodd\" fill-opacity=\"1\" /><path clip-path=\"url(#clip480)\" d=\"M166.779 794.792 L174.417 794.792 L174.417 768.427 L166.107 770.093 L166.107 765.834 L174.371 764.168 L179.047 764.168 L179.047 794.792 L186.686 794.792 L186.686 798.728 L166.779 798.728 L166.779 794.792 Z\" fill=\"#000000\" fill-rule=\"evenodd\" fill-opacity=\"1\" /><path clip-path=\"url(#clip480)\" d=\"M206.13 767.246 Q202.519 767.246 200.69 770.811 Q198.885 774.353 198.885 781.482 Q198.885 788.589 200.69 792.154 Q202.519 795.695 206.13 795.695 Q209.764 795.695 211.57 792.154 Q213.399 788.589 213.399 781.482 Q213.399 774.353 211.57 770.811 Q209.764 767.246 206.13 767.246 M206.13 763.543 Q211.94 763.543 214.996 768.149 Q218.075 772.732 218.075 781.482 Q218.075 790.209 214.996 794.816 Q211.94 799.399 206.13 799.399 Q200.32 799.399 197.241 794.816 Q194.186 790.209 194.186 781.482 Q194.186 772.732 197.241 768.149 Q200.32 763.543 206.13 763.543 Z\" fill=\"#000000\" fill-rule=\"evenodd\" fill-opacity=\"1\" /><path clip-path=\"url(#clip480)\" d=\"M227.779 745.739 Q224.845 745.739 223.36 748.635 Q221.893 751.513 221.893 757.305 Q221.893 763.079 223.36 765.976 Q224.845 768.853 227.779 768.853 Q230.732 768.853 232.199 765.976 Q233.685 763.079 233.685 757.305 Q233.685 751.513 232.199 748.635 Q230.732 745.739 227.779 745.739 M227.779 742.729 Q232.5 742.729 234.983 746.472 Q237.484 750.196 237.484 757.305 Q237.484 764.396 234.983 768.139 Q232.5 771.863 227.779 771.863 Q223.059 771.863 220.557 768.139 Q218.075 764.396 218.075 757.305 Q218.075 750.196 220.557 746.472 Q223.059 742.729 227.779 742.729 Z\" fill=\"#000000\" fill-rule=\"evenodd\" fill-opacity=\"1\" /><path clip-path=\"url(#clip480)\" d=\"M51.6634 569.792 L59.3023 569.792 L59.3023 543.427 L50.9921 545.093 L50.9921 540.834 L59.256 539.168 L63.9319 539.168 L63.9319 569.792 L71.5707 569.792 L71.5707 573.728 L51.6634 573.728 L51.6634 569.792 Z\" fill=\"#000000\" fill-rule=\"evenodd\" fill-opacity=\"1\" /><path clip-path=\"url(#clip480)\" d=\"M81.0151 567.848 L85.8993 567.848 L85.8993 573.728 L81.0151 573.728 L81.0151 567.848 Z\" fill=\"#000000\" fill-rule=\"evenodd\" fill-opacity=\"1\" /><path clip-path=\"url(#clip480)\" d=\"M106.084 542.246 Q102.473 542.246 100.645 545.811 Q98.8391 549.353 98.8391 556.482 Q98.8391 563.589 100.645 567.154 Q102.473 570.695 106.084 570.695 Q109.719 570.695 111.524 567.154 Q113.353 563.589 113.353 556.482 Q113.353 549.353 111.524 545.811 Q109.719 542.246 106.084 542.246 M106.084 538.543 Q111.895 538.543 114.95 543.149 Q118.029 547.732 118.029 556.482 Q118.029 565.209 114.95 569.816 Q111.895 574.399 106.084 574.399 Q100.274 574.399 97.1956 569.816 Q94.14 565.209 94.14 556.482 Q94.14 547.732 97.1956 543.149 Q100.274 538.543 106.084 538.543 Z\" fill=\"#000000\" fill-rule=\"evenodd\" fill-opacity=\"1\" /><path clip-path=\"url(#clip480)\" d=\"M154.417 548.265 L143.839 558.89 L154.417 569.468 L151.663 572.269 L141.038 561.644 L130.413 572.269 L127.682 569.468 L138.237 558.89 L127.682 548.265 L130.413 545.464 L141.038 556.089 L151.663 545.464 L154.417 548.265 Z\" fill=\"#000000\" fill-rule=\"evenodd\" fill-opacity=\"1\" /><path clip-path=\"url(#clip480)\" d=\"M166.779 569.792 L174.417 569.792 L174.417 543.427 L166.107 545.093 L166.107 540.834 L174.371 539.168 L179.047 539.168 L179.047 569.792 L186.686 569.792 L186.686 573.728 L166.779 573.728 L166.779 569.792 Z\" fill=\"#000000\" fill-rule=\"evenodd\" fill-opacity=\"1\" /><path clip-path=\"url(#clip480)\" d=\"M206.13 542.246 Q202.519 542.246 200.69 545.811 Q198.885 549.353 198.885 556.482 Q198.885 563.589 200.69 567.154 Q202.519 570.695 206.13 570.695 Q209.764 570.695 211.57 567.154 Q213.399 563.589 213.399 556.482 Q213.399 549.353 211.57 545.811 Q209.764 542.246 206.13 542.246 M206.13 538.543 Q211.94 538.543 214.996 543.149 Q218.075 547.732 218.075 556.482 Q218.075 565.209 214.996 569.816 Q211.94 574.399 206.13 574.399 Q200.32 574.399 197.241 569.816 Q194.186 565.209 194.186 556.482 Q194.186 547.732 197.241 543.149 Q200.32 538.543 206.13 538.543 Z\" fill=\"#000000\" fill-rule=\"evenodd\" fill-opacity=\"1\" /><path clip-path=\"url(#clip480)\" d=\"M227.779 520.739 Q224.845 520.739 223.36 523.635 Q221.893 526.513 221.893 532.305 Q221.893 538.079 223.36 540.976 Q224.845 543.853 227.779 543.853 Q230.732 543.853 232.199 540.976 Q233.685 538.079 233.685 532.305 Q233.685 526.513 232.199 523.635 Q230.732 520.739 227.779 520.739 M227.779 517.729 Q232.5 517.729 234.983 521.472 Q237.484 525.196 237.484 532.305 Q237.484 539.396 234.983 543.139 Q232.5 546.863 227.779 546.863 Q223.059 546.863 220.557 543.139 Q218.075 539.396 218.075 532.305 Q218.075 525.196 220.557 521.472 Q223.059 517.729 227.779 517.729 Z\" fill=\"#000000\" fill-rule=\"evenodd\" fill-opacity=\"1\" /><path clip-path=\"url(#clip480)\" d=\"M51.6634 344.792 L59.3023 344.792 L59.3023 318.427 L50.9921 320.093 L50.9921 315.834 L59.256 314.168 L63.9319 314.168 L63.9319 344.792 L71.5707 344.792 L71.5707 348.728 L51.6634 348.728 L51.6634 344.792 Z\" fill=\"#000000\" fill-rule=\"evenodd\" fill-opacity=\"1\" /><path clip-path=\"url(#clip480)\" d=\"M81.0151 342.848 L85.8993 342.848 L85.8993 348.728 L81.0151 348.728 L81.0151 342.848 Z\" fill=\"#000000\" fill-rule=\"evenodd\" fill-opacity=\"1\" /><path clip-path=\"url(#clip480)\" d=\"M106.084 317.246 Q102.473 317.246 100.645 320.811 Q98.8391 324.353 98.8391 331.482 Q98.8391 338.589 100.645 342.154 Q102.473 345.695 106.084 345.695 Q109.719 345.695 111.524 342.154 Q113.353 338.589 113.353 331.482 Q113.353 324.353 111.524 320.811 Q109.719 317.246 106.084 317.246 M106.084 313.543 Q111.895 313.543 114.95 318.149 Q118.029 322.732 118.029 331.482 Q118.029 340.209 114.95 344.816 Q111.895 349.399 106.084 349.399 Q100.274 349.399 97.1956 344.816 Q94.14 340.209 94.14 331.482 Q94.14 322.732 97.1956 318.149 Q100.274 313.543 106.084 313.543 Z\" fill=\"#000000\" fill-rule=\"evenodd\" fill-opacity=\"1\" /><path clip-path=\"url(#clip480)\" d=\"M154.417 323.265 L143.839 333.89 L154.417 344.468 L151.663 347.269 L141.038 336.644 L130.413 347.269 L127.682 344.468 L138.237 333.89 L127.682 323.265 L130.413 320.464 L141.038 331.089 L151.663 320.464 L154.417 323.265 Z\" fill=\"#000000\" fill-rule=\"evenodd\" fill-opacity=\"1\" /><path clip-path=\"url(#clip480)\" d=\"M166.779 344.792 L174.417 344.792 L174.417 318.427 L166.107 320.093 L166.107 315.834 L174.371 314.168 L179.047 314.168 L179.047 344.792 L186.686 344.792 L186.686 348.728 L166.779 348.728 L166.779 344.792 Z\" fill=\"#000000\" fill-rule=\"evenodd\" fill-opacity=\"1\" /><path clip-path=\"url(#clip480)\" d=\"M206.13 317.246 Q202.519 317.246 200.69 320.811 Q198.885 324.353 198.885 331.482 Q198.885 338.589 200.69 342.154 Q202.519 345.695 206.13 345.695 Q209.764 345.695 211.57 342.154 Q213.399 338.589 213.399 331.482 Q213.399 324.353 211.57 320.811 Q209.764 317.246 206.13 317.246 M206.13 313.543 Q211.94 313.543 214.996 318.149 Q218.075 322.732 218.075 331.482 Q218.075 340.209 214.996 344.816 Q211.94 349.399 206.13 349.399 Q200.32 349.399 197.241 344.816 Q194.186 340.209 194.186 331.482 Q194.186 322.732 197.241 318.149 Q200.32 313.543 206.13 313.543 Z\" fill=\"#000000\" fill-rule=\"evenodd\" fill-opacity=\"1\" /><path clip-path=\"url(#clip480)\" d=\"M227.779 295.739 Q224.845 295.739 223.36 298.635 Q221.893 301.513 221.893 307.305 Q221.893 313.079 223.36 315.976 Q224.845 318.853 227.779 318.853 Q230.732 318.853 232.199 315.976 Q233.685 313.079 233.685 307.305 Q233.685 301.513 232.199 298.635 Q230.732 295.739 227.779 295.739 M227.779 292.729 Q232.5 292.729 234.983 296.472 Q237.484 300.196 237.484 307.305 Q237.484 314.396 234.983 318.139 Q232.5 321.863 227.779 321.863 Q223.059 321.863 220.557 318.139 Q218.075 314.396 218.075 307.305 Q218.075 300.196 220.557 296.472 Q223.059 292.729 227.779 292.729 Z\" fill=\"#000000\" fill-rule=\"evenodd\" fill-opacity=\"1\" /><path clip-path=\"url(#clip480)\" d=\"M51.6634 119.792 L59.3023 119.792 L59.3023 93.4268 L50.9921 95.0935 L50.9921 90.8343 L59.256 89.1676 L63.9319 89.1676 L63.9319 119.792 L71.5707 119.792 L71.5707 123.728 L51.6634 123.728 L51.6634 119.792 Z\" fill=\"#000000\" fill-rule=\"evenodd\" fill-opacity=\"1\" /><path clip-path=\"url(#clip480)\" d=\"M81.0151 117.848 L85.8993 117.848 L85.8993 123.728 L81.0151 123.728 L81.0151 117.848 Z\" fill=\"#000000\" fill-rule=\"evenodd\" fill-opacity=\"1\" /><path clip-path=\"url(#clip480)\" d=\"M106.084 92.2463 Q102.473 92.2463 100.645 95.8111 Q98.8391 99.3527 98.8391 106.482 Q98.8391 113.589 100.645 117.154 Q102.473 120.695 106.084 120.695 Q109.719 120.695 111.524 117.154 Q113.353 113.589 113.353 106.482 Q113.353 99.3527 111.524 95.8111 Q109.719 92.2463 106.084 92.2463 M106.084 88.5426 Q111.895 88.5426 114.95 93.1491 Q118.029 97.7324 118.029 106.482 Q118.029 115.209 114.95 119.816 Q111.895 124.399 106.084 124.399 Q100.274 124.399 97.1956 119.816 Q94.14 115.209 94.14 106.482 Q94.14 97.7324 97.1956 93.1491 Q100.274 88.5426 106.084 88.5426 Z\" fill=\"#000000\" fill-rule=\"evenodd\" fill-opacity=\"1\" /><path clip-path=\"url(#clip480)\" d=\"M154.417 98.2648 L143.839 108.89 L154.417 119.468 L151.663 122.269 L141.038 111.644 L130.413 122.269 L127.682 119.468 L138.237 108.89 L127.682 98.2648 L130.413 95.4639 L141.038 106.089 L151.663 95.4639 L154.417 98.2648 Z\" fill=\"#000000\" fill-rule=\"evenodd\" fill-opacity=\"1\" /><path clip-path=\"url(#clip480)\" d=\"M166.779 119.792 L174.417 119.792 L174.417 93.4268 L166.107 95.0935 L166.107 90.8343 L174.371 89.1676 L179.047 89.1676 L179.047 119.792 L186.686 119.792 L186.686 123.728 L166.779 123.728 L166.779 119.792 Z\" fill=\"#000000\" fill-rule=\"evenodd\" fill-opacity=\"1\" /><path clip-path=\"url(#clip480)\" d=\"M206.13 92.2463 Q202.519 92.2463 200.69 95.8111 Q198.885 99.3527 198.885 106.482 Q198.885 113.589 200.69 117.154 Q202.519 120.695 206.13 120.695 Q209.764 120.695 211.57 117.154 Q213.399 113.589 213.399 106.482 Q213.399 99.3527 211.57 95.8111 Q209.764 92.2463 206.13 92.2463 M206.13 88.5426 Q211.94 88.5426 214.996 93.1491 Q218.075 97.7324 218.075 106.482 Q218.075 115.209 214.996 119.816 Q211.94 124.399 206.13 124.399 Q200.32 124.399 197.241 119.816 Q194.186 115.209 194.186 106.482 Q194.186 97.7324 197.241 93.1491 Q200.32 88.5426 206.13 88.5426 Z\" fill=\"#000000\" fill-rule=\"evenodd\" fill-opacity=\"1\" /><path clip-path=\"url(#clip480)\" d=\"M227.779 70.7386 Q224.845 70.7386 223.36 73.635 Q221.893 76.5126 221.893 82.3054 Q221.893 88.0794 223.36 90.9758 Q224.845 93.8534 227.779 93.8534 Q230.732 93.8534 232.199 90.9758 Q233.685 88.0794 233.685 82.3054 Q233.685 76.5126 232.199 73.635 Q230.732 70.7386 227.779 70.7386 M227.779 67.7294 Q232.5 67.7294 234.983 71.4721 Q237.484 75.1961 237.484 82.3054 Q237.484 89.3959 234.983 93.1387 Q232.5 96.8626 227.779 96.8626 Q223.059 96.8626 220.557 93.1387 Q218.075 89.3959 218.075 82.3054 Q218.075 75.1961 220.557 71.4721 Q223.059 67.7294 227.779 67.7294 Z\" fill=\"#000000\" fill-rule=\"evenodd\" fill-opacity=\"1\" /><circle clip-path=\"url(#clip482)\" cx=\"332.331\" cy=\"850\" r=\"14.4\" fill=\"#009af9\" fill-rule=\"evenodd\" fill-opacity=\"1\" stroke=\"#000000\" stroke-opacity=\"1\" stroke-width=\"3.2\"/>\n<circle clip-path=\"url(#clip482)\" cx=\"435.572\" cy=\"1000\" r=\"14.4\" fill=\"#009af9\" fill-rule=\"evenodd\" fill-opacity=\"1\" stroke=\"#000000\" stroke-opacity=\"1\" stroke-width=\"3.2\"/>\n<circle clip-path=\"url(#clip482)\" cx=\"538.813\" cy=\"662.5\" r=\"14.4\" fill=\"#009af9\" fill-rule=\"evenodd\" fill-opacity=\"1\" stroke=\"#000000\" stroke-opacity=\"1\" stroke-width=\"3.2\"/>\n<circle clip-path=\"url(#clip482)\" cx=\"642.054\" cy=\"887.5\" r=\"14.4\" fill=\"#009af9\" fill-rule=\"evenodd\" fill-opacity=\"1\" stroke=\"#000000\" stroke-opacity=\"1\" stroke-width=\"3.2\"/>\n<circle clip-path=\"url(#clip482)\" cx=\"745.295\" cy=\"775\" r=\"14.4\" fill=\"#009af9\" fill-rule=\"evenodd\" fill-opacity=\"1\" stroke=\"#000000\" stroke-opacity=\"1\" stroke-width=\"3.2\"/>\n<circle clip-path=\"url(#clip482)\" cx=\"848.536\" cy=\"587.5\" r=\"14.4\" fill=\"#009af9\" fill-rule=\"evenodd\" fill-opacity=\"1\" stroke=\"#000000\" stroke-opacity=\"1\" stroke-width=\"3.2\"/>\n<circle clip-path=\"url(#clip482)\" cx=\"951.777\" cy=\"1075\" r=\"14.4\" fill=\"#009af9\" fill-rule=\"evenodd\" fill-opacity=\"1\" stroke=\"#000000\" stroke-opacity=\"1\" stroke-width=\"3.2\"/>\n<circle clip-path=\"url(#clip482)\" cx=\"1055.02\" cy=\"1000\" r=\"14.4\" fill=\"#009af9\" fill-rule=\"evenodd\" fill-opacity=\"1\" stroke=\"#000000\" stroke-opacity=\"1\" stroke-width=\"3.2\"/>\n<circle clip-path=\"url(#clip482)\" cx=\"1158.26\" cy=\"737.5\" r=\"14.4\" fill=\"#009af9\" fill-rule=\"evenodd\" fill-opacity=\"1\" stroke=\"#000000\" stroke-opacity=\"1\" stroke-width=\"3.2\"/>\n<circle clip-path=\"url(#clip482)\" cx=\"1261.5\" cy=\"437.5\" r=\"14.4\" fill=\"#009af9\" fill-rule=\"evenodd\" fill-opacity=\"1\" stroke=\"#000000\" stroke-opacity=\"1\" stroke-width=\"3.2\"/>\n<circle clip-path=\"url(#clip482)\" cx=\"1364.74\" cy=\"737.5\" r=\"14.4\" fill=\"#009af9\" fill-rule=\"evenodd\" fill-opacity=\"1\" stroke=\"#000000\" stroke-opacity=\"1\" stroke-width=\"3.2\"/>\n<circle clip-path=\"url(#clip482)\" cx=\"1467.98\" cy=\"1300\" r=\"14.4\" fill=\"#009af9\" fill-rule=\"evenodd\" fill-opacity=\"1\" stroke=\"#000000\" stroke-opacity=\"1\" stroke-width=\"3.2\"/>\n<circle clip-path=\"url(#clip482)\" cx=\"1571.22\" cy=\"1450\" r=\"14.4\" fill=\"#009af9\" fill-rule=\"evenodd\" fill-opacity=\"1\" stroke=\"#000000\" stroke-opacity=\"1\" stroke-width=\"3.2\"/>\n<circle clip-path=\"url(#clip482)\" cx=\"1674.46\" cy=\"1000\" r=\"14.4\" fill=\"#009af9\" fill-rule=\"evenodd\" fill-opacity=\"1\" stroke=\"#000000\" stroke-opacity=\"1\" stroke-width=\"3.2\"/>\n<circle clip-path=\"url(#clip482)\" cx=\"1777.7\" cy=\"925\" r=\"14.4\" fill=\"#009af9\" fill-rule=\"evenodd\" fill-opacity=\"1\" stroke=\"#000000\" stroke-opacity=\"1\" stroke-width=\"3.2\"/>\n<circle clip-path=\"url(#clip482)\" cx=\"1880.94\" cy=\"100\" r=\"14.4\" fill=\"#009af9\" fill-rule=\"evenodd\" fill-opacity=\"1\" stroke=\"#000000\" stroke-opacity=\"1\" stroke-width=\"3.2\"/>\n<circle clip-path=\"url(#clip482)\" cx=\"1984.19\" cy=\"625\" r=\"14.4\" fill=\"#009af9\" fill-rule=\"evenodd\" fill-opacity=\"1\" stroke=\"#000000\" stroke-opacity=\"1\" stroke-width=\"3.2\"/>\n<circle clip-path=\"url(#clip482)\" cx=\"2087.43\" cy=\"325\" r=\"14.4\" fill=\"#009af9\" fill-rule=\"evenodd\" fill-opacity=\"1\" stroke=\"#000000\" stroke-opacity=\"1\" stroke-width=\"3.2\"/>\n<circle clip-path=\"url(#clip482)\" cx=\"2190.67\" cy=\"437.5\" r=\"14.4\" fill=\"#009af9\" fill-rule=\"evenodd\" fill-opacity=\"1\" stroke=\"#000000\" stroke-opacity=\"1\" stroke-width=\"3.2\"/>\n<circle clip-path=\"url(#clip482)\" cx=\"2293.91\" cy=\"550\" r=\"14.4\" fill=\"#009af9\" fill-rule=\"evenodd\" fill-opacity=\"1\" stroke=\"#000000\" stroke-opacity=\"1\" stroke-width=\"3.2\"/>\n<path clip-path=\"url(#clip480)\" d=\"\nM1999.99 198.898 L2283.45 198.898 L2283.45 95.2176 L1999.99 95.2176  Z\n  \" fill=\"#ffffff\" fill-rule=\"evenodd\" fill-opacity=\"1\"/>\n<polyline clip-path=\"url(#clip480)\" style=\"stroke:#000000; stroke-linecap:round; stroke-linejoin:round; stroke-width:4; stroke-opacity:1; fill:none\" points=\"\n  1999.99,198.898 2283.45,198.898 2283.45,95.2176 1999.99,95.2176 1999.99,198.898 \n  \"/>\n<circle clip-path=\"url(#clip480)\" cx=\"2092.4\" cy=\"147.058\" r=\"23.04\" fill=\"#009af9\" fill-rule=\"evenodd\" fill-opacity=\"1\" stroke=\"#000000\" stroke-opacity=\"1\" stroke-width=\"5.12\"/>\n<path clip-path=\"url(#clip480)\" d=\"M2198.65 166.745 Q2196.85 171.375 2195.13 172.787 Q2193.42 174.199 2190.55 174.199 L2187.15 174.199 L2187.15 170.634 L2189.65 170.634 Q2191.41 170.634 2192.38 169.8 Q2193.35 168.967 2194.53 165.865 L2195.3 163.921 L2184.81 138.412 L2189.32 138.412 L2197.43 158.689 L2205.53 138.412 L2210.04 138.412 L2198.65 166.745 Z\" fill=\"#000000\" fill-rule=\"evenodd\" fill-opacity=\"1\" /><path clip-path=\"url(#clip480)\" d=\"M2217.33 160.402 L2224.97 160.402 L2224.97 134.037 L2216.66 135.703 L2216.66 131.444 L2224.93 129.778 L2229.6 129.778 L2229.6 160.402 L2237.24 160.402 L2237.24 164.338 L2217.33 164.338 L2217.33 160.402 Z\" fill=\"#000000\" fill-rule=\"evenodd\" fill-opacity=\"1\" /></svg>\n",
      "text/html": [
       "<?xml version=\"1.0\" encoding=\"utf-8\"?>\n",
       "<svg xmlns=\"http://www.w3.org/2000/svg\" xmlns:xlink=\"http://www.w3.org/1999/xlink\" width=\"600\" height=\"400\" viewBox=\"0 0 2400 1600\">\n",
       "<defs>\n",
       "  <clipPath id=\"clip530\">\n",
       "    <rect x=\"0\" y=\"0\" width=\"2400\" height=\"1600\"/>\n",
       "  </clipPath>\n",
       "</defs>\n",
       "<path clip-path=\"url(#clip530)\" d=\"\n",
       "M0 1600 L2400 1600 L2400 0 L0 0  Z\n",
       "  \" fill=\"#ffffff\" fill-rule=\"evenodd\" fill-opacity=\"1\"/>\n",
       "<defs>\n",
       "  <clipPath id=\"clip531\">\n",
       "    <rect x=\"480\" y=\"0\" width=\"1681\" height=\"1600\"/>\n",
       "  </clipPath>\n",
       "</defs>\n",
       "<path clip-path=\"url(#clip530)\" d=\"\n",
       "M273.484 1486.45 L2352.76 1486.45 L2352.76 47.2441 L273.484 47.2441  Z\n",
       "  \" fill=\"#ffffff\" fill-rule=\"evenodd\" fill-opacity=\"1\"/>\n",
       "<defs>\n",
       "  <clipPath id=\"clip532\">\n",
       "    <rect x=\"273\" y=\"47\" width=\"2080\" height=\"1440\"/>\n",
       "  </clipPath>\n",
       "</defs>\n",
       "<polyline clip-path=\"url(#clip532)\" style=\"stroke:#000000; stroke-linecap:round; stroke-linejoin:round; stroke-width:2; stroke-opacity:0.1; fill:none\" points=\"\n",
       "  745.295,1487.5 745.295,62.5 \n",
       "  \"/>\n",
       "<polyline clip-path=\"url(#clip532)\" style=\"stroke:#000000; stroke-linecap:round; stroke-linejoin:round; stroke-width:2; stroke-opacity:0.1; fill:none\" points=\"\n",
       "  1261.5,1487.5 1261.5,62.5 \n",
       "  \"/>\n",
       "<polyline clip-path=\"url(#clip532)\" style=\"stroke:#000000; stroke-linecap:round; stroke-linejoin:round; stroke-width:2; stroke-opacity:0.1; fill:none\" points=\"\n",
       "  1777.7,1487.5 1777.7,62.5 \n",
       "  \"/>\n",
       "<polyline clip-path=\"url(#clip532)\" style=\"stroke:#000000; stroke-linecap:round; stroke-linejoin:round; stroke-width:2; stroke-opacity:0.1; fill:none\" points=\"\n",
       "  2293.91,1487.5 2293.91,62.5 \n",
       "  \"/>\n",
       "<polyline clip-path=\"url(#clip530)\" style=\"stroke:#000000; stroke-linecap:round; stroke-linejoin:round; stroke-width:4; stroke-opacity:1; fill:none\" points=\"\n",
       "  273.484,1487.5 2352.76,1487.5 \n",
       "  \"/>\n",
       "<polyline clip-path=\"url(#clip530)\" style=\"stroke:#000000; stroke-linecap:round; stroke-linejoin:round; stroke-width:4; stroke-opacity:1; fill:none\" points=\"\n",
       "  745.295,1487.5 745.295,1487.5 \n",
       "  \"/>\n",
       "<polyline clip-path=\"url(#clip530)\" style=\"stroke:#000000; stroke-linecap:round; stroke-linejoin:round; stroke-width:4; stroke-opacity:1; fill:none\" points=\"\n",
       "  1261.5,1487.5 1261.5,1487.5 \n",
       "  \"/>\n",
       "<polyline clip-path=\"url(#clip530)\" style=\"stroke:#000000; stroke-linecap:round; stroke-linejoin:round; stroke-width:4; stroke-opacity:1; fill:none\" points=\"\n",
       "  1777.7,1487.5 1777.7,1487.5 \n",
       "  \"/>\n",
       "<polyline clip-path=\"url(#clip530)\" style=\"stroke:#000000; stroke-linecap:round; stroke-linejoin:round; stroke-width:4; stroke-opacity:1; fill:none\" points=\"\n",
       "  2293.91,1487.5 2293.91,1487.5 \n",
       "  \"/>\n",
       "<path clip-path=\"url(#clip530)\" d=\"M735.573 1515.34 L753.929 1515.34 L753.929 1519.28 L739.855 1519.28 L739.855 1527.75 Q740.874 1527.4 741.892 1527.24 Q742.911 1527.05 743.929 1527.05 Q749.716 1527.05 753.096 1530.22 Q756.476 1533.4 756.476 1538.81 Q756.476 1544.39 753.003 1547.49 Q749.531 1550.57 743.212 1550.57 Q741.036 1550.57 738.767 1550.2 Q736.522 1549.83 734.115 1549.09 L734.115 1544.39 Q736.198 1545.53 738.42 1546.08 Q740.642 1546.64 743.119 1546.64 Q747.124 1546.64 749.462 1544.53 Q751.8 1542.42 751.8 1538.81 Q751.8 1535.2 749.462 1533.09 Q747.124 1530.99 743.119 1530.99 Q741.244 1530.99 739.369 1531.4 Q737.517 1531.82 735.573 1532.7 L735.573 1515.34 Z\" fill=\"#000000\" fill-rule=\"evenodd\" fill-opacity=\"1\" /><path clip-path=\"url(#clip530)\" d=\"M1236.19 1545.96 L1243.83 1545.96 L1243.83 1519.6 L1235.52 1521.27 L1235.52 1517.01 L1243.78 1515.34 L1248.46 1515.34 L1248.46 1545.96 L1256.09 1545.96 L1256.09 1549.9 L1236.19 1549.9 L1236.19 1545.96 Z\" fill=\"#000000\" fill-rule=\"evenodd\" fill-opacity=\"1\" /><path clip-path=\"url(#clip530)\" d=\"M1275.54 1518.42 Q1271.93 1518.42 1270.1 1521.98 Q1268.29 1525.53 1268.29 1532.65 Q1268.29 1539.76 1270.1 1543.33 Q1271.93 1546.87 1275.54 1546.87 Q1279.17 1546.87 1280.98 1543.33 Q1282.81 1539.76 1282.81 1532.65 Q1282.81 1525.53 1280.98 1521.98 Q1279.17 1518.42 1275.54 1518.42 M1275.54 1514.72 Q1281.35 1514.72 1284.4 1519.32 Q1287.48 1523.9 1287.48 1532.65 Q1287.48 1541.38 1284.4 1545.99 Q1281.35 1550.57 1275.54 1550.57 Q1269.73 1550.57 1266.65 1545.99 Q1263.59 1541.38 1263.59 1532.65 Q1263.59 1523.9 1266.65 1519.32 Q1269.73 1514.72 1275.54 1514.72 Z\" fill=\"#000000\" fill-rule=\"evenodd\" fill-opacity=\"1\" /><path clip-path=\"url(#clip530)\" d=\"M1752.89 1545.96 L1760.53 1545.96 L1760.53 1519.6 L1752.22 1521.27 L1752.22 1517.01 L1760.48 1515.34 L1765.16 1515.34 L1765.16 1545.96 L1772.8 1545.96 L1772.8 1549.9 L1752.89 1549.9 L1752.89 1545.96 Z\" fill=\"#000000\" fill-rule=\"evenodd\" fill-opacity=\"1\" /><path clip-path=\"url(#clip530)\" d=\"M1782.29 1515.34 L1800.64 1515.34 L1800.64 1519.28 L1786.57 1519.28 L1786.57 1527.75 Q1787.59 1527.4 1788.61 1527.24 Q1789.63 1527.05 1790.64 1527.05 Q1796.43 1527.05 1799.81 1530.22 Q1803.19 1533.4 1803.19 1538.81 Q1803.19 1544.39 1799.72 1547.49 Q1796.25 1550.57 1789.93 1550.57 Q1787.75 1550.57 1785.48 1550.2 Q1783.24 1549.83 1780.83 1549.09 L1780.83 1544.39 Q1782.91 1545.53 1785.13 1546.08 Q1787.36 1546.64 1789.83 1546.64 Q1793.84 1546.64 1796.18 1544.53 Q1798.51 1542.42 1798.51 1538.81 Q1798.51 1535.2 1796.18 1533.09 Q1793.84 1530.99 1789.83 1530.99 Q1787.96 1530.99 1786.08 1531.4 Q1784.23 1531.82 1782.29 1532.7 L1782.29 1515.34 Z\" fill=\"#000000\" fill-rule=\"evenodd\" fill-opacity=\"1\" /><path clip-path=\"url(#clip530)\" d=\"M2272.68 1545.96 L2289 1545.96 L2289 1549.9 L2267.06 1549.9 L2267.06 1545.96 Q2269.72 1543.21 2274.3 1538.58 Q2278.91 1533.93 2280.09 1532.59 Q2282.33 1530.06 2283.21 1528.33 Q2284.12 1526.57 2284.12 1524.88 Q2284.12 1522.12 2282.17 1520.39 Q2280.25 1518.65 2277.15 1518.65 Q2274.95 1518.65 2272.5 1519.41 Q2270.07 1520.18 2267.29 1521.73 L2267.29 1517.01 Q2270.11 1515.87 2272.57 1515.29 Q2275.02 1514.72 2277.06 1514.72 Q2282.43 1514.72 2285.62 1517.4 Q2288.82 1520.09 2288.82 1524.58 Q2288.82 1526.71 2288.01 1528.63 Q2287.22 1530.53 2285.11 1533.12 Q2284.53 1533.79 2281.43 1537.01 Q2278.33 1540.2 2272.68 1545.96 Z\" fill=\"#000000\" fill-rule=\"evenodd\" fill-opacity=\"1\" /><path clip-path=\"url(#clip530)\" d=\"M2308.82 1518.42 Q2305.2 1518.42 2303.38 1521.98 Q2301.57 1525.53 2301.57 1532.65 Q2301.57 1539.76 2303.38 1543.33 Q2305.2 1546.87 2308.82 1546.87 Q2312.45 1546.87 2314.26 1543.33 Q2316.08 1539.76 2316.08 1532.65 Q2316.08 1525.53 2314.26 1521.98 Q2312.45 1518.42 2308.82 1518.42 M2308.82 1514.72 Q2314.63 1514.72 2317.68 1519.32 Q2320.76 1523.9 2320.76 1532.65 Q2320.76 1541.38 2317.68 1545.99 Q2314.63 1550.57 2308.82 1550.57 Q2303.01 1550.57 2299.93 1545.99 Q2296.87 1541.38 2296.87 1532.65 Q2296.87 1523.9 2299.93 1519.32 Q2303.01 1514.72 2308.82 1514.72 Z\" fill=\"#000000\" fill-rule=\"evenodd\" fill-opacity=\"1\" /><polyline clip-path=\"url(#clip532)\" style=\"stroke:#000000; stroke-linecap:round; stroke-linejoin:round; stroke-width:2; stroke-opacity:0.1; fill:none\" points=\"\n",
       "  273.484,1412.5 2352.76,1412.5 \n",
       "  \"/>\n",
       "<polyline clip-path=\"url(#clip532)\" style=\"stroke:#000000; stroke-linecap:round; stroke-linejoin:round; stroke-width:2; stroke-opacity:0.1; fill:none\" points=\"\n",
       "  273.484,1187.5 2352.76,1187.5 \n",
       "  \"/>\n",
       "<polyline clip-path=\"url(#clip532)\" style=\"stroke:#000000; stroke-linecap:round; stroke-linejoin:round; stroke-width:2; stroke-opacity:0.1; fill:none\" points=\"\n",
       "  273.484,962.5 2352.76,962.5 \n",
       "  \"/>\n",
       "<polyline clip-path=\"url(#clip532)\" style=\"stroke:#000000; stroke-linecap:round; stroke-linejoin:round; stroke-width:2; stroke-opacity:0.1; fill:none\" points=\"\n",
       "  273.484,775 2352.76,775 \n",
       "  \"/>\n",
       "<polyline clip-path=\"url(#clip532)\" style=\"stroke:#000000; stroke-linecap:round; stroke-linejoin:round; stroke-width:2; stroke-opacity:0.1; fill:none\" points=\"\n",
       "  273.484,550 2352.76,550 \n",
       "  \"/>\n",
       "<polyline clip-path=\"url(#clip532)\" style=\"stroke:#000000; stroke-linecap:round; stroke-linejoin:round; stroke-width:2; stroke-opacity:0.1; fill:none\" points=\"\n",
       "  273.484,325 2352.76,325 \n",
       "  \"/>\n",
       "<polyline clip-path=\"url(#clip532)\" style=\"stroke:#000000; stroke-linecap:round; stroke-linejoin:round; stroke-width:2; stroke-opacity:0.1; fill:none\" points=\"\n",
       "  273.484,100 2352.76,100 \n",
       "  \"/>\n",
       "<polyline clip-path=\"url(#clip530)\" style=\"stroke:#000000; stroke-linecap:round; stroke-linejoin:round; stroke-width:4; stroke-opacity:1; fill:none\" points=\"\n",
       "  273.484,1487.5 273.484,62.5 \n",
       "  \"/>\n",
       "<polyline clip-path=\"url(#clip530)\" style=\"stroke:#000000; stroke-linecap:round; stroke-linejoin:round; stroke-width:4; stroke-opacity:1; fill:none\" points=\"\n",
       "  273.484,1412.5 292.382,1412.5 \n",
       "  \"/>\n",
       "<polyline clip-path=\"url(#clip530)\" style=\"stroke:#000000; stroke-linecap:round; stroke-linejoin:round; stroke-width:4; stroke-opacity:1; fill:none\" points=\"\n",
       "  273.484,1187.5 292.382,1187.5 \n",
       "  \"/>\n",
       "<polyline clip-path=\"url(#clip530)\" style=\"stroke:#000000; stroke-linecap:round; stroke-linejoin:round; stroke-width:4; stroke-opacity:1; fill:none\" points=\"\n",
       "  273.484,962.5 292.382,962.5 \n",
       "  \"/>\n",
       "<polyline clip-path=\"url(#clip530)\" style=\"stroke:#000000; stroke-linecap:round; stroke-linejoin:round; stroke-width:4; stroke-opacity:1; fill:none\" points=\"\n",
       "  273.484,775 292.382,775 \n",
       "  \"/>\n",
       "<polyline clip-path=\"url(#clip530)\" style=\"stroke:#000000; stroke-linecap:round; stroke-linejoin:round; stroke-width:4; stroke-opacity:1; fill:none\" points=\"\n",
       "  273.484,550 292.382,550 \n",
       "  \"/>\n",
       "<polyline clip-path=\"url(#clip530)\" style=\"stroke:#000000; stroke-linecap:round; stroke-linejoin:round; stroke-width:4; stroke-opacity:1; fill:none\" points=\"\n",
       "  273.484,325 292.382,325 \n",
       "  \"/>\n",
       "<polyline clip-path=\"url(#clip530)\" style=\"stroke:#000000; stroke-linecap:round; stroke-linejoin:round; stroke-width:4; stroke-opacity:1; fill:none\" points=\"\n",
       "  273.484,100 292.382,100 \n",
       "  \"/>\n",
       "<path clip-path=\"url(#clip530)\" d=\"M51.6634 1432.29 L59.3023 1432.29 L59.3023 1405.93 L50.9921 1407.59 L50.9921 1403.33 L59.256 1401.67 L63.9319 1401.67 L63.9319 1432.29 L71.5707 1432.29 L71.5707 1436.23 L51.6634 1436.23 L51.6634 1432.29 Z\" fill=\"#000000\" fill-rule=\"evenodd\" fill-opacity=\"1\" /><path clip-path=\"url(#clip530)\" d=\"M81.0151 1430.35 L85.8993 1430.35 L85.8993 1436.23 L81.0151 1436.23 L81.0151 1430.35 Z\" fill=\"#000000\" fill-rule=\"evenodd\" fill-opacity=\"1\" /><path clip-path=\"url(#clip530)\" d=\"M106.084 1404.75 Q102.473 1404.75 100.645 1408.31 Q98.8391 1411.85 98.8391 1418.98 Q98.8391 1426.09 100.645 1429.65 Q102.473 1433.2 106.084 1433.2 Q109.719 1433.2 111.524 1429.65 Q113.353 1426.09 113.353 1418.98 Q113.353 1411.85 111.524 1408.31 Q109.719 1404.75 106.084 1404.75 M106.084 1401.04 Q111.895 1401.04 114.95 1405.65 Q118.029 1410.23 118.029 1418.98 Q118.029 1427.71 114.95 1432.32 Q111.895 1436.9 106.084 1436.9 Q100.274 1436.9 97.1956 1432.32 Q94.14 1427.71 94.14 1418.98 Q94.14 1410.23 97.1956 1405.65 Q100.274 1401.04 106.084 1401.04 Z\" fill=\"#000000\" fill-rule=\"evenodd\" fill-opacity=\"1\" /><path clip-path=\"url(#clip530)\" d=\"M154.417 1410.76 L143.839 1421.39 L154.417 1431.97 L151.663 1434.77 L141.038 1424.14 L130.413 1434.77 L127.682 1431.97 L138.237 1421.39 L127.682 1410.76 L130.413 1407.96 L141.038 1418.59 L151.663 1407.96 L154.417 1410.76 Z\" fill=\"#000000\" fill-rule=\"evenodd\" fill-opacity=\"1\" /><path clip-path=\"url(#clip530)\" d=\"M166.779 1432.29 L174.417 1432.29 L174.417 1405.93 L166.107 1407.59 L166.107 1403.33 L174.371 1401.67 L179.047 1401.67 L179.047 1432.29 L186.686 1432.29 L186.686 1436.23 L166.779 1436.23 L166.779 1432.29 Z\" fill=\"#000000\" fill-rule=\"evenodd\" fill-opacity=\"1\" /><path clip-path=\"url(#clip530)\" d=\"M206.13 1404.75 Q202.519 1404.75 200.69 1408.31 Q198.885 1411.85 198.885 1418.98 Q198.885 1426.09 200.69 1429.65 Q202.519 1433.2 206.13 1433.2 Q209.764 1433.2 211.57 1429.65 Q213.399 1426.09 213.399 1418.98 Q213.399 1411.85 211.57 1408.31 Q209.764 1404.75 206.13 1404.75 M206.13 1401.04 Q211.94 1401.04 214.996 1405.65 Q218.075 1410.23 218.075 1418.98 Q218.075 1427.71 214.996 1432.32 Q211.94 1436.9 206.13 1436.9 Q200.32 1436.9 197.241 1432.32 Q194.186 1427.71 194.186 1418.98 Q194.186 1410.23 197.241 1405.65 Q200.32 1401.04 206.13 1401.04 Z\" fill=\"#000000\" fill-rule=\"evenodd\" fill-opacity=\"1\" /><path clip-path=\"url(#clip530)\" d=\"M227.779 1383.24 Q224.845 1383.24 223.36 1386.14 Q221.893 1389.01 221.893 1394.81 Q221.893 1400.58 223.36 1403.48 Q224.845 1406.35 227.779 1406.35 Q230.732 1406.35 232.199 1403.48 Q233.685 1400.58 233.685 1394.81 Q233.685 1389.01 232.199 1386.14 Q230.732 1383.24 227.779 1383.24 M227.779 1380.23 Q232.5 1380.23 234.983 1383.97 Q237.484 1387.7 237.484 1394.81 Q237.484 1401.9 234.983 1405.64 Q232.5 1409.36 227.779 1409.36 Q223.059 1409.36 220.557 1405.64 Q218.075 1401.9 218.075 1394.81 Q218.075 1387.7 220.557 1383.97 Q223.059 1380.23 227.779 1380.23 Z\" fill=\"#000000\" fill-rule=\"evenodd\" fill-opacity=\"1\" /><path clip-path=\"url(#clip530)\" d=\"M51.6634 1207.29 L59.3023 1207.29 L59.3023 1180.93 L50.9921 1182.59 L50.9921 1178.33 L59.256 1176.67 L63.9319 1176.67 L63.9319 1207.29 L71.5707 1207.29 L71.5707 1211.23 L51.6634 1211.23 L51.6634 1207.29 Z\" fill=\"#000000\" fill-rule=\"evenodd\" fill-opacity=\"1\" /><path clip-path=\"url(#clip530)\" d=\"M81.0151 1205.35 L85.8993 1205.35 L85.8993 1211.23 L81.0151 1211.23 L81.0151 1205.35 Z\" fill=\"#000000\" fill-rule=\"evenodd\" fill-opacity=\"1\" /><path clip-path=\"url(#clip530)\" d=\"M106.084 1179.75 Q102.473 1179.75 100.645 1183.31 Q98.8391 1186.85 98.8391 1193.98 Q98.8391 1201.09 100.645 1204.65 Q102.473 1208.2 106.084 1208.2 Q109.719 1208.2 111.524 1204.65 Q113.353 1201.09 113.353 1193.98 Q113.353 1186.85 111.524 1183.31 Q109.719 1179.75 106.084 1179.75 M106.084 1176.04 Q111.895 1176.04 114.95 1180.65 Q118.029 1185.23 118.029 1193.98 Q118.029 1202.71 114.95 1207.32 Q111.895 1211.9 106.084 1211.9 Q100.274 1211.9 97.1956 1207.32 Q94.14 1202.71 94.14 1193.98 Q94.14 1185.23 97.1956 1180.65 Q100.274 1176.04 106.084 1176.04 Z\" fill=\"#000000\" fill-rule=\"evenodd\" fill-opacity=\"1\" /><path clip-path=\"url(#clip530)\" d=\"M154.417 1185.76 L143.839 1196.39 L154.417 1206.97 L151.663 1209.77 L141.038 1199.14 L130.413 1209.77 L127.682 1206.97 L138.237 1196.39 L127.682 1185.76 L130.413 1182.96 L141.038 1193.59 L151.663 1182.96 L154.417 1185.76 Z\" fill=\"#000000\" fill-rule=\"evenodd\" fill-opacity=\"1\" /><path clip-path=\"url(#clip530)\" d=\"M166.779 1207.29 L174.417 1207.29 L174.417 1180.93 L166.107 1182.59 L166.107 1178.33 L174.371 1176.67 L179.047 1176.67 L179.047 1207.29 L186.686 1207.29 L186.686 1211.23 L166.779 1211.23 L166.779 1207.29 Z\" fill=\"#000000\" fill-rule=\"evenodd\" fill-opacity=\"1\" /><path clip-path=\"url(#clip530)\" d=\"M206.13 1179.75 Q202.519 1179.75 200.69 1183.31 Q198.885 1186.85 198.885 1193.98 Q198.885 1201.09 200.69 1204.65 Q202.519 1208.2 206.13 1208.2 Q209.764 1208.2 211.57 1204.65 Q213.399 1201.09 213.399 1193.98 Q213.399 1186.85 211.57 1183.31 Q209.764 1179.75 206.13 1179.75 M206.13 1176.04 Q211.94 1176.04 214.996 1180.65 Q218.075 1185.23 218.075 1193.98 Q218.075 1202.71 214.996 1207.32 Q211.94 1211.9 206.13 1211.9 Q200.32 1211.9 197.241 1207.32 Q194.186 1202.71 194.186 1193.98 Q194.186 1185.23 197.241 1180.65 Q200.32 1176.04 206.13 1176.04 Z\" fill=\"#000000\" fill-rule=\"evenodd\" fill-opacity=\"1\" /><path clip-path=\"url(#clip530)\" d=\"M227.779 1158.24 Q224.845 1158.24 223.36 1161.14 Q221.893 1164.01 221.893 1169.81 Q221.893 1175.58 223.36 1178.48 Q224.845 1181.35 227.779 1181.35 Q230.732 1181.35 232.199 1178.48 Q233.685 1175.58 233.685 1169.81 Q233.685 1164.01 232.199 1161.14 Q230.732 1158.24 227.779 1158.24 M227.779 1155.23 Q232.5 1155.23 234.983 1158.97 Q237.484 1162.7 237.484 1169.81 Q237.484 1176.9 234.983 1180.64 Q232.5 1184.36 227.779 1184.36 Q223.059 1184.36 220.557 1180.64 Q218.075 1176.9 218.075 1169.81 Q218.075 1162.7 220.557 1158.97 Q223.059 1155.23 227.779 1155.23 Z\" fill=\"#000000\" fill-rule=\"evenodd\" fill-opacity=\"1\" /><path clip-path=\"url(#clip530)\" d=\"M51.6634 982.292 L59.3023 982.292 L59.3023 955.927 L50.9921 957.593 L50.9921 953.334 L59.256 951.668 L63.9319 951.668 L63.9319 982.292 L71.5707 982.292 L71.5707 986.228 L51.6634 986.228 L51.6634 982.292 Z\" fill=\"#000000\" fill-rule=\"evenodd\" fill-opacity=\"1\" /><path clip-path=\"url(#clip530)\" d=\"M81.0151 980.348 L85.8993 980.348 L85.8993 986.228 L81.0151 986.228 L81.0151 980.348 Z\" fill=\"#000000\" fill-rule=\"evenodd\" fill-opacity=\"1\" /><path clip-path=\"url(#clip530)\" d=\"M106.084 954.746 Q102.473 954.746 100.645 958.311 Q98.8391 961.853 98.8391 968.982 Q98.8391 976.089 100.645 979.654 Q102.473 983.195 106.084 983.195 Q109.719 983.195 111.524 979.654 Q113.353 976.089 113.353 968.982 Q113.353 961.853 111.524 958.311 Q109.719 954.746 106.084 954.746 M106.084 951.043 Q111.895 951.043 114.95 955.649 Q118.029 960.232 118.029 968.982 Q118.029 977.709 114.95 982.316 Q111.895 986.899 106.084 986.899 Q100.274 986.899 97.1956 982.316 Q94.14 977.709 94.14 968.982 Q94.14 960.232 97.1956 955.649 Q100.274 951.043 106.084 951.043 Z\" fill=\"#000000\" fill-rule=\"evenodd\" fill-opacity=\"1\" /><path clip-path=\"url(#clip530)\" d=\"M154.417 960.765 L143.839 971.39 L154.417 981.968 L151.663 984.769 L141.038 974.144 L130.413 984.769 L127.682 981.968 L138.237 971.39 L127.682 960.765 L130.413 957.964 L141.038 968.589 L151.663 957.964 L154.417 960.765 Z\" fill=\"#000000\" fill-rule=\"evenodd\" fill-opacity=\"1\" /><path clip-path=\"url(#clip530)\" d=\"M166.779 982.292 L174.417 982.292 L174.417 955.927 L166.107 957.593 L166.107 953.334 L174.371 951.668 L179.047 951.668 L179.047 982.292 L186.686 982.292 L186.686 986.228 L166.779 986.228 L166.779 982.292 Z\" fill=\"#000000\" fill-rule=\"evenodd\" fill-opacity=\"1\" /><path clip-path=\"url(#clip530)\" d=\"M206.13 954.746 Q202.519 954.746 200.69 958.311 Q198.885 961.853 198.885 968.982 Q198.885 976.089 200.69 979.654 Q202.519 983.195 206.13 983.195 Q209.764 983.195 211.57 979.654 Q213.399 976.089 213.399 968.982 Q213.399 961.853 211.57 958.311 Q209.764 954.746 206.13 954.746 M206.13 951.043 Q211.94 951.043 214.996 955.649 Q218.075 960.232 218.075 968.982 Q218.075 977.709 214.996 982.316 Q211.94 986.899 206.13 986.899 Q200.32 986.899 197.241 982.316 Q194.186 977.709 194.186 968.982 Q194.186 960.232 197.241 955.649 Q200.32 951.043 206.13 951.043 Z\" fill=\"#000000\" fill-rule=\"evenodd\" fill-opacity=\"1\" /><path clip-path=\"url(#clip530)\" d=\"M227.779 933.239 Q224.845 933.239 223.36 936.135 Q221.893 939.013 221.893 944.805 Q221.893 950.579 223.36 953.476 Q224.845 956.353 227.779 956.353 Q230.732 956.353 232.199 953.476 Q233.685 950.579 233.685 944.805 Q233.685 939.013 232.199 936.135 Q230.732 933.239 227.779 933.239 M227.779 930.229 Q232.5 930.229 234.983 933.972 Q237.484 937.696 237.484 944.805 Q237.484 951.896 234.983 955.639 Q232.5 959.363 227.779 959.363 Q223.059 959.363 220.557 955.639 Q218.075 951.896 218.075 944.805 Q218.075 937.696 220.557 933.972 Q223.059 930.229 227.779 930.229 Z\" fill=\"#000000\" fill-rule=\"evenodd\" fill-opacity=\"1\" /><path clip-path=\"url(#clip530)\" d=\"M51.6634 794.792 L59.3023 794.792 L59.3023 768.427 L50.9921 770.093 L50.9921 765.834 L59.256 764.168 L63.9319 764.168 L63.9319 794.792 L71.5707 794.792 L71.5707 798.728 L51.6634 798.728 L51.6634 794.792 Z\" fill=\"#000000\" fill-rule=\"evenodd\" fill-opacity=\"1\" /><path clip-path=\"url(#clip530)\" d=\"M81.0151 792.848 L85.8993 792.848 L85.8993 798.728 L81.0151 798.728 L81.0151 792.848 Z\" fill=\"#000000\" fill-rule=\"evenodd\" fill-opacity=\"1\" /><path clip-path=\"url(#clip530)\" d=\"M106.084 767.246 Q102.473 767.246 100.645 770.811 Q98.8391 774.353 98.8391 781.482 Q98.8391 788.589 100.645 792.154 Q102.473 795.695 106.084 795.695 Q109.719 795.695 111.524 792.154 Q113.353 788.589 113.353 781.482 Q113.353 774.353 111.524 770.811 Q109.719 767.246 106.084 767.246 M106.084 763.543 Q111.895 763.543 114.95 768.149 Q118.029 772.732 118.029 781.482 Q118.029 790.209 114.95 794.816 Q111.895 799.399 106.084 799.399 Q100.274 799.399 97.1956 794.816 Q94.14 790.209 94.14 781.482 Q94.14 772.732 97.1956 768.149 Q100.274 763.543 106.084 763.543 Z\" fill=\"#000000\" fill-rule=\"evenodd\" fill-opacity=\"1\" /><path clip-path=\"url(#clip530)\" d=\"M154.417 773.265 L143.839 783.89 L154.417 794.468 L151.663 797.269 L141.038 786.644 L130.413 797.269 L127.682 794.468 L138.237 783.89 L127.682 773.265 L130.413 770.464 L141.038 781.089 L151.663 770.464 L154.417 773.265 Z\" fill=\"#000000\" fill-rule=\"evenodd\" fill-opacity=\"1\" /><path clip-path=\"url(#clip530)\" d=\"M166.779 794.792 L174.417 794.792 L174.417 768.427 L166.107 770.093 L166.107 765.834 L174.371 764.168 L179.047 764.168 L179.047 794.792 L186.686 794.792 L186.686 798.728 L166.779 798.728 L166.779 794.792 Z\" fill=\"#000000\" fill-rule=\"evenodd\" fill-opacity=\"1\" /><path clip-path=\"url(#clip530)\" d=\"M206.13 767.246 Q202.519 767.246 200.69 770.811 Q198.885 774.353 198.885 781.482 Q198.885 788.589 200.69 792.154 Q202.519 795.695 206.13 795.695 Q209.764 795.695 211.57 792.154 Q213.399 788.589 213.399 781.482 Q213.399 774.353 211.57 770.811 Q209.764 767.246 206.13 767.246 M206.13 763.543 Q211.94 763.543 214.996 768.149 Q218.075 772.732 218.075 781.482 Q218.075 790.209 214.996 794.816 Q211.94 799.399 206.13 799.399 Q200.32 799.399 197.241 794.816 Q194.186 790.209 194.186 781.482 Q194.186 772.732 197.241 768.149 Q200.32 763.543 206.13 763.543 Z\" fill=\"#000000\" fill-rule=\"evenodd\" fill-opacity=\"1\" /><path clip-path=\"url(#clip530)\" d=\"M227.779 745.739 Q224.845 745.739 223.36 748.635 Q221.893 751.513 221.893 757.305 Q221.893 763.079 223.36 765.976 Q224.845 768.853 227.779 768.853 Q230.732 768.853 232.199 765.976 Q233.685 763.079 233.685 757.305 Q233.685 751.513 232.199 748.635 Q230.732 745.739 227.779 745.739 M227.779 742.729 Q232.5 742.729 234.983 746.472 Q237.484 750.196 237.484 757.305 Q237.484 764.396 234.983 768.139 Q232.5 771.863 227.779 771.863 Q223.059 771.863 220.557 768.139 Q218.075 764.396 218.075 757.305 Q218.075 750.196 220.557 746.472 Q223.059 742.729 227.779 742.729 Z\" fill=\"#000000\" fill-rule=\"evenodd\" fill-opacity=\"1\" /><path clip-path=\"url(#clip530)\" d=\"M51.6634 569.792 L59.3023 569.792 L59.3023 543.427 L50.9921 545.093 L50.9921 540.834 L59.256 539.168 L63.9319 539.168 L63.9319 569.792 L71.5707 569.792 L71.5707 573.728 L51.6634 573.728 L51.6634 569.792 Z\" fill=\"#000000\" fill-rule=\"evenodd\" fill-opacity=\"1\" /><path clip-path=\"url(#clip530)\" d=\"M81.0151 567.848 L85.8993 567.848 L85.8993 573.728 L81.0151 573.728 L81.0151 567.848 Z\" fill=\"#000000\" fill-rule=\"evenodd\" fill-opacity=\"1\" /><path clip-path=\"url(#clip530)\" d=\"M106.084 542.246 Q102.473 542.246 100.645 545.811 Q98.8391 549.353 98.8391 556.482 Q98.8391 563.589 100.645 567.154 Q102.473 570.695 106.084 570.695 Q109.719 570.695 111.524 567.154 Q113.353 563.589 113.353 556.482 Q113.353 549.353 111.524 545.811 Q109.719 542.246 106.084 542.246 M106.084 538.543 Q111.895 538.543 114.95 543.149 Q118.029 547.732 118.029 556.482 Q118.029 565.209 114.95 569.816 Q111.895 574.399 106.084 574.399 Q100.274 574.399 97.1956 569.816 Q94.14 565.209 94.14 556.482 Q94.14 547.732 97.1956 543.149 Q100.274 538.543 106.084 538.543 Z\" fill=\"#000000\" fill-rule=\"evenodd\" fill-opacity=\"1\" /><path clip-path=\"url(#clip530)\" d=\"M154.417 548.265 L143.839 558.89 L154.417 569.468 L151.663 572.269 L141.038 561.644 L130.413 572.269 L127.682 569.468 L138.237 558.89 L127.682 548.265 L130.413 545.464 L141.038 556.089 L151.663 545.464 L154.417 548.265 Z\" fill=\"#000000\" fill-rule=\"evenodd\" fill-opacity=\"1\" /><path clip-path=\"url(#clip530)\" d=\"M166.779 569.792 L174.417 569.792 L174.417 543.427 L166.107 545.093 L166.107 540.834 L174.371 539.168 L179.047 539.168 L179.047 569.792 L186.686 569.792 L186.686 573.728 L166.779 573.728 L166.779 569.792 Z\" fill=\"#000000\" fill-rule=\"evenodd\" fill-opacity=\"1\" /><path clip-path=\"url(#clip530)\" d=\"M206.13 542.246 Q202.519 542.246 200.69 545.811 Q198.885 549.353 198.885 556.482 Q198.885 563.589 200.69 567.154 Q202.519 570.695 206.13 570.695 Q209.764 570.695 211.57 567.154 Q213.399 563.589 213.399 556.482 Q213.399 549.353 211.57 545.811 Q209.764 542.246 206.13 542.246 M206.13 538.543 Q211.94 538.543 214.996 543.149 Q218.075 547.732 218.075 556.482 Q218.075 565.209 214.996 569.816 Q211.94 574.399 206.13 574.399 Q200.32 574.399 197.241 569.816 Q194.186 565.209 194.186 556.482 Q194.186 547.732 197.241 543.149 Q200.32 538.543 206.13 538.543 Z\" fill=\"#000000\" fill-rule=\"evenodd\" fill-opacity=\"1\" /><path clip-path=\"url(#clip530)\" d=\"M227.779 520.739 Q224.845 520.739 223.36 523.635 Q221.893 526.513 221.893 532.305 Q221.893 538.079 223.36 540.976 Q224.845 543.853 227.779 543.853 Q230.732 543.853 232.199 540.976 Q233.685 538.079 233.685 532.305 Q233.685 526.513 232.199 523.635 Q230.732 520.739 227.779 520.739 M227.779 517.729 Q232.5 517.729 234.983 521.472 Q237.484 525.196 237.484 532.305 Q237.484 539.396 234.983 543.139 Q232.5 546.863 227.779 546.863 Q223.059 546.863 220.557 543.139 Q218.075 539.396 218.075 532.305 Q218.075 525.196 220.557 521.472 Q223.059 517.729 227.779 517.729 Z\" fill=\"#000000\" fill-rule=\"evenodd\" fill-opacity=\"1\" /><path clip-path=\"url(#clip530)\" d=\"M51.6634 344.792 L59.3023 344.792 L59.3023 318.427 L50.9921 320.093 L50.9921 315.834 L59.256 314.168 L63.9319 314.168 L63.9319 344.792 L71.5707 344.792 L71.5707 348.728 L51.6634 348.728 L51.6634 344.792 Z\" fill=\"#000000\" fill-rule=\"evenodd\" fill-opacity=\"1\" /><path clip-path=\"url(#clip530)\" d=\"M81.0151 342.848 L85.8993 342.848 L85.8993 348.728 L81.0151 348.728 L81.0151 342.848 Z\" fill=\"#000000\" fill-rule=\"evenodd\" fill-opacity=\"1\" /><path clip-path=\"url(#clip530)\" d=\"M106.084 317.246 Q102.473 317.246 100.645 320.811 Q98.8391 324.353 98.8391 331.482 Q98.8391 338.589 100.645 342.154 Q102.473 345.695 106.084 345.695 Q109.719 345.695 111.524 342.154 Q113.353 338.589 113.353 331.482 Q113.353 324.353 111.524 320.811 Q109.719 317.246 106.084 317.246 M106.084 313.543 Q111.895 313.543 114.95 318.149 Q118.029 322.732 118.029 331.482 Q118.029 340.209 114.95 344.816 Q111.895 349.399 106.084 349.399 Q100.274 349.399 97.1956 344.816 Q94.14 340.209 94.14 331.482 Q94.14 322.732 97.1956 318.149 Q100.274 313.543 106.084 313.543 Z\" fill=\"#000000\" fill-rule=\"evenodd\" fill-opacity=\"1\" /><path clip-path=\"url(#clip530)\" d=\"M154.417 323.265 L143.839 333.89 L154.417 344.468 L151.663 347.269 L141.038 336.644 L130.413 347.269 L127.682 344.468 L138.237 333.89 L127.682 323.265 L130.413 320.464 L141.038 331.089 L151.663 320.464 L154.417 323.265 Z\" fill=\"#000000\" fill-rule=\"evenodd\" fill-opacity=\"1\" /><path clip-path=\"url(#clip530)\" d=\"M166.779 344.792 L174.417 344.792 L174.417 318.427 L166.107 320.093 L166.107 315.834 L174.371 314.168 L179.047 314.168 L179.047 344.792 L186.686 344.792 L186.686 348.728 L166.779 348.728 L166.779 344.792 Z\" fill=\"#000000\" fill-rule=\"evenodd\" fill-opacity=\"1\" /><path clip-path=\"url(#clip530)\" d=\"M206.13 317.246 Q202.519 317.246 200.69 320.811 Q198.885 324.353 198.885 331.482 Q198.885 338.589 200.69 342.154 Q202.519 345.695 206.13 345.695 Q209.764 345.695 211.57 342.154 Q213.399 338.589 213.399 331.482 Q213.399 324.353 211.57 320.811 Q209.764 317.246 206.13 317.246 M206.13 313.543 Q211.94 313.543 214.996 318.149 Q218.075 322.732 218.075 331.482 Q218.075 340.209 214.996 344.816 Q211.94 349.399 206.13 349.399 Q200.32 349.399 197.241 344.816 Q194.186 340.209 194.186 331.482 Q194.186 322.732 197.241 318.149 Q200.32 313.543 206.13 313.543 Z\" fill=\"#000000\" fill-rule=\"evenodd\" fill-opacity=\"1\" /><path clip-path=\"url(#clip530)\" d=\"M227.779 295.739 Q224.845 295.739 223.36 298.635 Q221.893 301.513 221.893 307.305 Q221.893 313.079 223.36 315.976 Q224.845 318.853 227.779 318.853 Q230.732 318.853 232.199 315.976 Q233.685 313.079 233.685 307.305 Q233.685 301.513 232.199 298.635 Q230.732 295.739 227.779 295.739 M227.779 292.729 Q232.5 292.729 234.983 296.472 Q237.484 300.196 237.484 307.305 Q237.484 314.396 234.983 318.139 Q232.5 321.863 227.779 321.863 Q223.059 321.863 220.557 318.139 Q218.075 314.396 218.075 307.305 Q218.075 300.196 220.557 296.472 Q223.059 292.729 227.779 292.729 Z\" fill=\"#000000\" fill-rule=\"evenodd\" fill-opacity=\"1\" /><path clip-path=\"url(#clip530)\" d=\"M51.6634 119.792 L59.3023 119.792 L59.3023 93.4268 L50.9921 95.0935 L50.9921 90.8343 L59.256 89.1676 L63.9319 89.1676 L63.9319 119.792 L71.5707 119.792 L71.5707 123.728 L51.6634 123.728 L51.6634 119.792 Z\" fill=\"#000000\" fill-rule=\"evenodd\" fill-opacity=\"1\" /><path clip-path=\"url(#clip530)\" d=\"M81.0151 117.848 L85.8993 117.848 L85.8993 123.728 L81.0151 123.728 L81.0151 117.848 Z\" fill=\"#000000\" fill-rule=\"evenodd\" fill-opacity=\"1\" /><path clip-path=\"url(#clip530)\" d=\"M106.084 92.2463 Q102.473 92.2463 100.645 95.8111 Q98.8391 99.3527 98.8391 106.482 Q98.8391 113.589 100.645 117.154 Q102.473 120.695 106.084 120.695 Q109.719 120.695 111.524 117.154 Q113.353 113.589 113.353 106.482 Q113.353 99.3527 111.524 95.8111 Q109.719 92.2463 106.084 92.2463 M106.084 88.5426 Q111.895 88.5426 114.95 93.1491 Q118.029 97.7324 118.029 106.482 Q118.029 115.209 114.95 119.816 Q111.895 124.399 106.084 124.399 Q100.274 124.399 97.1956 119.816 Q94.14 115.209 94.14 106.482 Q94.14 97.7324 97.1956 93.1491 Q100.274 88.5426 106.084 88.5426 Z\" fill=\"#000000\" fill-rule=\"evenodd\" fill-opacity=\"1\" /><path clip-path=\"url(#clip530)\" d=\"M154.417 98.2648 L143.839 108.89 L154.417 119.468 L151.663 122.269 L141.038 111.644 L130.413 122.269 L127.682 119.468 L138.237 108.89 L127.682 98.2648 L130.413 95.4639 L141.038 106.089 L151.663 95.4639 L154.417 98.2648 Z\" fill=\"#000000\" fill-rule=\"evenodd\" fill-opacity=\"1\" /><path clip-path=\"url(#clip530)\" d=\"M166.779 119.792 L174.417 119.792 L174.417 93.4268 L166.107 95.0935 L166.107 90.8343 L174.371 89.1676 L179.047 89.1676 L179.047 119.792 L186.686 119.792 L186.686 123.728 L166.779 123.728 L166.779 119.792 Z\" fill=\"#000000\" fill-rule=\"evenodd\" fill-opacity=\"1\" /><path clip-path=\"url(#clip530)\" d=\"M206.13 92.2463 Q202.519 92.2463 200.69 95.8111 Q198.885 99.3527 198.885 106.482 Q198.885 113.589 200.69 117.154 Q202.519 120.695 206.13 120.695 Q209.764 120.695 211.57 117.154 Q213.399 113.589 213.399 106.482 Q213.399 99.3527 211.57 95.8111 Q209.764 92.2463 206.13 92.2463 M206.13 88.5426 Q211.94 88.5426 214.996 93.1491 Q218.075 97.7324 218.075 106.482 Q218.075 115.209 214.996 119.816 Q211.94 124.399 206.13 124.399 Q200.32 124.399 197.241 119.816 Q194.186 115.209 194.186 106.482 Q194.186 97.7324 197.241 93.1491 Q200.32 88.5426 206.13 88.5426 Z\" fill=\"#000000\" fill-rule=\"evenodd\" fill-opacity=\"1\" /><path clip-path=\"url(#clip530)\" d=\"M227.779 70.7386 Q224.845 70.7386 223.36 73.635 Q221.893 76.5126 221.893 82.3054 Q221.893 88.0794 223.36 90.9758 Q224.845 93.8534 227.779 93.8534 Q230.732 93.8534 232.199 90.9758 Q233.685 88.0794 233.685 82.3054 Q233.685 76.5126 232.199 73.635 Q230.732 70.7386 227.779 70.7386 M227.779 67.7294 Q232.5 67.7294 234.983 71.4721 Q237.484 75.1961 237.484 82.3054 Q237.484 89.3959 234.983 93.1387 Q232.5 96.8626 227.779 96.8626 Q223.059 96.8626 220.557 93.1387 Q218.075 89.3959 218.075 82.3054 Q218.075 75.1961 220.557 71.4721 Q223.059 67.7294 227.779 67.7294 Z\" fill=\"#000000\" fill-rule=\"evenodd\" fill-opacity=\"1\" /><circle clip-path=\"url(#clip532)\" cx=\"332.331\" cy=\"850\" r=\"14.4\" fill=\"#009af9\" fill-rule=\"evenodd\" fill-opacity=\"1\" stroke=\"#000000\" stroke-opacity=\"1\" stroke-width=\"3.2\"/>\n",
       "<circle clip-path=\"url(#clip532)\" cx=\"435.572\" cy=\"1000\" r=\"14.4\" fill=\"#009af9\" fill-rule=\"evenodd\" fill-opacity=\"1\" stroke=\"#000000\" stroke-opacity=\"1\" stroke-width=\"3.2\"/>\n",
       "<circle clip-path=\"url(#clip532)\" cx=\"538.813\" cy=\"662.5\" r=\"14.4\" fill=\"#009af9\" fill-rule=\"evenodd\" fill-opacity=\"1\" stroke=\"#000000\" stroke-opacity=\"1\" stroke-width=\"3.2\"/>\n",
       "<circle clip-path=\"url(#clip532)\" cx=\"642.054\" cy=\"887.5\" r=\"14.4\" fill=\"#009af9\" fill-rule=\"evenodd\" fill-opacity=\"1\" stroke=\"#000000\" stroke-opacity=\"1\" stroke-width=\"3.2\"/>\n",
       "<circle clip-path=\"url(#clip532)\" cx=\"745.295\" cy=\"775\" r=\"14.4\" fill=\"#009af9\" fill-rule=\"evenodd\" fill-opacity=\"1\" stroke=\"#000000\" stroke-opacity=\"1\" stroke-width=\"3.2\"/>\n",
       "<circle clip-path=\"url(#clip532)\" cx=\"848.536\" cy=\"587.5\" r=\"14.4\" fill=\"#009af9\" fill-rule=\"evenodd\" fill-opacity=\"1\" stroke=\"#000000\" stroke-opacity=\"1\" stroke-width=\"3.2\"/>\n",
       "<circle clip-path=\"url(#clip532)\" cx=\"951.777\" cy=\"1075\" r=\"14.4\" fill=\"#009af9\" fill-rule=\"evenodd\" fill-opacity=\"1\" stroke=\"#000000\" stroke-opacity=\"1\" stroke-width=\"3.2\"/>\n",
       "<circle clip-path=\"url(#clip532)\" cx=\"1055.02\" cy=\"1000\" r=\"14.4\" fill=\"#009af9\" fill-rule=\"evenodd\" fill-opacity=\"1\" stroke=\"#000000\" stroke-opacity=\"1\" stroke-width=\"3.2\"/>\n",
       "<circle clip-path=\"url(#clip532)\" cx=\"1158.26\" cy=\"737.5\" r=\"14.4\" fill=\"#009af9\" fill-rule=\"evenodd\" fill-opacity=\"1\" stroke=\"#000000\" stroke-opacity=\"1\" stroke-width=\"3.2\"/>\n",
       "<circle clip-path=\"url(#clip532)\" cx=\"1261.5\" cy=\"437.5\" r=\"14.4\" fill=\"#009af9\" fill-rule=\"evenodd\" fill-opacity=\"1\" stroke=\"#000000\" stroke-opacity=\"1\" stroke-width=\"3.2\"/>\n",
       "<circle clip-path=\"url(#clip532)\" cx=\"1364.74\" cy=\"737.5\" r=\"14.4\" fill=\"#009af9\" fill-rule=\"evenodd\" fill-opacity=\"1\" stroke=\"#000000\" stroke-opacity=\"1\" stroke-width=\"3.2\"/>\n",
       "<circle clip-path=\"url(#clip532)\" cx=\"1467.98\" cy=\"1300\" r=\"14.4\" fill=\"#009af9\" fill-rule=\"evenodd\" fill-opacity=\"1\" stroke=\"#000000\" stroke-opacity=\"1\" stroke-width=\"3.2\"/>\n",
       "<circle clip-path=\"url(#clip532)\" cx=\"1571.22\" cy=\"1450\" r=\"14.4\" fill=\"#009af9\" fill-rule=\"evenodd\" fill-opacity=\"1\" stroke=\"#000000\" stroke-opacity=\"1\" stroke-width=\"3.2\"/>\n",
       "<circle clip-path=\"url(#clip532)\" cx=\"1674.46\" cy=\"1000\" r=\"14.4\" fill=\"#009af9\" fill-rule=\"evenodd\" fill-opacity=\"1\" stroke=\"#000000\" stroke-opacity=\"1\" stroke-width=\"3.2\"/>\n",
       "<circle clip-path=\"url(#clip532)\" cx=\"1777.7\" cy=\"925\" r=\"14.4\" fill=\"#009af9\" fill-rule=\"evenodd\" fill-opacity=\"1\" stroke=\"#000000\" stroke-opacity=\"1\" stroke-width=\"3.2\"/>\n",
       "<circle clip-path=\"url(#clip532)\" cx=\"1880.94\" cy=\"100\" r=\"14.4\" fill=\"#009af9\" fill-rule=\"evenodd\" fill-opacity=\"1\" stroke=\"#000000\" stroke-opacity=\"1\" stroke-width=\"3.2\"/>\n",
       "<circle clip-path=\"url(#clip532)\" cx=\"1984.19\" cy=\"625\" r=\"14.4\" fill=\"#009af9\" fill-rule=\"evenodd\" fill-opacity=\"1\" stroke=\"#000000\" stroke-opacity=\"1\" stroke-width=\"3.2\"/>\n",
       "<circle clip-path=\"url(#clip532)\" cx=\"2087.43\" cy=\"325\" r=\"14.4\" fill=\"#009af9\" fill-rule=\"evenodd\" fill-opacity=\"1\" stroke=\"#000000\" stroke-opacity=\"1\" stroke-width=\"3.2\"/>\n",
       "<circle clip-path=\"url(#clip532)\" cx=\"2190.67\" cy=\"437.5\" r=\"14.4\" fill=\"#009af9\" fill-rule=\"evenodd\" fill-opacity=\"1\" stroke=\"#000000\" stroke-opacity=\"1\" stroke-width=\"3.2\"/>\n",
       "<circle clip-path=\"url(#clip532)\" cx=\"2293.91\" cy=\"550\" r=\"14.4\" fill=\"#009af9\" fill-rule=\"evenodd\" fill-opacity=\"1\" stroke=\"#000000\" stroke-opacity=\"1\" stroke-width=\"3.2\"/>\n",
       "<path clip-path=\"url(#clip530)\" d=\"\n",
       "M1999.99 198.898 L2283.45 198.898 L2283.45 95.2176 L1999.99 95.2176  Z\n",
       "  \" fill=\"#ffffff\" fill-rule=\"evenodd\" fill-opacity=\"1\"/>\n",
       "<polyline clip-path=\"url(#clip530)\" style=\"stroke:#000000; stroke-linecap:round; stroke-linejoin:round; stroke-width:4; stroke-opacity:1; fill:none\" points=\"\n",
       "  1999.99,198.898 2283.45,198.898 2283.45,95.2176 1999.99,95.2176 1999.99,198.898 \n",
       "  \"/>\n",
       "<circle clip-path=\"url(#clip530)\" cx=\"2092.4\" cy=\"147.058\" r=\"23.04\" fill=\"#009af9\" fill-rule=\"evenodd\" fill-opacity=\"1\" stroke=\"#000000\" stroke-opacity=\"1\" stroke-width=\"5.12\"/>\n",
       "<path clip-path=\"url(#clip530)\" d=\"M2198.65 166.745 Q2196.85 171.375 2195.13 172.787 Q2193.42 174.199 2190.55 174.199 L2187.15 174.199 L2187.15 170.634 L2189.65 170.634 Q2191.41 170.634 2192.38 169.8 Q2193.35 168.967 2194.53 165.865 L2195.3 163.921 L2184.81 138.412 L2189.32 138.412 L2197.43 158.689 L2205.53 138.412 L2210.04 138.412 L2198.65 166.745 Z\" fill=\"#000000\" fill-rule=\"evenodd\" fill-opacity=\"1\" /><path clip-path=\"url(#clip530)\" d=\"M2217.33 160.402 L2224.97 160.402 L2224.97 134.037 L2216.66 135.703 L2216.66 131.444 L2224.93 129.778 L2229.6 129.778 L2229.6 160.402 L2237.24 160.402 L2237.24 164.338 L2217.33 164.338 L2217.33 160.402 Z\" fill=\"#000000\" fill-rule=\"evenodd\" fill-opacity=\"1\" /></svg>\n"
      ]
     },
     "metadata": {},
     "output_type": "display_data"
    }
   ],
   "source": [
    "𝛹ₓₜ_norm=normalization_eigenstates_2D(𝛹ₓₜ,UH_1D,dΩ_1D);\n",
    "scatter(𝛹ₓₜ_norm)"
   ]
  },
  {
   "cell_type": "code",
   "execution_count": 151,
   "metadata": {},
   "outputs": [
    {
     "name": "stderr",
     "output_type": "stream",
     "text": [
      "┌ Info: Saved animation to \n",
      "│   fn = /tmp/jl_chGdcZONEt.gif\n",
      "└ @ Plots /home/mendez/.julia/packages/Plots/lW9ll/src/animation.jl:137\n"
     ]
    },
    {
     "data": {
      "text/html": [
       "<img src=\"data:image/gif;base64,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\" />"
      ],
      "text/plain": [
       "Plots.AnimatedGif(\"/tmp/jl_chGdcZONEt.gif\")"
      ]
     },
     "metadata": {},
     "output_type": "display_data"
    }
   ],
   "source": [
    "anim₁ = @animate for i in 1:length(time_vec)\n",
    "    ρ₁Hreim_1D=real(conj(𝛹ₓₜ[i][1].(pts)).*𝛹ₓₜ[i][1].(pts)) #./ (𝛹ₓₜ_norm[i]^2)\n",
    "    ρ₂Hreim_1D=real(conj(𝛹ₓₜ[i][2].(pts)).*𝛹ₓₜ[i][2].(pts)) #./ (𝛹ₓₜ_norm[i]^2)\n",
    "\n",
    "    plot(x[:],ρ₁Hreim_1D+ρ₂Hreim_1D,label=\"t = $(round(time_vec[i]; digits=4))\",ylim=(0,1),xlim=(-25,25))\n",
    "    # plot(x[:],ρ₁Hreim_1D,label=\"t = $(round(time_vec[i]; digits=4))\",ylim=(0,1),xlim=(-10,10))\n",
    "    plot!(title=\"Time-Dependent Schrödinger equation \\n 25001 nodes 25002 elements\",xlabel=\"\\$x\\$\",ylabel=\"\\$ \\\\rho (x,t)\\$\",ylim=(0,1),xlim=(-25,25))\n",
    "end\n",
    "\n",
    "gif(anim₁, fps = 1)"
   ]
  },
  {
   "attachments": {},
   "cell_type": "markdown",
   "metadata": {},
   "source": [
    "### Mostramos salida de Densidad de probabilidad con visualizador Visit\n",
    "\n",
    "<video controls width=\"500\">\n",
    "  <source src=\"./videos/pseudocolor_density1D_v3.mp4\" type=\"video/mp4\" />\n",
    "</video>\n"
   ]
  }
 ],
 "metadata": {
  "kernelspec": {
   "display_name": "Julia 1.8.0",
   "language": "julia",
   "name": "julia-1.8"
  },
  "language_info": {
   "file_extension": ".jl",
   "mimetype": "application/julia",
   "name": "julia",
   "version": "1.8.0"
  },
  "orig_nbformat": 4
 },
 "nbformat": 4,
 "nbformat_minor": 2
}
