{
 "cells": [
  {
   "attachments": {},
   "cell_type": "markdown",
   "metadata": {},
   "source": [
    "### Activamos multi-threading en VSCode con JupyterNotebook\n",
    "\n",
    "+ [https://docs.julialang.org/en/v1/manual/multi-threading/](https://docs.julialang.org/en/v1/manual/multi-threading/)\n",
    "+ [https://enccs.github.io/Julia-for-HPC/multithreading/](https://enccs.github.io/Julia-for-HPC/multithreading/)\n",
    "+ [https://stackoverflow.com/questions/71596187/changing-threads-in-settings-json-of-vs-code-for-julias-jupyter-notebooks](https://stackoverflow.com/questions/71596187/changing-threads-in-settings-json-of-vs-code-for-julias-jupyter-notebooks)"
   ]
  },
  {
   "attachments": {},
   "cell_type": "markdown",
   "metadata": {},
   "source": [
    "Con el siguiente comando podemos consultar los número de threads disponibles para multithreads, para ello, fue necesario configurar directamente desde VSCode los parámetros de threads para Julia desde JupyterNotebook."
   ]
  },
  {
   "cell_type": "code",
   "execution_count": 1,
   "metadata": {},
   "outputs": [
    {
     "name": "stdout",
     "output_type": "stream",
     "text": [
      "Number of threads = 4\n"
     ]
    }
   ],
   "source": [
    "println(\"Number of threads = \", Threads.nthreads());"
   ]
  },
  {
   "attachments": {},
   "cell_type": "markdown",
   "metadata": {},
   "source": [
    "# Desarrollo numérico para resolver la ecuación de Schrödinger dependiente del tiempo mediante el método implícito"
   ]
  },
  {
   "attachments": {},
   "cell_type": "markdown",
   "metadata": {},
   "source": [
    "## 1. Importamos módulo con funciones, parámetros y algorítmos útiles"
   ]
  },
  {
   "cell_type": "code",
   "execution_count": 1,
   "metadata": {},
   "outputs": [
    {
     "name": "stderr",
     "output_type": "stream",
     "text": [
      "\u001b[32m\u001b[1m  Activating\u001b[22m\u001b[39m project at `~/github_repositories/my_repositories/pde2022/final_project/gridap_makie`\n"
     ]
    },
    {
     "name": "stdout",
     "output_type": "stream",
     "text": [
      "VARIABLES GLOBALES:\n",
      "m=1.0000 (mass)\n",
      "ω=1.0000 (frecuency)\n",
      "ħ=1.0000 (Planck constant)\n",
      "γ=0.1000 (coupling)\n"
     ]
    },
    {
     "name": "stdout",
     "output_type": "stream",
     "text": [
      "x₁=0.0000 x₂=2.0000 y₁=0.0000 y₂=2.0000 (QHO origin position)\n"
     ]
    }
   ],
   "source": [
    "include(\"../modules/module_schrodinger_equation_01.jl\"); # módulo para construir grilla (1D)"
   ]
  },
  {
   "attachments": {},
   "cell_type": "markdown",
   "metadata": {},
   "source": [
    "## 2. Definimos propiedades de la grilla y resolvemos problema de autovalores"
   ]
  },
  {
   "attachments": {},
   "cell_type": "markdown",
   "metadata": {},
   "source": [
    "Acá la idea es crear la grilla 1D con propiedades de tamaño de elementos finitos y condiciones de borde (de tipo Dirichlet homogéneas). Además resolvemos el problema de autovalores para el hamiltoniano del oscilador armónico $\\hat {h}_{x_0=0}(x)$ y calcular las autoenergías y autoestados útiles para contruir la condición inicial en el problema de evolución."
   ]
  },
  {
   "cell_type": "code",
   "execution_count": 2,
   "metadata": {},
   "outputs": [
    {
     "name": "stdout",
     "output_type": "stream",
     "text": [
      "Info    : Meshing 1D...\n",
      "Info    : Meshing curve 1 (Line)\n",
      "Info    : Done meshing 1D (Wall 0.00968767s, CPU 0.008321s)\n",
      "Info    : 10001 nodes 10002 elements\n",
      "Info    : Writing '../models/simple_line_01.msh'...\n",
      "Info    : Done writing '../models/simple_line_01.msh'\n",
      "Info    : Reading '../models/simple_line_01.msh'...\n",
      "Info    : 3 entities\n",
      "Info    : 10001 nodes\n",
      "Info    : 10002 elements\n",
      "Info    : Done reading '../models/simple_line_01.msh'\n"
     ]
    }
   ],
   "source": [
    "grid_type=\"simple_line\";                            # tipo de grilla\n",
    "Δxₕ=1.0/200.0;                                      # tamaño del elento 1D\n",
    "\n",
    "dom_1D=(-25.0,25.0);\n",
    "\n",
    "par_1D=(path_models,grid_type*\"_01\",dom_1D,Δxₕ);    # (path,name,dom,MeshSize)\n",
    "\n",
    "model_1D=make_model(grid_type,par_1D);              # creamos modelo\n",
    "write_data=false\n",
    "if write_data\n",
    "    writevtk(model_1D,path_images*\"model_1D\");      # escribimos el modelo para visualizar con Visit\n",
    "end\n",
    "\n",
    "# condiciones de contorno\n",
    "dirichlet_tags_1D=[\"left_point\",\"right_point\"];\n",
    "dirichlet_values_1D=[(0.0+im*0.0),(0.0+im*0.0)];\n",
    "\n",
    "Ω_1D,dΩ_1D,Γ_1D,dΓ_1D=measures(model_1D,3,dirichlet_tags_1D);\n",
    "\n",
    "reffe_1D=reference_FEspaces(lagrangian,Float64,2);\n",
    "\n",
    "Vₕ_1D=TestFESpace(model_1D,reffe_1D;vector_type=Vector{ComplexF64},conformity=:H1,dirichlet_tags=dirichlet_tags_1D);\n",
    "Uₕ_1D=TrialFESpace(Vₕ_1D,dirichlet_values_1D);\n",
    "\n",
    "aₕ_1D,bₕ_1D=bilineal_forms(pₕ,qₕ,rₕ,dΩ_1D);\n",
    "\n",
    "nevₕ=20 # number of eigenvalues asked to evaluate.\n",
    "probₕ_1D=EigenProblem(aₕ_1D,bₕ_1D,Uₕ_1D,Vₕ_1D;nev=nevₕ,tol=10^(-6),maxiter=100,explicittransform=:none,sigma=-1.0)\n",
    "ϵₕ_1D,ϕₕ_1D=solve(probₕ_1D);"
   ]
  },
  {
   "cell_type": "code",
   "execution_count": 3,
   "metadata": {},
   "outputs": [],
   "source": [
    "# Escribimos autovectores para visualizar externamente\n",
    "write_data=false;\n",
    "if write_data\n",
    "    for i in 1:nevₕ\n",
    "        ϕₕi_1D = ϕₕ_1D[i]; # autovector asociado al autovalor 6\n",
    "        writevtk(Ω_1D,path_images*\"eigenprob_1D_01_num$(i)\",cellfields=[\"phi_real\" => real(ϕₕi_1D), \"phi_imag\" => real(ϕₕi_1D)]);\n",
    "    end\n",
    "end"
   ]
  },
  {
   "attachments": {},
   "cell_type": "markdown",
   "metadata": {},
   "source": [
    "> useful links to embeded mp4 inside Markdown Julia\n",
    " + [https://developer.mozilla.org/en-US/docs/Web/HTML/Element/video](https://developer.mozilla.org/en-US/docs/Web/HTML/Element/video)\n",
    " + [https://www.freeconvert.com/mpeg-to-mp4](https://www.freeconvert.com/mpeg-to-mp4)"
   ]
  },
  {
   "attachments": {},
   "cell_type": "markdown",
   "metadata": {},
   "source": [
    "## 3. Resolvemos la ecuación de evolución (ecuación de Schrödinger dependiente del tiempo) con método de Euler implícito"
   ]
  },
  {
   "attachments": {},
   "cell_type": "markdown",
   "metadata": {},
   "source": [
    "### 3.1. Definimos variables temporales"
   ]
  },
  {
   "cell_type": "code",
   "execution_count": 16,
   "metadata": {},
   "outputs": [
    {
     "data": {
      "text/plain": [
       "1.0001000100010001e-5"
      ]
     },
     "metadata": {},
     "output_type": "display_data"
    }
   ],
   "source": [
    "t₀=0.0;t₁=0.1;                     # final time for test\n",
    "num_steps=10000;                     # number of time steps   \n",
    "n_int=500;                          # Intervals where data is saved\n",
    "Δt=abs(t₁-t₀)*(1.0/(num_steps-1))   # time step"
   ]
  },
  {
   "attachments": {},
   "cell_type": "markdown",
   "metadata": {},
   "source": [
    "Aquí mostramos factores de interes, como ser:\n",
    "+ El factor $\\frac {\\Delta t}{\\Delta x^2}$ nos permite corroborar que, si es pequeño $( \\lt 1)$, el método de Euler usual funcionaría.\n",
    "+ El factor $\\frac {\\Delta t}{\\Delta x}$ si es aproximadamente igual a 1, y no usamos métodos implícitos, el método explícito sería intestable.\n",
    "+ El factor $\\left ( \\frac {\\Delta t}{\\Delta x^2} \\right)^3$ nos dice cómo escala el error del método implícito."
   ]
  },
  {
   "cell_type": "code",
   "execution_count": 17,
   "metadata": {},
   "outputs": [
    {
     "name": "stdout",
     "output_type": "stream",
     "text": [
      "Δt/Δx²=0.400040,Δt/Δx=0.002000,Δt³/Δx⁶=0.064019"
     ]
    }
   ],
   "source": [
    "@printf(\"Δt/Δx²=%.6f\\nΔt/Δx=%.6f\\nΔt³/Δx⁶=%.6f\",Δt/(Δxₕ^2),(Δt/Δxₕ),(Δt/(Δxₕ^2))^3)"
   ]
  },
  {
   "attachments": {},
   "cell_type": "markdown",
   "metadata": {},
   "source": [
    "### 3.2. Construimos espacios Trial y Test\n",
    "Como resolvemos la evolución en componentes de la función de onda, tendremos que construir espacios Test y Trial de tipo `MultiFieldFESpace()`."
   ]
  },
  {
   "cell_type": "code",
   "execution_count": 18,
   "metadata": {},
   "outputs": [],
   "source": [
    "# espacio de pruebas y de soluciones para ψ₁\n",
    "V₁H_1D=TestFESpace(model_1D,reffe_1D;vector_type=Vector{ComplexF64},conformity=:H1,dirichlet_tags=dirichlet_tags_1D);\n",
    "U₁H_1D=TrialFESpace(V₁H_1D,dirichlet_values_1D);\n",
    "# espacio de pruebas y de soluciones para ψ₂\n",
    "V₂H_1D=TestFESpace(model_1D,reffe_1D;vector_type=Vector{ComplexF64},conformity=:H1,dirichlet_tags=dirichlet_tags_1D);\n",
    "U₂H_1D=TrialFESpace(V₂H_1D,dirichlet_values_1D);\n",
    "# creamos un campo de espacios\n",
    "UH_1D = MultiFieldFESpace([U₁H_1D, U₂H_1D]);\n",
    "VH_1D = MultiFieldFESpace([V₁H_1D, V₂H_1D]);"
   ]
  },
  {
   "attachments": {},
   "cell_type": "markdown",
   "metadata": {},
   "source": [
    "### 3.3. Construimos la condición inicial\n",
    "\n",
    "Para construir la condición inicial utilizamos la función de interpolación para crear objetos en un dominio específico, es decir, en el dominio del hamiltoniano $\\hat {h}_{x_0=0}(x)$, e interpolamos en otro domino específico, es decir, en el dominio del hamiltoniano del sistema $\\hat {H}(x)$. De esta forma creamos una condición inicial donde una de las componentes sea la autofunción del hamiltoniano individual $\\hat {h}_{x_0=0}(x)$."
   ]
  },
  {
   "cell_type": "code",
   "execution_count": 19,
   "metadata": {},
   "outputs": [],
   "source": [
    "u₀ₕ_1D=interpolate_everywhere(ϕₕ_1D[1],Uₕ_1D);\n",
    "interp_u₀ₕ_1D=Interpolable(u₀ₕ_1D);"
   ]
  },
  {
   "cell_type": "code",
   "execution_count": null,
   "metadata": {},
   "outputs": [],
   "source": [
    "type_BC=1;\n",
    "if (type_BC==1)\n",
    "    u₁0H_1D_v₁(x)=0.0;\n",
    "    u₂0H_1D_v₁=interpolate_everywhere(interp_u₀ₕ_1D,U₂H_1D);\n",
    "    u₀H_1D=interpolate_everywhere([u₁0H_1D_v₁,u₂0H_1D_v₁],UH_1D);\n",
    "elseif (type_BC==2)\n",
    "    u₁0H_1D_v₂=interpolate_everywhere(interp_u₀ₕ_1D,U₁H_1D);\n",
    "    u₂0H_1D_v₂(x)=0.0;\n",
    "    u₀H_1D=interpolate_everywhere([u₁0H_1D_v₂,u₂0H_1D_v₂],UH_1D);\n",
    "end"
   ]
  },
  {
   "attachments": {},
   "cell_type": "markdown",
   "metadata": {},
   "source": [
    "Si es requerido podemos escribir datos en formato vtk para visualizar externamente."
   ]
  },
  {
   "cell_type": "code",
   "execution_count": 52,
   "metadata": {},
   "outputs": [
    {
     "name": "stdout",
     "output_type": "stream",
     "text": [
      "norm L₂u₁=0.000000,norm L₂u₂=1.000000"
     ]
    }
   ],
   "source": [
    "write_data=false\n",
    "if write_data\n",
    "    writevtk(Ω_2D,path_images*\"evol_ini_dat_$(lpad(0,3,'0'))\", cellfields=[\"u₁0H_2D_re\"=>real(u₀H_2D[1]),\"u₁0H_2D_im\"=>imag(u₀H_2D[1])])\n",
    "end"
   ]
  },
  {
   "attachments": {},
   "cell_type": "markdown",
   "metadata": {},
   "source": [
    "Mostramos norma $L_2$ de las coordenadas de la condición inicial para asegurarnos sus propiedades."
   ]
  },
  {
   "cell_type": "code",
   "execution_count": null,
   "metadata": {},
   "outputs": [],
   "source": [
    "@printf(\"norm L₂u₁=%.6f,norm L₂u₂=%.6f\",norm_L2(u₀H_1D[1],dΩ_1D),norm_L2(u₀H_1D[2],dΩ_1D))"
   ]
  },
  {
   "attachments": {},
   "cell_type": "markdown",
   "metadata": {},
   "source": [
    "### 3.4. Definimos forma bilineal $a((u_1,u_2),(v_1,v_2))$ y matriz principal A"
   ]
  },
  {
   "cell_type": "code",
   "execution_count": 22,
   "metadata": {},
   "outputs": [],
   "source": [
    "a_H_1D=a_bilineal_forms_2D(α₁,α₂,Δt,dΩ_1D);\n",
    "\n",
    "assem_H=SparseMatrixAssembler(UH_1D,VH_1D);       # ensamblamos una matriz sparse con U y V\n",
    "dv_H=get_fe_basis(VH_1D);                         # escribimos v en la base de FE de V            \n",
    "du_H=get_trial_fe_basis(UH_1D);                   # escribimos u en la base de FE de U\n",
    "mat_contribs_H=a_H_1D(du_H,dv_H);                       # creamos una matriz de bases (contribuciones)\n",
    "data_H=collect_cell_matrix(UH_1D,VH_1D,mat_contribs_H); # recolectamos una matriz (datos)\n",
    "A_H=assemble_matrix(assem_H,data_H);                    # creamos matriz A con contribuciones y datos"
   ]
  },
  {
   "attachments": {},
   "cell_type": "markdown",
   "metadata": {},
   "source": [
    "Realizamos la evolución, deiniendo en cada paso el funcional b(v) y haciendo uso del operador backslash para diagonalizar"
   ]
  },
  {
   "cell_type": "code",
   "execution_count": 25,
   "metadata": {},
   "outputs": [],
   "source": [
    "time_vec=[t₀+Δt*(i-1) for i in 1:num_steps];    # vector de tiempos\n",
    "𝛹ₓₜ=Vector{CellField}(undef,length(time_vec));  # función de onda"
   ]
  },
  {
   "cell_type": "code",
   "execution_count": 26,
   "metadata": {},
   "outputs": [
    {
     "data": {
      "text/plain": [
       "MultiFieldFEFunction():\n",
       " num_cells: 10000\n",
       " DomainStyle: ReferenceDomain()\n",
       " Triangulation: BodyFittedTriangulation()\n",
       " Triangulation id: 11903327770697628309"
      ]
     },
     "metadata": {},
     "output_type": "display_data"
    }
   ],
   "source": [
    "# paso inicial (t=0)\n",
    "t=time_vec[1];\n",
    "# escribimos datos vtk para visualizar externamente\n",
    "write_data=false;\n",
    "if write_data\n",
    "  writevtk(Ω_1D,path_images*\"evol_1D_02_$(lpad(0,3,'0'))\",\n",
    "  cellfields=[\"u₁H_1D_re\" => real(u₀H_1D[1]), \"u₁H_1D_im\" => imag(u₀H_1D[1]),\"u₂H_1D_re\" => real(u₀H_1D[2]), \"u₂H_1D_im\" => imag(u₀H_1D[2])])\n",
    "  @printf(\"t=%.6f,norm L₂u₁=%.6f,norm L₂u₂=%.6f\\n\",t,norm_L2(u₀H_1D[1],dΩ_1D),norm_L2(u₀H_1D[2],dΩ_1D))\n",
    "end\n",
    "# guardamos función de onda\n",
    "uₓₜ=interpolate_everywhere(u₀H_1D,UH_1D);\n",
    "u¹ₓₜ,u²ₓₜ=uₓₜ;\n",
    "𝛹ₓₜ[1]=interpolate_everywhere([u¹ₓₜ,u²ₓₜ],UH_1D)"
   ]
  },
  {
   "cell_type": "code",
   "execution_count": 57,
   "metadata": {},
   "outputs": [],
   "source": [
    "# evolucionamos para t>0\n",
    "for istep in 2:(length(time_vec)-1)\n",
    "  # construimos forma bilineal b(v₁,v₂)\n",
    "  b_H_1D=b_bilineal_form_2D(α₁,α₂,u₀H_1D[1],u₀H_1D[2],Δt,dΩ_1D)\n",
    "\n",
    "  # descomentar si queremos resolver de forma usual\n",
    "  # vec_contribs_H=b_H_1D(dv_H[1],dv_H[2])\n",
    "  vec_contribs_H=b_H_1D(dv_H)\n",
    "  data_H=collect_cell_vector(VH_1D,vec_contribs_H)\n",
    "  b_H=assemble_vector(assem_H,data_H)\n",
    "  x_H = A_H \\ b_H\n",
    "  uH_1D = FEFunction(UH_1D,x_H)\n",
    "\n",
    "  # descomentar si queremos resolver con solver (NO FUNCIONA)\n",
    "  # op = Affineassem_HFEOperator(a_H_1D,b_H_1D,UH_1D,VH_1D)\n",
    "  # ls=LUSolver();solver=LinearFESolver(ls)\n",
    "  # uH_1D = solve(solver,op)\n",
    "\n",
    "  # actualizamos condición inicial\n",
    "  u₀H_1D = uH_1D\n",
    "\n",
    "  t = time_vec[istep];\n",
    "  # escribimos datos vtk para visualizar externamente\n",
    "  if ((istep - 1) % n_int == 0) && (write_data)\n",
    "    writevtk(Ω_1D,path_images*\"evol_1D_02_$(lpad(istep,3,'0'))\",\n",
    "    cellfields=[ \"u₁H_1D_re\" => real(u₀H_1D[1]), \"u₁H_1D_im\" => imag(u₀H_1D[1]),\"u₂H_1D_re\" => real(u₀H_1D[2]), \"u₂H_1D_im\" => imag(u₀H_1D[2])])\n",
    "    @printf(\"t=%.6f,norm L₂u₁=%.6f,norm L₂u₂=%.6f\\n\",t,norm_L2(u₀H_1D[1],dΩ_1D),norm_L2(u₀H_1D[2],dΩ_1D))\n",
    "  end\n",
    "  # guardamos función de onda\n",
    "  uₓₜ=interpolate_everywhere(u₀H_1D,UH_1D);\n",
    "  u¹ₓₜ,u²ₓₜ=uₓₜ;\n",
    "  𝛹ₓₜ[istep]=interpolate_everywhere([u¹ₓₜ,u²ₓₜ],UH_1D)\n",
    "end"
   ]
  },
  {
   "cell_type": "markdown",
   "metadata": {},
   "source": [
    "Creamos una función para obtener los puntos discretos de la grilla (valuados) y un vector de dichos puntos, lo cual será útil para graficar los resultados o realizar cálculos específicos"
   ]
  },
  {
   "cell_type": "code",
   "execution_count": 18,
   "metadata": {},
   "outputs": [
    {
     "data": {
      "text/plain": [
       "space_coord (generic function with 1 method)"
      ]
     },
     "metadata": {},
     "output_type": "display_data"
    }
   ],
   "source": [
    "function space_coord(dom,Δx)\n",
    "    x=[dom[1]+abs(dom[2]-dom[1])*Δx*i for i in 1:convert(Int,1.0/Δx)];\n",
    "    pts=[Point(x[i]) for i in 1:convert(Int,1.0/Δx)];\n",
    "    return x,pts;\n",
    "end"
   ]
  },
  {
   "cell_type": "code",
   "execution_count": 19,
   "metadata": {},
   "outputs": [],
   "source": [
    "x,pts=space_coord(dom_1D,Δxₕ);"
   ]
  },
  {
   "cell_type": "code",
   "execution_count": null,
   "metadata": {},
   "outputs": [],
   "source": [
    "anim₁ = @animate for i in 1:250:length(time_vec)\n",
    "    ρ₁Hreim_1D=real(conj(𝛹ₓₜ[i][1].(pts)).*𝛹ₓₜ[i][1].(pts)) #./ (𝛹ₓₜ_norm[i]^2)\n",
    "    ρ₂Hreim_1D=real(conj(𝛹ₓₜ[i][2].(pts)).*𝛹ₓₜ[i][2].(pts)) #./ (𝛹ₓₜ_norm[i]^2)\n",
    "\n",
    "    plot(x[:],ρ₁Hreim_1D+ρ₂Hreim_1D,label=\"t = $(round(time_vec[i]; digits=4))\",ylim=(0,1),xlim=(-10,10))\n",
    "    # plot(x[:],ρ₁Hreim_1D,label=\"t = $(round(time_vec[i]; digits=4))\",ylim=(0,1),xlim=(-10,10))\n",
    "    plot!(title=\"Time-Dependent Schrödinger equation \\n 25001 nodes 25002 elements\",xlabel=\"\\$x\\$\",ylabel=\"\\$ \\\\rho (x,t)\\$\",ylim=(0,1),xlim=(-10,10))\n",
    "end\n",
    "\n",
    "gif(anim₁, fps = 1)"
   ]
  },
  {
   "attachments": {},
   "cell_type": "markdown",
   "metadata": {},
   "source": [
    "### Mostramos salida de Densidad de probabilidad con visualizador Visit\n",
    "\n",
    "<video controls width=\"500\">\n",
    "  <source src=\"./videos/pseudocolor_density1D_v3.mp4\" type=\"video/mp4\" />\n",
    "</video>\n"
   ]
  }
 ],
 "metadata": {
  "kernelspec": {
   "display_name": "Julia 1.8.0",
   "language": "julia",
   "name": "julia-1.8"
  },
  "language_info": {
   "file_extension": ".jl",
   "mimetype": "application/julia",
   "name": "julia",
   "version": "1.8.0"
  },
  "orig_nbformat": 4
 },
 "nbformat": 4,
 "nbformat_minor": 2
}
