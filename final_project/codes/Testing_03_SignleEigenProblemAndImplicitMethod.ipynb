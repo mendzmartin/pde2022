{
 "cells": [
  {
   "attachments": {},
   "cell_type": "markdown",
   "metadata": {},
   "source": [
    "### Activamos multi-threading en VSCode con JupyterNotebook\n",
    "\n",
    "+ [https://docs.julialang.org/en/v1/manual/multi-threading/](https://docs.julialang.org/en/v1/manual/multi-threading/)\n",
    "+ [https://enccs.github.io/Julia-for-HPC/multithreading/](https://enccs.github.io/Julia-for-HPC/multithreading/)\n",
    "+ [https://stackoverflow.com/questions/71596187/changing-threads-in-settings-json-of-vs-code-for-julias-jupyter-notebooks](https://stackoverflow.com/questions/71596187/changing-threads-in-settings-json-of-vs-code-for-julias-jupyter-notebooks)"
   ]
  },
  {
   "attachments": {},
   "cell_type": "markdown",
   "metadata": {},
   "source": [
    "Con el siguiente comando podemos consultar los número de threads disponibles para multithreads, para ello, fue necesario configurar directamente desde VSCode los parámetros de threads para Julia desde JupyterNotebook."
   ]
  },
  {
   "cell_type": "code",
   "execution_count": 1,
   "metadata": {},
   "outputs": [
    {
     "name": "stdout",
     "output_type": "stream",
     "text": [
      "Number of threads = 4\n"
     ]
    }
   ],
   "source": [
    "println(\"Number of threads = \", Threads.nthreads());"
   ]
  },
  {
   "attachments": {},
   "cell_type": "markdown",
   "metadata": {},
   "source": [
    "# Desarrollo numérico para resolver la ecuación de Schrödinger dependiente del tiempo mediante el método implícito"
   ]
  },
  {
   "attachments": {},
   "cell_type": "markdown",
   "metadata": {},
   "source": [
    "## 1. Importamos módulo con funciones, parámetros y algorítmos útiles"
   ]
  },
  {
   "cell_type": "code",
   "execution_count": 2,
   "metadata": {},
   "outputs": [
    {
     "name": "stderr",
     "output_type": "stream",
     "text": [
      "\u001b[32m\u001b[1m  Activating\u001b[22m\u001b[39m project at `~/github_repositories/my_repositories/pde2022/final_project/gridap_makie`\n"
     ]
    },
    {
     "name": "stderr",
     "output_type": "stream",
     "text": [
      "\u001b[32m\u001b[1m   Resolving\u001b[22m\u001b[39m package versions...\n"
     ]
    },
    {
     "name": "stderr",
     "output_type": "stream",
     "text": [
      "\u001b[32m\u001b[1m    Updating\u001b[22m\u001b[39m `~/github_repositories/my_repositories/pde2022/final_project/gridap_makie/Project.toml`\n",
      " \u001b[90m [56d4f2e9] \u001b[39m\u001b[92m+ Gridap v0.17.16\u001b[39m\n",
      "\u001b[32m\u001b[1m    Updating\u001b[22m\u001b[39m `~/github_repositories/my_repositories/pde2022/final_project/gridap_makie/Manifest.toml`\n"
     ]
    },
    {
     "name": "stderr",
     "output_type": "stream",
     "text": [
      " \u001b[90m [56d4f2e9] \u001b[39m\u001b[93m↑ Gridap v0.17.15 ⇒ v0.17.16\u001b[39m\n"
     ]
    },
    {
     "name": "stderr",
     "output_type": "stream",
     "text": [
      "\u001b[32m\u001b[1mPrecompiling\u001b[22m\u001b[39m "
     ]
    },
    {
     "name": "stderr",
     "output_type": "stream",
     "text": [
      "project...\n"
     ]
    },
    {
     "name": "stderr",
     "output_type": "stream",
     "text": [
      "\u001b[32m  ✓ \u001b[39mGridap\n"
     ]
    },
    {
     "name": "stderr",
     "output_type": "stream",
     "text": [
      "\u001b[32m  ✓ \u001b[39mGridapPardiso\n"
     ]
    },
    {
     "name": "stderr",
     "output_type": "stream",
     "text": [
      "\u001b[32m  ✓ \u001b[39m\u001b[90mGridapDistributed\u001b[39m\n"
     ]
    },
    {
     "name": "stderr",
     "output_type": "stream",
     "text": [
      "\u001b[32m  ✓ \u001b[39mGridapGmsh\n",
      "  4 dependencies successfully precompiled in 47 seconds. 130 already precompiled.\n",
      "\u001b[32m\u001b[1m   Resolving\u001b[22m\u001b[39m package versions...\n"
     ]
    },
    {
     "name": "stderr",
     "output_type": "stream",
     "text": [
      "\u001b[32m\u001b[1m  No Changes\u001b[22m\u001b[39m to `~/github_repositories/my_repositories/pde2022/final_project/gridap_makie/Project.toml`\n",
      "\u001b[32m\u001b[1m  No Changes\u001b[22m\u001b[39m to `~/github_repositories/my_repositories/pde2022/final_project/gridap_makie/Manifest.toml`\n"
     ]
    },
    {
     "name": "stderr",
     "output_type": "stream",
     "text": [
      "\u001b[32m\u001b[1m   Resolving\u001b[22m\u001b[39m package versions...\n"
     ]
    },
    {
     "name": "stderr",
     "output_type": "stream",
     "text": [
      "\u001b[32m\u001b[1m  No Changes\u001b[22m\u001b[39m to `~/github_repositories/my_repositories/pde2022/final_project/gridap_makie/Project.toml`\n",
      "\u001b[32m\u001b[1m  No Changes\u001b[22m\u001b[39m to `~/github_repositories/my_repositories/pde2022/final_project/gridap_makie/Manifest.toml`\n"
     ]
    },
    {
     "name": "stderr",
     "output_type": "stream",
     "text": [
      "\u001b[32m\u001b[1m   Resolving\u001b[22m\u001b[39m package versions...\n"
     ]
    },
    {
     "name": "stderr",
     "output_type": "stream",
     "text": [
      "\u001b[32m\u001b[1m  No Changes\u001b[22m\u001b[39m to `~/github_repositories/my_repositories/pde2022/final_project/gridap_makie/Project.toml`\n",
      "\u001b[32m\u001b[1m  No Changes\u001b[22m\u001b[39m to `~/github_repositories/my_repositories/pde2022/final_project/gridap_makie/Manifest.toml`\n"
     ]
    },
    {
     "name": "stderr",
     "output_type": "stream",
     "text": [
      "\u001b[32m\u001b[1m   Resolving\u001b[22m\u001b[39m package versions...\n"
     ]
    },
    {
     "name": "stderr",
     "output_type": "stream",
     "text": [
      "\u001b[32m\u001b[1m  No Changes\u001b[22m\u001b[39m to `~/github_repositories/my_repositories/pde2022/final_project/gridap_makie/Project.toml`\n",
      "\u001b[32m\u001b[1m  No Changes\u001b[22m\u001b[39m to `~/github_repositories/my_repositories/pde2022/final_project/gridap_makie/Manifest.toml`\n"
     ]
    },
    {
     "name": "stderr",
     "output_type": "stream",
     "text": [
      "\u001b[32m\u001b[1m   Resolving\u001b[22m\u001b[39m package versions...\n"
     ]
    },
    {
     "name": "stderr",
     "output_type": "stream",
     "text": [
      "\u001b[32m\u001b[1m  No Changes\u001b[22m\u001b[39m to `~/github_repositories/my_repositories/pde2022/final_project/gridap_makie/Project.toml`\n",
      "\u001b[32m\u001b[1m  No Changes\u001b[22m\u001b[39m to `~/github_repositories/my_repositories/pde2022/final_project/gridap_makie/Manifest.toml`\n"
     ]
    },
    {
     "name": "stderr",
     "output_type": "stream",
     "text": [
      "\u001b[32m\u001b[1m   Resolving\u001b[22m\u001b[39m package versions...\n"
     ]
    },
    {
     "name": "stderr",
     "output_type": "stream",
     "text": [
      "\u001b[32m\u001b[1m  No Changes\u001b[22m\u001b[39m to `~/github_repositories/my_repositories/pde2022/final_project/gridap_makie/Project.toml`\n",
      "\u001b[32m\u001b[1m  No Changes\u001b[22m\u001b[39m to `~/github_repositories/my_repositories/pde2022/final_project/gridap_makie/Manifest.toml`\n"
     ]
    },
    {
     "name": "stderr",
     "output_type": "stream",
     "text": [
      "\u001b[32m\u001b[1m   Resolving\u001b[22m\u001b[39m package versions...\n"
     ]
    },
    {
     "name": "stderr",
     "output_type": "stream",
     "text": [
      "\u001b[32m\u001b[1m  No Changes\u001b[22m\u001b[39m to `~/github_repositories/my_repositories/pde2022/final_project/gridap_makie/Project.toml`\n",
      "\u001b[32m\u001b[1m  No Changes\u001b[22m\u001b[39m to `~/github_repositories/my_repositories/pde2022/final_project/gridap_makie/Manifest.toml`\n"
     ]
    },
    {
     "name": "stdout",
     "output_type": "stream",
     "text": [
      "VARIABLES GLOBALES:\n",
      "m=1.0000 (mass)\n",
      "ω=1.0000 (frecuency)\n",
      "ħ=1.0000 (Planck constant)\n",
      "γ=0.1000 (coupling)\n"
     ]
    },
    {
     "name": "stdout",
     "output_type": "stream",
     "text": [
      "x₁=0.0000 x₂=2.0000f (QHO origin position)\n"
     ]
    }
   ],
   "source": [
    "include(\"../modules/module_schrodinger_equation_testing_03.jl\"); # módulo para construir grilla (1D)"
   ]
  },
  {
   "attachments": {},
   "cell_type": "markdown",
   "metadata": {},
   "source": [
    "## 2. Definimos propiedades de la grilla y resolvemos problema de autovalores"
   ]
  },
  {
   "attachments": {},
   "cell_type": "markdown",
   "metadata": {},
   "source": [
    "Acá la idea es crear la grilla 1D con propiedades de tamaño de elementos finitos y condiciones de borde (de tipo Dirichlet homogeneas). Además, resolvemos el problema de autovalores para el hamiltoniano del oscilador armónico $\\hat {h}_{x_0=0}(x)$ y calculamos las autoenergías y autoestados útiles para contruir la condición inicial en el problema de evolución."
   ]
  },
  {
   "cell_type": "code",
   "execution_count": 3,
   "metadata": {},
   "outputs": [
    {
     "name": "stdout",
     "output_type": "stream",
     "text": [
      "Info    : Meshing 1D...\n",
      "Info    : Meshing curve 1 (Line)\n",
      "Info    : Done meshing 1D (Wall 0.0470165s, CPU 0.038773s)\n",
      "Info    : 40001 nodes 40002 elements\n",
      "Info    : Writing '../models/simple_line_01.msh'...\n",
      "Info    : Done writing '../models/simple_line_01.msh'\n",
      "Info    : Reading '../models/simple_line_01.msh'...\n",
      "Info    : 3 entities\n",
      "Info    : 40001 nodes\n",
      "Info    : 40002 elements\n",
      "Info    : Done reading '../models/simple_line_01.msh'\n"
     ]
    }
   ],
   "source": [
    "grid_type=\"simple_line\";                            # tipo de grilla\n",
    "Δxₕ=1.0/800.0;                                      # tamaño del elento 1D\n",
    "\n",
    "dom_1D=(-25.0,25.0);\n",
    "\n",
    "par_1D=(path_models,grid_type*\"_01\",dom_1D,Δxₕ);    # (path,name,dom,MeshSize)\n",
    "\n",
    "model_1D=make_model(grid_type,par_1D);              # creamos modelo\n",
    "write_data=false\n",
    "if write_data\n",
    "    writevtk(model_1D,path_images*\"model_1D\");      # escribimos el modelo para visualizar con Visit\n",
    "end\n",
    "\n",
    "# condiciones de contorno\n",
    "dirichlet_tags_1D=[\"left_point\",\"right_point\"];\n",
    "dirichlet_values_1D=[(0.0+im*0.0),(0.0+im*0.0)]; # tipo Dirichlet homogeneas en los bordes\n",
    "\n",
    "Ω_1D,dΩ_1D,Γ_1D,dΓ_1D=measures(model_1D,3,dirichlet_tags_1D);\n",
    "\n",
    "reffe_1D=reference_FEspaces(lagrangian,Float64,2);\n",
    "\n",
    "Vₕ_1D=TestFESpace(model_1D,reffe_1D;vector_type=Vector{ComplexF64},conformity=:H1,dirichlet_tags=dirichlet_tags_1D);\n",
    "Uₕ_1D=TrialFESpace(Vₕ_1D,dirichlet_values_1D);\n",
    "\n",
    "aₕ_1D,bₕ_1D=bilineal_forms(pₕ,qₕ,rₕ,dΩ_1D);\n",
    "\n",
    "nevₕ=20 # number of eigenvalues asked to evaluate.\n",
    "probₕ_1D=EigenProblem(aₕ_1D,bₕ_1D,Uₕ_1D,Vₕ_1D;nev=nevₕ,tol=10^(-9),maxiter=500,explicittransform=:none,sigma=-1.0)\n",
    "ϵₕ_1D,ϕₕ_1D=solve(probₕ_1D);"
   ]
  },
  {
   "cell_type": "code",
   "execution_count": 3,
   "metadata": {},
   "outputs": [],
   "source": [
    "# Escribimos autovectores para visualizar externamente\n",
    "write_data=false;\n",
    "if write_data\n",
    "    for i in 1:nevₕ\n",
    "        ϕₕi_1D = ϕₕ_1D[i]; # autovector asociado al autovalor 6\n",
    "        writevtk(Ω_1D,path_images*\"eigenprob_1D_01_num$(i)\",cellfields=[\"phi_real\" => real(ϕₕi_1D), \"phi_imag\" => real(ϕₕi_1D)]);\n",
    "    end\n",
    "end"
   ]
  },
  {
   "attachments": {},
   "cell_type": "markdown",
   "metadata": {},
   "source": [
    "> useful links to embeded mp4 inside Markdown Julia\n",
    " + [https://developer.mozilla.org/en-US/docs/Web/HTML/Element/video](https://developer.mozilla.org/en-US/docs/Web/HTML/Element/video)\n",
    " + [https://www.freeconvert.com/mpeg-to-mp4](https://www.freeconvert.com/mpeg-to-mp4)"
   ]
  },
  {
   "attachments": {},
   "cell_type": "markdown",
   "metadata": {},
   "source": [
    "## 3. Resolvemos la ecuación de evolución (ecuación de Schrödinger dependiente del tiempo) con método de Euler implícito"
   ]
  },
  {
   "attachments": {},
   "cell_type": "markdown",
   "metadata": {},
   "source": [
    "### 3.1. Definimos variables temporales"
   ]
  },
  {
   "cell_type": "code",
   "execution_count": 23,
   "metadata": {},
   "outputs": [
    {
     "data": {
      "text/plain": [
       "1.0000000000000002e-6"
      ]
     },
     "metadata": {},
     "output_type": "display_data"
    }
   ],
   "source": [
    "t₀=0.0;t₁=0.1;                    # final time for test\n",
    "num_steps=100001;                     # number of time steps   \n",
    "n_int=5000;                           # Intervals where data is saved n_int=(num_steps-1)/20\n",
    "Δt=abs(t₁-t₀)*(1.0/(num_steps-1))   # time step"
   ]
  },
  {
   "attachments": {},
   "cell_type": "markdown",
   "metadata": {},
   "source": [
    "Aquí mostramos factores de interes, como ser:\n",
    "+ El factor $\\frac {\\Delta t}{\\Delta x^2}$ nos permite corroborar que, si es pequeño $( \\lt 1)$, el método de Euler usual funcionaría.\n",
    "+ El factor $\\frac {\\Delta t}{\\Delta x}$ si es aproximadamente igual a 1, y no usamos métodos implícitos, el método explícito sería intestable.\n",
    "+ El factor $\\left ( \\frac {\\Delta t}{\\Delta x^2} \\right)^3$ nos dice cómo escala el error del método implícito."
   ]
  },
  {
   "cell_type": "code",
   "execution_count": 24,
   "metadata": {},
   "outputs": [
    {
     "name": "stdout",
     "output_type": "stream",
     "text": [
      "Δt/Δx²=0.640000\n",
      "Δt/Δx=0.000800\n",
      "Δt³/Δx⁶=0.262144"
     ]
    }
   ],
   "source": [
    "@printf(\"Δt/Δx²=%.6f\\nΔt/Δx=%.6f\\nΔt³/Δx⁶=%.6f\",Δt/(Δxₕ^2),(Δt/Δxₕ),(Δt/(Δxₕ^2))^3)"
   ]
  },
  {
   "attachments": {},
   "cell_type": "markdown",
   "metadata": {},
   "source": [
    "### 3.2. Construimos espacios Trial y Test\n",
    "Como resolvemos la evolución en componentes de la función de onda, tendremos que construir espacios Test y Trial de tipo `MultiFieldFESpace()`."
   ]
  },
  {
   "cell_type": "code",
   "execution_count": 25,
   "metadata": {},
   "outputs": [],
   "source": [
    "# espacio de pruebas y de soluciones para ψ₁\n",
    "V₁H_1D=TestFESpace(model_1D,reffe_1D;vector_type=Vector{ComplexF64},conformity=:H1,dirichlet_tags=dirichlet_tags_1D);\n",
    "U₁H_1D=TrialFESpace(V₁H_1D,dirichlet_values_1D);\n",
    "# espacio de pruebas y de soluciones para ψ₂\n",
    "V₂H_1D=TestFESpace(model_1D,reffe_1D;vector_type=Vector{ComplexF64},conformity=:H1,dirichlet_tags=dirichlet_tags_1D);\n",
    "U₂H_1D=TrialFESpace(V₂H_1D,dirichlet_values_1D);\n",
    "# creamos un campo de espacios\n",
    "UH_1D = MultiFieldFESpace([U₁H_1D, U₂H_1D]);\n",
    "VH_1D = MultiFieldFESpace([V₁H_1D, V₂H_1D]);"
   ]
  },
  {
   "attachments": {},
   "cell_type": "markdown",
   "metadata": {},
   "source": [
    "### 3.3. Construimos la condición inicial\n",
    "\n",
    "Para construir la condición inicial utilizamos la función de interpolación para crear objetos en un dominio específico, es decir, en el dominio del hamiltoniano $\\hat {h}_{x_0=0}(x)$, e interpolamos en otro domino específico, es decir, en el dominio del hamiltoniano del sistema $\\hat {H}(x)$. De esta forma creamos una condición inicial donde una de las componentes sea la autofunción del hamiltoniano individual $\\hat {h}_{x_0=0}(x)$."
   ]
  },
  {
   "cell_type": "code",
   "execution_count": 26,
   "metadata": {},
   "outputs": [],
   "source": [
    "u₀ₕ_1D=interpolate_everywhere(ϕₕ_1D[1],Uₕ_1D);\n",
    "interp_u₀ₕ_1D=Interpolable(u₀ₕ_1D);"
   ]
  },
  {
   "cell_type": "code",
   "execution_count": 27,
   "metadata": {},
   "outputs": [
    {
     "data": {
      "text/plain": [
       "MultiFieldFEFunction():\n",
       " num_cells: 40000\n",
       " DomainStyle: ReferenceDomain()\n",
       " Triangulation: BodyFittedTriangulation()\n",
       " Triangulation id: 18146788158752813075"
      ]
     },
     "metadata": {},
     "output_type": "display_data"
    }
   ],
   "source": [
    "type_BC=1;\n",
    "if (type_BC==1)\n",
    "    u₁0H_1D_v₁(x)=0.0;\n",
    "    u₂0H_1D_v₁=interpolate_everywhere(interp_u₀ₕ_1D,U₂H_1D);\n",
    "    u₀H_1D=interpolate_everywhere([u₁0H_1D_v₁,u₂0H_1D_v₁],UH_1D);\n",
    "elseif (type_BC==2)\n",
    "    u₁0H_1D_v₂=interpolate_everywhere(interp_u₀ₕ_1D,U₁H_1D);\n",
    "    u₂0H_1D_v₂(x)=0.0;\n",
    "    u₀H_1D=interpolate_everywhere([u₁0H_1D_v₂,u₂0H_1D_v₂],UH_1D);\n",
    "end"
   ]
  },
  {
   "attachments": {},
   "cell_type": "markdown",
   "metadata": {},
   "source": [
    "Si es requerido podemos escribir datos en formato vtk para visualizar externamente."
   ]
  },
  {
   "cell_type": "code",
   "execution_count": 9,
   "metadata": {},
   "outputs": [],
   "source": [
    "write_data=false\n",
    "if write_data\n",
    "    writevtk(Ω_2D,path_images*\"evol_ini_dat_$(lpad(0,3,'0'))\", cellfields=[\"u₁0H_2D_re\"=>real(u₀H_2D[1]),\"u₁0H_2D_im\"=>imag(u₀H_2D[1])])\n",
    "end"
   ]
  },
  {
   "attachments": {},
   "cell_type": "markdown",
   "metadata": {},
   "source": [
    "Mostramos norma $L_2$ de las coordenadas de la condición inicial para asegurarnos sus propiedades."
   ]
  },
  {
   "cell_type": "code",
   "execution_count": 28,
   "metadata": {},
   "outputs": [
    {
     "name": "stdout",
     "output_type": "stream",
     "text": [
      "norm L₂u₁=0.000000,norm L₂u₂=1.000000"
     ]
    }
   ],
   "source": [
    "@printf(\"norm L₂u₁=%.6f,norm L₂u₂=%.6f\",norm_L2(u₀H_1D[1],dΩ_1D),norm_L2(u₀H_1D[2],dΩ_1D))"
   ]
  },
  {
   "attachments": {},
   "cell_type": "markdown",
   "metadata": {},
   "source": [
    "### 3.4. Definimos forma bilineal $a((u_1,u_2),(v_1,v_2))$ y matriz principal A"
   ]
  },
  {
   "cell_type": "code",
   "execution_count": 29,
   "metadata": {},
   "outputs": [],
   "source": [
    "a_H_1D=a_bilineal_forms_2D(α₁,α₂,Δt,dΩ_1D);\n",
    "\n",
    "assem_H=SparseMatrixAssembler(UH_1D,VH_1D);       # ensamblamos una matriz sparse con U y V\n",
    "dv_H=get_fe_basis(VH_1D);                         # escribimos v en la base de FE de V            \n",
    "du_H=get_trial_fe_basis(UH_1D);                   # escribimos u en la base de FE de U\n",
    "mat_contribs_H=a_H_1D(du_H,dv_H);                       # creamos una matriz de bases (contribuciones)\n",
    "data_H=collect_cell_matrix(UH_1D,VH_1D,mat_contribs_H); # recolectamos una matriz (datos)\n",
    "A_H=assemble_matrix(assem_H,data_H);                    # creamos matriz A con contribuciones y datos"
   ]
  },
  {
   "cell_type": "markdown",
   "metadata": {},
   "source": [
    "Creamos una función para obtener los puntos discretos de la grilla (valuados) y un vector de dichos puntos, lo cual será útil para graficar los resultados o realizar cálculos específicos"
   ]
  },
  {
   "cell_type": "code",
   "execution_count": 30,
   "metadata": {},
   "outputs": [
    {
     "data": {
      "text/plain": [
       "normalization_eigenstates_2D (generic function with 1 method)"
      ]
     },
     "metadata": {},
     "output_type": "display_data"
    }
   ],
   "source": [
    "function space_coord(dom,Δx)\n",
    "    x=[dom[1]+abs(dom[2]-dom[1])*Δx*i for i in 1:convert(Int,1.0/Δx)];\n",
    "    pts=[Point(x[i]) for i in 1:convert(Int,1.0/Δx)];\n",
    "    return x,pts;\n",
    "end\n",
    "\n",
    "function normalization_eigenstates_2D(ϕ,TrialSpace,dΩ)\n",
    "    nom_vec₁₂=zeros(Float64,length(ϕ))\n",
    "    for i in 1:length(ϕ)\n",
    "        ϕᵢ=interpolate_everywhere(ϕ[i],TrialSpace);\n",
    "        ϕ¹ᵢ,ϕ²ᵢ=ϕᵢ\n",
    "        norm_ϕ¹ᵢ=norm_L2(ϕ¹ᵢ,dΩ)\n",
    "        norm_ϕ²ᵢ=norm_L2(ϕ²ᵢ,dΩ)\n",
    "        nom_vec₁₂[i]=norm_ϕ¹ᵢ+norm_ϕ²ᵢ\n",
    "    end\n",
    "    return nom_vec₁₂;\n",
    "end"
   ]
  },
  {
   "cell_type": "code",
   "execution_count": 31,
   "metadata": {},
   "outputs": [],
   "source": [
    "x,pts=space_coord(dom_1D,Δxₕ);"
   ]
  },
  {
   "attachments": {},
   "cell_type": "markdown",
   "metadata": {},
   "source": [
    "Realizamos la evolución, definiendo en cada paso el funcional b(v) y haciendo uso del operador backslash `\\` para diagonalizar"
   ]
  },
  {
   "cell_type": "code",
   "execution_count": 32,
   "metadata": {},
   "outputs": [],
   "source": [
    "time_vec=[t₀+Δt*(i-1) for i in 1:n_int:(num_steps-1)];    # vector de tiempos"
   ]
  },
  {
   "cell_type": "code",
   "execution_count": 33,
   "metadata": {},
   "outputs": [],
   "source": [
    "𝛹ₓₜ=Vector{CellField}(undef,length(time_vec));  # función de onda"
   ]
  },
  {
   "cell_type": "code",
   "execution_count": 34,
   "metadata": {},
   "outputs": [],
   "source": [
    "# inicializamos en cero el vector de onda\n",
    "uₓₜ=interpolate_everywhere(u₀H_1D,UH_1D);\n",
    "u¹ₓₜ,u²ₓₜ=uₓₜ;\n",
    "for i in 1:length(time_vec)\n",
    "    𝛹ₓₜ[i]=interpolate_everywhere([0.0*u¹ₓₜ,0.0*u²ₓₜ],UH_1D)\n",
    "end"
   ]
  },
  {
   "cell_type": "code",
   "execution_count": 36,
   "metadata": {},
   "outputs": [
    {
     "data": {
      "text/plain": [
       "MultiFieldFEFunction():\n",
       " num_cells: 40000\n",
       " DomainStyle: ReferenceDomain()\n",
       " Triangulation: BodyFittedTriangulation()\n",
       " Triangulation id: 18146788158752813075"
      ]
     },
     "metadata": {},
     "output_type": "display_data"
    }
   ],
   "source": [
    "index=1;\n",
    "# paso inicial (t=0)\n",
    "t=time_vec[index];\n",
    "# escribimos datos vtk para visualizar externamente\n",
    "write_data=false;\n",
    "if write_data\n",
    "  writevtk(Ω_1D,path_images*\"evol_1D_02_$(lpad(0,3,'0'))\",\n",
    "  cellfields=[\"u₁H_1D_re\" => real(u₀H_1D[1]), \"u₁H_1D_im\" => imag(u₀H_1D[1]),\"u₂H_1D_re\" => real(u₀H_1D[2]), \"u₂H_1D_im\" => imag(u₀H_1D[2])])\n",
    "  @printf(\"t=%.6f,norm L₂u₁=%.6f,norm L₂u₂=%.6f\\n\",t,norm_L2(u₀H_1D[1],dΩ_1D),norm_L2(u₀H_1D[2],dΩ_1D))\n",
    "end\n",
    "\n",
    "# guardamos función de onda\n",
    "uₓₜ=interpolate_everywhere(u₀H_1D,UH_1D);\n",
    "u¹ₓₜ,u²ₓₜ=uₓₜ;\n",
    "𝛹ₓₜ[index]=interpolate_everywhere([u¹ₓₜ,u²ₓₜ],UH_1D)\n",
    "\n",
    "norm_switch=true\n",
    "if norm_switch\n",
    "    Norm𝛹ₓₜ=normalization_eigenstates_2D(𝛹ₓₜ,UH_1D,dΩ_1D)\n",
    "    𝛹ₓₜ¹=interpolate_everywhere(𝛹ₓₜ[index],UH_1D)\n",
    "    𝛹¹ₓₜ¹,𝛹²ₓₜ¹=𝛹ₓₜ¹\n",
    "    𝛹ₓₜ[index]=interpolate_everywhere([𝛹¹ₓₜ¹/Norm𝛹ₓₜ[index],𝛹²ₓₜ¹/Norm𝛹ₓₜ[index]],UH_1D)\n",
    "end"
   ]
  },
  {
   "cell_type": "code",
   "execution_count": 37,
   "metadata": {},
   "outputs": [
    {
     "ename": "InterruptException",
     "evalue": "InterruptException:",
     "output_type": "error",
     "traceback": [
      "InterruptException:\n",
      "\n",
      "Stacktrace:\n",
      " [1] umfpack_zl_numeric(Ap::Vector{Int64}, Ai::Vector{Int64}, Ax::Vector{Float64}, Az::Vector{Float64}, Symbolic::Ptr{Nothing}, Numeric::Vector{Ptr{Nothing}}, Control::Vector{Float64}, Info::Vector{Float64})\n",
      "   @ SuiteSparse.LibSuiteSparse ~/julia-1.8.0/share/julia/stdlib/v1.8/SuiteSparse/lib/x86_64-linux-gnu.jl:1760\n",
      " [2] umfpack_numeric!(U::SuiteSparse.UMFPACK.UmfpackLU{ComplexF64, Int64}; reuse_numeric::Bool)\n",
      "   @ SuiteSparse.UMFPACK ~/julia-1.8.0/share/julia/stdlib/v1.8/SuiteSparse/src/umfpack.jl:398\n",
      " [3] umfpack_numeric!\n",
      "   @ ~/julia-1.8.0/share/julia/stdlib/v1.8/SuiteSparse/src/umfpack.jl:394 [inlined]\n",
      " [4] lu(S::SparseMatrixCSC{ComplexF64, Int64}; check::Bool)\n",
      "   @ SuiteSparse.UMFPACK ~/julia-1.8.0/share/julia/stdlib/v1.8/SuiteSparse/src/umfpack.jl:202\n",
      " [5] lu\n",
      "   @ ~/julia-1.8.0/share/julia/stdlib/v1.8/SuiteSparse/src/umfpack.jl:195 [inlined]\n",
      " [6] \\(A::SparseMatrixCSC{ComplexF64, Int64}, B::Vector{ComplexF64})\n",
      "   @ SparseArrays ~/julia-1.8.0/share/julia/stdlib/v1.8/SparseArrays/src/linalg.jl:1564\n",
      " [7] top-level scope\n",
      "   @ ~/github_repositories/my_repositories/pde2022/final_project/codes/Testing_03_SignleEigenProblemAndImplicitMethod.ipynb:11"
     ]
    }
   ],
   "source": [
    "# evolucionamos para t>0\n",
    "for i in 1:(num_steps-2)\n",
    "  # construimos forma bilineal b(v₁,v₂)\n",
    "  b_H_1D=b_bilineal_form_2D(α₁,α₂,u₀H_1D[1],u₀H_1D[2],Δt,dΩ_1D)\n",
    "\n",
    "  # descomentar si queremos resolver de forma usual\n",
    "  # vec_contribs_H=b_H_1D(dv_H[1],dv_H[2])\n",
    "  vec_contribs_H=b_H_1D(dv_H)\n",
    "  data_H=collect_cell_vector(VH_1D,vec_contribs_H)\n",
    "  b_H=assemble_vector(assem_H,data_H)\n",
    "  x_H = A_H \\ b_H\n",
    "  uH_1D = FEFunction(UH_1D,x_H)\n",
    "\n",
    "  # descomentar si queremos resolver con solver (NO FUNCIONA)\n",
    "  # op = Affineassem_HFEOperator(a_H_1D,b_H_1D,UH_1D,VH_1D)\n",
    "  # ls=LUSolver();solver=LinearFESolver(ls)\n",
    "  # uH_1D = solve(solver,op)\n",
    "\n",
    "  # actualizamos condición inicial\n",
    "  u₀H_1D = uH_1D\n",
    "\n",
    "  if (i % n_int == 0)\n",
    "    index+=1;\n",
    "    t = time_vec[index];\n",
    "    # escribimos datos vtk para visualizar externamente\n",
    "    if (write_data)\n",
    "      writevtk(Ω_1D,path_images*\"evol_1D_02_$(lpad(i,3,'0'))\",\n",
    "      cellfields=[ \"u₁H_1D_re\" => real(u₀H_1D[1]), \"u₁H_1D_im\" => imag(u₀H_1D[1]),\"u₂H_1D_re\" => real(u₀H_1D[2]), \"u₂H_1D_im\" => imag(u₀H_1D[2])])\n",
    "      @printf(\"t=%.6f,norm L₂u₁=%.6f,norm L₂u₂=%.6f\\n\",t,norm_L2(u₀H_1D[1],dΩ_1D),norm_L2(u₀H_1D[2],dΩ_1D))\n",
    "    end\n",
    "    \n",
    "    # guardamos función de onda\n",
    "    uₓₜ=interpolate_everywhere(u₀H_1D,UH_1D);\n",
    "    u¹ₓₜ,u²ₓₜ=uₓₜ;\n",
    "    𝛹ₓₜ[index]=interpolate_everywhere([u¹ₓₜ,u²ₓₜ],UH_1D)\n",
    "\n",
    "    # normalizamos la función de onda luego de cada evolución\n",
    "    if norm_switch\n",
    "        Norm𝛹ₓₜ=normalization_eigenstates_2D(𝛹ₓₜ,UH_1D,dΩ_1D)\n",
    "        𝛹ₓₜⁱ=interpolate_everywhere(𝛹ₓₜ[index],UH_1D)\n",
    "        𝛹¹ₓₜⁱ,𝛹²ₓₜⁱ=𝛹ₓₜⁱ\n",
    "        𝛹ₓₜ[index]=interpolate_everywhere([𝛹¹ₓₜⁱ/Norm𝛹ₓₜ[index],𝛹²ₓₜⁱ/Norm𝛹ₓₜ[index]],UH_1D)\n",
    "    end\n",
    "  end\n",
    "end"
   ]
  },
  {
   "cell_type": "code",
   "execution_count": 38,
   "metadata": {},
   "outputs": [
    {
     "data": {
      "image/png": "[encoded data removed]",
      "image/svg+xml": "<?xml version=\"1.0\" encoding=\"utf-8\"?>\n<svg xmlns=\"http://www.w3.org/2000/svg\" xmlns:xlink=\"http://www.w3.org/1999/xlink\" width=\"600\" height=\"400\" viewBox=\"0 0 2400 1600\">\n<defs>\n  <clipPath id=\"clip320\">\n    <rect x=\"0\" y=\"0\" width=\"2400\" height=\"1600\"/>\n  </clipPath>\n</defs>\n<path clip-path=\"url(#clip320)\" d=\"\nM0 1600 L2400 1600 L2400 0 L0 0  Z\n  \" fill=\"#ffffff\" fill-rule=\"evenodd\" fill-opacity=\"1\"/>\n<defs>\n  <clipPath id=\"clip321\">\n    <rect x=\"480\" y=\"0\" width=\"1681\" height=\"1600\"/>\n  </clipPath>\n</defs>\n<path clip-path=\"url(#clip320)\" d=\"\nM186.274 1486.45 L2352.76 1486.45 L2352.76 47.2441 L186.274 47.2441  Z\n  \" fill=\"#ffffff\" fill-rule=\"evenodd\" fill-opacity=\"1\"/>\n<defs>\n  <clipPath id=\"clip322\">\n    <rect x=\"186\" y=\"47\" width=\"2167\" height=\"1440\"/>\n  </clipPath>\n</defs>\n<polyline clip-path=\"url(#clip322)\" style=\"stroke:#000000; stroke-linecap:butt; stroke-linejoin:round; stroke-width:2; stroke-opacity:0.1; fill:none\" points=\"\n  677.874,1486.45 677.874,47.2441 \n  \"/>\n<polyline clip-path=\"url(#clip322)\" style=\"stroke:#000000; stroke-linecap:butt; stroke-linejoin:round; stroke-width:2; stroke-opacity:0.1; fill:none\" points=\"\n  1215.73,1486.45 1215.73,47.2441 \n  \"/>\n<polyline clip-path=\"url(#clip322)\" style=\"stroke:#000000; stroke-linecap:butt; stroke-linejoin:round; stroke-width:2; stroke-opacity:0.1; fill:none\" points=\"\n  1753.58,1486.45 1753.58,47.2441 \n  \"/>\n<polyline clip-path=\"url(#clip322)\" style=\"stroke:#000000; stroke-linecap:butt; stroke-linejoin:round; stroke-width:2; stroke-opacity:0.1; fill:none\" points=\"\n  2291.44,1486.45 2291.44,47.2441 \n  \"/>\n<polyline clip-path=\"url(#clip320)\" style=\"stroke:#000000; stroke-linecap:butt; stroke-linejoin:round; stroke-width:4; stroke-opacity:1; fill:none\" points=\"\n  186.274,1486.45 2352.76,1486.45 \n  \"/>\n<polyline clip-path=\"url(#clip320)\" style=\"stroke:#000000; stroke-linecap:butt; stroke-linejoin:round; stroke-width:4; stroke-opacity:1; fill:none\" points=\"\n  677.874,1486.45 677.874,1467.55 \n  \"/>\n<polyline clip-path=\"url(#clip320)\" style=\"stroke:#000000; stroke-linecap:butt; stroke-linejoin:round; stroke-width:4; stroke-opacity:1; fill:none\" points=\"\n  1215.73,1486.45 1215.73,1467.55 \n  \"/>\n<polyline clip-path=\"url(#clip320)\" style=\"stroke:#000000; stroke-linecap:butt; stroke-linejoin:round; stroke-width:4; stroke-opacity:1; fill:none\" points=\"\n  1753.58,1486.45 1753.58,1467.55 \n  \"/>\n<polyline clip-path=\"url(#clip320)\" style=\"stroke:#000000; stroke-linecap:butt; stroke-linejoin:round; stroke-width:4; stroke-opacity:1; fill:none\" points=\"\n  2291.44,1486.45 2291.44,1467.55 \n  \"/>\n<path clip-path=\"url(#clip320)\" d=\"M668.152 1514.29 L686.508 1514.29 L686.508 1518.22 L672.434 1518.22 L672.434 1526.7 Q673.453 1526.35 674.471 1526.19 Q675.49 1526 676.508 1526 Q682.295 1526 685.675 1529.17 Q689.054 1532.34 689.054 1537.76 Q689.054 1543.34 685.582 1546.44 Q682.11 1549.52 675.791 1549.52 Q673.615 1549.52 671.346 1549.15 Q669.101 1548.78 666.693 1548.04 L666.693 1543.34 Q668.777 1544.47 670.999 1545.03 Q673.221 1545.58 675.698 1545.58 Q679.703 1545.58 682.041 1543.48 Q684.379 1541.37 684.379 1537.76 Q684.379 1534.15 682.041 1532.04 Q679.703 1529.94 675.698 1529.94 Q673.823 1529.94 671.948 1530.35 Q670.096 1530.77 668.152 1531.65 L668.152 1514.29 Z\" fill=\"#000000\" fill-rule=\"evenodd\" fill-opacity=\"1\" /><path clip-path=\"url(#clip320)\" d=\"M1190.42 1544.91 L1198.06 1544.91 L1198.06 1518.55 L1189.75 1520.21 L1189.75 1515.95 L1198.01 1514.29 L1202.69 1514.29 L1202.69 1544.91 L1210.32 1544.91 L1210.32 1548.85 L1190.42 1548.85 L1190.42 1544.91 Z\" fill=\"#000000\" fill-rule=\"evenodd\" fill-opacity=\"1\" /><path clip-path=\"url(#clip320)\" d=\"M1229.77 1517.37 Q1226.16 1517.37 1224.33 1520.93 Q1222.52 1524.47 1222.52 1531.6 Q1222.52 1538.71 1224.33 1542.27 Q1226.16 1545.82 1229.77 1545.82 Q1233.4 1545.82 1235.21 1542.27 Q1237.04 1538.71 1237.04 1531.6 Q1237.04 1524.47 1235.21 1520.93 Q1233.4 1517.37 1229.77 1517.37 M1229.77 1513.66 Q1235.58 1513.66 1238.63 1518.27 Q1241.71 1522.85 1241.71 1531.6 Q1241.71 1540.33 1238.63 1544.94 Q1235.58 1549.52 1229.77 1549.52 Q1223.96 1549.52 1220.88 1544.94 Q1217.82 1540.33 1217.82 1531.6 Q1217.82 1522.85 1220.88 1518.27 Q1223.96 1513.66 1229.77 1513.66 Z\" fill=\"#000000\" fill-rule=\"evenodd\" fill-opacity=\"1\" /><path clip-path=\"url(#clip320)\" d=\"M1728.77 1544.91 L1736.41 1544.91 L1736.41 1518.55 L1728.1 1520.21 L1728.1 1515.95 L1736.36 1514.29 L1741.04 1514.29 L1741.04 1544.91 L1748.68 1544.91 L1748.68 1548.85 L1728.77 1548.85 L1728.77 1544.91 Z\" fill=\"#000000\" fill-rule=\"evenodd\" fill-opacity=\"1\" /><path clip-path=\"url(#clip320)\" d=\"M1758.17 1514.29 L1776.52 1514.29 L1776.52 1518.22 L1762.45 1518.22 L1762.45 1526.7 Q1763.47 1526.35 1764.49 1526.19 Q1765.51 1526 1766.52 1526 Q1772.31 1526 1775.69 1529.17 Q1779.07 1532.34 1779.07 1537.76 Q1779.07 1543.34 1775.6 1546.44 Q1772.13 1549.52 1765.81 1549.52 Q1763.63 1549.52 1761.36 1549.15 Q1759.12 1548.78 1756.71 1548.04 L1756.71 1543.34 Q1758.79 1544.47 1761.02 1545.03 Q1763.24 1545.58 1765.71 1545.58 Q1769.72 1545.58 1772.06 1543.48 Q1774.39 1541.37 1774.39 1537.76 Q1774.39 1534.15 1772.06 1532.04 Q1769.72 1529.94 1765.71 1529.94 Q1763.84 1529.94 1761.96 1530.35 Q1760.11 1530.77 1758.17 1531.65 L1758.17 1514.29 Z\" fill=\"#000000\" fill-rule=\"evenodd\" fill-opacity=\"1\" /><path clip-path=\"url(#clip320)\" d=\"M2270.21 1544.91 L2286.53 1544.91 L2286.53 1548.85 L2264.59 1548.85 L2264.59 1544.91 Q2267.25 1542.16 2271.83 1537.53 Q2276.44 1532.88 2277.62 1531.53 Q2279.87 1529.01 2280.75 1527.27 Q2281.65 1525.51 2281.65 1523.82 Q2281.65 1521.07 2279.7 1519.33 Q2277.78 1517.6 2274.68 1517.6 Q2272.48 1517.6 2270.03 1518.36 Q2267.6 1519.13 2264.82 1520.68 L2264.82 1515.95 Q2267.64 1514.82 2270.1 1514.24 Q2272.55 1513.66 2274.59 1513.66 Q2279.96 1513.66 2283.15 1516.35 Q2286.35 1519.03 2286.35 1523.52 Q2286.35 1525.65 2285.54 1527.57 Q2284.75 1529.47 2282.64 1532.07 Q2282.07 1532.74 2278.96 1535.95 Q2275.86 1539.15 2270.21 1544.91 Z\" fill=\"#000000\" fill-rule=\"evenodd\" fill-opacity=\"1\" /><path clip-path=\"url(#clip320)\" d=\"M2306.35 1517.37 Q2302.74 1517.37 2300.91 1520.93 Q2299.1 1524.47 2299.1 1531.6 Q2299.1 1538.71 2300.91 1542.27 Q2302.74 1545.82 2306.35 1545.82 Q2309.98 1545.82 2311.79 1542.27 Q2313.62 1538.71 2313.62 1531.6 Q2313.62 1524.47 2311.79 1520.93 Q2309.98 1517.37 2306.35 1517.37 M2306.35 1513.66 Q2312.16 1513.66 2315.21 1518.27 Q2318.29 1522.85 2318.29 1531.6 Q2318.29 1540.33 2315.21 1544.94 Q2312.16 1549.52 2306.35 1549.52 Q2300.54 1549.52 2297.46 1544.94 Q2294.4 1540.33 2294.4 1531.6 Q2294.4 1522.85 2297.46 1518.27 Q2300.54 1513.66 2306.35 1513.66 Z\" fill=\"#000000\" fill-rule=\"evenodd\" fill-opacity=\"1\" /><polyline clip-path=\"url(#clip322)\" style=\"stroke:#000000; stroke-linecap:butt; stroke-linejoin:round; stroke-width:2; stroke-opacity:0.1; fill:none\" points=\"\n  186.274,1445.72 2352.76,1445.72 \n  \"/>\n<polyline clip-path=\"url(#clip322)\" style=\"stroke:#000000; stroke-linecap:butt; stroke-linejoin:round; stroke-width:2; stroke-opacity:0.1; fill:none\" points=\"\n  186.274,1106.28 2352.76,1106.28 \n  \"/>\n<polyline clip-path=\"url(#clip322)\" style=\"stroke:#000000; stroke-linecap:butt; stroke-linejoin:round; stroke-width:2; stroke-opacity:0.1; fill:none\" points=\"\n  186.274,766.846 2352.76,766.846 \n  \"/>\n<polyline clip-path=\"url(#clip322)\" style=\"stroke:#000000; stroke-linecap:butt; stroke-linejoin:round; stroke-width:2; stroke-opacity:0.1; fill:none\" points=\"\n  186.274,427.411 2352.76,427.411 \n  \"/>\n<polyline clip-path=\"url(#clip322)\" style=\"stroke:#000000; stroke-linecap:butt; stroke-linejoin:round; stroke-width:2; stroke-opacity:0.1; fill:none\" points=\"\n  186.274,87.9763 2352.76,87.9763 \n  \"/>\n<polyline clip-path=\"url(#clip320)\" style=\"stroke:#000000; stroke-linecap:butt; stroke-linejoin:round; stroke-width:4; stroke-opacity:1; fill:none\" points=\"\n  186.274,1486.45 186.274,47.2441 \n  \"/>\n<polyline clip-path=\"url(#clip320)\" style=\"stroke:#000000; stroke-linecap:butt; stroke-linejoin:round; stroke-width:4; stroke-opacity:1; fill:none\" points=\"\n  186.274,1445.72 205.172,1445.72 \n  \"/>\n<polyline clip-path=\"url(#clip320)\" style=\"stroke:#000000; stroke-linecap:butt; stroke-linejoin:round; stroke-width:4; stroke-opacity:1; fill:none\" points=\"\n  186.274,1106.28 205.172,1106.28 \n  \"/>\n<polyline clip-path=\"url(#clip320)\" style=\"stroke:#000000; stroke-linecap:butt; stroke-linejoin:round; stroke-width:4; stroke-opacity:1; fill:none\" points=\"\n  186.274,766.846 205.172,766.846 \n  \"/>\n<polyline clip-path=\"url(#clip320)\" style=\"stroke:#000000; stroke-linecap:butt; stroke-linejoin:round; stroke-width:4; stroke-opacity:1; fill:none\" points=\"\n  186.274,427.411 205.172,427.411 \n  \"/>\n<polyline clip-path=\"url(#clip320)\" style=\"stroke:#000000; stroke-linecap:butt; stroke-linejoin:round; stroke-width:4; stroke-opacity:1; fill:none\" points=\"\n  186.274,87.9763 205.172,87.9763 \n  \"/>\n<path clip-path=\"url(#clip320)\" d=\"M62.9365 1431.51 Q59.3254 1431.51 57.4967 1435.08 Q55.6912 1438.62 55.6912 1445.75 Q55.6912 1452.86 57.4967 1456.42 Q59.3254 1459.96 62.9365 1459.96 Q66.5707 1459.96 68.3763 1456.42 Q70.205 1452.86 70.205 1445.75 Q70.205 1438.62 68.3763 1435.08 Q66.5707 1431.51 62.9365 1431.51 M62.9365 1427.81 Q68.7467 1427.81 71.8022 1432.42 Q74.8809 1437 74.8809 1445.75 Q74.8809 1454.48 71.8022 1459.08 Q68.7467 1463.67 62.9365 1463.67 Q57.1264 1463.67 54.0477 1459.08 Q50.9921 1454.48 50.9921 1445.75 Q50.9921 1437 54.0477 1432.42 Q57.1264 1427.81 62.9365 1427.81 Z\" fill=\"#000000\" fill-rule=\"evenodd\" fill-opacity=\"1\" /><path clip-path=\"url(#clip320)\" d=\"M83.0984 1457.12 L87.9827 1457.12 L87.9827 1463 L83.0984 1463 L83.0984 1457.12 Z\" fill=\"#000000\" fill-rule=\"evenodd\" fill-opacity=\"1\" /><path clip-path=\"url(#clip320)\" d=\"M108.168 1431.51 Q104.557 1431.51 102.728 1435.08 Q100.922 1438.62 100.922 1445.75 Q100.922 1452.86 102.728 1456.42 Q104.557 1459.96 108.168 1459.96 Q111.802 1459.96 113.608 1456.42 Q115.436 1452.86 115.436 1445.75 Q115.436 1438.62 113.608 1435.08 Q111.802 1431.51 108.168 1431.51 M108.168 1427.81 Q113.978 1427.81 117.033 1432.42 Q120.112 1437 120.112 1445.75 Q120.112 1454.48 117.033 1459.08 Q113.978 1463.67 108.168 1463.67 Q102.358 1463.67 99.2789 1459.08 Q96.2234 1454.48 96.2234 1445.75 Q96.2234 1437 99.2789 1432.42 Q102.358 1427.81 108.168 1427.81 Z\" fill=\"#000000\" fill-rule=\"evenodd\" fill-opacity=\"1\" /><path clip-path=\"url(#clip320)\" d=\"M138.33 1431.51 Q134.719 1431.51 132.89 1435.08 Q131.084 1438.62 131.084 1445.75 Q131.084 1452.86 132.89 1456.42 Q134.719 1459.96 138.33 1459.96 Q141.964 1459.96 143.769 1456.42 Q145.598 1452.86 145.598 1445.75 Q145.598 1438.62 143.769 1435.08 Q141.964 1431.51 138.33 1431.51 M138.33 1427.81 Q144.14 1427.81 147.195 1432.42 Q150.274 1437 150.274 1445.75 Q150.274 1454.48 147.195 1459.08 Q144.14 1463.67 138.33 1463.67 Q132.519 1463.67 129.441 1459.08 Q126.385 1454.48 126.385 1445.75 Q126.385 1437 129.441 1432.42 Q132.519 1427.81 138.33 1427.81 Z\" fill=\"#000000\" fill-rule=\"evenodd\" fill-opacity=\"1\" /><path clip-path=\"url(#clip320)\" d=\"M63.9319 1092.08 Q60.3208 1092.08 58.4921 1095.64 Q56.6865 1099.19 56.6865 1106.32 Q56.6865 1113.42 58.4921 1116.99 Q60.3208 1120.53 63.9319 1120.53 Q67.5661 1120.53 69.3717 1116.99 Q71.2004 1113.42 71.2004 1106.32 Q71.2004 1099.19 69.3717 1095.64 Q67.5661 1092.08 63.9319 1092.08 M63.9319 1088.38 Q69.742 1088.38 72.7976 1092.98 Q75.8763 1097.57 75.8763 1106.32 Q75.8763 1115.04 72.7976 1119.65 Q69.742 1124.23 63.9319 1124.23 Q58.1217 1124.23 55.043 1119.65 Q51.9875 1115.04 51.9875 1106.32 Q51.9875 1097.57 55.043 1092.98 Q58.1217 1088.38 63.9319 1088.38 Z\" fill=\"#000000\" fill-rule=\"evenodd\" fill-opacity=\"1\" /><path clip-path=\"url(#clip320)\" d=\"M84.0938 1117.68 L88.978 1117.68 L88.978 1123.56 L84.0938 1123.56 L84.0938 1117.68 Z\" fill=\"#000000\" fill-rule=\"evenodd\" fill-opacity=\"1\" /><path clip-path=\"url(#clip320)\" d=\"M103.191 1119.63 L119.51 1119.63 L119.51 1123.56 L97.566 1123.56 L97.566 1119.63 Q100.228 1116.87 104.811 1112.24 Q109.418 1107.59 110.598 1106.25 Q112.844 1103.72 113.723 1101.99 Q114.626 1100.23 114.626 1098.54 Q114.626 1095.78 112.682 1094.05 Q110.76 1092.31 107.658 1092.31 Q105.459 1092.31 103.006 1093.07 Q100.575 1093.84 97.7974 1095.39 L97.7974 1090.67 Q100.621 1089.53 103.075 1088.95 Q105.529 1088.38 107.566 1088.38 Q112.936 1088.38 116.131 1091.06 Q119.325 1093.75 119.325 1098.24 Q119.325 1100.37 118.515 1102.29 Q117.728 1104.19 115.621 1106.78 Q115.043 1107.45 111.941 1110.67 Q108.839 1113.86 103.191 1119.63 Z\" fill=\"#000000\" fill-rule=\"evenodd\" fill-opacity=\"1\" /><path clip-path=\"url(#clip320)\" d=\"M129.371 1089 L147.728 1089 L147.728 1092.94 L133.654 1092.94 L133.654 1101.41 Q134.672 1101.06 135.691 1100.9 Q136.709 1100.71 137.728 1100.71 Q143.515 1100.71 146.894 1103.89 Q150.274 1107.06 150.274 1112.47 Q150.274 1118.05 146.802 1121.15 Q143.33 1124.23 137.01 1124.23 Q134.834 1124.23 132.566 1123.86 Q130.32 1123.49 127.913 1122.75 L127.913 1118.05 Q129.996 1119.19 132.219 1119.74 Q134.441 1120.3 136.918 1120.3 Q140.922 1120.3 143.26 1118.19 Q145.598 1116.08 145.598 1112.47 Q145.598 1108.86 143.26 1106.76 Q140.922 1104.65 136.918 1104.65 Q135.043 1104.65 133.168 1105.07 Q131.316 1105.48 129.371 1106.36 L129.371 1089 Z\" fill=\"#000000\" fill-rule=\"evenodd\" fill-opacity=\"1\" /><path clip-path=\"url(#clip320)\" d=\"M62.9365 752.645 Q59.3254 752.645 57.4967 756.209 Q55.6912 759.751 55.6912 766.881 Q55.6912 773.987 57.4967 777.552 Q59.3254 781.094 62.9365 781.094 Q66.5707 781.094 68.3763 777.552 Q70.205 773.987 70.205 766.881 Q70.205 759.751 68.3763 756.209 Q66.5707 752.645 62.9365 752.645 M62.9365 748.941 Q68.7467 748.941 71.8022 753.547 Q74.8809 758.131 74.8809 766.881 Q74.8809 775.608 71.8022 780.214 Q68.7467 784.797 62.9365 784.797 Q57.1264 784.797 54.0477 780.214 Q50.9921 775.608 50.9921 766.881 Q50.9921 758.131 54.0477 753.547 Q57.1264 748.941 62.9365 748.941 Z\" fill=\"#000000\" fill-rule=\"evenodd\" fill-opacity=\"1\" /><path clip-path=\"url(#clip320)\" d=\"M83.0984 778.246 L87.9827 778.246 L87.9827 784.126 L83.0984 784.126 L83.0984 778.246 Z\" fill=\"#000000\" fill-rule=\"evenodd\" fill-opacity=\"1\" /><path clip-path=\"url(#clip320)\" d=\"M98.2141 749.566 L116.57 749.566 L116.57 753.501 L102.496 753.501 L102.496 761.973 Q103.515 761.626 104.534 761.464 Q105.552 761.279 106.571 761.279 Q112.358 761.279 115.737 764.45 Q119.117 767.621 119.117 773.038 Q119.117 778.617 115.645 781.719 Q112.172 784.797 105.853 784.797 Q103.677 784.797 101.409 784.427 Q99.1632 784.057 96.7558 783.316 L96.7558 778.617 Q98.8391 779.751 101.061 780.307 Q103.284 780.862 105.76 780.862 Q109.765 780.862 112.103 778.756 Q114.441 776.649 114.441 773.038 Q114.441 769.427 112.103 767.321 Q109.765 765.214 105.76 765.214 Q103.885 765.214 102.01 765.631 Q100.159 766.047 98.2141 766.927 L98.2141 749.566 Z\" fill=\"#000000\" fill-rule=\"evenodd\" fill-opacity=\"1\" /><path clip-path=\"url(#clip320)\" d=\"M138.33 752.645 Q134.719 752.645 132.89 756.209 Q131.084 759.751 131.084 766.881 Q131.084 773.987 132.89 777.552 Q134.719 781.094 138.33 781.094 Q141.964 781.094 143.769 777.552 Q145.598 773.987 145.598 766.881 Q145.598 759.751 143.769 756.209 Q141.964 752.645 138.33 752.645 M138.33 748.941 Q144.14 748.941 147.195 753.547 Q150.274 758.131 150.274 766.881 Q150.274 775.608 147.195 780.214 Q144.14 784.797 138.33 784.797 Q132.519 784.797 129.441 780.214 Q126.385 775.608 126.385 766.881 Q126.385 758.131 129.441 753.547 Q132.519 748.941 138.33 748.941 Z\" fill=\"#000000\" fill-rule=\"evenodd\" fill-opacity=\"1\" /><path clip-path=\"url(#clip320)\" d=\"M63.9319 413.21 Q60.3208 413.21 58.4921 416.775 Q56.6865 420.316 56.6865 427.446 Q56.6865 434.552 58.4921 438.117 Q60.3208 441.659 63.9319 441.659 Q67.5661 441.659 69.3717 438.117 Q71.2004 434.552 71.2004 427.446 Q71.2004 420.316 69.3717 416.775 Q67.5661 413.21 63.9319 413.21 M63.9319 409.506 Q69.742 409.506 72.7976 414.113 Q75.8763 418.696 75.8763 427.446 Q75.8763 436.173 72.7976 440.779 Q69.742 445.362 63.9319 445.362 Q58.1217 445.362 55.043 440.779 Q51.9875 436.173 51.9875 427.446 Q51.9875 418.696 55.043 414.113 Q58.1217 409.506 63.9319 409.506 Z\" fill=\"#000000\" fill-rule=\"evenodd\" fill-opacity=\"1\" /><path clip-path=\"url(#clip320)\" d=\"M84.0938 438.812 L88.978 438.812 L88.978 444.691 L84.0938 444.691 L84.0938 438.812 Z\" fill=\"#000000\" fill-rule=\"evenodd\" fill-opacity=\"1\" /><path clip-path=\"url(#clip320)\" d=\"M97.9826 410.131 L120.205 410.131 L120.205 412.122 L107.658 444.691 L102.774 444.691 L114.58 414.066 L97.9826 414.066 L97.9826 410.131 Z\" fill=\"#000000\" fill-rule=\"evenodd\" fill-opacity=\"1\" /><path clip-path=\"url(#clip320)\" d=\"M129.371 410.131 L147.728 410.131 L147.728 414.066 L133.654 414.066 L133.654 422.538 Q134.672 422.191 135.691 422.029 Q136.709 421.844 137.728 421.844 Q143.515 421.844 146.894 425.015 Q150.274 428.187 150.274 433.603 Q150.274 439.182 146.802 442.284 Q143.33 445.362 137.01 445.362 Q134.834 445.362 132.566 444.992 Q130.32 444.622 127.913 443.881 L127.913 439.182 Q129.996 440.316 132.219 440.872 Q134.441 441.427 136.918 441.427 Q140.922 441.427 143.26 439.321 Q145.598 437.214 145.598 433.603 Q145.598 429.992 143.26 427.886 Q140.922 425.779 136.918 425.779 Q135.043 425.779 133.168 426.196 Q131.316 426.613 129.371 427.492 L129.371 410.131 Z\" fill=\"#000000\" fill-rule=\"evenodd\" fill-opacity=\"1\" /><path clip-path=\"url(#clip320)\" d=\"M53.7467 101.321 L61.3856 101.321 L61.3856 74.9555 L53.0754 76.6222 L53.0754 72.3629 L61.3393 70.6963 L66.0152 70.6963 L66.0152 101.321 L73.654 101.321 L73.654 105.256 L53.7467 105.256 L53.7467 101.321 Z\" fill=\"#000000\" fill-rule=\"evenodd\" fill-opacity=\"1\" /><path clip-path=\"url(#clip320)\" d=\"M83.0984 99.3767 L87.9827 99.3767 L87.9827 105.256 L83.0984 105.256 L83.0984 99.3767 Z\" fill=\"#000000\" fill-rule=\"evenodd\" fill-opacity=\"1\" /><path clip-path=\"url(#clip320)\" d=\"M108.168 73.775 Q104.557 73.775 102.728 77.3398 Q100.922 80.8814 100.922 88.011 Q100.922 95.1174 102.728 98.6822 Q104.557 102.224 108.168 102.224 Q111.802 102.224 113.608 98.6822 Q115.436 95.1174 115.436 88.011 Q115.436 80.8814 113.608 77.3398 Q111.802 73.775 108.168 73.775 M108.168 70.0713 Q113.978 70.0713 117.033 74.6777 Q120.112 79.261 120.112 88.011 Q120.112 96.7378 117.033 101.344 Q113.978 105.928 108.168 105.928 Q102.358 105.928 99.2789 101.344 Q96.2234 96.7378 96.2234 88.011 Q96.2234 79.261 99.2789 74.6777 Q102.358 70.0713 108.168 70.0713 Z\" fill=\"#000000\" fill-rule=\"evenodd\" fill-opacity=\"1\" /><path clip-path=\"url(#clip320)\" d=\"M138.33 73.775 Q134.719 73.775 132.89 77.3398 Q131.084 80.8814 131.084 88.011 Q131.084 95.1174 132.89 98.6822 Q134.719 102.224 138.33 102.224 Q141.964 102.224 143.769 98.6822 Q145.598 95.1174 145.598 88.011 Q145.598 80.8814 143.769 77.3398 Q141.964 73.775 138.33 73.775 M138.33 70.0713 Q144.14 70.0713 147.195 74.6777 Q150.274 79.261 150.274 88.011 Q150.274 96.7378 147.195 101.344 Q144.14 105.928 138.33 105.928 Q132.519 105.928 129.441 101.344 Q126.385 96.7378 126.385 88.011 Q126.385 79.261 129.441 74.6777 Q132.519 70.0713 138.33 70.0713 Z\" fill=\"#000000\" fill-rule=\"evenodd\" fill-opacity=\"1\" /><circle clip-path=\"url(#clip322)\" cx=\"247.59\" cy=\"87.9763\" r=\"14.4\" fill=\"#009af9\" fill-rule=\"evenodd\" fill-opacity=\"1\" stroke=\"#000000\" stroke-opacity=\"1\" stroke-width=\"3.2\"/>\n<circle clip-path=\"url(#clip322)\" cx=\"355.161\" cy=\"87.9763\" r=\"14.4\" fill=\"#009af9\" fill-rule=\"evenodd\" fill-opacity=\"1\" stroke=\"#000000\" stroke-opacity=\"1\" stroke-width=\"3.2\"/>\n<circle clip-path=\"url(#clip322)\" cx=\"462.732\" cy=\"87.9763\" r=\"14.4\" fill=\"#009af9\" fill-rule=\"evenodd\" fill-opacity=\"1\" stroke=\"#000000\" stroke-opacity=\"1\" stroke-width=\"3.2\"/>\n<circle clip-path=\"url(#clip322)\" cx=\"570.303\" cy=\"87.9763\" r=\"14.4\" fill=\"#009af9\" fill-rule=\"evenodd\" fill-opacity=\"1\" stroke=\"#000000\" stroke-opacity=\"1\" stroke-width=\"3.2\"/>\n<circle clip-path=\"url(#clip322)\" cx=\"677.874\" cy=\"87.9763\" r=\"14.4\" fill=\"#009af9\" fill-rule=\"evenodd\" fill-opacity=\"1\" stroke=\"#000000\" stroke-opacity=\"1\" stroke-width=\"3.2\"/>\n<circle clip-path=\"url(#clip322)\" cx=\"785.445\" cy=\"87.9763\" r=\"14.4\" fill=\"#009af9\" fill-rule=\"evenodd\" fill-opacity=\"1\" stroke=\"#000000\" stroke-opacity=\"1\" stroke-width=\"3.2\"/>\n<circle clip-path=\"url(#clip322)\" cx=\"893.016\" cy=\"87.9763\" r=\"14.4\" fill=\"#009af9\" fill-rule=\"evenodd\" fill-opacity=\"1\" stroke=\"#000000\" stroke-opacity=\"1\" stroke-width=\"3.2\"/>\n<circle clip-path=\"url(#clip322)\" cx=\"1000.59\" cy=\"87.9763\" r=\"14.4\" fill=\"#009af9\" fill-rule=\"evenodd\" fill-opacity=\"1\" stroke=\"#000000\" stroke-opacity=\"1\" stroke-width=\"3.2\"/>\n<circle clip-path=\"url(#clip322)\" cx=\"1108.16\" cy=\"87.9763\" r=\"14.4\" fill=\"#009af9\" fill-rule=\"evenodd\" fill-opacity=\"1\" stroke=\"#000000\" stroke-opacity=\"1\" stroke-width=\"3.2\"/>\n<circle clip-path=\"url(#clip322)\" cx=\"1215.73\" cy=\"87.9763\" r=\"14.4\" fill=\"#009af9\" fill-rule=\"evenodd\" fill-opacity=\"1\" stroke=\"#000000\" stroke-opacity=\"1\" stroke-width=\"3.2\"/>\n<circle clip-path=\"url(#clip322)\" cx=\"1323.3\" cy=\"87.9763\" r=\"14.4\" fill=\"#009af9\" fill-rule=\"evenodd\" fill-opacity=\"1\" stroke=\"#000000\" stroke-opacity=\"1\" stroke-width=\"3.2\"/>\n<circle clip-path=\"url(#clip322)\" cx=\"1430.87\" cy=\"87.9763\" r=\"14.4\" fill=\"#009af9\" fill-rule=\"evenodd\" fill-opacity=\"1\" stroke=\"#000000\" stroke-opacity=\"1\" stroke-width=\"3.2\"/>\n<circle clip-path=\"url(#clip322)\" cx=\"1538.44\" cy=\"87.9763\" r=\"14.4\" fill=\"#009af9\" fill-rule=\"evenodd\" fill-opacity=\"1\" stroke=\"#000000\" stroke-opacity=\"1\" stroke-width=\"3.2\"/>\n<circle clip-path=\"url(#clip322)\" cx=\"1646.01\" cy=\"87.9763\" r=\"14.4\" fill=\"#009af9\" fill-rule=\"evenodd\" fill-opacity=\"1\" stroke=\"#000000\" stroke-opacity=\"1\" stroke-width=\"3.2\"/>\n<circle clip-path=\"url(#clip322)\" cx=\"1753.58\" cy=\"1445.72\" r=\"14.4\" fill=\"#009af9\" fill-rule=\"evenodd\" fill-opacity=\"1\" stroke=\"#000000\" stroke-opacity=\"1\" stroke-width=\"3.2\"/>\n<circle clip-path=\"url(#clip322)\" cx=\"1861.16\" cy=\"1445.72\" r=\"14.4\" fill=\"#009af9\" fill-rule=\"evenodd\" fill-opacity=\"1\" stroke=\"#000000\" stroke-opacity=\"1\" stroke-width=\"3.2\"/>\n<circle clip-path=\"url(#clip322)\" cx=\"1968.73\" cy=\"1445.72\" r=\"14.4\" fill=\"#009af9\" fill-rule=\"evenodd\" fill-opacity=\"1\" stroke=\"#000000\" stroke-opacity=\"1\" stroke-width=\"3.2\"/>\n<circle clip-path=\"url(#clip322)\" cx=\"2076.3\" cy=\"1445.72\" r=\"14.4\" fill=\"#009af9\" fill-rule=\"evenodd\" fill-opacity=\"1\" stroke=\"#000000\" stroke-opacity=\"1\" stroke-width=\"3.2\"/>\n<circle clip-path=\"url(#clip322)\" cx=\"2183.87\" cy=\"1445.72\" r=\"14.4\" fill=\"#009af9\" fill-rule=\"evenodd\" fill-opacity=\"1\" stroke=\"#000000\" stroke-opacity=\"1\" stroke-width=\"3.2\"/>\n<circle clip-path=\"url(#clip322)\" cx=\"2291.44\" cy=\"1445.72\" r=\"14.4\" fill=\"#009af9\" fill-rule=\"evenodd\" fill-opacity=\"1\" stroke=\"#000000\" stroke-opacity=\"1\" stroke-width=\"3.2\"/>\n<path clip-path=\"url(#clip320)\" d=\"\nM1987.39 198.898 L2280.54 198.898 L2280.54 95.2176 L1987.39 95.2176  Z\n  \" fill=\"#ffffff\" fill-rule=\"evenodd\" fill-opacity=\"1\"/>\n<polyline clip-path=\"url(#clip320)\" style=\"stroke:#000000; stroke-linecap:butt; stroke-linejoin:round; stroke-width:4; stroke-opacity:1; fill:none\" points=\"\n  1987.39,198.898 2280.54,198.898 2280.54,95.2176 1987.39,95.2176 1987.39,198.898 \n  \"/>\n<circle clip-path=\"url(#clip320)\" cx=\"2083.68\" cy=\"147.058\" r=\"23.04\" fill=\"#009af9\" fill-rule=\"evenodd\" fill-opacity=\"1\" stroke=\"#000000\" stroke-opacity=\"1\" stroke-width=\"5.12\"/>\n<path clip-path=\"url(#clip320)\" d=\"M2193.81 166.745 Q2192 171.375 2190.29 172.787 Q2188.58 174.199 2185.71 174.199 L2182.3 174.199 L2182.3 170.634 L2184.8 170.634 Q2186.56 170.634 2187.53 169.8 Q2188.51 168.967 2189.69 165.865 L2190.45 163.921 L2179.97 138.412 L2184.48 138.412 L2192.58 158.689 L2200.68 138.412 L2205.2 138.412 L2193.81 166.745 Z\" fill=\"#000000\" fill-rule=\"evenodd\" fill-opacity=\"1\" /><path clip-path=\"url(#clip320)\" d=\"M2212.49 160.402 L2220.13 160.402 L2220.13 134.037 L2211.82 135.703 L2211.82 131.444 L2220.08 129.778 L2224.76 129.778 L2224.76 160.402 L2232.4 160.402 L2232.4 164.338 L2212.49 164.338 L2212.49 160.402 Z\" fill=\"#000000\" fill-rule=\"evenodd\" fill-opacity=\"1\" /></svg>\n",
      "text/html": [
       "<?xml version=\"1.0\" encoding=\"utf-8\"?>\n",
       "<svg xmlns=\"http://www.w3.org/2000/svg\" xmlns:xlink=\"http://www.w3.org/1999/xlink\" width=\"600\" height=\"400\" viewBox=\"0 0 2400 1600\">\n",
       "<defs>\n",
       "  <clipPath id=\"clip370\">\n",
       "    <rect x=\"0\" y=\"0\" width=\"2400\" height=\"1600\"/>\n",
       "  </clipPath>\n",
       "</defs>\n",
       "<path clip-path=\"url(#clip370)\" d=\"\n",
       "M0 1600 L2400 1600 L2400 0 L0 0  Z\n",
       "  \" fill=\"#ffffff\" fill-rule=\"evenodd\" fill-opacity=\"1\"/>\n",
       "<defs>\n",
       "  <clipPath id=\"clip371\">\n",
       "    <rect x=\"480\" y=\"0\" width=\"1681\" height=\"1600\"/>\n",
       "  </clipPath>\n",
       "</defs>\n",
       "<path clip-path=\"url(#clip370)\" d=\"\n",
       "M186.274 1486.45 L2352.76 1486.45 L2352.76 47.2441 L186.274 47.2441  Z\n",
       "  \" fill=\"#ffffff\" fill-rule=\"evenodd\" fill-opacity=\"1\"/>\n",
       "<defs>\n",
       "  <clipPath id=\"clip372\">\n",
       "    <rect x=\"186\" y=\"47\" width=\"2167\" height=\"1440\"/>\n",
       "  </clipPath>\n",
       "</defs>\n",
       "<polyline clip-path=\"url(#clip372)\" style=\"stroke:#000000; stroke-linecap:butt; stroke-linejoin:round; stroke-width:2; stroke-opacity:0.1; fill:none\" points=\"\n",
       "  677.874,1486.45 677.874,47.2441 \n",
       "  \"/>\n",
       "<polyline clip-path=\"url(#clip372)\" style=\"stroke:#000000; stroke-linecap:butt; stroke-linejoin:round; stroke-width:2; stroke-opacity:0.1; fill:none\" points=\"\n",
       "  1215.73,1486.45 1215.73,47.2441 \n",
       "  \"/>\n",
       "<polyline clip-path=\"url(#clip372)\" style=\"stroke:#000000; stroke-linecap:butt; stroke-linejoin:round; stroke-width:2; stroke-opacity:0.1; fill:none\" points=\"\n",
       "  1753.58,1486.45 1753.58,47.2441 \n",
       "  \"/>\n",
       "<polyline clip-path=\"url(#clip372)\" style=\"stroke:#000000; stroke-linecap:butt; stroke-linejoin:round; stroke-width:2; stroke-opacity:0.1; fill:none\" points=\"\n",
       "  2291.44,1486.45 2291.44,47.2441 \n",
       "  \"/>\n",
       "<polyline clip-path=\"url(#clip370)\" style=\"stroke:#000000; stroke-linecap:butt; stroke-linejoin:round; stroke-width:4; stroke-opacity:1; fill:none\" points=\"\n",
       "  186.274,1486.45 2352.76,1486.45 \n",
       "  \"/>\n",
       "<polyline clip-path=\"url(#clip370)\" style=\"stroke:#000000; stroke-linecap:butt; stroke-linejoin:round; stroke-width:4; stroke-opacity:1; fill:none\" points=\"\n",
       "  677.874,1486.45 677.874,1467.55 \n",
       "  \"/>\n",
       "<polyline clip-path=\"url(#clip370)\" style=\"stroke:#000000; stroke-linecap:butt; stroke-linejoin:round; stroke-width:4; stroke-opacity:1; fill:none\" points=\"\n",
       "  1215.73,1486.45 1215.73,1467.55 \n",
       "  \"/>\n",
       "<polyline clip-path=\"url(#clip370)\" style=\"stroke:#000000; stroke-linecap:butt; stroke-linejoin:round; stroke-width:4; stroke-opacity:1; fill:none\" points=\"\n",
       "  1753.58,1486.45 1753.58,1467.55 \n",
       "  \"/>\n",
       "<polyline clip-path=\"url(#clip370)\" style=\"stroke:#000000; stroke-linecap:butt; stroke-linejoin:round; stroke-width:4; stroke-opacity:1; fill:none\" points=\"\n",
       "  2291.44,1486.45 2291.44,1467.55 \n",
       "  \"/>\n",
       "<path clip-path=\"url(#clip370)\" d=\"M668.152 1514.29 L686.508 1514.29 L686.508 1518.22 L672.434 1518.22 L672.434 1526.7 Q673.453 1526.35 674.471 1526.19 Q675.49 1526 676.508 1526 Q682.295 1526 685.675 1529.17 Q689.054 1532.34 689.054 1537.76 Q689.054 1543.34 685.582 1546.44 Q682.11 1549.52 675.791 1549.52 Q673.615 1549.52 671.346 1549.15 Q669.101 1548.78 666.693 1548.04 L666.693 1543.34 Q668.777 1544.47 670.999 1545.03 Q673.221 1545.58 675.698 1545.58 Q679.703 1545.58 682.041 1543.48 Q684.379 1541.37 684.379 1537.76 Q684.379 1534.15 682.041 1532.04 Q679.703 1529.94 675.698 1529.94 Q673.823 1529.94 671.948 1530.35 Q670.096 1530.77 668.152 1531.65 L668.152 1514.29 Z\" fill=\"#000000\" fill-rule=\"evenodd\" fill-opacity=\"1\" /><path clip-path=\"url(#clip370)\" d=\"M1190.42 1544.91 L1198.06 1544.91 L1198.06 1518.55 L1189.75 1520.21 L1189.75 1515.95 L1198.01 1514.29 L1202.69 1514.29 L1202.69 1544.91 L1210.32 1544.91 L1210.32 1548.85 L1190.42 1548.85 L1190.42 1544.91 Z\" fill=\"#000000\" fill-rule=\"evenodd\" fill-opacity=\"1\" /><path clip-path=\"url(#clip370)\" d=\"M1229.77 1517.37 Q1226.16 1517.37 1224.33 1520.93 Q1222.52 1524.47 1222.52 1531.6 Q1222.52 1538.71 1224.33 1542.27 Q1226.16 1545.82 1229.77 1545.82 Q1233.4 1545.82 1235.21 1542.27 Q1237.04 1538.71 1237.04 1531.6 Q1237.04 1524.47 1235.21 1520.93 Q1233.4 1517.37 1229.77 1517.37 M1229.77 1513.66 Q1235.58 1513.66 1238.63 1518.27 Q1241.71 1522.85 1241.71 1531.6 Q1241.71 1540.33 1238.63 1544.94 Q1235.58 1549.52 1229.77 1549.52 Q1223.96 1549.52 1220.88 1544.94 Q1217.82 1540.33 1217.82 1531.6 Q1217.82 1522.85 1220.88 1518.27 Q1223.96 1513.66 1229.77 1513.66 Z\" fill=\"#000000\" fill-rule=\"evenodd\" fill-opacity=\"1\" /><path clip-path=\"url(#clip370)\" d=\"M1728.77 1544.91 L1736.41 1544.91 L1736.41 1518.55 L1728.1 1520.21 L1728.1 1515.95 L1736.36 1514.29 L1741.04 1514.29 L1741.04 1544.91 L1748.68 1544.91 L1748.68 1548.85 L1728.77 1548.85 L1728.77 1544.91 Z\" fill=\"#000000\" fill-rule=\"evenodd\" fill-opacity=\"1\" /><path clip-path=\"url(#clip370)\" d=\"M1758.17 1514.29 L1776.52 1514.29 L1776.52 1518.22 L1762.45 1518.22 L1762.45 1526.7 Q1763.47 1526.35 1764.49 1526.19 Q1765.51 1526 1766.52 1526 Q1772.31 1526 1775.69 1529.17 Q1779.07 1532.34 1779.07 1537.76 Q1779.07 1543.34 1775.6 1546.44 Q1772.13 1549.52 1765.81 1549.52 Q1763.63 1549.52 1761.36 1549.15 Q1759.12 1548.78 1756.71 1548.04 L1756.71 1543.34 Q1758.79 1544.47 1761.02 1545.03 Q1763.24 1545.58 1765.71 1545.58 Q1769.72 1545.58 1772.06 1543.48 Q1774.39 1541.37 1774.39 1537.76 Q1774.39 1534.15 1772.06 1532.04 Q1769.72 1529.94 1765.71 1529.94 Q1763.84 1529.94 1761.96 1530.35 Q1760.11 1530.77 1758.17 1531.65 L1758.17 1514.29 Z\" fill=\"#000000\" fill-rule=\"evenodd\" fill-opacity=\"1\" /><path clip-path=\"url(#clip370)\" d=\"M2270.21 1544.91 L2286.53 1544.91 L2286.53 1548.85 L2264.59 1548.85 L2264.59 1544.91 Q2267.25 1542.16 2271.83 1537.53 Q2276.44 1532.88 2277.62 1531.53 Q2279.87 1529.01 2280.75 1527.27 Q2281.65 1525.51 2281.65 1523.82 Q2281.65 1521.07 2279.7 1519.33 Q2277.78 1517.6 2274.68 1517.6 Q2272.48 1517.6 2270.03 1518.36 Q2267.6 1519.13 2264.82 1520.68 L2264.82 1515.95 Q2267.64 1514.82 2270.1 1514.24 Q2272.55 1513.66 2274.59 1513.66 Q2279.96 1513.66 2283.15 1516.35 Q2286.35 1519.03 2286.35 1523.52 Q2286.35 1525.65 2285.54 1527.57 Q2284.75 1529.47 2282.64 1532.07 Q2282.07 1532.74 2278.96 1535.95 Q2275.86 1539.15 2270.21 1544.91 Z\" fill=\"#000000\" fill-rule=\"evenodd\" fill-opacity=\"1\" /><path clip-path=\"url(#clip370)\" d=\"M2306.35 1517.37 Q2302.74 1517.37 2300.91 1520.93 Q2299.1 1524.47 2299.1 1531.6 Q2299.1 1538.71 2300.91 1542.27 Q2302.74 1545.82 2306.35 1545.82 Q2309.98 1545.82 2311.79 1542.27 Q2313.62 1538.71 2313.62 1531.6 Q2313.62 1524.47 2311.79 1520.93 Q2309.98 1517.37 2306.35 1517.37 M2306.35 1513.66 Q2312.16 1513.66 2315.21 1518.27 Q2318.29 1522.85 2318.29 1531.6 Q2318.29 1540.33 2315.21 1544.94 Q2312.16 1549.52 2306.35 1549.52 Q2300.54 1549.52 2297.46 1544.94 Q2294.4 1540.33 2294.4 1531.6 Q2294.4 1522.85 2297.46 1518.27 Q2300.54 1513.66 2306.35 1513.66 Z\" fill=\"#000000\" fill-rule=\"evenodd\" fill-opacity=\"1\" /><polyline clip-path=\"url(#clip372)\" style=\"stroke:#000000; stroke-linecap:butt; stroke-linejoin:round; stroke-width:2; stroke-opacity:0.1; fill:none\" points=\"\n",
       "  186.274,1445.72 2352.76,1445.72 \n",
       "  \"/>\n",
       "<polyline clip-path=\"url(#clip372)\" style=\"stroke:#000000; stroke-linecap:butt; stroke-linejoin:round; stroke-width:2; stroke-opacity:0.1; fill:none\" points=\"\n",
       "  186.274,1106.28 2352.76,1106.28 \n",
       "  \"/>\n",
       "<polyline clip-path=\"url(#clip372)\" style=\"stroke:#000000; stroke-linecap:butt; stroke-linejoin:round; stroke-width:2; stroke-opacity:0.1; fill:none\" points=\"\n",
       "  186.274,766.846 2352.76,766.846 \n",
       "  \"/>\n",
       "<polyline clip-path=\"url(#clip372)\" style=\"stroke:#000000; stroke-linecap:butt; stroke-linejoin:round; stroke-width:2; stroke-opacity:0.1; fill:none\" points=\"\n",
       "  186.274,427.411 2352.76,427.411 \n",
       "  \"/>\n",
       "<polyline clip-path=\"url(#clip372)\" style=\"stroke:#000000; stroke-linecap:butt; stroke-linejoin:round; stroke-width:2; stroke-opacity:0.1; fill:none\" points=\"\n",
       "  186.274,87.9763 2352.76,87.9763 \n",
       "  \"/>\n",
       "<polyline clip-path=\"url(#clip370)\" style=\"stroke:#000000; stroke-linecap:butt; stroke-linejoin:round; stroke-width:4; stroke-opacity:1; fill:none\" points=\"\n",
       "  186.274,1486.45 186.274,47.2441 \n",
       "  \"/>\n",
       "<polyline clip-path=\"url(#clip370)\" style=\"stroke:#000000; stroke-linecap:butt; stroke-linejoin:round; stroke-width:4; stroke-opacity:1; fill:none\" points=\"\n",
       "  186.274,1445.72 205.172,1445.72 \n",
       "  \"/>\n",
       "<polyline clip-path=\"url(#clip370)\" style=\"stroke:#000000; stroke-linecap:butt; stroke-linejoin:round; stroke-width:4; stroke-opacity:1; fill:none\" points=\"\n",
       "  186.274,1106.28 205.172,1106.28 \n",
       "  \"/>\n",
       "<polyline clip-path=\"url(#clip370)\" style=\"stroke:#000000; stroke-linecap:butt; stroke-linejoin:round; stroke-width:4; stroke-opacity:1; fill:none\" points=\"\n",
       "  186.274,766.846 205.172,766.846 \n",
       "  \"/>\n",
       "<polyline clip-path=\"url(#clip370)\" style=\"stroke:#000000; stroke-linecap:butt; stroke-linejoin:round; stroke-width:4; stroke-opacity:1; fill:none\" points=\"\n",
       "  186.274,427.411 205.172,427.411 \n",
       "  \"/>\n",
       "<polyline clip-path=\"url(#clip370)\" style=\"stroke:#000000; stroke-linecap:butt; stroke-linejoin:round; stroke-width:4; stroke-opacity:1; fill:none\" points=\"\n",
       "  186.274,87.9763 205.172,87.9763 \n",
       "  \"/>\n",
       "<path clip-path=\"url(#clip370)\" d=\"M62.9365 1431.51 Q59.3254 1431.51 57.4967 1435.08 Q55.6912 1438.62 55.6912 1445.75 Q55.6912 1452.86 57.4967 1456.42 Q59.3254 1459.96 62.9365 1459.96 Q66.5707 1459.96 68.3763 1456.42 Q70.205 1452.86 70.205 1445.75 Q70.205 1438.62 68.3763 1435.08 Q66.5707 1431.51 62.9365 1431.51 M62.9365 1427.81 Q68.7467 1427.81 71.8022 1432.42 Q74.8809 1437 74.8809 1445.75 Q74.8809 1454.48 71.8022 1459.08 Q68.7467 1463.67 62.9365 1463.67 Q57.1264 1463.67 54.0477 1459.08 Q50.9921 1454.48 50.9921 1445.75 Q50.9921 1437 54.0477 1432.42 Q57.1264 1427.81 62.9365 1427.81 Z\" fill=\"#000000\" fill-rule=\"evenodd\" fill-opacity=\"1\" /><path clip-path=\"url(#clip370)\" d=\"M83.0984 1457.12 L87.9827 1457.12 L87.9827 1463 L83.0984 1463 L83.0984 1457.12 Z\" fill=\"#000000\" fill-rule=\"evenodd\" fill-opacity=\"1\" /><path clip-path=\"url(#clip370)\" d=\"M108.168 1431.51 Q104.557 1431.51 102.728 1435.08 Q100.922 1438.62 100.922 1445.75 Q100.922 1452.86 102.728 1456.42 Q104.557 1459.96 108.168 1459.96 Q111.802 1459.96 113.608 1456.42 Q115.436 1452.86 115.436 1445.75 Q115.436 1438.62 113.608 1435.08 Q111.802 1431.51 108.168 1431.51 M108.168 1427.81 Q113.978 1427.81 117.033 1432.42 Q120.112 1437 120.112 1445.75 Q120.112 1454.48 117.033 1459.08 Q113.978 1463.67 108.168 1463.67 Q102.358 1463.67 99.2789 1459.08 Q96.2234 1454.48 96.2234 1445.75 Q96.2234 1437 99.2789 1432.42 Q102.358 1427.81 108.168 1427.81 Z\" fill=\"#000000\" fill-rule=\"evenodd\" fill-opacity=\"1\" /><path clip-path=\"url(#clip370)\" d=\"M138.33 1431.51 Q134.719 1431.51 132.89 1435.08 Q131.084 1438.62 131.084 1445.75 Q131.084 1452.86 132.89 1456.42 Q134.719 1459.96 138.33 1459.96 Q141.964 1459.96 143.769 1456.42 Q145.598 1452.86 145.598 1445.75 Q145.598 1438.62 143.769 1435.08 Q141.964 1431.51 138.33 1431.51 M138.33 1427.81 Q144.14 1427.81 147.195 1432.42 Q150.274 1437 150.274 1445.75 Q150.274 1454.48 147.195 1459.08 Q144.14 1463.67 138.33 1463.67 Q132.519 1463.67 129.441 1459.08 Q126.385 1454.48 126.385 1445.75 Q126.385 1437 129.441 1432.42 Q132.519 1427.81 138.33 1427.81 Z\" fill=\"#000000\" fill-rule=\"evenodd\" fill-opacity=\"1\" /><path clip-path=\"url(#clip370)\" d=\"M63.9319 1092.08 Q60.3208 1092.08 58.4921 1095.64 Q56.6865 1099.19 56.6865 1106.32 Q56.6865 1113.42 58.4921 1116.99 Q60.3208 1120.53 63.9319 1120.53 Q67.5661 1120.53 69.3717 1116.99 Q71.2004 1113.42 71.2004 1106.32 Q71.2004 1099.19 69.3717 1095.64 Q67.5661 1092.08 63.9319 1092.08 M63.9319 1088.38 Q69.742 1088.38 72.7976 1092.98 Q75.8763 1097.57 75.8763 1106.32 Q75.8763 1115.04 72.7976 1119.65 Q69.742 1124.23 63.9319 1124.23 Q58.1217 1124.23 55.043 1119.65 Q51.9875 1115.04 51.9875 1106.32 Q51.9875 1097.57 55.043 1092.98 Q58.1217 1088.38 63.9319 1088.38 Z\" fill=\"#000000\" fill-rule=\"evenodd\" fill-opacity=\"1\" /><path clip-path=\"url(#clip370)\" d=\"M84.0938 1117.68 L88.978 1117.68 L88.978 1123.56 L84.0938 1123.56 L84.0938 1117.68 Z\" fill=\"#000000\" fill-rule=\"evenodd\" fill-opacity=\"1\" /><path clip-path=\"url(#clip370)\" d=\"M103.191 1119.63 L119.51 1119.63 L119.51 1123.56 L97.566 1123.56 L97.566 1119.63 Q100.228 1116.87 104.811 1112.24 Q109.418 1107.59 110.598 1106.25 Q112.844 1103.72 113.723 1101.99 Q114.626 1100.23 114.626 1098.54 Q114.626 1095.78 112.682 1094.05 Q110.76 1092.31 107.658 1092.31 Q105.459 1092.31 103.006 1093.07 Q100.575 1093.84 97.7974 1095.39 L97.7974 1090.67 Q100.621 1089.53 103.075 1088.95 Q105.529 1088.38 107.566 1088.38 Q112.936 1088.38 116.131 1091.06 Q119.325 1093.75 119.325 1098.24 Q119.325 1100.37 118.515 1102.29 Q117.728 1104.19 115.621 1106.78 Q115.043 1107.45 111.941 1110.67 Q108.839 1113.86 103.191 1119.63 Z\" fill=\"#000000\" fill-rule=\"evenodd\" fill-opacity=\"1\" /><path clip-path=\"url(#clip370)\" d=\"M129.371 1089 L147.728 1089 L147.728 1092.94 L133.654 1092.94 L133.654 1101.41 Q134.672 1101.06 135.691 1100.9 Q136.709 1100.71 137.728 1100.71 Q143.515 1100.71 146.894 1103.89 Q150.274 1107.06 150.274 1112.47 Q150.274 1118.05 146.802 1121.15 Q143.33 1124.23 137.01 1124.23 Q134.834 1124.23 132.566 1123.86 Q130.32 1123.49 127.913 1122.75 L127.913 1118.05 Q129.996 1119.19 132.219 1119.74 Q134.441 1120.3 136.918 1120.3 Q140.922 1120.3 143.26 1118.19 Q145.598 1116.08 145.598 1112.47 Q145.598 1108.86 143.26 1106.76 Q140.922 1104.65 136.918 1104.65 Q135.043 1104.65 133.168 1105.07 Q131.316 1105.48 129.371 1106.36 L129.371 1089 Z\" fill=\"#000000\" fill-rule=\"evenodd\" fill-opacity=\"1\" /><path clip-path=\"url(#clip370)\" d=\"M62.9365 752.645 Q59.3254 752.645 57.4967 756.209 Q55.6912 759.751 55.6912 766.881 Q55.6912 773.987 57.4967 777.552 Q59.3254 781.094 62.9365 781.094 Q66.5707 781.094 68.3763 777.552 Q70.205 773.987 70.205 766.881 Q70.205 759.751 68.3763 756.209 Q66.5707 752.645 62.9365 752.645 M62.9365 748.941 Q68.7467 748.941 71.8022 753.547 Q74.8809 758.131 74.8809 766.881 Q74.8809 775.608 71.8022 780.214 Q68.7467 784.797 62.9365 784.797 Q57.1264 784.797 54.0477 780.214 Q50.9921 775.608 50.9921 766.881 Q50.9921 758.131 54.0477 753.547 Q57.1264 748.941 62.9365 748.941 Z\" fill=\"#000000\" fill-rule=\"evenodd\" fill-opacity=\"1\" /><path clip-path=\"url(#clip370)\" d=\"M83.0984 778.246 L87.9827 778.246 L87.9827 784.126 L83.0984 784.126 L83.0984 778.246 Z\" fill=\"#000000\" fill-rule=\"evenodd\" fill-opacity=\"1\" /><path clip-path=\"url(#clip370)\" d=\"M98.2141 749.566 L116.57 749.566 L116.57 753.501 L102.496 753.501 L102.496 761.973 Q103.515 761.626 104.534 761.464 Q105.552 761.279 106.571 761.279 Q112.358 761.279 115.737 764.45 Q119.117 767.621 119.117 773.038 Q119.117 778.617 115.645 781.719 Q112.172 784.797 105.853 784.797 Q103.677 784.797 101.409 784.427 Q99.1632 784.057 96.7558 783.316 L96.7558 778.617 Q98.8391 779.751 101.061 780.307 Q103.284 780.862 105.76 780.862 Q109.765 780.862 112.103 778.756 Q114.441 776.649 114.441 773.038 Q114.441 769.427 112.103 767.321 Q109.765 765.214 105.76 765.214 Q103.885 765.214 102.01 765.631 Q100.159 766.047 98.2141 766.927 L98.2141 749.566 Z\" fill=\"#000000\" fill-rule=\"evenodd\" fill-opacity=\"1\" /><path clip-path=\"url(#clip370)\" d=\"M138.33 752.645 Q134.719 752.645 132.89 756.209 Q131.084 759.751 131.084 766.881 Q131.084 773.987 132.89 777.552 Q134.719 781.094 138.33 781.094 Q141.964 781.094 143.769 777.552 Q145.598 773.987 145.598 766.881 Q145.598 759.751 143.769 756.209 Q141.964 752.645 138.33 752.645 M138.33 748.941 Q144.14 748.941 147.195 753.547 Q150.274 758.131 150.274 766.881 Q150.274 775.608 147.195 780.214 Q144.14 784.797 138.33 784.797 Q132.519 784.797 129.441 780.214 Q126.385 775.608 126.385 766.881 Q126.385 758.131 129.441 753.547 Q132.519 748.941 138.33 748.941 Z\" fill=\"#000000\" fill-rule=\"evenodd\" fill-opacity=\"1\" /><path clip-path=\"url(#clip370)\" d=\"M63.9319 413.21 Q60.3208 413.21 58.4921 416.775 Q56.6865 420.316 56.6865 427.446 Q56.6865 434.552 58.4921 438.117 Q60.3208 441.659 63.9319 441.659 Q67.5661 441.659 69.3717 438.117 Q71.2004 434.552 71.2004 427.446 Q71.2004 420.316 69.3717 416.775 Q67.5661 413.21 63.9319 413.21 M63.9319 409.506 Q69.742 409.506 72.7976 414.113 Q75.8763 418.696 75.8763 427.446 Q75.8763 436.173 72.7976 440.779 Q69.742 445.362 63.9319 445.362 Q58.1217 445.362 55.043 440.779 Q51.9875 436.173 51.9875 427.446 Q51.9875 418.696 55.043 414.113 Q58.1217 409.506 63.9319 409.506 Z\" fill=\"#000000\" fill-rule=\"evenodd\" fill-opacity=\"1\" /><path clip-path=\"url(#clip370)\" d=\"M84.0938 438.812 L88.978 438.812 L88.978 444.691 L84.0938 444.691 L84.0938 438.812 Z\" fill=\"#000000\" fill-rule=\"evenodd\" fill-opacity=\"1\" /><path clip-path=\"url(#clip370)\" d=\"M97.9826 410.131 L120.205 410.131 L120.205 412.122 L107.658 444.691 L102.774 444.691 L114.58 414.066 L97.9826 414.066 L97.9826 410.131 Z\" fill=\"#000000\" fill-rule=\"evenodd\" fill-opacity=\"1\" /><path clip-path=\"url(#clip370)\" d=\"M129.371 410.131 L147.728 410.131 L147.728 414.066 L133.654 414.066 L133.654 422.538 Q134.672 422.191 135.691 422.029 Q136.709 421.844 137.728 421.844 Q143.515 421.844 146.894 425.015 Q150.274 428.187 150.274 433.603 Q150.274 439.182 146.802 442.284 Q143.33 445.362 137.01 445.362 Q134.834 445.362 132.566 444.992 Q130.32 444.622 127.913 443.881 L127.913 439.182 Q129.996 440.316 132.219 440.872 Q134.441 441.427 136.918 441.427 Q140.922 441.427 143.26 439.321 Q145.598 437.214 145.598 433.603 Q145.598 429.992 143.26 427.886 Q140.922 425.779 136.918 425.779 Q135.043 425.779 133.168 426.196 Q131.316 426.613 129.371 427.492 L129.371 410.131 Z\" fill=\"#000000\" fill-rule=\"evenodd\" fill-opacity=\"1\" /><path clip-path=\"url(#clip370)\" d=\"M53.7467 101.321 L61.3856 101.321 L61.3856 74.9555 L53.0754 76.6222 L53.0754 72.3629 L61.3393 70.6963 L66.0152 70.6963 L66.0152 101.321 L73.654 101.321 L73.654 105.256 L53.7467 105.256 L53.7467 101.321 Z\" fill=\"#000000\" fill-rule=\"evenodd\" fill-opacity=\"1\" /><path clip-path=\"url(#clip370)\" d=\"M83.0984 99.3767 L87.9827 99.3767 L87.9827 105.256 L83.0984 105.256 L83.0984 99.3767 Z\" fill=\"#000000\" fill-rule=\"evenodd\" fill-opacity=\"1\" /><path clip-path=\"url(#clip370)\" d=\"M108.168 73.775 Q104.557 73.775 102.728 77.3398 Q100.922 80.8814 100.922 88.011 Q100.922 95.1174 102.728 98.6822 Q104.557 102.224 108.168 102.224 Q111.802 102.224 113.608 98.6822 Q115.436 95.1174 115.436 88.011 Q115.436 80.8814 113.608 77.3398 Q111.802 73.775 108.168 73.775 M108.168 70.0713 Q113.978 70.0713 117.033 74.6777 Q120.112 79.261 120.112 88.011 Q120.112 96.7378 117.033 101.344 Q113.978 105.928 108.168 105.928 Q102.358 105.928 99.2789 101.344 Q96.2234 96.7378 96.2234 88.011 Q96.2234 79.261 99.2789 74.6777 Q102.358 70.0713 108.168 70.0713 Z\" fill=\"#000000\" fill-rule=\"evenodd\" fill-opacity=\"1\" /><path clip-path=\"url(#clip370)\" d=\"M138.33 73.775 Q134.719 73.775 132.89 77.3398 Q131.084 80.8814 131.084 88.011 Q131.084 95.1174 132.89 98.6822 Q134.719 102.224 138.33 102.224 Q141.964 102.224 143.769 98.6822 Q145.598 95.1174 145.598 88.011 Q145.598 80.8814 143.769 77.3398 Q141.964 73.775 138.33 73.775 M138.33 70.0713 Q144.14 70.0713 147.195 74.6777 Q150.274 79.261 150.274 88.011 Q150.274 96.7378 147.195 101.344 Q144.14 105.928 138.33 105.928 Q132.519 105.928 129.441 101.344 Q126.385 96.7378 126.385 88.011 Q126.385 79.261 129.441 74.6777 Q132.519 70.0713 138.33 70.0713 Z\" fill=\"#000000\" fill-rule=\"evenodd\" fill-opacity=\"1\" /><circle clip-path=\"url(#clip372)\" cx=\"247.59\" cy=\"87.9763\" r=\"14.4\" fill=\"#009af9\" fill-rule=\"evenodd\" fill-opacity=\"1\" stroke=\"#000000\" stroke-opacity=\"1\" stroke-width=\"3.2\"/>\n",
       "<circle clip-path=\"url(#clip372)\" cx=\"355.161\" cy=\"87.9763\" r=\"14.4\" fill=\"#009af9\" fill-rule=\"evenodd\" fill-opacity=\"1\" stroke=\"#000000\" stroke-opacity=\"1\" stroke-width=\"3.2\"/>\n",
       "<circle clip-path=\"url(#clip372)\" cx=\"462.732\" cy=\"87.9763\" r=\"14.4\" fill=\"#009af9\" fill-rule=\"evenodd\" fill-opacity=\"1\" stroke=\"#000000\" stroke-opacity=\"1\" stroke-width=\"3.2\"/>\n",
       "<circle clip-path=\"url(#clip372)\" cx=\"570.303\" cy=\"87.9763\" r=\"14.4\" fill=\"#009af9\" fill-rule=\"evenodd\" fill-opacity=\"1\" stroke=\"#000000\" stroke-opacity=\"1\" stroke-width=\"3.2\"/>\n",
       "<circle clip-path=\"url(#clip372)\" cx=\"677.874\" cy=\"87.9763\" r=\"14.4\" fill=\"#009af9\" fill-rule=\"evenodd\" fill-opacity=\"1\" stroke=\"#000000\" stroke-opacity=\"1\" stroke-width=\"3.2\"/>\n",
       "<circle clip-path=\"url(#clip372)\" cx=\"785.445\" cy=\"87.9763\" r=\"14.4\" fill=\"#009af9\" fill-rule=\"evenodd\" fill-opacity=\"1\" stroke=\"#000000\" stroke-opacity=\"1\" stroke-width=\"3.2\"/>\n",
       "<circle clip-path=\"url(#clip372)\" cx=\"893.016\" cy=\"87.9763\" r=\"14.4\" fill=\"#009af9\" fill-rule=\"evenodd\" fill-opacity=\"1\" stroke=\"#000000\" stroke-opacity=\"1\" stroke-width=\"3.2\"/>\n",
       "<circle clip-path=\"url(#clip372)\" cx=\"1000.59\" cy=\"87.9763\" r=\"14.4\" fill=\"#009af9\" fill-rule=\"evenodd\" fill-opacity=\"1\" stroke=\"#000000\" stroke-opacity=\"1\" stroke-width=\"3.2\"/>\n",
       "<circle clip-path=\"url(#clip372)\" cx=\"1108.16\" cy=\"87.9763\" r=\"14.4\" fill=\"#009af9\" fill-rule=\"evenodd\" fill-opacity=\"1\" stroke=\"#000000\" stroke-opacity=\"1\" stroke-width=\"3.2\"/>\n",
       "<circle clip-path=\"url(#clip372)\" cx=\"1215.73\" cy=\"87.9763\" r=\"14.4\" fill=\"#009af9\" fill-rule=\"evenodd\" fill-opacity=\"1\" stroke=\"#000000\" stroke-opacity=\"1\" stroke-width=\"3.2\"/>\n",
       "<circle clip-path=\"url(#clip372)\" cx=\"1323.3\" cy=\"87.9763\" r=\"14.4\" fill=\"#009af9\" fill-rule=\"evenodd\" fill-opacity=\"1\" stroke=\"#000000\" stroke-opacity=\"1\" stroke-width=\"3.2\"/>\n",
       "<circle clip-path=\"url(#clip372)\" cx=\"1430.87\" cy=\"87.9763\" r=\"14.4\" fill=\"#009af9\" fill-rule=\"evenodd\" fill-opacity=\"1\" stroke=\"#000000\" stroke-opacity=\"1\" stroke-width=\"3.2\"/>\n",
       "<circle clip-path=\"url(#clip372)\" cx=\"1538.44\" cy=\"87.9763\" r=\"14.4\" fill=\"#009af9\" fill-rule=\"evenodd\" fill-opacity=\"1\" stroke=\"#000000\" stroke-opacity=\"1\" stroke-width=\"3.2\"/>\n",
       "<circle clip-path=\"url(#clip372)\" cx=\"1646.01\" cy=\"87.9763\" r=\"14.4\" fill=\"#009af9\" fill-rule=\"evenodd\" fill-opacity=\"1\" stroke=\"#000000\" stroke-opacity=\"1\" stroke-width=\"3.2\"/>\n",
       "<circle clip-path=\"url(#clip372)\" cx=\"1753.58\" cy=\"1445.72\" r=\"14.4\" fill=\"#009af9\" fill-rule=\"evenodd\" fill-opacity=\"1\" stroke=\"#000000\" stroke-opacity=\"1\" stroke-width=\"3.2\"/>\n",
       "<circle clip-path=\"url(#clip372)\" cx=\"1861.16\" cy=\"1445.72\" r=\"14.4\" fill=\"#009af9\" fill-rule=\"evenodd\" fill-opacity=\"1\" stroke=\"#000000\" stroke-opacity=\"1\" stroke-width=\"3.2\"/>\n",
       "<circle clip-path=\"url(#clip372)\" cx=\"1968.73\" cy=\"1445.72\" r=\"14.4\" fill=\"#009af9\" fill-rule=\"evenodd\" fill-opacity=\"1\" stroke=\"#000000\" stroke-opacity=\"1\" stroke-width=\"3.2\"/>\n",
       "<circle clip-path=\"url(#clip372)\" cx=\"2076.3\" cy=\"1445.72\" r=\"14.4\" fill=\"#009af9\" fill-rule=\"evenodd\" fill-opacity=\"1\" stroke=\"#000000\" stroke-opacity=\"1\" stroke-width=\"3.2\"/>\n",
       "<circle clip-path=\"url(#clip372)\" cx=\"2183.87\" cy=\"1445.72\" r=\"14.4\" fill=\"#009af9\" fill-rule=\"evenodd\" fill-opacity=\"1\" stroke=\"#000000\" stroke-opacity=\"1\" stroke-width=\"3.2\"/>\n",
       "<circle clip-path=\"url(#clip372)\" cx=\"2291.44\" cy=\"1445.72\" r=\"14.4\" fill=\"#009af9\" fill-rule=\"evenodd\" fill-opacity=\"1\" stroke=\"#000000\" stroke-opacity=\"1\" stroke-width=\"3.2\"/>\n",
       "<path clip-path=\"url(#clip370)\" d=\"\n",
       "M1987.39 198.898 L2280.54 198.898 L2280.54 95.2176 L1987.39 95.2176  Z\n",
       "  \" fill=\"#ffffff\" fill-rule=\"evenodd\" fill-opacity=\"1\"/>\n",
       "<polyline clip-path=\"url(#clip370)\" style=\"stroke:#000000; stroke-linecap:butt; stroke-linejoin:round; stroke-width:4; stroke-opacity:1; fill:none\" points=\"\n",
       "  1987.39,198.898 2280.54,198.898 2280.54,95.2176 1987.39,95.2176 1987.39,198.898 \n",
       "  \"/>\n",
       "<circle clip-path=\"url(#clip370)\" cx=\"2083.68\" cy=\"147.058\" r=\"23.04\" fill=\"#009af9\" fill-rule=\"evenodd\" fill-opacity=\"1\" stroke=\"#000000\" stroke-opacity=\"1\" stroke-width=\"5.12\"/>\n",
       "<path clip-path=\"url(#clip370)\" d=\"M2193.81 166.745 Q2192 171.375 2190.29 172.787 Q2188.58 174.199 2185.71 174.199 L2182.3 174.199 L2182.3 170.634 L2184.8 170.634 Q2186.56 170.634 2187.53 169.8 Q2188.51 168.967 2189.69 165.865 L2190.45 163.921 L2179.97 138.412 L2184.48 138.412 L2192.58 158.689 L2200.68 138.412 L2205.2 138.412 L2193.81 166.745 Z\" fill=\"#000000\" fill-rule=\"evenodd\" fill-opacity=\"1\" /><path clip-path=\"url(#clip370)\" d=\"M2212.49 160.402 L2220.13 160.402 L2220.13 134.037 L2211.82 135.703 L2211.82 131.444 L2220.08 129.778 L2224.76 129.778 L2224.76 160.402 L2232.4 160.402 L2232.4 164.338 L2212.49 164.338 L2212.49 160.402 Z\" fill=\"#000000\" fill-rule=\"evenodd\" fill-opacity=\"1\" /></svg>\n"
      ]
     },
     "metadata": {},
     "output_type": "display_data"
    }
   ],
   "source": [
    "𝛹ₓₜ_norm=normalization_eigenstates_2D(𝛹ₓₜ,UH_1D,dΩ_1D);\n",
    "scatter(𝛹ₓₜ_norm)"
   ]
  },
  {
   "cell_type": "code",
   "execution_count": 39,
   "metadata": {},
   "outputs": [
    {
     "name": "stderr",
     "output_type": "stream",
     "text": [
      "┌ Info: Saved animation to \n",
      "│   fn = /tmp/jl_8Jm9g5slOf.gif\n",
      "└ @ Plots /home/mendez/.julia/packages/Plots/lW9ll/src/animation.jl:137\n"
     ]
    },
    {
     "data": {
      "text/html": [
       "<img src=\"data:image/gif;base64,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\" />"
      ],
      "text/plain": [
       "Plots.AnimatedGif(\"/tmp/jl_8Jm9g5slOf.gif\")"
      ]
     },
     "metadata": {},
     "output_type": "display_data"
    }
   ],
   "source": [
    "anim₁ = @animate for i in 1:(length(time_vec)-6)\n",
    "    ρ₁Hreim_1D=real(conj(𝛹ₓₜ[i][1].(pts)).*𝛹ₓₜ[i][1].(pts)) #./ (𝛹ₓₜ_norm[i]^2)\n",
    "    ρ₂Hreim_1D=real(conj(𝛹ₓₜ[i][2].(pts)).*𝛹ₓₜ[i][2].(pts)) #./ (𝛹ₓₜ_norm[i]^2)\n",
    "\n",
    "    plot(x[:],ρ₁Hreim_1D+ρ₂Hreim_1D,label=\"t = $(round(time_vec[i]; digits=4))\",ylim=(0,1),xlim=(-25,25))\n",
    "    # plot(x[:],ρ₁Hreim_1D,label=\"t = $(round(time_vec[i]; digits=4))\",ylim=(0,1),xlim=(-10,10))\n",
    "    plot!(title=\"Time-Dependent Schrödinger equation \\n 25001 nodes 25002 elements\",xlabel=\"\\$x\\$\",ylabel=\"\\$ \\\\rho (x,t)\\$\",ylim=(0,1),xlim=(-25,25))\n",
    "end\n",
    "\n",
    "gif(anim₁, fps = 1)"
   ]
  },
  {
   "attachments": {},
   "cell_type": "markdown",
   "metadata": {},
   "source": [
    "### Mostramos salida de Densidad de probabilidad con visualizador Visit\n",
    "\n",
    "<video controls width=\"500\">\n",
    "  <source src=\"./videos/pseudocolor_density1D_v3.mp4\" type=\"video/mp4\" />\n",
    "</video>\n"
   ]
  }
 ],
 "metadata": {
  "kernelspec": {
   "display_name": "Julia 1.8.0",
   "language": "julia",
   "name": "julia-1.8"
  },
  "language_info": {
   "file_extension": ".jl",
   "mimetype": "application/julia",
   "name": "julia",
   "version": "1.8.0"
  },
  "orig_nbformat": 4
 },
 "nbformat": 4,
 "nbformat_minor": 2
}
