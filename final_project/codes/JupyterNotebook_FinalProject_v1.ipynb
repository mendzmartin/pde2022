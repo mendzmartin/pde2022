{
 "cells": [
  {
   "cell_type": "markdown",
   "metadata": {},
   "source": [
    "# $Final \\space project \\space PDE's \\space course$"
   ]
  },
  {
   "cell_type": "markdown",
   "metadata": {},
   "source": [
    "Primeramente pensamos el problema como uno de autovalores, entonces calculamos el espectro del Hamiltoniano."
   ]
  },
  {
   "cell_type": "code",
   "execution_count": 1,
   "metadata": {},
   "outputs": [
    {
     "name": "stderr",
     "output_type": "stream",
     "text": [
      "\u001b[32m\u001b[1m  Activating\u001b[22m\u001b[39m project at `~/github_repositories/my_repositories/pde2022/final_project/gridap_makie`\n"
     ]
    }
   ],
   "source": [
    "import Pkg; Pkg.activate(\"./gridap_makie\"); # activamos el proyecto \"gridap_makie\" donde se intalarán todos los paquetes\n",
    "\n",
    "install_packages=false;\n",
    "if install_packages\n",
    "    import Pkg\n",
    "    Pkg.add(\"GridapGmsh\");\n",
    "    Pkg.add(\"Gmsh\");\n",
    "    Pkg.add(\"FileIO\");\n",
    "end\n",
    "\n",
    "using Gridap;\n",
    "using GridapGmsh;\n",
    "using Gmsh;\n",
    "\n",
    "using Plots;\n",
    "\n",
    "# crear directorios en caso de no haberlo hecho\n",
    "create_directories = false;\n",
    "if (create_directories==true)\n",
    "    mkdir(\"models\");\n",
    "    mkdir(\"images\");\n",
    "end\n",
    "\n",
    "using FileIO;\n",
    "\n",
    "# en caso de querer plotear dentro de Jupiter Notebook\n",
    "#  debemos usar algunos paquetes. (no funciona en VSCode)\n",
    "plot_s = false;\n",
    "if plot_s\n",
    "    using GridapMakie, GLMakie; #Para graficar \n",
    "    using FileIO;               #Gráficos y salidas\n",
    "end"
   ]
  },
  {
   "cell_type": "markdown",
   "metadata": {},
   "source": [
    "### Cargamos paquetes específicos para Algebra Lineal"
   ]
  },
  {
   "cell_type": "code",
   "execution_count": 166,
   "metadata": {},
   "outputs": [],
   "source": [
    "install_packages=false;\n",
    "if install_packages\n",
    "    import Pkg\n",
    "    Pkg.add(\"LinearAlgebra\");\n",
    "    Pkg.add(\"SparseArrays\");\n",
    "    Pkg.add(\"LinearAlgebra\");\n",
    "    Pkg.add(\"Arpack\");\n",
    "end\n",
    "using LinearAlgebra;\n",
    "using SparseArrays;\n",
    "using SuiteSparse;\n",
    "using Arpack;"
   ]
  },
  {
   "cell_type": "markdown",
   "metadata": {},
   "source": [
    "### Incluimos módulo de funciones para resolver problema de autovalores"
   ]
  },
  {
   "cell_type": "code",
   "execution_count": 167,
   "metadata": {},
   "outputs": [],
   "source": [
    "include(\"eigen.jl\");"
   ]
  },
  {
   "cell_type": "code",
   "execution_count": 168,
   "metadata": {},
   "outputs": [],
   "source": [
    "n₁=50;dom₁=(0,1,0,1);                             # cantidad de FE y dominio espacial\n",
    "partition₁ = (n,n);                              # grilla de tamaño n²\n",
    "model₁ = CartesianDiscreteModel(dom₁,partition₁);  # creamos modelo con elementos cartesianos\n",
    "writevtk(model₁,\"./images/BO_aprox\");                     # escribimos el modelo para visualizar con Visit"
   ]
  },
  {
   "cell_type": "markdown",
   "metadata": {},
   "source": [
    "### Definimos condiciones de contorno"
   ]
  },
  {
   "cell_type": "code",
   "execution_count": 169,
   "metadata": {},
   "outputs": [
    {
     "name": "stdout",
     "output_type": "stream",
     "text": [
      "BCtype = fulldirichlet\n"
     ]
    },
    {
     "data": {
      "text/plain": [
       "2-element Vector{Float64}:\n",
       " 0.0\n",
       " 0.0"
      ]
     },
     "metadata": {},
     "output_type": "display_data"
    }
   ],
   "source": [
    "BCtype=\"fulldirichlet\";\n",
    "if BCtype==\"fulldirichlet\"\n",
    "    println(\"BCtype = \", BCtype);\n",
    "    # modified\n",
    "    labels₁ = get_face_labeling(model₁);\n",
    "    add_tag_from_tags!(labels₁,\"D1\",[1,7,3,2,4,8]);   # lineas laterales + 4 puntos vértice\n",
    "    add_tag_from_tags!(labels₁,\"D2\",[5,6]);           # lineas superior e inferior\n",
    "    dirichlet_values₁ = [0.0,0.0]; # 0.0+im*0.0\n",
    "end"
   ]
  },
  {
   "cell_type": "markdown",
   "metadata": {},
   "source": [
    "### Creamos triangulación de la región de integración y del borde"
   ]
  },
  {
   "cell_type": "code",
   "execution_count": 170,
   "metadata": {},
   "outputs": [],
   "source": [
    "Ω₁ = Triangulation(model₁);degree₁ = 3;dΩ₁ = Measure(Ω₁,degree₁);\n",
    "Γ₁ = BoundaryTriangulation(model₁,tags₁=[\"D1\",\"D2\"]);dΓ₁ = Measure(Γ₁,degree₁);"
   ]
  },
  {
   "cell_type": "markdown",
   "metadata": {},
   "source": [
    "### Creamos espacio de referencia para los elementos finitos"
   ]
  },
  {
   "cell_type": "code",
   "execution_count": 171,
   "metadata": {},
   "outputs": [],
   "source": [
    "order = 2;reffe = ReferenceFE(lagrangian,Float64,order);"
   ]
  },
  {
   "cell_type": "markdown",
   "metadata": {},
   "source": [
    "### Definimos espacio de pruebas y espacio de solución"
   ]
  },
  {
   "cell_type": "code",
   "execution_count": 172,
   "metadata": {},
   "outputs": [],
   "source": [
    "V₁ = TestFESpace(model,reffe;vector_type=Vector{ComplexF64},conformity=:H1,dirichlet_tags = [\"D1\",\"D2\"]);\n",
    "U₁ = TrialFESpace(V₁,dirichlet_values);"
   ]
  },
  {
   "cell_type": "markdown",
   "metadata": {},
   "source": [
    "### Queremos resolver el siguiente problema de autovalores:\n",
    "\n",
    "\\begin{align}\n",
    "    -\\frac{\\hbar ^{2}}{2m}\\frac{\\partial }{\\partial x}\\left(\\frac{\\partial }{\\partial x}\\right) u_{12} +\\left(\\frac{1}{2} m\\omega ^{2}x^{2}+\\gamma\\right) u_{12} =\\lambda u_{12} \\\\\n",
    "    \n",
    "    \\begin{cases}\n",
    "        p( x) =\\frac{\\hbar ^{2}}{2m}\\\\\n",
    "        q( x) =\\left ( \\frac{1}{2} m\\omega ^{2}x^{2}+\\gamma \\right )\\\\\n",
    "        r( x) =1\n",
    "    \\end{cases}\n",
    "    \\Rightarrow \\left[ -\\frac{d}{dx}\\left( p( x)\\frac{d}{dx}\\right) +q( x)\\right] u_{12}( x) =\\lambda r( x) u_{12}( x)\n",
    "\\end{align}\n",
    "\n",
    "donde $u_{12}=(u_{1}+u_{2})$."
   ]
  },
  {
   "cell_type": "markdown",
   "metadata": {},
   "source": [
    "### Definimos funciones"
   ]
  },
  {
   "cell_type": "code",
   "execution_count": 173,
   "metadata": {},
   "outputs": [],
   "source": [
    "m=1.0;ω=1.0;ħ=1.0;γ=0.1;x₁=0.0;x₂=2.0;\n",
    "p(x) = 0.5*(ħ*ħ)*(1.0/m);\n",
    "q(x) = 0.5*m*(ω*ω)*x[1]*x[1]+γ;\n",
    "r(x) = 1.0;"
   ]
  },
  {
   "cell_type": "markdown",
   "metadata": {},
   "source": [
    "### Definimos formas bilineales para el problema débil\n",
    "\n",
    "+ Weak Form of the Effective Mass Schrodinger Equation\n",
    "+ Reference: [https://www.physicsforums.com/threads/weak-form-of-the-effective-mass-schrodinger-equation.751282/](https://www.physicsforums.com/threads/weak-form-of-the-effective-mass-schrodinger-equation.751282/)"
   ]
  },
  {
   "cell_type": "code",
   "execution_count": 174,
   "metadata": {},
   "outputs": [],
   "source": [
    "a(u,v) = ∫(p*∇(v)⋅∇(u) + q*v*u)*dΩ; # deben verificar la integración por partes\n",
    "b(u,v) = ∫(r*u*v)dΩ;"
   ]
  },
  {
   "cell_type": "markdown",
   "metadata": {},
   "source": [
    "### Resolvemos el problema de autovalores"
   ]
  },
  {
   "cell_type": "code",
   "execution_count": 175,
   "metadata": {},
   "outputs": [],
   "source": [
    "nev = 12 # number of eigenvalues asked to evaluate.\n",
    "prob = EigenProblem(a, b, U₁, V₁; nev=nev, tol=10^(-6), maxiter=100, explicittransform=:none, sigma=-1.0)\n",
    "ξ, uₕs = solve(prob);"
   ]
  },
  {
   "cell_type": "markdown",
   "metadata": {},
   "source": [
    "### Graficamos autovalores"
   ]
  },
  {
   "cell_type": "code",
   "execution_count": 176,
   "metadata": {},
   "outputs": [
    {
     "data": {
      "image/png": "[encoded data removed]",
      "image/svg+xml": "<?xml version=\"1.0\" encoding=\"utf-8\"?>\n<svg xmlns=\"http://www.w3.org/2000/svg\" xmlns:xlink=\"http://www.w3.org/1999/xlink\" width=\"600\" height=\"400\" viewBox=\"0 0 2400 1600\">\n<defs>\n  <clipPath id=\"clip970\">\n    <rect x=\"0\" y=\"0\" width=\"2400\" height=\"1600\"/>\n  </clipPath>\n</defs>\n<path clip-path=\"url(#clip970)\" d=\"\nM0 1600 L2400 1600 L2400 0 L0 0  Z\n  \" fill=\"#ffffff\" fill-rule=\"evenodd\" fill-opacity=\"1\"/>\n<defs>\n  <clipPath id=\"clip971\">\n    <rect x=\"480\" y=\"0\" width=\"1681\" height=\"1600\"/>\n  </clipPath>\n</defs>\n<defs>\n  <clipPath id=\"clip972\">\n    <rect x=\"232\" y=\"47\" width=\"2121\" height=\"1377\"/>\n  </clipPath>\n</defs>\n<path clip-path=\"url(#clip970)\" d=\"\nM232.389 1423.18 L2352.76 1423.18 L2352.76 47.2441 L232.389 47.2441  Z\n  \" fill=\"#ffffff\" fill-rule=\"evenodd\" fill-opacity=\"1\"/>\n<polyline clip-path=\"url(#clip972)\" style=\"stroke:#000000; stroke-linecap:round; stroke-linejoin:round; stroke-width:2; stroke-opacity:0.1; fill:none\" points=\"\n  292.4,1423.18 292.4,47.2441 \n  \"/>\n<polyline clip-path=\"url(#clip972)\" style=\"stroke:#000000; stroke-linecap:round; stroke-linejoin:round; stroke-width:2; stroke-opacity:0.1; fill:none\" points=\"\n  474.249,1423.18 474.249,47.2441 \n  \"/>\n<polyline clip-path=\"url(#clip972)\" style=\"stroke:#000000; stroke-linecap:round; stroke-linejoin:round; stroke-width:2; stroke-opacity:0.1; fill:none\" points=\"\n  656.099,1423.18 656.099,47.2441 \n  \"/>\n<polyline clip-path=\"url(#clip972)\" style=\"stroke:#000000; stroke-linecap:round; stroke-linejoin:round; stroke-width:2; stroke-opacity:0.1; fill:none\" points=\"\n  837.949,1423.18 837.949,47.2441 \n  \"/>\n<polyline clip-path=\"url(#clip972)\" style=\"stroke:#000000; stroke-linecap:round; stroke-linejoin:round; stroke-width:2; stroke-opacity:0.1; fill:none\" points=\"\n  1019.8,1423.18 1019.8,47.2441 \n  \"/>\n<polyline clip-path=\"url(#clip972)\" style=\"stroke:#000000; stroke-linecap:round; stroke-linejoin:round; stroke-width:2; stroke-opacity:0.1; fill:none\" points=\"\n  1201.65,1423.18 1201.65,47.2441 \n  \"/>\n<polyline clip-path=\"url(#clip972)\" style=\"stroke:#000000; stroke-linecap:round; stroke-linejoin:round; stroke-width:2; stroke-opacity:0.1; fill:none\" points=\"\n  1383.5,1423.18 1383.5,47.2441 \n  \"/>\n<polyline clip-path=\"url(#clip972)\" style=\"stroke:#000000; stroke-linecap:round; stroke-linejoin:round; stroke-width:2; stroke-opacity:0.1; fill:none\" points=\"\n  1565.35,1423.18 1565.35,47.2441 \n  \"/>\n<polyline clip-path=\"url(#clip972)\" style=\"stroke:#000000; stroke-linecap:round; stroke-linejoin:round; stroke-width:2; stroke-opacity:0.1; fill:none\" points=\"\n  1747.2,1423.18 1747.2,47.2441 \n  \"/>\n<polyline clip-path=\"url(#clip972)\" style=\"stroke:#000000; stroke-linecap:round; stroke-linejoin:round; stroke-width:2; stroke-opacity:0.1; fill:none\" points=\"\n  1929.05,1423.18 1929.05,47.2441 \n  \"/>\n<polyline clip-path=\"url(#clip972)\" style=\"stroke:#000000; stroke-linecap:round; stroke-linejoin:round; stroke-width:2; stroke-opacity:0.1; fill:none\" points=\"\n  2110.9,1423.18 2110.9,47.2441 \n  \"/>\n<polyline clip-path=\"url(#clip972)\" style=\"stroke:#000000; stroke-linecap:round; stroke-linejoin:round; stroke-width:2; stroke-opacity:0.1; fill:none\" points=\"\n  2292.75,1423.18 2292.75,47.2441 \n  \"/>\n<polyline clip-path=\"url(#clip970)\" style=\"stroke:#000000; stroke-linecap:round; stroke-linejoin:round; stroke-width:4; stroke-opacity:1; fill:none\" points=\"\n  232.389,1423.18 2352.76,1423.18 \n  \"/>\n<polyline clip-path=\"url(#clip970)\" style=\"stroke:#000000; stroke-linecap:round; stroke-linejoin:round; stroke-width:4; stroke-opacity:1; fill:none\" points=\"\n  292.4,1423.18 292.4,1404.28 \n  \"/>\n<polyline clip-path=\"url(#clip970)\" style=\"stroke:#000000; stroke-linecap:round; stroke-linejoin:round; stroke-width:4; stroke-opacity:1; fill:none\" points=\"\n  474.249,1423.18 474.249,1404.28 \n  \"/>\n<polyline clip-path=\"url(#clip970)\" style=\"stroke:#000000; stroke-linecap:round; stroke-linejoin:round; stroke-width:4; stroke-opacity:1; fill:none\" points=\"\n  656.099,1423.18 656.099,1404.28 \n  \"/>\n<polyline clip-path=\"url(#clip970)\" style=\"stroke:#000000; stroke-linecap:round; stroke-linejoin:round; stroke-width:4; stroke-opacity:1; fill:none\" points=\"\n  837.949,1423.18 837.949,1404.28 \n  \"/>\n<polyline clip-path=\"url(#clip970)\" style=\"stroke:#000000; stroke-linecap:round; stroke-linejoin:round; stroke-width:4; stroke-opacity:1; fill:none\" points=\"\n  1019.8,1423.18 1019.8,1404.28 \n  \"/>\n<polyline clip-path=\"url(#clip970)\" style=\"stroke:#000000; stroke-linecap:round; stroke-linejoin:round; stroke-width:4; stroke-opacity:1; fill:none\" points=\"\n  1201.65,1423.18 1201.65,1404.28 \n  \"/>\n<polyline clip-path=\"url(#clip970)\" style=\"stroke:#000000; stroke-linecap:round; stroke-linejoin:round; stroke-width:4; stroke-opacity:1; fill:none\" points=\"\n  1383.5,1423.18 1383.5,1404.28 \n  \"/>\n<polyline clip-path=\"url(#clip970)\" style=\"stroke:#000000; stroke-linecap:round; stroke-linejoin:round; stroke-width:4; stroke-opacity:1; fill:none\" points=\"\n  1565.35,1423.18 1565.35,1404.28 \n  \"/>\n<polyline clip-path=\"url(#clip970)\" style=\"stroke:#000000; stroke-linecap:round; stroke-linejoin:round; stroke-width:4; stroke-opacity:1; fill:none\" points=\"\n  1747.2,1423.18 1747.2,1404.28 \n  \"/>\n<polyline clip-path=\"url(#clip970)\" style=\"stroke:#000000; stroke-linecap:round; stroke-linejoin:round; stroke-width:4; stroke-opacity:1; fill:none\" points=\"\n  1929.05,1423.18 1929.05,1404.28 \n  \"/>\n<polyline clip-path=\"url(#clip970)\" style=\"stroke:#000000; stroke-linecap:round; stroke-linejoin:round; stroke-width:4; stroke-opacity:1; fill:none\" points=\"\n  2110.9,1423.18 2110.9,1404.28 \n  \"/>\n<polyline clip-path=\"url(#clip970)\" style=\"stroke:#000000; stroke-linecap:round; stroke-linejoin:round; stroke-width:4; stroke-opacity:1; fill:none\" points=\"\n  2292.75,1423.18 2292.75,1404.28 \n  \"/>\n<path clip-path=\"url(#clip970)\" d=\"M282.782 1481.64 L290.421 1481.64 L290.421 1455.28 L282.11 1456.95 L282.11 1452.69 L290.374 1451.02 L295.05 1451.02 L295.05 1481.64 L302.689 1481.64 L302.689 1485.58 L282.782 1485.58 L282.782 1481.64 Z\" fill=\"#000000\" fill-rule=\"evenodd\" fill-opacity=\"1\" /><path clip-path=\"url(#clip970)\" d=\"M468.902 1481.64 L485.222 1481.64 L485.222 1485.58 L463.277 1485.58 L463.277 1481.64 Q465.939 1478.89 470.523 1474.26 Q475.129 1469.61 476.31 1468.27 Q478.555 1465.74 479.434 1464.01 Q480.337 1462.25 480.337 1460.56 Q480.337 1457.8 478.393 1456.07 Q476.472 1454.33 473.37 1454.33 Q471.171 1454.33 468.717 1455.09 Q466.286 1455.86 463.509 1457.41 L463.509 1452.69 Q466.333 1451.55 468.786 1450.97 Q471.24 1450.39 473.277 1450.39 Q478.647 1450.39 481.842 1453.08 Q485.036 1455.77 485.036 1460.26 Q485.036 1462.39 484.226 1464.31 Q483.439 1466.2 481.333 1468.8 Q480.754 1469.47 477.652 1472.69 Q474.55 1475.88 468.902 1481.64 Z\" fill=\"#000000\" fill-rule=\"evenodd\" fill-opacity=\"1\" /><path clip-path=\"url(#clip970)\" d=\"M660.347 1466.95 Q663.703 1467.66 665.578 1469.93 Q667.476 1472.2 667.476 1475.53 Q667.476 1480.65 663.958 1483.45 Q660.439 1486.25 653.958 1486.25 Q651.782 1486.25 649.467 1485.81 Q647.175 1485.39 644.722 1484.54 L644.722 1480.02 Q646.666 1481.16 648.981 1481.74 Q651.296 1482.32 653.819 1482.32 Q658.217 1482.32 660.509 1480.58 Q662.823 1478.84 662.823 1475.53 Q662.823 1472.48 660.671 1470.77 Q658.541 1469.03 654.722 1469.03 L650.694 1469.03 L650.694 1465.19 L654.907 1465.19 Q658.356 1465.19 660.185 1463.82 Q662.013 1462.43 662.013 1459.84 Q662.013 1457.18 660.115 1455.77 Q658.24 1454.33 654.722 1454.33 Q652.8 1454.33 650.601 1454.75 Q648.402 1455.16 645.763 1456.04 L645.763 1451.88 Q648.425 1451.14 650.74 1450.77 Q653.078 1450.39 655.138 1450.39 Q660.462 1450.39 663.564 1452.83 Q666.666 1455.23 666.666 1459.35 Q666.666 1462.22 665.023 1464.21 Q663.379 1466.18 660.347 1466.95 Z\" fill=\"#000000\" fill-rule=\"evenodd\" fill-opacity=\"1\" /><path clip-path=\"url(#clip970)\" d=\"M840.958 1455.09 L829.152 1473.54 L840.958 1473.54 L840.958 1455.09 M839.731 1451.02 L845.611 1451.02 L845.611 1473.54 L850.541 1473.54 L850.541 1477.43 L845.611 1477.43 L845.611 1485.58 L840.958 1485.58 L840.958 1477.43 L825.356 1477.43 L825.356 1472.92 L839.731 1451.02 Z\" fill=\"#000000\" fill-rule=\"evenodd\" fill-opacity=\"1\" /><path clip-path=\"url(#clip970)\" d=\"M1010.08 1451.02 L1028.43 1451.02 L1028.43 1454.96 L1014.36 1454.96 L1014.36 1463.43 Q1015.38 1463.08 1016.4 1462.92 Q1017.41 1462.73 1018.43 1462.73 Q1024.22 1462.73 1027.6 1465.9 Q1030.98 1469.08 1030.98 1474.49 Q1030.98 1480.07 1027.51 1483.17 Q1024.03 1486.25 1017.71 1486.25 Q1015.54 1486.25 1013.27 1485.88 Q1011.03 1485.51 1008.62 1484.77 L1008.62 1480.07 Q1010.7 1481.2 1012.92 1481.76 Q1015.15 1482.32 1017.62 1482.32 Q1021.63 1482.32 1023.96 1480.21 Q1026.3 1478.1 1026.3 1474.49 Q1026.3 1470.88 1023.96 1468.77 Q1021.63 1466.67 1017.62 1466.67 Q1015.75 1466.67 1013.87 1467.08 Q1012.02 1467.5 1010.08 1468.38 L1010.08 1451.02 Z\" fill=\"#000000\" fill-rule=\"evenodd\" fill-opacity=\"1\" /><path clip-path=\"url(#clip970)\" d=\"M1202.05 1466.44 Q1198.9 1466.44 1197.05 1468.59 Q1195.22 1470.74 1195.22 1474.49 Q1195.22 1478.22 1197.05 1480.39 Q1198.9 1482.55 1202.05 1482.55 Q1205.2 1482.55 1207.03 1480.39 Q1208.88 1478.22 1208.88 1474.49 Q1208.88 1470.74 1207.03 1468.59 Q1205.2 1466.44 1202.05 1466.44 M1211.34 1451.78 L1211.34 1456.04 Q1209.58 1455.21 1207.77 1454.77 Q1205.99 1454.33 1204.23 1454.33 Q1199.6 1454.33 1197.15 1457.45 Q1194.71 1460.58 1194.37 1466.9 Q1195.73 1464.89 1197.79 1463.82 Q1199.85 1462.73 1202.33 1462.73 Q1207.54 1462.73 1210.55 1465.9 Q1213.58 1469.05 1213.58 1474.49 Q1213.58 1479.82 1210.43 1483.03 Q1207.28 1486.25 1202.05 1486.25 Q1196.06 1486.25 1192.89 1481.67 Q1189.72 1477.06 1189.72 1468.33 Q1189.72 1460.14 1193.6 1455.28 Q1197.49 1450.39 1204.04 1450.39 Q1205.8 1450.39 1207.59 1450.74 Q1209.39 1451.09 1211.34 1451.78 Z\" fill=\"#000000\" fill-rule=\"evenodd\" fill-opacity=\"1\" /><path clip-path=\"url(#clip970)\" d=\"M1372.39 1451.02 L1394.61 1451.02 L1394.61 1453.01 L1382.06 1485.58 L1377.18 1485.58 L1388.98 1454.96 L1372.39 1454.96 L1372.39 1451.02 Z\" fill=\"#000000\" fill-rule=\"evenodd\" fill-opacity=\"1\" /><path clip-path=\"url(#clip970)\" d=\"M1565.35 1469.17 Q1562.01 1469.17 1560.09 1470.95 Q1558.19 1472.73 1558.19 1475.86 Q1558.19 1478.98 1560.09 1480.77 Q1562.01 1482.55 1565.35 1482.55 Q1568.68 1482.55 1570.6 1480.77 Q1572.52 1478.96 1572.52 1475.86 Q1572.52 1472.73 1570.6 1470.95 Q1568.7 1469.17 1565.35 1469.17 M1560.67 1467.18 Q1557.66 1466.44 1555.97 1464.38 Q1554.31 1462.32 1554.31 1459.35 Q1554.31 1455.21 1557.25 1452.8 Q1560.21 1450.39 1565.35 1450.39 Q1570.51 1450.39 1573.45 1452.8 Q1576.39 1455.21 1576.39 1459.35 Q1576.39 1462.32 1574.7 1464.38 Q1573.03 1466.44 1570.05 1467.18 Q1573.43 1467.96 1575.3 1470.26 Q1577.2 1472.55 1577.2 1475.86 Q1577.2 1480.88 1574.12 1483.57 Q1571.06 1486.25 1565.35 1486.25 Q1559.63 1486.25 1556.55 1483.57 Q1553.5 1480.88 1553.5 1475.86 Q1553.5 1472.55 1555.39 1470.26 Q1557.29 1467.96 1560.67 1467.18 M1558.96 1459.79 Q1558.96 1462.48 1560.62 1463.98 Q1562.31 1465.49 1565.35 1465.49 Q1568.36 1465.49 1570.05 1463.98 Q1571.76 1462.48 1571.76 1459.79 Q1571.76 1457.11 1570.05 1455.6 Q1568.36 1454.1 1565.35 1454.1 Q1562.31 1454.1 1560.62 1455.6 Q1558.96 1457.11 1558.96 1459.79 Z\" fill=\"#000000\" fill-rule=\"evenodd\" fill-opacity=\"1\" /><path clip-path=\"url(#clip970)\" d=\"M1737.5 1484.86 L1737.5 1480.6 Q1739.26 1481.44 1741.06 1481.88 Q1742.87 1482.32 1744.6 1482.32 Q1749.23 1482.32 1751.66 1479.21 Q1754.12 1476.09 1754.47 1469.75 Q1753.12 1471.74 1751.06 1472.8 Q1749 1473.87 1746.5 1473.87 Q1741.32 1473.87 1738.28 1470.74 Q1735.28 1467.59 1735.28 1462.15 Q1735.28 1456.83 1738.42 1453.61 Q1741.57 1450.39 1746.8 1450.39 Q1752.8 1450.39 1755.95 1455 Q1759.12 1459.58 1759.12 1468.33 Q1759.12 1476.51 1755.23 1481.39 Q1751.36 1486.25 1744.81 1486.25 Q1743.05 1486.25 1741.25 1485.9 Q1739.44 1485.56 1737.5 1484.86 M1746.8 1470.21 Q1749.95 1470.21 1751.78 1468.06 Q1753.63 1465.9 1753.63 1462.15 Q1753.63 1458.43 1751.78 1456.27 Q1749.95 1454.1 1746.8 1454.1 Q1743.66 1454.1 1741.8 1456.27 Q1739.97 1458.43 1739.97 1462.15 Q1739.97 1465.9 1741.8 1468.06 Q1743.66 1470.21 1746.8 1470.21 Z\" fill=\"#000000\" fill-rule=\"evenodd\" fill-opacity=\"1\" /><path clip-path=\"url(#clip970)\" d=\"M1903.73 1481.64 L1911.37 1481.64 L1911.37 1455.28 L1903.06 1456.95 L1903.06 1452.69 L1911.33 1451.02 L1916 1451.02 L1916 1481.64 L1923.64 1481.64 L1923.64 1485.58 L1903.73 1485.58 L1903.73 1481.64 Z\" fill=\"#000000\" fill-rule=\"evenodd\" fill-opacity=\"1\" /><path clip-path=\"url(#clip970)\" d=\"M1943.09 1454.1 Q1939.47 1454.1 1937.65 1457.66 Q1935.84 1461.2 1935.84 1468.33 Q1935.84 1475.44 1937.65 1479.01 Q1939.47 1482.55 1943.09 1482.55 Q1946.72 1482.55 1948.53 1479.01 Q1950.35 1475.44 1950.35 1468.33 Q1950.35 1461.2 1948.53 1457.66 Q1946.72 1454.1 1943.09 1454.1 M1943.09 1450.39 Q1948.9 1450.39 1951.95 1455 Q1955.03 1459.58 1955.03 1468.33 Q1955.03 1477.06 1951.95 1481.67 Q1948.9 1486.25 1943.09 1486.25 Q1937.28 1486.25 1934.2 1481.67 Q1931.14 1477.06 1931.14 1468.33 Q1931.14 1459.58 1934.2 1455 Q1937.28 1450.39 1943.09 1450.39 Z\" fill=\"#000000\" fill-rule=\"evenodd\" fill-opacity=\"1\" /><path clip-path=\"url(#clip970)\" d=\"M2086.2 1481.64 L2093.84 1481.64 L2093.84 1455.28 L2085.53 1456.95 L2085.53 1452.69 L2093.79 1451.02 L2098.47 1451.02 L2098.47 1481.64 L2106.1 1481.64 L2106.1 1485.58 L2086.2 1485.58 L2086.2 1481.64 Z\" fill=\"#000000\" fill-rule=\"evenodd\" fill-opacity=\"1\" /><path clip-path=\"url(#clip970)\" d=\"M2116.36 1481.64 L2124 1481.64 L2124 1455.28 L2115.69 1456.95 L2115.69 1452.69 L2123.95 1451.02 L2128.63 1451.02 L2128.63 1481.64 L2136.27 1481.64 L2136.27 1485.58 L2116.36 1485.58 L2116.36 1481.64 Z\" fill=\"#000000\" fill-rule=\"evenodd\" fill-opacity=\"1\" /><path clip-path=\"url(#clip970)\" d=\"M2268.23 1481.64 L2275.87 1481.64 L2275.87 1455.28 L2267.56 1456.95 L2267.56 1452.69 L2275.82 1451.02 L2280.5 1451.02 L2280.5 1481.64 L2288.14 1481.64 L2288.14 1485.58 L2268.23 1485.58 L2268.23 1481.64 Z\" fill=\"#000000\" fill-rule=\"evenodd\" fill-opacity=\"1\" /><path clip-path=\"url(#clip970)\" d=\"M2301.61 1481.64 L2317.93 1481.64 L2317.93 1485.58 L2295.99 1485.58 L2295.99 1481.64 Q2298.65 1478.89 2303.23 1474.26 Q2307.84 1469.61 2309.02 1468.27 Q2311.26 1465.74 2312.14 1464.01 Q2313.05 1462.25 2313.05 1460.56 Q2313.05 1457.8 2311.1 1456.07 Q2309.18 1454.33 2306.08 1454.33 Q2303.88 1454.33 2301.43 1455.09 Q2299 1455.86 2296.22 1457.41 L2296.22 1452.69 Q2299.04 1451.55 2301.5 1450.97 Q2303.95 1450.39 2305.99 1450.39 Q2311.36 1450.39 2314.55 1453.08 Q2317.75 1455.77 2317.75 1460.26 Q2317.75 1462.39 2316.94 1464.31 Q2316.15 1466.2 2314.04 1468.8 Q2313.46 1469.47 2310.36 1472.69 Q2307.26 1475.88 2301.61 1481.64 Z\" fill=\"#000000\" fill-rule=\"evenodd\" fill-opacity=\"1\" /><path clip-path=\"url(#clip970)\" d=\"M1034.11 1519.53 Q1034.11 1520.95 1032.95 1522.01 Q1031.82 1523.05 1030.6 1523.05 Q1029.47 1523.05 1028.76 1522.37 Q1028.08 1521.66 1028.08 1520.66 Q1028.08 1519.34 1029.21 1518.25 Q1030.34 1517.15 1031.66 1517.15 Q1032.75 1517.15 1033.43 1517.83 Q1034.11 1518.5 1034.11 1519.53 M1034.69 1551.32 Q1034.69 1551.58 1034.4 1552.61 Q1034.11 1553.61 1033.4 1555.15 Q1032.72 1556.67 1031.79 1558.09 Q1030.85 1559.5 1029.31 1560.5 Q1027.79 1561.5 1026.06 1561.5 Q1023.7 1561.5 1022.16 1559.95 Q1020.64 1558.41 1020.64 1556.09 Q1020.64 1554.83 1022.16 1550.81 Q1026.54 1539.08 1026.7 1538.6 Q1027.44 1536.77 1027.44 1535.15 Q1027.44 1534.41 1027.28 1533.96 Q1027.12 1533.48 1026.8 1533.32 Q1026.47 1533.13 1026.28 1533.09 Q1026.12 1533.06 1025.8 1533.06 Q1023.9 1533.06 1022.13 1534.99 Q1020.35 1536.93 1019.13 1541.24 Q1018.87 1542.05 1018.71 1542.24 Q1018.55 1542.43 1018.07 1542.43 Q1017.26 1542.4 1017.26 1541.76 Q1017.26 1541.56 1017.49 1540.82 Q1017.71 1540.05 1018.13 1538.89 Q1018.55 1537.7 1019.29 1536.48 Q1020.03 1535.22 1020.93 1534.12 Q1021.87 1533.03 1023.19 1532.32 Q1024.51 1531.61 1025.99 1531.61 Q1028.41 1531.61 1029.89 1533.19 Q1031.4 1534.74 1031.4 1537.02 Q1031.4 1538.28 1030.53 1540.5 Q1029.47 1543.4 1029.08 1544.33 L1026.51 1551.26 Q1025.57 1553.77 1025.28 1554.54 Q1025.02 1555.28 1024.8 1556.19 Q1024.61 1557.05 1024.61 1557.86 Q1024.61 1558.99 1024.96 1559.5 Q1025.35 1560.02 1026.18 1560.02 Q1028.5 1560.02 1030.21 1557.73 Q1031.92 1555.41 1032.91 1551.87 Q1032.95 1551.77 1032.98 1551.61 Q1033.24 1550.81 1033.49 1550.71 Q1033.62 1550.68 1033.88 1550.68 Q1034.69 1550.68 1034.69 1551.32 Z\" fill=\"#000000\" fill-rule=\"evenodd\" fill-opacity=\"1\" /><path clip-path=\"url(#clip970)\" d=\"M1063.69 1540.29 L1080.84 1540.29 L1080.84 1545.51 L1063.69 1545.51 L1063.69 1540.29 Z\" fill=\"#000000\" fill-rule=\"evenodd\" fill-opacity=\"1\" /><path clip-path=\"url(#clip970)\" d=\"M1116.68 1514.99 L1116.68 1525.11 L1128.74 1525.11 L1128.74 1529.66 L1116.68 1529.66 L1116.68 1549.01 Q1116.68 1553.37 1117.86 1554.62 Q1119.07 1555.86 1122.73 1555.86 L1128.74 1555.86 L1128.74 1560.76 L1122.73 1560.76 Q1115.95 1560.76 1113.37 1558.24 Q1110.79 1555.7 1110.79 1549.01 L1110.79 1529.66 L1106.5 1529.66 L1106.5 1525.11 L1110.79 1525.11 L1110.79 1514.99 L1116.68 1514.99 Z\" fill=\"#000000\" fill-rule=\"evenodd\" fill-opacity=\"1\" /><path clip-path=\"url(#clip970)\" d=\"M1152.65 1542.84 Q1145.55 1542.84 1142.81 1544.46 Q1140.07 1546.09 1140.07 1550 Q1140.07 1553.12 1142.11 1554.97 Q1144.18 1556.78 1147.71 1556.78 Q1152.58 1556.78 1155.51 1553.34 Q1158.47 1549.87 1158.47 1544.14 L1158.47 1542.84 L1152.65 1542.84 M1164.33 1540.42 L1164.33 1560.76 L1158.47 1560.76 L1158.47 1555.35 Q1156.47 1558.59 1153.47 1560.15 Q1150.48 1561.68 1146.15 1561.68 Q1140.68 1561.68 1137.43 1558.63 Q1134.22 1555.54 1134.22 1550.38 Q1134.22 1544.37 1138.23 1541.31 Q1142.27 1538.26 1150.26 1538.26 L1158.47 1538.26 L1158.47 1537.68 Q1158.47 1533.64 1155.8 1531.44 Q1153.16 1529.22 1148.35 1529.22 Q1145.29 1529.22 1142.4 1529.95 Q1139.5 1530.68 1136.83 1532.14 L1136.83 1526.73 Q1140.04 1525.49 1143.07 1524.89 Q1146.09 1524.25 1148.96 1524.25 Q1156.69 1524.25 1160.51 1528.26 Q1164.33 1532.27 1164.33 1540.42 Z\" fill=\"#000000\" fill-rule=\"evenodd\" fill-opacity=\"1\" /><path clip-path=\"url(#clip970)\" d=\"M1199.85 1542.52 Q1199.85 1536.15 1197.21 1532.65 Q1194.6 1529.15 1189.85 1529.15 Q1185.14 1529.15 1182.5 1532.65 Q1179.89 1536.15 1179.89 1542.52 Q1179.89 1548.85 1182.5 1552.36 Q1185.14 1555.86 1189.85 1555.86 Q1194.6 1555.86 1197.21 1552.36 Q1199.85 1548.85 1199.85 1542.52 M1205.71 1556.33 Q1205.71 1565.44 1201.66 1569.86 Q1197.62 1574.32 1189.28 1574.32 Q1186.19 1574.32 1183.46 1573.84 Q1180.72 1573.39 1178.14 1572.44 L1178.14 1566.74 Q1180.72 1568.14 1183.23 1568.81 Q1185.75 1569.48 1188.36 1569.48 Q1194.12 1569.48 1196.98 1566.46 Q1199.85 1563.46 1199.85 1557.38 L1199.85 1554.49 Q1198.03 1557.64 1195.2 1559.2 Q1192.37 1560.76 1188.42 1560.76 Q1181.87 1560.76 1177.86 1555.76 Q1173.85 1550.76 1173.85 1542.52 Q1173.85 1534.25 1177.86 1529.25 Q1181.87 1524.25 1188.42 1524.25 Q1192.37 1524.25 1195.2 1525.81 Q1198.03 1527.37 1199.85 1530.52 L1199.85 1525.11 L1205.71 1525.11 L1205.71 1556.33 Z\" fill=\"#000000\" fill-rule=\"evenodd\" fill-opacity=\"1\" /><path clip-path=\"url(#clip970)\" d=\"M1256.54 1511.23 L1256.54 1516.1 L1250.93 1516.1 Q1247.78 1516.1 1246.54 1517.38 Q1245.33 1518.65 1245.33 1521.96 L1245.33 1525.11 L1254.98 1525.11 L1254.98 1529.66 L1245.33 1529.66 L1245.33 1560.76 L1239.44 1560.76 L1239.44 1529.66 L1233.84 1529.66 L1233.84 1525.11 L1239.44 1525.11 L1239.44 1522.63 Q1239.44 1516.68 1242.21 1513.97 Q1244.98 1511.23 1251 1511.23 L1256.54 1511.23 Z\" fill=\"#000000\" fill-rule=\"evenodd\" fill-opacity=\"1\" /><path clip-path=\"url(#clip970)\" d=\"M1275.25 1529.22 Q1270.54 1529.22 1267.8 1532.91 Q1265.07 1536.57 1265.07 1542.97 Q1265.07 1549.36 1267.77 1553.06 Q1270.51 1556.72 1275.25 1556.72 Q1279.93 1556.72 1282.67 1553.02 Q1285.4 1549.33 1285.4 1542.97 Q1285.4 1536.63 1282.67 1532.94 Q1279.93 1529.22 1275.25 1529.22 M1275.25 1524.25 Q1282.89 1524.25 1287.25 1529.22 Q1291.61 1534.18 1291.61 1542.97 Q1291.61 1551.72 1287.25 1556.72 Q1282.89 1561.68 1275.25 1561.68 Q1267.58 1561.68 1263.22 1556.72 Q1258.89 1551.72 1258.89 1542.97 Q1258.89 1534.18 1263.22 1529.22 Q1267.58 1524.25 1275.25 1524.25 Z\" fill=\"#000000\" fill-rule=\"evenodd\" fill-opacity=\"1\" /><path clip-path=\"url(#clip970)\" d=\"M1321.98 1530.58 Q1320.99 1530.01 1319.81 1529.76 Q1318.66 1529.47 1317.26 1529.47 Q1312.3 1529.47 1309.63 1532.72 Q1306.98 1535.93 1306.98 1541.98 L1306.98 1560.76 L1301.1 1560.76 L1301.1 1525.11 L1306.98 1525.11 L1306.98 1530.65 Q1308.83 1527.4 1311.79 1525.84 Q1314.75 1524.25 1318.98 1524.25 Q1319.59 1524.25 1320.32 1524.35 Q1321.05 1524.41 1321.94 1524.57 L1321.98 1530.58 Z\" fill=\"#000000\" fill-rule=\"evenodd\" fill-opacity=\"1\" /><path clip-path=\"url(#clip970)\" d=\"M1379.33 1541.47 L1379.33 1544.33 L1352.4 1544.33 Q1352.79 1550.38 1356.03 1553.57 Q1359.31 1556.72 1365.13 1556.72 Q1368.51 1556.72 1371.66 1555.89 Q1374.84 1555.06 1377.96 1553.41 L1377.96 1558.94 Q1374.81 1560.28 1371.5 1560.98 Q1368.19 1561.68 1364.78 1561.68 Q1356.25 1561.68 1351.26 1556.72 Q1346.29 1551.75 1346.29 1543.28 Q1346.29 1534.53 1351 1529.41 Q1355.75 1524.25 1363.77 1524.25 Q1370.96 1524.25 1375.13 1528.9 Q1379.33 1533.51 1379.33 1541.47 M1373.47 1539.75 Q1373.41 1534.95 1370.77 1532.08 Q1368.16 1529.22 1363.83 1529.22 Q1358.93 1529.22 1355.97 1531.99 Q1353.04 1534.75 1352.59 1539.78 L1373.47 1539.75 Z\" fill=\"#000000\" fill-rule=\"evenodd\" fill-opacity=\"1\" /><path clip-path=\"url(#clip970)\" d=\"M1418.57 1539.24 L1418.57 1560.76 L1412.72 1560.76 L1412.72 1539.43 Q1412.72 1534.37 1410.74 1531.86 Q1408.77 1529.34 1404.82 1529.34 Q1400.08 1529.34 1397.35 1532.37 Q1394.61 1535.39 1394.61 1540.61 L1394.61 1560.76 L1388.72 1560.76 L1388.72 1525.11 L1394.61 1525.11 L1394.61 1530.65 Q1396.71 1527.43 1399.54 1525.84 Q1402.41 1524.25 1406.13 1524.25 Q1412.27 1524.25 1415.42 1528.07 Q1418.57 1531.86 1418.57 1539.24 Z\" fill=\"#000000\" fill-rule=\"evenodd\" fill-opacity=\"1\" /><path clip-path=\"url(#clip970)\" d=\"M1460.75 1541.47 L1460.75 1544.33 L1433.82 1544.33 Q1434.2 1550.38 1437.45 1553.57 Q1440.73 1556.72 1446.55 1556.72 Q1449.93 1556.72 1453.08 1555.89 Q1456.26 1555.06 1459.38 1553.41 L1459.38 1558.94 Q1456.23 1560.28 1452.92 1560.98 Q1449.61 1561.68 1446.2 1561.68 Q1437.67 1561.68 1432.67 1556.72 Q1427.71 1551.75 1427.71 1543.28 Q1427.71 1534.53 1432.42 1529.41 Q1437.16 1524.25 1445.18 1524.25 Q1452.38 1524.25 1456.55 1528.9 Q1460.75 1533.51 1460.75 1541.47 M1454.89 1539.75 Q1454.83 1534.95 1452.19 1532.08 Q1449.58 1529.22 1445.25 1529.22 Q1440.35 1529.22 1437.39 1531.99 Q1434.46 1534.75 1434.01 1539.78 L1454.89 1539.75 Z\" fill=\"#000000\" fill-rule=\"evenodd\" fill-opacity=\"1\" /><path clip-path=\"url(#clip970)\" d=\"M1491.02 1530.58 Q1490.03 1530.01 1488.85 1529.76 Q1487.71 1529.47 1486.31 1529.47 Q1481.34 1529.47 1478.67 1532.72 Q1476.03 1535.93 1476.03 1541.98 L1476.03 1560.76 L1470.14 1560.76 L1470.14 1525.11 L1476.03 1525.11 L1476.03 1530.65 Q1477.87 1527.4 1480.83 1525.84 Q1483.79 1524.25 1488.02 1524.25 Q1488.63 1524.25 1489.36 1524.35 Q1490.09 1524.41 1490.98 1524.57 L1491.02 1530.58 Z\" fill=\"#000000\" fill-rule=\"evenodd\" fill-opacity=\"1\" /><path clip-path=\"url(#clip970)\" d=\"M1519.47 1542.52 Q1519.47 1536.15 1516.83 1532.65 Q1514.22 1529.15 1509.48 1529.15 Q1504.77 1529.15 1502.12 1532.65 Q1499.51 1536.15 1499.51 1542.52 Q1499.51 1548.85 1502.12 1552.36 Q1504.77 1555.86 1509.48 1555.86 Q1514.22 1555.86 1516.83 1552.36 Q1519.47 1548.85 1519.47 1542.52 M1525.33 1556.33 Q1525.33 1565.44 1521.29 1569.86 Q1517.24 1574.32 1508.9 1574.32 Q1505.82 1574.32 1503.08 1573.84 Q1500.34 1573.39 1497.76 1572.44 L1497.76 1566.74 Q1500.34 1568.14 1502.86 1568.81 Q1505.37 1569.48 1507.98 1569.48 Q1513.74 1569.48 1516.61 1566.46 Q1519.47 1563.46 1519.47 1557.38 L1519.47 1554.49 Q1517.66 1557.64 1514.82 1559.2 Q1511.99 1560.76 1508.04 1560.76 Q1501.49 1560.76 1497.48 1555.76 Q1493.47 1550.76 1493.47 1542.52 Q1493.47 1534.25 1497.48 1529.25 Q1501.49 1524.25 1508.04 1524.25 Q1511.99 1524.25 1514.82 1525.81 Q1517.66 1527.37 1519.47 1530.52 L1519.47 1525.11 L1525.33 1525.11 L1525.33 1556.33 Z\" fill=\"#000000\" fill-rule=\"evenodd\" fill-opacity=\"1\" /><path clip-path=\"url(#clip970)\" d=\"M1552.22 1564.07 Q1549.74 1570.43 1547.38 1572.38 Q1545.03 1574.32 1541.08 1574.32 L1536.4 1574.32 L1536.4 1569.42 L1539.84 1569.42 Q1542.26 1569.42 1543.6 1568.27 Q1544.93 1567.12 1546.56 1562.86 L1547.61 1560.19 L1533.19 1525.11 L1539.4 1525.11 L1550.54 1552.99 L1561.68 1525.11 L1567.88 1525.11 L1552.22 1564.07 Z\" fill=\"#000000\" fill-rule=\"evenodd\" fill-opacity=\"1\" /><polyline clip-path=\"url(#clip972)\" style=\"stroke:#000000; stroke-linecap:round; stroke-linejoin:round; stroke-width:2; stroke-opacity:0.1; fill:none\" points=\"\n  232.389,1239.75 2352.76,1239.75 \n  \"/>\n<polyline clip-path=\"url(#clip972)\" style=\"stroke:#000000; stroke-linecap:round; stroke-linejoin:round; stroke-width:2; stroke-opacity:0.1; fill:none\" points=\"\n  232.389,947.552 2352.76,947.552 \n  \"/>\n<polyline clip-path=\"url(#clip972)\" style=\"stroke:#000000; stroke-linecap:round; stroke-linejoin:round; stroke-width:2; stroke-opacity:0.1; fill:none\" points=\"\n  232.389,655.352 2352.76,655.352 \n  \"/>\n<polyline clip-path=\"url(#clip972)\" style=\"stroke:#000000; stroke-linecap:round; stroke-linejoin:round; stroke-width:2; stroke-opacity:0.1; fill:none\" points=\"\n  232.389,363.153 2352.76,363.153 \n  \"/>\n<polyline clip-path=\"url(#clip972)\" style=\"stroke:#000000; stroke-linecap:round; stroke-linejoin:round; stroke-width:2; stroke-opacity:0.1; fill:none\" points=\"\n  232.389,70.9536 2352.76,70.9536 \n  \"/>\n<polyline clip-path=\"url(#clip970)\" style=\"stroke:#000000; stroke-linecap:round; stroke-linejoin:round; stroke-width:4; stroke-opacity:1; fill:none\" points=\"\n  232.389,1423.18 232.389,47.2441 \n  \"/>\n<polyline clip-path=\"url(#clip970)\" style=\"stroke:#000000; stroke-linecap:round; stroke-linejoin:round; stroke-width:4; stroke-opacity:1; fill:none\" points=\"\n  232.389,1239.75 251.287,1239.75 \n  \"/>\n<polyline clip-path=\"url(#clip970)\" style=\"stroke:#000000; stroke-linecap:round; stroke-linejoin:round; stroke-width:4; stroke-opacity:1; fill:none\" points=\"\n  232.389,947.552 251.287,947.552 \n  \"/>\n<polyline clip-path=\"url(#clip970)\" style=\"stroke:#000000; stroke-linecap:round; stroke-linejoin:round; stroke-width:4; stroke-opacity:1; fill:none\" points=\"\n  232.389,655.352 251.287,655.352 \n  \"/>\n<polyline clip-path=\"url(#clip970)\" style=\"stroke:#000000; stroke-linecap:round; stroke-linejoin:round; stroke-width:4; stroke-opacity:1; fill:none\" points=\"\n  232.389,363.153 251.287,363.153 \n  \"/>\n<polyline clip-path=\"url(#clip970)\" style=\"stroke:#000000; stroke-linecap:round; stroke-linejoin:round; stroke-width:4; stroke-opacity:1; fill:none\" points=\"\n  232.389,70.9536 251.287,70.9536 \n  \"/>\n<path clip-path=\"url(#clip970)\" d=\"M148.311 1253.1 L164.63 1253.1 L164.63 1257.03 L142.686 1257.03 L142.686 1253.1 Q145.348 1250.34 149.931 1245.71 Q154.538 1241.06 155.718 1239.72 Q157.964 1237.19 158.843 1235.46 Q159.746 1233.7 159.746 1232.01 Q159.746 1229.25 157.802 1227.52 Q155.88 1225.78 152.778 1225.78 Q150.579 1225.78 148.126 1226.55 Q145.695 1227.31 142.917 1228.86 L142.917 1224.14 Q145.741 1223 148.195 1222.42 Q150.649 1221.85 152.686 1221.85 Q158.056 1221.85 161.251 1224.53 Q164.445 1227.22 164.445 1231.71 Q164.445 1233.84 163.635 1235.76 Q162.848 1237.66 160.741 1240.25 Q160.163 1240.92 157.061 1244.14 Q153.959 1247.33 148.311 1253.1 Z\" fill=\"#000000\" fill-rule=\"evenodd\" fill-opacity=\"1\" /><path clip-path=\"url(#clip970)\" d=\"M184.445 1225.55 Q180.834 1225.55 179.005 1229.11 Q177.2 1232.66 177.2 1239.79 Q177.2 1246.89 179.005 1250.46 Q180.834 1254 184.445 1254 Q188.079 1254 189.885 1250.46 Q191.713 1246.89 191.713 1239.79 Q191.713 1232.66 189.885 1229.11 Q188.079 1225.55 184.445 1225.55 M184.445 1221.85 Q190.255 1221.85 193.311 1226.45 Q196.389 1231.04 196.389 1239.79 Q196.389 1248.51 193.311 1253.12 Q190.255 1257.7 184.445 1257.7 Q178.635 1257.7 175.556 1253.12 Q172.501 1248.51 172.501 1239.79 Q172.501 1231.04 175.556 1226.45 Q178.635 1221.85 184.445 1221.85 Z\" fill=\"#000000\" fill-rule=\"evenodd\" fill-opacity=\"1\" /><path clip-path=\"url(#clip970)\" d=\"M157.13 934.346 L145.325 952.795 L157.13 952.795 L157.13 934.346 M155.903 930.272 L161.783 930.272 L161.783 952.795 L166.714 952.795 L166.714 956.684 L161.783 956.684 L161.783 964.832 L157.13 964.832 L157.13 956.684 L141.529 956.684 L141.529 952.17 L155.903 930.272 Z\" fill=\"#000000\" fill-rule=\"evenodd\" fill-opacity=\"1\" /><path clip-path=\"url(#clip970)\" d=\"M184.445 933.351 Q180.834 933.351 179.005 936.915 Q177.2 940.457 177.2 947.587 Q177.2 954.693 179.005 958.258 Q180.834 961.799 184.445 961.799 Q188.079 961.799 189.885 958.258 Q191.713 954.693 191.713 947.587 Q191.713 940.457 189.885 936.915 Q188.079 933.351 184.445 933.351 M184.445 929.647 Q190.255 929.647 193.311 934.253 Q196.389 938.837 196.389 947.587 Q196.389 956.313 193.311 960.92 Q190.255 965.503 184.445 965.503 Q178.635 965.503 175.556 960.92 Q172.501 956.313 172.501 947.587 Q172.501 938.837 175.556 934.253 Q178.635 929.647 184.445 929.647 Z\" fill=\"#000000\" fill-rule=\"evenodd\" fill-opacity=\"1\" /><path clip-path=\"url(#clip970)\" d=\"M154.862 653.489 Q151.714 653.489 149.862 655.642 Q148.033 657.795 148.033 661.545 Q148.033 665.271 149.862 667.447 Q151.714 669.6 154.862 669.6 Q158.01 669.6 159.839 667.447 Q161.69 665.271 161.69 661.545 Q161.69 657.795 159.839 655.642 Q158.01 653.489 154.862 653.489 M164.144 638.836 L164.144 643.096 Q162.385 642.262 160.579 641.822 Q158.797 641.383 157.038 641.383 Q152.408 641.383 149.954 644.508 Q147.524 647.633 147.177 653.952 Q148.542 651.938 150.603 650.873 Q152.663 649.785 155.14 649.785 Q160.348 649.785 163.357 652.957 Q166.39 656.105 166.39 661.545 Q166.39 666.869 163.241 670.086 Q160.093 673.304 154.862 673.304 Q148.866 673.304 145.695 668.72 Q142.524 664.114 142.524 655.387 Q142.524 647.193 146.413 642.332 Q150.302 637.447 156.853 637.447 Q158.612 637.447 160.394 637.795 Q162.2 638.142 164.144 638.836 Z\" fill=\"#000000\" fill-rule=\"evenodd\" fill-opacity=\"1\" /><path clip-path=\"url(#clip970)\" d=\"M184.445 641.151 Q180.834 641.151 179.005 644.716 Q177.2 648.258 177.2 655.387 Q177.2 662.494 179.005 666.058 Q180.834 669.6 184.445 669.6 Q188.079 669.6 189.885 666.058 Q191.713 662.494 191.713 655.387 Q191.713 648.258 189.885 644.716 Q188.079 641.151 184.445 641.151 M184.445 637.447 Q190.255 637.447 193.311 642.054 Q196.389 646.637 196.389 655.387 Q196.389 664.114 193.311 668.72 Q190.255 673.304 184.445 673.304 Q178.635 673.304 175.556 668.72 Q172.501 664.114 172.501 655.387 Q172.501 646.637 175.556 642.054 Q178.635 637.447 184.445 637.447 Z\" fill=\"#000000\" fill-rule=\"evenodd\" fill-opacity=\"1\" /><path clip-path=\"url(#clip970)\" d=\"M154.283 364.021 Q150.95 364.021 149.028 365.803 Q147.13 367.586 147.13 370.711 Q147.13 373.836 149.028 375.618 Q150.95 377.401 154.283 377.401 Q157.616 377.401 159.538 375.618 Q161.459 373.813 161.459 370.711 Q161.459 367.586 159.538 365.803 Q157.64 364.021 154.283 364.021 M149.607 362.03 Q146.598 361.29 144.908 359.229 Q143.241 357.169 143.241 354.206 Q143.241 350.063 146.181 347.655 Q149.144 345.248 154.283 345.248 Q159.445 345.248 162.385 347.655 Q165.325 350.063 165.325 354.206 Q165.325 357.169 163.635 359.229 Q161.968 361.29 158.982 362.03 Q162.362 362.817 164.237 365.109 Q166.135 367.401 166.135 370.711 Q166.135 375.734 163.056 378.419 Q160.001 381.104 154.283 381.104 Q148.566 381.104 145.487 378.419 Q142.431 375.734 142.431 370.711 Q142.431 367.401 144.329 365.109 Q146.228 362.817 149.607 362.03 M147.894 354.646 Q147.894 357.331 149.561 358.836 Q151.251 360.341 154.283 360.341 Q157.292 360.341 158.982 358.836 Q160.695 357.331 160.695 354.646 Q160.695 351.961 158.982 350.456 Q157.292 348.952 154.283 348.952 Q151.251 348.952 149.561 350.456 Q147.894 351.961 147.894 354.646 Z\" fill=\"#000000\" fill-rule=\"evenodd\" fill-opacity=\"1\" /><path clip-path=\"url(#clip970)\" d=\"M184.445 348.952 Q180.834 348.952 179.005 352.516 Q177.2 356.058 177.2 363.188 Q177.2 370.294 179.005 373.859 Q180.834 377.401 184.445 377.401 Q188.079 377.401 189.885 373.859 Q191.713 370.294 191.713 363.188 Q191.713 356.058 189.885 352.516 Q188.079 348.952 184.445 348.952 M184.445 345.248 Q190.255 345.248 193.311 349.854 Q196.389 354.438 196.389 363.188 Q196.389 371.915 193.311 376.521 Q190.255 381.104 184.445 381.104 Q178.635 381.104 175.556 376.521 Q172.501 371.915 172.501 363.188 Q172.501 354.438 175.556 349.854 Q178.635 345.248 184.445 345.248 Z\" fill=\"#000000\" fill-rule=\"evenodd\" fill-opacity=\"1\" /><path clip-path=\"url(#clip970)\" d=\"M114.931 84.2984 L122.57 84.2984 L122.57 57.9328 L114.26 59.5995 L114.26 55.3402 L122.524 53.6736 L127.2 53.6736 L127.2 84.2984 L134.839 84.2984 L134.839 88.2336 L114.931 88.2336 L114.931 84.2984 Z\" fill=\"#000000\" fill-rule=\"evenodd\" fill-opacity=\"1\" /><path clip-path=\"url(#clip970)\" d=\"M154.283 56.7523 Q150.672 56.7523 148.843 60.317 Q147.038 63.8587 147.038 70.9883 Q147.038 78.0947 148.843 81.6595 Q150.672 85.2012 154.283 85.2012 Q157.917 85.2012 159.723 81.6595 Q161.552 78.0947 161.552 70.9883 Q161.552 63.8587 159.723 60.317 Q157.917 56.7523 154.283 56.7523 M154.283 53.0486 Q160.093 53.0486 163.149 57.655 Q166.227 62.2383 166.227 70.9883 Q166.227 79.7151 163.149 84.3216 Q160.093 88.9049 154.283 88.9049 Q148.473 88.9049 145.394 84.3216 Q142.339 79.7151 142.339 70.9883 Q142.339 62.2383 145.394 57.655 Q148.473 53.0486 154.283 53.0486 Z\" fill=\"#000000\" fill-rule=\"evenodd\" fill-opacity=\"1\" /><path clip-path=\"url(#clip970)\" d=\"M184.445 56.7523 Q180.834 56.7523 179.005 60.317 Q177.2 63.8587 177.2 70.9883 Q177.2 78.0947 179.005 81.6595 Q180.834 85.2012 184.445 85.2012 Q188.079 85.2012 189.885 81.6595 Q191.713 78.0947 191.713 70.9883 Q191.713 63.8587 189.885 60.317 Q188.079 56.7523 184.445 56.7523 M184.445 53.0486 Q190.255 53.0486 193.311 57.655 Q196.389 62.2383 196.389 70.9883 Q196.389 79.7151 193.311 84.3216 Q190.255 88.9049 184.445 88.9049 Q178.635 88.9049 175.556 84.3216 Q172.501 79.7151 172.501 70.9883 Q172.501 62.2383 175.556 57.655 Q178.635 53.0486 184.445 53.0486 Z\" fill=\"#000000\" fill-rule=\"evenodd\" fill-opacity=\"1\" /><path clip-path=\"url(#clip970)\" d=\"M19.5813 869.821 L30.9821 871.142 Q32.0127 871.239 32.3348 871.4 Q32.6246 871.561 32.6246 872.076 Q32.6246 872.462 32.3992 872.688 Q32.1416 872.881 31.8517 872.881 Q31.6907 872.881 31.272 872.849 Q30.8533 872.817 30.6601 872.817 Q28.6633 872.527 27.1496 872.527 Q24.3477 872.527 22.8341 873.364 Q21.2882 874.201 20.5796 876.359 Q19.8389 878.517 19.8389 882.575 L19.8389 891.85 Q19.8389 893.976 20.2254 894.491 Q20.6119 894.974 22.4154 895.425 L38.2929 899.386 L38.2929 893.171 Q38.2929 890.852 38.003 889.467 Q37.7132 888.05 36.908 887.116 Q36.0707 886.15 34.9435 885.635 Q33.8163 885.087 31.7873 884.54 Q31.111 884.379 30.8533 884.218 Q30.5957 884.024 30.5957 883.606 Q30.5957 883.284 30.8211 883.058 Q31.0143 882.833 31.3042 882.833 L46.7308 886.601 Q47.5037 886.794 47.7936 886.987 Q48.0512 887.18 48.0512 887.567 Q48.0512 887.986 47.8258 888.211 Q47.6004 888.436 47.3427 888.436 Q47.0851 888.436 46.602 888.243 Q44.5086 887.76 43.3814 887.76 Q42.7373 887.76 42.4152 887.825 Q42.0932 887.857 41.6423 888.147 Q41.1592 888.404 40.9338 888.984 Q40.7083 889.564 40.5473 890.659 Q40.354 891.754 40.354 893.396 L40.354 899.902 L58.3571 904.411 Q59.5487 904.733 59.8708 904.733 Q60.2251 904.733 60.3539 904.572 Q60.4505 904.378 60.5149 903.863 Q60.6115 903.283 60.6115 902.414 L60.6115 892.784 Q60.6115 890.659 60.4183 888.952 Q60.2251 887.245 59.742 885.828 Q59.2589 884.379 58.7114 883.284 Q58.1639 882.189 57.1655 881.158 Q56.1349 880.127 55.2332 879.419 Q54.2992 878.678 52.7211 877.809 Q51.143 876.939 49.8548 876.327 Q48.5343 875.715 46.4087 874.781 Q45.6358 874.524 45.6358 873.912 Q45.6358 873.557 45.829 873.364 Q45.9901 873.171 46.1511 873.139 L46.3443 873.139 Q46.9562 873.332 47.2783 873.461 L61.5133 879.515 Q62.3184 879.87 62.4795 880.16 Q62.6405 880.449 62.6405 881.577 L62.6405 915.811 Q62.6405 916.584 62.6083 916.906 Q62.5761 917.196 62.4151 917.422 Q62.2218 917.647 61.8354 917.647 Q61.2234 917.647 60.9658 917.39 Q60.6759 917.132 60.6437 916.842 Q60.6115 916.552 60.6115 915.811 Q60.6115 914.201 60.5149 913.235 Q60.4183 912.269 60.2895 911.657 Q60.1284 911.013 59.6776 910.691 Q59.2267 910.336 58.8402 910.175 Q58.4215 910.014 57.4876 909.789 L22.6086 901.093 Q21.417 900.771 21.0305 900.771 Q20.6119 900.771 20.3542 901.061 Q20.0966 901.319 19.9999 902.027 Q19.8711 902.736 19.8711 903.316 Q19.8389 903.863 19.8389 905.055 Q19.8389 905.828 19.8067 906.15 Q19.7745 906.44 19.6135 906.665 Q19.4524 906.89 19.0982 906.89 Q18.1964 906.89 18.0032 906.504 Q17.7777 906.085 17.7777 904.926 L17.7777 871.625 Q17.7777 870.305 18.0676 870.015 Q18.3252 869.693 19.5813 869.821 Z\" fill=\"#000000\" fill-rule=\"evenodd\" fill-opacity=\"1\" /><path clip-path=\"url(#clip970)\" d=\"M51.9228 851.332 Q52.9147 851.332 53.6587 852.144 Q54.3801 852.933 54.3801 853.79 Q54.3801 854.579 53.9067 855.075 Q53.4107 855.548 52.7118 855.548 Q51.7875 855.548 51.021 854.759 Q50.2545 853.97 50.2545 853.046 Q50.2545 852.279 50.728 851.806 Q51.2014 851.332 51.9228 851.332 M74.1738 850.926 Q74.3542 850.926 75.0756 851.129 Q75.7745 851.332 76.8566 851.828 Q77.9162 852.302 78.9081 852.955 Q79.9 853.609 80.5989 854.691 Q81.2978 855.751 81.2978 856.968 Q81.2978 858.614 80.2156 859.696 Q79.1335 860.756 77.5104 860.756 Q76.6311 860.756 73.8131 859.696 Q65.6071 856.63 65.2689 856.517 Q63.9839 855.999 62.8567 855.999 Q62.3382 855.999 62.0226 856.112 Q61.6844 856.224 61.5717 856.45 Q61.4364 856.675 61.4139 856.81 Q61.3913 856.923 61.3913 857.149 Q61.3913 858.479 62.744 859.719 Q64.0966 860.959 67.1175 861.815 Q67.6811 861.996 67.8164 862.108 Q67.9517 862.221 67.9517 862.559 Q67.9291 863.123 67.4782 863.123 Q67.343 863.123 66.8245 862.965 Q66.2834 862.807 65.4718 862.514 Q64.6377 862.221 63.781 861.703 Q62.9018 861.184 62.1353 860.553 Q61.3688 859.899 60.8728 858.975 Q60.3768 858.05 60.3768 857.013 Q60.3768 855.323 61.4815 854.286 Q62.5636 853.226 64.1642 853.226 Q65.0435 853.226 66.599 853.835 Q68.628 854.579 69.2818 854.849 L74.1287 856.653 Q75.8872 857.306 76.4282 857.509 Q76.9468 857.69 77.578 857.848 Q78.1867 857.983 78.7503 857.983 Q79.5393 857.983 79.9 857.735 Q80.2607 857.464 80.2607 856.878 Q80.2607 855.255 78.6601 854.06 Q77.0369 852.865 74.5571 852.166 Q74.4894 852.144 74.3767 852.121 Q73.8131 851.941 73.7455 851.761 Q73.7229 851.67 73.7229 851.49 Q73.7229 850.926 74.1738 850.926 Z\" fill=\"#000000\" fill-rule=\"evenodd\" fill-opacity=\"1\" /><path clip-path=\"url(#clip970)\" d=\"M42.1748 820.105 L42.1748 802.949 L47.3946 802.949 L47.3946 820.105 L42.1748 820.105 Z\" fill=\"#000000\" fill-rule=\"evenodd\" fill-opacity=\"1\" /><path clip-path=\"url(#clip970)\" d=\"M15.1205 772.648 L15.1205 742.602 L20.5314 742.602 L20.5314 766.219 L34.5996 766.219 L34.5996 743.589 L40.0104 743.589 L40.0104 766.219 L57.2297 766.219 L57.2297 742.029 L62.6405 742.029 L62.6405 772.648 L15.1205 772.648 Z\" fill=\"#000000\" fill-rule=\"evenodd\" fill-opacity=\"1\" /><path clip-path=\"url(#clip970)\" d=\"M41.1244 702.084 L62.6405 702.084 L62.6405 707.941 L41.3154 707.941 Q36.2546 707.941 33.7402 709.914 Q31.2257 711.888 31.2257 715.834 Q31.2257 720.577 34.2494 723.314 Q37.2732 726.051 42.493 726.051 L62.6405 726.051 L62.6405 731.94 L26.9925 731.94 L26.9925 726.051 L32.5307 726.051 Q29.316 723.951 27.7246 721.118 Q26.1332 718.253 26.1332 714.529 Q26.1332 708.386 29.9526 705.235 Q33.7402 702.084 41.1244 702.084 Z\" fill=\"#000000\" fill-rule=\"evenodd\" fill-opacity=\"1\" /><path clip-path=\"url(#clip970)\" d=\"M43.3524 659.912 L46.217 659.912 L46.217 686.839 Q52.2644 686.457 55.4473 683.21 Q58.5983 679.932 58.5983 674.107 Q58.5983 670.733 57.7707 667.582 Q56.9432 664.399 55.2881 661.28 L60.8263 661.28 Q62.1631 664.431 62.8633 667.741 Q63.5635 671.052 63.5635 674.457 Q63.5635 682.987 58.5983 687.984 Q53.633 692.95 45.1666 692.95 Q36.4138 692.95 31.2894 688.239 Q26.1332 683.497 26.1332 675.476 Q26.1332 668.282 30.7801 664.113 Q35.3953 659.912 43.3524 659.912 M41.6337 665.768 Q36.8276 665.832 33.963 668.473 Q31.0984 671.083 31.0984 675.412 Q31.0984 680.314 33.8675 683.274 Q36.6366 686.202 41.6655 686.648 L41.6337 665.768 Z\" fill=\"#000000\" fill-rule=\"evenodd\" fill-opacity=\"1\" /><path clip-path=\"url(#clip970)\" d=\"M32.4671 629.643 Q31.8941 630.629 31.6395 631.807 Q31.3531 632.953 31.3531 634.353 Q31.3531 639.319 34.5996 641.992 Q37.8142 644.634 43.8617 644.634 L62.6405 644.634 L62.6405 650.522 L26.9925 650.522 L26.9925 644.634 L32.5307 644.634 Q29.2842 642.788 27.7246 639.828 Q26.1332 636.868 26.1332 632.635 Q26.1332 632.03 26.2287 631.298 Q26.2923 630.566 26.4515 629.674 L32.4671 629.643 Z\" fill=\"#000000\" fill-rule=\"evenodd\" fill-opacity=\"1\" /><path clip-path=\"url(#clip970)\" d=\"M44.4028 601.188 Q38.037 601.188 34.5359 603.83 Q31.0348 606.44 31.0348 611.182 Q31.0348 615.893 34.5359 618.534 Q38.037 621.144 44.4028 621.144 Q50.7366 621.144 54.2378 618.534 Q57.7389 615.893 57.7389 611.182 Q57.7389 606.44 54.2378 603.83 Q50.7366 601.188 44.4028 601.188 M58.2163 595.331 Q67.3193 595.331 71.7435 599.374 Q76.1995 603.416 76.1995 611.755 Q76.1995 614.842 75.722 617.58 Q75.2764 620.317 74.3216 622.895 L68.6243 622.895 Q70.0247 620.317 70.6931 617.802 Q71.3615 615.288 71.3615 612.678 Q71.3615 606.917 68.3378 604.053 Q65.3459 601.188 59.2667 601.188 L56.3703 601.188 Q59.5213 603.002 61.0809 605.835 Q62.6405 608.668 62.6405 612.614 Q62.6405 619.171 57.6434 623.181 Q52.6463 627.192 44.4028 627.192 Q36.1273 627.192 31.1303 623.181 Q26.1332 619.171 26.1332 612.614 Q26.1332 608.668 27.6928 605.835 Q29.2524 603.002 32.4034 601.188 L26.9925 601.188 L26.9925 595.331 L58.2163 595.331 Z\" fill=\"#000000\" fill-rule=\"evenodd\" fill-opacity=\"1\" /><path clip-path=\"url(#clip970)\" d=\"M65.9507 568.436 Q72.3164 570.919 74.2579 573.274 Q76.1995 575.63 76.1995 579.576 L76.1995 584.255 L71.2979 584.255 L71.2979 580.818 Q71.2979 578.399 70.152 577.062 Q69.0062 575.725 64.7412 574.102 L62.0676 573.052 L26.9925 587.47 L26.9925 581.263 L54.8743 570.123 L26.9925 558.983 L26.9925 552.777 L65.9507 568.436 Z\" fill=\"#000000\" fill-rule=\"evenodd\" fill-opacity=\"1\" /><circle clip-path=\"url(#clip972)\" cx=\"292.4\" cy=\"1384.24\" r=\"14.4\" fill=\"#009af9\" fill-rule=\"evenodd\" fill-opacity=\"1\" stroke=\"#000000\" stroke-opacity=\"1\" stroke-width=\"3.2\"/>\n<circle clip-path=\"url(#clip972)\" cx=\"474.249\" cy=\"1167.95\" r=\"14.4\" fill=\"#009af9\" fill-rule=\"evenodd\" fill-opacity=\"1\" stroke=\"#000000\" stroke-opacity=\"1\" stroke-width=\"3.2\"/>\n<circle clip-path=\"url(#clip972)\" cx=\"656.099\" cy=\"1167.66\" r=\"14.4\" fill=\"#009af9\" fill-rule=\"evenodd\" fill-opacity=\"1\" stroke=\"#000000\" stroke-opacity=\"1\" stroke-width=\"3.2\"/>\n<circle clip-path=\"url(#clip972)\" cx=\"837.949\" cy=\"951.366\" r=\"14.4\" fill=\"#009af9\" fill-rule=\"evenodd\" fill-opacity=\"1\" stroke=\"#000000\" stroke-opacity=\"1\" stroke-width=\"3.2\"/>\n<circle clip-path=\"url(#clip972)\" cx=\"1019.8\" cy=\"807.457\" r=\"14.4\" fill=\"#009af9\" fill-rule=\"evenodd\" fill-opacity=\"1\" stroke=\"#000000\" stroke-opacity=\"1\" stroke-width=\"3.2\"/>\n<circle clip-path=\"url(#clip972)\" cx=\"1201.65\" cy=\"807.119\" r=\"14.4\" fill=\"#009af9\" fill-rule=\"evenodd\" fill-opacity=\"1\" stroke=\"#000000\" stroke-opacity=\"1\" stroke-width=\"3.2\"/>\n<circle clip-path=\"url(#clip972)\" cx=\"1383.5\" cy=\"590.877\" r=\"14.4\" fill=\"#009af9\" fill-rule=\"evenodd\" fill-opacity=\"1\" stroke=\"#000000\" stroke-opacity=\"1\" stroke-width=\"3.2\"/>\n<circle clip-path=\"url(#clip972)\" cx=\"1565.35\" cy=\"590.827\" r=\"14.4\" fill=\"#009af9\" fill-rule=\"evenodd\" fill-opacity=\"1\" stroke=\"#000000\" stroke-opacity=\"1\" stroke-width=\"3.2\"/>\n<circle clip-path=\"url(#clip972)\" cx=\"1747.2\" cy=\"302.766\" r=\"14.4\" fill=\"#009af9\" fill-rule=\"evenodd\" fill-opacity=\"1\" stroke=\"#000000\" stroke-opacity=\"1\" stroke-width=\"3.2\"/>\n<circle clip-path=\"url(#clip972)\" cx=\"1929.05\" cy=\"302.41\" r=\"14.4\" fill=\"#009af9\" fill-rule=\"evenodd\" fill-opacity=\"1\" stroke=\"#000000\" stroke-opacity=\"1\" stroke-width=\"3.2\"/>\n<circle clip-path=\"url(#clip972)\" cx=\"2110.9\" cy=\"230.338\" r=\"14.4\" fill=\"#009af9\" fill-rule=\"evenodd\" fill-opacity=\"1\" stroke=\"#000000\" stroke-opacity=\"1\" stroke-width=\"3.2\"/>\n<circle clip-path=\"url(#clip972)\" cx=\"2292.75\" cy=\"86.1857\" r=\"14.4\" fill=\"#009af9\" fill-rule=\"evenodd\" fill-opacity=\"1\" stroke=\"#000000\" stroke-opacity=\"1\" stroke-width=\"3.2\"/>\n</svg>\n",
      "text/html": [
       "<?xml version=\"1.0\" encoding=\"utf-8\"?>\n",
       "<svg xmlns=\"http://www.w3.org/2000/svg\" xmlns:xlink=\"http://www.w3.org/1999/xlink\" width=\"600\" height=\"400\" viewBox=\"0 0 2400 1600\">\n",
       "<defs>\n",
       "  <clipPath id=\"clip020\">\n",
       "    <rect x=\"0\" y=\"0\" width=\"2400\" height=\"1600\"/>\n",
       "  </clipPath>\n",
       "</defs>\n",
       "<path clip-path=\"url(#clip020)\" d=\"\n",
       "M0 1600 L2400 1600 L2400 0 L0 0  Z\n",
       "  \" fill=\"#ffffff\" fill-rule=\"evenodd\" fill-opacity=\"1\"/>\n",
       "<defs>\n",
       "  <clipPath id=\"clip021\">\n",
       "    <rect x=\"480\" y=\"0\" width=\"1681\" height=\"1600\"/>\n",
       "  </clipPath>\n",
       "</defs>\n",
       "<defs>\n",
       "  <clipPath id=\"clip022\">\n",
       "    <rect x=\"232\" y=\"47\" width=\"2121\" height=\"1377\"/>\n",
       "  </clipPath>\n",
       "</defs>\n",
       "<path clip-path=\"url(#clip020)\" d=\"\n",
       "M232.389 1423.18 L2352.76 1423.18 L2352.76 47.2441 L232.389 47.2441  Z\n",
       "  \" fill=\"#ffffff\" fill-rule=\"evenodd\" fill-opacity=\"1\"/>\n",
       "<polyline clip-path=\"url(#clip022)\" style=\"stroke:#000000; stroke-linecap:round; stroke-linejoin:round; stroke-width:2; stroke-opacity:0.1; fill:none\" points=\"\n",
       "  292.4,1423.18 292.4,47.2441 \n",
       "  \"/>\n",
       "<polyline clip-path=\"url(#clip022)\" style=\"stroke:#000000; stroke-linecap:round; stroke-linejoin:round; stroke-width:2; stroke-opacity:0.1; fill:none\" points=\"\n",
       "  474.249,1423.18 474.249,47.2441 \n",
       "  \"/>\n",
       "<polyline clip-path=\"url(#clip022)\" style=\"stroke:#000000; stroke-linecap:round; stroke-linejoin:round; stroke-width:2; stroke-opacity:0.1; fill:none\" points=\"\n",
       "  656.099,1423.18 656.099,47.2441 \n",
       "  \"/>\n",
       "<polyline clip-path=\"url(#clip022)\" style=\"stroke:#000000; stroke-linecap:round; stroke-linejoin:round; stroke-width:2; stroke-opacity:0.1; fill:none\" points=\"\n",
       "  837.949,1423.18 837.949,47.2441 \n",
       "  \"/>\n",
       "<polyline clip-path=\"url(#clip022)\" style=\"stroke:#000000; stroke-linecap:round; stroke-linejoin:round; stroke-width:2; stroke-opacity:0.1; fill:none\" points=\"\n",
       "  1019.8,1423.18 1019.8,47.2441 \n",
       "  \"/>\n",
       "<polyline clip-path=\"url(#clip022)\" style=\"stroke:#000000; stroke-linecap:round; stroke-linejoin:round; stroke-width:2; stroke-opacity:0.1; fill:none\" points=\"\n",
       "  1201.65,1423.18 1201.65,47.2441 \n",
       "  \"/>\n",
       "<polyline clip-path=\"url(#clip022)\" style=\"stroke:#000000; stroke-linecap:round; stroke-linejoin:round; stroke-width:2; stroke-opacity:0.1; fill:none\" points=\"\n",
       "  1383.5,1423.18 1383.5,47.2441 \n",
       "  \"/>\n",
       "<polyline clip-path=\"url(#clip022)\" style=\"stroke:#000000; stroke-linecap:round; stroke-linejoin:round; stroke-width:2; stroke-opacity:0.1; fill:none\" points=\"\n",
       "  1565.35,1423.18 1565.35,47.2441 \n",
       "  \"/>\n",
       "<polyline clip-path=\"url(#clip022)\" style=\"stroke:#000000; stroke-linecap:round; stroke-linejoin:round; stroke-width:2; stroke-opacity:0.1; fill:none\" points=\"\n",
       "  1747.2,1423.18 1747.2,47.2441 \n",
       "  \"/>\n",
       "<polyline clip-path=\"url(#clip022)\" style=\"stroke:#000000; stroke-linecap:round; stroke-linejoin:round; stroke-width:2; stroke-opacity:0.1; fill:none\" points=\"\n",
       "  1929.05,1423.18 1929.05,47.2441 \n",
       "  \"/>\n",
       "<polyline clip-path=\"url(#clip022)\" style=\"stroke:#000000; stroke-linecap:round; stroke-linejoin:round; stroke-width:2; stroke-opacity:0.1; fill:none\" points=\"\n",
       "  2110.9,1423.18 2110.9,47.2441 \n",
       "  \"/>\n",
       "<polyline clip-path=\"url(#clip022)\" style=\"stroke:#000000; stroke-linecap:round; stroke-linejoin:round; stroke-width:2; stroke-opacity:0.1; fill:none\" points=\"\n",
       "  2292.75,1423.18 2292.75,47.2441 \n",
       "  \"/>\n",
       "<polyline clip-path=\"url(#clip020)\" style=\"stroke:#000000; stroke-linecap:round; stroke-linejoin:round; stroke-width:4; stroke-opacity:1; fill:none\" points=\"\n",
       "  232.389,1423.18 2352.76,1423.18 \n",
       "  \"/>\n",
       "<polyline clip-path=\"url(#clip020)\" style=\"stroke:#000000; stroke-linecap:round; stroke-linejoin:round; stroke-width:4; stroke-opacity:1; fill:none\" points=\"\n",
       "  292.4,1423.18 292.4,1404.28 \n",
       "  \"/>\n",
       "<polyline clip-path=\"url(#clip020)\" style=\"stroke:#000000; stroke-linecap:round; stroke-linejoin:round; stroke-width:4; stroke-opacity:1; fill:none\" points=\"\n",
       "  474.249,1423.18 474.249,1404.28 \n",
       "  \"/>\n",
       "<polyline clip-path=\"url(#clip020)\" style=\"stroke:#000000; stroke-linecap:round; stroke-linejoin:round; stroke-width:4; stroke-opacity:1; fill:none\" points=\"\n",
       "  656.099,1423.18 656.099,1404.28 \n",
       "  \"/>\n",
       "<polyline clip-path=\"url(#clip020)\" style=\"stroke:#000000; stroke-linecap:round; stroke-linejoin:round; stroke-width:4; stroke-opacity:1; fill:none\" points=\"\n",
       "  837.949,1423.18 837.949,1404.28 \n",
       "  \"/>\n",
       "<polyline clip-path=\"url(#clip020)\" style=\"stroke:#000000; stroke-linecap:round; stroke-linejoin:round; stroke-width:4; stroke-opacity:1; fill:none\" points=\"\n",
       "  1019.8,1423.18 1019.8,1404.28 \n",
       "  \"/>\n",
       "<polyline clip-path=\"url(#clip020)\" style=\"stroke:#000000; stroke-linecap:round; stroke-linejoin:round; stroke-width:4; stroke-opacity:1; fill:none\" points=\"\n",
       "  1201.65,1423.18 1201.65,1404.28 \n",
       "  \"/>\n",
       "<polyline clip-path=\"url(#clip020)\" style=\"stroke:#000000; stroke-linecap:round; stroke-linejoin:round; stroke-width:4; stroke-opacity:1; fill:none\" points=\"\n",
       "  1383.5,1423.18 1383.5,1404.28 \n",
       "  \"/>\n",
       "<polyline clip-path=\"url(#clip020)\" style=\"stroke:#000000; stroke-linecap:round; stroke-linejoin:round; stroke-width:4; stroke-opacity:1; fill:none\" points=\"\n",
       "  1565.35,1423.18 1565.35,1404.28 \n",
       "  \"/>\n",
       "<polyline clip-path=\"url(#clip020)\" style=\"stroke:#000000; stroke-linecap:round; stroke-linejoin:round; stroke-width:4; stroke-opacity:1; fill:none\" points=\"\n",
       "  1747.2,1423.18 1747.2,1404.28 \n",
       "  \"/>\n",
       "<polyline clip-path=\"url(#clip020)\" style=\"stroke:#000000; stroke-linecap:round; stroke-linejoin:round; stroke-width:4; stroke-opacity:1; fill:none\" points=\"\n",
       "  1929.05,1423.18 1929.05,1404.28 \n",
       "  \"/>\n",
       "<polyline clip-path=\"url(#clip020)\" style=\"stroke:#000000; stroke-linecap:round; stroke-linejoin:round; stroke-width:4; stroke-opacity:1; fill:none\" points=\"\n",
       "  2110.9,1423.18 2110.9,1404.28 \n",
       "  \"/>\n",
       "<polyline clip-path=\"url(#clip020)\" style=\"stroke:#000000; stroke-linecap:round; stroke-linejoin:round; stroke-width:4; stroke-opacity:1; fill:none\" points=\"\n",
       "  2292.75,1423.18 2292.75,1404.28 \n",
       "  \"/>\n",
       "<path clip-path=\"url(#clip020)\" d=\"M282.782 1481.64 L290.421 1481.64 L290.421 1455.28 L282.11 1456.95 L282.11 1452.69 L290.374 1451.02 L295.05 1451.02 L295.05 1481.64 L302.689 1481.64 L302.689 1485.58 L282.782 1485.58 L282.782 1481.64 Z\" fill=\"#000000\" fill-rule=\"evenodd\" fill-opacity=\"1\" /><path clip-path=\"url(#clip020)\" d=\"M468.902 1481.64 L485.222 1481.64 L485.222 1485.58 L463.277 1485.58 L463.277 1481.64 Q465.939 1478.89 470.523 1474.26 Q475.129 1469.61 476.31 1468.27 Q478.555 1465.74 479.434 1464.01 Q480.337 1462.25 480.337 1460.56 Q480.337 1457.8 478.393 1456.07 Q476.472 1454.33 473.37 1454.33 Q471.171 1454.33 468.717 1455.09 Q466.286 1455.86 463.509 1457.41 L463.509 1452.69 Q466.333 1451.55 468.786 1450.97 Q471.24 1450.39 473.277 1450.39 Q478.647 1450.39 481.842 1453.08 Q485.036 1455.77 485.036 1460.26 Q485.036 1462.39 484.226 1464.31 Q483.439 1466.2 481.333 1468.8 Q480.754 1469.47 477.652 1472.69 Q474.55 1475.88 468.902 1481.64 Z\" fill=\"#000000\" fill-rule=\"evenodd\" fill-opacity=\"1\" /><path clip-path=\"url(#clip020)\" d=\"M660.347 1466.95 Q663.703 1467.66 665.578 1469.93 Q667.476 1472.2 667.476 1475.53 Q667.476 1480.65 663.958 1483.45 Q660.439 1486.25 653.958 1486.25 Q651.782 1486.25 649.467 1485.81 Q647.175 1485.39 644.722 1484.54 L644.722 1480.02 Q646.666 1481.16 648.981 1481.74 Q651.296 1482.32 653.819 1482.32 Q658.217 1482.32 660.509 1480.58 Q662.823 1478.84 662.823 1475.53 Q662.823 1472.48 660.671 1470.77 Q658.541 1469.03 654.722 1469.03 L650.694 1469.03 L650.694 1465.19 L654.907 1465.19 Q658.356 1465.19 660.185 1463.82 Q662.013 1462.43 662.013 1459.84 Q662.013 1457.18 660.115 1455.77 Q658.24 1454.33 654.722 1454.33 Q652.8 1454.33 650.601 1454.75 Q648.402 1455.16 645.763 1456.04 L645.763 1451.88 Q648.425 1451.14 650.74 1450.77 Q653.078 1450.39 655.138 1450.39 Q660.462 1450.39 663.564 1452.83 Q666.666 1455.23 666.666 1459.35 Q666.666 1462.22 665.023 1464.21 Q663.379 1466.18 660.347 1466.95 Z\" fill=\"#000000\" fill-rule=\"evenodd\" fill-opacity=\"1\" /><path clip-path=\"url(#clip020)\" d=\"M840.958 1455.09 L829.152 1473.54 L840.958 1473.54 L840.958 1455.09 M839.731 1451.02 L845.611 1451.02 L845.611 1473.54 L850.541 1473.54 L850.541 1477.43 L845.611 1477.43 L845.611 1485.58 L840.958 1485.58 L840.958 1477.43 L825.356 1477.43 L825.356 1472.92 L839.731 1451.02 Z\" fill=\"#000000\" fill-rule=\"evenodd\" fill-opacity=\"1\" /><path clip-path=\"url(#clip020)\" d=\"M1010.08 1451.02 L1028.43 1451.02 L1028.43 1454.96 L1014.36 1454.96 L1014.36 1463.43 Q1015.38 1463.08 1016.4 1462.92 Q1017.41 1462.73 1018.43 1462.73 Q1024.22 1462.73 1027.6 1465.9 Q1030.98 1469.08 1030.98 1474.49 Q1030.98 1480.07 1027.51 1483.17 Q1024.03 1486.25 1017.71 1486.25 Q1015.54 1486.25 1013.27 1485.88 Q1011.03 1485.51 1008.62 1484.77 L1008.62 1480.07 Q1010.7 1481.2 1012.92 1481.76 Q1015.15 1482.32 1017.62 1482.32 Q1021.63 1482.32 1023.96 1480.21 Q1026.3 1478.1 1026.3 1474.49 Q1026.3 1470.88 1023.96 1468.77 Q1021.63 1466.67 1017.62 1466.67 Q1015.75 1466.67 1013.87 1467.08 Q1012.02 1467.5 1010.08 1468.38 L1010.08 1451.02 Z\" fill=\"#000000\" fill-rule=\"evenodd\" fill-opacity=\"1\" /><path clip-path=\"url(#clip020)\" d=\"M1202.05 1466.44 Q1198.9 1466.44 1197.05 1468.59 Q1195.22 1470.74 1195.22 1474.49 Q1195.22 1478.22 1197.05 1480.39 Q1198.9 1482.55 1202.05 1482.55 Q1205.2 1482.55 1207.03 1480.39 Q1208.88 1478.22 1208.88 1474.49 Q1208.88 1470.74 1207.03 1468.59 Q1205.2 1466.44 1202.05 1466.44 M1211.34 1451.78 L1211.34 1456.04 Q1209.58 1455.21 1207.77 1454.77 Q1205.99 1454.33 1204.23 1454.33 Q1199.6 1454.33 1197.15 1457.45 Q1194.71 1460.58 1194.37 1466.9 Q1195.73 1464.89 1197.79 1463.82 Q1199.85 1462.73 1202.33 1462.73 Q1207.54 1462.73 1210.55 1465.9 Q1213.58 1469.05 1213.58 1474.49 Q1213.58 1479.82 1210.43 1483.03 Q1207.28 1486.25 1202.05 1486.25 Q1196.06 1486.25 1192.89 1481.67 Q1189.72 1477.06 1189.72 1468.33 Q1189.72 1460.14 1193.6 1455.28 Q1197.49 1450.39 1204.04 1450.39 Q1205.8 1450.39 1207.59 1450.74 Q1209.39 1451.09 1211.34 1451.78 Z\" fill=\"#000000\" fill-rule=\"evenodd\" fill-opacity=\"1\" /><path clip-path=\"url(#clip020)\" d=\"M1372.39 1451.02 L1394.61 1451.02 L1394.61 1453.01 L1382.06 1485.58 L1377.18 1485.58 L1388.98 1454.96 L1372.39 1454.96 L1372.39 1451.02 Z\" fill=\"#000000\" fill-rule=\"evenodd\" fill-opacity=\"1\" /><path clip-path=\"url(#clip020)\" d=\"M1565.35 1469.17 Q1562.01 1469.17 1560.09 1470.95 Q1558.19 1472.73 1558.19 1475.86 Q1558.19 1478.98 1560.09 1480.77 Q1562.01 1482.55 1565.35 1482.55 Q1568.68 1482.55 1570.6 1480.77 Q1572.52 1478.96 1572.52 1475.86 Q1572.52 1472.73 1570.6 1470.95 Q1568.7 1469.17 1565.35 1469.17 M1560.67 1467.18 Q1557.66 1466.44 1555.97 1464.38 Q1554.31 1462.32 1554.31 1459.35 Q1554.31 1455.21 1557.25 1452.8 Q1560.21 1450.39 1565.35 1450.39 Q1570.51 1450.39 1573.45 1452.8 Q1576.39 1455.21 1576.39 1459.35 Q1576.39 1462.32 1574.7 1464.38 Q1573.03 1466.44 1570.05 1467.18 Q1573.43 1467.96 1575.3 1470.26 Q1577.2 1472.55 1577.2 1475.86 Q1577.2 1480.88 1574.12 1483.57 Q1571.06 1486.25 1565.35 1486.25 Q1559.63 1486.25 1556.55 1483.57 Q1553.5 1480.88 1553.5 1475.86 Q1553.5 1472.55 1555.39 1470.26 Q1557.29 1467.96 1560.67 1467.18 M1558.96 1459.79 Q1558.96 1462.48 1560.62 1463.98 Q1562.31 1465.49 1565.35 1465.49 Q1568.36 1465.49 1570.05 1463.98 Q1571.76 1462.48 1571.76 1459.79 Q1571.76 1457.11 1570.05 1455.6 Q1568.36 1454.1 1565.35 1454.1 Q1562.31 1454.1 1560.62 1455.6 Q1558.96 1457.11 1558.96 1459.79 Z\" fill=\"#000000\" fill-rule=\"evenodd\" fill-opacity=\"1\" /><path clip-path=\"url(#clip020)\" d=\"M1737.5 1484.86 L1737.5 1480.6 Q1739.26 1481.44 1741.06 1481.88 Q1742.87 1482.32 1744.6 1482.32 Q1749.23 1482.32 1751.66 1479.21 Q1754.12 1476.09 1754.47 1469.75 Q1753.12 1471.74 1751.06 1472.8 Q1749 1473.87 1746.5 1473.87 Q1741.32 1473.87 1738.28 1470.74 Q1735.28 1467.59 1735.28 1462.15 Q1735.28 1456.83 1738.42 1453.61 Q1741.57 1450.39 1746.8 1450.39 Q1752.8 1450.39 1755.95 1455 Q1759.12 1459.58 1759.12 1468.33 Q1759.12 1476.51 1755.23 1481.39 Q1751.36 1486.25 1744.81 1486.25 Q1743.05 1486.25 1741.25 1485.9 Q1739.44 1485.56 1737.5 1484.86 M1746.8 1470.21 Q1749.95 1470.21 1751.78 1468.06 Q1753.63 1465.9 1753.63 1462.15 Q1753.63 1458.43 1751.78 1456.27 Q1749.95 1454.1 1746.8 1454.1 Q1743.66 1454.1 1741.8 1456.27 Q1739.97 1458.43 1739.97 1462.15 Q1739.97 1465.9 1741.8 1468.06 Q1743.66 1470.21 1746.8 1470.21 Z\" fill=\"#000000\" fill-rule=\"evenodd\" fill-opacity=\"1\" /><path clip-path=\"url(#clip020)\" d=\"M1903.73 1481.64 L1911.37 1481.64 L1911.37 1455.28 L1903.06 1456.95 L1903.06 1452.69 L1911.33 1451.02 L1916 1451.02 L1916 1481.64 L1923.64 1481.64 L1923.64 1485.58 L1903.73 1485.58 L1903.73 1481.64 Z\" fill=\"#000000\" fill-rule=\"evenodd\" fill-opacity=\"1\" /><path clip-path=\"url(#clip020)\" d=\"M1943.09 1454.1 Q1939.47 1454.1 1937.65 1457.66 Q1935.84 1461.2 1935.84 1468.33 Q1935.84 1475.44 1937.65 1479.01 Q1939.47 1482.55 1943.09 1482.55 Q1946.72 1482.55 1948.53 1479.01 Q1950.35 1475.44 1950.35 1468.33 Q1950.35 1461.2 1948.53 1457.66 Q1946.72 1454.1 1943.09 1454.1 M1943.09 1450.39 Q1948.9 1450.39 1951.95 1455 Q1955.03 1459.58 1955.03 1468.33 Q1955.03 1477.06 1951.95 1481.67 Q1948.9 1486.25 1943.09 1486.25 Q1937.28 1486.25 1934.2 1481.67 Q1931.14 1477.06 1931.14 1468.33 Q1931.14 1459.58 1934.2 1455 Q1937.28 1450.39 1943.09 1450.39 Z\" fill=\"#000000\" fill-rule=\"evenodd\" fill-opacity=\"1\" /><path clip-path=\"url(#clip020)\" d=\"M2086.2 1481.64 L2093.84 1481.64 L2093.84 1455.28 L2085.53 1456.95 L2085.53 1452.69 L2093.79 1451.02 L2098.47 1451.02 L2098.47 1481.64 L2106.1 1481.64 L2106.1 1485.58 L2086.2 1485.58 L2086.2 1481.64 Z\" fill=\"#000000\" fill-rule=\"evenodd\" fill-opacity=\"1\" /><path clip-path=\"url(#clip020)\" d=\"M2116.36 1481.64 L2124 1481.64 L2124 1455.28 L2115.69 1456.95 L2115.69 1452.69 L2123.95 1451.02 L2128.63 1451.02 L2128.63 1481.64 L2136.27 1481.64 L2136.27 1485.58 L2116.36 1485.58 L2116.36 1481.64 Z\" fill=\"#000000\" fill-rule=\"evenodd\" fill-opacity=\"1\" /><path clip-path=\"url(#clip020)\" d=\"M2268.23 1481.64 L2275.87 1481.64 L2275.87 1455.28 L2267.56 1456.95 L2267.56 1452.69 L2275.82 1451.02 L2280.5 1451.02 L2280.5 1481.64 L2288.14 1481.64 L2288.14 1485.58 L2268.23 1485.58 L2268.23 1481.64 Z\" fill=\"#000000\" fill-rule=\"evenodd\" fill-opacity=\"1\" /><path clip-path=\"url(#clip020)\" d=\"M2301.61 1481.64 L2317.93 1481.64 L2317.93 1485.58 L2295.99 1485.58 L2295.99 1481.64 Q2298.65 1478.89 2303.23 1474.26 Q2307.84 1469.61 2309.02 1468.27 Q2311.26 1465.74 2312.14 1464.01 Q2313.05 1462.25 2313.05 1460.56 Q2313.05 1457.8 2311.1 1456.07 Q2309.18 1454.33 2306.08 1454.33 Q2303.88 1454.33 2301.43 1455.09 Q2299 1455.86 2296.22 1457.41 L2296.22 1452.69 Q2299.04 1451.55 2301.5 1450.97 Q2303.95 1450.39 2305.99 1450.39 Q2311.36 1450.39 2314.55 1453.08 Q2317.75 1455.77 2317.75 1460.26 Q2317.75 1462.39 2316.94 1464.31 Q2316.15 1466.2 2314.04 1468.8 Q2313.46 1469.47 2310.36 1472.69 Q2307.26 1475.88 2301.61 1481.64 Z\" fill=\"#000000\" fill-rule=\"evenodd\" fill-opacity=\"1\" /><path clip-path=\"url(#clip020)\" d=\"M1034.11 1519.53 Q1034.11 1520.95 1032.95 1522.01 Q1031.82 1523.05 1030.6 1523.05 Q1029.47 1523.05 1028.76 1522.37 Q1028.08 1521.66 1028.08 1520.66 Q1028.08 1519.34 1029.21 1518.25 Q1030.34 1517.15 1031.66 1517.15 Q1032.75 1517.15 1033.43 1517.83 Q1034.11 1518.5 1034.11 1519.53 M1034.69 1551.32 Q1034.69 1551.58 1034.4 1552.61 Q1034.11 1553.61 1033.4 1555.15 Q1032.72 1556.67 1031.79 1558.09 Q1030.85 1559.5 1029.31 1560.5 Q1027.79 1561.5 1026.06 1561.5 Q1023.7 1561.5 1022.16 1559.95 Q1020.64 1558.41 1020.64 1556.09 Q1020.64 1554.83 1022.16 1550.81 Q1026.54 1539.08 1026.7 1538.6 Q1027.44 1536.77 1027.44 1535.15 Q1027.44 1534.41 1027.28 1533.96 Q1027.12 1533.48 1026.8 1533.32 Q1026.47 1533.13 1026.28 1533.09 Q1026.12 1533.06 1025.8 1533.06 Q1023.9 1533.06 1022.13 1534.99 Q1020.35 1536.93 1019.13 1541.24 Q1018.87 1542.05 1018.71 1542.24 Q1018.55 1542.43 1018.07 1542.43 Q1017.26 1542.4 1017.26 1541.76 Q1017.26 1541.56 1017.49 1540.82 Q1017.71 1540.05 1018.13 1538.89 Q1018.55 1537.7 1019.29 1536.48 Q1020.03 1535.22 1020.93 1534.12 Q1021.87 1533.03 1023.19 1532.32 Q1024.51 1531.61 1025.99 1531.61 Q1028.41 1531.61 1029.89 1533.19 Q1031.4 1534.74 1031.4 1537.02 Q1031.4 1538.28 1030.53 1540.5 Q1029.47 1543.4 1029.08 1544.33 L1026.51 1551.26 Q1025.57 1553.77 1025.28 1554.54 Q1025.02 1555.28 1024.8 1556.19 Q1024.61 1557.05 1024.61 1557.86 Q1024.61 1558.99 1024.96 1559.5 Q1025.35 1560.02 1026.18 1560.02 Q1028.5 1560.02 1030.21 1557.73 Q1031.92 1555.41 1032.91 1551.87 Q1032.95 1551.77 1032.98 1551.61 Q1033.24 1550.81 1033.49 1550.71 Q1033.62 1550.68 1033.88 1550.68 Q1034.69 1550.68 1034.69 1551.32 Z\" fill=\"#000000\" fill-rule=\"evenodd\" fill-opacity=\"1\" /><path clip-path=\"url(#clip020)\" d=\"M1063.69 1540.29 L1080.84 1540.29 L1080.84 1545.51 L1063.69 1545.51 L1063.69 1540.29 Z\" fill=\"#000000\" fill-rule=\"evenodd\" fill-opacity=\"1\" /><path clip-path=\"url(#clip020)\" d=\"M1116.68 1514.99 L1116.68 1525.11 L1128.74 1525.11 L1128.74 1529.66 L1116.68 1529.66 L1116.68 1549.01 Q1116.68 1553.37 1117.86 1554.62 Q1119.07 1555.86 1122.73 1555.86 L1128.74 1555.86 L1128.74 1560.76 L1122.73 1560.76 Q1115.95 1560.76 1113.37 1558.24 Q1110.79 1555.7 1110.79 1549.01 L1110.79 1529.66 L1106.5 1529.66 L1106.5 1525.11 L1110.79 1525.11 L1110.79 1514.99 L1116.68 1514.99 Z\" fill=\"#000000\" fill-rule=\"evenodd\" fill-opacity=\"1\" /><path clip-path=\"url(#clip020)\" d=\"M1152.65 1542.84 Q1145.55 1542.84 1142.81 1544.46 Q1140.07 1546.09 1140.07 1550 Q1140.07 1553.12 1142.11 1554.97 Q1144.18 1556.78 1147.71 1556.78 Q1152.58 1556.78 1155.51 1553.34 Q1158.47 1549.87 1158.47 1544.14 L1158.47 1542.84 L1152.65 1542.84 M1164.33 1540.42 L1164.33 1560.76 L1158.47 1560.76 L1158.47 1555.35 Q1156.47 1558.59 1153.47 1560.15 Q1150.48 1561.68 1146.15 1561.68 Q1140.68 1561.68 1137.43 1558.63 Q1134.22 1555.54 1134.22 1550.38 Q1134.22 1544.37 1138.23 1541.31 Q1142.27 1538.26 1150.26 1538.26 L1158.47 1538.26 L1158.47 1537.68 Q1158.47 1533.64 1155.8 1531.44 Q1153.16 1529.22 1148.35 1529.22 Q1145.29 1529.22 1142.4 1529.95 Q1139.5 1530.68 1136.83 1532.14 L1136.83 1526.73 Q1140.04 1525.49 1143.07 1524.89 Q1146.09 1524.25 1148.96 1524.25 Q1156.69 1524.25 1160.51 1528.26 Q1164.33 1532.27 1164.33 1540.42 Z\" fill=\"#000000\" fill-rule=\"evenodd\" fill-opacity=\"1\" /><path clip-path=\"url(#clip020)\" d=\"M1199.85 1542.52 Q1199.85 1536.15 1197.21 1532.65 Q1194.6 1529.15 1189.85 1529.15 Q1185.14 1529.15 1182.5 1532.65 Q1179.89 1536.15 1179.89 1542.52 Q1179.89 1548.85 1182.5 1552.36 Q1185.14 1555.86 1189.85 1555.86 Q1194.6 1555.86 1197.21 1552.36 Q1199.85 1548.85 1199.85 1542.52 M1205.71 1556.33 Q1205.71 1565.44 1201.66 1569.86 Q1197.62 1574.32 1189.28 1574.32 Q1186.19 1574.32 1183.46 1573.84 Q1180.72 1573.39 1178.14 1572.44 L1178.14 1566.74 Q1180.72 1568.14 1183.23 1568.81 Q1185.75 1569.48 1188.36 1569.48 Q1194.12 1569.48 1196.98 1566.46 Q1199.85 1563.46 1199.85 1557.38 L1199.85 1554.49 Q1198.03 1557.64 1195.2 1559.2 Q1192.37 1560.76 1188.42 1560.76 Q1181.87 1560.76 1177.86 1555.76 Q1173.85 1550.76 1173.85 1542.52 Q1173.85 1534.25 1177.86 1529.25 Q1181.87 1524.25 1188.42 1524.25 Q1192.37 1524.25 1195.2 1525.81 Q1198.03 1527.37 1199.85 1530.52 L1199.85 1525.11 L1205.71 1525.11 L1205.71 1556.33 Z\" fill=\"#000000\" fill-rule=\"evenodd\" fill-opacity=\"1\" /><path clip-path=\"url(#clip020)\" d=\"M1256.54 1511.23 L1256.54 1516.1 L1250.93 1516.1 Q1247.78 1516.1 1246.54 1517.38 Q1245.33 1518.65 1245.33 1521.96 L1245.33 1525.11 L1254.98 1525.11 L1254.98 1529.66 L1245.33 1529.66 L1245.33 1560.76 L1239.44 1560.76 L1239.44 1529.66 L1233.84 1529.66 L1233.84 1525.11 L1239.44 1525.11 L1239.44 1522.63 Q1239.44 1516.68 1242.21 1513.97 Q1244.98 1511.23 1251 1511.23 L1256.54 1511.23 Z\" fill=\"#000000\" fill-rule=\"evenodd\" fill-opacity=\"1\" /><path clip-path=\"url(#clip020)\" d=\"M1275.25 1529.22 Q1270.54 1529.22 1267.8 1532.91 Q1265.07 1536.57 1265.07 1542.97 Q1265.07 1549.36 1267.77 1553.06 Q1270.51 1556.72 1275.25 1556.72 Q1279.93 1556.72 1282.67 1553.02 Q1285.4 1549.33 1285.4 1542.97 Q1285.4 1536.63 1282.67 1532.94 Q1279.93 1529.22 1275.25 1529.22 M1275.25 1524.25 Q1282.89 1524.25 1287.25 1529.22 Q1291.61 1534.18 1291.61 1542.97 Q1291.61 1551.72 1287.25 1556.72 Q1282.89 1561.68 1275.25 1561.68 Q1267.58 1561.68 1263.22 1556.72 Q1258.89 1551.72 1258.89 1542.97 Q1258.89 1534.18 1263.22 1529.22 Q1267.58 1524.25 1275.25 1524.25 Z\" fill=\"#000000\" fill-rule=\"evenodd\" fill-opacity=\"1\" /><path clip-path=\"url(#clip020)\" d=\"M1321.98 1530.58 Q1320.99 1530.01 1319.81 1529.76 Q1318.66 1529.47 1317.26 1529.47 Q1312.3 1529.47 1309.63 1532.72 Q1306.98 1535.93 1306.98 1541.98 L1306.98 1560.76 L1301.1 1560.76 L1301.1 1525.11 L1306.98 1525.11 L1306.98 1530.65 Q1308.83 1527.4 1311.79 1525.84 Q1314.75 1524.25 1318.98 1524.25 Q1319.59 1524.25 1320.32 1524.35 Q1321.05 1524.41 1321.94 1524.57 L1321.98 1530.58 Z\" fill=\"#000000\" fill-rule=\"evenodd\" fill-opacity=\"1\" /><path clip-path=\"url(#clip020)\" d=\"M1379.33 1541.47 L1379.33 1544.33 L1352.4 1544.33 Q1352.79 1550.38 1356.03 1553.57 Q1359.31 1556.72 1365.13 1556.72 Q1368.51 1556.72 1371.66 1555.89 Q1374.84 1555.06 1377.96 1553.41 L1377.96 1558.94 Q1374.81 1560.28 1371.5 1560.98 Q1368.19 1561.68 1364.78 1561.68 Q1356.25 1561.68 1351.26 1556.72 Q1346.29 1551.75 1346.29 1543.28 Q1346.29 1534.53 1351 1529.41 Q1355.75 1524.25 1363.77 1524.25 Q1370.96 1524.25 1375.13 1528.9 Q1379.33 1533.51 1379.33 1541.47 M1373.47 1539.75 Q1373.41 1534.95 1370.77 1532.08 Q1368.16 1529.22 1363.83 1529.22 Q1358.93 1529.22 1355.97 1531.99 Q1353.04 1534.75 1352.59 1539.78 L1373.47 1539.75 Z\" fill=\"#000000\" fill-rule=\"evenodd\" fill-opacity=\"1\" /><path clip-path=\"url(#clip020)\" d=\"M1418.57 1539.24 L1418.57 1560.76 L1412.72 1560.76 L1412.72 1539.43 Q1412.72 1534.37 1410.74 1531.86 Q1408.77 1529.34 1404.82 1529.34 Q1400.08 1529.34 1397.35 1532.37 Q1394.61 1535.39 1394.61 1540.61 L1394.61 1560.76 L1388.72 1560.76 L1388.72 1525.11 L1394.61 1525.11 L1394.61 1530.65 Q1396.71 1527.43 1399.54 1525.84 Q1402.41 1524.25 1406.13 1524.25 Q1412.27 1524.25 1415.42 1528.07 Q1418.57 1531.86 1418.57 1539.24 Z\" fill=\"#000000\" fill-rule=\"evenodd\" fill-opacity=\"1\" /><path clip-path=\"url(#clip020)\" d=\"M1460.75 1541.47 L1460.75 1544.33 L1433.82 1544.33 Q1434.2 1550.38 1437.45 1553.57 Q1440.73 1556.72 1446.55 1556.72 Q1449.93 1556.72 1453.08 1555.89 Q1456.26 1555.06 1459.38 1553.41 L1459.38 1558.94 Q1456.23 1560.28 1452.92 1560.98 Q1449.61 1561.68 1446.2 1561.68 Q1437.67 1561.68 1432.67 1556.72 Q1427.71 1551.75 1427.71 1543.28 Q1427.71 1534.53 1432.42 1529.41 Q1437.16 1524.25 1445.18 1524.25 Q1452.38 1524.25 1456.55 1528.9 Q1460.75 1533.51 1460.75 1541.47 M1454.89 1539.75 Q1454.83 1534.95 1452.19 1532.08 Q1449.58 1529.22 1445.25 1529.22 Q1440.35 1529.22 1437.39 1531.99 Q1434.46 1534.75 1434.01 1539.78 L1454.89 1539.75 Z\" fill=\"#000000\" fill-rule=\"evenodd\" fill-opacity=\"1\" /><path clip-path=\"url(#clip020)\" d=\"M1491.02 1530.58 Q1490.03 1530.01 1488.85 1529.76 Q1487.71 1529.47 1486.31 1529.47 Q1481.34 1529.47 1478.67 1532.72 Q1476.03 1535.93 1476.03 1541.98 L1476.03 1560.76 L1470.14 1560.76 L1470.14 1525.11 L1476.03 1525.11 L1476.03 1530.65 Q1477.87 1527.4 1480.83 1525.84 Q1483.79 1524.25 1488.02 1524.25 Q1488.63 1524.25 1489.36 1524.35 Q1490.09 1524.41 1490.98 1524.57 L1491.02 1530.58 Z\" fill=\"#000000\" fill-rule=\"evenodd\" fill-opacity=\"1\" /><path clip-path=\"url(#clip020)\" d=\"M1519.47 1542.52 Q1519.47 1536.15 1516.83 1532.65 Q1514.22 1529.15 1509.48 1529.15 Q1504.77 1529.15 1502.12 1532.65 Q1499.51 1536.15 1499.51 1542.52 Q1499.51 1548.85 1502.12 1552.36 Q1504.77 1555.86 1509.48 1555.86 Q1514.22 1555.86 1516.83 1552.36 Q1519.47 1548.85 1519.47 1542.52 M1525.33 1556.33 Q1525.33 1565.44 1521.29 1569.86 Q1517.24 1574.32 1508.9 1574.32 Q1505.82 1574.32 1503.08 1573.84 Q1500.34 1573.39 1497.76 1572.44 L1497.76 1566.74 Q1500.34 1568.14 1502.86 1568.81 Q1505.37 1569.48 1507.98 1569.48 Q1513.74 1569.48 1516.61 1566.46 Q1519.47 1563.46 1519.47 1557.38 L1519.47 1554.49 Q1517.66 1557.64 1514.82 1559.2 Q1511.99 1560.76 1508.04 1560.76 Q1501.49 1560.76 1497.48 1555.76 Q1493.47 1550.76 1493.47 1542.52 Q1493.47 1534.25 1497.48 1529.25 Q1501.49 1524.25 1508.04 1524.25 Q1511.99 1524.25 1514.82 1525.81 Q1517.66 1527.37 1519.47 1530.52 L1519.47 1525.11 L1525.33 1525.11 L1525.33 1556.33 Z\" fill=\"#000000\" fill-rule=\"evenodd\" fill-opacity=\"1\" /><path clip-path=\"url(#clip020)\" d=\"M1552.22 1564.07 Q1549.74 1570.43 1547.38 1572.38 Q1545.03 1574.32 1541.08 1574.32 L1536.4 1574.32 L1536.4 1569.42 L1539.84 1569.42 Q1542.26 1569.42 1543.6 1568.27 Q1544.93 1567.12 1546.56 1562.86 L1547.61 1560.19 L1533.19 1525.11 L1539.4 1525.11 L1550.54 1552.99 L1561.68 1525.11 L1567.88 1525.11 L1552.22 1564.07 Z\" fill=\"#000000\" fill-rule=\"evenodd\" fill-opacity=\"1\" /><polyline clip-path=\"url(#clip022)\" style=\"stroke:#000000; stroke-linecap:round; stroke-linejoin:round; stroke-width:2; stroke-opacity:0.1; fill:none\" points=\"\n",
       "  232.389,1239.75 2352.76,1239.75 \n",
       "  \"/>\n",
       "<polyline clip-path=\"url(#clip022)\" style=\"stroke:#000000; stroke-linecap:round; stroke-linejoin:round; stroke-width:2; stroke-opacity:0.1; fill:none\" points=\"\n",
       "  232.389,947.552 2352.76,947.552 \n",
       "  \"/>\n",
       "<polyline clip-path=\"url(#clip022)\" style=\"stroke:#000000; stroke-linecap:round; stroke-linejoin:round; stroke-width:2; stroke-opacity:0.1; fill:none\" points=\"\n",
       "  232.389,655.352 2352.76,655.352 \n",
       "  \"/>\n",
       "<polyline clip-path=\"url(#clip022)\" style=\"stroke:#000000; stroke-linecap:round; stroke-linejoin:round; stroke-width:2; stroke-opacity:0.1; fill:none\" points=\"\n",
       "  232.389,363.153 2352.76,363.153 \n",
       "  \"/>\n",
       "<polyline clip-path=\"url(#clip022)\" style=\"stroke:#000000; stroke-linecap:round; stroke-linejoin:round; stroke-width:2; stroke-opacity:0.1; fill:none\" points=\"\n",
       "  232.389,70.9536 2352.76,70.9536 \n",
       "  \"/>\n",
       "<polyline clip-path=\"url(#clip020)\" style=\"stroke:#000000; stroke-linecap:round; stroke-linejoin:round; stroke-width:4; stroke-opacity:1; fill:none\" points=\"\n",
       "  232.389,1423.18 232.389,47.2441 \n",
       "  \"/>\n",
       "<polyline clip-path=\"url(#clip020)\" style=\"stroke:#000000; stroke-linecap:round; stroke-linejoin:round; stroke-width:4; stroke-opacity:1; fill:none\" points=\"\n",
       "  232.389,1239.75 251.287,1239.75 \n",
       "  \"/>\n",
       "<polyline clip-path=\"url(#clip020)\" style=\"stroke:#000000; stroke-linecap:round; stroke-linejoin:round; stroke-width:4; stroke-opacity:1; fill:none\" points=\"\n",
       "  232.389,947.552 251.287,947.552 \n",
       "  \"/>\n",
       "<polyline clip-path=\"url(#clip020)\" style=\"stroke:#000000; stroke-linecap:round; stroke-linejoin:round; stroke-width:4; stroke-opacity:1; fill:none\" points=\"\n",
       "  232.389,655.352 251.287,655.352 \n",
       "  \"/>\n",
       "<polyline clip-path=\"url(#clip020)\" style=\"stroke:#000000; stroke-linecap:round; stroke-linejoin:round; stroke-width:4; stroke-opacity:1; fill:none\" points=\"\n",
       "  232.389,363.153 251.287,363.153 \n",
       "  \"/>\n",
       "<polyline clip-path=\"url(#clip020)\" style=\"stroke:#000000; stroke-linecap:round; stroke-linejoin:round; stroke-width:4; stroke-opacity:1; fill:none\" points=\"\n",
       "  232.389,70.9536 251.287,70.9536 \n",
       "  \"/>\n",
       "<path clip-path=\"url(#clip020)\" d=\"M148.311 1253.1 L164.63 1253.1 L164.63 1257.03 L142.686 1257.03 L142.686 1253.1 Q145.348 1250.34 149.931 1245.71 Q154.538 1241.06 155.718 1239.72 Q157.964 1237.19 158.843 1235.46 Q159.746 1233.7 159.746 1232.01 Q159.746 1229.25 157.802 1227.52 Q155.88 1225.78 152.778 1225.78 Q150.579 1225.78 148.126 1226.55 Q145.695 1227.31 142.917 1228.86 L142.917 1224.14 Q145.741 1223 148.195 1222.42 Q150.649 1221.85 152.686 1221.85 Q158.056 1221.85 161.251 1224.53 Q164.445 1227.22 164.445 1231.71 Q164.445 1233.84 163.635 1235.76 Q162.848 1237.66 160.741 1240.25 Q160.163 1240.92 157.061 1244.14 Q153.959 1247.33 148.311 1253.1 Z\" fill=\"#000000\" fill-rule=\"evenodd\" fill-opacity=\"1\" /><path clip-path=\"url(#clip020)\" d=\"M184.445 1225.55 Q180.834 1225.55 179.005 1229.11 Q177.2 1232.66 177.2 1239.79 Q177.2 1246.89 179.005 1250.46 Q180.834 1254 184.445 1254 Q188.079 1254 189.885 1250.46 Q191.713 1246.89 191.713 1239.79 Q191.713 1232.66 189.885 1229.11 Q188.079 1225.55 184.445 1225.55 M184.445 1221.85 Q190.255 1221.85 193.311 1226.45 Q196.389 1231.04 196.389 1239.79 Q196.389 1248.51 193.311 1253.12 Q190.255 1257.7 184.445 1257.7 Q178.635 1257.7 175.556 1253.12 Q172.501 1248.51 172.501 1239.79 Q172.501 1231.04 175.556 1226.45 Q178.635 1221.85 184.445 1221.85 Z\" fill=\"#000000\" fill-rule=\"evenodd\" fill-opacity=\"1\" /><path clip-path=\"url(#clip020)\" d=\"M157.13 934.346 L145.325 952.795 L157.13 952.795 L157.13 934.346 M155.903 930.272 L161.783 930.272 L161.783 952.795 L166.714 952.795 L166.714 956.684 L161.783 956.684 L161.783 964.832 L157.13 964.832 L157.13 956.684 L141.529 956.684 L141.529 952.17 L155.903 930.272 Z\" fill=\"#000000\" fill-rule=\"evenodd\" fill-opacity=\"1\" /><path clip-path=\"url(#clip020)\" d=\"M184.445 933.351 Q180.834 933.351 179.005 936.915 Q177.2 940.457 177.2 947.587 Q177.2 954.693 179.005 958.258 Q180.834 961.799 184.445 961.799 Q188.079 961.799 189.885 958.258 Q191.713 954.693 191.713 947.587 Q191.713 940.457 189.885 936.915 Q188.079 933.351 184.445 933.351 M184.445 929.647 Q190.255 929.647 193.311 934.253 Q196.389 938.837 196.389 947.587 Q196.389 956.313 193.311 960.92 Q190.255 965.503 184.445 965.503 Q178.635 965.503 175.556 960.92 Q172.501 956.313 172.501 947.587 Q172.501 938.837 175.556 934.253 Q178.635 929.647 184.445 929.647 Z\" fill=\"#000000\" fill-rule=\"evenodd\" fill-opacity=\"1\" /><path clip-path=\"url(#clip020)\" d=\"M154.862 653.489 Q151.714 653.489 149.862 655.642 Q148.033 657.795 148.033 661.545 Q148.033 665.271 149.862 667.447 Q151.714 669.6 154.862 669.6 Q158.01 669.6 159.839 667.447 Q161.69 665.271 161.69 661.545 Q161.69 657.795 159.839 655.642 Q158.01 653.489 154.862 653.489 M164.144 638.836 L164.144 643.096 Q162.385 642.262 160.579 641.822 Q158.797 641.383 157.038 641.383 Q152.408 641.383 149.954 644.508 Q147.524 647.633 147.177 653.952 Q148.542 651.938 150.603 650.873 Q152.663 649.785 155.14 649.785 Q160.348 649.785 163.357 652.957 Q166.39 656.105 166.39 661.545 Q166.39 666.869 163.241 670.086 Q160.093 673.304 154.862 673.304 Q148.866 673.304 145.695 668.72 Q142.524 664.114 142.524 655.387 Q142.524 647.193 146.413 642.332 Q150.302 637.447 156.853 637.447 Q158.612 637.447 160.394 637.795 Q162.2 638.142 164.144 638.836 Z\" fill=\"#000000\" fill-rule=\"evenodd\" fill-opacity=\"1\" /><path clip-path=\"url(#clip020)\" d=\"M184.445 641.151 Q180.834 641.151 179.005 644.716 Q177.2 648.258 177.2 655.387 Q177.2 662.494 179.005 666.058 Q180.834 669.6 184.445 669.6 Q188.079 669.6 189.885 666.058 Q191.713 662.494 191.713 655.387 Q191.713 648.258 189.885 644.716 Q188.079 641.151 184.445 641.151 M184.445 637.447 Q190.255 637.447 193.311 642.054 Q196.389 646.637 196.389 655.387 Q196.389 664.114 193.311 668.72 Q190.255 673.304 184.445 673.304 Q178.635 673.304 175.556 668.72 Q172.501 664.114 172.501 655.387 Q172.501 646.637 175.556 642.054 Q178.635 637.447 184.445 637.447 Z\" fill=\"#000000\" fill-rule=\"evenodd\" fill-opacity=\"1\" /><path clip-path=\"url(#clip020)\" d=\"M154.283 364.021 Q150.95 364.021 149.028 365.803 Q147.13 367.586 147.13 370.711 Q147.13 373.836 149.028 375.618 Q150.95 377.401 154.283 377.401 Q157.616 377.401 159.538 375.618 Q161.459 373.813 161.459 370.711 Q161.459 367.586 159.538 365.803 Q157.64 364.021 154.283 364.021 M149.607 362.03 Q146.598 361.29 144.908 359.229 Q143.241 357.169 143.241 354.206 Q143.241 350.063 146.181 347.655 Q149.144 345.248 154.283 345.248 Q159.445 345.248 162.385 347.655 Q165.325 350.063 165.325 354.206 Q165.325 357.169 163.635 359.229 Q161.968 361.29 158.982 362.03 Q162.362 362.817 164.237 365.109 Q166.135 367.401 166.135 370.711 Q166.135 375.734 163.056 378.419 Q160.001 381.104 154.283 381.104 Q148.566 381.104 145.487 378.419 Q142.431 375.734 142.431 370.711 Q142.431 367.401 144.329 365.109 Q146.228 362.817 149.607 362.03 M147.894 354.646 Q147.894 357.331 149.561 358.836 Q151.251 360.341 154.283 360.341 Q157.292 360.341 158.982 358.836 Q160.695 357.331 160.695 354.646 Q160.695 351.961 158.982 350.456 Q157.292 348.952 154.283 348.952 Q151.251 348.952 149.561 350.456 Q147.894 351.961 147.894 354.646 Z\" fill=\"#000000\" fill-rule=\"evenodd\" fill-opacity=\"1\" /><path clip-path=\"url(#clip020)\" d=\"M184.445 348.952 Q180.834 348.952 179.005 352.516 Q177.2 356.058 177.2 363.188 Q177.2 370.294 179.005 373.859 Q180.834 377.401 184.445 377.401 Q188.079 377.401 189.885 373.859 Q191.713 370.294 191.713 363.188 Q191.713 356.058 189.885 352.516 Q188.079 348.952 184.445 348.952 M184.445 345.248 Q190.255 345.248 193.311 349.854 Q196.389 354.438 196.389 363.188 Q196.389 371.915 193.311 376.521 Q190.255 381.104 184.445 381.104 Q178.635 381.104 175.556 376.521 Q172.501 371.915 172.501 363.188 Q172.501 354.438 175.556 349.854 Q178.635 345.248 184.445 345.248 Z\" fill=\"#000000\" fill-rule=\"evenodd\" fill-opacity=\"1\" /><path clip-path=\"url(#clip020)\" d=\"M114.931 84.2984 L122.57 84.2984 L122.57 57.9328 L114.26 59.5995 L114.26 55.3402 L122.524 53.6736 L127.2 53.6736 L127.2 84.2984 L134.839 84.2984 L134.839 88.2336 L114.931 88.2336 L114.931 84.2984 Z\" fill=\"#000000\" fill-rule=\"evenodd\" fill-opacity=\"1\" /><path clip-path=\"url(#clip020)\" d=\"M154.283 56.7523 Q150.672 56.7523 148.843 60.317 Q147.038 63.8587 147.038 70.9883 Q147.038 78.0947 148.843 81.6595 Q150.672 85.2012 154.283 85.2012 Q157.917 85.2012 159.723 81.6595 Q161.552 78.0947 161.552 70.9883 Q161.552 63.8587 159.723 60.317 Q157.917 56.7523 154.283 56.7523 M154.283 53.0486 Q160.093 53.0486 163.149 57.655 Q166.227 62.2383 166.227 70.9883 Q166.227 79.7151 163.149 84.3216 Q160.093 88.9049 154.283 88.9049 Q148.473 88.9049 145.394 84.3216 Q142.339 79.7151 142.339 70.9883 Q142.339 62.2383 145.394 57.655 Q148.473 53.0486 154.283 53.0486 Z\" fill=\"#000000\" fill-rule=\"evenodd\" fill-opacity=\"1\" /><path clip-path=\"url(#clip020)\" d=\"M184.445 56.7523 Q180.834 56.7523 179.005 60.317 Q177.2 63.8587 177.2 70.9883 Q177.2 78.0947 179.005 81.6595 Q180.834 85.2012 184.445 85.2012 Q188.079 85.2012 189.885 81.6595 Q191.713 78.0947 191.713 70.9883 Q191.713 63.8587 189.885 60.317 Q188.079 56.7523 184.445 56.7523 M184.445 53.0486 Q190.255 53.0486 193.311 57.655 Q196.389 62.2383 196.389 70.9883 Q196.389 79.7151 193.311 84.3216 Q190.255 88.9049 184.445 88.9049 Q178.635 88.9049 175.556 84.3216 Q172.501 79.7151 172.501 70.9883 Q172.501 62.2383 175.556 57.655 Q178.635 53.0486 184.445 53.0486 Z\" fill=\"#000000\" fill-rule=\"evenodd\" fill-opacity=\"1\" /><path clip-path=\"url(#clip020)\" d=\"M19.5813 869.821 L30.9821 871.142 Q32.0127 871.239 32.3348 871.4 Q32.6246 871.561 32.6246 872.076 Q32.6246 872.462 32.3992 872.688 Q32.1416 872.881 31.8517 872.881 Q31.6907 872.881 31.272 872.849 Q30.8533 872.817 30.6601 872.817 Q28.6633 872.527 27.1496 872.527 Q24.3477 872.527 22.8341 873.364 Q21.2882 874.201 20.5796 876.359 Q19.8389 878.517 19.8389 882.575 L19.8389 891.85 Q19.8389 893.976 20.2254 894.491 Q20.6119 894.974 22.4154 895.425 L38.2929 899.386 L38.2929 893.171 Q38.2929 890.852 38.003 889.467 Q37.7132 888.05 36.908 887.116 Q36.0707 886.15 34.9435 885.635 Q33.8163 885.087 31.7873 884.54 Q31.111 884.379 30.8533 884.218 Q30.5957 884.024 30.5957 883.606 Q30.5957 883.284 30.8211 883.058 Q31.0143 882.833 31.3042 882.833 L46.7308 886.601 Q47.5037 886.794 47.7936 886.987 Q48.0512 887.18 48.0512 887.567 Q48.0512 887.986 47.8258 888.211 Q47.6004 888.436 47.3427 888.436 Q47.0851 888.436 46.602 888.243 Q44.5086 887.76 43.3814 887.76 Q42.7373 887.76 42.4152 887.825 Q42.0932 887.857 41.6423 888.147 Q41.1592 888.404 40.9338 888.984 Q40.7083 889.564 40.5473 890.659 Q40.354 891.754 40.354 893.396 L40.354 899.902 L58.3571 904.411 Q59.5487 904.733 59.8708 904.733 Q60.2251 904.733 60.3539 904.572 Q60.4505 904.378 60.5149 903.863 Q60.6115 903.283 60.6115 902.414 L60.6115 892.784 Q60.6115 890.659 60.4183 888.952 Q60.2251 887.245 59.742 885.828 Q59.2589 884.379 58.7114 883.284 Q58.1639 882.189 57.1655 881.158 Q56.1349 880.127 55.2332 879.419 Q54.2992 878.678 52.7211 877.809 Q51.143 876.939 49.8548 876.327 Q48.5343 875.715 46.4087 874.781 Q45.6358 874.524 45.6358 873.912 Q45.6358 873.557 45.829 873.364 Q45.9901 873.171 46.1511 873.139 L46.3443 873.139 Q46.9562 873.332 47.2783 873.461 L61.5133 879.515 Q62.3184 879.87 62.4795 880.16 Q62.6405 880.449 62.6405 881.577 L62.6405 915.811 Q62.6405 916.584 62.6083 916.906 Q62.5761 917.196 62.4151 917.422 Q62.2218 917.647 61.8354 917.647 Q61.2234 917.647 60.9658 917.39 Q60.6759 917.132 60.6437 916.842 Q60.6115 916.552 60.6115 915.811 Q60.6115 914.201 60.5149 913.235 Q60.4183 912.269 60.2895 911.657 Q60.1284 911.013 59.6776 910.691 Q59.2267 910.336 58.8402 910.175 Q58.4215 910.014 57.4876 909.789 L22.6086 901.093 Q21.417 900.771 21.0305 900.771 Q20.6119 900.771 20.3542 901.061 Q20.0966 901.319 19.9999 902.027 Q19.8711 902.736 19.8711 903.316 Q19.8389 903.863 19.8389 905.055 Q19.8389 905.828 19.8067 906.15 Q19.7745 906.44 19.6135 906.665 Q19.4524 906.89 19.0982 906.89 Q18.1964 906.89 18.0032 906.504 Q17.7777 906.085 17.7777 904.926 L17.7777 871.625 Q17.7777 870.305 18.0676 870.015 Q18.3252 869.693 19.5813 869.821 Z\" fill=\"#000000\" fill-rule=\"evenodd\" fill-opacity=\"1\" /><path clip-path=\"url(#clip020)\" d=\"M51.9228 851.332 Q52.9147 851.332 53.6587 852.144 Q54.3801 852.933 54.3801 853.79 Q54.3801 854.579 53.9067 855.075 Q53.4107 855.548 52.7118 855.548 Q51.7875 855.548 51.021 854.759 Q50.2545 853.97 50.2545 853.046 Q50.2545 852.279 50.728 851.806 Q51.2014 851.332 51.9228 851.332 M74.1738 850.926 Q74.3542 850.926 75.0756 851.129 Q75.7745 851.332 76.8566 851.828 Q77.9162 852.302 78.9081 852.955 Q79.9 853.609 80.5989 854.691 Q81.2978 855.751 81.2978 856.968 Q81.2978 858.614 80.2156 859.696 Q79.1335 860.756 77.5104 860.756 Q76.6311 860.756 73.8131 859.696 Q65.6071 856.63 65.2689 856.517 Q63.9839 855.999 62.8567 855.999 Q62.3382 855.999 62.0226 856.112 Q61.6844 856.224 61.5717 856.45 Q61.4364 856.675 61.4139 856.81 Q61.3913 856.923 61.3913 857.149 Q61.3913 858.479 62.744 859.719 Q64.0966 860.959 67.1175 861.815 Q67.6811 861.996 67.8164 862.108 Q67.9517 862.221 67.9517 862.559 Q67.9291 863.123 67.4782 863.123 Q67.343 863.123 66.8245 862.965 Q66.2834 862.807 65.4718 862.514 Q64.6377 862.221 63.781 861.703 Q62.9018 861.184 62.1353 860.553 Q61.3688 859.899 60.8728 858.975 Q60.3768 858.05 60.3768 857.013 Q60.3768 855.323 61.4815 854.286 Q62.5636 853.226 64.1642 853.226 Q65.0435 853.226 66.599 853.835 Q68.628 854.579 69.2818 854.849 L74.1287 856.653 Q75.8872 857.306 76.4282 857.509 Q76.9468 857.69 77.578 857.848 Q78.1867 857.983 78.7503 857.983 Q79.5393 857.983 79.9 857.735 Q80.2607 857.464 80.2607 856.878 Q80.2607 855.255 78.6601 854.06 Q77.0369 852.865 74.5571 852.166 Q74.4894 852.144 74.3767 852.121 Q73.8131 851.941 73.7455 851.761 Q73.7229 851.67 73.7229 851.49 Q73.7229 850.926 74.1738 850.926 Z\" fill=\"#000000\" fill-rule=\"evenodd\" fill-opacity=\"1\" /><path clip-path=\"url(#clip020)\" d=\"M42.1748 820.105 L42.1748 802.949 L47.3946 802.949 L47.3946 820.105 L42.1748 820.105 Z\" fill=\"#000000\" fill-rule=\"evenodd\" fill-opacity=\"1\" /><path clip-path=\"url(#clip020)\" d=\"M15.1205 772.648 L15.1205 742.602 L20.5314 742.602 L20.5314 766.219 L34.5996 766.219 L34.5996 743.589 L40.0104 743.589 L40.0104 766.219 L57.2297 766.219 L57.2297 742.029 L62.6405 742.029 L62.6405 772.648 L15.1205 772.648 Z\" fill=\"#000000\" fill-rule=\"evenodd\" fill-opacity=\"1\" /><path clip-path=\"url(#clip020)\" d=\"M41.1244 702.084 L62.6405 702.084 L62.6405 707.941 L41.3154 707.941 Q36.2546 707.941 33.7402 709.914 Q31.2257 711.888 31.2257 715.834 Q31.2257 720.577 34.2494 723.314 Q37.2732 726.051 42.493 726.051 L62.6405 726.051 L62.6405 731.94 L26.9925 731.94 L26.9925 726.051 L32.5307 726.051 Q29.316 723.951 27.7246 721.118 Q26.1332 718.253 26.1332 714.529 Q26.1332 708.386 29.9526 705.235 Q33.7402 702.084 41.1244 702.084 Z\" fill=\"#000000\" fill-rule=\"evenodd\" fill-opacity=\"1\" /><path clip-path=\"url(#clip020)\" d=\"M43.3524 659.912 L46.217 659.912 L46.217 686.839 Q52.2644 686.457 55.4473 683.21 Q58.5983 679.932 58.5983 674.107 Q58.5983 670.733 57.7707 667.582 Q56.9432 664.399 55.2881 661.28 L60.8263 661.28 Q62.1631 664.431 62.8633 667.741 Q63.5635 671.052 63.5635 674.457 Q63.5635 682.987 58.5983 687.984 Q53.633 692.95 45.1666 692.95 Q36.4138 692.95 31.2894 688.239 Q26.1332 683.497 26.1332 675.476 Q26.1332 668.282 30.7801 664.113 Q35.3953 659.912 43.3524 659.912 M41.6337 665.768 Q36.8276 665.832 33.963 668.473 Q31.0984 671.083 31.0984 675.412 Q31.0984 680.314 33.8675 683.274 Q36.6366 686.202 41.6655 686.648 L41.6337 665.768 Z\" fill=\"#000000\" fill-rule=\"evenodd\" fill-opacity=\"1\" /><path clip-path=\"url(#clip020)\" d=\"M32.4671 629.643 Q31.8941 630.629 31.6395 631.807 Q31.3531 632.953 31.3531 634.353 Q31.3531 639.319 34.5996 641.992 Q37.8142 644.634 43.8617 644.634 L62.6405 644.634 L62.6405 650.522 L26.9925 650.522 L26.9925 644.634 L32.5307 644.634 Q29.2842 642.788 27.7246 639.828 Q26.1332 636.868 26.1332 632.635 Q26.1332 632.03 26.2287 631.298 Q26.2923 630.566 26.4515 629.674 L32.4671 629.643 Z\" fill=\"#000000\" fill-rule=\"evenodd\" fill-opacity=\"1\" /><path clip-path=\"url(#clip020)\" d=\"M44.4028 601.188 Q38.037 601.188 34.5359 603.83 Q31.0348 606.44 31.0348 611.182 Q31.0348 615.893 34.5359 618.534 Q38.037 621.144 44.4028 621.144 Q50.7366 621.144 54.2378 618.534 Q57.7389 615.893 57.7389 611.182 Q57.7389 606.44 54.2378 603.83 Q50.7366 601.188 44.4028 601.188 M58.2163 595.331 Q67.3193 595.331 71.7435 599.374 Q76.1995 603.416 76.1995 611.755 Q76.1995 614.842 75.722 617.58 Q75.2764 620.317 74.3216 622.895 L68.6243 622.895 Q70.0247 620.317 70.6931 617.802 Q71.3615 615.288 71.3615 612.678 Q71.3615 606.917 68.3378 604.053 Q65.3459 601.188 59.2667 601.188 L56.3703 601.188 Q59.5213 603.002 61.0809 605.835 Q62.6405 608.668 62.6405 612.614 Q62.6405 619.171 57.6434 623.181 Q52.6463 627.192 44.4028 627.192 Q36.1273 627.192 31.1303 623.181 Q26.1332 619.171 26.1332 612.614 Q26.1332 608.668 27.6928 605.835 Q29.2524 603.002 32.4034 601.188 L26.9925 601.188 L26.9925 595.331 L58.2163 595.331 Z\" fill=\"#000000\" fill-rule=\"evenodd\" fill-opacity=\"1\" /><path clip-path=\"url(#clip020)\" d=\"M65.9507 568.436 Q72.3164 570.919 74.2579 573.274 Q76.1995 575.63 76.1995 579.576 L76.1995 584.255 L71.2979 584.255 L71.2979 580.818 Q71.2979 578.399 70.152 577.062 Q69.0062 575.725 64.7412 574.102 L62.0676 573.052 L26.9925 587.47 L26.9925 581.263 L54.8743 570.123 L26.9925 558.983 L26.9925 552.777 L65.9507 568.436 Z\" fill=\"#000000\" fill-rule=\"evenodd\" fill-opacity=\"1\" /><circle clip-path=\"url(#clip022)\" cx=\"292.4\" cy=\"1384.24\" r=\"14.4\" fill=\"#009af9\" fill-rule=\"evenodd\" fill-opacity=\"1\" stroke=\"#000000\" stroke-opacity=\"1\" stroke-width=\"3.2\"/>\n",
       "<circle clip-path=\"url(#clip022)\" cx=\"474.249\" cy=\"1167.95\" r=\"14.4\" fill=\"#009af9\" fill-rule=\"evenodd\" fill-opacity=\"1\" stroke=\"#000000\" stroke-opacity=\"1\" stroke-width=\"3.2\"/>\n",
       "<circle clip-path=\"url(#clip022)\" cx=\"656.099\" cy=\"1167.66\" r=\"14.4\" fill=\"#009af9\" fill-rule=\"evenodd\" fill-opacity=\"1\" stroke=\"#000000\" stroke-opacity=\"1\" stroke-width=\"3.2\"/>\n",
       "<circle clip-path=\"url(#clip022)\" cx=\"837.949\" cy=\"951.366\" r=\"14.4\" fill=\"#009af9\" fill-rule=\"evenodd\" fill-opacity=\"1\" stroke=\"#000000\" stroke-opacity=\"1\" stroke-width=\"3.2\"/>\n",
       "<circle clip-path=\"url(#clip022)\" cx=\"1019.8\" cy=\"807.457\" r=\"14.4\" fill=\"#009af9\" fill-rule=\"evenodd\" fill-opacity=\"1\" stroke=\"#000000\" stroke-opacity=\"1\" stroke-width=\"3.2\"/>\n",
       "<circle clip-path=\"url(#clip022)\" cx=\"1201.65\" cy=\"807.119\" r=\"14.4\" fill=\"#009af9\" fill-rule=\"evenodd\" fill-opacity=\"1\" stroke=\"#000000\" stroke-opacity=\"1\" stroke-width=\"3.2\"/>\n",
       "<circle clip-path=\"url(#clip022)\" cx=\"1383.5\" cy=\"590.877\" r=\"14.4\" fill=\"#009af9\" fill-rule=\"evenodd\" fill-opacity=\"1\" stroke=\"#000000\" stroke-opacity=\"1\" stroke-width=\"3.2\"/>\n",
       "<circle clip-path=\"url(#clip022)\" cx=\"1565.35\" cy=\"590.827\" r=\"14.4\" fill=\"#009af9\" fill-rule=\"evenodd\" fill-opacity=\"1\" stroke=\"#000000\" stroke-opacity=\"1\" stroke-width=\"3.2\"/>\n",
       "<circle clip-path=\"url(#clip022)\" cx=\"1747.2\" cy=\"302.766\" r=\"14.4\" fill=\"#009af9\" fill-rule=\"evenodd\" fill-opacity=\"1\" stroke=\"#000000\" stroke-opacity=\"1\" stroke-width=\"3.2\"/>\n",
       "<circle clip-path=\"url(#clip022)\" cx=\"1929.05\" cy=\"302.41\" r=\"14.4\" fill=\"#009af9\" fill-rule=\"evenodd\" fill-opacity=\"1\" stroke=\"#000000\" stroke-opacity=\"1\" stroke-width=\"3.2\"/>\n",
       "<circle clip-path=\"url(#clip022)\" cx=\"2110.9\" cy=\"230.338\" r=\"14.4\" fill=\"#009af9\" fill-rule=\"evenodd\" fill-opacity=\"1\" stroke=\"#000000\" stroke-opacity=\"1\" stroke-width=\"3.2\"/>\n",
       "<circle clip-path=\"url(#clip022)\" cx=\"2292.75\" cy=\"86.1857\" r=\"14.4\" fill=\"#009af9\" fill-rule=\"evenodd\" fill-opacity=\"1\" stroke=\"#000000\" stroke-opacity=\"1\" stroke-width=\"3.2\"/>\n",
       "</svg>\n"
      ]
     },
     "metadata": {},
     "output_type": "display_data"
    }
   ],
   "source": [
    "scatter(real(ξ),label=\"\",xlabel=\"\\$i\\$ - tag for energy\",ylabel=\"\\$E_i\\$ - Energy\",xticks=(1:1:nev))"
   ]
  },
  {
   "cell_type": "markdown",
   "metadata": {},
   "source": [
    "### Escribimos autovectores para visualizar con Visit"
   ]
  },
  {
   "cell_type": "code",
   "execution_count": 177,
   "metadata": {},
   "outputs": [],
   "source": [
    "#=\n",
    "    Gridap.CellData.get_physical_coordinate\n",
    "    — Method\n",
    "\n",
    "    get_physical_coordinate(trian::Triangulation)\n",
    "\n",
    "    In contrast to getcellmap, the returned object:\n",
    "\n",
    "        is a CellField\n",
    "        its gradient is the identity tensor\n",
    "=#\n",
    "uₕsx=get_physical_coordinate(Ω);"
   ]
  },
  {
   "cell_type": "markdown",
   "metadata": {},
   "source": [
    "[https://arxiv.org/pdf/1910.01412v2.pdf](https://arxiv.org/pdf/1910.01412v2.pdf)"
   ]
  },
  {
   "cell_type": "code",
   "execution_count": 178,
   "metadata": {},
   "outputs": [
    {
     "data": {
      "text/plain": [
       "u₁ (generic function with 1 method)"
      ]
     },
     "metadata": {},
     "output_type": "display_data"
    }
   ],
   "source": [
    "function u₁(x,u₁₂)\n",
    "    value1=x*0.5;\n",
    "    return value1⋅u₁₂\n",
    "end"
   ]
  },
  {
   "cell_type": "code",
   "execution_count": 179,
   "metadata": {},
   "outputs": [],
   "source": [
    "for i in 1:nev\n",
    "    uₕ = uₕs[i]; # autovector asociado al autovalor 6\n",
    "    writevtk(Ω,\"images/eigenprob_01_num$(i)\",cellfields=[\"uh_real\" => real(uₕ), \"uh_imag\" => real(uₕ)]);\n",
    "end"
   ]
  },
  {
   "cell_type": "markdown",
   "metadata": {},
   "source": [
    "<!-- useful links: https://developer.mozilla.org/en-US/docs/Web/HTML/Element/video -->\n",
    "<!-- https://www.freeconvert.com/mpeg-to-mp4 -->\n",
    "\n",
    "### Mostramos salida de Autofunciones con visualizador Visit\n",
    "<video controls width=\"500\">\n",
    "  <source src=\"./images/movie.mp4\" type=\"video/mp4\"/>\n",
    "</video>"
   ]
  },
  {
   "cell_type": "markdown",
   "metadata": {},
   "source": [
    "### Ahora queremos resolver la dinámica del problema"
   ]
  },
  {
   "cell_type": "code",
   "execution_count": 180,
   "metadata": {},
   "outputs": [],
   "source": [
    "using Gridap.Arrays\n",
    "using Gridap.ReferenceFEs\n",
    "using Gridap.Algebra\n",
    "using SparseArrays\n",
    "using Gridap.FESpaces\n",
    "using Gridap.CellData"
   ]
  },
  {
   "cell_type": "code",
   "execution_count": 181,
   "metadata": {},
   "outputs": [],
   "source": [
    "save_file::String = \"./images/\";"
   ]
  },
  {
   "cell_type": "code",
   "execution_count": 182,
   "metadata": {},
   "outputs": [
    {
     "data": {
      "text/plain": [
       "100"
      ]
     },
     "metadata": {},
     "output_type": "display_data"
    }
   ],
   "source": [
    "particle = true;\n",
    "if particle\n",
    "    save_file = save_file * \"particle\"\n",
    "    T=5;            # final time for test\n",
    "    num_steps=2000; # number of time steps   \n",
    "    n_int=100;      # Intervals where data is saved\n",
    "end"
   ]
  },
  {
   "cell_type": "code",
   "execution_count": 183,
   "metadata": {},
   "outputs": [
    {
     "name": "stdout",
     "output_type": "stream",
     "text": [
      "dt/dx²=16.008004002001 dt/dx=0.2001000500250125 dt³/dx⁶=4102.150149123844\n"
     ]
    }
   ],
   "source": [
    "dt=T/(num_steps-1) # time step\n",
    "println(\"dt/dx²=$(dt*l^2) dt/dx=$(dt*l) dt³/dx⁶=$((dt*l^2)^3)\")"
   ]
  },
  {
   "cell_type": "code",
   "execution_count": 184,
   "metadata": {},
   "outputs": [],
   "source": [
    "norm_L2(u) = sqrt(real(sum(∫(u'*u) * dΩ)));"
   ]
  },
  {
   "cell_type": "code",
   "execution_count": 185,
   "metadata": {},
   "outputs": [
    {
     "data": {
      "text/plain": [
       "u_0 (generic function with 1 method)"
      ]
     },
     "metadata": {},
     "output_type": "display_data"
    }
   ],
   "source": [
    "function u_0_particle(x, par)\n",
    "    r0,xi,k,p=par\n",
    "    r=sqrt((x[1]-xi[1])^2+(x[2]-xi[2])^2)\n",
    "    kx=2π*(k[1]*(x[1]-xi[1])+k[2]*(x[2]-xi[2]))\n",
    "    if (r<r0)\n",
    "        return (r-r0)^p * (r-r0)^p * (4^(2p)) * exp(im*kx)\n",
    "    else\n",
    "        return 0.0 + 0.0*im\n",
    "    end\n",
    "end\n",
    "\n",
    "if particle\n",
    "    par_particle = (0.4, [0.25; 0.25], [-16; 16], 4)\n",
    "    u_0_particle([0.5;0.5], par_particle)\n",
    "    u_0(x) = u_0_particle(x, par_particle)\n",
    "end"
   ]
  },
  {
   "cell_type": "code",
   "execution_count": 193,
   "metadata": {},
   "outputs": [
    {
     "data": {
      "text/plain": [
       "1.0"
      ]
     },
     "metadata": {},
     "output_type": "display_data"
    }
   ],
   "source": [
    "# u_n = interpolate_everywhere(u_0,V₁)\n",
    "u_n = interpolate_everywhere(uₕs[1],V₁)\n",
    "writevtk(Ω,\"./images/ini_dat_$(lpad(0,3,'0'))\", cellfields=[\"uh_r\"=>real(u_n),\"uh_i\"=>imag(u_n)])\n",
    "norm_L2(u_n)"
   ]
  },
  {
   "cell_type": "code",
   "execution_count": 197,
   "metadata": {},
   "outputs": [],
   "source": [
    "m=1.0;ω=1.0;ħ=1.0;γ=0.1;x₁=0.0;x₂=2.0;\n",
    "p(x) = -0.5*(ħ*ħ)*(1.0/m);\n",
    "q(x) = 0.5*m*(ω*ω)*x[1]*x[1]+γ;"
   ]
  },
  {
   "cell_type": "code",
   "execution_count": 198,
   "metadata": {},
   "outputs": [],
   "source": [
    "assem=SparseMatrixAssembler(U₁,V₁);           # ensamblamos una matriz sparse con U y V\n",
    "dv=get_fe_basis(V₁);                         # escribimos v en la base de FE de V            \n",
    "du=get_trial_fe_basis(U₁);                   # escribimos u en la base de FE de U\n",
    "a₂(u,v)=∫((p*∇(v)⋅∇(u)+q*v*u)dt+im*2.0*v*u)dΩ;       # definimos forma bilineal"
   ]
  },
  {
   "cell_type": "code",
   "execution_count": 199,
   "metadata": {},
   "outputs": [],
   "source": [
    "mat_contribs=a₂(du,dv);                      # creamos una matriz de bases (contribuciones)\n",
    "data=collect_cell_matrix(U₁,V₁,mat_contribs); # recolectamos una matriz (datos)\n",
    "A=assemble_matrix(assem,data);              # creamos matriz A con contribuciones y datos"
   ]
  },
  {
   "cell_type": "code",
   "execution_count": 200,
   "metadata": {},
   "outputs": [],
   "source": [
    "t=0;  # inicializamos variable tiempo\n",
    "u_n=interpolate_everywhere(u_0,V₁)\n",
    "writevtk(Ω, save_file * \"_$(lpad(0,3,'0'))\",cellfields=[\"uh_r\" => real(u_n), \"uh_i\" => imag(u_n)])\n",
    "\n",
    "for istep in 1:num_steps\n",
    "\n",
    "  #println(\"\\n+++ Solving in step $istep of $num_steps +++\\n\")\n",
    "  b₂(v)=∫((∇(v)⋅∇(-u_n)+q*v*(-u_n))*dt+im*2*v*u_n)dΩ\n",
    "  vec_contribs = b₂(dv)\n",
    "  data = collect_cell_vector(V₁,vec_contribs)\n",
    "  b₂ = assemble_vector(assem, data)\n",
    "\n",
    "  x = A \\ b₂\n",
    "  t = t + dt\n",
    "  uh = FEFunction(U₁, x)\n",
    "\n",
    "  u_n = uh\n",
    "\n",
    "  if (istep - 1) % n_int == 0 && istep > 1\n",
    "    writevtk(Ω, save_file * \"_$(lpad(istep,3,'0'))\",cellfields=[\"uh_r\" => real(u_n), \"uh_i\" => imag(u_n)])\n",
    "  end\n",
    "\n",
    "end"
   ]
  },
  {
   "cell_type": "markdown",
   "metadata": {},
   "source": [
    "### Mostramos salida de Densidad de probabilidad con visualizador Visit\n",
    "<video controls width=\"500\">\n",
    "  <source src=\"./images/movie_density.mp4\" type=\"video/mp4\"/>\n",
    "</video>"
   ]
  }
 ],
 "metadata": {
  "kernelspec": {
   "display_name": "Julia 1.8.0",
   "language": "julia",
   "name": "julia-1.8"
  },
  "language_info": {
   "file_extension": ".jl",
   "mimetype": "application/julia",
   "name": "julia",
   "version": "1.8.0"
  },
  "orig_nbformat": 4
 },
 "nbformat": 4,
 "nbformat_minor": 2
}
